{
 "cells": [
  {
   "cell_type": "code",
   "execution_count": 1,
   "metadata": {},
   "outputs": [
    {
     "name": "stderr",
     "output_type": "stream",
     "text": [
      "Using TensorFlow backend.\n"
     ]
    }
   ],
   "source": [
    "import numpy as np\n",
    "import os\n",
    "import pickle\n",
    "from IMDBModel import IMDBModel\n",
    "from embedding import Embedding\n",
    "from keras.preprocessing import sequence\n",
    "import time\n",
    "from glove_utils import load_embedding\n",
    "from data_utils import IMDBDataset\n",
    "from pprint import pprint\n",
    "from explainers import SBE, LIMEExplainer\n",
    "from textblob import TextBlob\n",
    "from parsers import StanfordParser\n",
    "from utils import preprocess_text, get_tokens\n",
    "from collections import OrderedDict\n",
    "from copy import deepcopy\n",
    "import seaborn as sns\n",
    "import pandas as pd \n",
    "import matplotlib.pyplot as plt"
   ]
  },
  {
   "cell_type": "code",
   "execution_count": 2,
   "metadata": {},
   "outputs": [],
   "source": [
    "%load_ext autoreload\n",
    "%autoreload 2"
   ]
  },
  {
   "cell_type": "markdown",
   "metadata": {},
   "source": [
    "## Load GloVe vectors used by the model"
   ]
  },
  {
   "cell_type": "code",
   "execution_count": 3,
   "metadata": {},
   "outputs": [
    {
     "name": "stdout",
     "output_type": "stream",
     "text": [
      "Loading GLoVe...\n",
      "Loaded 400002 word vectors in 16.880470 seconds\n"
     ]
    }
   ],
   "source": [
    "# Load main vectors\n",
    "print('Loading GLoVe...')\n",
    "start_time = time.time()\n",
    "MODEL_EMBEDDING_FILENAME = 'data/glove.6B.100d.txt'\n",
    "m_word2index, m_index2word, m_index2embedding = load_embedding(MODEL_EMBEDDING_FILENAME)\n",
    "print('Loaded %s word vectors in %f seconds' % (len(m_word2index), time.time()-start_time))\n",
    "model_embedding = Embedding(m_word2index, m_index2word, m_index2embedding)"
   ]
  },
  {
   "cell_type": "markdown",
   "metadata": {},
   "source": [
    "### Load model"
   ]
  },
  {
   "cell_type": "code",
   "execution_count": 4,
   "metadata": {},
   "outputs": [
    {
     "name": "stdout",
     "output_type": "stream",
     "text": [
      "WARNING:tensorflow:From C:\\Users\\User\\Anaconda3\\lib\\site-packages\\tensorflow\\python\\framework\\op_def_library.py:263: colocate_with (from tensorflow.python.framework.ops) is deprecated and will be removed in a future version.\n",
      "Instructions for updating:\n",
      "Colocations handled automatically by placer.\n",
      "WARNING:tensorflow:From C:\\Users\\User\\Anaconda3\\lib\\site-packages\\keras\\backend\\tensorflow_backend.py:3445: calling dropout (from tensorflow.python.ops.nn_ops) with keep_prob is deprecated and will be removed in a future version.\n",
      "Instructions for updating:\n",
      "Please use `rate` instead of `keep_prob`. Rate should be set to `rate = 1 - keep_prob`.\n",
      "WARNING:tensorflow:From C:\\Users\\User\\Anaconda3\\lib\\site-packages\\tensorflow\\python\\ops\\math_ops.py:3066: to_int32 (from tensorflow.python.ops.math_ops) is deprecated and will be removed in a future version.\n",
      "Instructions for updating:\n",
      "Use tf.cast instead.\n"
     ]
    }
   ],
   "source": [
    "# Load model\n",
    "imdb_model = IMDBModel('models/lstm_model.h5', model_embedding)"
   ]
  },
  {
   "cell_type": "markdown",
   "metadata": {},
   "source": [
    "### Load IMDB data"
   ]
  },
  {
   "cell_type": "code",
   "execution_count": 5,
   "metadata": {},
   "outputs": [
    {
     "name": "stdout",
     "output_type": "stream",
     "text": [
      "Loading data...\n",
      "Data loaded.\n"
     ]
    }
   ],
   "source": [
    "# Load data\n",
    "maxlen = 200\n",
    "batch_size = 32\n",
    "print('Loading data...')\n",
    "(train_text, x_train, y_train), (test_text, x_test, y_test) = IMDBDataset.load_data()\n",
    "x_train = sequence.pad_sequences(x_train, maxlen=maxlen, padding = 'pre', truncating = 'pre')\n",
    "x_test = sequence.pad_sequences(x_test, maxlen=maxlen, padding = 'pre', truncating = 'pre')\n",
    "print('Data loaded.')\n"
   ]
  },
  {
   "cell_type": "markdown",
   "metadata": {},
   "source": [
    "## Create Explainer"
   ]
  },
  {
   "cell_type": "code",
   "execution_count": 6,
   "metadata": {},
   "outputs": [],
   "source": [
    "sbe = SBE(imdb_model, m = 1000, SIGMA = 2/5)\n",
    "lime_explainer = LIMEExplainer(imdb_model, nsamples = 1000)"
   ]
  },
  {
   "cell_type": "code",
   "execution_count": 7,
   "metadata": {},
   "outputs": [
    {
     "data": {
      "text/plain": [
       "'very well done acting and directing . this is a cross between the last don and godfather 2 . one large plus for this production is that it is claimed to be a true story of joseph bonanno . with a better music score to create mood , it could have been a rival for both godfather movies .'"
      ]
     },
     "execution_count": 7,
     "metadata": {},
     "output_type": "execute_result"
    }
   ],
   "source": [
    "positive_text = preprocess_text(test_text[8451])\n",
    "positive_text"
   ]
  },
  {
   "cell_type": "code",
   "execution_count": 8,
   "metadata": {},
   "outputs": [
    {
     "data": {
      "text/plain": [
       "0.87889206"
      ]
     },
     "execution_count": 8,
     "metadata": {},
     "output_type": "execute_result"
    }
   ],
   "source": [
    "imdb_model.predict(positive_text)"
   ]
  },
  {
   "cell_type": "code",
   "execution_count": 9,
   "metadata": {},
   "outputs": [
    {
     "data": {
      "text/plain": [
       "'when i voted my 1 for this film i noticed that 75 people voted the same out of 146 total votes . that means that half the people that voted for this film feel its truly terrible . i saw this not long ago at a film festival and i was really unimpressed by its poor execution . the cinematography is unwatchable , the sound is bad , the story is cut and pasted from many other movies , and the acting is dreadful . this movie is basically a poor rip - off of three other films . no wonder this was never released in the usa .'"
      ]
     },
     "execution_count": 9,
     "metadata": {},
     "output_type": "execute_result"
    }
   ],
   "source": [
    "negative_text =  preprocess_text(test_text[12506])\n",
    "negative_text"
   ]
  },
  {
   "cell_type": "code",
   "execution_count": 10,
   "metadata": {},
   "outputs": [
    {
     "data": {
      "text/plain": [
       "0.0016409671"
      ]
     },
     "execution_count": 10,
     "metadata": {},
     "output_type": "execute_result"
    }
   ],
   "source": [
    "imdb_model.predict(negative_text)"
   ]
  },
  {
   "cell_type": "markdown",
   "metadata": {},
   "source": [
    "## Plotting Functions"
   ]
  },
  {
   "cell_type": "code",
   "execution_count": 11,
   "metadata": {},
   "outputs": [],
   "source": [
    "def plot_importance(feature_name, ranked_tokens, tokens_ranking, values, display_count):\n",
    "    data = {feature_name : ranked_tokens[:display_count], \"importance\": values[tokens_ranking][:display_count]}\n",
    "    df = pd.DataFrame(data)\n",
    "    # plot\n",
    "    sns.set_color_codes(\"deep\")\n",
    "    ax = sns.barplot(y=df.index, x =\"importance\", data=df, orient = 'h', color=\"b\", ci = None)\n",
    "    ax.set_yticklabels(df[feature_name])\n",
    "    ax.set_ylabel(feature_name)\n",
    "    return ax"
   ]
  },
  {
   "cell_type": "code",
   "execution_count": 12,
   "metadata": {},
   "outputs": [],
   "source": [
    "def plot_sentiment(feature_name, ranked_tokens, tokens_ranking, values, display_count):\n",
    "    data = {feature_name : ranked_tokens[:display_count//2] + ranked_tokens[-display_count//2:], \n",
    "    \"sentiment\": values[tokens_ranking][:display_count//2].tolist() + values[tokens_ranking][-display_count//2:].tolist()}\n",
    "    # order from most positive to most negative for barplot\n",
    "    data[feature_name] = list(reversed(data[feature_name]))\n",
    "    data[\"sentiment\"] = list(reversed(data[\"sentiment\"]))\n",
    "    df = pd.DataFrame(data)\n",
    "    colors = ['r' if value < 0 else 'g' for value in df.sentiment]\n",
    "    # plot\n",
    "    sns.set_color_codes(\"pastel\")\n",
    "    ax = sns.barplot(y=df.index, x =\"sentiment\", data=df, orient = 'h', palette=colors, ci = None)\n",
    "    ax.set_yticklabels(df[feature_name])\n",
    "    ax.set_ylabel(feature_name)\n",
    "    return ax "
   ]
  },
  {
   "cell_type": "code",
   "execution_count": 13,
   "metadata": {},
   "outputs": [],
   "source": [
    "def save_plot(ax, fig_name, save_path = 'figures/explanations/'):\n",
    "    fig = ax.get_figure()\n",
    "    fig.savefig(save_path+fig_name, dpi = 200, bbox_inches = 'tight')"
   ]
  },
  {
   "cell_type": "markdown",
   "metadata": {},
   "source": [
    "## Word Level Explanations"
   ]
  },
  {
   "cell_type": "markdown",
   "metadata": {},
   "source": [
    "### Positive Sentiment Text"
   ]
  },
  {
   "cell_type": "code",
   "execution_count": null,
   "metadata": {
    "scrolled": false
   },
   "outputs": [],
   "source": [
    "# Importance ranking\n",
    "words_ranking , ranked_words , values  = sbe.explain_text_words(positive_text, rank_by_importance = True )\n",
    "ax = plot_importance('word', ranked_words, words_ranking, values, display_count = 10)"
   ]
  },
  {
   "cell_type": "code",
   "execution_count": 156,
   "metadata": {},
   "outputs": [],
   "source": [
    "save_plot(ax,'sbewordpositiveimportance.png')"
   ]
  },
  {
   "cell_type": "code",
   "execution_count": null,
   "metadata": {},
   "outputs": [],
   "source": [
    "# Sentiment ranking\n",
    "words_ranking , ranked_words , values  = sbe.explain_text_words(positive_text, rank_by_importance = False)\n",
    "ax = plot_sentiment('word', ranked_words, words_ranking, values, display_count = 20)"
   ]
  },
  {
   "cell_type": "code",
   "execution_count": 158,
   "metadata": {},
   "outputs": [],
   "source": [
    "save_plot(ax,'sbewordpositivesentiment.png')"
   ]
  },
  {
   "cell_type": "code",
   "execution_count": 149,
   "metadata": {},
   "outputs": [],
   "source": [
    "word_ranking, ranked_words, weights, explanation = lime_explainer.explain(positive_text, 20, return_weights= True)"
   ]
  },
  {
   "cell_type": "code",
   "execution_count": null,
   "metadata": {},
   "outputs": [],
   "source": [
    "ax = lime_explainer.plot_weights(weights,explanation)"
   ]
  },
  {
   "cell_type": "code",
   "execution_count": 153,
   "metadata": {},
   "outputs": [],
   "source": [
    "save_plot(ax, 'limewordpositive.png')"
   ]
  },
  {
   "cell_type": "markdown",
   "metadata": {},
   "source": [
    "### Negative Sentiment Text"
   ]
  },
  {
   "cell_type": "code",
   "execution_count": null,
   "metadata": {},
   "outputs": [],
   "source": [
    "# Importance ranking\n",
    "words_ranking , ranked_words , values  = sbe.explain_text_words(negative_text, rank_by_importance = True )\n",
    "ax = plot_importance('word', ranked_words, words_ranking, values, display_count = 10)"
   ]
  },
  {
   "cell_type": "code",
   "execution_count": 173,
   "metadata": {},
   "outputs": [],
   "source": [
    "save_plot(ax,'sbewordnegativeimportance.png')"
   ]
  },
  {
   "cell_type": "code",
   "execution_count": null,
   "metadata": {},
   "outputs": [],
   "source": [
    "# Sentiment ranking\n",
    "words_ranking , ranked_words , values  = sbe.explain_text_words(negative_text, rank_by_importance = False)\n",
    "ax = plot_sentiment('word', ranked_words, words_ranking, values, display_count = 20)"
   ]
  },
  {
   "cell_type": "code",
   "execution_count": 176,
   "metadata": {},
   "outputs": [],
   "source": [
    "save_plot(ax,'sbewordnegativesentiment.png')"
   ]
  },
  {
   "cell_type": "code",
   "execution_count": 186,
   "metadata": {},
   "outputs": [],
   "source": [
    "word_ranking, ranked_words, weights, explanation = lime_explainer.explain(negative_text, 20, return_weights= True)"
   ]
  },
  {
   "cell_type": "code",
   "execution_count": null,
   "metadata": {},
   "outputs": [],
   "source": [
    "ax = lime_explainer.plot_weights(weights,explanation)"
   ]
  },
  {
   "cell_type": "code",
   "execution_count": 191,
   "metadata": {},
   "outputs": [],
   "source": [
    "save_plot(ax,'limewordnegative.png')"
   ]
  },
  {
   "cell_type": "markdown",
   "metadata": {},
   "source": [
    "## Sentence Level Explanations"
   ]
  },
  {
   "cell_type": "code",
   "execution_count": 93,
   "metadata": {},
   "outputs": [],
   "source": [
    "def get_sentences(text):\n",
    "    sentences = list(map(str,TextBlob(text).sentences))\n",
    "    return sentences"
   ]
  },
  {
   "cell_type": "markdown",
   "metadata": {},
   "source": [
    "### Positive Text"
   ]
  },
  {
   "cell_type": "code",
   "execution_count": null,
   "metadata": {},
   "outputs": [],
   "source": [
    "# Importance Ranking\n",
    "sentence_ranking , ranked_sentences, values = sbe.explain_tokens(get_sentences(positive_text), rank_by_importance = True)\n",
    "ax = plot_importance('sentence', ranked_sentences, sentence_ranking, values, display_count = len(sentence_ranking))"
   ]
  },
  {
   "cell_type": "code",
   "execution_count": null,
   "metadata": {},
   "outputs": [],
   "source": [
    "# Sentiment Ranking\n",
    "sentence_ranking , ranked_sentences, values = sbe.explain_tokens(get_sentences(positive_text), rank_by_importance = False)\n",
    "ax = plot_sentiment('sentence', ranked_sentences, sentence_ranking, values, display_count = len(sentence_ranking))"
   ]
  },
  {
   "cell_type": "code",
   "execution_count": 193,
   "metadata": {},
   "outputs": [],
   "source": [
    "save_plot(ax, 'sbesentencepositivesentiment.png')"
   ]
  },
  {
   "cell_type": "markdown",
   "metadata": {},
   "source": [
    "### Negative Sentiment Text"
   ]
  },
  {
   "cell_type": "code",
   "execution_count": null,
   "metadata": {},
   "outputs": [],
   "source": [
    "# Importance ranking\n",
    "sentence_ranking , ranked_sentences, values = sbe.explain_tokens(get_sentences(negative_text), rank_by_importance = True)\n",
    "ax = plot_importance('sentence', ranked_sentences, sentence_ranking, values, display_count = len(sentence_ranking))"
   ]
  },
  {
   "cell_type": "code",
   "execution_count": null,
   "metadata": {},
   "outputs": [],
   "source": [
    "# Sentiment Ranking\n",
    "sentence_ranking , ranked_sentences, values = sbe.explain_tokens(get_sentences(negative_text), rank_by_importance = False)\n",
    "ax = plot_sentiment('sentence', ranked_sentences, sentence_ranking, values, display_count = len(sentence_ranking))"
   ]
  },
  {
   "cell_type": "code",
   "execution_count": 292,
   "metadata": {},
   "outputs": [],
   "source": [
    "save_plot(ax, 'sbesentencenegativesentiment.png')"
   ]
  },
  {
   "cell_type": "code",
   "execution_count": 253,
   "metadata": {},
   "outputs": [
    {
     "data": {
      "text/plain": [
       "0.06043263"
      ]
     },
     "execution_count": 253,
     "metadata": {},
     "output_type": "execute_result"
    }
   ],
   "source": [
    "imdb_model.predict('that means that half the people that voted for this film feel its truly terrible .')"
   ]
  },
  {
   "cell_type": "markdown",
   "metadata": {},
   "source": [
    "## Phrase Level Explanations"
   ]
  },
  {
   "cell_type": "code",
   "execution_count": 55,
   "metadata": {},
   "outputs": [],
   "source": [
    "def get_phrases(text):\n",
    "    parser = StanfordParser()\n",
    "    sentences = TextBlob(text).sentences\n",
    "    phrases = []\n",
    "    for sentence in sentences:\n",
    "        sentence = str(sentence)\n",
    "        phrases_in_sentence = parser.get_phrases(sentence, split_tags = ['S', 'SBAR','.'])\n",
    "        phrases.extend(phrases_in_sentence)\n",
    "    parser.close()\n",
    "    return phrases"
   ]
  },
  {
   "cell_type": "markdown",
   "metadata": {},
   "source": [
    "### Positive Sentiment Text"
   ]
  },
  {
   "cell_type": "code",
   "execution_count": 67,
   "metadata": {},
   "outputs": [
    {
     "name": "stdout",
     "output_type": "stream",
     "text": [
      "parse string:  (ROOT\n",
      "  (NP\n",
      "    (NP (RB very) (RB well))\n",
      "    (VP (VBN done)\n",
      "      (S\n",
      "        (VP (VBG acting)\n",
      "          (CC and)\n",
      "          (VBG directing))))\n",
      "    (. .)))\n",
      "parse string:  (ROOT\n",
      "  (S\n",
      "    (NP (DT this))\n",
      "    (VP (VBZ is)\n",
      "      (NP\n",
      "        (NP (DT a) (NN cross))\n",
      "        (PP (IN between)\n",
      "          (NP\n",
      "            (S\n",
      "              (NP (DT the) (JJ last))\n",
      "              (VP (VB don)))\n",
      "            (CC and)\n",
      "            (NP\n",
      "              (NP (NN godfather))\n",
      "              (NP (CD 2)))))))\n",
      "    (. .)))\n",
      "parse string:  (ROOT\n",
      "  (S\n",
      "    (NP\n",
      "      (NP (CD one))\n",
      "      (ADJP (JJ large)\n",
      "        (PP (CC plus)\n",
      "          (PP (IN for)\n",
      "            (NP (DT this) (NN production))))))\n",
      "    (VP (VBZ is)\n",
      "      (SBAR (IN that)\n",
      "        (S\n",
      "          (NP (PRP it))\n",
      "          (VP (VBZ is)\n",
      "            (VP (VBN claimed)\n",
      "              (S\n",
      "                (VP (TO to)\n",
      "                  (VP (VB be)\n",
      "                    (NP\n",
      "                      (NP (DT a) (JJ true) (NN story))\n",
      "                      (PP (IN of)\n",
      "                        (NP (NN joseph) (NN bonanno))))))))))))\n",
      "    (. .)))\n",
      "parse string:  (ROOT\n",
      "  (S\n",
      "    (PP (IN with)\n",
      "      (NP\n",
      "        (NP (DT a) (JJR better) (NN music) (NN score))\n",
      "        (SBAR\n",
      "          (S\n",
      "            (VP (TO to)\n",
      "              (VP (VB create)\n",
      "                (NP (NN mood))))))))\n",
      "    (, ,)\n",
      "    (NP (PRP it))\n",
      "    (VP (MD could)\n",
      "      (VP (VB have)\n",
      "        (VP (VBN been)\n",
      "          (NP\n",
      "            (NP (DT a) (NN rival))\n",
      "            (PP (IN for)\n",
      "              (NP (DT both) (NN godfather) (NNS movies)))))))\n",
      "    (. .)))\n",
      "Phrases:  ['very well done acting and directing .', 'this is a cross between ', 'the last don and godfather 2 .', 'one large plus for this production is ', 'that ', 'it is claimed ', 'to be a true story of joseph bonanno .', 'with a better music score ', 'to create mood , it could have been a rival for both godfather movies .']\n"
     ]
    }
   ],
   "source": [
    "positive_text_phrases = get_phrases(positive_text)\n",
    "print(\"Phrases: \", positive_text_phrases)"
   ]
  },
  {
   "cell_type": "code",
   "execution_count": null,
   "metadata": {},
   "outputs": [],
   "source": [
    "# Importance Ranking\n",
    "phrase_ranking , ranked_phrases, values = sbe.explain_tokens(positive_text_phrases, rank_by_importance = True)\n",
    "ax = plot_importance('phrase', ranked_phrases, phrase_ranking, values, display_count = len(phrase_ranking))"
   ]
  },
  {
   "cell_type": "code",
   "execution_count": null,
   "metadata": {},
   "outputs": [],
   "source": [
    "# Sentiment Ranking\n",
    "phrase_ranking , ranked_phrases, values = sbe.explain_tokens(positive_text_phrases, rank_by_importance = False)\n",
    "ax = plot_sentiment('phrase', ranked_phrases, phrase_ranking, values, display_count = len(phrase_ranking))"
   ]
  },
  {
   "cell_type": "markdown",
   "metadata": {},
   "source": [
    "### Negative Sentiment Text"
   ]
  },
  {
   "cell_type": "code",
   "execution_count": 71,
   "metadata": {},
   "outputs": [
    {
     "name": "stdout",
     "output_type": "stream",
     "text": [
      "parse string:  (ROOT\n",
      "  (S\n",
      "    (SBAR\n",
      "      (WHADVP (WRB when))\n",
      "      (S\n",
      "        (NP (FW i))\n",
      "        (VP (VBD voted)\n",
      "          (NP (PRP$ my))\n",
      "          (NP\n",
      "            (NP (CD 1))\n",
      "            (PP (IN for)\n",
      "              (NP (DT this) (NN film)))))))\n",
      "    (NP (FW i))\n",
      "    (VP (VBD noticed)\n",
      "      (SBAR (IN that)\n",
      "        (S\n",
      "          (NP (CD 75) (NNS people))\n",
      "          (VP (VBD voted)\n",
      "            (NP (DT the) (JJ same))\n",
      "            (PP (IN out))\n",
      "            (PP (IN of)\n",
      "              (NP (CD 146) (JJ total) (NNS votes)))))))\n",
      "    (. .)))\n",
      "parse string:  (ROOT\n",
      "  (S\n",
      "    (NP (DT that))\n",
      "    (VP (VBZ means)\n",
      "      (SBAR (IN that)\n",
      "        (S\n",
      "          (NP\n",
      "            (NP (PDT half) (DT the) (NNS people))\n",
      "            (SBAR\n",
      "              (WHNP (WDT that))\n",
      "              (S\n",
      "                (VP (VBD voted)\n",
      "                  (PP (IN for)\n",
      "                    (NP (DT this) (NN film)))))))\n",
      "          (VP (VB feel)\n",
      "            (S\n",
      "              (NP (PRP$ its))\n",
      "              (ADJP (RB truly) (JJ terrible)))))))\n",
      "    (. .)))\n",
      "parse string:  (ROOT\n",
      "  (S\n",
      "    (NP (LS i))\n",
      "    (VP (VBD saw)\n",
      "      (SBAR\n",
      "        (S\n",
      "          (NP (DT this))\n",
      "          (ADVP\n",
      "            (ADVP (RB not) (JJ long) (RB ago))\n",
      "            (PP (IN at)\n",
      "              (NP\n",
      "                (NP (DT a) (NN film) (NN festival))\n",
      "                (CC and)\n",
      "                (NP (FW i)))))\n",
      "          (VP (VBD was)\n",
      "            (ADJP (RB really) (JJ unimpressed))\n",
      "            (PP (IN by)\n",
      "              (NP (PRP$ its) (JJ poor) (NN execution)))))))\n",
      "    (. .)))\n",
      "parse string:  (ROOT\n",
      "  (S\n",
      "    (S\n",
      "      (NP (DT the) (NN cinematography))\n",
      "      (VP (VBZ is)\n",
      "        (ADJP (JJ unwatchable))))\n",
      "    (, ,)\n",
      "    (S\n",
      "      (NP (DT the) (NN sound))\n",
      "      (VP (VBZ is)\n",
      "        (ADJP (JJ bad))))\n",
      "    (, ,)\n",
      "    (S\n",
      "      (NP (DT the) (NN story))\n",
      "      (VP (VBZ is)\n",
      "        (VP (VBN cut)\n",
      "          (CC and)\n",
      "          (VBN pasted)\n",
      "          (PP (IN from)\n",
      "            (NP (JJ many) (JJ other) (NNS movies))))))\n",
      "    (, ,)\n",
      "    (CC and)\n",
      "    (S\n",
      "      (NP (DT the) (NN acting))\n",
      "      (VP (VBZ is)\n",
      "        (ADJP (JJ dreadful))))\n",
      "    (. .)))\n",
      "parse string:  (ROOT\n",
      "  (S\n",
      "    (NP (DT this) (NN movie))\n",
      "    (VP (VBZ is)\n",
      "      (ADVP (RB basically))\n",
      "      (NP\n",
      "        (NP (DT a) (JJ poor) (NN rip))\n",
      "        (: -)\n",
      "        (ADVP (IN off)\n",
      "          (PP (IN of)\n",
      "            (NP (CD three) (JJ other) (NNS films))))))\n",
      "    (. .)))\n",
      "parse string:  (ROOT\n",
      "  (S\n",
      "    (NP\n",
      "      (NP (DT no) (NN wonder))\n",
      "      (NP (DT this)))\n",
      "    (VP (VBD was)\n",
      "      (ADVP (RB never))\n",
      "      (VP (VBN released)\n",
      "        (PP (IN in)\n",
      "          (NP (DT the) (NN usa)))))\n",
      "    (. .)))\n",
      "Phrases:  ['when ', 'i voted my 1 for this film i noticed ', 'that ', '75 people voted the same out of 146 total votes .', 'that means ', 'that ', 'half the people ', 'that ', 'voted for this film feel ', 'its truly terrible .', 'i saw ', 'this not long ago at a film festival and i was really unimpressed by its poor execution .', 'the cinematography is unwatchable , ', 'the sound is bad , ', 'the story is cut and pasted from many other movies , and ', 'the acting is dreadful .', 'this movie is basically a poor rip - off of three other films .', 'no wonder this was never released in the usa .']\n"
     ]
    }
   ],
   "source": [
    "negative_text_phrases = get_phrases(negative_text)\n",
    "print(\"Phrases: \", negative_text_phrases)"
   ]
  },
  {
   "cell_type": "code",
   "execution_count": null,
   "metadata": {},
   "outputs": [],
   "source": [
    "# Importance Ranking\n",
    "phrase_ranking , ranked_phrases, values = sbe.explain_tokens(negative_text_phrases, rank_by_importance = True)\n",
    "ax = plot_importance('phrase', ranked_phrases, phrase_ranking, values, display_count = len(phrase_ranking))"
   ]
  },
  {
   "cell_type": "code",
   "execution_count": null,
   "metadata": {},
   "outputs": [],
   "source": [
    "# Sentiment Ranking\n",
    "phrase_ranking , ranked_phrases, values = sbe.explain_tokens(negative_text_phrases, rank_by_importance = False)\n",
    "ax = plot_sentiment('phrase', ranked_phrases, phrase_ranking, values, display_count = len(phrase_ranking))"
   ]
  },
  {
   "cell_type": "code",
   "execution_count": null,
   "metadata": {},
   "outputs": [],
   "source": [
    "imdb_model.predict(\"the cinematography is unwatchable.\")"
   ]
  },
  {
   "cell_type": "markdown",
   "metadata": {},
   "source": [
    "## Compare SBE with LIME using pseudo-adversarial example generation as proxy"
   ]
  },
  {
   "cell_type": "code",
   "execution_count": 14,
   "metadata": {},
   "outputs": [],
   "source": [
    "# predicted probabilities\n",
    "p_hat = imdb_model.model.predict(x_test, batch_size = 32).flatten()\n",
    "# predicted_ classes\n",
    "y_hat = np.where(p_hat >= 0.5, 1, 0)\n",
    "# indexes where the predictions were wrong\n",
    "wrong_indexes = np.where(y_hat != y_test)[0]\n",
    "# indexes where the prediction were correct\n",
    "correct_indexes = np.where(y_hat == y_test)[0]"
   ]
  },
  {
   "cell_type": "code",
   "execution_count": 15,
   "metadata": {},
   "outputs": [],
   "source": [
    "def get_success_rate(adv_dists):\n",
    "    adv_dists = np.array(adv_dists)\n",
    "    successful_indexes = np.where(adv_dists>0)[0]\n",
    "    success_rate = len(successful_indexes) / len(adv_dists)\n",
    "    return success_rate\n",
    "\n",
    "def get_success_rate_at_threshold(adv_dists, threshold):\n",
    "    adv_dists = np.array(adv_dists)\n",
    "    successful_indexes = np.where((adv_dists>0) & (adv_dists <= threshold))[0]\n",
    "    success_rate = len(successful_indexes) / len(adv_dists)\n",
    "    return success_rate\n",
    "\n",
    "def get_success_rates_at_thresholds(adv_dists, thresholds):\n",
    "    success_rates = dict()\n",
    "    for threshold in thresholds:\n",
    "        success_rate_at_threshold = get_success_rate_at_threshold(adv_dists,threshold)\n",
    "        success_rates[threshold] = success_rate_at_threshold\n",
    "    return success_rates"
   ]
  },
  {
   "cell_type": "code",
   "execution_count": 16,
   "metadata": {},
   "outputs": [],
   "source": [
    "MAX_DIST = 0.3  # not more than 30% of words should be removed\n",
    "def create_adversary(model, tokens, token_ranking, y):\n",
    "    '''\n",
    "    Generate a pseudo-adversarial example by iteratively removing the word tokens\n",
    "    that contributed the most to class y. These are given by token_ranking.\n",
    "    '''\n",
    "    max_perturbation_size = int(MAX_DIST*len(tokens))\n",
    "    for i in range(max_perturbation_size):\n",
    "        kept_positions = sorted(token_ranking[i+1:])\n",
    "        adv_tokens = np.array(tokens)[kept_positions].tolist()\n",
    "        adv_text = ' '.join(adv_tokens)\n",
    "        if model.predict_class(adv_text) !=y :\n",
    "            print(\"Attack succeeded by dropping %d words\" % (i+1))\n",
    "            removed_tokens = [tokens[j]  for j in token_ranking[:i+1]]\n",
    "            return adv_text, i+1, removed_tokens\n",
    "    print(\"Attack failed\")\n",
    "    return ' '.join(tokens), 0, []\n",
    "        "
   ]
  },
  {
   "cell_type": "code",
   "execution_count": null,
   "metadata": {},
   "outputs": [],
   "source": [
    "np.random.seed(23)\n",
    "sample_size = 500\n",
    "sampled_indexes = np.random.choice(correct_indexes, sample_size, replace = False)\n",
    "sbe_adv_dists = []\n",
    "lime_adv_dists = []\n",
    "for (i,index) in enumerate(sampled_indexes):\n",
    "    print(\"#\",i,\" index = \", index, flush = True)\n",
    "    text = imdb_model.preprocess_text(test_text[index])\n",
    "    y = imdb_model.predict_class(text)\n",
    "    tokens = get_tokens(text)\n",
    "    print(\"Original prediction = \", imdb_model.predict(text))\n",
    "    print()\n",
    "    print(text)\n",
    "    print()\n",
    "    ########## SBE explanation\n",
    "    print(\"Getting SBE explanation...\")\n",
    "    words_ranking, ranked_words, values = sbe.explain_tokens(tokens, rank_by_importance = False)\n",
    "    if y == 1:\n",
    "        words_ranking = np.flip(words_ranking)\n",
    "        ranked_words = list(reversed(ranked_words))\n",
    "    adv_text , perturbation_size, removed_words = create_adversary(imdb_model, tokens, words_ranking, y)\n",
    "    print(\"Perturbation size = \", perturbation_size, ' out of  ', len(tokens), ' words.')\n",
    "    sbe_adv_dist = perturbation_size / len(tokens)\n",
    "    print(\"SBE adversarial distance = \", sbe_adv_dist)\n",
    "    sbe_adv_dists.append(sbe_adv_dist)\n",
    "    print(\"Removed words: \", removed_words)\n",
    "    print(\"New prediction = \", imdb_model.predict(adv_text))    \n",
    "    \n",
    "    ########### LIME explanation\n",
    "    print(\"Getting LIME explanation...\")\n",
    "    _, _ , weights, _ = lime_explainer.explain(text,len(tokens), return_weights= True)\n",
    "    # order weights from smallest to largest (most negative to most positive) instead of by absolute value\n",
    "    weights =  sorted(weights.items(),key = lambda x: x[1]) \n",
    "    words_ranking = [word for (word,weight) in weights]\n",
    "    ranked_words = [tokens[j] for j in words_ranking]\n",
    "    if y == 1:\n",
    "        words_ranking = np.flip(words_ranking)\n",
    "        ranked_words = list(reversed(ranked_words))\n",
    "    adv_text , perturbation_size, removed_words = create_adversary(imdb_model, tokens, words_ranking, y)\n",
    "    print(\"LIME Perturbation size = \", perturbation_size, ' out of  ', len(tokens), ' words.')\n",
    "    lime_adv_dist = perturbation_size / len(tokens)\n",
    "    print(\"LIME adversarial distance = \", lime_adv_dist)\n",
    "    lime_adv_dists.append(lime_adv_dist)\n",
    "    print(\"Removed words: \", removed_words)\n",
    "    print(\"New prediction = \", imdb_model.predict(adv_text))   \n",
    "    \n",
    "    \n",
    "    ### Monitor current success rates\n",
    "    if i % 20 == 0 :\n",
    "        thresholds = np.arange(0.05, MAX_DIST+0.05, 0.05)\n",
    "        current_sbe_success_rates = get_success_rates_at_thresholds(sbe_adv_dists,thresholds)\n",
    "        print(\"Current SBE success rates: \")\n",
    "        print(current_sbe_success_rates)\n",
    "        current_lime_success_rates = get_success_rates_at_thresholds(lime_adv_dists,thresholds)\n",
    "        print(\"Current LIME success rates: \")\n",
    "        print(current_lime_success_rates)\n",
    "    \n",
    "    print(80*'-')\n",
    "    \n",
    "    \n",
    "    "
   ]
  },
  {
   "cell_type": "markdown",
   "metadata": {},
   "source": [
    "### Save Results"
   ]
  },
  {
   "cell_type": "code",
   "execution_count": 19,
   "metadata": {},
   "outputs": [],
   "source": [
    "experiment_handle = 'sbevslime'\n",
    "dir_name = 'results/'"
   ]
  },
  {
   "cell_type": "code",
   "execution_count": null,
   "metadata": {},
   "outputs": [],
   "source": [
    "# Create directory if it does not exits\n",
    "if not os.path.exists(dir_name):\n",
    "    print(\"Created directory\")\n",
    "    os.mkdir(dir_name)\n",
    "# Pickle attack results\n",
    "f = open(dir_name + experiment_handle+'.pickle', 'wb')\n",
    "pickle.dump((sbe_adv_dists,lime_adv_dists),f)\n",
    "f.close()"
   ]
  },
  {
   "cell_type": "markdown",
   "metadata": {},
   "source": [
    "### Load Results"
   ]
  },
  {
   "cell_type": "code",
   "execution_count": 20,
   "metadata": {},
   "outputs": [],
   "source": [
    "f = open(dir_name + experiment_handle+'.pickle', 'rb')\n",
    "(sbe_adv_dists, lime_adv_dists) = pickle.load(f)\n",
    "f.close()"
   ]
  },
  {
   "cell_type": "markdown",
   "metadata": {},
   "source": [
    "### Visualize Results"
   ]
  },
  {
   "cell_type": "code",
   "execution_count": 21,
   "metadata": {},
   "outputs": [
    {
     "name": "stdout",
     "output_type": "stream",
     "text": [
      "SBE success rate: \n",
      "0.956\n",
      "LIME success rate: \n",
      "0.84\n"
     ]
    }
   ],
   "source": [
    "sbe_success_rate = get_success_rate(sbe_adv_dists)\n",
    "print(\"SBE success rate: \")\n",
    "print(sbe_success_rate)\n",
    "print(\"LIME success rate: \")\n",
    "lime_success_rate = get_success_rate(lime_adv_dists)\n",
    "print(lime_success_rate)"
   ]
  },
  {
   "cell_type": "code",
   "execution_count": 22,
   "metadata": {},
   "outputs": [
    {
     "name": "stdout",
     "output_type": "stream",
     "text": [
      "{0.05: 0.614, 0.1: 0.796, 0.15000000000000002: 0.864, 0.2: 0.916, 0.25: 0.938, 0.3: 0.956}\n",
      "{0.05: 0.484, 0.1: 0.642, 0.15000000000000002: 0.734, 0.2: 0.78, 0.25: 0.818, 0.3: 0.84}\n"
     ]
    }
   ],
   "source": [
    "thresholds = np.arange(0.05, MAX_DIST+0.05, 0.05)\n",
    "sbe_success_rates = get_success_rates_at_thresholds(sbe_adv_dists,thresholds)\n",
    "print(sbe_success_rates)\n",
    "lime_success_rates = get_success_rates_at_thresholds(lime_adv_dists,thresholds)\n",
    "print(lime_success_rates)"
   ]
  },
  {
   "cell_type": "code",
   "execution_count": 23,
   "metadata": {},
   "outputs": [
    {
     "data": {
      "image/png": "[encoded data removed]",
      "text/plain": [
       "<Figure size 432x288 with 1 Axes>"
      ]
     },
     "metadata": {
      "needs_background": "light"
     },
     "output_type": "display_data"
    }
   ],
   "source": [
    "# Plot success rates\n",
    "import matplotlib.pyplot as plt\n",
    "import matplotlib.ticker as mticker\n",
    "from matplotlib.ticker import PercentFormatter\n",
    "plt.xlabel('size of adversarial example')\n",
    "plt.ylabel('success rate')\n",
    "plt.ylim((0,1.1))\n",
    "plt.plot(sbe_success_rates.keys(), sbe_success_rates.values(), marker='o', label = 'SBE')\n",
    "plt.plot(lime_success_rates.keys(), lime_success_rates.values(), marker='o', label = 'LIME')\n",
    "plt.gca().yaxis.set_major_formatter(PercentFormatter(1))\n",
    "plt.gca().xaxis.set_major_formatter(PercentFormatter(1))\n",
    "plt.legend(loc='lower right')\n",
    "if not os.path.exists('figures/explanations/'):\n",
    "    os.mkdir('figures/explanations/')\n",
    "plt.savefig('figures/explanations/SBEvsLIME.png', dpi=300)\n",
    "plt.show()"
   ]
  }
 ],
 "metadata": {
  "kernelspec": {
   "display_name": "Python 3",
   "language": "python",
   "name": "python3"
  },
  "language_info": {
   "codemirror_mode": {
    "name": "ipython",
    "version": 3
   },
   "file_extension": ".py",
   "mimetype": "text/x-python",
   "name": "python",
   "nbconvert_exporter": "python",
   "pygments_lexer": "ipython3",
   "version": "3.7.1"
  }
 },
 "nbformat": 4,
 "nbformat_minor": 2
}
