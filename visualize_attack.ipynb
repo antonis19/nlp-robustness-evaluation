{
 "cells": [
  {
   "cell_type": "code",
   "execution_count": 1,
   "metadata": {},
   "outputs": [
    {
     "name": "stderr",
     "output_type": "stream",
     "text": [
      "Using TensorFlow backend.\n"
     ]
    }
   ],
   "source": [
    "import numpy as np\n",
    "import os\n",
    "import pickle\n",
    "from IMDBModel import IMDBModel\n",
    "from embedding import Embedding\n",
    "from keras.preprocessing import sequence\n",
    "import time\n",
    "from glove_utils import load_embedding\n",
    "from data_utils import IMDBDataset\n",
    "from pprint import pprint\n",
    "from attacker import Attacker\n",
    "from explainers import SBE, LIMEExplainer\n",
    "from pos_taggers import TextBlobTagger, SpacyTagger\n",
    "from display_utils import html_render, display_html\n",
    "from display_utils import AttackResult\n",
    "import utils"
   ]
  },
  {
   "cell_type": "code",
   "execution_count": 2,
   "metadata": {},
   "outputs": [],
   "source": [
    "%load_ext autoreload\n",
    "%autoreload 2"
   ]
  },
  {
   "cell_type": "markdown",
   "metadata": {},
   "source": [
    "### Load IMDB data"
   ]
  },
  {
   "cell_type": "code",
   "execution_count": 3,
   "metadata": {},
   "outputs": [
    {
     "name": "stdout",
     "output_type": "stream",
     "text": [
      "Loading data...\n",
      "Data loaded.\n"
     ]
    }
   ],
   "source": [
    "# Load data\n",
    "maxlen = 200\n",
    "batch_size = 32\n",
    "print('Loading data...')\n",
    "(train_text, x_train, y_train), (test_text, x_test, y_test) = IMDBDataset.load_data()\n",
    "x_train = sequence.pad_sequences(x_train, maxlen=maxlen, padding = 'pre', truncating = 'pre')\n",
    "x_test = sequence.pad_sequences(x_test, maxlen=maxlen, padding = 'pre', truncating = 'pre')\n",
    "print('Data loaded.')\n"
   ]
  },
  {
   "cell_type": "code",
   "execution_count": 4,
   "metadata": {},
   "outputs": [],
   "source": [
    "results_path = 'results/'"
   ]
  },
  {
   "cell_type": "code",
   "execution_count": 5,
   "metadata": {},
   "outputs": [],
   "source": [
    "sbe_results_path = results_path + 'fasttext_threshold_0.5_sbe.pickle'\n",
    "lime_results_path = results_path +  'fasttext_threshold_0.5_lime.pickle'\n",
    "none_results_path = results_path + 'fasttext_threshold_0.5_none.pickle'\n",
    "random_results_path = results_path + 'fasttext_threshold_0.5_random.pickle'"
   ]
  },
  {
   "cell_type": "code",
   "execution_count": 6,
   "metadata": {},
   "outputs": [],
   "source": [
    "sbe_results_data = pickle.load(open(sbe_results_path, 'rb'))\n",
    "lime_results_data = pickle.load(open(lime_results_path, 'rb'))\n",
    "none_results_data = pickle.load(open(none_results_path, 'rb'))\n",
    "random_results_data = pickle.load(open(random_results_path, 'rb'))"
   ]
  },
  {
   "cell_type": "code",
   "execution_count": 7,
   "metadata": {},
   "outputs": [],
   "source": [
    "sbe_attack_result = AttackResult(sbe_results_data)\n",
    "lime_attack_result = AttackResult(lime_results_data)\n",
    "none_attack_result = AttackResult(none_results_data)\n",
    "random_attack_result = AttackResult(random_results_data)"
   ]
  },
  {
   "cell_type": "code",
   "execution_count": 8,
   "metadata": {},
   "outputs": [
    {
     "name": "stdout",
     "output_type": "stream",
     "text": [
      "Using SBE as explainer: success_rate = 0.312000 , avg_nwords_changed = 0.062518\n",
      "Using LIME as explainer: success_rate = 0.282000 , avg_nwords_changed = 0.059533\n",
      "Using no explainer: success_rate = 0.552000 , avg_nwords_changed = 0.109432\n",
      "Using random selection of words to perturb: success_rate = 0.036000 , avg_nwords_changed = 0.059227\n"
     ]
    }
   ],
   "source": [
    "##### SBE\n",
    "print(\"Using SBE as explainer: success_rate = %f , avg_nwords_changed = %f\" % \\\n",
    "    (sbe_attack_result.get_success_rate(), sbe_attack_result.get_modification_percentage()))\n",
    "\n",
    "##### LIME\n",
    "print(\"Using LIME as explainer: success_rate = %f , avg_nwords_changed = %f\" % \\\n",
    "    (lime_attack_result.get_success_rate(), lime_attack_result.get_modification_percentage()))\n",
    "\n",
    "##### Using No explainer\n",
    "print(\"Using no explainer: success_rate = %f , avg_nwords_changed = %f\" % \\\n",
    "    (none_attack_result.get_success_rate(), none_attack_result.get_modification_percentage()))\n",
    "\n",
    "#### Using random selection of words to perturb\n",
    "print(\"Using random selection of words to perturb: success_rate = %f , avg_nwords_changed = %f\" % \\\n",
    "    (random_attack_result.get_success_rate(), random_attack_result.get_modification_percentage()))"
   ]
  },
  {
   "cell_type": "code",
   "execution_count": 21,
   "metadata": {},
   "outputs": [
    {
     "name": "stdout",
     "output_type": "stream",
     "text": [
      "#0   index = 6488\n",
      "ATTACK FAILED\n",
      "--------------------------------------------------\n",
      "#1   index = 10198\n",
      "ATTACK FAILED\n",
      "--------------------------------------------------\n",
      "#2   index = 18059\n",
      "ATTACK FAILED\n",
      "--------------------------------------------------\n",
      "#3   index = 4677\n",
      "ATTACK FAILED\n",
      "--------------------------------------------------\n",
      "#4   index = 14570\n",
      "ATTACK FAILED\n",
      "--------------------------------------------------\n",
      "#5   index = 15129\n",
      "ATTACK FAILED\n",
      "--------------------------------------------------\n",
      "#6   index = 16713\n",
      "ATTACK FAILED\n",
      "--------------------------------------------------\n",
      "#7   index = 2769\n",
      "ATTACK FAILED\n",
      "--------------------------------------------------\n",
      "#8   index = 24147\n",
      "ATTACK FAILED\n",
      "--------------------------------------------------\n",
      "#9   index = 14944\n",
      "ATTACK SUCCEEDED\n",
      "Original prediction: 0.008080\n"
     ]
    },
    {
     "data": {
      "text/html": [
       ", although im sure a sadomasochist would get a kick out of it . this film had nothing ; no acting , <b style='color:red'>terrible</b> music , <b style='color:red'>awful</b> script - only the power to suck any happiness from your soul . you may be wondering by now why or even how i managed to sit through the full hour and a half of <b style='color:red'>sheer</b> inanity , and it is <b style='color:red'>honestly</b> a difficult concept for even myself . firstly , i had to pace up and down as the film progressed as i found it <b style='color:red'>extremely</b> hard to get comfortable . secondly , i only made it without gnawing off my own arm in order to have something to beat myself to death with by phoning friends for moral support when the plot became particularly slow . the problem was it became a matter of pride for me to finish it after the opening thirty minutes , and that was a fatal error on my behalf . i normally like films to <b style='color:red'>leave</b> you with something by the end , but all this did was take . . . . . for the sake of your sanity do not watch this film ."
      ],
      "text/plain": [
       "<IPython.core.display.HTML object>"
      ]
     },
     "metadata": {},
     "output_type": "display_data"
    },
    {
     "name": "stdout",
     "output_type": "stream",
     "text": [
      "\n",
      "New prediction: 0.602268\n"
     ]
    },
    {
     "data": {
      "text/html": [
       ", although im sure a sadomasochist would get a kick out of it . this film had nothing ; no acting , <b style='color:blue'>fearsome</b> music , <b style='color:blue'>fearsome</b> script - only the power to suck any happiness from your soul . you may be wondering by now why or even how i managed to sit through the full hour and a half of <b style='color:blue'>pure</b> inanity , and it is <b style='color:blue'>candidly</b> a difficult concept for even myself . firstly , i had to pace up and down as the film progressed as i found it <b style='color:blue'>immensely</b> hard to get comfortable . secondly , i only made it without gnawing off my own arm in order to have something to beat myself to death with by phoning friends for moral support when the plot became particularly slow . the problem was it became a matter of pride for me to finish it after the opening thirty minutes , and that was a fatal error on my behalf . i normally like films to <b style='color:blue'>walkout</b> you with something by the end , but all this did was take . . . . . for the sake of your sanity do not watch this film ."
      ],
      "text/plain": [
       "<IPython.core.display.HTML object>"
      ]
     },
     "metadata": {},
     "output_type": "display_data"
    },
    {
     "name": "stdout",
     "output_type": "stream",
     "text": [
      "--------------------------------------------------\n",
      "#10   index = 16582\n",
      "ATTACK SUCCEEDED\n",
      "Original prediction: 0.007944\n"
     ]
    },
    {
     "data": {
      "text/html": [
       ". the plot isnt <b style='color:red'>clear</b> on this , and they inter - splice these scenes where he is seeing a shrink about his problem . the lead girl gets <b style='color:red'>pregnant</b> while still a virgin , with an <b style='color:red'>incredibly</b> creepy scene of her father giving her a gynecological exam to prove her hymen is still intact . . . . eeeewwwwww . her sister ( played by a washed up and looking much worse for wear denise crosby ) concludes that this is a sign from heaven . praise be ! well , the demon baby takes moms body for a joy ride and picks off , in order , a truck driver , her friends boyfriend and her friend , all being watched by an ex - military <b style='color:red'>priest</b> whose mission is to kill the baby when it is born . we discover that asmodeus is actually a catholic cardinal who is running the whole thing . the ending is pretty much <b style='color:red'>incomprehensible</b> , and if you could make it that far straight through , you have a stronger <b style='color:red'>stomach</b> than i did . ( i paused the film a couple of times , it was so <b style='color:red'>awful</b> . )"
      ],
      "text/plain": [
       "<IPython.core.display.HTML object>"
      ]
     },
     "metadata": {},
     "output_type": "display_data"
    },
    {
     "name": "stdout",
     "output_type": "stream",
     "text": [
      "\n",
      "New prediction: 0.518907\n"
     ]
    },
    {
     "data": {
      "text/html": [
       ". the plot isnt <b style='color:blue'>lucid</b> on this , and they inter - splice these scenes where he is seeing a shrink about his problem . the lead girl gets <b style='color:blue'>expectant</b> while still a virgin , with an <b style='color:blue'>immensely</b> creepy scene of her father giving her a gynecological exam to prove her hymen is still intact . . . . eeeewwwwww . her sister ( played by a washed up and looking much worse for wear denise crosby ) concludes that this is a sign from heaven . praise be ! well , the demon baby takes moms body for a joy ride and picks off , in order , a truck driver , her friends boyfriend and her friend , all being watched by an ex - military <b style='color:blue'>orator</b> whose mission is to kill the baby when it is born . we discover that asmodeus is actually a catholic cardinal who is running the whole thing . the ending is pretty much <b style='color:blue'>impenetrable</b> , and if you could make it that far straight through , you have a stronger <b style='color:blue'>tummy</b> than i did . ( i paused the film a couple of times , it was so <b style='color:blue'>fearsome</b> . )"
      ],
      "text/plain": [
       "<IPython.core.display.HTML object>"
      ]
     },
     "metadata": {},
     "output_type": "display_data"
    },
    {
     "name": "stdout",
     "output_type": "stream",
     "text": [
      "--------------------------------------------------\n",
      "#11   index = 14167\n",
      "ATTACK FAILED\n",
      "--------------------------------------------------\n",
      "#12   index = 12293\n",
      "ATTACK FAILED\n",
      "--------------------------------------------------\n",
      "#13   index = 18299\n",
      "ATTACK FAILED\n",
      "--------------------------------------------------\n",
      "#14   index = 6206\n",
      "ATTACK FAILED\n",
      "--------------------------------------------------\n",
      "#15   index = 1948\n",
      "ATTACK FAILED\n",
      "--------------------------------------------------\n",
      "#16   index = 9360\n",
      "ATTACK FAILED\n",
      "--------------------------------------------------\n",
      "#17   index = 2803\n",
      "ATTACK FAILED\n",
      "--------------------------------------------------\n",
      "#18   index = 1267\n",
      "ATTACK FAILED\n",
      "--------------------------------------------------\n",
      "#19   index = 12820\n",
      "ATTACK FAILED\n",
      "--------------------------------------------------\n",
      "#20   index = 10153\n",
      "ATTACK SUCCEEDED\n",
      "Original prediction: 0.976192\n"
     ]
    },
    {
     "data": {
      "text/html": [
       "cant believe it . . . . after all these years finally tracked this down . . it was <b style='color:red'>meant</b> to be named the great pretender at production stage . i was living in oz at time and through a friend was looking after one of the house locations through filming . . . . it was me that showed these guys how to speak scottish and after all this time , i only realise now one was russell crowe ! ! ! it has taken me all these years to track this down , was even unsure if it ever went to screen as i left oz the following month after wrap up party . at that time russell crowe was not the demanded actor he is now and i had no idea it was him until i saw the previous comment then thought back to the days during filming . . . . . <b style='color:red'>amazing</b> . . . truly delighted with myself now ! ! !"
      ],
      "text/plain": [
       "<IPython.core.display.HTML object>"
      ]
     },
     "metadata": {},
     "output_type": "display_data"
    },
    {
     "name": "stdout",
     "output_type": "stream",
     "text": [
      "\n",
      "New prediction: 0.424373\n"
     ]
    },
    {
     "data": {
      "text/html": [
       "cant believe it . . . . after all these years finally tracked this down . . it was <b style='color:blue'>intentioned</b> to be named the great pretender at production stage . i was living in oz at time and through a friend was looking after one of the house locations through filming . . . . it was me that showed these guys how to speak scottish and after all this time , i only realise now one was russell crowe ! ! ! it has taken me all these years to track this down , was even unsure if it ever went to screen as i left oz the following month after wrap up party . at that time russell crowe was not the demanded actor he is now and i had no idea it was him until i saw the previous comment then thought back to the days during filming . . . . . <b style='color:blue'>staggering</b> . . . truly delighted with myself now ! ! !"
      ],
      "text/plain": [
       "<IPython.core.display.HTML object>"
      ]
     },
     "metadata": {},
     "output_type": "display_data"
    },
    {
     "name": "stdout",
     "output_type": "stream",
     "text": [
      "--------------------------------------------------\n",
      "#21   index = 23856\n",
      "ATTACK FAILED\n",
      "--------------------------------------------------\n",
      "#22   index = 20050\n",
      "ATTACK FAILED\n",
      "--------------------------------------------------\n",
      "#23   index = 16027\n",
      "ATTACK SUCCEEDED\n",
      "Original prediction: 0.007446\n"
     ]
    },
    {
     "data": {
      "text/html": [
       "a ridiculous movie , a <b style='color:red'>terrible</b> editing job , <b style='color:red'>worst</b> screenplay , <b style='color:red'>ridiculous</b> acting , a story that is completely ununderstandable . . . if god was going to decide if movies should continue to be done , judging by this one , the entire world movie industry would now be dead . . . a wonderful movie to show that cinema should not be done by people who think they can make movies . i am still wondering who are those two gipsy girls who show up in the movie for over half an hour , and are never introduced to us . . ."
      ],
      "text/plain": [
       "<IPython.core.display.HTML object>"
      ]
     },
     "metadata": {},
     "output_type": "display_data"
    },
    {
     "name": "stdout",
     "output_type": "stream",
     "text": [
      "\n",
      "New prediction: 0.626428\n"
     ]
    },
    {
     "data": {
      "text/html": [
       "a ridiculous movie , a <b style='color:blue'>harrowing</b> editing job , <b style='color:blue'>lousiest</b> screenplay , <b style='color:blue'>grotesque</b> acting , a story that is completely ununderstandable . . . if god was going to decide if movies should continue to be done , judging by this one , the entire world movie industry would now be dead . . . a wonderful movie to show that cinema should not be done by people who think they can make movies . i am still wondering who are those two gipsy girls who show up in the movie for over half an hour , and are never introduced to us . . ."
      ],
      "text/plain": [
       "<IPython.core.display.HTML object>"
      ]
     },
     "metadata": {},
     "output_type": "display_data"
    },
    {
     "name": "stdout",
     "output_type": "stream",
     "text": [
      "--------------------------------------------------\n",
      "#24   index = 6521\n",
      "ATTACK FAILED\n",
      "--------------------------------------------------\n",
      "#25   index = 24779\n",
      "ATTACK FAILED\n",
      "--------------------------------------------------\n",
      "#26   index = 12703\n",
      "ATTACK SUCCEEDED\n",
      "Original prediction: 0.072912\n"
     ]
    },
    {
     "data": {
      "text/html": [
       "monkeys are parasites and <b style='color:red'>bad</b> examples of friends . i felt sorry for troy as he tried to hook up all of his friends with hollywood gigs , but as soon as things turned <b style='color:red'>sour</b> , they all left troy hanging . overnight was a contrived effort of self indulgent retribution on a man who was going up against the forces of hollywood to retain story integrity . the <b style='color:red'>simple</b> premise of overnight is to try an communicate the message , look at this guy , he blew it all , when in fact he has a strong underground following , dealt with harsh blows from friends and executives all in the name of getting a project <b style='color:red'>done</b> in the way he envisioned it . quite <b style='color:red'>frankly</b> the only productive par that any of these guys played in the overall execution of the boondock saints shoot culminated as nothing more than extra bodies in the first bar room scene , after that all they did was whine why they werent a bigger deal based on the clambering of their rancid efforts on top of troys shoulders . ( the 2nd half of this was written by adam j farina )"
      ],
      "text/plain": [
       "<IPython.core.display.HTML object>"
      ]
     },
     "metadata": {},
     "output_type": "display_data"
    },
    {
     "name": "stdout",
     "output_type": "stream",
     "text": [
      "\n",
      "New prediction: 0.510999\n"
     ]
    },
    {
     "data": {
      "text/html": [
       "monkeys are parasites and <b style='color:blue'>naughty</b> examples of friends . i felt sorry for troy as he tried to hook up all of his friends with hollywood gigs , but as soon as things turned <b style='color:blue'>soured</b> , they all left troy hanging . overnight was a contrived effort of self indulgent retribution on a man who was going up against the forces of hollywood to retain story integrity . the <b style='color:blue'>uncomplicated</b> premise of overnight is to try an communicate the message , look at this guy , he blew it all , when in fact he has a strong underground following , dealt with harsh blows from friends and executives all in the name of getting a project <b style='color:blue'>accomplished</b> in the way he envisioned it . quite <b style='color:blue'>candidly</b> the only productive par that any of these guys played in the overall execution of the boondock saints shoot culminated as nothing more than extra bodies in the first bar room scene , after that all they did was whine why they werent a bigger deal based on the clambering of their rancid efforts on top of troys shoulders . ( the 2nd half of this was written by adam j farina )"
      ],
      "text/plain": [
       "<IPython.core.display.HTML object>"
      ]
     },
     "metadata": {},
     "output_type": "display_data"
    },
    {
     "name": "stdout",
     "output_type": "stream",
     "text": [
      "--------------------------------------------------\n",
      "#27   index = 401\n",
      "ATTACK FAILED\n",
      "--------------------------------------------------\n",
      "#28   index = 8335\n",
      "ATTACK FAILED\n",
      "--------------------------------------------------\n",
      "#29   index = 13638\n",
      "ATTACK FAILED\n",
      "--------------------------------------------------\n",
      "#30   index = 6730\n",
      "ATTACK FAILED\n",
      "--------------------------------------------------\n",
      "#31   index = 24639\n",
      "ATTACK FAILED\n",
      "--------------------------------------------------\n",
      "#32   index = 9897\n",
      "ATTACK SUCCEEDED\n",
      "Original prediction: 0.945216\n"
     ]
    },
    {
     "data": {
      "text/html": [
       "you know , people who make comedies so often forget its really ok to be outrageous . well , not this time . unconditional love has it all . barry manilow and a dwarf in a movie with cathy bates as the romantic lead . . . and it works . not only does it work , it works very <b style='color:red'>very</b> well . in fact , i think its <b style='color:red'>perfect</b> . i laughed so hard i think i <b style='color:red'>hurt</b> myself yet the main characters were all so human , so honest , and so very real . but isnt that where great comedies come from ? dont characters need real feelings , real emotions , and the ability to feel real pain ? well , they do in this movie . <b style='color:red'>unconditional</b> love is a movie you shouldnt miss , especially if you need a seriously good laugh , or youre at all curious about seeing the psychotic dwarf in the red raincoat ."
      ],
      "text/plain": [
       "<IPython.core.display.HTML object>"
      ]
     },
     "metadata": {},
     "output_type": "display_data"
    },
    {
     "name": "stdout",
     "output_type": "stream",
     "text": [
      "\n",
      "New prediction: 0.494870\n"
     ]
    },
    {
     "data": {
      "text/html": [
       "you know , people who make comedies so often forget its really ok to be outrageous . well , not this time . unconditional love has it all . barry manilow and a dwarf in a movie with cathy bates as the romantic lead . . . and it works . not only does it work , it works very <b style='color:blue'>quite</b> well . in fact , i think its <b style='color:blue'>faultless</b> . i laughed so hard i think i <b style='color:blue'>harmed</b> myself yet the main characters were all so human , so honest , and so very real . but isnt that where great comedies come from ? dont characters need real feelings , real emotions , and the ability to feel real pain ? well , they do in this movie . <b style='color:blue'>unqualified</b> love is a movie you shouldnt miss , especially if you need a seriously good laugh , or youre at all curious about seeing the psychotic dwarf in the red raincoat ."
      ],
      "text/plain": [
       "<IPython.core.display.HTML object>"
      ]
     },
     "metadata": {},
     "output_type": "display_data"
    },
    {
     "name": "stdout",
     "output_type": "stream",
     "text": [
      "--------------------------------------------------\n",
      "#33   index = 22135\n",
      "ATTACK FAILED\n",
      "--------------------------------------------------\n",
      "#34   index = 13051\n",
      "ATTACK FAILED\n",
      "--------------------------------------------------\n",
      "#35   index = 16964\n",
      "ATTACK FAILED\n",
      "--------------------------------------------------\n",
      "#36   index = 19933\n",
      "ATTACK FAILED\n",
      "--------------------------------------------------\n",
      "#37   index = 11457\n",
      "ATTACK FAILED\n",
      "--------------------------------------------------\n",
      "#38   index = 22621\n",
      "ATTACK FAILED\n",
      "--------------------------------------------------\n",
      "#39   index = 7398\n",
      "ATTACK FAILED\n",
      "--------------------------------------------------\n",
      "#40   index = 16739\n",
      "ATTACK SUCCEEDED\n",
      "Original prediction: 0.088082\n"
     ]
    },
    {
     "data": {
      "text/html": [
       "alan garroway ( taylor ) and rushes to the altar with him . she soon finds out there is a lot she does not know about him . as alan becomes more remote she delves further into the murky past and ann soon finds herself living a nightmare instead of the american dream . undercurrent resembles a few hitchcock plots but vincent minnelli rapidly establishes he is no master of suspense . hepburn is no shrinking violet and she is a hard sell for a character more suited to the reticent styles of teresa wright or joan fontaine . minnelli never really succeeds in getting kate to defer in desperate fashion to taylors limited abilities as an actor . her attempts come across as silent gish while taylors wide descent into madness takes on restrained bela lugosi . robert mitchum completes the miscasting as the sensitive brother . talk about piling on . cinematographer karl freund provides some highly stylized noir interiors but minnelli and cast utilize the atmospherics <b style='color:red'>meekly</b> and the tension remains <b style='color:red'>tepid</b> . with minnelli far from his forte ( musicals ) and hepburns victim role fitting her like a <b style='color:red'>bad</b> suit undercurrent drowns all involved ."
      ],
      "text/plain": [
       "<IPython.core.display.HTML object>"
      ]
     },
     "metadata": {},
     "output_type": "display_data"
    },
    {
     "name": "stdout",
     "output_type": "stream",
     "text": [
      "\n",
      "New prediction: 0.506016\n"
     ]
    },
    {
     "data": {
      "text/html": [
       "alan garroway ( taylor ) and rushes to the altar with him . she soon finds out there is a lot she does not know about him . as alan becomes more remote she delves further into the murky past and ann soon finds herself living a nightmare instead of the american dream . undercurrent resembles a few hitchcock plots but vincent minnelli rapidly establishes he is no master of suspense . hepburn is no shrinking violet and she is a hard sell for a character more suited to the reticent styles of teresa wright or joan fontaine . minnelli never really succeeds in getting kate to defer in desperate fashion to taylors limited abilities as an actor . her attempts come across as silent gish while taylors wide descent into madness takes on restrained bela lugosi . robert mitchum completes the miscasting as the sensitive brother . talk about piling on . cinematographer karl freund provides some highly stylized noir interiors but minnelli and cast utilize the atmospherics <b style='color:blue'>humbly</b> and the tension remains <b style='color:blue'>lukewarm</b> . with minnelli far from his forte ( musicals ) and hepburns victim role fitting her like a <b style='color:blue'>naughty</b> suit undercurrent drowns all involved ."
      ],
      "text/plain": [
       "<IPython.core.display.HTML object>"
      ]
     },
     "metadata": {},
     "output_type": "display_data"
    },
    {
     "name": "stdout",
     "output_type": "stream",
     "text": [
      "--------------------------------------------------\n",
      "#41   index = 24549\n",
      "ATTACK SUCCEEDED\n",
      "Original prediction: 0.064209\n"
     ]
    },
    {
     "data": {
      "text/html": [
       "nothing about this movie stands out as either being great or <b style='color:red'>terrible</b> . in the end , that is what kills it . the blandness is just not good . i cant say i expected better from will smith , but i definitely did from kevin james of the king of queens - - but , hey , im getting used to saying that a lot lately . this film attempts to make its mark as a witty romantic comedy , but it never hits the bulls - eye . in fact , it never hits * anywhere * within the target . the allergy scene is <b style='color:red'>disturbing</b> ; the fact that kevin james cant dance is something that wouldnt exactly catch anybody off - guard , and is therefore ( in a movie like this ) not funny . this movie constantly tries to win your heart , but always with the wrong <b style='color:red'>ploy</b> at the wrong time . some parts are <b style='color:red'>okay</b> ( but im searching my brain for examples ) , but i really think this movie should be <b style='color:red'>avoided</b> ."
      ],
      "text/plain": [
       "<IPython.core.display.HTML object>"
      ]
     },
     "metadata": {},
     "output_type": "display_data"
    },
    {
     "name": "stdout",
     "output_type": "stream",
     "text": [
      "\n",
      "New prediction: 0.505326\n"
     ]
    },
    {
     "data": {
      "text/html": [
       "nothing about this movie stands out as either being great or <b style='color:blue'>horrific</b> . in the end , that is what kills it . the blandness is just not good . i cant say i expected better from will smith , but i definitely did from kevin james of the king of queens - - but , hey , im getting used to saying that a lot lately . this film attempts to make its mark as a witty romantic comedy , but it never hits the bulls - eye . in fact , it never hits * anywhere * within the target . the allergy scene is <b style='color:blue'>unnerving</b> ; the fact that kevin james cant dance is something that wouldnt exactly catch anybody off - guard , and is therefore ( in a movie like this ) not funny . this movie constantly tries to win your heart , but always with the wrong <b style='color:blue'>ruse</b> at the wrong time . some parts are <b style='color:blue'>ok</b> ( but im searching my brain for examples ) , but i really think this movie should be <b style='color:blue'>averted</b> ."
      ],
      "text/plain": [
       "<IPython.core.display.HTML object>"
      ]
     },
     "metadata": {},
     "output_type": "display_data"
    },
    {
     "name": "stdout",
     "output_type": "stream",
     "text": [
      "--------------------------------------------------\n",
      "#42   index = 15502\n",
      "ATTACK SUCCEEDED\n",
      "Original prediction: 0.027711\n"
     ]
    },
    {
     "data": {
      "text/html": [
       "a <b style='color:red'>bad</b> bad movie . . . <b style='color:red'>terrible</b> plot , hinges on bolo yeungs charater , but he speaks maybe 20 words in the entire movie and only has one fight scene - still in great shape considering he was also in the kung fu classic enter the dragon interesting to see william zabka ( johnny from the karate kid ) in another martial - arts role ."
      ],
      "text/plain": [
       "<IPython.core.display.HTML object>"
      ]
     },
     "metadata": {},
     "output_type": "display_data"
    },
    {
     "name": "stdout",
     "output_type": "stream",
     "text": [
      "\n",
      "New prediction: 0.596006\n"
     ]
    },
    {
     "data": {
      "text/html": [
       "a <b style='color:blue'>naughty</b> bad movie . . . <b style='color:blue'>grisly</b> plot , hinges on bolo yeungs charater , but he speaks maybe 20 words in the entire movie and only has one fight scene - still in great shape considering he was also in the kung fu classic enter the dragon interesting to see william zabka ( johnny from the karate kid ) in another martial - arts role ."
      ],
      "text/plain": [
       "<IPython.core.display.HTML object>"
      ]
     },
     "metadata": {},
     "output_type": "display_data"
    },
    {
     "name": "stdout",
     "output_type": "stream",
     "text": [
      "--------------------------------------------------\n",
      "#43   index = 21471\n",
      "ATTACK FAILED\n",
      "--------------------------------------------------\n",
      "#44   index = 22326\n",
      "ATTACK FAILED\n",
      "--------------------------------------------------\n",
      "#45   index = 18093\n",
      "ATTACK FAILED\n",
      "--------------------------------------------------\n",
      "#46   index = 2262\n",
      "ATTACK SUCCEEDED\n",
      "Original prediction: 0.963770\n"
     ]
    },
    {
     "data": {
      "text/html": [
       "comedy , and a social drama that is not a social drama . even though i dont think it was <b style='color:red'>particularly</b> funny , it made me laugh . also , despite the fact that you can never take bunuel too seriously , the movie made think about religion and its importance in some peoples lives . bunuel tells the story of a catholic priest , devoted to his faith like no one else and the viewer witness what happens when the priests undying commitment to serve others is put to test . as usual , bunuels target is catholicism , but i dont think he tried to mock the church as he often does . at least i didnt take the film as a mockery of the institution . i think he is trying to make an interesting point about how religion could be a nuisance in todays modern society . not because faith in itself is <b style='color:red'>bad</b> , but because people always mange to bastardize the concept . message aside , i think this is one of bunuels most <b style='color:red'>clever</b> works . francisco rabal is <b style='color:red'>superb</b> as the priest . definitely , one of the filmmakers <b style='color:red'>best</b> movies ."
      ],
      "text/plain": [
       "<IPython.core.display.HTML object>"
      ]
     },
     "metadata": {},
     "output_type": "display_data"
    },
    {
     "name": "stdout",
     "output_type": "stream",
     "text": [
      "\n",
      "New prediction: 0.394364\n"
     ]
    },
    {
     "data": {
      "text/html": [
       "comedy , and a social drama that is not a social drama . even though i dont think it was <b style='color:blue'>peculiarly</b> funny , it made me laugh . also , despite the fact that you can never take bunuel too seriously , the movie made think about religion and its importance in some peoples lives . bunuel tells the story of a catholic priest , devoted to his faith like no one else and the viewer witness what happens when the priests undying commitment to serve others is put to test . as usual , bunuels target is catholicism , but i dont think he tried to mock the church as he often does . at least i didnt take the film as a mockery of the institution . i think he is trying to make an interesting point about how religion could be a nuisance in todays modern society . not because faith in itself is <b style='color:blue'>rotten</b> , but because people always mange to bastardize the concept . message aside , i think this is one of bunuels most <b style='color:blue'>smart</b> works . francisco rabal is <b style='color:blue'>fanciful</b> as the priest . definitely , one of the filmmakers <b style='color:blue'>nicest</b> movies ."
      ],
      "text/plain": [
       "<IPython.core.display.HTML object>"
      ]
     },
     "metadata": {},
     "output_type": "display_data"
    },
    {
     "name": "stdout",
     "output_type": "stream",
     "text": [
      "--------------------------------------------------\n",
      "#47   index = 4714\n",
      "ATTACK FAILED\n",
      "--------------------------------------------------\n",
      "#48   index = 24689\n",
      "ATTACK SUCCEEDED\n",
      "Original prediction: 0.018290\n"
     ]
    },
    {
     "data": {
      "text/html": [
       "<b style='color:red'>unbelievable</b> . i never saw something like that . everything is <b style='color:red'>bad</b> ; really bad . from photography ( lots of scenes without focus ! ) to the acting ( the young female is <b style='color:red'>terrible</b> ) . and what can we say about those helicopters made in paint brush . . . ? really amazing b , i mean , z film . the plot are bad , cliché and bad wrote . basics conveniences to the screenplay seems to work . i cant even think a young student of cinema making this movie . nothing justify it . i recommend that you dont even think to see this movie . sleep or play solitary are best choices . ; ) xxx"
      ],
      "text/plain": [
       "<IPython.core.display.HTML object>"
      ]
     },
     "metadata": {},
     "output_type": "display_data"
    },
    {
     "name": "stdout",
     "output_type": "stream",
     "text": [
      "\n",
      "New prediction: 0.768845\n"
     ]
    },
    {
     "data": {
      "text/html": [
       "<b style='color:blue'>terrific</b> . i never saw something like that . everything is <b style='color:blue'>naughty</b> ; really bad . from photography ( lots of scenes without focus ! ) to the acting ( the young female is <b style='color:blue'>harrowing</b> ) . and what can we say about those helicopters made in paint brush . . . ? really amazing b , i mean , z film . the plot are bad , cliché and bad wrote . basics conveniences to the screenplay seems to work . i cant even think a young student of cinema making this movie . nothing justify it . i recommend that you dont even think to see this movie . sleep or play solitary are best choices . ; ) xxx"
      ],
      "text/plain": [
       "<IPython.core.display.HTML object>"
      ]
     },
     "metadata": {},
     "output_type": "display_data"
    },
    {
     "name": "stdout",
     "output_type": "stream",
     "text": [
      "--------------------------------------------------\n",
      "#49   index = 18012\n",
      "ATTACK FAILED\n",
      "--------------------------------------------------\n",
      "#50   index = 14018\n",
      "ATTACK FAILED\n",
      "--------------------------------------------------\n",
      "#51   index = 1576\n",
      "ATTACK FAILED\n",
      "--------------------------------------------------\n",
      "#52   index = 3462\n",
      "ATTACK FAILED\n",
      "--------------------------------------------------\n",
      "#53   index = 230\n",
      "ATTACK FAILED\n",
      "--------------------------------------------------\n",
      "#54   index = 2428\n",
      "ATTACK FAILED\n",
      "--------------------------------------------------\n",
      "#55   index = 20843\n",
      "ATTACK FAILED\n",
      "--------------------------------------------------\n",
      "#56   index = 7766\n",
      "ATTACK FAILED\n",
      "--------------------------------------------------\n",
      "#57   index = 9962\n",
      "ATTACK SUCCEEDED\n",
      "Original prediction: 0.915301\n"
     ]
    },
    {
     "data": {
      "text/html": [
       "fado is a sad almost bluesy style of portuguese gypsy music that is heard repeatedly trough the movie . as explained by one of the main characters ( igor ) it also means fate . indeed its fate that bring the two main characters paco and alex together and triggers the problems that ensue . on the whole i <b style='color:red'>enjoyed</b> it quite a <b style='color:red'>bit</b> . it starts out as an on the down and outs drama / road movie an builds into a suspenseful thriller / road movie . there were two things that i found unrealistic that kept me from giving it a higher rating ( i gave it an 8 ) . the first is the major point of why did alex give the stuff away . she was so <b style='color:red'>desperate</b> for cash that she sold her passport for a paltry sum and then she gives away things worth thousands to a stranger ? her explanation was unconvincing . also how did they get through the gate , where were the cops ?"
      ],
      "text/plain": [
       "<IPython.core.display.HTML object>"
      ]
     },
     "metadata": {},
     "output_type": "display_data"
    },
    {
     "name": "stdout",
     "output_type": "stream",
     "text": [
      "\n",
      "New prediction: 0.484764\n"
     ]
    },
    {
     "data": {
      "text/html": [
       "fado is a sad almost bluesy style of portuguese gypsy music that is heard repeatedly trough the movie . as explained by one of the main characters ( igor ) it also means fate . indeed its fate that bring the two main characters paco and alex together and triggers the problems that ensue . on the whole i <b style='color:blue'>experienced</b> it quite a <b style='color:blue'>bitten</b> . it starts out as an on the down and outs drama / road movie an builds into a suspenseful thriller / road movie . there were two things that i found unrealistic that kept me from giving it a higher rating ( i gave it an 8 ) . the first is the major point of why did alex give the stuff away . she was so <b style='color:blue'>hopeless</b> for cash that she sold her passport for a paltry sum and then she gives away things worth thousands to a stranger ? her explanation was unconvincing . also how did they get through the gate , where were the cops ?"
      ],
      "text/plain": [
       "<IPython.core.display.HTML object>"
      ]
     },
     "metadata": {},
     "output_type": "display_data"
    },
    {
     "name": "stdout",
     "output_type": "stream",
     "text": [
      "--------------------------------------------------\n",
      "#58   index = 3692\n",
      "ATTACK FAILED\n",
      "--------------------------------------------------\n",
      "#59   index = 7271\n",
      "ATTACK FAILED\n",
      "--------------------------------------------------\n",
      "#60   index = 15780\n",
      "ATTACK FAILED\n",
      "--------------------------------------------------\n",
      "#61   index = 11371\n",
      "ATTACK FAILED\n",
      "--------------------------------------------------\n",
      "#62   index = 1707\n",
      "ATTACK FAILED\n",
      "--------------------------------------------------\n",
      "#63   index = 23296\n",
      "ATTACK FAILED\n",
      "--------------------------------------------------\n",
      "#64   index = 13946\n",
      "ATTACK FAILED\n",
      "--------------------------------------------------\n",
      "#65   index = 10688\n",
      "ATTACK FAILED\n",
      "--------------------------------------------------\n",
      "#66   index = 1465\n",
      "ATTACK FAILED\n",
      "--------------------------------------------------\n",
      "#67   index = 18936\n",
      "ATTACK FAILED\n",
      "--------------------------------------------------\n",
      "#68   index = 21283\n",
      "ATTACK SUCCEEDED\n",
      "Original prediction: 0.043199\n"
     ]
    },
    {
     "data": {
      "text/html": [
       "you might think that a show about regular teens with superpowers would be interesting , but its far from that . take the concept for example : the main character ( s ) have a big secret that they hide from theyre peers . its just like hannah montana and thats so raven . next , the acting is just average . selena gomez seems to be half asleep through many scenes . lastly , the jokes are either cliché or boring . if theyre not using theyre colorful , yet strange dialog to make us laugh , they are throwing various props around the room . i <b style='color:red'>really</b> wish this show would use more <b style='color:red'>original</b> and entertaining material . in conclusion , wisards of waverly place is a <b style='color:red'>disappointment</b> ."
      ],
      "text/plain": [
       "<IPython.core.display.HTML object>"
      ]
     },
     "metadata": {},
     "output_type": "display_data"
    },
    {
     "name": "stdout",
     "output_type": "stream",
     "text": [
      "\n",
      "New prediction: 0.537714\n"
     ]
    },
    {
     "data": {
      "text/html": [
       "you might think that a show about regular teens with superpowers would be interesting , but its far from that . take the concept for example : the main character ( s ) have a big secret that they hide from theyre peers . its just like hannah montana and thats so raven . next , the acting is just average . selena gomez seems to be half asleep through many scenes . lastly , the jokes are either cliché or boring . if theyre not using theyre colorful , yet strange dialog to make us laugh , they are throwing various props around the room . i <b style='color:blue'>truly</b> wish this show would use more <b style='color:blue'>preliminary</b> and entertaining material . in conclusion , wisards of waverly place is a <b style='color:blue'>disenchantment</b> ."
      ],
      "text/plain": [
       "<IPython.core.display.HTML object>"
      ]
     },
     "metadata": {},
     "output_type": "display_data"
    },
    {
     "name": "stdout",
     "output_type": "stream",
     "text": [
      "--------------------------------------------------\n",
      "#69   index = 2213\n",
      "ATTACK SUCCEEDED\n",
      "Original prediction: 0.921771\n"
     ]
    },
    {
     "data": {
      "text/html": [
       "this film is the most impressing turkish film that i have ever seen . probably okul is the first turkish horror film . i must say that i were excited while watching the movie because of some reasons , the first reason is that the story is <b style='color:red'>impressive</b> , i mean that at the end of the film you realised all the details about movie , this makes the film attractive and the other reason is that no turkish man made such a movie like that before . this shows that turkish film improves itself by time . although the first trial to make a horror movie , it was really successful . i advice all of you not to miss this movie . . ."
      ],
      "text/plain": [
       "<IPython.core.display.HTML object>"
      ]
     },
     "metadata": {},
     "output_type": "display_data"
    },
    {
     "name": "stdout",
     "output_type": "stream",
     "text": [
      "\n",
      "New prediction: 0.337476\n"
     ]
    },
    {
     "data": {
      "text/html": [
       "this film is the most impressing turkish film that i have ever seen . probably okul is the first turkish horror film . i must say that i were excited while watching the movie because of some reasons , the first reason is that the story is <b style='color:blue'>staggering</b> , i mean that at the end of the film you realised all the details about movie , this makes the film attractive and the other reason is that no turkish man made such a movie like that before . this shows that turkish film improves itself by time . although the first trial to make a horror movie , it was really successful . i advice all of you not to miss this movie . . ."
      ],
      "text/plain": [
       "<IPython.core.display.HTML object>"
      ]
     },
     "metadata": {},
     "output_type": "display_data"
    },
    {
     "name": "stdout",
     "output_type": "stream",
     "text": [
      "--------------------------------------------------\n",
      "#70   index = 9317\n",
      "ATTACK FAILED\n",
      "--------------------------------------------------\n",
      "#71   index = 12204\n",
      "ATTACK SUCCEEDED\n",
      "Original prediction: 0.991613\n"
     ]
    },
    {
     "data": {
      "text/html": [
       "even if i had never seen or heard of georgetown , co , this would be a <b style='color:red'>sweet</b> little movie . but my dad was born and raised there , and those are my uncles horses you see pulling the sleigh ! so this movie is very <b style='color:red'>special</b> to me . a lot of the interiors are shot in buildings and houses i recognize , and are <b style='color:red'>very</b> realistic . the story is a <b style='color:red'>little</b> hokey , but georgetown is that kind of magical place where things like that could happen . john denver was a better actor than a lot of people give him credit for . mary wickes plays the kind of common - sense lady with a lot of sass she played so well in many other films , most <b style='color:red'>notably</b> white christmas . i usually dont get to go out there in the winter , so i like to see this movie at <b style='color:red'>christmas</b> time to tide me over until my <b style='color:red'>next</b> trip !"
      ],
      "text/plain": [
       "<IPython.core.display.HTML object>"
      ]
     },
     "metadata": {},
     "output_type": "display_data"
    },
    {
     "name": "stdout",
     "output_type": "stream",
     "text": [
      "\n",
      "New prediction: 0.463695\n"
     ]
    },
    {
     "data": {
      "text/html": [
       "even if i had never seen or heard of georgetown , co , this would be a <b style='color:blue'>sugary</b> little movie . but my dad was born and raised there , and those are my uncles horses you see pulling the sleigh ! so this movie is very <b style='color:blue'>peculiar</b> to me . a lot of the interiors are shot in buildings and houses i recognize , and are <b style='color:blue'>quite</b> realistic . the story is a <b style='color:blue'>small</b> hokey , but georgetown is that kind of magical place where things like that could happen . john denver was a better actor than a lot of people give him credit for . mary wickes plays the kind of common - sense lady with a lot of sass she played so well in many other films , most <b style='color:blue'>especially</b> white christmas . i usually dont get to go out there in the winter , so i like to see this movie at <b style='color:blue'>xmas</b> time to tide me over until my <b style='color:blue'>impending</b> trip !"
      ],
      "text/plain": [
       "<IPython.core.display.HTML object>"
      ]
     },
     "metadata": {},
     "output_type": "display_data"
    },
    {
     "name": "stdout",
     "output_type": "stream",
     "text": [
      "--------------------------------------------------\n",
      "#72   index = 19911\n",
      "ATTACK FAILED\n",
      "--------------------------------------------------\n",
      "#73   index = 14203\n",
      "ATTACK FAILED\n",
      "--------------------------------------------------\n",
      "#74   index = 16250\n",
      "ATTACK FAILED\n",
      "--------------------------------------------------\n",
      "#75   index = 15467\n",
      "ATTACK FAILED\n",
      "--------------------------------------------------\n",
      "#76   index = 3132\n",
      "ATTACK FAILED\n",
      "--------------------------------------------------\n",
      "#77   index = 16773\n",
      "ATTACK SUCCEEDED\n",
      "Original prediction: 0.007567\n"
     ]
    },
    {
     "data": {
      "text/html": [
       "that the clergy is portrayed in the <b style='color:red'>screenplay</b> . another <b style='color:red'>awful</b> aspect of this movie is that it <b style='color:red'>gives</b> the wrong impression to the general public that scientific research is <b style='color:red'>done</b> by a solitary crazy man who just writes a lot . nothing could be further from the truth . the conception of the theory of evolution was the result of thorough observations of living forms by darwin during five years in the hms beagle , and was developed gradually as it can be seen from darwins notes of the voyage . even though the beagle voyage was the sole most important part of darwins life to the conception of origin of species , the voyage is briefly mentioned only once at the beginning , and no attempt is made to show that the book came as an <b style='color:red'>elaborate</b> analysis of observations . to make it worse , darwin is shown performing a single experiment ( pigeon breeding ) to test his theory and , in the end , quits it . and im not really sure whether such experiment did actually occur . <b style='color:red'>great</b> <b style='color:red'>disappointment</b> . it is not in any way a <b style='color:red'>homage</b> to darwin and science ."
      ],
      "text/plain": [
       "<IPython.core.display.HTML object>"
      ]
     },
     "metadata": {},
     "output_type": "display_data"
    },
    {
     "name": "stdout",
     "output_type": "stream",
     "text": [
      "\n",
      "New prediction: 0.520003\n"
     ]
    },
    {
     "data": {
      "text/html": [
       "that the clergy is portrayed in the <b style='color:blue'>scenario</b> . another <b style='color:blue'>harrowing</b> aspect of this movie is that it <b style='color:blue'>delivers</b> the wrong impression to the general public that scientific research is <b style='color:blue'>accomplished</b> by a solitary crazy man who just writes a lot . nothing could be further from the truth . the conception of the theory of evolution was the result of thorough observations of living forms by darwin during five years in the hms beagle , and was developed gradually as it can be seen from darwins notes of the voyage . even though the beagle voyage was the sole most important part of darwins life to the conception of origin of species , the voyage is briefly mentioned only once at the beginning , and no attempt is made to show that the book came as an <b style='color:blue'>elaborated</b> analysis of observations . to make it worse , darwin is shown performing a single experiment ( pigeon breeding ) to test his theory and , in the end , quits it . and im not really sure whether such experiment did actually occur . <b style='color:blue'>excellent</b> <b style='color:blue'>disenchantment</b> . it is not in any way a <b style='color:blue'>accolade</b> to darwin and science ."
      ],
      "text/plain": [
       "<IPython.core.display.HTML object>"
      ]
     },
     "metadata": {},
     "output_type": "display_data"
    },
    {
     "name": "stdout",
     "output_type": "stream",
     "text": [
      "--------------------------------------------------\n",
      "#78   index = 17480\n",
      "ATTACK FAILED\n",
      "--------------------------------------------------\n",
      "#79   index = 9040\n",
      "ATTACK FAILED\n",
      "--------------------------------------------------\n",
      "#80   index = 17335\n",
      "ATTACK FAILED\n",
      "--------------------------------------------------\n",
      "#81   index = 4516\n",
      "ATTACK FAILED\n",
      "--------------------------------------------------\n",
      "#82   index = 621\n",
      "ATTACK SUCCEEDED\n",
      "Original prediction: 0.998724\n"
     ]
    },
    {
     "data": {
      "text/html": [
       "i had the pleasure of seeing saltimbanco live before seeing the video version of the show . while nothing can compare to actually being there , the people behind the video did an amazing job of capturing the flavor , the feel , the sensation and so much more . the <b style='color:red'>wonderful</b> performances of saltimbancos stunningly <b style='color:red'>amazing</b> troupe are <b style='color:red'>beautifully</b> captured throughout . the video flows as smoothly and artfully as the production itself . a <b style='color:red'>wonderful</b> experience ."
      ],
      "text/plain": [
       "<IPython.core.display.HTML object>"
      ]
     },
     "metadata": {},
     "output_type": "display_data"
    },
    {
     "name": "stdout",
     "output_type": "stream",
     "text": [
      "\n",
      "New prediction: 0.392899\n"
     ]
    },
    {
     "data": {
      "text/html": [
       "i had the pleasure of seeing saltimbanco live before seeing the video version of the show . while nothing can compare to actually being there , the people behind the video did an amazing job of capturing the flavor , the feel , the sensation and so much more . the <b style='color:blue'>fanciful</b> performances of saltimbancos stunningly <b style='color:blue'>staggering</b> troupe are <b style='color:blue'>marvellously</b> captured throughout . the video flows as smoothly and artfully as the production itself . a <b style='color:blue'>fanciful</b> experience ."
      ],
      "text/plain": [
       "<IPython.core.display.HTML object>"
      ]
     },
     "metadata": {},
     "output_type": "display_data"
    },
    {
     "name": "stdout",
     "output_type": "stream",
     "text": [
      "--------------------------------------------------\n",
      "#83   index = 17199\n",
      "ATTACK SUCCEEDED\n",
      "Original prediction: 0.026673\n"
     ]
    },
    {
     "data": {
      "text/html": [
       "what were they thinking when they made this truly <b style='color:red'>terrible</b> film ? arbus , one of the most important photographers and women of the twentieth century , had a <b style='color:red'>fascinating</b> and <b style='color:red'>dramatic</b> life . what possessed anyone to make this film , which explains her unique artistic vision , as being the result of an ( imaginary ) affair with a grotesque , yet charismatic hairy freak ( played by downey ) ? in real life , arbus broke out of a traditional marriage and womans role to express herself . in this movie , arbus is an <b style='color:red'>ultra</b> - dreary nicole kidman whose inspiration is all attributed to a beauty and the beast devotion to an interesting man . for this reinvention , the film is truly <b style='color:red'>shameful</b> . independent of that , it is also just dopey and dull ."
      ],
      "text/plain": [
       "<IPython.core.display.HTML object>"
      ]
     },
     "metadata": {},
     "output_type": "display_data"
    },
    {
     "name": "stdout",
     "output_type": "stream",
     "text": [
      "\n",
      "New prediction: 0.532986\n"
     ]
    },
    {
     "data": {
      "text/html": [
       "what were they thinking when they made this truly <b style='color:blue'>harrowing</b> film ? arbus , one of the most important photographers and women of the twentieth century , had a <b style='color:blue'>riveting</b> and <b style='color:blue'>amazing</b> life . what possessed anyone to make this film , which explains her unique artistic vision , as being the result of an ( imaginary ) affair with a grotesque , yet charismatic hairy freak ( played by downey ) ? in real life , arbus broke out of a traditional marriage and womans role to express herself . in this movie , arbus is an <b style='color:blue'>super</b> - dreary nicole kidman whose inspiration is all attributed to a beauty and the beast devotion to an interesting man . for this reinvention , the film is truly <b style='color:blue'>dishonourable</b> . independent of that , it is also just dopey and dull ."
      ],
      "text/plain": [
       "<IPython.core.display.HTML object>"
      ]
     },
     "metadata": {},
     "output_type": "display_data"
    },
    {
     "name": "stdout",
     "output_type": "stream",
     "text": [
      "--------------------------------------------------\n",
      "#84   index = 5215\n",
      "ATTACK SUCCEEDED\n",
      "Original prediction: 0.921137\n"
     ]
    },
    {
     "data": {
      "text/html": [
       "significantly inferior to until death which was a really good turn for van damme . until death lacked the over - the - top action of most van damme films but was dark and gritty and van dammes performance as an actor was <b style='color:red'>surprisingly</b> good in that film . still , the shepherd is definitely a <b style='color:red'>film</b> worth checking out especially for van damme fans or just action movie fans in general but if youre looking for a film with a bit more story line . . . . . you may want to skip this one ! i do believe that this film was done well enough especially on what little budget it would have been shot on . the only real problem i have with this film is the title ; the shepherd ? i dont get it ! i suppose border patrol just doesnt have the same ring to it without the word shepherd in front of it ! ! ! my rating for this film is 7 out of 10 but thats by van damme movie standards not in any other film category . i . e . its good for a van damme <b style='color:red'>film</b> ."
      ],
      "text/plain": [
       "<IPython.core.display.HTML object>"
      ]
     },
     "metadata": {},
     "output_type": "display_data"
    },
    {
     "name": "stdout",
     "output_type": "stream",
     "text": [
      "\n",
      "New prediction: 0.458346\n"
     ]
    },
    {
     "data": {
      "text/html": [
       "significantly inferior to until death which was a really good turn for van damme . until death lacked the over - the - top action of most van damme films but was dark and gritty and van dammes performance as an actor was <b style='color:blue'>shockingly</b> good in that film . still , the shepherd is definitely a <b style='color:blue'>filmmaking</b> worth checking out especially for van damme fans or just action movie fans in general but if youre looking for a film with a bit more story line . . . . . you may want to skip this one ! i do believe that this film was done well enough especially on what little budget it would have been shot on . the only real problem i have with this film is the title ; the shepherd ? i dont get it ! i suppose border patrol just doesnt have the same ring to it without the word shepherd in front of it ! ! ! my rating for this film is 7 out of 10 but thats by van damme movie standards not in any other film category . i . e . its good for a van damme <b style='color:blue'>movie</b> ."
      ],
      "text/plain": [
       "<IPython.core.display.HTML object>"
      ]
     },
     "metadata": {},
     "output_type": "display_data"
    },
    {
     "name": "stdout",
     "output_type": "stream",
     "text": [
      "--------------------------------------------------\n",
      "#85   index = 18240\n",
      "ATTACK FAILED\n",
      "--------------------------------------------------\n",
      "#86   index = 4305\n",
      "ATTACK FAILED\n",
      "--------------------------------------------------\n",
      "#87   index = 15995\n",
      "ATTACK SUCCEEDED\n",
      "Original prediction: 0.017540\n"
     ]
    },
    {
     "data": {
      "text/html": [
       "this movie seemed like it was put together very quickly in both plot and graphics . my two daughters were ready to go 30 minutes before the end of the movie which rarely happens when we go to the theaters . this was a nickelodeon production and it would have been better if they had released it on the t . v . station . the animation itself in some parts was o . k . but the plot was <b style='color:red'>horrible</b> . a classic tale of a son trying to fulfill a fathers expectations is used in a lot of kids movies , but the animation or graphics need to be really good to keep a childs attention . this was not the <b style='color:red'>case</b> with this film . there were also awkward elements between the lead male character and the lead female character that the plot could have <b style='color:red'>done</b> without ."
      ],
      "text/plain": [
       "<IPython.core.display.HTML object>"
      ]
     },
     "metadata": {},
     "output_type": "display_data"
    },
    {
     "name": "stdout",
     "output_type": "stream",
     "text": [
      "\n",
      "New prediction: 0.524570\n"
     ]
    },
    {
     "data": {
      "text/html": [
       "this movie seemed like it was put together very quickly in both plot and graphics . my two daughters were ready to go 30 minutes before the end of the movie which rarely happens when we go to the theaters . this was a nickelodeon production and it would have been better if they had released it on the t . v . station . the animation itself in some parts was o . k . but the plot was <b style='color:blue'>harrowing</b> . a classic tale of a son trying to fulfill a fathers expectations is used in a lot of kids movies , but the animation or graphics need to be really good to keep a childs attention . this was not the <b style='color:blue'>lawsuit</b> with this film . there were also awkward elements between the lead male character and the lead female character that the plot could have <b style='color:blue'>accomplished</b> without ."
      ],
      "text/plain": [
       "<IPython.core.display.HTML object>"
      ]
     },
     "metadata": {},
     "output_type": "display_data"
    },
    {
     "name": "stdout",
     "output_type": "stream",
     "text": [
      "--------------------------------------------------\n",
      "#88   index = 19527\n",
      "ATTACK FAILED\n",
      "--------------------------------------------------\n",
      "#89   index = 16501\n",
      "ATTACK FAILED\n",
      "--------------------------------------------------\n",
      "#90   index = 12988\n",
      "ATTACK FAILED\n",
      "--------------------------------------------------\n",
      "#91   index = 622\n",
      "ATTACK FAILED\n",
      "--------------------------------------------------\n",
      "#92   index = 23761\n",
      "ATTACK FAILED\n",
      "--------------------------------------------------\n",
      "#93   index = 24886\n",
      "ATTACK FAILED\n",
      "--------------------------------------------------\n",
      "#94   index = 2096\n",
      "ATTACK SUCCEEDED\n",
      "Original prediction: 0.958321\n"
     ]
    },
    {
     "data": {
      "text/html": [
       "kill a single american , or they will do whatever it takes , including torture to enact justice . this is the american way apparently . call me a liberal , call me naive ( although i think the people who think torture is fine are naive ) call me deluded , call me anything you like , but this film is a <b style='color:red'>brilliant</b> example of what is wrong in america and the west today . i wish this film would be shown to all school students , at a minimum . this film will stay with me a long time , part of me wishes i could forget it , because i wish this type of thing never happened , but i know it does , the other part of me wishes i would never forget , because we need to remember these shameful events to prevent them from happening again . whatever happens to me , this film will be with me for a long time , and i will be telling everyone i know to watch it , not to be entertained , but to be provoked , because sometimes we all need to be provoked ."
      ],
      "text/plain": [
       "<IPython.core.display.HTML object>"
      ]
     },
     "metadata": {},
     "output_type": "display_data"
    },
    {
     "name": "stdout",
     "output_type": "stream",
     "text": [
      "\n",
      "New prediction: 0.414907\n"
     ]
    },
    {
     "data": {
      "text/html": [
       "kill a single american , or they will do whatever it takes , including torture to enact justice . this is the american way apparently . call me a liberal , call me naive ( although i think the people who think torture is fine are naive ) call me deluded , call me anything you like , but this film is a <b style='color:blue'>grandiose</b> example of what is wrong in america and the west today . i wish this film would be shown to all school students , at a minimum . this film will stay with me a long time , part of me wishes i could forget it , because i wish this type of thing never happened , but i know it does , the other part of me wishes i would never forget , because we need to remember these shameful events to prevent them from happening again . whatever happens to me , this film will be with me for a long time , and i will be telling everyone i know to watch it , not to be entertained , but to be provoked , because sometimes we all need to be provoked ."
      ],
      "text/plain": [
       "<IPython.core.display.HTML object>"
      ]
     },
     "metadata": {},
     "output_type": "display_data"
    },
    {
     "name": "stdout",
     "output_type": "stream",
     "text": [
      "--------------------------------------------------\n",
      "#95   index = 20300\n",
      "ATTACK FAILED\n",
      "--------------------------------------------------\n",
      "#96   index = 21183\n",
      "ATTACK FAILED\n",
      "--------------------------------------------------\n",
      "#97   index = 4010\n",
      "ATTACK SUCCEEDED\n",
      "Original prediction: 0.991664\n"
     ]
    },
    {
     "data": {
      "text/html": [
       "the movie haggard is one of the funniest movies of all time . it features the cast from cky ( the movies ) and also has a <b style='color:red'>great</b> soundtrack . if you have seen any cky or viva la bam you will notice that everybody ( from those two ) are in it . including bams parents and many other people . the story is about ryan dunns girlfriend glauren ( jennifer rivall ) cheating on him , and him trying to get back at her . he does this by having valo ( bam ) and falcone ( dicamillo ) vandalize her house . there are many different characters with many different stories . there is <b style='color:red'>great</b> music on the soundtrack . bands such as him & her , cky , gnar kill , daniel lioneye . iggy and the stooges pop , and new order . if you do not like viva la bam or cky ( the movies ) i doubt you will like this . if you do like that stuff . . . this movie is <b style='color:red'>great</b> ."
      ],
      "text/plain": [
       "<IPython.core.display.HTML object>"
      ]
     },
     "metadata": {},
     "output_type": "display_data"
    },
    {
     "name": "stdout",
     "output_type": "stream",
     "text": [
      "\n",
      "New prediction: 0.477579\n"
     ]
    },
    {
     "data": {
      "text/html": [
       "the movie haggard is one of the funniest movies of all time . it features the cast from cky ( the movies ) and also has a <b style='color:blue'>fanciful</b> soundtrack . if you have seen any cky or viva la bam you will notice that everybody ( from those two ) are in it . including bams parents and many other people . the story is about ryan dunns girlfriend glauren ( jennifer rivall ) cheating on him , and him trying to get back at her . he does this by having valo ( bam ) and falcone ( dicamillo ) vandalize her house . there are many different characters with many different stories . there is <b style='color:blue'>fanciful</b> music on the soundtrack . bands such as him & her , cky , gnar kill , daniel lioneye . iggy and the stooges pop , and new order . if you do not like viva la bam or cky ( the movies ) i doubt you will like this . if you do like that stuff . . . this movie is <b style='color:blue'>fanciful</b> ."
      ],
      "text/plain": [
       "<IPython.core.display.HTML object>"
      ]
     },
     "metadata": {},
     "output_type": "display_data"
    },
    {
     "name": "stdout",
     "output_type": "stream",
     "text": [
      "--------------------------------------------------\n",
      "#98   index = 8774\n",
      "ATTACK FAILED\n",
      "--------------------------------------------------\n",
      "#99   index = 2860\n",
      "ATTACK FAILED\n",
      "--------------------------------------------------\n"
     ]
    }
   ],
   "source": [
    "sbe_attack_result.visualize_attack(100, show_successful_only = True) # attack that use SBE as explainer to target words"
   ]
  },
  {
   "cell_type": "code",
   "execution_count": 12,
   "metadata": {},
   "outputs": [
    {
     "name": "stdout",
     "output_type": "stream",
     "text": [
      "#0   index = 6488\n",
      "ATTACK SUCCEEDED\n",
      "Original prediction: 0.908488\n"
     ]
    },
    {
     "data": {
      "text/html": [
       "hongshens emphatic you are not my father , he softly replies , why cant a peasant be your father ? under these two teachers and with much additional help from his mother , sister , friends , inmates at the rehab inst . , he makes some tangible connection to a real ( not whole ) self . as the long term drug effects recede , so does his old identity . indebtedness replaces pride , trust distrust . integrity banishes his black cloud . all his edges soften . you are just a human being he repeats endlessly after being released from the strap - down incurred for refusing medicine . back home , lard peasant soap is fine with him now . and his once rare and true friendships begin again as is so <b style='color:red'>evident</b> in the back to poignant back - to - back fence scene with his musician buddy . hongshen says of this movie : its a <b style='color:red'>good</b> chance to think about my life . and i might add , become a new actor , one bound to art and life . like lennon , he has gained success without a loss of identity ."
      ],
      "text/plain": [
       "<IPython.core.display.HTML object>"
      ]
     },
     "metadata": {},
     "output_type": "display_data"
    },
    {
     "name": "stdout",
     "output_type": "stream",
     "text": [
      "\n",
      "New prediction: 0.495943\n"
     ]
    },
    {
     "data": {
      "text/html": [
       "hongshens emphatic you are not my father , he softly replies , why cant a peasant be your father ? under these two teachers and with much additional help from his mother , sister , friends , inmates at the rehab inst . , he makes some tangible connection to a real ( not whole ) self . as the long term drug effects recede , so does his old identity . indebtedness replaces pride , trust distrust . integrity banishes his black cloud . all his edges soften . you are just a human being he repeats endlessly after being released from the strap - down incurred for refusing medicine . back home , lard peasant soap is fine with him now . and his once rare and true friendships begin again as is so <b style='color:blue'>blatant</b> in the back to poignant back - to - back fence scene with his musician buddy . hongshen says of this movie : its a <b style='color:blue'>allright</b> chance to think about my life . and i might add , become a new actor , one bound to art and life . like lennon , he has gained success without a loss of identity ."
      ],
      "text/plain": [
       "<IPython.core.display.HTML object>"
      ]
     },
     "metadata": {},
     "output_type": "display_data"
    },
    {
     "name": "stdout",
     "output_type": "stream",
     "text": [
      "--------------------------------------------------\n",
      "#1   index = 10198\n",
      "ATTACK SUCCEEDED\n",
      "Original prediction: 0.998615\n"
     ]
    },
    {
     "data": {
      "text/html": [
       "i saw this film in wales in july . it deals with the courage of czech pilots who flew numerous missions for the raf after their country had been occupied by the nazis . in this film , the action takes place both in the early 1950s when these pilots are being beaten in political prisons in czeckoslavakia and during world war ii in britain . they were imprisoned after their return to their homeland because the communist regime viewed these warriors as a threat to their occupation of czeckoslavakia . the pilots maintain their dignity in prison and during numerous air battles against nazi pilots . this film contain a love sub - plot that does make sense because it helps us to understand that both civilians and soldiers made <b style='color:red'>great</b> sacrifices to preserve democracy . the end of this film indicates that the heroism of these czech pilots was finally recognized in the early 1990s after the restoration of democracy in the country then known as czeckoslavakia . this <b style='color:red'>powerful</b> and moving film was made with <b style='color:red'>financial</b> support from the czech government . i <b style='color:red'>highly</b> recommend this film ."
      ],
      "text/plain": [
       "<IPython.core.display.HTML object>"
      ]
     },
     "metadata": {},
     "output_type": "display_data"
    },
    {
     "name": "stdout",
     "output_type": "stream",
     "text": [
      "\n",
      "New prediction: 0.435450\n"
     ]
    },
    {
     "data": {
      "text/html": [
       "i saw this film in wales in july . it deals with the courage of czech pilots who flew numerous missions for the raf after their country had been occupied by the nazis . in this film , the action takes place both in the early 1950s when these pilots are being beaten in political prisons in czeckoslavakia and during world war ii in britain . they were imprisoned after their return to their homeland because the communist regime viewed these warriors as a threat to their occupation of czeckoslavakia . the pilots maintain their dignity in prison and during numerous air battles against nazi pilots . this film contain a love sub - plot that does make sense because it helps us to understand that both civilians and soldiers made <b style='color:blue'>fanciful</b> sacrifices to preserve democracy . the end of this film indicates that the heroism of these czech pilots was finally recognized in the early 1990s after the restoration of democracy in the country then known as czeckoslavakia . this <b style='color:blue'>mighty</b> and moving film was made with <b style='color:blue'>pecuniary</b> support from the czech government . i <b style='color:blue'>terribly</b> recommend this film ."
      ],
      "text/plain": [
       "<IPython.core.display.HTML object>"
      ]
     },
     "metadata": {},
     "output_type": "display_data"
    },
    {
     "name": "stdout",
     "output_type": "stream",
     "text": [
      "--------------------------------------------------\n",
      "#2   index = 18059\n",
      "ATTACK SUCCEEDED\n",
      "Original prediction: 0.003709\n"
     ]
    },
    {
     "data": {
      "text/html": [
       "corporation , which owns the prototype , and father of one of the scientist . there , the group finds the rests of the plane five miles far from the expected location and the machine and the remains of the persons . further , they realize that a sasquatch , a kind of big foot , is chasing them . this movie is so <b style='color:red'>ridiculous</b> that i do not know what i am doing , spending my time again in this <b style='color:red'>garbage</b> . the direction is <b style='color:red'>awful</b> , the actors and the lines are <b style='color:red'>horrible</b> , copying parts of ` the predator and even ` the blair witch project . to summarize how <b style='color:red'>bad</b> this <b style='color:red'>movie</b> is , its <b style='color:red'>best</b> scene is when marla lawson , the character of andrea roth , is wounded , and the <b style='color:red'>guide</b> of the expedition says that she needs to have an injection of tetanus vaccine . andrea undresses her jeans , and the guide says : nice butts , but the shot needs to be in your arm . <b style='color:red'>ridiculous</b> ! my vote is <b style='color:red'>two</b> . title ( brazil ) : ` sasquatch , o abominável ( ` sasquatch , the <b style='color:red'>abominable</b> )"
      ],
      "text/plain": [
       "<IPython.core.display.HTML object>"
      ]
     },
     "metadata": {},
     "output_type": "display_data"
    },
    {
     "name": "stdout",
     "output_type": "stream",
     "text": [
      "\n",
      "New prediction: 0.520301\n"
     ]
    },
    {
     "data": {
      "text/html": [
       "corporation , which owns the prototype , and father of one of the scientist . there , the group finds the rests of the plane five miles far from the expected location and the machine and the remains of the persons . further , they realize that a sasquatch , a kind of big foot , is chasing them . this movie is so <b style='color:blue'>grotesque</b> that i do not know what i am doing , spending my time again in this <b style='color:blue'>refuse</b> . the direction is <b style='color:blue'>harrowing</b> , the actors and the lines are <b style='color:blue'>frightening</b> , copying parts of ` the predator and even ` the blair witch project . to summarize how <b style='color:blue'>wicked</b> this <b style='color:blue'>filmmaking</b> is , its <b style='color:blue'>finest</b> scene is when marla lawson , the character of andrea roth , is wounded , and the <b style='color:blue'>guidebook</b> of the expedition says that she needs to have an injection of tetanus vaccine . andrea undresses her jeans , and the guide says : nice butts , but the shot needs to be in your arm . <b style='color:blue'>grotesque</b> ! my vote is <b style='color:blue'>seven</b> . title ( brazil ) : ` sasquatch , o abominável ( ` sasquatch , the <b style='color:blue'>hideous</b> )"
      ],
      "text/plain": [
       "<IPython.core.display.HTML object>"
      ]
     },
     "metadata": {},
     "output_type": "display_data"
    },
    {
     "name": "stdout",
     "output_type": "stream",
     "text": [
      "--------------------------------------------------\n",
      "#3   index = 4677\n",
      "ATTACK SUCCEEDED\n",
      "Original prediction: 0.943790\n"
     ]
    },
    {
     "data": {
      "text/html": [
       "psychopath kids . and i may say its also one of the best flicks ive seen with kids as the villains . by the end of the movie i <b style='color:red'>seriously</b> wanted these kids to die in horrible fashion . its a <b style='color:red'>really</b> solid 80s horror flick , but how these kids are getting away with all this mayhem and murder is just something that you cant not think about . even the slightest bit of investigation would easily uncover these lil sh ! ts as the murderers . but there seems to be only a couple police in town , well by the end , only one , and he seemed like a dimwit , so i suppose they could have gotten away with it . haha , yeah , and im a chinese jet - pilot . nevertheless , this movie delivered some evilass kids who were more than entertaining , a lot of premarital sex and a decent amount of boobage . no kiddin ! if youre put off by the less than stellar title , <b style='color:red'>dash</b> it from your mind and give this flick a shot . its a very recommendable and <b style='color:red'>underrated</b> 80s horror flick ."
      ],
      "text/plain": [
       "<IPython.core.display.HTML object>"
      ]
     },
     "metadata": {},
     "output_type": "display_data"
    },
    {
     "name": "stdout",
     "output_type": "stream",
     "text": [
      "\n",
      "New prediction: 0.475589\n"
     ]
    },
    {
     "data": {
      "text/html": [
       "psychopath kids . and i may say its also one of the best flicks ive seen with kids as the villains . by the end of the movie i <b style='color:blue'>harshly</b> wanted these kids to die in horrible fashion . its a <b style='color:blue'>truthfully</b> solid 80s horror flick , but how these kids are getting away with all this mayhem and murder is just something that you cant not think about . even the slightest bit of investigation would easily uncover these lil sh ! ts as the murderers . but there seems to be only a couple police in town , well by the end , only one , and he seemed like a dimwit , so i suppose they could have gotten away with it . haha , yeah , and im a chinese jet - pilot . nevertheless , this movie delivered some evilass kids who were more than entertaining , a lot of premarital sex and a decent amount of boobage . no kiddin ! if youre put off by the less than stellar title , <b style='color:blue'>hyphen</b> it from your mind and give this flick a shot . its a very recommendable and <b style='color:blue'>undervalued</b> 80s horror flick ."
      ],
      "text/plain": [
       "<IPython.core.display.HTML object>"
      ]
     },
     "metadata": {},
     "output_type": "display_data"
    },
    {
     "name": "stdout",
     "output_type": "stream",
     "text": [
      "--------------------------------------------------\n",
      "#4   index = 14570\n",
      "ATTACK FAILED\n",
      "--------------------------------------------------\n",
      "#5   index = 15129\n",
      "ATTACK FAILED\n",
      "--------------------------------------------------\n",
      "#6   index = 16713\n",
      "ATTACK SUCCEEDED\n",
      "Original prediction: 0.012003\n"
     ]
    },
    {
     "data": {
      "text/html": [
       ". i bought this dvd because it was cheap and in part for the internet - related plot and to see how much older c . thomas howell is ; i do not recall seeing him in any movies since the 1980s . in just a few words : what a <b style='color:red'>very</b> <b style='color:red'>big</b> <b style='color:red'>disappointment</b> . i give some low budget movies a chance , but this one started out lame . within the first 15 minutes of the <b style='color:red'>movie</b> , this elusive woman is chatting with an asian guy in a chatroom . they basically stimulate themselves to their own chat , she then insists on meeting the participant in person . she meets him , has sex , ties him up and then murders him in cold blood . the plot then deteriorates further . the plot is thin and <b style='color:red'>flimsy</b> and the acting is very <b style='color:red'>stiff</b> . do not bother renting it much less purchasing it , even if it is in the $ 1 dvd bin . i plan to take my copy of the dvd to goodwill . i am truly amazed that any of the prior reviewers here gave this <b style='color:red'>movie</b> a <b style='color:red'>bad</b> rating ."
      ],
      "text/plain": [
       "<IPython.core.display.HTML object>"
      ]
     },
     "metadata": {},
     "output_type": "display_data"
    },
    {
     "name": "stdout",
     "output_type": "stream",
     "text": [
      "\n",
      "New prediction: 0.512837\n"
     ]
    },
    {
     "data": {
      "text/html": [
       ". i bought this dvd because it was cheap and in part for the internet - related plot and to see how much older c . thomas howell is ; i do not recall seeing him in any movies since the 1980s . in just a few words : what a <b style='color:blue'>extremely</b> <b style='color:blue'>grand</b> <b style='color:blue'>disenchantment</b> . i give some low budget movies a chance , but this one started out lame . within the first 15 minutes of the <b style='color:blue'>film</b> , this elusive woman is chatting with an asian guy in a chatroom . they basically stimulate themselves to their own chat , she then insists on meeting the participant in person . she meets him , has sex , ties him up and then murders him in cold blood . the plot then deteriorates further . the plot is thin and <b style='color:blue'>fragile</b> and the acting is very <b style='color:blue'>tough</b> . do not bother renting it much less purchasing it , even if it is in the $ 1 dvd bin . i plan to take my copy of the dvd to goodwill . i am truly amazed that any of the prior reviewers here gave this <b style='color:blue'>film</b> a <b style='color:blue'>wicked</b> rating ."
      ],
      "text/plain": [
       "<IPython.core.display.HTML object>"
      ]
     },
     "metadata": {},
     "output_type": "display_data"
    },
    {
     "name": "stdout",
     "output_type": "stream",
     "text": [
      "--------------------------------------------------\n",
      "#7   index = 2769\n",
      "ATTACK SUCCEEDED\n",
      "Original prediction: 0.987838\n"
     ]
    },
    {
     "data": {
      "text/html": [
       "this movie is <b style='color:red'>complex</b> and interesting in so many ways . it is a non stop plethora of emotion and taboo subjects . sex and love . womens emotional abuse of men , mens physical abuse of women , sexual child abuse , fresh approach to religion in real life , and all tied together with very <b style='color:red'>raw</b> and powerful blues music . i promise you that if you sit through the first 20 minutes you will find the tie in and bettering of all the characters . and the ending will be more pleasant than you can expect . music is <b style='color:red'>outstanding</b> the writing is <b style='color:red'>powerful</b> and acting from everyone was <b style='color:red'>brilliant</b> . and the dvd has some great features , including samuel jacksons background of learning to play guitar and feel the blues . this movie is not for children and i even caution parents of teenagers ."
      ],
      "text/plain": [
       "<IPython.core.display.HTML object>"
      ]
     },
     "metadata": {},
     "output_type": "display_data"
    },
    {
     "name": "stdout",
     "output_type": "stream",
     "text": [
      "\n",
      "New prediction: 0.388679\n"
     ]
    },
    {
     "data": {
      "text/html": [
       "this movie is <b style='color:blue'>knotty</b> and interesting in so many ways . it is a non stop plethora of emotion and taboo subjects . sex and love . womens emotional abuse of men , mens physical abuse of women , sexual child abuse , fresh approach to religion in real life , and all tied together with very <b style='color:blue'>untreated</b> and powerful blues music . i promise you that if you sit through the first 20 minutes you will find the tie in and bettering of all the characters . and the ending will be more pleasant than you can expect . music is <b style='color:blue'>fanciful</b> the writing is <b style='color:blue'>mighty</b> and acting from everyone was <b style='color:blue'>grandiose</b> . and the dvd has some great features , including samuel jacksons background of learning to play guitar and feel the blues . this movie is not for children and i even caution parents of teenagers ."
      ],
      "text/plain": [
       "<IPython.core.display.HTML object>"
      ]
     },
     "metadata": {},
     "output_type": "display_data"
    },
    {
     "name": "stdout",
     "output_type": "stream",
     "text": [
      "--------------------------------------------------\n",
      "#8   index = 24147\n",
      "ATTACK FAILED\n",
      "--------------------------------------------------\n",
      "#9   index = 14944\n",
      "ATTACK SUCCEEDED\n",
      "Original prediction: 0.008080\n"
     ]
    },
    {
     "data": {
      "text/html": [
       ", although im sure a sadomasochist would get a kick out of it . this film had nothing ; no acting , <b style='color:red'>terrible</b> music , <b style='color:red'>awful</b> script - only the power to suck any happiness from your soul . you may be wondering by now why or even how i managed to sit through the full hour and a half of <b style='color:red'>sheer</b> inanity , and it is <b style='color:red'>honestly</b> a difficult concept for even myself . firstly , i had to pace up and down as the film progressed as i found it <b style='color:red'>extremely</b> hard to get comfortable . secondly , i only made it without gnawing off my own arm in order to have something to beat myself to death with by phoning friends for moral support when the plot became particularly slow . the problem was it became a matter of pride for me to finish it after the opening thirty minutes , and that was a fatal error on my behalf . i normally like films to <b style='color:red'>leave</b> you with something by the end , but all this did was take . . . . . for the sake of your sanity do not watch this film ."
      ],
      "text/plain": [
       "<IPython.core.display.HTML object>"
      ]
     },
     "metadata": {},
     "output_type": "display_data"
    },
    {
     "name": "stdout",
     "output_type": "stream",
     "text": [
      "\n",
      "New prediction: 0.602268\n"
     ]
    },
    {
     "data": {
      "text/html": [
       ", although im sure a sadomasochist would get a kick out of it . this film had nothing ; no acting , <b style='color:blue'>fearsome</b> music , <b style='color:blue'>fearsome</b> script - only the power to suck any happiness from your soul . you may be wondering by now why or even how i managed to sit through the full hour and a half of <b style='color:blue'>pure</b> inanity , and it is <b style='color:blue'>candidly</b> a difficult concept for even myself . firstly , i had to pace up and down as the film progressed as i found it <b style='color:blue'>immensely</b> hard to get comfortable . secondly , i only made it without gnawing off my own arm in order to have something to beat myself to death with by phoning friends for moral support when the plot became particularly slow . the problem was it became a matter of pride for me to finish it after the opening thirty minutes , and that was a fatal error on my behalf . i normally like films to <b style='color:blue'>walkout</b> you with something by the end , but all this did was take . . . . . for the sake of your sanity do not watch this film ."
      ],
      "text/plain": [
       "<IPython.core.display.HTML object>"
      ]
     },
     "metadata": {},
     "output_type": "display_data"
    },
    {
     "name": "stdout",
     "output_type": "stream",
     "text": [
      "--------------------------------------------------\n",
      "#10   index = 16582\n",
      "ATTACK SUCCEEDED\n",
      "Original prediction: 0.007944\n"
     ]
    },
    {
     "data": {
      "text/html": [
       ". the plot isnt clear on this , and they inter - splice these scenes where he is seeing a shrink about his problem . the lead girl gets pregnant while still a virgin , with an incredibly creepy scene of her father giving her a gynecological exam to prove her hymen is still intact . . . . eeeewwwwww . her sister ( played by a washed up and looking much worse for wear denise crosby ) concludes that this is a sign from heaven . praise be ! well , the demon baby takes moms body for a joy ride and picks off , in order , a truck driver , her friends boyfriend and her friend , all being watched by an ex - military priest whose mission is to kill the baby when it is born . we discover that asmodeus is actually a catholic cardinal who is running the whole thing . the ending is <b style='color:red'>pretty</b> much <b style='color:red'>incomprehensible</b> , and if you could make it that far straight through , you have a stronger stomach than i did . ( i paused the film a <b style='color:red'>couple</b> of times , it was so <b style='color:red'>awful</b> . )"
      ],
      "text/plain": [
       "<IPython.core.display.HTML object>"
      ]
     },
     "metadata": {},
     "output_type": "display_data"
    },
    {
     "name": "stdout",
     "output_type": "stream",
     "text": [
      "\n",
      "New prediction: 0.504931\n"
     ]
    },
    {
     "data": {
      "text/html": [
       ". the plot isnt clear on this , and they inter - splice these scenes where he is seeing a shrink about his problem . the lead girl gets pregnant while still a virgin , with an incredibly creepy scene of her father giving her a gynecological exam to prove her hymen is still intact . . . . eeeewwwwww . her sister ( played by a washed up and looking much worse for wear denise crosby ) concludes that this is a sign from heaven . praise be ! well , the demon baby takes moms body for a joy ride and picks off , in order , a truck driver , her friends boyfriend and her friend , all being watched by an ex - military priest whose mission is to kill the baby when it is born . we discover that asmodeus is actually a catholic cardinal who is running the whole thing . the ending is <b style='color:blue'>quite</b> much <b style='color:blue'>unexplained</b> , and if you could make it that far straight through , you have a stronger stomach than i did . ( i paused the film a <b style='color:blue'>matching</b> of times , it was so <b style='color:blue'>fearsome</b> . )"
      ],
      "text/plain": [
       "<IPython.core.display.HTML object>"
      ]
     },
     "metadata": {},
     "output_type": "display_data"
    },
    {
     "name": "stdout",
     "output_type": "stream",
     "text": [
      "--------------------------------------------------\n",
      "#11   index = 14167\n",
      "ATTACK FAILED\n",
      "--------------------------------------------------\n",
      "#12   index = 12293\n",
      "ATTACK FAILED\n",
      "--------------------------------------------------\n",
      "#13   index = 18299\n",
      "ATTACK FAILED\n",
      "--------------------------------------------------\n",
      "#14   index = 6206\n",
      "ATTACK SUCCEEDED\n",
      "Original prediction: 0.976515\n"
     ]
    },
    {
     "data": {
      "text/html": [
       "spacey again picks a winner with k - pax , an endearing movie that expresses profound revelations at human existence via the prot characters naive , yet at the same time unquestionably wise , point of <b style='color:red'>view</b> . its <b style='color:red'>enjoyable</b> trying to work out if he is or he isnt as the plot expands and the robert porter character gets fleshed out . however some may find the ending a little unsatisfying but in reality it couldnt have been any other way . my few issues with the film revolve around the rather cartoony and over simplified portrayal of mental patients . i was <b style='color:red'>surprised</b> because the films plot shows a great deal of intelligence and i dont feel it would have lost anything by being more honest regarding how people with mental health problems behave . that said , i realise this was a movie and not a documentary and the film itself is exquisitly shot and the story unwraps at a pleasing rate . bridges is <b style='color:red'>great</b> and spacey <b style='color:red'>delivers</b> a languid and <b style='color:red'>relaxed</b> performance , more like a stand - up than an alien . a <b style='color:red'>good</b> <b style='color:red'>film</b> that will get you talking with your friends ."
      ],
      "text/plain": [
       "<IPython.core.display.HTML object>"
      ]
     },
     "metadata": {},
     "output_type": "display_data"
    },
    {
     "name": "stdout",
     "output_type": "stream",
     "text": [
      "\n",
      "New prediction: 0.439184\n"
     ]
    },
    {
     "data": {
      "text/html": [
       "spacey again picks a winner with k - pax , an endearing movie that expresses profound revelations at human existence via the prot characters naive , yet at the same time unquestionably wise , point of <b style='color:blue'>standpoint</b> . its <b style='color:blue'>pleasant</b> trying to work out if he is or he isnt as the plot expands and the robert porter character gets fleshed out . however some may find the ending a little unsatisfying but in reality it couldnt have been any other way . my few issues with the film revolve around the rather cartoony and over simplified portrayal of mental patients . i was <b style='color:blue'>aghast</b> because the films plot shows a great deal of intelligence and i dont feel it would have lost anything by being more honest regarding how people with mental health problems behave . that said , i realise this was a movie and not a documentary and the film itself is exquisitly shot and the story unwraps at a pleasing rate . bridges is <b style='color:blue'>grandiose</b> and spacey <b style='color:blue'>furnishes</b> a languid and <b style='color:blue'>loosened</b> performance , more like a stand - up than an alien . a <b style='color:blue'>allright</b> <b style='color:blue'>filmmaking</b> that will get you talking with your friends ."
      ],
      "text/plain": [
       "<IPython.core.display.HTML object>"
      ]
     },
     "metadata": {},
     "output_type": "display_data"
    },
    {
     "name": "stdout",
     "output_type": "stream",
     "text": [
      "--------------------------------------------------\n",
      "#15   index = 1948\n",
      "ATTACK FAILED\n",
      "--------------------------------------------------\n",
      "#16   index = 9360\n",
      "ATTACK FAILED\n",
      "--------------------------------------------------\n",
      "#17   index = 2803\n",
      "ATTACK SUCCEEDED\n",
      "Original prediction: 0.987681\n"
     ]
    },
    {
     "data": {
      "text/html": [
       "<b style='color:red'>dad</b> came home with a neighbors tv , that the guy had thrown on the scrap heap . a tinkerer with all things electrical , dad had it working inside two days . this was july 1955 . . . and then probably only the third house in the street to have television ! pretty much the first thing we ever saw on that grainy and flickering old 12 - inch screen was this film . its pretty old <b style='color:red'>dear</b> , i recall my mom telling me ! almost 50 years on , and it doesnt seem any older - rather like world war i in that respect ! <b style='color:red'>terrific</b> little fantasy about a london omnibus carrying thirteen passengers , that crashes , killing one of their number . then , in flashback we pick up <b style='color:red'>on</b> the lives of these people and what brought them to being on this bus that very day . returning to the crash at the end of the film , the victims identity is revealed , perhaps the inspiration behind the 1960 movie the list of adrian messenger . if ever you come across this little gem , i <b style='color:red'>suggest</b> you watch it !"
      ],
      "text/plain": [
       "<IPython.core.display.HTML object>"
      ]
     },
     "metadata": {},
     "output_type": "display_data"
    },
    {
     "name": "stdout",
     "output_type": "stream",
     "text": [
      "\n",
      "New prediction: 0.482443\n"
     ]
    },
    {
     "data": {
      "text/html": [
       "<b style='color:blue'>mamma</b> came home with a neighbors tv , that the guy had thrown on the scrap heap . a tinkerer with all things electrical , dad had it working inside two days . this was july 1955 . . . and then probably only the third house in the street to have television ! pretty much the first thing we ever saw on that grainy and flickering old 12 - inch screen was this film . its pretty old <b style='color:blue'>darling</b> , i recall my mom telling me ! almost 50 years on , and it doesnt seem any older - rather like world war i in that respect ! <b style='color:blue'>fanciful</b> little fantasy about a london omnibus carrying thirteen passengers , that crashes , killing one of their number . then , in flashback we pick up <b style='color:blue'>orn</b> the lives of these people and what brought them to being on this bus that very day . returning to the crash at the end of the film , the victims identity is revealed , perhaps the inspiration behind the 1960 movie the list of adrian messenger . if ever you come across this little gem , i <b style='color:blue'>insinuate</b> you watch it !"
      ],
      "text/plain": [
       "<IPython.core.display.HTML object>"
      ]
     },
     "metadata": {},
     "output_type": "display_data"
    },
    {
     "name": "stdout",
     "output_type": "stream",
     "text": [
      "--------------------------------------------------\n",
      "#18   index = 1267\n",
      "ATTACK FAILED\n",
      "--------------------------------------------------\n",
      "#19   index = 12820\n",
      "ATTACK FAILED\n",
      "--------------------------------------------------\n",
      "#20   index = 10153\n",
      "ATTACK SUCCEEDED\n",
      "Original prediction: 0.976192\n"
     ]
    },
    {
     "data": {
      "text/html": [
       "cant believe it . . . . after all these years finally tracked this down . . it was meant to be named the great pretender at production stage . i was living in oz at time and through a friend was looking after one of the house locations through filming . . . . it was me that showed these guys how to speak scottish and after all this time , i only realise now one was russell crowe ! ! ! it has taken me all these years to track this down , was even unsure if it ever went to screen as i left oz the following month after wrap up party . at that time russell crowe was not the demanded actor he is now and i had no idea it was him until i saw the previous comment then thought back to the days during filming . . . . . <b style='color:red'>amazing</b> . . . <b style='color:red'>truly</b> delighted with myself now ! ! !"
      ],
      "text/plain": [
       "<IPython.core.display.HTML object>"
      ]
     },
     "metadata": {},
     "output_type": "display_data"
    },
    {
     "name": "stdout",
     "output_type": "stream",
     "text": [
      "\n",
      "New prediction: 0.151249\n"
     ]
    },
    {
     "data": {
      "text/html": [
       "cant believe it . . . . after all these years finally tracked this down . . it was meant to be named the great pretender at production stage . i was living in oz at time and through a friend was looking after one of the house locations through filming . . . . it was me that showed these guys how to speak scottish and after all this time , i only realise now one was russell crowe ! ! ! it has taken me all these years to track this down , was even unsure if it ever went to screen as i left oz the following month after wrap up party . at that time russell crowe was not the demanded actor he is now and i had no idea it was him until i saw the previous comment then thought back to the days during filming . . . . . <b style='color:blue'>staggering</b> . . . <b style='color:blue'>truthfully</b> delighted with myself now ! ! !"
      ],
      "text/plain": [
       "<IPython.core.display.HTML object>"
      ]
     },
     "metadata": {},
     "output_type": "display_data"
    },
    {
     "name": "stdout",
     "output_type": "stream",
     "text": [
      "--------------------------------------------------\n",
      "#21   index = 23856\n",
      "ATTACK FAILED\n",
      "--------------------------------------------------\n",
      "#22   index = 20050\n",
      "ATTACK FAILED\n",
      "--------------------------------------------------\n",
      "#23   index = 16027\n",
      "ATTACK SUCCEEDED\n",
      "Original prediction: 0.007446\n"
     ]
    },
    {
     "data": {
      "text/html": [
       "a ridiculous movie , a <b style='color:red'>terrible</b> editing job , <b style='color:red'>worst</b> screenplay , ridiculous acting , a <b style='color:red'>story</b> that is completely ununderstandable . . . if god was going to decide if movies should continue to be done , judging by this one , the entire world movie industry would now be dead . . . a wonderful movie to show that cinema should not be done by people who think they can make movies . i am still wondering who are those two gipsy girls who show up in the movie for over half an hour , and are never introduced to us . . ."
      ],
      "text/plain": [
       "<IPython.core.display.HTML object>"
      ]
     },
     "metadata": {},
     "output_type": "display_data"
    },
    {
     "name": "stdout",
     "output_type": "stream",
     "text": [
      "\n",
      "New prediction: 0.699249\n"
     ]
    },
    {
     "data": {
      "text/html": [
       "a ridiculous movie , a <b style='color:blue'>harrowing</b> editing job , <b style='color:blue'>lousiest</b> screenplay , ridiculous acting , a <b style='color:blue'>tale</b> that is completely ununderstandable . . . if god was going to decide if movies should continue to be done , judging by this one , the entire world movie industry would now be dead . . . a wonderful movie to show that cinema should not be done by people who think they can make movies . i am still wondering who are those two gipsy girls who show up in the movie for over half an hour , and are never introduced to us . . ."
      ],
      "text/plain": [
       "<IPython.core.display.HTML object>"
      ]
     },
     "metadata": {},
     "output_type": "display_data"
    },
    {
     "name": "stdout",
     "output_type": "stream",
     "text": [
      "--------------------------------------------------\n",
      "#24   index = 6521\n",
      "ATTACK FAILED\n",
      "--------------------------------------------------\n",
      "#25   index = 24779\n",
      "ATTACK SUCCEEDED\n",
      "Original prediction: 0.009149\n"
     ]
    },
    {
     "data": {
      "text/html": [
       "the cinematography but it looked ghastly . way too over - saturated . maybe this is a <b style='color:red'>bad</b> transfer to dvd or maybe it always looked like that , i dont know . there really are no redeeming qualities to speak of . there are a few deaths but not <b style='color:red'>really</b> gory . i wouldnt bother with it if i was you . the <b style='color:red'>best</b> thing about the dvd was the <b style='color:red'>15</b> minute interview with producer max rosenberg who was very <b style='color:red'>amusing</b> and honest . he didnt have anything good to say about director ed hunt and admits the movie was a failure , but he would like to re - make it as he <b style='color:red'>believes</b> it has a <b style='color:red'>decent</b> plot . <b style='color:red'>however</b> , he died in 2004 so i guess it will be up to <b style='color:red'>someone</b> else to take on that challenge . with the way things have been going in the last few years it wouldnt surprise me , theres at least one re - make per week at the cinema these day . it couldnt be any worse than the <b style='color:red'>original</b> i suppose but i couldnt care less whether it got re - made or not ."
      ],
      "text/plain": [
       "<IPython.core.display.HTML object>"
      ]
     },
     "metadata": {},
     "output_type": "display_data"
    },
    {
     "name": "stdout",
     "output_type": "stream",
     "text": [
      "\n",
      "New prediction: 0.518619\n"
     ]
    },
    {
     "data": {
      "text/html": [
       "the cinematography but it looked ghastly . way too over - saturated . maybe this is a <b style='color:blue'>wicked</b> transfer to dvd or maybe it always looked like that , i dont know . there really are no redeeming qualities to speak of . there are a few deaths but not <b style='color:blue'>genuinely</b> gory . i wouldnt bother with it if i was you . the <b style='color:blue'>finest</b> thing about the dvd was the <b style='color:blue'>16</b> minute interview with producer max rosenberg who was very <b style='color:blue'>entertaining</b> and honest . he didnt have anything good to say about director ed hunt and admits the movie was a failure , but he would like to re - make it as he <b style='color:blue'>thinks</b> it has a <b style='color:blue'>dignified</b> plot . <b style='color:blue'>nonetheless</b> , he died in 2004 so i guess it will be up to <b style='color:blue'>anybody</b> else to take on that challenge . with the way things have been going in the last few years it wouldnt surprise me , theres at least one re - make per week at the cinema these day . it couldnt be any worse than the <b style='color:blue'>preliminary</b> i suppose but i couldnt care less whether it got re - made or not ."
      ],
      "text/plain": [
       "<IPython.core.display.HTML object>"
      ]
     },
     "metadata": {},
     "output_type": "display_data"
    },
    {
     "name": "stdout",
     "output_type": "stream",
     "text": [
      "--------------------------------------------------\n",
      "#26   index = 12703\n",
      "ATTACK SUCCEEDED\n",
      "Original prediction: 0.072912\n"
     ]
    },
    {
     "data": {
      "text/html": [
       "monkeys are parasites and <b style='color:red'>bad</b> examples of friends . i felt sorry for troy as he tried to hook up all of his friends with hollywood gigs , but as soon as things turned <b style='color:red'>sour</b> , they all left troy hanging . overnight was a contrived effort of self indulgent retribution on a man who was going up against the forces of hollywood to retain story integrity . the <b style='color:red'>simple</b> premise of overnight is to try an communicate the message , look at this guy , he blew it all , when in fact he has a strong underground following , dealt with harsh blows from friends and executives all in the name of getting a project <b style='color:red'>done</b> in the way he envisioned it . quite <b style='color:red'>frankly</b> the only productive par that any of these guys played in the overall execution of the boondock saints shoot culminated as nothing more than extra bodies in the first bar room scene , after that all they did was whine why they werent a bigger deal based on the clambering of their rancid efforts on top of troys shoulders . ( the 2nd half of this was written by adam j farina )"
      ],
      "text/plain": [
       "<IPython.core.display.HTML object>"
      ]
     },
     "metadata": {},
     "output_type": "display_data"
    },
    {
     "name": "stdout",
     "output_type": "stream",
     "text": [
      "\n",
      "New prediction: 0.528856\n"
     ]
    },
    {
     "data": {
      "text/html": [
       "monkeys are parasites and <b style='color:blue'>wicked</b> examples of friends . i felt sorry for troy as he tried to hook up all of his friends with hollywood gigs , but as soon as things turned <b style='color:blue'>soured</b> , they all left troy hanging . overnight was a contrived effort of self indulgent retribution on a man who was going up against the forces of hollywood to retain story integrity . the <b style='color:blue'>uncomplicated</b> premise of overnight is to try an communicate the message , look at this guy , he blew it all , when in fact he has a strong underground following , dealt with harsh blows from friends and executives all in the name of getting a project <b style='color:blue'>accomplished</b> in the way he envisioned it . quite <b style='color:blue'>candidly</b> the only productive par that any of these guys played in the overall execution of the boondock saints shoot culminated as nothing more than extra bodies in the first bar room scene , after that all they did was whine why they werent a bigger deal based on the clambering of their rancid efforts on top of troys shoulders . ( the 2nd half of this was written by adam j farina )"
      ],
      "text/plain": [
       "<IPython.core.display.HTML object>"
      ]
     },
     "metadata": {},
     "output_type": "display_data"
    },
    {
     "name": "stdout",
     "output_type": "stream",
     "text": [
      "--------------------------------------------------\n",
      "#27   index = 401\n",
      "ATTACK FAILED\n",
      "--------------------------------------------------\n",
      "#28   index = 8335\n",
      "ATTACK SUCCEEDED\n",
      "Original prediction: 0.996806\n"
     ]
    },
    {
     "data": {
      "text/html": [
       "changi has a <b style='color:red'>delightfully</b> fresh script , acted <b style='color:red'>superbly</b> by both young and old actors alike . john doyle has done an <b style='color:red'>excellent</b> job bringing humour to a tragic true story , keeping a <b style='color:red'>sometimes</b> sad story fun and engrossing , <b style='color:red'>particularly</b> to those of us not familiar with the events of south east asia during ww2 . john doyles parallel story line successfully bridges the <b style='color:red'>gap</b> between past and <b style='color:red'>present</b> , allowing the audience insight into the long - term effect war had on the <b style='color:red'>prisoners</b> and their familys lives as <b style='color:red'>well</b> as providing the basis for an <b style='color:red'>excellent</b> <b style='color:red'>narrative</b> which nicely <b style='color:red'>rounds</b> out the <b style='color:red'>tales</b> , both individual and <b style='color:red'>collective</b> . doyle deserves <b style='color:red'>praise</b> for this effort . we <b style='color:red'>have</b> in the past been delighted by his abundant and quick - witted humour as evidenced in his long running collaboration with greg pickhaver as ` roy & h . <b style='color:red'>g</b> . as the series is <b style='color:red'>approaching</b> half <b style='color:red'>way</b> , we are looking forward to how the story develops with <b style='color:red'>anticipation</b> ."
      ],
      "text/plain": [
       "<IPython.core.display.HTML object>"
      ]
     },
     "metadata": {},
     "output_type": "display_data"
    },
    {
     "name": "stdout",
     "output_type": "stream",
     "text": [
      "\n",
      "New prediction: 0.491455\n"
     ]
    },
    {
     "data": {
      "text/html": [
       "changi has a <b style='color:blue'>agreeably</b> fresh script , acted <b style='color:blue'>marvellously</b> by both young and old actors alike . john doyle has done an <b style='color:blue'>grandiose</b> job bringing humour to a tragic true story , keeping a <b style='color:blue'>routinely</b> sad story fun and engrossing , <b style='color:blue'>specifically</b> to those of us not familiar with the events of south east asia during ww2 . john doyles parallel story line successfully bridges the <b style='color:blue'>shortcoming</b> between past and <b style='color:blue'>extant</b> , allowing the audience insight into the long - term effect war had on the <b style='color:blue'>captives</b> and their familys lives as <b style='color:blue'>allright</b> as providing the basis for an <b style='color:blue'>grandiose</b> <b style='color:blue'>narration</b> which nicely <b style='color:blue'>cycles</b> out the <b style='color:blue'>stories</b> , both individual and <b style='color:blue'>joint</b> . doyle deserves <b style='color:blue'>laud</b> for this effort . we <b style='color:blue'>ha</b> in the past been delighted by his abundant and quick - witted humour as evidenced in his long running collaboration with greg pickhaver as ` roy & h . <b style='color:blue'>gram</b> . as the series is <b style='color:blue'>nearing</b> half <b style='color:blue'>road</b> , we are looking forward to how the story develops with <b style='color:blue'>expectation</b> ."
      ],
      "text/plain": [
       "<IPython.core.display.HTML object>"
      ]
     },
     "metadata": {},
     "output_type": "display_data"
    },
    {
     "name": "stdout",
     "output_type": "stream",
     "text": [
      "--------------------------------------------------\n",
      "#29   index = 13638\n",
      "ATTACK FAILED\n",
      "--------------------------------------------------\n",
      "#30   index = 6730\n",
      "ATTACK SUCCEEDED\n",
      "Original prediction: 0.987464\n"
     ]
    },
    {
     "data": {
      "text/html": [
       "rare occasion ( for those less completely familiar with the text ) , for the most part the script is well - acted , well - spoken , and well - performed . subtitles are available and very helpful , although upon occasion they lag slightly behind . jacobi does a quite <b style='color:red'>admirable</b> job with theatres longest and most impossible role . i actually cried when hamlet dies , and i dont think ive done that before . patrick stewart ( as claudius ) and claire bloom ( as gertrude ) are excellent , as are lalla ward ( ophelia ) and david robb ( laertes ) , and the rest of the very on - point cast . sets are minimal , so we can thankfully concentrate on the play without distraction or attention paid to non - essentials . at 3 hours and 45 minutes , this full - length hamlet is a long haul to sit through , but again , if you want the real deal , its 100 % worth it , even if one needs to take an intermission for oneself . i <b style='color:red'>highly</b> recommend this production to all shakespeare lovers and scholars ."
      ],
      "text/plain": [
       "<IPython.core.display.HTML object>"
      ]
     },
     "metadata": {},
     "output_type": "display_data"
    },
    {
     "name": "stdout",
     "output_type": "stream",
     "text": [
      "\n",
      "New prediction: 0.216882\n"
     ]
    },
    {
     "data": {
      "text/html": [
       "rare occasion ( for those less completely familiar with the text ) , for the most part the script is well - acted , well - spoken , and well - performed . subtitles are available and very helpful , although upon occasion they lag slightly behind . jacobi does a quite <b style='color:blue'>creditable</b> job with theatres longest and most impossible role . i actually cried when hamlet dies , and i dont think ive done that before . patrick stewart ( as claudius ) and claire bloom ( as gertrude ) are excellent , as are lalla ward ( ophelia ) and david robb ( laertes ) , and the rest of the very on - point cast . sets are minimal , so we can thankfully concentrate on the play without distraction or attention paid to non - essentials . at 3 hours and 45 minutes , this full - length hamlet is a long haul to sit through , but again , if you want the real deal , its 100 % worth it , even if one needs to take an intermission for oneself . i <b style='color:blue'>terribly</b> recommend this production to all shakespeare lovers and scholars ."
      ],
      "text/plain": [
       "<IPython.core.display.HTML object>"
      ]
     },
     "metadata": {},
     "output_type": "display_data"
    },
    {
     "name": "stdout",
     "output_type": "stream",
     "text": [
      "--------------------------------------------------\n",
      "#31   index = 24639\n",
      "ATTACK FAILED\n",
      "--------------------------------------------------\n",
      "#32   index = 9897\n",
      "ATTACK SUCCEEDED\n",
      "Original prediction: 0.945216\n"
     ]
    },
    {
     "data": {
      "text/html": [
       "you know , people who make comedies so often forget its really ok to be outrageous . well , not this time . <b style='color:red'>unconditional</b> love has it all . barry manilow and a dwarf in a movie with cathy bates as the romantic lead . . . and it works . not only does it work , it works very very well . in fact , i think its <b style='color:red'>perfect</b> . i laughed so hard i think i <b style='color:red'>hurt</b> myself yet the main characters were all so human , so honest , and so very real . but isnt that where great comedies come from ? dont characters need real feelings , real emotions , and the ability to feel real pain ? well , they do in this movie . <b style='color:red'>unconditional</b> love is a movie you shouldnt miss , especially if you need a seriously good laugh , or youre at all curious about seeing the psychotic dwarf in the red raincoat ."
      ],
      "text/plain": [
       "<IPython.core.display.HTML object>"
      ]
     },
     "metadata": {},
     "output_type": "display_data"
    },
    {
     "name": "stdout",
     "output_type": "stream",
     "text": [
      "\n",
      "New prediction: 0.415905\n"
     ]
    },
    {
     "data": {
      "text/html": [
       "you know , people who make comedies so often forget its really ok to be outrageous . well , not this time . <b style='color:blue'>unqualified</b> love has it all . barry manilow and a dwarf in a movie with cathy bates as the romantic lead . . . and it works . not only does it work , it works very very well . in fact , i think its <b style='color:blue'>faultless</b> . i laughed so hard i think i <b style='color:blue'>damaged</b> myself yet the main characters were all so human , so honest , and so very real . but isnt that where great comedies come from ? dont characters need real feelings , real emotions , and the ability to feel real pain ? well , they do in this movie . <b style='color:blue'>unqualified</b> love is a movie you shouldnt miss , especially if you need a seriously good laugh , or youre at all curious about seeing the psychotic dwarf in the red raincoat ."
      ],
      "text/plain": [
       "<IPython.core.display.HTML object>"
      ]
     },
     "metadata": {},
     "output_type": "display_data"
    },
    {
     "name": "stdout",
     "output_type": "stream",
     "text": [
      "--------------------------------------------------\n",
      "#33   index = 22135\n",
      "ATTACK SUCCEEDED\n",
      "Original prediction: 0.041188\n"
     ]
    },
    {
     "data": {
      "text/html": [
       "admittedly , you can put a model airplane against a black background and call it sci - fi , and thats enough to get me interested , so if you are like that , black horizon will at least get you interested before you watch it . the <b style='color:red'>best</b> part of the movie is when they rehash some actual footage of a shuttle launch . the movie plays like the naked gun series , spoofing cop dramas with <b style='color:red'>bad</b> clichés and <b style='color:red'>bad</b> acting . unfortunately , i dont think they meant to be funny , the actors really are made of cardboard , the dialog really does suck , so well just have to laugh at them , and not with them . on a side note , it is rare to see a movie that takes place half in outer space , half on earth , and doesnt mix in the expected extraterrestrials and supernatural events . i <b style='color:red'>really</b> do ache for more realistic drama based on our space endeavors ."
      ],
      "text/plain": [
       "<IPython.core.display.HTML object>"
      ]
     },
     "metadata": {},
     "output_type": "display_data"
    },
    {
     "name": "stdout",
     "output_type": "stream",
     "text": [
      "\n",
      "New prediction: 0.536079\n"
     ]
    },
    {
     "data": {
      "text/html": [
       "admittedly , you can put a model airplane against a black background and call it sci - fi , and thats enough to get me interested , so if you are like that , black horizon will at least get you interested before you watch it . the <b style='color:blue'>finest</b> part of the movie is when they rehash some actual footage of a shuttle launch . the movie plays like the naked gun series , spoofing cop dramas with <b style='color:blue'>naughty</b> clichés and <b style='color:blue'>wicked</b> acting . unfortunately , i dont think they meant to be funny , the actors really are made of cardboard , the dialog really does suck , so well just have to laugh at them , and not with them . on a side note , it is rare to see a movie that takes place half in outer space , half on earth , and doesnt mix in the expected extraterrestrials and supernatural events . i <b style='color:blue'>genuinely</b> do ache for more realistic drama based on our space endeavors ."
      ],
      "text/plain": [
       "<IPython.core.display.HTML object>"
      ]
     },
     "metadata": {},
     "output_type": "display_data"
    },
    {
     "name": "stdout",
     "output_type": "stream",
     "text": [
      "--------------------------------------------------\n",
      "#34   index = 13051\n",
      "ATTACK FAILED\n",
      "--------------------------------------------------\n",
      "#35   index = 16964\n",
      "ATTACK FAILED\n",
      "--------------------------------------------------\n",
      "#36   index = 19933\n",
      "ATTACK SUCCEEDED\n",
      "Original prediction: 0.031736\n"
     ]
    },
    {
     "data": {
      "text/html": [
       ". instead of having one final ( bloody ) showdown with count orlock , they lock themselves in the control - room . then aurora explains that before her program was upgraded and joining narcotics , she used to be a protheus 3 . 2 pb , in other words : a <b style='color:red'>pleasure</b> - bot . so she says well then , what are you waiting for . humvee answers aint gotta tell me twice . come on , girl , picks her up and . . . boooooom ! ! ! the ship explodes and credits roll . no sex - scene , no erika flashin her boobies , no bloody climax , . . . just one more shot of udo kier reading a line on the monitor and its <b style='color:red'>over</b> . so , this <b style='color:red'>movie</b> is a must - see for every <b style='color:red'>bad</b> - movie - lover , but i must warn them : it gets <b style='color:red'>really</b> painful at times . and everyone claiming that van helsing , underworld or even queen of the <b style='color:red'>damned</b> is the <b style='color:red'>worst</b> vampire - movie of the new millennium clearly is <b style='color:red'>insane</b> , or just hasnt seen dracula 3000 yet ."
      ],
      "text/plain": [
       "<IPython.core.display.HTML object>"
      ]
     },
     "metadata": {},
     "output_type": "display_data"
    },
    {
     "name": "stdout",
     "output_type": "stream",
     "text": [
      "\n",
      "New prediction: 0.533665\n"
     ]
    },
    {
     "data": {
      "text/html": [
       ". instead of having one final ( bloody ) showdown with count orlock , they lock themselves in the control - room . then aurora explains that before her program was upgraded and joining narcotics , she used to be a protheus 3 . 2 pb , in other words : a <b style='color:blue'>gladness</b> - bot . so she says well then , what are you waiting for . humvee answers aint gotta tell me twice . come on , girl , picks her up and . . . boooooom ! ! ! the ship explodes and credits roll . no sex - scene , no erika flashin her boobies , no bloody climax , . . . just one more shot of udo kier reading a line on the monitor and its <b style='color:blue'>completing</b> . so , this <b style='color:blue'>filmmaking</b> is a must - see for every <b style='color:blue'>wicked</b> - movie - lover , but i must warn them : it gets <b style='color:blue'>genuinely</b> painful at times . and everyone claiming that van helsing , underworld or even queen of the <b style='color:blue'>cursed</b> is the <b style='color:blue'>lousiest</b> vampire - movie of the new millennium clearly is <b style='color:blue'>mad</b> , or just hasnt seen dracula 3000 yet ."
      ],
      "text/plain": [
       "<IPython.core.display.HTML object>"
      ]
     },
     "metadata": {},
     "output_type": "display_data"
    },
    {
     "name": "stdout",
     "output_type": "stream",
     "text": [
      "--------------------------------------------------\n",
      "#37   index = 11457\n",
      "ATTACK SUCCEEDED\n",
      "Original prediction: 0.993375\n"
     ]
    },
    {
     "data": {
      "text/html": [
       "i recently was lucky enough to see the kite runner in a small theater , surrounded by <b style='color:red'>seasoned</b> movie - goers who knew how to enjoy a <b style='color:red'>masterpiece</b> of such sophistication . with all the controversy surrounding this films central scene these days , i was expecting a piece both crude and violent . but the way mr . forster handled the <b style='color:red'>delicate</b> subject was touching and <b style='color:red'>really</b> , <b style='color:red'>deeply</b> moving . even though the films credits indicated china as the main location for the shoot , i could have sworn i was seeing kabul throughout the scenes which are <b style='color:red'>meant</b> to be taking place in afghanistan . the acting , by non - professionals as well as professional actors , is <b style='color:red'>excellent</b> and the casting is <b style='color:red'>magnificent</b> . so , this is a <b style='color:red'>movie</b> i <b style='color:red'>would</b> see again and again , because though it is undeniably sad in its subject , the masterful way it has been made <b style='color:red'>awakens</b> a whole new hope in <b style='color:red'>modern</b> cinema ."
      ],
      "text/plain": [
       "<IPython.core.display.HTML object>"
      ]
     },
     "metadata": {},
     "output_type": "display_data"
    },
    {
     "name": "stdout",
     "output_type": "stream",
     "text": [
      "\n",
      "New prediction: 0.492086\n"
     ]
    },
    {
     "data": {
      "text/html": [
       "i recently was lucky enough to see the kite runner in a small theater , surrounded by <b style='color:blue'>proficient</b> movie - goers who knew how to enjoy a <b style='color:blue'>masterwork</b> of such sophistication . with all the controversy surrounding this films central scene these days , i was expecting a piece both crude and violent . but the way mr . forster handled the <b style='color:blue'>touchy</b> subject was touching and <b style='color:blue'>truthfully</b> , <b style='color:blue'>seriously</b> moving . even though the films credits indicated china as the main location for the shoot , i could have sworn i was seeing kabul throughout the scenes which are <b style='color:blue'>intentioned</b> to be taking place in afghanistan . the acting , by non - professionals as well as professional actors , is <b style='color:blue'>grandiose</b> and the casting is <b style='color:blue'>grandiose</b> . so , this is a <b style='color:blue'>filmmaking</b> i <b style='color:blue'>could</b> see again and again , because though it is undeniably sad in its subject , the masterful way it has been made <b style='color:blue'>awakes</b> a whole new hope in <b style='color:blue'>fashionable</b> cinema ."
      ],
      "text/plain": [
       "<IPython.core.display.HTML object>"
      ]
     },
     "metadata": {},
     "output_type": "display_data"
    },
    {
     "name": "stdout",
     "output_type": "stream",
     "text": [
      "--------------------------------------------------\n",
      "#38   index = 22621\n",
      "ATTACK FAILED\n",
      "--------------------------------------------------\n",
      "#39   index = 7398\n",
      "ATTACK FAILED\n",
      "--------------------------------------------------\n",
      "#40   index = 16739\n",
      "ATTACK SUCCEEDED\n",
      "Original prediction: 0.088082\n"
     ]
    },
    {
     "data": {
      "text/html": [
       "alan garroway ( taylor ) and rushes to the altar with him . she soon finds out there is a lot she does not know about him . as alan becomes more remote she delves further into the murky past and ann soon finds herself living a nightmare instead of the american dream . undercurrent resembles a few hitchcock plots but vincent minnelli rapidly establishes he is no master of suspense . hepburn is no shrinking violet and she is a hard sell for a character more suited to the reticent styles of teresa wright or joan fontaine . minnelli never really succeeds in getting kate to defer in desperate fashion to taylors limited abilities as an actor . her attempts come across as silent gish while taylors wide descent into madness takes on restrained bela lugosi . robert mitchum completes the miscasting as the sensitive brother . talk about piling on . cinematographer karl freund provides some highly stylized noir interiors but minnelli and cast utilize the atmospherics meekly and the tension remains <b style='color:red'>tepid</b> . with minnelli far from his forte ( musicals ) and hepburns victim role fitting her like a <b style='color:red'>bad</b> suit undercurrent drowns all involved ."
      ],
      "text/plain": [
       "<IPython.core.display.HTML object>"
      ]
     },
     "metadata": {},
     "output_type": "display_data"
    },
    {
     "name": "stdout",
     "output_type": "stream",
     "text": [
      "\n",
      "New prediction: 0.516198\n"
     ]
    },
    {
     "data": {
      "text/html": [
       "alan garroway ( taylor ) and rushes to the altar with him . she soon finds out there is a lot she does not know about him . as alan becomes more remote she delves further into the murky past and ann soon finds herself living a nightmare instead of the american dream . undercurrent resembles a few hitchcock plots but vincent minnelli rapidly establishes he is no master of suspense . hepburn is no shrinking violet and she is a hard sell for a character more suited to the reticent styles of teresa wright or joan fontaine . minnelli never really succeeds in getting kate to defer in desperate fashion to taylors limited abilities as an actor . her attempts come across as silent gish while taylors wide descent into madness takes on restrained bela lugosi . robert mitchum completes the miscasting as the sensitive brother . talk about piling on . cinematographer karl freund provides some highly stylized noir interiors but minnelli and cast utilize the atmospherics meekly and the tension remains <b style='color:blue'>lukewarm</b> . with minnelli far from his forte ( musicals ) and hepburns victim role fitting her like a <b style='color:blue'>wicked</b> suit undercurrent drowns all involved ."
      ],
      "text/plain": [
       "<IPython.core.display.HTML object>"
      ]
     },
     "metadata": {},
     "output_type": "display_data"
    },
    {
     "name": "stdout",
     "output_type": "stream",
     "text": [
      "--------------------------------------------------\n",
      "#41   index = 24549\n",
      "ATTACK SUCCEEDED\n",
      "Original prediction: 0.064209\n"
     ]
    },
    {
     "data": {
      "text/html": [
       "nothing about this movie stands out as either being great or terrible . in the end , that is what kills it . the blandness is just not good . i cant say i expected better from will smith , but i definitely did from kevin james of the king of queens - - but , hey , im getting used to saying that a lot lately . this film attempts to make its mark as a witty romantic comedy , but it never hits the bulls - eye . in fact , it never hits * anywhere * within the target . the allergy scene is disturbing ; the fact that kevin james cant dance is something that wouldnt exactly catch anybody off - guard , and is therefore ( in a movie like this ) not funny . this movie constantly <b style='color:red'>tries</b> to win your heart , but always with the wrong ploy at the wrong time . some parts are okay ( but im searching my brain for examples ) , but i <b style='color:red'>really</b> think this movie should be <b style='color:red'>avoided</b> ."
      ],
      "text/plain": [
       "<IPython.core.display.HTML object>"
      ]
     },
     "metadata": {},
     "output_type": "display_data"
    },
    {
     "name": "stdout",
     "output_type": "stream",
     "text": [
      "\n",
      "New prediction: 0.516942\n"
     ]
    },
    {
     "data": {
      "text/html": [
       "nothing about this movie stands out as either being great or terrible . in the end , that is what kills it . the blandness is just not good . i cant say i expected better from will smith , but i definitely did from kevin james of the king of queens - - but , hey , im getting used to saying that a lot lately . this film attempts to make its mark as a witty romantic comedy , but it never hits the bulls - eye . in fact , it never hits * anywhere * within the target . the allergy scene is disturbing ; the fact that kevin james cant dance is something that wouldnt exactly catch anybody off - guard , and is therefore ( in a movie like this ) not funny . this movie constantly <b style='color:blue'>endeavours</b> to win your heart , but always with the wrong ploy at the wrong time . some parts are okay ( but im searching my brain for examples ) , but i <b style='color:blue'>truly</b> think this movie should be <b style='color:blue'>averted</b> ."
      ],
      "text/plain": [
       "<IPython.core.display.HTML object>"
      ]
     },
     "metadata": {},
     "output_type": "display_data"
    },
    {
     "name": "stdout",
     "output_type": "stream",
     "text": [
      "--------------------------------------------------\n",
      "#42   index = 15502\n",
      "ATTACK SUCCEEDED\n",
      "Original prediction: 0.027711\n"
     ]
    },
    {
     "data": {
      "text/html": [
       "a <b style='color:red'>bad</b> bad movie . . . <b style='color:red'>terrible</b> plot , hinges on bolo yeungs charater , but he speaks maybe 20 words in the entire movie and only has one fight scene - still in great shape considering he was also in the kung fu classic enter the dragon interesting to see william zabka ( johnny from the karate kid ) in another martial - arts role ."
      ],
      "text/plain": [
       "<IPython.core.display.HTML object>"
      ]
     },
     "metadata": {},
     "output_type": "display_data"
    },
    {
     "name": "stdout",
     "output_type": "stream",
     "text": [
      "\n",
      "New prediction: 0.596006\n"
     ]
    },
    {
     "data": {
      "text/html": [
       "a <b style='color:blue'>naughty</b> bad movie . . . <b style='color:blue'>grisly</b> plot , hinges on bolo yeungs charater , but he speaks maybe 20 words in the entire movie and only has one fight scene - still in great shape considering he was also in the kung fu classic enter the dragon interesting to see william zabka ( johnny from the karate kid ) in another martial - arts role ."
      ],
      "text/plain": [
       "<IPython.core.display.HTML object>"
      ]
     },
     "metadata": {},
     "output_type": "display_data"
    },
    {
     "name": "stdout",
     "output_type": "stream",
     "text": [
      "--------------------------------------------------\n",
      "#43   index = 21471\n",
      "ATTACK FAILED\n",
      "--------------------------------------------------\n",
      "#44   index = 22326\n",
      "ATTACK FAILED\n",
      "--------------------------------------------------\n",
      "#45   index = 18093\n",
      "ATTACK SUCCEEDED\n",
      "Original prediction: 0.074825\n"
     ]
    },
    {
     "data": {
      "text/html": [
       "attempts at supposedly tasteful sex scenes come out as comic and silly and the action sequences are sometimes just plain <b style='color:red'>stupid</b> . also the ending of this film was one of the <b style='color:red'>weakest</b> and most <b style='color:red'>pathetic</b> conclusions i have seen to a film , b movie or not . when films such as this force you to sit through hours of themselves only to be rewarded with a oh it was all a game ending it is actually sickening . it the conclusion to the plot feels like an afterthought of the director that he figured out on the last day of shooting because they had run to the end of their shoestring budget . but i have not rated this film as one star despite the overwhelming crappiness , and this is because of the only plus point i can really give this film . intentionally or not , it was funny . i am fairly sure the parts i found humorous were not intended to be , and i found most of the efforts at genuine gags to be fruitless , but when watched with friends it is a <b style='color:red'>good</b> film to <b style='color:red'>take</b> the mickey out of ."
      ],
      "text/plain": [
       "<IPython.core.display.HTML object>"
      ]
     },
     "metadata": {},
     "output_type": "display_data"
    },
    {
     "name": "stdout",
     "output_type": "stream",
     "text": [
      "\n",
      "New prediction: 0.600060\n"
     ]
    },
    {
     "data": {
      "text/html": [
       "attempts at supposedly tasteful sex scenes come out as comic and silly and the action sequences are sometimes just plain <b style='color:blue'>nonsensical</b> . also the ending of this film was one of the <b style='color:blue'>strongest</b> and most <b style='color:blue'>pitiable</b> conclusions i have seen to a film , b movie or not . when films such as this force you to sit through hours of themselves only to be rewarded with a oh it was all a game ending it is actually sickening . it the conclusion to the plot feels like an afterthought of the director that he figured out on the last day of shooting because they had run to the end of their shoestring budget . but i have not rated this film as one star despite the overwhelming crappiness , and this is because of the only plus point i can really give this film . intentionally or not , it was funny . i am fairly sure the parts i found humorous were not intended to be , and i found most of the efforts at genuine gags to be fruitless , but when watched with friends it is a <b style='color:blue'>exemplary</b> film to <b style='color:blue'>pick</b> the mickey out of ."
      ],
      "text/plain": [
       "<IPython.core.display.HTML object>"
      ]
     },
     "metadata": {},
     "output_type": "display_data"
    },
    {
     "name": "stdout",
     "output_type": "stream",
     "text": [
      "--------------------------------------------------\n",
      "#46   index = 2262\n",
      "ATTACK SUCCEEDED\n",
      "Original prediction: 0.963770\n"
     ]
    },
    {
     "data": {
      "text/html": [
       "comedy , and a social drama that is not a social drama . even though i dont think it was <b style='color:red'>particularly</b> funny , it made me laugh . also , despite the fact that you can never take bunuel too seriously , the movie made think about religion and its importance in some peoples lives . bunuel tells the story of a catholic priest , devoted to his faith like no one else and the viewer witness what happens when the priests undying commitment to serve others is put to test . as usual , bunuels target is catholicism , but i dont think he tried to mock the church as he often does . at least i didnt take the film as a mockery of the institution . i think he is trying to make an interesting point about how religion could be a nuisance in todays modern society . not because faith in itself is <b style='color:red'>bad</b> , but because people always mange to bastardize the concept . message aside , i think this is one of bunuels most <b style='color:red'>clever</b> works . francisco rabal is <b style='color:red'>superb</b> as the priest . <b style='color:red'>definitely</b> , one of the filmmakers best movies ."
      ],
      "text/plain": [
       "<IPython.core.display.HTML object>"
      ]
     },
     "metadata": {},
     "output_type": "display_data"
    },
    {
     "name": "stdout",
     "output_type": "stream",
     "text": [
      "\n",
      "New prediction: 0.437463\n"
     ]
    },
    {
     "data": {
      "text/html": [
       "comedy , and a social drama that is not a social drama . even though i dont think it was <b style='color:blue'>specifically</b> funny , it made me laugh . also , despite the fact that you can never take bunuel too seriously , the movie made think about religion and its importance in some peoples lives . bunuel tells the story of a catholic priest , devoted to his faith like no one else and the viewer witness what happens when the priests undying commitment to serve others is put to test . as usual , bunuels target is catholicism , but i dont think he tried to mock the church as he often does . at least i didnt take the film as a mockery of the institution . i think he is trying to make an interesting point about how religion could be a nuisance in todays modern society . not because faith in itself is <b style='color:blue'>rotten</b> , but because people always mange to bastardize the concept . message aside , i think this is one of bunuels most <b style='color:blue'>smart</b> works . francisco rabal is <b style='color:blue'>funky</b> as the priest . <b style='color:blue'>evidently</b> , one of the filmmakers best movies ."
      ],
      "text/plain": [
       "<IPython.core.display.HTML object>"
      ]
     },
     "metadata": {},
     "output_type": "display_data"
    },
    {
     "name": "stdout",
     "output_type": "stream",
     "text": [
      "--------------------------------------------------\n",
      "#47   index = 4714\n",
      "ATTACK SUCCEEDED\n",
      "Original prediction: 0.910452\n"
     ]
    },
    {
     "data": {
      "text/html": [
       "co - scripted by william h . macy from , arguably , donald e . westlakes best and hardest to find novel , a travesty . * very * faithful to the story , the movie stars macy as a hapless man who gets in way too far over his head after attempting to cover up an <b style='color:red'>accidental</b> death . costars adam arkin and james cromwell in good supporting roles . the strength of the movie is in the <b style='color:red'>intricate</b> twist - after - twist storyline and in the acting , particularly by macy who routinely and <b style='color:red'>delightfully</b> breaks through the 4th wall here and gets away with it every time . a <b style='color:red'>good</b> storyline with much dark humor , this one engaged me enough that ive watched it three times in the week since it came out . prepare to shelve your critical faculties and emit a loud , bipartisan wheeeeee ! ."
      ],
      "text/plain": [
       "<IPython.core.display.HTML object>"
      ]
     },
     "metadata": {},
     "output_type": "display_data"
    },
    {
     "name": "stdout",
     "output_type": "stream",
     "text": [
      "\n",
      "New prediction: 0.466516\n"
     ]
    },
    {
     "data": {
      "text/html": [
       "co - scripted by william h . macy from , arguably , donald e . westlakes best and hardest to find novel , a travesty . * very * faithful to the story , the movie stars macy as a hapless man who gets in way too far over his head after attempting to cover up an <b style='color:blue'>unintentional</b> death . costars adam arkin and james cromwell in good supporting roles . the strength of the movie is in the <b style='color:blue'>convoluted</b> twist - after - twist storyline and in the acting , particularly by macy who routinely and <b style='color:blue'>agreeably</b> breaks through the 4th wall here and gets away with it every time . a <b style='color:blue'>decent</b> storyline with much dark humor , this one engaged me enough that ive watched it three times in the week since it came out . prepare to shelve your critical faculties and emit a loud , bipartisan wheeeeee ! ."
      ],
      "text/plain": [
       "<IPython.core.display.HTML object>"
      ]
     },
     "metadata": {},
     "output_type": "display_data"
    },
    {
     "name": "stdout",
     "output_type": "stream",
     "text": [
      "--------------------------------------------------\n",
      "#48   index = 24689\n",
      "ATTACK SUCCEEDED\n",
      "Original prediction: 0.018290\n"
     ]
    },
    {
     "data": {
      "text/html": [
       "unbelievable . i never saw something like that . everything is bad ; really <b style='color:red'>bad</b> . from photography ( lots of scenes without focus ! ) to the acting ( the young female is <b style='color:red'>terrible</b> ) . and what can we say about those helicopters made in paint brush . . . ? really amazing b , i mean , z film . the plot are bad , cliché and bad wrote . basics conveniences to the screenplay seems to work . i cant even think a young student of cinema making this movie . nothing justify it . i recommend that you dont even think to see this movie . sleep or play solitary are best choices . ; ) xxx"
      ],
      "text/plain": [
       "<IPython.core.display.HTML object>"
      ]
     },
     "metadata": {},
     "output_type": "display_data"
    },
    {
     "name": "stdout",
     "output_type": "stream",
     "text": [
      "\n",
      "New prediction: 0.536183\n"
     ]
    },
    {
     "data": {
      "text/html": [
       "unbelievable . i never saw something like that . everything is bad ; really <b style='color:blue'>wicked</b> . from photography ( lots of scenes without focus ! ) to the acting ( the young female is <b style='color:blue'>harrowing</b> ) . and what can we say about those helicopters made in paint brush . . . ? really amazing b , i mean , z film . the plot are bad , cliché and bad wrote . basics conveniences to the screenplay seems to work . i cant even think a young student of cinema making this movie . nothing justify it . i recommend that you dont even think to see this movie . sleep or play solitary are best choices . ; ) xxx"
      ],
      "text/plain": [
       "<IPython.core.display.HTML object>"
      ]
     },
     "metadata": {},
     "output_type": "display_data"
    },
    {
     "name": "stdout",
     "output_type": "stream",
     "text": [
      "--------------------------------------------------\n",
      "#49   index = 18012\n",
      "ATTACK FAILED\n",
      "--------------------------------------------------\n",
      "#50   index = 14018\n",
      "ATTACK FAILED\n",
      "--------------------------------------------------\n",
      "#51   index = 1576\n",
      "ATTACK FAILED\n",
      "--------------------------------------------------\n",
      "#52   index = 3462\n",
      "ATTACK SUCCEEDED\n",
      "Original prediction: 0.978491\n"
     ]
    },
    {
     "data": {
      "text/html": [
       "by three very different filmmakers could be simultaneously so insightful about gay & bi - sexual relationships , and their struggles ! pool days is about the awkwardness of adolescence , and the mutual attraction between an older man and a younger one . a story about experience and vulnerability ! a friend of dorothy portrays a common dilemma many gay and bi - sexual people experience at some point in their life : the intense attraction towards someone whom is heterosexual . sensitively examined , this story <b style='color:red'>truly</b> left me feeling moved ! the disco years shows another version of a no - win situation : getting involved with someone who is not only confused about their sexual orientation , but is also terrified of being exposed as anything other than straight ! a very empowering story for those of us who have experienced <b style='color:red'>betrayal</b> at the hands of a sexually confused and frightened person ! while these three stories will appeal to anyone who has an iota of empathy towards others , they will psychologically empower those who consider themselves gay , bi - sexual or searching . each story is <b style='color:red'>uplifting</b> in its own <b style='color:red'>unique</b> <b style='color:red'>way</b> !"
      ],
      "text/plain": [
       "<IPython.core.display.HTML object>"
      ]
     },
     "metadata": {},
     "output_type": "display_data"
    },
    {
     "name": "stdout",
     "output_type": "stream",
     "text": [
      "\n",
      "New prediction: 0.494078\n"
     ]
    },
    {
     "data": {
      "text/html": [
       "by three very different filmmakers could be simultaneously so insightful about gay & bi - sexual relationships , and their struggles ! pool days is about the awkwardness of adolescence , and the mutual attraction between an older man and a younger one . a story about experience and vulnerability ! a friend of dorothy portrays a common dilemma many gay and bi - sexual people experience at some point in their life : the intense attraction towards someone whom is heterosexual . sensitively examined , this story <b style='color:blue'>really</b> left me feeling moved ! the disco years shows another version of a no - win situation : getting involved with someone who is not only confused about their sexual orientation , but is also terrified of being exposed as anything other than straight ! a very empowering story for those of us who have experienced <b style='color:blue'>treason</b> at the hands of a sexually confused and frightened person ! while these three stories will appeal to anyone who has an iota of empathy towards others , they will psychologically empower those who consider themselves gay , bi - sexual or searching . each story is <b style='color:blue'>uplift</b> in its own <b style='color:blue'>sole</b> <b style='color:blue'>road</b> !"
      ],
      "text/plain": [
       "<IPython.core.display.HTML object>"
      ]
     },
     "metadata": {},
     "output_type": "display_data"
    },
    {
     "name": "stdout",
     "output_type": "stream",
     "text": [
      "--------------------------------------------------\n",
      "#53   index = 230\n",
      "ATTACK FAILED\n",
      "--------------------------------------------------\n",
      "#54   index = 2428\n",
      "ATTACK SUCCEEDED\n",
      "Original prediction: 0.993096\n"
     ]
    },
    {
     "data": {
      "text/html": [
       "sex / nudity : there is an extended skinny - dipping scene with the very attractive lead females ( though very attractive barely begins to describe the ravishing future - angel tanya roberts ) but its all a tease as the girls remain mostly underwater . they do remain scantily clad throughout the film , however . - cool killer ( s ) : creepy is just the <b style='color:red'>beginning</b> of slausen and his mannequins . one of the best killers in the slasher subgenre . - scares / suspense : from the opening scene on , the <b style='color:red'>film</b> maintains a <b style='color:red'>great</b> blend of the creepiness of the mannequins , jump scares from the attacks , and a strong level of suspense in the stranded situation . . . its all very well done to make for a <b style='color:red'>genuinely</b> <b style='color:red'>scary</b> film . - mystery : well , mystery wasnt really the point of the film . . . just the meaning behind all of it is what matters . - <b style='color:red'>awkward</b> dance scene : all these <b style='color:red'>cute</b> girls and not a single dance . <b style='color:red'>shame</b> . final verdict : 8 / 10 . see this creepy slasher ! - ap3 -"
      ],
      "text/plain": [
       "<IPython.core.display.HTML object>"
      ]
     },
     "metadata": {},
     "output_type": "display_data"
    },
    {
     "name": "stdout",
     "output_type": "stream",
     "text": [
      "\n",
      "New prediction: 0.484553\n"
     ]
    },
    {
     "data": {
      "text/html": [
       "sex / nudity : there is an extended skinny - dipping scene with the very attractive lead females ( though very attractive barely begins to describe the ravishing future - angel tanya roberts ) but its all a tease as the girls remain mostly underwater . they do remain scantily clad throughout the film , however . - cool killer ( s ) : creepy is just the <b style='color:blue'>outset</b> of slausen and his mannequins . one of the best killers in the slasher subgenre . - scares / suspense : from the opening scene on , the <b style='color:blue'>filmmaking</b> maintains a <b style='color:blue'>fanciful</b> blend of the creepiness of the mannequins , jump scares from the attacks , and a strong level of suspense in the stranded situation . . . its all very well done to make for a <b style='color:blue'>really</b> <b style='color:blue'>dreadful</b> film . - mystery : well , mystery wasnt really the point of the film . . . just the meaning behind all of it is what matters . - <b style='color:blue'>clumsy</b> dance scene : all these <b style='color:blue'>loveable</b> girls and not a single dance . <b style='color:blue'>disgrace</b> . final verdict : 8 / 10 . see this creepy slasher ! - ap3 -"
      ],
      "text/plain": [
       "<IPython.core.display.HTML object>"
      ]
     },
     "metadata": {},
     "output_type": "display_data"
    },
    {
     "name": "stdout",
     "output_type": "stream",
     "text": [
      "--------------------------------------------------\n",
      "#55   index = 20843\n",
      "ATTACK FAILED\n",
      "--------------------------------------------------\n",
      "#56   index = 7766\n",
      "ATTACK FAILED\n",
      "--------------------------------------------------\n",
      "#57   index = 9962\n",
      "ATTACK SUCCEEDED\n",
      "Original prediction: 0.915301\n"
     ]
    },
    {
     "data": {
      "text/html": [
       "fado is a sad almost bluesy style of portuguese gypsy music that is heard repeatedly trough the movie . as explained by one of the main characters ( igor ) it also means fate . indeed its fate that bring the two main characters paco and alex together and triggers the problems that ensue . on the whole i <b style='color:red'>enjoyed</b> it quite a <b style='color:red'>bit</b> . it starts out as an on the down and outs drama / road movie an builds into a suspenseful thriller / road movie . there were two things that i found unrealistic that kept me from giving it a higher rating ( i gave it an 8 ) . the first is the major point of why did alex give the stuff away . she was so <b style='color:red'>desperate</b> for cash that she sold her passport for a paltry sum and then she gives away things worth thousands to a stranger ? her explanation was unconvincing . also how did they get through the gate , where were the cops ?"
      ],
      "text/plain": [
       "<IPython.core.display.HTML object>"
      ]
     },
     "metadata": {},
     "output_type": "display_data"
    },
    {
     "name": "stdout",
     "output_type": "stream",
     "text": [
      "\n",
      "New prediction: 0.484764\n"
     ]
    },
    {
     "data": {
      "text/html": [
       "fado is a sad almost bluesy style of portuguese gypsy music that is heard repeatedly trough the movie . as explained by one of the main characters ( igor ) it also means fate . indeed its fate that bring the two main characters paco and alex together and triggers the problems that ensue . on the whole i <b style='color:blue'>experienced</b> it quite a <b style='color:blue'>bitten</b> . it starts out as an on the down and outs drama / road movie an builds into a suspenseful thriller / road movie . there were two things that i found unrealistic that kept me from giving it a higher rating ( i gave it an 8 ) . the first is the major point of why did alex give the stuff away . she was so <b style='color:blue'>hopeless</b> for cash that she sold her passport for a paltry sum and then she gives away things worth thousands to a stranger ? her explanation was unconvincing . also how did they get through the gate , where were the cops ?"
      ],
      "text/plain": [
       "<IPython.core.display.HTML object>"
      ]
     },
     "metadata": {},
     "output_type": "display_data"
    },
    {
     "name": "stdout",
     "output_type": "stream",
     "text": [
      "--------------------------------------------------\n",
      "#58   index = 3692\n",
      "ATTACK SUCCEEDED\n",
      "Original prediction: 0.993906\n"
     ]
    },
    {
     "data": {
      "text/html": [
       "i saw this film in a sneak preview , and it is <b style='color:red'>delightful</b> . the cinematography is <b style='color:red'>unusually</b> creative , the acting is <b style='color:red'>good</b> , and the story is <b style='color:red'>fabulous</b> . if this movie does not do well , it wont be because it doesnt deserve to . before this film , i didnt realize how charming shia lebouf could be . he does a <b style='color:red'>marvelous</b> , self - contained , job as the lead . theres something incredibly sweet about him , and it makes the movie even better . the other actors do a <b style='color:red'>good</b> job as well , and the film contains moments of <b style='color:red'>really</b> high suspense , more than one might expect from a movie about golf . sports movies are a dime a dozen , but this one stands out . this is one id recommend to anyone ."
      ],
      "text/plain": [
       "<IPython.core.display.HTML object>"
      ]
     },
     "metadata": {},
     "output_type": "display_data"
    },
    {
     "name": "stdout",
     "output_type": "stream",
     "text": [
      "\n",
      "New prediction: 0.436640\n"
     ]
    },
    {
     "data": {
      "text/html": [
       "i saw this film in a sneak preview , and it is <b style='color:blue'>grandiose</b> . the cinematography is <b style='color:blue'>unseasonably</b> creative , the acting is <b style='color:blue'>decent</b> , and the story is <b style='color:blue'>grandiose</b> . if this movie does not do well , it wont be because it doesnt deserve to . before this film , i didnt realize how charming shia lebouf could be . he does a <b style='color:blue'>fanciful</b> , self - contained , job as the lead . theres something incredibly sweet about him , and it makes the movie even better . the other actors do a <b style='color:blue'>decent</b> job as well , and the film contains moments of <b style='color:blue'>truthfully</b> high suspense , more than one might expect from a movie about golf . sports movies are a dime a dozen , but this one stands out . this is one id recommend to anyone ."
      ],
      "text/plain": [
       "<IPython.core.display.HTML object>"
      ]
     },
     "metadata": {},
     "output_type": "display_data"
    },
    {
     "name": "stdout",
     "output_type": "stream",
     "text": [
      "--------------------------------------------------\n",
      "#59   index = 7271\n",
      "ATTACK SUCCEEDED\n",
      "Original prediction: 0.992867\n"
     ]
    },
    {
     "data": {
      "text/html": [
       "this movie is <b style='color:red'>sweet</b> - not cloying , just warm - spirited and kind . i found it only mildly funny , and the premise * is * wildly improbable , but the characters are so charming ( especially minnie drivers ) that they had my full attention right from the beginning , and soon had my affection too . bonnie hunt has done a great job in her directing debut , and a good job with the writing as well . i <b style='color:red'>highly</b> recommend this movie and will see it again , im sure ."
      ],
      "text/plain": [
       "<IPython.core.display.HTML object>"
      ]
     },
     "metadata": {},
     "output_type": "display_data"
    },
    {
     "name": "stdout",
     "output_type": "stream",
     "text": [
      "\n",
      "New prediction: 0.491906\n"
     ]
    },
    {
     "data": {
      "text/html": [
       "this movie is <b style='color:blue'>sugary</b> - not cloying , just warm - spirited and kind . i found it only mildly funny , and the premise * is * wildly improbable , but the characters are so charming ( especially minnie drivers ) that they had my full attention right from the beginning , and soon had my affection too . bonnie hunt has done a great job in her directing debut , and a good job with the writing as well . i <b style='color:blue'>terribly</b> recommend this movie and will see it again , im sure ."
      ],
      "text/plain": [
       "<IPython.core.display.HTML object>"
      ]
     },
     "metadata": {},
     "output_type": "display_data"
    },
    {
     "name": "stdout",
     "output_type": "stream",
     "text": [
      "--------------------------------------------------\n",
      "#60   index = 15780\n",
      "ATTACK FAILED\n",
      "--------------------------------------------------\n",
      "#61   index = 11371\n",
      "ATTACK SUCCEEDED\n",
      "Original prediction: 0.932333\n"
     ]
    },
    {
     "data": {
      "text/html": [
       "is one of the best i have ever seen in any film . the cast in this film crackles . genna davis gave a <b style='color:red'>tremendous</b> performance and its a damn <b style='color:red'>shame</b> there was never a lkg sequel . samuel l . jackson is <b style='color:red'>hilarious</b> as her sidekick mitch a down on his luck private eye trying to help her discover her lost past and make a few bucks . if baffles me how anyone could not like this film . it packs so many thrills and its so funny . the wisecracks in this film still make me laugh just as hard 10 years later . in my mind the first matrix film and the long kiss goodnight were easily 2 of the best and most original action flicks of the 90s . incidentally shane black made a fortune when he sold this script . at the time it was the highest selling screenplay and its worth every penny . its so sad that audiences never gave this movie a chance , cause they would have witnessed renny harlins <b style='color:red'>best</b> film and genna davis like you have never seen her before . long live the long kiss goodnight ! !"
      ],
      "text/plain": [
       "<IPython.core.display.HTML object>"
      ]
     },
     "metadata": {},
     "output_type": "display_data"
    },
    {
     "name": "stdout",
     "output_type": "stream",
     "text": [
      "\n",
      "New prediction: 0.475593\n"
     ]
    },
    {
     "data": {
      "text/html": [
       "is one of the best i have ever seen in any film . the cast in this film crackles . genna davis gave a <b style='color:blue'>colossal</b> performance and its a damn <b style='color:blue'>ignominy</b> there was never a lkg sequel . samuel l . jackson is <b style='color:blue'>comical</b> as her sidekick mitch a down on his luck private eye trying to help her discover her lost past and make a few bucks . if baffles me how anyone could not like this film . it packs so many thrills and its so funny . the wisecracks in this film still make me laugh just as hard 10 years later . in my mind the first matrix film and the long kiss goodnight were easily 2 of the best and most original action flicks of the 90s . incidentally shane black made a fortune when he sold this script . at the time it was the highest selling screenplay and its worth every penny . its so sad that audiences never gave this movie a chance , cause they would have witnessed renny harlins <b style='color:blue'>bestest</b> film and genna davis like you have never seen her before . long live the long kiss goodnight ! !"
      ],
      "text/plain": [
       "<IPython.core.display.HTML object>"
      ]
     },
     "metadata": {},
     "output_type": "display_data"
    },
    {
     "name": "stdout",
     "output_type": "stream",
     "text": [
      "--------------------------------------------------\n",
      "#62   index = 1707\n",
      "ATTACK SUCCEEDED\n",
      "Original prediction: 0.994999\n"
     ]
    },
    {
     "data": {
      "text/html": [
       "will admit my ignorance of this films existence , until i saw it advertised on a cable outlet . i was very impressed with the novelistic structure of the film . the film , which is in a language i do not understand , shone with intelligence and nuance for me . i think this speaks to the films quality . it was visually <b style='color:red'>stunning</b> . the acting was visually entrancing . the chinese theater traditions of movement , used to enhance the delivery of dialogue , is so <b style='color:red'>compelling</b> after watching western film , where actors traditionally focus more heavily on the dialogue . the action in this film comes right at you , without a lot of explosions to get your attention . it is human action that is so affective here . the added advantage that the film taught me history about one of the worlds greatest tourist attractions , the funereal clay army of chinas first qin emporer , was <b style='color:red'>very</b> <b style='color:red'>impressive</b> . it seemed to give the film an international relevance beyond the films <b style='color:red'>great</b> ethical themes . this is a <b style='color:red'>film</b> i <b style='color:red'>can</b> comfortably recommend to a <b style='color:red'>wide</b> variety of friends and acquaintances ."
      ],
      "text/plain": [
       "<IPython.core.display.HTML object>"
      ]
     },
     "metadata": {},
     "output_type": "display_data"
    },
    {
     "name": "stdout",
     "output_type": "stream",
     "text": [
      "\n",
      "New prediction: 0.486135\n"
     ]
    },
    {
     "data": {
      "text/html": [
       "will admit my ignorance of this films existence , until i saw it advertised on a cable outlet . i was very impressed with the novelistic structure of the film . the film , which is in a language i do not understand , shone with intelligence and nuance for me . i think this speaks to the films quality . it was visually <b style='color:blue'>staggering</b> . the acting was visually entrancing . the chinese theater traditions of movement , used to enhance the delivery of dialogue , is so <b style='color:blue'>conclusive</b> after watching western film , where actors traditionally focus more heavily on the dialogue . the action in this film comes right at you , without a lot of explosions to get your attention . it is human action that is so affective here . the added advantage that the film taught me history about one of the worlds greatest tourist attractions , the funereal clay army of chinas first qin emporer , was <b style='color:blue'>extremely</b> <b style='color:blue'>staggering</b> . it seemed to give the film an international relevance beyond the films <b style='color:blue'>fanciful</b> ethical themes . this is a <b style='color:blue'>filmmaking</b> i <b style='color:blue'>could</b> comfortably recommend to a <b style='color:blue'>extensive</b> variety of friends and acquaintances ."
      ],
      "text/plain": [
       "<IPython.core.display.HTML object>"
      ]
     },
     "metadata": {},
     "output_type": "display_data"
    },
    {
     "name": "stdout",
     "output_type": "stream",
     "text": [
      "--------------------------------------------------\n",
      "#63   index = 23296\n",
      "ATTACK FAILED\n",
      "--------------------------------------------------\n",
      "#64   index = 13946\n",
      "ATTACK FAILED\n",
      "--------------------------------------------------\n",
      "#65   index = 10688\n",
      "ATTACK SUCCEEDED\n",
      "Original prediction: 0.973982\n"
     ]
    },
    {
     "data": {
      "text/html": [
       "a family film as a chance to remember the feeling of being a small <b style='color:red'>child</b> : discovering the world as you wanted to see it , making up your own rules and boasting an exuberant enthusiasm at doing things on your own for the first time . ponyo swerves away from <b style='color:red'>many</b> of the <b style='color:red'>problems</b> that all - age films tackle . it never condescends , all the characters have <b style='color:red'>good</b> genuine hearts and believable <b style='color:red'>problems</b> . the two main characters may be two of the most <b style='color:red'>believable</b> children i ever saw put on screen . they are not simple minded , arrogant or naive , just <b style='color:red'>curious</b> , enthusiastic and learning the <b style='color:red'>ways</b> of the world . they are so easy to <b style='color:red'>love</b> , but even more easy to identify with . <b style='color:red'>many</b> films regard children from the outside , as the adult looking into a world <b style='color:red'>only</b> a <b style='color:red'>child</b> could enter . ponyo brings everyone back to that world . in ponyo , there lies the first time to learn and <b style='color:red'>choose</b> what you care <b style='color:red'>about</b> most , which the <b style='color:red'>film</b> values with high esteem . it is worth it to remember , to feel it again ."
      ],
      "text/plain": [
       "<IPython.core.display.HTML object>"
      ]
     },
     "metadata": {},
     "output_type": "display_data"
    },
    {
     "name": "stdout",
     "output_type": "stream",
     "text": [
      "\n",
      "New prediction: 0.485241\n"
     ]
    },
    {
     "data": {
      "text/html": [
       "a family film as a chance to remember the feeling of being a small <b style='color:blue'>enfant</b> : discovering the world as you wanted to see it , making up your own rules and boasting an exuberant enthusiasm at doing things on your own for the first time . ponyo swerves away from <b style='color:blue'>various</b> of the <b style='color:blue'>hassles</b> that all - age films tackle . it never condescends , all the characters have <b style='color:blue'>decent</b> genuine hearts and believable <b style='color:blue'>issues</b> . the two main characters may be two of the most <b style='color:blue'>plausible</b> children i ever saw put on screen . they are not simple minded , arrogant or naive , just <b style='color:blue'>outlandish</b> , enthusiastic and learning the <b style='color:blue'>pathways</b> of the world . they are so easy to <b style='color:blue'>adore</b> , but even more easy to identify with . <b style='color:blue'>innumerable</b> films regard children from the outside , as the adult looking into a world <b style='color:blue'>exclusively</b> a <b style='color:blue'>enfant</b> could enter . ponyo brings everyone back to that world . in ponyo , there lies the first time to learn and <b style='color:blue'>opt</b> what you care <b style='color:blue'>roundabout</b> most , which the <b style='color:blue'>movie</b> values with high esteem . it is worth it to remember , to feel it again ."
      ],
      "text/plain": [
       "<IPython.core.display.HTML object>"
      ]
     },
     "metadata": {},
     "output_type": "display_data"
    },
    {
     "name": "stdout",
     "output_type": "stream",
     "text": [
      "--------------------------------------------------\n",
      "#66   index = 1465\n",
      "ATTACK FAILED\n",
      "--------------------------------------------------\n",
      "#67   index = 18936\n",
      "ATTACK SUCCEEDED\n",
      "Original prediction: 0.033213\n"
     ]
    },
    {
     "data": {
      "text/html": [
       "this <b style='color:red'>movie</b> is not a remake of shes all that ( 1999 ) ? where is the renewal of the american movie ? this was probably the <b style='color:red'>worst</b> <b style='color:red'>movie</b> i saw in the last <b style='color:red'>5</b> <b style='color:red'>years</b> . this and the <b style='color:red'>last</b> movies of schwarzenegger ."
      ],
      "text/plain": [
       "<IPython.core.display.HTML object>"
      ]
     },
     "metadata": {},
     "output_type": "display_data"
    },
    {
     "name": "stdout",
     "output_type": "stream",
     "text": [
      "\n",
      "New prediction: 0.512042\n"
     ]
    },
    {
     "data": {
      "text/html": [
       "this <b style='color:blue'>filmmaking</b> is not a remake of shes all that ( 1999 ) ? where is the renewal of the american movie ? this was probably the <b style='color:blue'>lousiest</b> <b style='color:blue'>film</b> i saw in the last <b style='color:blue'>6</b> <b style='color:blue'>decades</b> . this and the <b style='color:blue'>final</b> movies of schwarzenegger ."
      ],
      "text/plain": [
       "<IPython.core.display.HTML object>"
      ]
     },
     "metadata": {},
     "output_type": "display_data"
    },
    {
     "name": "stdout",
     "output_type": "stream",
     "text": [
      "--------------------------------------------------\n",
      "#68   index = 21283\n",
      "ATTACK SUCCEEDED\n",
      "Original prediction: 0.043199\n"
     ]
    },
    {
     "data": {
      "text/html": [
       "you might think that a show about regular teens with superpowers would be interesting , but its far from that . take the concept for example : the main character ( s ) have a big secret that they hide from theyre peers . its just like hannah montana and thats so raven . next , the acting is just average . selena gomez seems to be half asleep through many scenes . lastly , the jokes are either cliché or boring . if theyre not using theyre colorful , yet strange dialog to make us laugh , they are throwing various props around the room . i <b style='color:red'>really</b> wish this show would use more <b style='color:red'>original</b> and entertaining material . in conclusion , wisards of waverly place is a <b style='color:red'>disappointment</b> ."
      ],
      "text/plain": [
       "<IPython.core.display.HTML object>"
      ]
     },
     "metadata": {},
     "output_type": "display_data"
    },
    {
     "name": "stdout",
     "output_type": "stream",
     "text": [
      "\n",
      "New prediction: 0.537714\n"
     ]
    },
    {
     "data": {
      "text/html": [
       "you might think that a show about regular teens with superpowers would be interesting , but its far from that . take the concept for example : the main character ( s ) have a big secret that they hide from theyre peers . its just like hannah montana and thats so raven . next , the acting is just average . selena gomez seems to be half asleep through many scenes . lastly , the jokes are either cliché or boring . if theyre not using theyre colorful , yet strange dialog to make us laugh , they are throwing various props around the room . i <b style='color:blue'>truly</b> wish this show would use more <b style='color:blue'>preliminary</b> and entertaining material . in conclusion , wisards of waverly place is a <b style='color:blue'>disenchantment</b> ."
      ],
      "text/plain": [
       "<IPython.core.display.HTML object>"
      ]
     },
     "metadata": {},
     "output_type": "display_data"
    },
    {
     "name": "stdout",
     "output_type": "stream",
     "text": [
      "--------------------------------------------------\n",
      "#69   index = 2213\n",
      "ATTACK SUCCEEDED\n",
      "Original prediction: 0.921771\n"
     ]
    },
    {
     "data": {
      "text/html": [
       "this film is the most impressing turkish film that i have ever seen . probably okul is the first turkish horror film . i must say that i were excited while watching the movie because of some reasons , the first reason is that the story is <b style='color:red'>impressive</b> , i mean that at the end of the film you realised all the details about movie , this makes the film attractive and the other reason is that no turkish man made such a movie like that before . this shows that turkish film improves itself by time . although the first trial to make a horror movie , it was really successful . i advice all of you not to miss this movie . . ."
      ],
      "text/plain": [
       "<IPython.core.display.HTML object>"
      ]
     },
     "metadata": {},
     "output_type": "display_data"
    },
    {
     "name": "stdout",
     "output_type": "stream",
     "text": [
      "\n",
      "New prediction: 0.337476\n"
     ]
    },
    {
     "data": {
      "text/html": [
       "this film is the most impressing turkish film that i have ever seen . probably okul is the first turkish horror film . i must say that i were excited while watching the movie because of some reasons , the first reason is that the story is <b style='color:blue'>staggering</b> , i mean that at the end of the film you realised all the details about movie , this makes the film attractive and the other reason is that no turkish man made such a movie like that before . this shows that turkish film improves itself by time . although the first trial to make a horror movie , it was really successful . i advice all of you not to miss this movie . . ."
      ],
      "text/plain": [
       "<IPython.core.display.HTML object>"
      ]
     },
     "metadata": {},
     "output_type": "display_data"
    },
    {
     "name": "stdout",
     "output_type": "stream",
     "text": [
      "--------------------------------------------------\n",
      "#70   index = 9317\n",
      "ATTACK FAILED\n",
      "--------------------------------------------------\n",
      "#71   index = 12204\n",
      "ATTACK SUCCEEDED\n",
      "Original prediction: 0.991613\n"
     ]
    },
    {
     "data": {
      "text/html": [
       "even if i had never seen or heard of georgetown , co , this would be a sweet little movie . but my dad was born and raised there , and those are my uncles horses you see pulling the sleigh ! so this movie is very <b style='color:red'>special</b> to me . a <b style='color:red'>lot</b> of the interiors are shot in buildings and houses i recognize , and are very realistic . the story is a <b style='color:red'>little</b> hokey , but georgetown is that kind of magical place where things like that could happen . john denver was a better actor than a <b style='color:red'>lot</b> of people give him credit for . mary wickes plays the kind of common - sense lady with a lot of sass she played so well in many other films , most notably white christmas . i usually dont get to go out there in the winter , so i like to see this movie at <b style='color:red'>christmas</b> time to tide me over until my <b style='color:red'>next</b> trip !"
      ],
      "text/plain": [
       "<IPython.core.display.HTML object>"
      ]
     },
     "metadata": {},
     "output_type": "display_data"
    },
    {
     "name": "stdout",
     "output_type": "stream",
     "text": [
      "\n",
      "New prediction: 0.482780\n"
     ]
    },
    {
     "data": {
      "text/html": [
       "even if i had never seen or heard of georgetown , co , this would be a sweet little movie . but my dad was born and raised there , and those are my uncles horses you see pulling the sleigh ! so this movie is very <b style='color:blue'>peculiar</b> to me . a <b style='color:blue'>batch</b> of the interiors are shot in buildings and houses i recognize , and are very realistic . the story is a <b style='color:blue'>small</b> hokey , but georgetown is that kind of magical place where things like that could happen . john denver was a better actor than a <b style='color:blue'>batch</b> of people give him credit for . mary wickes plays the kind of common - sense lady with a lot of sass she played so well in many other films , most notably white christmas . i usually dont get to go out there in the winter , so i like to see this movie at <b style='color:blue'>xmas</b> time to tide me over until my <b style='color:blue'>impending</b> trip !"
      ],
      "text/plain": [
       "<IPython.core.display.HTML object>"
      ]
     },
     "metadata": {},
     "output_type": "display_data"
    },
    {
     "name": "stdout",
     "output_type": "stream",
     "text": [
      "--------------------------------------------------\n",
      "#72   index = 19911\n",
      "ATTACK FAILED\n",
      "--------------------------------------------------\n",
      "#73   index = 14203\n",
      "ATTACK FAILED\n",
      "--------------------------------------------------\n",
      "#74   index = 16250\n",
      "ATTACK FAILED\n",
      "--------------------------------------------------\n",
      "#75   index = 15467\n",
      "ATTACK FAILED\n",
      "--------------------------------------------------\n",
      "#76   index = 3132\n",
      "ATTACK SUCCEEDED\n",
      "Original prediction: 0.996533\n"
     ]
    },
    {
     "data": {
      "text/html": [
       "this film is an <b style='color:red'>excellent</b> example of what an independent film can be . the director does an <b style='color:red'>excellent</b> job of riding the line between emotional and physical violence . but in the end , he remembers what so many indie - films forget - he tells a good story . when watching this film i was reminded of how timid and mundane most big - budget hollywood films really have become . especially notable , is an <b style='color:red'>exceptionally</b> strong performance by the films lead - jorge cordova . as an villainous thug ( on his way to the top of the <b style='color:red'>crime</b> heap ) cordova plays a conniving , brutal , conceited , devious , and sleazy s . o . b . , but he is so likable that he keeps you entertained the whole time . i read somewhere that these guys were part of the new wave of latino filmmakers in los angeles - called la nueva obra , or something like that . either way , this film makes you look forward to seeing more of their work ."
      ],
      "text/plain": [
       "<IPython.core.display.HTML object>"
      ]
     },
     "metadata": {},
     "output_type": "display_data"
    },
    {
     "name": "stdout",
     "output_type": "stream",
     "text": [
      "\n",
      "New prediction: 0.213146\n"
     ]
    },
    {
     "data": {
      "text/html": [
       "this film is an <b style='color:blue'>grandiose</b> example of what an independent film can be . the director does an <b style='color:blue'>grandiose</b> job of riding the line between emotional and physical violence . but in the end , he remembers what so many indie - films forget - he tells a good story . when watching this film i was reminded of how timid and mundane most big - budget hollywood films really have become . especially notable , is an <b style='color:blue'>excessively</b> strong performance by the films lead - jorge cordova . as an villainous thug ( on his way to the top of the <b style='color:blue'>offense</b> heap ) cordova plays a conniving , brutal , conceited , devious , and sleazy s . o . b . , but he is so likable that he keeps you entertained the whole time . i read somewhere that these guys were part of the new wave of latino filmmakers in los angeles - called la nueva obra , or something like that . either way , this film makes you look forward to seeing more of their work ."
      ],
      "text/plain": [
       "<IPython.core.display.HTML object>"
      ]
     },
     "metadata": {},
     "output_type": "display_data"
    },
    {
     "name": "stdout",
     "output_type": "stream",
     "text": [
      "--------------------------------------------------\n",
      "#77   index = 16773\n",
      "ATTACK SUCCEEDED\n",
      "Original prediction: 0.007567\n"
     ]
    },
    {
     "data": {
      "text/html": [
       "that the clergy is portrayed in the screenplay . another <b style='color:red'>awful</b> aspect of this movie is that it <b style='color:red'>gives</b> the wrong impression to the general public that scientific research is <b style='color:red'>done</b> by a <b style='color:red'>solitary</b> crazy man who just writes a lot . nothing could be further from the truth . the conception of the theory of evolution was the result of thorough observations of living forms by darwin during five years in the hms beagle , and was developed gradually as it can be seen from darwins notes of the voyage . even though the beagle voyage was the sole most important part of darwins life to the conception of origin of species , the voyage is briefly mentioned only once at the beginning , and no attempt is made to show that the book came as an elaborate analysis of observations . to make it worse , darwin is shown performing a single experiment ( pigeon breeding ) to test his theory and , in the end , quits it . and im not really sure whether such experiment did actually occur . <b style='color:red'>great</b> <b style='color:red'>disappointment</b> . it is not in any way a <b style='color:red'>homage</b> to darwin and science ."
      ],
      "text/plain": [
       "<IPython.core.display.HTML object>"
      ]
     },
     "metadata": {},
     "output_type": "display_data"
    },
    {
     "name": "stdout",
     "output_type": "stream",
     "text": [
      "\n",
      "New prediction: 0.516366\n"
     ]
    },
    {
     "data": {
      "text/html": [
       "that the clergy is portrayed in the screenplay . another <b style='color:blue'>harrowing</b> aspect of this movie is that it <b style='color:blue'>delivers</b> the wrong impression to the general public that scientific research is <b style='color:blue'>accomplished</b> by a <b style='color:blue'>lonely</b> crazy man who just writes a lot . nothing could be further from the truth . the conception of the theory of evolution was the result of thorough observations of living forms by darwin during five years in the hms beagle , and was developed gradually as it can be seen from darwins notes of the voyage . even though the beagle voyage was the sole most important part of darwins life to the conception of origin of species , the voyage is briefly mentioned only once at the beginning , and no attempt is made to show that the book came as an elaborate analysis of observations . to make it worse , darwin is shown performing a single experiment ( pigeon breeding ) to test his theory and , in the end , quits it . and im not really sure whether such experiment did actually occur . <b style='color:blue'>excellent</b> <b style='color:blue'>disenchantment</b> . it is not in any way a <b style='color:blue'>accolade</b> to darwin and science ."
      ],
      "text/plain": [
       "<IPython.core.display.HTML object>"
      ]
     },
     "metadata": {},
     "output_type": "display_data"
    },
    {
     "name": "stdout",
     "output_type": "stream",
     "text": [
      "--------------------------------------------------\n",
      "#78   index = 17480\n",
      "ATTACK SUCCEEDED\n",
      "Original prediction: 0.051020\n"
     ]
    },
    {
     "data": {
      "text/html": [
       "( <b style='color:red'>bad</b> in the way only ken russell at his worst can be ) , you must try this one . it succeeds in making you feel like you just landed in a . 25 <b style='color:red'>porn</b> - booth , and you can just about smell the urine on the floor . kathleen turner struts around in a blond wig , getting her kicks from pretending to be a two - bit hooker ( she really has a <b style='color:red'>good</b> solid job in the <b style='color:red'>clothing</b> industry and has been hurt so <b style='color:red'>badly</b> by men that this is the <b style='color:red'>only</b> way she can connect ) , and tony perkins plays a hysterical <b style='color:red'>priest</b> who is out to maybe murderer her ( yet another movie that ends with tony perkins in drag ) . annie potts shows up and is not allowed to provide an ounce of her usual wit , which is <b style='color:red'>reason</b> enough to hate this movie . the kinky will love the sex scenes , so rent the unrated version in the red box so you can see turner give a cop a taste of his billy club ( i had to pause the vcr until we stopped laughing ) ."
      ],
      "text/plain": [
       "<IPython.core.display.HTML object>"
      ]
     },
     "metadata": {},
     "output_type": "display_data"
    },
    {
     "name": "stdout",
     "output_type": "stream",
     "text": [
      "\n",
      "New prediction: 0.539880\n"
     ]
    },
    {
     "data": {
      "text/html": [
       "( <b style='color:blue'>wicked</b> in the way only ken russell at his worst can be ) , you must try this one . it succeeds in making you feel like you just landed in a . 25 <b style='color:blue'>pornography</b> - booth , and you can just about smell the urine on the floor . kathleen turner struts around in a blond wig , getting her kicks from pretending to be a two - bit hooker ( she really has a <b style='color:blue'>exemplary</b> solid job in the <b style='color:blue'>apparel</b> industry and has been hurt so <b style='color:blue'>desperately</b> by men that this is the <b style='color:blue'>exclusively</b> way she can connect ) , and tony perkins plays a hysterical <b style='color:blue'>orator</b> who is out to maybe murderer her ( yet another movie that ends with tony perkins in drag ) . annie potts shows up and is not allowed to provide an ounce of her usual wit , which is <b style='color:blue'>cause</b> enough to hate this movie . the kinky will love the sex scenes , so rent the unrated version in the red box so you can see turner give a cop a taste of his billy club ( i had to pause the vcr until we stopped laughing ) ."
      ],
      "text/plain": [
       "<IPython.core.display.HTML object>"
      ]
     },
     "metadata": {},
     "output_type": "display_data"
    },
    {
     "name": "stdout",
     "output_type": "stream",
     "text": [
      "--------------------------------------------------\n",
      "#79   index = 9040\n",
      "ATTACK FAILED\n",
      "--------------------------------------------------\n",
      "#80   index = 17335\n",
      "ATTACK FAILED\n",
      "--------------------------------------------------\n",
      "#81   index = 4516\n",
      "ATTACK SUCCEEDED\n",
      "Original prediction: 0.984769\n"
     ]
    },
    {
     "data": {
      "text/html": [
       "and clever . however , the best performance probably wasnt from any of the couples but from fred willard who played the worlds stupidest and least talented announcer in human history . his comments were uniformly inane and often betrayed his as an <b style='color:red'>incredibly</b> stupid person - - how he got to be the announcer for such a prestigious show is anyones guess . the other contestants featured were also quite funny - - the high - priced professional poodle handler and its rich owner , the country boy and his hound as well as winkies parents who could barely scrape together enough to make it to the show . despite the improvised style of film making , the pieces all fit together <b style='color:red'>wonderfully</b> and told a very funny and <b style='color:red'>compelling</b> story - - one that is not for dog owners only . <b style='color:red'>exceptional</b> acting made this one of the <b style='color:red'>best</b> comedies of the last decade . <b style='color:red'>clever</b> and <b style='color:red'>consistently</b> funny . by the way , try to find this on dvd as the extras were actually worth seeing . while a bit painful to watch , i loved seeing harlan pepper and his beach ball collection in particular !"
      ],
      "text/plain": [
       "<IPython.core.display.HTML object>"
      ]
     },
     "metadata": {},
     "output_type": "display_data"
    },
    {
     "name": "stdout",
     "output_type": "stream",
     "text": [
      "\n",
      "New prediction: 0.479584\n"
     ]
    },
    {
     "data": {
      "text/html": [
       "and clever . however , the best performance probably wasnt from any of the couples but from fred willard who played the worlds stupidest and least talented announcer in human history . his comments were uniformly inane and often betrayed his as an <b style='color:blue'>unbelievably</b> stupid person - - how he got to be the announcer for such a prestigious show is anyones guess . the other contestants featured were also quite funny - - the high - priced professional poodle handler and its rich owner , the country boy and his hound as well as winkies parents who could barely scrape together enough to make it to the show . despite the improvised style of film making , the pieces all fit together <b style='color:blue'>marvellously</b> and told a very funny and <b style='color:blue'>conclusive</b> story - - one that is not for dog owners only . <b style='color:blue'>dramatic</b> acting made this one of the <b style='color:blue'>bestest</b> comedies of the last decade . <b style='color:blue'>smart</b> and <b style='color:blue'>systematically</b> funny . by the way , try to find this on dvd as the extras were actually worth seeing . while a bit painful to watch , i loved seeing harlan pepper and his beach ball collection in particular !"
      ],
      "text/plain": [
       "<IPython.core.display.HTML object>"
      ]
     },
     "metadata": {},
     "output_type": "display_data"
    },
    {
     "name": "stdout",
     "output_type": "stream",
     "text": [
      "--------------------------------------------------\n",
      "#82   index = 621\n",
      "ATTACK SUCCEEDED\n",
      "Original prediction: 0.998724\n"
     ]
    },
    {
     "data": {
      "text/html": [
       "i had the pleasure of seeing saltimbanco live before seeing the video version of the show . while nothing can compare to actually being there , the people behind the video did an amazing job of capturing the flavor , the feel , the sensation and so much more . the <b style='color:red'>wonderful</b> performances of saltimbancos stunningly <b style='color:red'>amazing</b> troupe are <b style='color:red'>beautifully</b> captured throughout . the video flows as smoothly and artfully as the production itself . a <b style='color:red'>wonderful</b> experience ."
      ],
      "text/plain": [
       "<IPython.core.display.HTML object>"
      ]
     },
     "metadata": {},
     "output_type": "display_data"
    },
    {
     "name": "stdout",
     "output_type": "stream",
     "text": [
      "\n",
      "New prediction: 0.362371\n"
     ]
    },
    {
     "data": {
      "text/html": [
       "i had the pleasure of seeing saltimbanco live before seeing the video version of the show . while nothing can compare to actually being there , the people behind the video did an amazing job of capturing the flavor , the feel , the sensation and so much more . the <b style='color:blue'>fanciful</b> performances of saltimbancos stunningly <b style='color:blue'>staggering</b> troupe are <b style='color:blue'>marvellously</b> captured throughout . the video flows as smoothly and artfully as the production itself . a <b style='color:blue'>grandiose</b> experience ."
      ],
      "text/plain": [
       "<IPython.core.display.HTML object>"
      ]
     },
     "metadata": {},
     "output_type": "display_data"
    },
    {
     "name": "stdout",
     "output_type": "stream",
     "text": [
      "--------------------------------------------------\n",
      "#83   index = 17199\n",
      "ATTACK SUCCEEDED\n",
      "Original prediction: 0.026673\n"
     ]
    },
    {
     "data": {
      "text/html": [
       "what were they thinking when they made this truly <b style='color:red'>terrible</b> film ? arbus , one of the most important photographers and women of the twentieth century , had a fascinating and dramatic life . what possessed anyone to make this film , which explains her unique artistic vision , as being the result of an ( imaginary ) affair with a grotesque , yet charismatic hairy freak ( played by downey ) ? in real life , arbus broke out of a traditional marriage and womans role to express herself . in this movie , arbus is an <b style='color:red'>ultra</b> - dreary nicole kidman whose inspiration is all attributed to a beauty and the beast devotion to an interesting man . for this reinvention , the film is truly <b style='color:red'>shameful</b> . independent of that , it is <b style='color:red'>also</b> just dopey and dull ."
      ],
      "text/plain": [
       "<IPython.core.display.HTML object>"
      ]
     },
     "metadata": {},
     "output_type": "display_data"
    },
    {
     "name": "stdout",
     "output_type": "stream",
     "text": [
      "\n",
      "New prediction: 0.526379\n"
     ]
    },
    {
     "data": {
      "text/html": [
       "what were they thinking when they made this truly <b style='color:blue'>harrowing</b> film ? arbus , one of the most important photographers and women of the twentieth century , had a fascinating and dramatic life . what possessed anyone to make this film , which explains her unique artistic vision , as being the result of an ( imaginary ) affair with a grotesque , yet charismatic hairy freak ( played by downey ) ? in real life , arbus broke out of a traditional marriage and womans role to express herself . in this movie , arbus is an <b style='color:blue'>super</b> - dreary nicole kidman whose inspiration is all attributed to a beauty and the beast devotion to an interesting man . for this reinvention , the film is truly <b style='color:blue'>dishonourable</b> . independent of that , it is <b style='color:blue'>besides</b> just dopey and dull ."
      ],
      "text/plain": [
       "<IPython.core.display.HTML object>"
      ]
     },
     "metadata": {},
     "output_type": "display_data"
    },
    {
     "name": "stdout",
     "output_type": "stream",
     "text": [
      "--------------------------------------------------\n",
      "#84   index = 5215\n",
      "ATTACK SUCCEEDED\n",
      "Original prediction: 0.921137\n"
     ]
    },
    {
     "data": {
      "text/html": [
       "significantly inferior to until death which was a really good turn for van damme . until death lacked the over - the - top action of most van damme films but was dark and gritty and van dammes performance as an actor was <b style='color:red'>surprisingly</b> good in that film . still , the shepherd is definitely a film worth checking out especially for van damme fans or just action movie fans in general but if youre looking for a film with a bit more story line . . . . . you may want to skip this one ! i do believe that this film was done well enough especially on what little budget it would have been shot on . the only real problem i have with this film is the title ; the shepherd ? i dont get it ! i suppose border patrol just doesnt have the same ring to it without the word shepherd in front of it ! ! ! my rating for this film is 7 out of 10 but thats by van damme movie standards not in any other film category . i . e . its good for a van damme film ."
      ],
      "text/plain": [
       "<IPython.core.display.HTML object>"
      ]
     },
     "metadata": {},
     "output_type": "display_data"
    },
    {
     "name": "stdout",
     "output_type": "stream",
     "text": [
      "\n",
      "New prediction: 0.426086\n"
     ]
    },
    {
     "data": {
      "text/html": [
       "significantly inferior to until death which was a really good turn for van damme . until death lacked the over - the - top action of most van damme films but was dark and gritty and van dammes performance as an actor was <b style='color:blue'>appallingly</b> good in that film . still , the shepherd is definitely a film worth checking out especially for van damme fans or just action movie fans in general but if youre looking for a film with a bit more story line . . . . . you may want to skip this one ! i do believe that this film was done well enough especially on what little budget it would have been shot on . the only real problem i have with this film is the title ; the shepherd ? i dont get it ! i suppose border patrol just doesnt have the same ring to it without the word shepherd in front of it ! ! ! my rating for this film is 7 out of 10 but thats by van damme movie standards not in any other film category . i . e . its good for a van damme film ."
      ],
      "text/plain": [
       "<IPython.core.display.HTML object>"
      ]
     },
     "metadata": {},
     "output_type": "display_data"
    },
    {
     "name": "stdout",
     "output_type": "stream",
     "text": [
      "--------------------------------------------------\n",
      "#85   index = 18240\n",
      "ATTACK FAILED\n",
      "--------------------------------------------------\n",
      "#86   index = 4305\n",
      "ATTACK SUCCEEDED\n",
      "Original prediction: 0.980812\n"
     ]
    },
    {
     "data": {
      "text/html": [
       "<b style='color:red'>favorite</b> creature features . * * * * * possible spoilers ahead * * * * * * * count dracula and larry talbot ; aka wolfman , arrive at the laboratory of dr . edelman seeking a cure for their nocturnal anti - social behavior , such as killing people . in the meantime , kindly dr . edelman discovers the body of the frankenstein monster . becoming obsessed with bringing it back to life ( a common character trait among scientists , <b style='color:red'>mad</b> or otherwise ) , he goes against his better judgement , resulting in monster mayhem and madness . one of the final universal classics of its time ( abbot and costello meet frankenstein followed 3 years later ) , it rates a 10 with this reviewer . onslow steven steals the show as <b style='color:red'>good</b> <b style='color:red'>doctor</b> gone <b style='color:red'>bad</b> after being <b style='color:red'>infected</b> by the blood of dracula and becoming a half - werewolf / vampire creature , coming to a tragic end . at 1 hour 7 min . it packs quite a punch . a worthy addition to my video <b style='color:red'>collection</b> . <b style='color:red'>rating</b> : * * * * * out of * * * * *"
      ],
      "text/plain": [
       "<IPython.core.display.HTML object>"
      ]
     },
     "metadata": {},
     "output_type": "display_data"
    },
    {
     "name": "stdout",
     "output_type": "stream",
     "text": [
      "\n",
      "New prediction: 0.464202\n"
     ]
    },
    {
     "data": {
      "text/html": [
       "<b style='color:blue'>preferred</b> creature features . * * * * * possible spoilers ahead * * * * * * * count dracula and larry talbot ; aka wolfman , arrive at the laboratory of dr . edelman seeking a cure for their nocturnal anti - social behavior , such as killing people . in the meantime , kindly dr . edelman discovers the body of the frankenstein monster . becoming obsessed with bringing it back to life ( a common character trait among scientists , <b style='color:blue'>loony</b> or otherwise ) , he goes against his better judgement , resulting in monster mayhem and madness . one of the final universal classics of its time ( abbot and costello meet frankenstein followed 3 years later ) , it rates a 10 with this reviewer . onslow steven steals the show as <b style='color:blue'>allright</b> <b style='color:blue'>physician</b> gone <b style='color:blue'>lousy</b> after being <b style='color:blue'>contaminated</b> by the blood of dracula and becoming a half - werewolf / vampire creature , coming to a tragic end . at 1 hour 7 min . it packs quite a punch . a worthy addition to my video <b style='color:blue'>collecting</b> . <b style='color:blue'>appraisal</b> : * * * * * out of * * * * *"
      ],
      "text/plain": [
       "<IPython.core.display.HTML object>"
      ]
     },
     "metadata": {},
     "output_type": "display_data"
    },
    {
     "name": "stdout",
     "output_type": "stream",
     "text": [
      "--------------------------------------------------\n",
      "#87   index = 15995\n",
      "ATTACK SUCCEEDED\n",
      "Original prediction: 0.017540\n"
     ]
    },
    {
     "data": {
      "text/html": [
       "this movie seemed like it was put together very quickly in both plot and graphics . my two daughters were ready to go 30 minutes before the end of the movie which rarely happens when we go to the theaters . this was a nickelodeon production and it would have been better if they had released it on the t . v . station . the animation itself in some parts was o . k . but the plot was <b style='color:red'>horrible</b> . a <b style='color:red'>classic</b> tale of a son trying to fulfill a fathers expectations is used in a lot of kids movies , but the animation or graphics need to be really good to keep a childs attention . this was not the case with this film . there were also awkward elements between the lead male character and the lead female character that the plot could have done without ."
      ],
      "text/plain": [
       "<IPython.core.display.HTML object>"
      ]
     },
     "metadata": {},
     "output_type": "display_data"
    },
    {
     "name": "stdout",
     "output_type": "stream",
     "text": [
      "\n",
      "New prediction: 0.538915\n"
     ]
    },
    {
     "data": {
      "text/html": [
       "this movie seemed like it was put together very quickly in both plot and graphics . my two daughters were ready to go 30 minutes before the end of the movie which rarely happens when we go to the theaters . this was a nickelodeon production and it would have been better if they had released it on the t . v . station . the animation itself in some parts was o . k . but the plot was <b style='color:blue'>harrowing</b> . a <b style='color:blue'>distinctive</b> tale of a son trying to fulfill a fathers expectations is used in a lot of kids movies , but the animation or graphics need to be really good to keep a childs attention . this was not the case with this film . there were also awkward elements between the lead male character and the lead female character that the plot could have done without ."
      ],
      "text/plain": [
       "<IPython.core.display.HTML object>"
      ]
     },
     "metadata": {},
     "output_type": "display_data"
    },
    {
     "name": "stdout",
     "output_type": "stream",
     "text": [
      "--------------------------------------------------\n",
      "#88   index = 19527\n",
      "ATTACK FAILED\n",
      "--------------------------------------------------\n",
      "#89   index = 16501\n",
      "ATTACK FAILED\n",
      "--------------------------------------------------\n",
      "#90   index = 12988\n",
      "ATTACK FAILED\n",
      "--------------------------------------------------\n",
      "#91   index = 622\n",
      "ATTACK FAILED\n",
      "--------------------------------------------------\n",
      "#92   index = 23761\n",
      "ATTACK FAILED\n",
      "--------------------------------------------------\n",
      "#93   index = 24886\n",
      "ATTACK FAILED\n",
      "--------------------------------------------------\n",
      "#94   index = 2096\n",
      "ATTACK SUCCEEDED\n",
      "Original prediction: 0.958321\n"
     ]
    },
    {
     "data": {
      "text/html": [
       "kill a single american , or they will do whatever it takes , including torture to enact justice . this is the american way apparently . call me a liberal , call me naive ( although i think the people who think torture is fine are naive ) call me deluded , call me anything you like , but this film is a <b style='color:red'>brilliant</b> example of what is wrong in america and the west today . i wish this film would be shown to all school students , at a minimum . this film will stay with me a long time , part of me wishes i could forget it , because i wish this type of thing never happened , but i know it does , the other part of me wishes i would never forget , because we need to remember these shameful events to prevent them from happening again . whatever happens to me , this film will be with me for a long time , and i will be telling everyone i know to watch it , not to be entertained , but to be provoked , because sometimes we all need to be provoked ."
      ],
      "text/plain": [
       "<IPython.core.display.HTML object>"
      ]
     },
     "metadata": {},
     "output_type": "display_data"
    },
    {
     "name": "stdout",
     "output_type": "stream",
     "text": [
      "\n",
      "New prediction: 0.414907\n"
     ]
    },
    {
     "data": {
      "text/html": [
       "kill a single american , or they will do whatever it takes , including torture to enact justice . this is the american way apparently . call me a liberal , call me naive ( although i think the people who think torture is fine are naive ) call me deluded , call me anything you like , but this film is a <b style='color:blue'>grandiose</b> example of what is wrong in america and the west today . i wish this film would be shown to all school students , at a minimum . this film will stay with me a long time , part of me wishes i could forget it , because i wish this type of thing never happened , but i know it does , the other part of me wishes i would never forget , because we need to remember these shameful events to prevent them from happening again . whatever happens to me , this film will be with me for a long time , and i will be telling everyone i know to watch it , not to be entertained , but to be provoked , because sometimes we all need to be provoked ."
      ],
      "text/plain": [
       "<IPython.core.display.HTML object>"
      ]
     },
     "metadata": {},
     "output_type": "display_data"
    },
    {
     "name": "stdout",
     "output_type": "stream",
     "text": [
      "--------------------------------------------------\n",
      "#95   index = 20300\n",
      "ATTACK FAILED\n",
      "--------------------------------------------------\n",
      "#96   index = 21183\n",
      "ATTACK FAILED\n",
      "--------------------------------------------------\n",
      "#97   index = 4010\n",
      "ATTACK SUCCEEDED\n",
      "Original prediction: 0.991664\n"
     ]
    },
    {
     "data": {
      "text/html": [
       "the movie haggard is one of the funniest movies of all time . it features the cast from cky ( the movies ) and also has a great soundtrack . if you have seen any cky or viva la bam you will notice that everybody ( from those two ) are in it . including bams parents and many other people . the story is about ryan dunns girlfriend glauren ( jennifer rivall ) cheating on him , and him trying to get back at her . he does this by having valo ( bam ) and falcone ( dicamillo ) vandalize her house . there are many different characters with many different stories . there is <b style='color:red'>great</b> music on the soundtrack . bands such as him & her , cky , gnar kill , daniel lioneye . iggy and the stooges pop , and new order . if you do not like viva la bam or cky ( the movies ) i doubt you will like this . if you do like that stuff . . . this movie is <b style='color:red'>great</b> ."
      ],
      "text/plain": [
       "<IPython.core.display.HTML object>"
      ]
     },
     "metadata": {},
     "output_type": "display_data"
    },
    {
     "name": "stdout",
     "output_type": "stream",
     "text": [
      "\n",
      "New prediction: 0.449267\n"
     ]
    },
    {
     "data": {
      "text/html": [
       "the movie haggard is one of the funniest movies of all time . it features the cast from cky ( the movies ) and also has a great soundtrack . if you have seen any cky or viva la bam you will notice that everybody ( from those two ) are in it . including bams parents and many other people . the story is about ryan dunns girlfriend glauren ( jennifer rivall ) cheating on him , and him trying to get back at her . he does this by having valo ( bam ) and falcone ( dicamillo ) vandalize her house . there are many different characters with many different stories . there is <b style='color:blue'>grandiose</b> music on the soundtrack . bands such as him & her , cky , gnar kill , daniel lioneye . iggy and the stooges pop , and new order . if you do not like viva la bam or cky ( the movies ) i doubt you will like this . if you do like that stuff . . . this movie is <b style='color:blue'>grandiose</b> ."
      ],
      "text/plain": [
       "<IPython.core.display.HTML object>"
      ]
     },
     "metadata": {},
     "output_type": "display_data"
    },
    {
     "name": "stdout",
     "output_type": "stream",
     "text": [
      "--------------------------------------------------\n",
      "#98   index = 8774\n",
      "ATTACK FAILED\n",
      "--------------------------------------------------\n",
      "#99   index = 2860\n",
      "ATTACK SUCCEEDED\n",
      "Original prediction: 0.983982\n"
     ]
    },
    {
     "data": {
      "text/html": [
       "films such as prepies ( 1984 ) , hot times ( 1974 ) and the popular porkys ( 1981 ) were making mucho money . yet it is the <b style='color:red'>last</b> american virgin the one that actually has a more <b style='color:red'>serious</b> plot story amidst the nudity and sexual situations . it is the <b style='color:red'>often</b> told tale of three high school buddies who want to lose their virginity . the go to the <b style='color:red'>wrong</b> <b style='color:red'>places</b> ( prostitutes ) , the <b style='color:red'>dangerous</b> ones ( older woman with jealous boyfriend ) and the convenient ones ( luring their high school female counterparts ) . the <b style='color:red'>movie</b> has a <b style='color:red'>lot</b> of funny moments , and although the <b style='color:red'>cast</b> did not produce a <b style='color:red'>single</b> major movie star , it is worth remembering for a <b style='color:red'>fantastic</b> 80s soundtrack that <b style='color:red'>includes</b> : devo , the cars , <b style='color:red'>journey</b> and others . by today <b style='color:red'>standards</b> is raunchy and might have grabbed a nc - 17 rating , but is a well told story of how <b style='color:red'>sometimes</b> personal <b style='color:red'>fixation</b> can <b style='color:red'>only</b> bring pain , while <b style='color:red'>love</b> might be right in front of us . it is a little piece of 80s americana and worth having in your <b style='color:red'>movie</b> <b style='color:red'>collection</b> ."
      ],
      "text/plain": [
       "<IPython.core.display.HTML object>"
      ]
     },
     "metadata": {},
     "output_type": "display_data"
    },
    {
     "name": "stdout",
     "output_type": "stream",
     "text": [
      "\n",
      "New prediction: 0.496302\n"
     ]
    },
    {
     "data": {
      "text/html": [
       "films such as prepies ( 1984 ) , hot times ( 1974 ) and the popular porkys ( 1981 ) were making mucho money . yet it is the <b style='color:blue'>final</b> american virgin the one that actually has a more <b style='color:blue'>weighty</b> plot story amidst the nudity and sexual situations . it is the <b style='color:blue'>habitually</b> told tale of three high school buddies who want to lose their virginity . the go to the <b style='color:blue'>inaccurate</b> <b style='color:blue'>locations</b> ( prostitutes ) , the <b style='color:blue'>hazardous</b> ones ( older woman with jealous boyfriend ) and the convenient ones ( luring their high school female counterparts ) . the <b style='color:blue'>filmmaking</b> has a <b style='color:blue'>batch</b> of funny moments , and although the <b style='color:blue'>casting</b> did not produce a <b style='color:blue'>lone</b> major movie star , it is worth remembering for a <b style='color:blue'>grandiose</b> 80s soundtrack that <b style='color:blue'>contains</b> : devo , the cars , <b style='color:blue'>voyage</b> and others . by today <b style='color:blue'>norms</b> is raunchy and might have grabbed a nc - 17 rating , but is a well told story of how <b style='color:blue'>routinely</b> personal <b style='color:blue'>fix</b> can <b style='color:blue'>purely</b> bring pain , while <b style='color:blue'>adore</b> might be right in front of us . it is a little piece of 80s americana and worth having in your <b style='color:blue'>filmmaking</b> <b style='color:blue'>collecting</b> ."
      ],
      "text/plain": [
       "<IPython.core.display.HTML object>"
      ]
     },
     "metadata": {},
     "output_type": "display_data"
    },
    {
     "name": "stdout",
     "output_type": "stream",
     "text": [
      "--------------------------------------------------\n",
      "#100   index = 22935\n",
      "ATTACK FAILED\n",
      "--------------------------------------------------\n",
      "#101   index = 19373\n",
      "ATTACK FAILED\n",
      "--------------------------------------------------\n",
      "#102   index = 16093\n",
      "ATTACK FAILED\n",
      "--------------------------------------------------\n",
      "#103   index = 11461\n",
      "ATTACK SUCCEEDED\n",
      "Original prediction: 0.951975\n"
     ]
    },
    {
     "data": {
      "text/html": [
       "provokes more laughs than any musical comedy . in it still , is a <b style='color:red'>grim</b> warning on the evils of taking revenge . here is where this movie makes a mistake , in cutting the judges solo in which he flagellates himself out of guilt for his crimes . without it , the judge is just a conventional villain , and this movies point is that there are no straight villains . both todd and the judge learn , too late , the horrors of having to accept responsibility for their actions , and todd loses everything in his obsession . this is well brought out by the chilling reprise of the <b style='color:red'>grim</b> yet rollicking ballad of sweeney todd , ending the show with todd and lovett rising from the grave to tell us that the end is the same : in a world full of sweeneys , <b style='color:red'>vengeance</b> begets only vengeance . attend the <b style='color:red'>tale</b> of sweeney todd . he served a dark and a <b style='color:red'>vengeful</b> god . to seek revenge may lead to hell , but everyone does it , and seldom as well as sweeney , as sweeney todd , the <b style='color:red'>demon</b> barber of fleet street ."
      ],
      "text/plain": [
       "<IPython.core.display.HTML object>"
      ]
     },
     "metadata": {},
     "output_type": "display_data"
    },
    {
     "name": "stdout",
     "output_type": "stream",
     "text": [
      "\n",
      "New prediction: 0.497946\n"
     ]
    },
    {
     "data": {
      "text/html": [
       "provokes more laughs than any musical comedy . in it still , is a <b style='color:blue'>dismal</b> warning on the evils of taking revenge . here is where this movie makes a mistake , in cutting the judges solo in which he flagellates himself out of guilt for his crimes . without it , the judge is just a conventional villain , and this movies point is that there are no straight villains . both todd and the judge learn , too late , the horrors of having to accept responsibility for their actions , and todd loses everything in his obsession . this is well brought out by the chilling reprise of the <b style='color:blue'>gloomy</b> yet rollicking ballad of sweeney todd , ending the show with todd and lovett rising from the grave to tell us that the end is the same : in a world full of sweeneys , <b style='color:blue'>payback</b> begets only vengeance . attend the <b style='color:blue'>story</b> of sweeney todd . he served a dark and a <b style='color:blue'>vindictive</b> god . to seek revenge may lead to hell , but everyone does it , and seldom as well as sweeney , as sweeney todd , the <b style='color:blue'>fiend</b> barber of fleet street ."
      ],
      "text/plain": [
       "<IPython.core.display.HTML object>"
      ]
     },
     "metadata": {},
     "output_type": "display_data"
    },
    {
     "name": "stdout",
     "output_type": "stream",
     "text": [
      "--------------------------------------------------\n",
      "#104   index = 20481\n",
      "ATTACK FAILED\n",
      "--------------------------------------------------\n",
      "#105   index = 13553\n",
      "ATTACK FAILED\n",
      "--------------------------------------------------\n",
      "#106   index = 2439\n",
      "ATTACK FAILED\n",
      "--------------------------------------------------\n",
      "#107   index = 22738\n",
      "ATTACK FAILED\n",
      "--------------------------------------------------\n",
      "#108   index = 17060\n",
      "ATTACK SUCCEEDED\n",
      "Original prediction: 0.024241\n"
     ]
    },
    {
     "data": {
      "text/html": [
       "<b style='color:red'>preposterous</b> twaddle executed in a bewilderingly <b style='color:red'>amateurish</b> and <b style='color:red'>inept</b> <b style='color:red'>way</b> - - or perhaps several since the <b style='color:red'>incredible</b> lack of continuity , tone , realism , plausibility , suspense , and much more combine with walter pidgeons bovine attempts at charm to produce a cinema curiosity to rank with some of fritz langs other stupendous failures . ( i thought the german ambassador was actually played by lang but <b style='color:red'>apparently</b> not - - they could have been twins . ) if you cannot predict the ending from several timezones away , you are not actually alive . i was <b style='color:red'>eagerly</b> awaiting this dvd and was <b style='color:red'>totally</b> <b style='color:red'>surprised</b> and <b style='color:red'>disappointed</b> by such <b style='color:red'>dire</b> crap ( even with george sanders and john carradine - - maybe i can wash my <b style='color:red'>mind</b> out by watching viaggio in italia instead and for the umpteenth time ) . anyone want a dvd used once ? ( there may be a movie to be made about the making of this atrocious film and how so <b style='color:red'>many</b> talented people could be wasted so <b style='color:red'>completely</b> . )"
      ],
      "text/plain": [
       "<IPython.core.display.HTML object>"
      ]
     },
     "metadata": {},
     "output_type": "display_data"
    },
    {
     "name": "stdout",
     "output_type": "stream",
     "text": [
      "\n",
      "New prediction: 0.508458\n"
     ]
    },
    {
     "data": {
      "text/html": [
       "<b style='color:blue'>asinine</b> twaddle executed in a bewilderingly <b style='color:blue'>unprofessional</b> and <b style='color:blue'>incapable</b> <b style='color:blue'>path</b> - - or perhaps several since the <b style='color:blue'>wonderful</b> lack of continuity , tone , realism , plausibility , suspense , and much more combine with walter pidgeons bovine attempts at charm to produce a cinema curiosity to rank with some of fritz langs other stupendous failures . ( i thought the german ambassador was actually played by lang but <b style='color:blue'>clearly</b> not - - they could have been twins . ) if you cannot predict the ending from several timezones away , you are not actually alive . i was <b style='color:blue'>anxiously</b> awaiting this dvd and was <b style='color:blue'>absolutely</b> <b style='color:blue'>amazed</b> and <b style='color:blue'>disenchanted</b> by such <b style='color:blue'>harrowing</b> crap ( even with george sanders and john carradine - - maybe i can wash my <b style='color:blue'>intellect</b> out by watching viaggio in italia instead and for the umpteenth time ) . anyone want a dvd used once ? ( there may be a movie to be made about the making of this atrocious film and how so <b style='color:blue'>numerous</b> talented people could be wasted so <b style='color:blue'>fully</b> . )"
      ],
      "text/plain": [
       "<IPython.core.display.HTML object>"
      ]
     },
     "metadata": {},
     "output_type": "display_data"
    },
    {
     "name": "stdout",
     "output_type": "stream",
     "text": [
      "--------------------------------------------------\n",
      "#109   index = 4003\n",
      "ATTACK SUCCEEDED\n",
      "Original prediction: 0.937390\n"
     ]
    },
    {
     "data": {
      "text/html": [
       ". but a great movie , and a great piece of art in general is supposed to spark arguments , not to solve them . . . maybe coppola is right , or maybe he isnt , nobody holds the truth anyway . you can watch this movie for its outer beauty , <b style='color:red'>amazing</b> scenes , great acting and <b style='color:red'>memorable</b> quotes and you will be entirely satisfied . but what really make this movie a masterpiece is its inner quality . you cant help but make a comparison with the recent fahrenheit documentary . both copolla and moore tackle similar issues , but while copolla presents matters from an outside , objective point of <b style='color:red'>view</b> , moore takes a very partisan position that really compromises the whole point of a documentary . . . it is really a <b style='color:red'>shame</b> that a film like fahrenheit 9 / 11 won a prestigious award like cannes . but anyway , if you want to start to understand a little of the vietnam war , the iraq war , the second world war and any war in general , you should definitely see this movie , and not the other one . . ."
      ],
      "text/plain": [
       "<IPython.core.display.HTML object>"
      ]
     },
     "metadata": {},
     "output_type": "display_data"
    },
    {
     "name": "stdout",
     "output_type": "stream",
     "text": [
      "\n",
      "New prediction: 0.408786\n"
     ]
    },
    {
     "data": {
      "text/html": [
       ". but a great movie , and a great piece of art in general is supposed to spark arguments , not to solve them . . . maybe coppola is right , or maybe he isnt , nobody holds the truth anyway . you can watch this movie for its outer beauty , <b style='color:blue'>staggering</b> scenes , great acting and <b style='color:blue'>noteworthy</b> quotes and you will be entirely satisfied . but what really make this movie a masterpiece is its inner quality . you cant help but make a comparison with the recent fahrenheit documentary . both copolla and moore tackle similar issues , but while copolla presents matters from an outside , objective point of <b style='color:blue'>standpoint</b> , moore takes a very partisan position that really compromises the whole point of a documentary . . . it is really a <b style='color:blue'>ignominy</b> that a film like fahrenheit 9 / 11 won a prestigious award like cannes . but anyway , if you want to start to understand a little of the vietnam war , the iraq war , the second world war and any war in general , you should definitely see this movie , and not the other one . . ."
      ],
      "text/plain": [
       "<IPython.core.display.HTML object>"
      ]
     },
     "metadata": {},
     "output_type": "display_data"
    },
    {
     "name": "stdout",
     "output_type": "stream",
     "text": [
      "--------------------------------------------------\n",
      "#110   index = 1041\n",
      "ATTACK SUCCEEDED\n",
      "Original prediction: 0.972476\n"
     ]
    },
    {
     "data": {
      "text/html": [
       "certainly dose not have the emotional impact and acting talent that can be found in notorious ( 1946 ) , but what it dose have is thrills , adventure and a nail biting climax . the two <b style='color:red'>leads</b> , admittedly , are <b style='color:red'>quite</b> weak . it is easy to understand why hitchcock wanted gary cooper for the robert cummings role and barbara stanwyck for the role that was taken by priscilla lane . also , the patriotic speeches that cuumming says ( that were written by dorothy parker ) have dated badly , and the encounter with circus troupe is poorly done ( the beard on the bearded lady is <b style='color:red'>clearly</b> false ) . however , the last half hour is edge - of - your - seat viewing , the climax atop the stature of liberty is very well done , and the film is a clear predecessor of north by northwest ( 1959 ) . the two villains , otto kruger and norman lloyd are very good and the beginning fire at the aircraft factory is a <b style='color:red'>superb</b> sequence . this not the best film hitch made , but it is surly one of his most <b style='color:red'>entertaining</b> ."
      ],
      "text/plain": [
       "<IPython.core.display.HTML object>"
      ]
     },
     "metadata": {},
     "output_type": "display_data"
    },
    {
     "name": "stdout",
     "output_type": "stream",
     "text": [
      "\n",
      "New prediction: 0.382176\n"
     ]
    },
    {
     "data": {
      "text/html": [
       "certainly dose not have the emotional impact and acting talent that can be found in notorious ( 1946 ) , but what it dose have is thrills , adventure and a nail biting climax . the two <b style='color:blue'>principals</b> , admittedly , are <b style='color:blue'>pretty</b> weak . it is easy to understand why hitchcock wanted gary cooper for the robert cummings role and barbara stanwyck for the role that was taken by priscilla lane . also , the patriotic speeches that cuumming says ( that were written by dorothy parker ) have dated badly , and the encounter with circus troupe is poorly done ( the beard on the bearded lady is <b style='color:blue'>patently</b> false ) . however , the last half hour is edge - of - your - seat viewing , the climax atop the stature of liberty is very well done , and the film is a clear predecessor of north by northwest ( 1959 ) . the two villains , otto kruger and norman lloyd are very good and the beginning fire at the aircraft factory is a <b style='color:blue'>funky</b> sequence . this not the best film hitch made , but it is surly one of his most <b style='color:blue'>amusing</b> ."
      ],
      "text/plain": [
       "<IPython.core.display.HTML object>"
      ]
     },
     "metadata": {},
     "output_type": "display_data"
    },
    {
     "name": "stdout",
     "output_type": "stream",
     "text": [
      "--------------------------------------------------\n",
      "#111   index = 11796\n",
      "ATTACK SUCCEEDED\n",
      "Original prediction: 0.996257\n"
     ]
    },
    {
     "data": {
      "text/html": [
       "as the drag - queenish lord rochester , carlyle and miller - - also together in trainspotting , they havent lost their dynamic ) , the costuming is <b style='color:red'>fantastic</b> , the makeup is outrageous , and the music is hard - edged techno with a strangely classical undertone . jake scott has an eye for light and shadow , a <b style='color:red'>good</b> sense of balance between spectacle and plot , and he isnt squeamish about showing the more unpleasant side of 17th century london . and lucky for us , he likes close - ups of faces , especially eyes . jonny lee millers eyes . and liv tylers , too , but hey , who is this movie about ? rebecca ? no . plunkett and macleane . but theres more to this movie than just pretty faces . at the risk of sounding cliche , its a fast , <b style='color:red'>furious</b> , and <b style='color:red'>sometimes</b> frustrating ride with the most noble highwaymen since robin hood . decadent , sleazy , and violent , scotts debut film makes for an <b style='color:red'>entertaining</b> evening at the movies . as macleane says , i was <b style='color:red'>terrific</b> , and it was a <b style='color:red'>bloody</b> good <b style='color:red'>laugh</b> !"
      ],
      "text/plain": [
       "<IPython.core.display.HTML object>"
      ]
     },
     "metadata": {},
     "output_type": "display_data"
    },
    {
     "name": "stdout",
     "output_type": "stream",
     "text": [
      "\n",
      "New prediction: 0.492472\n"
     ]
    },
    {
     "data": {
      "text/html": [
       "as the drag - queenish lord rochester , carlyle and miller - - also together in trainspotting , they havent lost their dynamic ) , the costuming is <b style='color:blue'>grandiose</b> , the makeup is outrageous , and the music is hard - edged techno with a strangely classical undertone . jake scott has an eye for light and shadow , a <b style='color:blue'>allright</b> sense of balance between spectacle and plot , and he isnt squeamish about showing the more unpleasant side of 17th century london . and lucky for us , he likes close - ups of faces , especially eyes . jonny lee millers eyes . and liv tylers , too , but hey , who is this movie about ? rebecca ? no . plunkett and macleane . but theres more to this movie than just pretty faces . at the risk of sounding cliche , its a fast , <b style='color:blue'>indignant</b> , and <b style='color:blue'>routinely</b> frustrating ride with the most noble highwaymen since robin hood . decadent , sleazy , and violent , scotts debut film makes for an <b style='color:blue'>amusing</b> evening at the movies . as macleane says , i was <b style='color:blue'>grandiose</b> , and it was a <b style='color:blue'>bloodied</b> good <b style='color:blue'>laughing</b> !"
      ],
      "text/plain": [
       "<IPython.core.display.HTML object>"
      ]
     },
     "metadata": {},
     "output_type": "display_data"
    },
    {
     "name": "stdout",
     "output_type": "stream",
     "text": [
      "--------------------------------------------------\n",
      "#112   index = 3061\n",
      "ATTACK FAILED\n",
      "--------------------------------------------------\n",
      "#113   index = 7844\n",
      "ATTACK SUCCEEDED\n",
      "Original prediction: 0.996461\n"
     ]
    },
    {
     "data": {
      "text/html": [
       ". but in facial expression she is <b style='color:red'>excellent</b> . but her ending scene she is <b style='color:red'>brilliant</b> ( though she was overshadowed by srk ) . she has an author backed role that makes her very likable . sunny deol is adequate . his character was <b style='color:red'>very</b> <b style='color:red'>likable</b> , but too <b style='color:red'>perfect</b> . and it <b style='color:red'>gets</b> boring after a while . he does a <b style='color:red'>good</b> job though . anupam kher is <b style='color:red'>really</b> funny , but his role felt a little out of place . tanvi <b style='color:red'>azmi</b> supports well . the songs are <b style='color:red'>enjoyable</b> and come at the right time . jadoo teri nazar ( magic at your sight ) is my <b style='color:red'>favorite</b> song , and presentation is very 90s film like . tu mere saamne ( you are in front of me ) and likha hai ( written here ) are nice love songs . darwaza band kar lo ( close the door ) is a <b style='color:red'>decent</b> love song also . the <b style='color:red'>instrumental</b> song is danced to perfection as well as the <b style='color:red'>naughty</b> wedding song solah button . the <b style='color:red'>movie</b> may not be <b style='color:red'>perfect</b> , but it is well worth your time <b style='color:red'>especially</b> if your <b style='color:red'>favorite</b> actor is in it ."
      ],
      "text/plain": [
       "<IPython.core.display.HTML object>"
      ]
     },
     "metadata": {},
     "output_type": "display_data"
    },
    {
     "name": "stdout",
     "output_type": "stream",
     "text": [
      "\n",
      "New prediction: 0.478037\n"
     ]
    },
    {
     "data": {
      "text/html": [
       ". but in facial expression she is <b style='color:blue'>grandiose</b> . but her ending scene she is <b style='color:blue'>grandiose</b> ( though she was overshadowed by srk ) . she has an author backed role that makes her very likable . sunny deol is adequate . his character was <b style='color:blue'>extremely</b> <b style='color:blue'>likeable</b> , but too <b style='color:blue'>perfecting</b> . and it <b style='color:blue'>attains</b> boring after a while . he does a <b style='color:blue'>allright</b> job though . anupam kher is <b style='color:blue'>truthfully</b> funny , but his role felt a little out of place . tanvi <b style='color:blue'>naveed</b> supports well . the songs are <b style='color:blue'>pleasurable</b> and come at the right time . jadoo teri nazar ( magic at your sight ) is my <b style='color:blue'>preferential</b> song , and presentation is very 90s film like . tu mere saamne ( you are in front of me ) and likha hai ( written here ) are nice love songs . darwaza band kar lo ( close the door ) is a <b style='color:blue'>presentable</b> love song also . the <b style='color:blue'>actionable</b> song is danced to perfection as well as the <b style='color:blue'>lousy</b> wedding song solah button . the <b style='color:blue'>filmmaking</b> may not be <b style='color:blue'>irreproachable</b> , but it is well worth your time <b style='color:blue'>specifically</b> if your <b style='color:blue'>preferential</b> actor is in it ."
      ],
      "text/plain": [
       "<IPython.core.display.HTML object>"
      ]
     },
     "metadata": {},
     "output_type": "display_data"
    },
    {
     "name": "stdout",
     "output_type": "stream",
     "text": [
      "--------------------------------------------------\n",
      "#114   index = 11884\n",
      "ATTACK FAILED\n",
      "--------------------------------------------------\n",
      "#115   index = 12487\n",
      "ATTACK SUCCEEDED\n",
      "Original prediction: 0.995595\n"
     ]
    },
    {
     "data": {
      "text/html": [
       "rainbow brite and the star stealer , in my opinion , is an <b style='color:red'>excellent</b> masterpiece . i felt all warm and tingly when rainbow brite ( voice of bettina ) and krys ( voice of david mendenhall ) set out to get revenge on the princess ( voice of rhonad aldrich ) . if you ask me , the princess was absolutely bitchy and diabolical . to me , she deserved to have rainbow brite and krys seek revenge on him . however , i liked her castle as well as the rest of the setting . in addition , i thought that lurky ( voiec of pat fraley ) and murky ( voiec of peter cullen ) were diabolical . before i <b style='color:red'>wrap</b> this up , id like to say that everyone was perfectly cast , the direction was <b style='color:red'>flawless</b> , and disney has scored a big hit . in conclusion , i <b style='color:red'>highly</b> recommend this <b style='color:red'>excellent</b> <b style='color:red'>masterpiece</b> to everyone who hasnt seen it , especially die - hard fans of the tv series . i guarantee you youll enjoy it ."
      ],
      "text/plain": [
       "<IPython.core.display.HTML object>"
      ]
     },
     "metadata": {},
     "output_type": "display_data"
    },
    {
     "name": "stdout",
     "output_type": "stream",
     "text": [
      "\n",
      "New prediction: 0.494015\n"
     ]
    },
    {
     "data": {
      "text/html": [
       "rainbow brite and the star stealer , in my opinion , is an <b style='color:blue'>grandiose</b> masterpiece . i felt all warm and tingly when rainbow brite ( voice of bettina ) and krys ( voice of david mendenhall ) set out to get revenge on the princess ( voice of rhonad aldrich ) . if you ask me , the princess was absolutely bitchy and diabolical . to me , she deserved to have rainbow brite and krys seek revenge on him . however , i liked her castle as well as the rest of the setting . in addition , i thought that lurky ( voiec of pat fraley ) and murky ( voiec of peter cullen ) were diabolical . before i <b style='color:blue'>wrapper</b> this up , id like to say that everyone was perfectly cast , the direction was <b style='color:blue'>faultless</b> , and disney has scored a big hit . in conclusion , i <b style='color:blue'>terribly</b> recommend this <b style='color:blue'>marvellous</b> <b style='color:blue'>masterwork</b> to everyone who hasnt seen it , especially die - hard fans of the tv series . i guarantee you youll enjoy it ."
      ],
      "text/plain": [
       "<IPython.core.display.HTML object>"
      ]
     },
     "metadata": {},
     "output_type": "display_data"
    },
    {
     "name": "stdout",
     "output_type": "stream",
     "text": [
      "--------------------------------------------------\n",
      "#116   index = 18368\n",
      "ATTACK FAILED\n",
      "--------------------------------------------------\n",
      "#117   index = 12735\n",
      "ATTACK SUCCEEDED\n",
      "Original prediction: 0.008015\n"
     ]
    },
    {
     "data": {
      "text/html": [
       "one definitely fits in that category . <b style='color:red'>pretty</b> much what everyone else on here said is dead on . yes it was <b style='color:red'>bad</b> , but that was to be expected . the main problem i had with this movie is that it was just <b style='color:red'>basically</b> <b style='color:red'>boring</b> . i mean serious yawn - o - rama . the acting was <b style='color:red'>bad</b> , the costumes ( k mart skeletor outfit circa 1982 ) were worse , and the <b style='color:red'>editing</b> was <b style='color:red'>awful</b> . no continuity whatsoever . mr skeletor ultimately dies in an explosion of sorts . . . uh , although he encountered multiple explosion throughout this <b style='color:red'>move</b> . i guess the last one just took its toll on him . <b style='color:red'>apparently</b> earlier <b style='color:red'>encounters</b> with this military group ( cough ) took its toll on his horse . . . . it would change from red to black <b style='color:red'>throughout</b> this <b style='color:red'>crap</b> fest . even for a b movie , do yourself a favor and skip it . the only good it serves me now it to add to my dvd collection . hopefully no one will recognize it when they <b style='color:red'>look</b> through my <b style='color:red'>movie</b> collection . thumbs down , <b style='color:red'>big</b> time ."
      ],
      "text/plain": [
       "<IPython.core.display.HTML object>"
      ]
     },
     "metadata": {},
     "output_type": "display_data"
    },
    {
     "name": "stdout",
     "output_type": "stream",
     "text": [
      "\n",
      "New prediction: 0.502971\n"
     ]
    },
    {
     "data": {
      "text/html": [
       "one definitely fits in that category . <b style='color:blue'>quite</b> much what everyone else on here said is dead on . yes it was <b style='color:blue'>wicked</b> , but that was to be expected . the main problem i had with this movie is that it was just <b style='color:blue'>primarily</b> <b style='color:blue'>bore</b> . i mean serious yawn - o - rama . the acting was <b style='color:blue'>wicked</b> , the costumes ( k mart skeletor outfit circa 1982 ) were worse , and the <b style='color:blue'>edit</b> was <b style='color:blue'>harrowing</b> . no continuity whatsoever . mr skeletor ultimately dies in an explosion of sorts . . . uh , although he encountered multiple explosion throughout this <b style='color:blue'>shift</b> . i guess the last one just took its toll on him . <b style='color:blue'>clearly</b> earlier <b style='color:blue'>confrontations</b> with this military group ( cough ) took its toll on his horse . . . . it would change from red to black <b style='color:blue'>across</b> this <b style='color:blue'>bullshit</b> fest . even for a b movie , do yourself a favor and skip it . the only good it serves me now it to add to my dvd collection . hopefully no one will recognize it when they <b style='color:blue'>gaze</b> through my <b style='color:blue'>film</b> collection . thumbs down , <b style='color:blue'>grand</b> time ."
      ],
      "text/plain": [
       "<IPython.core.display.HTML object>"
      ]
     },
     "metadata": {},
     "output_type": "display_data"
    },
    {
     "name": "stdout",
     "output_type": "stream",
     "text": [
      "--------------------------------------------------\n",
      "#118   index = 6168\n",
      "ATTACK FAILED\n",
      "--------------------------------------------------\n",
      "#119   index = 3632\n",
      "ATTACK SUCCEEDED\n",
      "Original prediction: 0.985659\n"
     ]
    },
    {
     "data": {
      "text/html": [
       "the 60s like the apartment , how to murder your wife , goodbye charlie , a guide for the marrried man , divorce , american style , any wednesday , kiss me stupid , boys night out , its a masterpiece . director saks and writer i . a . l . diamond have effectively opened up abe burrows broadway hit , and the film benefits <b style='color:red'>greatly</b> from new york city location shooting and <b style='color:red'>excellent</b> performances from ingrid bergman and goldie hawn . bergman is charming , looks <b style='color:red'>great</b> , and demonstrates a flair for comedy . hawn in her oscar winning role has never been better or more appealing . matthau is <b style='color:red'>ok</b> though its hard to believe that hawns character would be so enamored of him . and in retrospect , hawns attempted suicide at the start of the film is out of character and <b style='color:red'>unbelievable</b> . nonetheless , the <b style='color:red'>film</b> has a plausible <b style='color:red'>farcical</b> set up , and once it <b style='color:red'>gets</b> <b style='color:red'>going</b> it <b style='color:red'>generates</b> laugh . rick lenz , jack weston , eve bruce , and vito scotti provide good <b style='color:red'>support</b> . the <b style='color:red'>film</b> is likable and fun , and hawn and bergman make you care ."
      ],
      "text/plain": [
       "<IPython.core.display.HTML object>"
      ]
     },
     "metadata": {},
     "output_type": "display_data"
    },
    {
     "name": "stdout",
     "output_type": "stream",
     "text": [
      "\n",
      "New prediction: 0.482026\n"
     ]
    },
    {
     "data": {
      "text/html": [
       "the 60s like the apartment , how to murder your wife , goodbye charlie , a guide for the marrried man , divorce , american style , any wednesday , kiss me stupid , boys night out , its a masterpiece . director saks and writer i . a . l . diamond have effectively opened up abe burrows broadway hit , and the film benefits <b style='color:blue'>noticeably</b> from new york city location shooting and <b style='color:blue'>grandiose</b> performances from ingrid bergman and goldie hawn . bergman is charming , looks <b style='color:blue'>gorgeous</b> , and demonstrates a flair for comedy . hawn in her oscar winning role has never been better or more appealing . matthau is <b style='color:blue'>okay</b> though its hard to believe that hawns character would be so enamored of him . and in retrospect , hawns attempted suicide at the start of the film is out of character and <b style='color:blue'>implausible</b> . nonetheless , the <b style='color:blue'>filmmaking</b> has a plausible <b style='color:blue'>preposterous</b> set up , and once it <b style='color:blue'>attains</b> <b style='color:blue'>disappearing</b> it <b style='color:blue'>begets</b> laugh . rick lenz , jack weston , eve bruce , and vito scotti provide good <b style='color:blue'>aid</b> . the <b style='color:blue'>filmmaking</b> is likable and fun , and hawn and bergman make you care ."
      ],
      "text/plain": [
       "<IPython.core.display.HTML object>"
      ]
     },
     "metadata": {},
     "output_type": "display_data"
    },
    {
     "name": "stdout",
     "output_type": "stream",
     "text": [
      "--------------------------------------------------\n",
      "#120   index = 965\n",
      "ATTACK SUCCEEDED\n",
      "Original prediction: 0.999688\n"
     ]
    },
    {
     "data": {
      "text/html": [
       "a <b style='color:red'>tale</b> of two sisters is a <b style='color:red'>brilliant</b> south korean psychological horror that left me speechless . the film offers some delicious moments of <b style='color:red'>ghastly</b> horror and is <b style='color:red'>extremely</b> creepy . the small cast of actors is <b style='color:red'>truly</b> <b style='color:red'>excellent</b> , with lead im soo - jung being especially memorable in the lead role . the direction by kim ji - woon is well - handled and the cinematography is <b style='color:red'>absolutely</b> <b style='color:red'>gorgeous</b> . the plot is slightly confusing , but some scenes are <b style='color:red'>wonderfully</b> eerie . the action is rather <b style='color:red'>slow</b> , but i was not bored in the slightest ; i was <b style='color:red'>extremely</b> curious and intrigued . the house , where the film takes <b style='color:red'>place</b> looks <b style='color:red'>incredibly</b> menacing and isolated . a tale of two sisters is along with ringu and kairo one of the most original <b style='color:red'>asian</b> horror films i have ever seen . watch this masterpiece as soon as <b style='color:red'>possible</b> . my <b style='color:red'>rating</b> : 10 out of 10 ."
      ],
      "text/plain": [
       "<IPython.core.display.HTML object>"
      ]
     },
     "metadata": {},
     "output_type": "display_data"
    },
    {
     "name": "stdout",
     "output_type": "stream",
     "text": [
      "\n",
      "New prediction: 0.477166\n"
     ]
    },
    {
     "data": {
      "text/html": [
       "a <b style='color:blue'>story</b> of two sisters is a <b style='color:blue'>grandiose</b> south korean psychological horror that left me speechless . the film offers some delicious moments of <b style='color:blue'>dreadful</b> horror and is <b style='color:blue'>excessively</b> creepy . the small cast of actors is <b style='color:blue'>really</b> <b style='color:blue'>grandiose</b> , with lead im soo - jung being especially memorable in the lead role . the direction by kim ji - woon is well - handled and the cinematography is <b style='color:blue'>entirely</b> <b style='color:blue'>fanciful</b> . the plot is slightly confusing , but some scenes are <b style='color:blue'>marvellously</b> eerie . the action is rather <b style='color:blue'>sluggish</b> , but i was not bored in the slightest ; i was <b style='color:blue'>terribly</b> curious and intrigued . the house , where the film takes <b style='color:blue'>placing</b> looks <b style='color:blue'>excessively</b> menacing and isolated . a tale of two sisters is along with ringu and kairo one of the most original <b style='color:blue'>asiatic</b> horror films i have ever seen . watch this masterpiece as soon as <b style='color:blue'>doable</b> . my <b style='color:blue'>judgment</b> : 10 out of 10 ."
      ],
      "text/plain": [
       "<IPython.core.display.HTML object>"
      ]
     },
     "metadata": {},
     "output_type": "display_data"
    },
    {
     "name": "stdout",
     "output_type": "stream",
     "text": [
      "--------------------------------------------------\n",
      "#121   index = 13451\n",
      "ATTACK SUCCEEDED\n",
      "Original prediction: 0.069167\n"
     ]
    },
    {
     "data": {
      "text/html": [
       ". . . ) come on guys ! you could have faked the movements at least ! ! not to <b style='color:red'>mention</b> the <b style='color:red'>hilarious</b> final impact , where the plane crashes against every <b style='color:red'>single</b> thing along the runway ( light poles along the runway ? what where they thinking ? ! ) . . . and the wings dont even get <b style='color:red'>ripped</b> off ! it happened to me too , once . . . except the plane was made of lego ! what about the flight attendant ? shes actually so <b style='color:red'>skilled</b> that she perfectly knows where the aux 1 and aux 2 fuses are , in the middle of the wires behind the cockpit . should we <b style='color:red'>mention</b> , then , the <b style='color:red'>guy</b> that can drive an ambulance _ and _ fly a plane behind the ambulance using his computer ? and how did he turn the <b style='color:red'>other</b> <b style='color:red'>airplane</b> engines on ? <b style='color:red'>really</b> , i <b style='color:red'>could</b> go on hours with this stuff . this is the dumbest <b style='color:red'>movie</b> ive ever come across , and im including garbage like alone in the dark and <b style='color:red'>other</b> stuff in the <b style='color:red'>list</b> . want to do yourself a favor ? dont watch it ."
      ],
      "text/plain": [
       "<IPython.core.display.HTML object>"
      ]
     },
     "metadata": {},
     "output_type": "display_data"
    },
    {
     "name": "stdout",
     "output_type": "stream",
     "text": [
      "\n",
      "New prediction: 0.501885\n"
     ]
    },
    {
     "data": {
      "text/html": [
       ". . . ) come on guys ! you could have faked the movements at least ! ! not to <b style='color:blue'>cite</b> the <b style='color:blue'>funny</b> final impact , where the plane crashes against every <b style='color:blue'>lone</b> thing along the runway ( light poles along the runway ? what where they thinking ? ! ) . . . and the wings dont even get <b style='color:blue'>tore</b> off ! it happened to me too , once . . . except the plane was made of lego ! what about the flight attendant ? shes actually so <b style='color:blue'>skillful</b> that she perfectly knows where the aux 1 and aux 2 fuses are , in the middle of the wires behind the cockpit . should we <b style='color:blue'>cite</b> , then , the <b style='color:blue'>boy</b> that can drive an ambulance _ and _ fly a plane behind the ambulance using his computer ? and how did he turn the <b style='color:blue'>various</b> <b style='color:blue'>aeroplane</b> engines on ? <b style='color:blue'>truly</b> , i <b style='color:blue'>can</b> go on hours with this stuff . this is the dumbest <b style='color:blue'>filmmaking</b> ive ever come across , and im including garbage like alone in the dark and <b style='color:blue'>assorted</b> stuff in the <b style='color:blue'>listing</b> . want to do yourself a favor ? dont watch it ."
      ],
      "text/plain": [
       "<IPython.core.display.HTML object>"
      ]
     },
     "metadata": {},
     "output_type": "display_data"
    },
    {
     "name": "stdout",
     "output_type": "stream",
     "text": [
      "--------------------------------------------------\n",
      "#122   index = 3751\n",
      "ATTACK FAILED\n",
      "--------------------------------------------------\n",
      "#123   index = 7181\n",
      "ATTACK SUCCEEDED\n",
      "Original prediction: 0.982663\n"
     ]
    },
    {
     "data": {
      "text/html": [
       "well i have to say i had the chance to see this show here in philadelphia , pa sometime in june of 06 . and i <b style='color:red'>really</b> loved it . my all time favorite madonna look was the 1990 blond ambition tour era . this to me is madonna . now that she is a mother of 3 she has to change some things to suit motherhood . and i totally agree . this is a <b style='color:red'>classic</b> madonna concert . i wish live to tell wasnt edited . we saw bodys falling from buildings on 911 , we can see a woman on a cross . . . any way im looking forward to the release of this tour on dvd and hope it is the entire show unedited and with a bunch of bonus footage . she is a artist of all time . the best out there . . . and still at the top and going strong . <b style='color:red'>long</b> live madonna !"
      ],
      "text/plain": [
       "<IPython.core.display.HTML object>"
      ]
     },
     "metadata": {},
     "output_type": "display_data"
    },
    {
     "name": "stdout",
     "output_type": "stream",
     "text": [
      "\n",
      "New prediction: 0.464116\n"
     ]
    },
    {
     "data": {
      "text/html": [
       "well i have to say i had the chance to see this show here in philadelphia , pa sometime in june of 06 . and i <b style='color:blue'>truthfully</b> loved it . my all time favorite madonna look was the 1990 blond ambition tour era . this to me is madonna . now that she is a mother of 3 she has to change some things to suit motherhood . and i totally agree . this is a <b style='color:blue'>symptomatic</b> madonna concert . i wish live to tell wasnt edited . we saw bodys falling from buildings on 911 , we can see a woman on a cross . . . any way im looking forward to the release of this tour on dvd and hope it is the entire show unedited and with a bunch of bonus footage . she is a artist of all time . the best out there . . . and still at the top and going strong . <b style='color:blue'>lengthy</b> live madonna !"
      ],
      "text/plain": [
       "<IPython.core.display.HTML object>"
      ]
     },
     "metadata": {},
     "output_type": "display_data"
    },
    {
     "name": "stdout",
     "output_type": "stream",
     "text": [
      "--------------------------------------------------\n",
      "#124   index = 16429\n",
      "ATTACK SUCCEEDED\n",
      "Original prediction: 0.005999\n"
     ]
    },
    {
     "data": {
      "text/html": [
       "this movie is something <b style='color:red'>horrible</b> . i was laughing all the time . i was forced to stop in some scenes because my mom thought its not polite to laugh when people are dying , but in this movie , even death looks ridiculous . especially when tornado tommy is sucked into one tornado . explosions of cars thrown onto buildings by the forces of wind look like ones from the old school side scroller game called r - type . dialogues are very <b style='color:red'>bad</b> and i am interested how they managed to persuade some of the actors to play in this movie . it is simply amazing how such bad movie can make it into the tv . only real reason to watch this movie is to have some fun of nonsense and absurdity ."
      ],
      "text/plain": [
       "<IPython.core.display.HTML object>"
      ]
     },
     "metadata": {},
     "output_type": "display_data"
    },
    {
     "name": "stdout",
     "output_type": "stream",
     "text": [
      "\n",
      "New prediction: 0.550131\n"
     ]
    },
    {
     "data": {
      "text/html": [
       "this movie is something <b style='color:blue'>harrowing</b> . i was laughing all the time . i was forced to stop in some scenes because my mom thought its not polite to laugh when people are dying , but in this movie , even death looks ridiculous . especially when tornado tommy is sucked into one tornado . explosions of cars thrown onto buildings by the forces of wind look like ones from the old school side scroller game called r - type . dialogues are very <b style='color:blue'>wicked</b> and i am interested how they managed to persuade some of the actors to play in this movie . it is simply amazing how such bad movie can make it into the tv . only real reason to watch this movie is to have some fun of nonsense and absurdity ."
      ],
      "text/plain": [
       "<IPython.core.display.HTML object>"
      ]
     },
     "metadata": {},
     "output_type": "display_data"
    },
    {
     "name": "stdout",
     "output_type": "stream",
     "text": [
      "--------------------------------------------------\n",
      "#125   index = 13229\n",
      "ATTACK SUCCEEDED\n",
      "Original prediction: 0.003738\n"
     ]
    },
    {
     "data": {
      "text/html": [
       "it must be a long time ago that i <b style='color:red'>have</b> seen such a <b style='color:red'>bad</b> movie . i have to say it is <b style='color:red'>really</b> hard to make a good and / or realistic movie about air <b style='color:red'>disaster</b> but this movie was such a waste of time and <b style='color:red'>money</b> . also i <b style='color:red'>think</b> this is an <b style='color:red'>unofficial</b> <b style='color:red'>way</b> trying to <b style='color:red'>get</b> a <b style='color:red'>bad</b> <b style='color:red'>reputation</b> on airbus . first , the cockpit look a lot like an airbus cockpit , <b style='color:red'>second</b> you got a stick , third using computers to control rudders / elevators / aileron via fly by wire . when i saw this movie i thought like the intention of the film was dont fly with computerized airplanes like airbus , <b style='color:red'>use</b> boeing instead they have a direct connection of steering and rudders . all i <b style='color:red'>can</b> say : <b style='color:red'>bad</b> <b style='color:red'>story</b> , <b style='color:red'>horrible</b> acting ( most of the actors ) , <b style='color:red'>worst</b> film trick ever . . ."
      ],
      "text/plain": [
       "<IPython.core.display.HTML object>"
      ]
     },
     "metadata": {},
     "output_type": "display_data"
    },
    {
     "name": "stdout",
     "output_type": "stream",
     "text": [
      "\n",
      "New prediction: 0.511871\n"
     ]
    },
    {
     "data": {
      "text/html": [
       "it must be a long time ago that i <b style='color:blue'>ha</b> seen such a <b style='color:blue'>wicked</b> movie . i have to say it is <b style='color:blue'>genuinely</b> hard to make a good and / or realistic movie about air <b style='color:blue'>calamity</b> but this movie was such a waste of time and <b style='color:blue'>pecuniary</b> . also i <b style='color:blue'>idea</b> this is an <b style='color:blue'>informal</b> <b style='color:blue'>path</b> trying to <b style='color:blue'>got</b> a <b style='color:blue'>wicked</b> <b style='color:blue'>repute</b> on airbus . first , the cockpit look a lot like an airbus cockpit , <b style='color:blue'>fourth</b> you got a stick , third using computers to control rudders / elevators / aileron via fly by wire . when i saw this movie i thought like the intention of the film was dont fly with computerized airplanes like airbus , <b style='color:blue'>utilize</b> boeing instead they have a direct connection of steering and rudders . all i <b style='color:blue'>must</b> say : <b style='color:blue'>wicked</b> <b style='color:blue'>tale</b> , <b style='color:blue'>fearsome</b> acting ( most of the actors ) , <b style='color:blue'>lousiest</b> film trick ever . . ."
      ],
      "text/plain": [
       "<IPython.core.display.HTML object>"
      ]
     },
     "metadata": {},
     "output_type": "display_data"
    },
    {
     "name": "stdout",
     "output_type": "stream",
     "text": [
      "--------------------------------------------------\n",
      "#126   index = 23429\n",
      "ATTACK FAILED\n",
      "--------------------------------------------------\n",
      "#127   index = 15930\n",
      "ATTACK FAILED\n",
      "--------------------------------------------------\n",
      "#128   index = 12405\n",
      "ATTACK FAILED\n",
      "--------------------------------------------------\n",
      "#129   index = 12160\n",
      "ATTACK SUCCEEDED\n",
      "Original prediction: 0.949246\n"
     ]
    },
    {
     "data": {
      "text/html": [
       "with wwii over , movie studios quickly rushed to focus on vets returning home . the best years of our lives was probably the best example . it portrays various people returning home and how they have to readjust not only to their pre - war lives , but to the overall changing world . probably the most interesting cast member is non - actor harold russell . having lost his hands in the war , he plays a man with hooks where his hands used to be , and reminds people that he wants to be treated just like everyone else ; he went on to win best supporting actor and a special oscar for the role , making him the only person ever to win two oscars for the same role . there will probably always be debate over whether this deserved best picture more than its a <b style='color:red'>wonderful</b> life , but i certainly think that they did a good job with it . very <b style='color:red'>well</b> done ."
      ],
      "text/plain": [
       "<IPython.core.display.HTML object>"
      ]
     },
     "metadata": {},
     "output_type": "display_data"
    },
    {
     "name": "stdout",
     "output_type": "stream",
     "text": [
      "\n",
      "New prediction: 0.393879\n"
     ]
    },
    {
     "data": {
      "text/html": [
       "with wwii over , movie studios quickly rushed to focus on vets returning home . the best years of our lives was probably the best example . it portrays various people returning home and how they have to readjust not only to their pre - war lives , but to the overall changing world . probably the most interesting cast member is non - actor harold russell . having lost his hands in the war , he plays a man with hooks where his hands used to be , and reminds people that he wants to be treated just like everyone else ; he went on to win best supporting actor and a special oscar for the role , making him the only person ever to win two oscars for the same role . there will probably always be debate over whether this deserved best picture more than its a <b style='color:blue'>grandiose</b> life , but i certainly think that they did a good job with it . very <b style='color:blue'>allright</b> done ."
      ],
      "text/plain": [
       "<IPython.core.display.HTML object>"
      ]
     },
     "metadata": {},
     "output_type": "display_data"
    },
    {
     "name": "stdout",
     "output_type": "stream",
     "text": [
      "--------------------------------------------------\n",
      "#130   index = 9619\n",
      "ATTACK FAILED\n",
      "--------------------------------------------------\n",
      "#131   index = 5247\n",
      "ATTACK FAILED\n",
      "--------------------------------------------------\n",
      "#132   index = 14436\n",
      "ATTACK FAILED\n",
      "--------------------------------------------------\n",
      "#133   index = 21143\n",
      "ATTACK FAILED\n",
      "--------------------------------------------------\n",
      "#134   index = 15428\n",
      "ATTACK FAILED\n",
      "--------------------------------------------------\n",
      "#135   index = 21521\n",
      "ATTACK FAILED\n",
      "--------------------------------------------------\n",
      "#136   index = 11991\n",
      "ATTACK SUCCEEDED\n",
      "Original prediction: 0.948582\n"
     ]
    },
    {
     "data": {
      "text/html": [
       "took off , jim abrahams , jerry and david zucker cast one of its stars - leslie nielsen - in this <b style='color:red'>hilarious</b> television series , a <b style='color:red'>glorious</b> take - off of old u . s . detective shows such as dragnet . nielsen played frank drebin , americas answer to inspector clouseau . it had the same style of humour as airplane ! ; clever visual gags in the background , unnoticed absurdities , and recurring characters such as johnny the shoe - shine boy who seems to know everything about everything . guest - stars ( including william shatner ! ) were killed off in the opening credits . <b style='color:red'>police</b> squad was the first u . s . sitcom since batman to lack a laugh track . <b style='color:red'>many</b> have lamented the fact that <b style='color:red'>only</b> six episodes were made , but i think it was about right . the concept could never have sustained a full 24 - episode run . five years later , police squad made a successful transfer to the <b style='color:red'>big</b> screen , when the first of the naked gun trilogy was released . jim , jerry , david , and <b style='color:red'>leslie</b> had the last <b style='color:red'>laugh</b> ."
      ],
      "text/plain": [
       "<IPython.core.display.HTML object>"
      ]
     },
     "metadata": {},
     "output_type": "display_data"
    },
    {
     "name": "stdout",
     "output_type": "stream",
     "text": [
      "\n",
      "New prediction: 0.473413\n"
     ]
    },
    {
     "data": {
      "text/html": [
       "took off , jim abrahams , jerry and david zucker cast one of its stars - leslie nielsen - in this <b style='color:blue'>comical</b> television series , a <b style='color:blue'>grandiose</b> take - off of old u . s . detective shows such as dragnet . nielsen played frank drebin , americas answer to inspector clouseau . it had the same style of humour as airplane ! ; clever visual gags in the background , unnoticed absurdities , and recurring characters such as johnny the shoe - shine boy who seems to know everything about everything . guest - stars ( including william shatner ! ) were killed off in the opening credits . <b style='color:blue'>policeman</b> squad was the first u . s . sitcom since batman to lack a laugh track . <b style='color:blue'>various</b> have lamented the fact that <b style='color:blue'>purely</b> six episodes were made , but i think it was about right . the concept could never have sustained a full 24 - episode run . five years later , police squad made a successful transfer to the <b style='color:blue'>gargantuan</b> screen , when the first of the naked gun trilogy was released . jim , jerry , david , and <b style='color:blue'>terence</b> had the last <b style='color:blue'>laughing</b> ."
      ],
      "text/plain": [
       "<IPython.core.display.HTML object>"
      ]
     },
     "metadata": {},
     "output_type": "display_data"
    },
    {
     "name": "stdout",
     "output_type": "stream",
     "text": [
      "--------------------------------------------------\n",
      "#137   index = 17325\n",
      "ATTACK FAILED\n",
      "--------------------------------------------------\n",
      "#138   index = 13343\n",
      "ATTACK SUCCEEDED\n",
      "Original prediction: 0.002703\n"
     ]
    },
    {
     "data": {
      "text/html": [
       "is simple to every adult . the fighter has trained and enters the ring , but does not do what he trained and gets an ass kicking . the coach yells do this and do that with no success . and after some more of this ridiculous beating he suddenly does what he is told and hits his opponent once . this results in a turning point in the fight , although our hero has been taking a beating of his life up until that point . think about the rocky movies and youll have a good point of reference of how much beating he really takes . the fights are also shot poorly . there final thing that screws this film up is the <b style='color:red'>stupid</b> romance . cheesy music and awkward moments are not what i call entertainment . these guys really could have made some quality entertainment , but the director wasnt up to the task . or the other crew in my opinion . maybe they had a small budget , i dont know , but what matters in the end is that this movie is <b style='color:red'>bad</b> and deserves the <b style='color:red'>rating</b> of <b style='color:red'>3</b> out of 10 ."
      ],
      "text/plain": [
       "<IPython.core.display.HTML object>"
      ]
     },
     "metadata": {},
     "output_type": "display_data"
    },
    {
     "name": "stdout",
     "output_type": "stream",
     "text": [
      "\n",
      "New prediction: 0.547217\n"
     ]
    },
    {
     "data": {
      "text/html": [
       "is simple to every adult . the fighter has trained and enters the ring , but does not do what he trained and gets an ass kicking . the coach yells do this and do that with no success . and after some more of this ridiculous beating he suddenly does what he is told and hits his opponent once . this results in a turning point in the fight , although our hero has been taking a beating of his life up until that point . think about the rocky movies and youll have a good point of reference of how much beating he really takes . the fights are also shot poorly . there final thing that screws this film up is the <b style='color:blue'>dolt</b> romance . cheesy music and awkward moments are not what i call entertainment . these guys really could have made some quality entertainment , but the director wasnt up to the task . or the other crew in my opinion . maybe they had a small budget , i dont know , but what matters in the end is that this movie is <b style='color:blue'>wicked</b> and deserves the <b style='color:blue'>assessing</b> of <b style='color:blue'>4</b> out of 10 ."
      ],
      "text/plain": [
       "<IPython.core.display.HTML object>"
      ]
     },
     "metadata": {},
     "output_type": "display_data"
    },
    {
     "name": "stdout",
     "output_type": "stream",
     "text": [
      "--------------------------------------------------\n",
      "#139   index = 17052\n",
      "ATTACK FAILED\n",
      "--------------------------------------------------\n",
      "#140   index = 10895\n",
      "ATTACK SUCCEEDED\n",
      "Original prediction: 0.918375\n"
     ]
    },
    {
     "data": {
      "text/html": [
       "help but chuckle at sayers comments towards an imprisoned maria , regarding how he enjoys making women suffer , and the thrill he gets at forcing them into a type of slavery ( . . in an attempt to make the words poetic , it all feels rather hokey ) . but , dagmar is the real reason to see it , and the film , to me , works at its best as a fetish film , a <b style='color:red'>possible</b> male fantasy with this seemingly prim and proper idealist , captured and held against her will , forced into a precarious situation , her fate possibly at the mercy of a <b style='color:red'>complex</b> and possibly dangerous masochist . her submission , and how she reacts towards his aggressive behavior with her ( . . there are times where she unfolds to a wavering desire to embrace him , unveiling a <b style='color:red'>possible</b> attraction towards him which , in itself , might startle some who watch it ) are among the most <b style='color:red'>fascinating</b> highlights of this exploitation feature . my other <b style='color:red'>favorite</b> scene , besides the dance , is the piano concerto with sayer fondling maria as she plays a <b style='color:red'>soothing</b> <b style='color:red'>melody</b> ."
      ],
      "text/plain": [
       "<IPython.core.display.HTML object>"
      ]
     },
     "metadata": {},
     "output_type": "display_data"
    },
    {
     "name": "stdout",
     "output_type": "stream",
     "text": [
      "\n",
      "New prediction: 0.434240\n"
     ]
    },
    {
     "data": {
      "text/html": [
       "help but chuckle at sayers comments towards an imprisoned maria , regarding how he enjoys making women suffer , and the thrill he gets at forcing them into a type of slavery ( . . in an attempt to make the words poetic , it all feels rather hokey ) . but , dagmar is the real reason to see it , and the film , to me , works at its best as a fetish film , a <b style='color:blue'>doable</b> male fantasy with this seemingly prim and proper idealist , captured and held against her will , forced into a precarious situation , her fate possibly at the mercy of a <b style='color:blue'>convoluted</b> and possibly dangerous masochist . her submission , and how she reacts towards his aggressive behavior with her ( . . there are times where she unfolds to a wavering desire to embrace him , unveiling a <b style='color:blue'>doable</b> attraction towards him which , in itself , might startle some who watch it ) are among the most <b style='color:blue'>interesting</b> highlights of this exploitation feature . my other <b style='color:blue'>preferential</b> scene , besides the dance , is the piano concerto with sayer fondling maria as she plays a <b style='color:blue'>pacifying</b> <b style='color:blue'>tuning</b> ."
      ],
      "text/plain": [
       "<IPython.core.display.HTML object>"
      ]
     },
     "metadata": {},
     "output_type": "display_data"
    },
    {
     "name": "stdout",
     "output_type": "stream",
     "text": [
      "--------------------------------------------------\n",
      "#141   index = 22525\n",
      "ATTACK SUCCEEDED\n",
      "Original prediction: 0.006340\n"
     ]
    },
    {
     "data": {
      "text/html": [
       "quite possibly one of ( if not the ) worst film ever conceived , cast and acted in the history of cinema . who on gods green earth would ever think to cast cameron diaz and james mardsen as a couple ? she looked like his mother . god forgive me but i am just being honest . and that was the least of the many problems plaguing this <b style='color:red'>horrible</b> excuse for a film . it was a <b style='color:red'>horrible</b> statement against women but at least if youre gonna blame women for the problems of the world , tell a decent story not one with so many annoying loop holes and <b style='color:red'>pathetic</b> excuses for suspense and thrills . everybody should get their money back who went to see it in theaters or bought the dvd ."
      ],
      "text/plain": [
       "<IPython.core.display.HTML object>"
      ]
     },
     "metadata": {},
     "output_type": "display_data"
    },
    {
     "name": "stdout",
     "output_type": "stream",
     "text": [
      "\n",
      "New prediction: 0.723003\n"
     ]
    },
    {
     "data": {
      "text/html": [
       "quite possibly one of ( if not the ) worst film ever conceived , cast and acted in the history of cinema . who on gods green earth would ever think to cast cameron diaz and james mardsen as a couple ? she looked like his mother . god forgive me but i am just being honest . and that was the least of the many problems plaguing this <b style='color:blue'>harrowing</b> excuse for a film . it was a <b style='color:blue'>harrowing</b> statement against women but at least if youre gonna blame women for the problems of the world , tell a decent story not one with so many annoying loop holes and <b style='color:blue'>pitiable</b> excuses for suspense and thrills . everybody should get their money back who went to see it in theaters or bought the dvd ."
      ],
      "text/plain": [
       "<IPython.core.display.HTML object>"
      ]
     },
     "metadata": {},
     "output_type": "display_data"
    },
    {
     "name": "stdout",
     "output_type": "stream",
     "text": [
      "--------------------------------------------------\n",
      "#142   index = 11005\n",
      "ATTACK SUCCEEDED\n",
      "Original prediction: 0.979172\n"
     ]
    },
    {
     "data": {
      "text/html": [
       "are traveling magicians ) ; about the receptionist at an animal crematory and his family misadventures ; about the members of a <b style='color:red'>cooking</b> course ( who mostly <b style='color:red'>talk</b> about their sorry lives ) and fourthly about the <b style='color:red'>funeral</b> for a womanizing trotter jockey , who tries to continue orchestrating the family from beyond the <b style='color:red'>grave</b> , by singing and appearing in 3d during the funeral , thanks to high tech equipment that has cost his entire fortune ( the family gets nil , not even the <b style='color:red'>famous</b> horse is given to the family ) ! there is a warmth and <b style='color:red'>compassion</b> in this film , that is filled with <b style='color:red'>grief</b> and laughter , that ive never experienced before . most actors were new to me , except robert gustafsson and one or two more , but they all deserve the big slam the film took at the swedish guldbagge extravaganza ( = the swedish oscar awards ) a week ago ! male , female and male supporting actor prizes <b style='color:red'>went</b> to this <b style='color:red'>film</b> , plus a few more , to boot ! if you have the chance , go and see it - the hours float by very <b style='color:red'>quickly</b> !"
      ],
      "text/plain": [
       "<IPython.core.display.HTML object>"
      ]
     },
     "metadata": {},
     "output_type": "display_data"
    },
    {
     "name": "stdout",
     "output_type": "stream",
     "text": [
      "\n",
      "New prediction: 0.487309\n"
     ]
    },
    {
     "data": {
      "text/html": [
       "are traveling magicians ) ; about the receptionist at an animal crematory and his family misadventures ; about the members of a <b style='color:blue'>cook</b> course ( who mostly <b style='color:blue'>chitchat</b> about their sorry lives ) and fourthly about the <b style='color:blue'>funerary</b> for a womanizing trotter jockey , who tries to continue orchestrating the family from beyond the <b style='color:blue'>tomb</b> , by singing and appearing in 3d during the funeral , thanks to high tech equipment that has cost his entire fortune ( the family gets nil , not even the <b style='color:blue'>proverbial</b> horse is given to the family ) ! there is a warmth and <b style='color:blue'>pity</b> in this film , that is filled with <b style='color:blue'>heartache</b> and laughter , that ive never experienced before . most actors were new to me , except robert gustafsson and one or two more , but they all deserve the big slam the film took at the swedish guldbagge extravaganza ( = the swedish oscar awards ) a week ago ! male , female and male supporting actor prizes <b style='color:blue'>disappeared</b> to this <b style='color:blue'>filmmaking</b> , plus a few more , to boot ! if you have the chance , go and see it - the hours float by very <b style='color:blue'>expeditiously</b> !"
      ],
      "text/plain": [
       "<IPython.core.display.HTML object>"
      ]
     },
     "metadata": {},
     "output_type": "display_data"
    },
    {
     "name": "stdout",
     "output_type": "stream",
     "text": [
      "--------------------------------------------------\n",
      "#143   index = 7366\n",
      "ATTACK SUCCEEDED\n",
      "Original prediction: 0.984133\n"
     ]
    },
    {
     "data": {
      "text/html": [
       "a <b style='color:red'>wonderful</b> little production . the filming technique is very <b style='color:red'>unassuming</b> - very old - time - bbc fashion and gives a <b style='color:red'>comforting</b> , and sometimes discomforting , sense of realism to the entire piece . the actors are <b style='color:red'>extremely</b> well chosen - michael sheen not only has got all the polari but he has all the voices down pat too ! you can truly see the seamless editing guided by the references to williams diary entries , not only is it well worth the watching but it is a terrificly written and performed piece . a masterful production about one of the <b style='color:red'>great</b> masters of comedy and his life . the realism really comes home with the little things : the fantasy of the guard which , rather than use the traditional dream techniques remains solid then disappears . it plays on our knowledge and our senses , particularly with the scenes concerning orton and halliwell and the sets ( particularly of their flat with halliwells murals decorating every surface ) are terribly well done ."
      ],
      "text/plain": [
       "<IPython.core.display.HTML object>"
      ]
     },
     "metadata": {},
     "output_type": "display_data"
    },
    {
     "name": "stdout",
     "output_type": "stream",
     "text": [
      "\n",
      "New prediction: 0.452982\n"
     ]
    },
    {
     "data": {
      "text/html": [
       "a <b style='color:blue'>grandiose</b> little production . the filming technique is very <b style='color:blue'>modest</b> - very old - time - bbc fashion and gives a <b style='color:blue'>reassuring</b> , and sometimes discomforting , sense of realism to the entire piece . the actors are <b style='color:blue'>terribly</b> well chosen - michael sheen not only has got all the polari but he has all the voices down pat too ! you can truly see the seamless editing guided by the references to williams diary entries , not only is it well worth the watching but it is a terrificly written and performed piece . a masterful production about one of the <b style='color:blue'>fanciful</b> masters of comedy and his life . the realism really comes home with the little things : the fantasy of the guard which , rather than use the traditional dream techniques remains solid then disappears . it plays on our knowledge and our senses , particularly with the scenes concerning orton and halliwell and the sets ( particularly of their flat with halliwells murals decorating every surface ) are terribly well done ."
      ],
      "text/plain": [
       "<IPython.core.display.HTML object>"
      ]
     },
     "metadata": {},
     "output_type": "display_data"
    },
    {
     "name": "stdout",
     "output_type": "stream",
     "text": [
      "--------------------------------------------------\n",
      "#144   index = 17224\n",
      "ATTACK FAILED\n",
      "--------------------------------------------------\n",
      "#145   index = 20312\n",
      "ATTACK FAILED\n",
      "--------------------------------------------------\n",
      "#146   index = 5155\n",
      "ATTACK SUCCEEDED\n",
      "Original prediction: 0.994170\n"
     ]
    },
    {
     "data": {
      "text/html": [
       "by the <b style='color:red'>always</b> <b style='color:red'>reliable</b> helen slater ) named penelope who is divorced with a son who hates her for splitting with his father . as the two go deeper into a relationship , human interest is <b style='color:red'>revealed</b> and both the comedy and tragedy of divorce and starting anew are studied . by the end of the film , mohr and nicholson have become way to deep over the heads to see whats coming next , and it is up to what they have learned <b style='color:red'>about</b> each other and themselves to decide what will come next . it becomes appropriate and <b style='color:red'>dramatic</b> at just the right time . wallodorskis direction is emulated very well when the characters learn to face each other after all that has happened . . . with the right <b style='color:red'>ending</b> . all in all , this film <b style='color:red'>should</b> <b style='color:red'>have</b> been <b style='color:red'>released</b> nationwide , and i should hope that it is up for some academy awards . . . maybe helen slater can <b style='color:red'>finally</b> get the <b style='color:red'>recognition</b> she deserves . anywho , this film is a no hits <b style='color:red'>miss</b> , give it all you got romantic sex <b style='color:red'>farce</b> , <b style='color:red'>displayed</b> very maturely and aesthetically . <b style='color:red'>great</b> <b style='color:red'>film</b> !"
      ],
      "text/plain": [
       "<IPython.core.display.HTML object>"
      ]
     },
     "metadata": {},
     "output_type": "display_data"
    },
    {
     "name": "stdout",
     "output_type": "stream",
     "text": [
      "\n",
      "New prediction: 0.473657\n"
     ]
    },
    {
     "data": {
      "text/html": [
       "by the <b style='color:blue'>perpetually</b> <b style='color:blue'>credible</b> helen slater ) named penelope who is divorced with a son who hates her for splitting with his father . as the two go deeper into a relationship , human interest is <b style='color:blue'>divulged</b> and both the comedy and tragedy of divorce and starting anew are studied . by the end of the film , mohr and nicholson have become way to deep over the heads to see whats coming next , and it is up to what they have learned <b style='color:blue'>roundabout</b> each other and themselves to decide what will come next . it becomes appropriate and <b style='color:blue'>staggering</b> at just the right time . wallodorskis direction is emulated very well when the characters learn to face each other after all that has happened . . . with the right <b style='color:blue'>terminating</b> . all in all , this film <b style='color:blue'>ought</b> <b style='color:blue'>ha</b> been <b style='color:blue'>freed</b> nationwide , and i should hope that it is up for some academy awards . . . maybe helen slater can <b style='color:blue'>ultimately</b> get the <b style='color:blue'>acknowledgement</b> she deserves . anywho , this film is a no hits <b style='color:blue'>mademoiselle</b> , give it all you got romantic sex <b style='color:blue'>parody</b> , <b style='color:blue'>showed</b> very maturely and aesthetically . <b style='color:blue'>grandiose</b> <b style='color:blue'>filmmaking</b> !"
      ],
      "text/plain": [
       "<IPython.core.display.HTML object>"
      ]
     },
     "metadata": {},
     "output_type": "display_data"
    },
    {
     "name": "stdout",
     "output_type": "stream",
     "text": [
      "--------------------------------------------------\n",
      "#147   index = 19287\n",
      "ATTACK FAILED\n",
      "--------------------------------------------------\n",
      "#148   index = 22967\n",
      "ATTACK FAILED\n",
      "--------------------------------------------------\n",
      "#149   index = 8570\n",
      "ATTACK SUCCEEDED\n",
      "Original prediction: 0.970711\n"
     ]
    },
    {
     "data": {
      "text/html": [
       "there were three separate scenes showing naked women and their breasts , one scene where a guy put his hand on one , and another scene with man a top of a woman faking intercourse . hey , im not complaining . the story is a simple one : a witch who had disappeared in the 17th century comes back to her old house and makes life tough for the married man . the latter , jon finch as david winter , wasnt much of an actor , but his wife wasnt <b style='color:red'>bad</b> and was a really beauty . she was be prunella gee as mary . the husband suspected her , rightly so , of having an affair and that plays a part in this story . patricia quinn was entertaining as the laughing witch lucinda jessup , who comes back with a mean streak in her and has a good time tormenting the couple until things go <b style='color:red'>wrong</b> at the end . as a man , id say it was particular fun to see the two women going at it ! this starts off slowly but once lucinda starts <b style='color:red'>stirring</b> up things , it <b style='color:red'>gets</b> very <b style='color:red'>entertaining</b> ."
      ],
      "text/plain": [
       "<IPython.core.display.HTML object>"
      ]
     },
     "metadata": {},
     "output_type": "display_data"
    },
    {
     "name": "stdout",
     "output_type": "stream",
     "text": [
      "\n",
      "New prediction: 0.473113\n"
     ]
    },
    {
     "data": {
      "text/html": [
       "there were three separate scenes showing naked women and their breasts , one scene where a guy put his hand on one , and another scene with man a top of a woman faking intercourse . hey , im not complaining . the story is a simple one : a witch who had disappeared in the 17th century comes back to her old house and makes life tough for the married man . the latter , jon finch as david winter , wasnt much of an actor , but his wife wasnt <b style='color:blue'>lousy</b> and was a really beauty . she was be prunella gee as mary . the husband suspected her , rightly so , of having an affair and that plays a part in this story . patricia quinn was entertaining as the laughing witch lucinda jessup , who comes back with a mean streak in her and has a good time tormenting the couple until things go <b style='color:blue'>incorrect</b> at the end . as a man , id say it was particular fun to see the two women going at it ! this starts off slowly but once lucinda starts <b style='color:blue'>agitating</b> up things , it <b style='color:blue'>obtains</b> very <b style='color:blue'>amuse</b> ."
      ],
      "text/plain": [
       "<IPython.core.display.HTML object>"
      ]
     },
     "metadata": {},
     "output_type": "display_data"
    },
    {
     "name": "stdout",
     "output_type": "stream",
     "text": [
      "--------------------------------------------------\n",
      "#150   index = 17222\n",
      "ATTACK FAILED\n",
      "--------------------------------------------------\n",
      "#151   index = 13223\n",
      "ATTACK SUCCEEDED\n",
      "Original prediction: 0.011457\n"
     ]
    },
    {
     "data": {
      "text/html": [
       "<b style='color:red'>bad</b> movie ! <b style='color:red'>bad</b> ! go stand in a discount bin . carrot top should really stick to low lit comedy clubs . its movies like this that make old jerry lewis films look like shakespeare and john agar like john barrymore . coutney thorne - smith ( a fine talent ) is absolutely wasted . her purpose seems mainly to look pretty and oblivious . the only enjoyable things about the movie is seeing raquel welch doing an alexis carrington type role , and estelle harris as a harridan of a landlady . the only way i can imagine someone thinking it would be a good idea to make this ( beyond sophomoric ) film , is if the producers fourth grade child was allowed to pick the script . well , maybe his third grader . what this film <b style='color:red'>really</b> needs is to be rubbed in the noses of its creators ."
      ],
      "text/plain": [
       "<IPython.core.display.HTML object>"
      ]
     },
     "metadata": {},
     "output_type": "display_data"
    },
    {
     "name": "stdout",
     "output_type": "stream",
     "text": [
      "\n",
      "New prediction: 0.527616\n"
     ]
    },
    {
     "data": {
      "text/html": [
       "<b style='color:blue'>wicked</b> movie ! <b style='color:blue'>naughty</b> ! go stand in a discount bin . carrot top should really stick to low lit comedy clubs . its movies like this that make old jerry lewis films look like shakespeare and john agar like john barrymore . coutney thorne - smith ( a fine talent ) is absolutely wasted . her purpose seems mainly to look pretty and oblivious . the only enjoyable things about the movie is seeing raquel welch doing an alexis carrington type role , and estelle harris as a harridan of a landlady . the only way i can imagine someone thinking it would be a good idea to make this ( beyond sophomoric ) film , is if the producers fourth grade child was allowed to pick the script . well , maybe his third grader . what this film <b style='color:blue'>truly</b> needs is to be rubbed in the noses of its creators ."
      ],
      "text/plain": [
       "<IPython.core.display.HTML object>"
      ]
     },
     "metadata": {},
     "output_type": "display_data"
    },
    {
     "name": "stdout",
     "output_type": "stream",
     "text": [
      "--------------------------------------------------\n",
      "#152   index = 6158\n",
      "ATTACK SUCCEEDED\n",
      "Original prediction: 0.995791\n"
     ]
    },
    {
     "data": {
      "text/html": [
       "i <b style='color:red'>love</b> this movie despite the fact it just misses being great . its an adult entertainment , full of issues that a grown person can relate to . the acting is <b style='color:red'>superb</b> . its fun watching john cassavetes and gena rowlands as a feuding middle - aged couple . who knows how much of it came from their own marriage ? susan sarandon has never been sexier or more appealing than as her freewheeling character , aretha . raul julia is a hoot as a lusty goatherd . the scenery in greece is <b style='color:red'>spectacular</b> ; the new york settings cause me to squirm due to many shots of the world trade center . <b style='color:red'>fantastic</b> score by stomu yamashta . with so <b style='color:red'>many</b> things <b style='color:red'>going</b> for it , why isnt this a <b style='color:red'>great</b> film ? its a bit rambling and <b style='color:red'>overly</b> <b style='color:red'>long</b> , unfocused , and uncomfortably <b style='color:red'>imbalanced</b> between humor and drama . still , its <b style='color:red'>engaging</b> , entertaining , and <b style='color:red'>deeply</b> <b style='color:red'>thoughtful</b> ."
      ],
      "text/plain": [
       "<IPython.core.display.HTML object>"
      ]
     },
     "metadata": {},
     "output_type": "display_data"
    },
    {
     "name": "stdout",
     "output_type": "stream",
     "text": [
      "\n",
      "New prediction: 0.479931\n"
     ]
    },
    {
     "data": {
      "text/html": [
       "i <b style='color:blue'>adore</b> this movie despite the fact it just misses being great . its an adult entertainment , full of issues that a grown person can relate to . the acting is <b style='color:blue'>funky</b> . its fun watching john cassavetes and gena rowlands as a feuding middle - aged couple . who knows how much of it came from their own marriage ? susan sarandon has never been sexier or more appealing than as her freewheeling character , aretha . raul julia is a hoot as a lusty goatherd . the scenery in greece is <b style='color:blue'>grandiose</b> ; the new york settings cause me to squirm due to many shots of the world trade center . <b style='color:blue'>grandiose</b> score by stomu yamashta . with so <b style='color:blue'>various</b> things <b style='color:blue'>disappearing</b> for it , why isnt this a <b style='color:blue'>grandiose</b> film ? its a bit rambling and <b style='color:blue'>unimaginably</b> <b style='color:blue'>lengthy</b> , unfocused , and uncomfortably <b style='color:blue'>lopsided</b> between humor and drama . still , its <b style='color:blue'>engage</b> , entertaining , and <b style='color:blue'>seriously</b> <b style='color:blue'>pensive</b> ."
      ],
      "text/plain": [
       "<IPython.core.display.HTML object>"
      ]
     },
     "metadata": {},
     "output_type": "display_data"
    },
    {
     "name": "stdout",
     "output_type": "stream",
     "text": [
      "--------------------------------------------------\n",
      "#153   index = 19656\n",
      "ATTACK FAILED\n",
      "--------------------------------------------------\n",
      "#154   index = 7894\n",
      "ATTACK SUCCEEDED\n",
      "Original prediction: 0.941310\n"
     ]
    },
    {
     "data": {
      "text/html": [
       "realistic characters , rather than because of their teen appeal on a magazine cover . and carpenter chooses a production designer and a cinematographer who can actually create realistic environments rather than over - styled parodies . and theres no gimmicky twist ending , or cameo celebrity appearance , or lame pseudo - romantic subplot . and i <b style='color:red'>really</b> miss on - set physical effects ; with all those 20 year old kids trying out crazy new ideas with vats of blood and latex and early animatronics . in the 5 years between 1979 and 1984 we saw alien , the elephant man , poltergeist , the howling , an american werewolf in london , the thing , the company of wolves , a nightmare on elm street . . . what an <b style='color:red'>era</b> for horror effects ! and dont get me started on the death of matte painting . the matte work in this movie is <b style='color:red'>beautiful</b> and seamless . what do we have now ? third rate cgi , former music video directors and professional stylists , that makes even gritty horror movies look like glossy mtv videos . now im going to go netflix the howling ."
      ],
      "text/plain": [
       "<IPython.core.display.HTML object>"
      ]
     },
     "metadata": {},
     "output_type": "display_data"
    },
    {
     "name": "stdout",
     "output_type": "stream",
     "text": [
      "\n",
      "New prediction: 0.475807\n"
     ]
    },
    {
     "data": {
      "text/html": [
       "realistic characters , rather than because of their teen appeal on a magazine cover . and carpenter chooses a production designer and a cinematographer who can actually create realistic environments rather than over - styled parodies . and theres no gimmicky twist ending , or cameo celebrity appearance , or lame pseudo - romantic subplot . and i <b style='color:blue'>truthfully</b> miss on - set physical effects ; with all those 20 year old kids trying out crazy new ideas with vats of blood and latex and early animatronics . in the 5 years between 1979 and 1984 we saw alien , the elephant man , poltergeist , the howling , an american werewolf in london , the thing , the company of wolves , a nightmare on elm street . . . what an <b style='color:blue'>epoch</b> for horror effects ! and dont get me started on the death of matte painting . the matte work in this movie is <b style='color:blue'>grandiose</b> and seamless . what do we have now ? third rate cgi , former music video directors and professional stylists , that makes even gritty horror movies look like glossy mtv videos . now im going to go netflix the howling ."
      ],
      "text/plain": [
       "<IPython.core.display.HTML object>"
      ]
     },
     "metadata": {},
     "output_type": "display_data"
    },
    {
     "name": "stdout",
     "output_type": "stream",
     "text": [
      "--------------------------------------------------\n",
      "#155   index = 3191\n",
      "ATTACK FAILED\n",
      "--------------------------------------------------\n",
      "#156   index = 20198\n",
      "ATTACK SUCCEEDED\n",
      "Original prediction: 0.001819\n"
     ]
    },
    {
     "data": {
      "text/html": [
       "is <b style='color:red'>generally</b> a pretty likable guy ) 2 . kjell bergkvist is always <b style='color:red'>great</b> . hes a bit toned down here , but he is quite funny still 3 . the movie looked pretty <b style='color:red'>good</b> by swedish standards , good use of depth of field and lights . now the <b style='color:red'>bad</b> . this is by far the <b style='color:red'>worst</b> script to make it into the big screen ever . the acting by everyone else was pretty <b style='color:red'>bad</b> and over the top . the direction was <b style='color:red'>horrible</b> . a <b style='color:red'>totally</b> <b style='color:red'>meaningless</b> story , <b style='color:red'>totally</b> unrealistic characters and events and 1 . 5 hours to long . during emotional scenes pretty much everyone in the theater laughed . people just started walking out during the course of the screening . theres no way to actually summarize the story into something coherent , so i wont even try . every cliché ever conceived is in there , and in all the wrong places . im sorry to say this is one of the <b style='color:red'>worst</b> movies i have ever seen in my entire life . watch it for a <b style='color:red'>good</b> laugh , but try not to pay any money for it ; ) . r"
      ],
      "text/plain": [
       "<IPython.core.display.HTML object>"
      ]
     },
     "metadata": {},
     "output_type": "display_data"
    },
    {
     "name": "stdout",
     "output_type": "stream",
     "text": [
      "\n",
      "New prediction: 0.507114\n"
     ]
    },
    {
     "data": {
      "text/html": [
       "is <b style='color:blue'>traditionally</b> a pretty likable guy ) 2 . kjell bergkvist is always <b style='color:blue'>superb</b> . hes a bit toned down here , but he is quite funny still 3 . the movie looked pretty <b style='color:blue'>exemplary</b> by swedish standards , good use of depth of field and lights . now the <b style='color:blue'>wicked</b> . this is by far the <b style='color:blue'>lousiest</b> script to make it into the big screen ever . the acting by everyone else was pretty <b style='color:blue'>naughty</b> and over the top . the direction was <b style='color:blue'>alarming</b> . a <b style='color:blue'>fully</b> <b style='color:blue'>vain</b> story , <b style='color:blue'>fully</b> unrealistic characters and events and 1 . 5 hours to long . during emotional scenes pretty much everyone in the theater laughed . people just started walking out during the course of the screening . theres no way to actually summarize the story into something coherent , so i wont even try . every cliché ever conceived is in there , and in all the wrong places . im sorry to say this is one of the <b style='color:blue'>lousiest</b> movies i have ever seen in my entire life . watch it for a <b style='color:blue'>exemplary</b> laugh , but try not to pay any money for it ; ) . r"
      ],
      "text/plain": [
       "<IPython.core.display.HTML object>"
      ]
     },
     "metadata": {},
     "output_type": "display_data"
    },
    {
     "name": "stdout",
     "output_type": "stream",
     "text": [
      "--------------------------------------------------\n",
      "#157   index = 5898\n",
      "ATTACK SUCCEEDED\n",
      "Original prediction: 0.985511\n"
     ]
    },
    {
     "data": {
      "text/html": [
       "a <b style='color:red'>stunningly</b> well - made film , with <b style='color:red'>exceptional</b> acting , directing , writing , and <b style='color:red'>photography</b> . a newlywed finds married life not what she expected , and starts to question her duty to herself versus her duty to society . together with her sister - in - law , she makes some radical <b style='color:red'>departures</b> from conventional roles and mores ."
      ],
      "text/plain": [
       "<IPython.core.display.HTML object>"
      ]
     },
     "metadata": {},
     "output_type": "display_data"
    },
    {
     "name": "stdout",
     "output_type": "stream",
     "text": [
      "\n",
      "New prediction: 0.426776\n"
     ]
    },
    {
     "data": {
      "text/html": [
       "a <b style='color:blue'>appallingly</b> well - made film , with <b style='color:blue'>unusual</b> acting , directing , writing , and <b style='color:blue'>photographing</b> . a newlywed finds married life not what she expected , and starts to question her duty to herself versus her duty to society . together with her sister - in - law , she makes some radical <b style='color:blue'>diversions</b> from conventional roles and mores ."
      ],
      "text/plain": [
       "<IPython.core.display.HTML object>"
      ]
     },
     "metadata": {},
     "output_type": "display_data"
    },
    {
     "name": "stdout",
     "output_type": "stream",
     "text": [
      "--------------------------------------------------\n",
      "#158   index = 14526\n",
      "ATTACK FAILED\n",
      "--------------------------------------------------\n",
      "#159   index = 15672\n",
      "ATTACK FAILED\n",
      "--------------------------------------------------\n",
      "#160   index = 18887\n",
      "ATTACK FAILED\n",
      "--------------------------------------------------\n",
      "#161   index = 24315\n",
      "ATTACK FAILED\n",
      "--------------------------------------------------\n",
      "#162   index = 4974\n",
      "ATTACK SUCCEEDED\n",
      "Original prediction: 0.933800\n"
     ]
    },
    {
     "data": {
      "text/html": [
       "seems rather wooden , but he has his moments . renee zellweger is so <b style='color:red'>sweet</b> as betty , the lovable waitress with the crude , unfaithful husband who treats her like dirt . its very <b style='color:red'>unlikely</b> that she would have actually gotten a job at a hospital without any real credentials , but , hey , its a movie , just go along with it ! her roommate , rosa , shines as well , as a woman who cares about betty , but doesnt quite know how to deal with bettys sickness . and , lastly , there is crispin glover . as a fan of his , i , naturally , thought that the movie could have been funnier had he been in it more . no one else has the same style of acting that crispin has , and the argument between chris rock , crispin , and the sheriff about the soap opera is hilarious . i guess im saying that i liked this movie quite a bit ! if you can stomach blood , violence , and a <b style='color:red'>lot</b> of foul language , its worth the watch and will give you plenty of laughs !"
      ],
      "text/plain": [
       "<IPython.core.display.HTML object>"
      ]
     },
     "metadata": {},
     "output_type": "display_data"
    },
    {
     "name": "stdout",
     "output_type": "stream",
     "text": [
      "\n",
      "New prediction: 0.349162\n"
     ]
    },
    {
     "data": {
      "text/html": [
       "seems rather wooden , but he has his moments . renee zellweger is so <b style='color:blue'>sugary</b> as betty , the lovable waitress with the crude , unfaithful husband who treats her like dirt . its very <b style='color:blue'>implausible</b> that she would have actually gotten a job at a hospital without any real credentials , but , hey , its a movie , just go along with it ! her roommate , rosa , shines as well , as a woman who cares about betty , but doesnt quite know how to deal with bettys sickness . and , lastly , there is crispin glover . as a fan of his , i , naturally , thought that the movie could have been funnier had he been in it more . no one else has the same style of acting that crispin has , and the argument between chris rock , crispin , and the sheriff about the soap opera is hilarious . i guess im saying that i liked this movie quite a bit ! if you can stomach blood , violence , and a <b style='color:blue'>batch</b> of foul language , its worth the watch and will give you plenty of laughs !"
      ],
      "text/plain": [
       "<IPython.core.display.HTML object>"
      ]
     },
     "metadata": {},
     "output_type": "display_data"
    },
    {
     "name": "stdout",
     "output_type": "stream",
     "text": [
      "--------------------------------------------------\n",
      "#163   index = 13072\n",
      "ATTACK FAILED\n",
      "--------------------------------------------------\n",
      "#164   index = 23180\n",
      "ATTACK FAILED\n",
      "--------------------------------------------------\n",
      "#165   index = 23311\n",
      "ATTACK FAILED\n",
      "--------------------------------------------------\n",
      "#166   index = 7752\n",
      "ATTACK FAILED\n",
      "--------------------------------------------------\n",
      "#167   index = 3417\n",
      "ATTACK SUCCEEDED\n",
      "Original prediction: 0.991041\n"
     ]
    },
    {
     "data": {
      "text/html": [
       "this is a very <b style='color:red'>cool</b> movie . the <b style='color:red'>ending</b> of the movie is a <b style='color:red'>bit</b> more defined than the plays ending , but either way it is still a <b style='color:red'>good</b> movie ."
      ],
      "text/plain": [
       "<IPython.core.display.HTML object>"
      ]
     },
     "metadata": {},
     "output_type": "display_data"
    },
    {
     "name": "stdout",
     "output_type": "stream",
     "text": [
      "\n",
      "New prediction: 0.437767\n"
     ]
    },
    {
     "data": {
      "text/html": [
       "this is a very <b style='color:blue'>cooling</b> movie . the <b style='color:blue'>terminating</b> of the movie is a <b style='color:blue'>bite</b> more defined than the plays ending , but either way it is still a <b style='color:blue'>decent</b> movie ."
      ],
      "text/plain": [
       "<IPython.core.display.HTML object>"
      ]
     },
     "metadata": {},
     "output_type": "display_data"
    },
    {
     "name": "stdout",
     "output_type": "stream",
     "text": [
      "--------------------------------------------------\n",
      "#168   index = 4728\n",
      "ATTACK SUCCEEDED\n",
      "Original prediction: 0.907339\n"
     ]
    },
    {
     "data": {
      "text/html": [
       "wow . at first i thought who writes these things ! how hard is that choice between a man who offers you and your children wealth , respectability and security as opposed to a husband who offers you only oppression , <b style='color:red'>abuse</b> , degradation and poverty . however our choices are not always as clear cut cut as one would think . <b style='color:red'>indeed</b> the wealthy gentleman was all a woman could aspire to and yet . . . the pull of her husband , her sexual desire for him was <b style='color:red'>almost</b> <b style='color:red'>overwhelming</b> . what to do , what to do ? ? as a viewer you became as confused and misdirected as she was . anyway what i <b style='color:red'>really</b> came on this site to gush about was my admiration of the voice of the engish , i thought , although it is actually the voice of an irish singer in the film . looking him up i find he is glen hansard , whom i had never heard of before that day . what a find . i am so <b style='color:red'>grateful</b> . wow , what a voice ! what a day ! thank you biff !"
      ],
      "text/plain": [
       "<IPython.core.display.HTML object>"
      ]
     },
     "metadata": {},
     "output_type": "display_data"
    },
    {
     "name": "stdout",
     "output_type": "stream",
     "text": [
      "\n",
      "New prediction: 0.462364\n"
     ]
    },
    {
     "data": {
      "text/html": [
       "wow . at first i thought who writes these things ! how hard is that choice between a man who offers you and your children wealth , respectability and security as opposed to a husband who offers you only oppression , <b style='color:blue'>misusing</b> , degradation and poverty . however our choices are not always as clear cut cut as one would think . <b style='color:blue'>assuredly</b> the wealthy gentleman was all a woman could aspire to and yet . . . the pull of her husband , her sexual desire for him was <b style='color:blue'>approximately</b> <b style='color:blue'>colossal</b> . what to do , what to do ? ? as a viewer you became as confused and misdirected as she was . anyway what i <b style='color:blue'>truthfully</b> came on this site to gush about was my admiration of the voice of the engish , i thought , although it is actually the voice of an irish singer in the film . looking him up i find he is glen hansard , whom i had never heard of before that day . what a find . i am so <b style='color:blue'>appreciative</b> . wow , what a voice ! what a day ! thank you biff !"
      ],
      "text/plain": [
       "<IPython.core.display.HTML object>"
      ]
     },
     "metadata": {},
     "output_type": "display_data"
    },
    {
     "name": "stdout",
     "output_type": "stream",
     "text": [
      "--------------------------------------------------\n",
      "#169   index = 10123\n",
      "ATTACK SUCCEEDED\n",
      "Original prediction: 0.991965\n"
     ]
    },
    {
     "data": {
      "text/html": [
       "acting kudos go to john turturro and tim blake nelson as his goofy but lovable cohorts , dubbed the soggy bottom boys by clooneys character after they receive baptism by full immersion in a river . the three cut a record under that homespun nom - de - plume for the cash , and unwittingly become overnight sensations with veritable rock star status . the film is accompanied by enough music and songs to almost qualify it as a musical . and there are some incredible feats of film - making here : the scene at the kkk rally is a real doozy , and is so similar to the scene when dorothys friends rescue her from the witchs castle in the wizard of oz that it almost amounts to cinematic plagiarism . and what an <b style='color:red'>amazing</b> work of plagiarism it is ! without giving away the ending , i must say the climax of the movie is one of the most <b style='color:red'>breathtaking</b> sequences put to film in recent memory ( on a par with the spectacular finale of magnolia , another one of my favorites ) . o brother is a must - see , a <b style='color:red'>perfect</b> 10 !"
      ],
      "text/plain": [
       "<IPython.core.display.HTML object>"
      ]
     },
     "metadata": {},
     "output_type": "display_data"
    },
    {
     "name": "stdout",
     "output_type": "stream",
     "text": [
      "\n",
      "New prediction: 0.486095\n"
     ]
    },
    {
     "data": {
      "text/html": [
       "acting kudos go to john turturro and tim blake nelson as his goofy but lovable cohorts , dubbed the soggy bottom boys by clooneys character after they receive baptism by full immersion in a river . the three cut a record under that homespun nom - de - plume for the cash , and unwittingly become overnight sensations with veritable rock star status . the film is accompanied by enough music and songs to almost qualify it as a musical . and there are some incredible feats of film - making here : the scene at the kkk rally is a real doozy , and is so similar to the scene when dorothys friends rescue her from the witchs castle in the wizard of oz that it almost amounts to cinematic plagiarism . and what an <b style='color:blue'>staggering</b> work of plagiarism it is ! without giving away the ending , i must say the climax of the movie is one of the most <b style='color:blue'>staggering</b> sequences put to film in recent memory ( on a par with the spectacular finale of magnolia , another one of my favorites ) . o brother is a must - see , a <b style='color:blue'>perfecting</b> 10 !"
      ],
      "text/plain": [
       "<IPython.core.display.HTML object>"
      ]
     },
     "metadata": {},
     "output_type": "display_data"
    },
    {
     "name": "stdout",
     "output_type": "stream",
     "text": [
      "--------------------------------------------------\n",
      "#170   index = 3294\n",
      "ATTACK FAILED\n",
      "--------------------------------------------------\n",
      "#171   index = 24898\n",
      "ATTACK SUCCEEDED\n",
      "Original prediction: 0.027415\n"
     ]
    },
    {
     "data": {
      "text/html": [
       "2 girls in party dresses and half a dozen criminals . so how do our heroes defend themselves ? truth is they cant . they all should be dead within ten minutes tops . ( not to mention the characters inside have an annoying habit of walking past the windows . ) now an <b style='color:red'>illogical</b> scenario is no reason to completely pan a movie esp . a b style action film . however with the exception of laurence fishburne and ethan hawke all the other characters seemed to be comic relief . ( at least i hope they were ) while ja - <b style='color:red'>rules</b> and leguizamos characters are <b style='color:red'>bad</b> enough . its aisha hinds minstrel show that takes the cake . rarely has a more stereotypical african american character appeared on the modern screen . her performance resembles a frat boy in blackface and drag acting ghetto . in the original assault a gang member takes over an ice - cream truck and drives around the neighborhood shooting little girls in the head . i have had an irrational fear of ice - cream trucks ever since . after this assault i <b style='color:red'>have</b> a perfectly <b style='color:red'>rational</b> fear of remakes ."
      ],
      "text/plain": [
       "<IPython.core.display.HTML object>"
      ]
     },
     "metadata": {},
     "output_type": "display_data"
    },
    {
     "name": "stdout",
     "output_type": "stream",
     "text": [
      "\n",
      "New prediction: 0.550793\n"
     ]
    },
    {
     "data": {
      "text/html": [
       "2 girls in party dresses and half a dozen criminals . so how do our heroes defend themselves ? truth is they cant . they all should be dead within ten minutes tops . ( not to mention the characters inside have an annoying habit of walking past the windows . ) now an <b style='color:blue'>unreasonable</b> scenario is no reason to completely pan a movie esp . a b style action film . however with the exception of laurence fishburne and ethan hawke all the other characters seemed to be comic relief . ( at least i hope they were ) while ja - <b style='color:blue'>regs</b> and leguizamos characters are <b style='color:blue'>wicked</b> enough . its aisha hinds minstrel show that takes the cake . rarely has a more stereotypical african american character appeared on the modern screen . her performance resembles a frat boy in blackface and drag acting ghetto . in the original assault a gang member takes over an ice - cream truck and drives around the neighborhood shooting little girls in the head . i have had an irrational fear of ice - cream trucks ever since . after this assault i <b style='color:blue'>ha</b> a perfectly <b style='color:blue'>sensible</b> fear of remakes ."
      ],
      "text/plain": [
       "<IPython.core.display.HTML object>"
      ]
     },
     "metadata": {},
     "output_type": "display_data"
    },
    {
     "name": "stdout",
     "output_type": "stream",
     "text": [
      "--------------------------------------------------\n",
      "#172   index = 16141\n",
      "ATTACK SUCCEEDED\n",
      "Original prediction: 0.041346\n"
     ]
    },
    {
     "data": {
      "text/html": [
       "and while some reviewers might enjoy that i personally disliked every scene in which ives ate up the scenery , but that was the way his characters was written : to be disliked . w / loren it just never is made clear whether shes good or bad ",
       " and all her babbling about how shes going to change things back to the way they were before the baby arrives ",
       " well , i saw what was coming clearly . perkins is miscast and then he plays the role like a warm - up for norman bates ( which he played two years later ) even wanting to take blame for the murder at the end . hokey ! third , this film is a studio sound - stage production and it suffers because of it . the story would have benefited from location shooting to develop a sense of place regarding the farm ( which all the main leads are fighting over ) . as it is filmed theres no sense of value to the property because the film has a studio sound - stage feel to it that isnt convincing . this is a really <b style='color:red'>awful</b> film ."
      ],
      "text/plain": [
       "<IPython.core.display.HTML object>"
      ]
     },
     "metadata": {},
     "output_type": "display_data"
    },
    {
     "name": "stdout",
     "output_type": "stream",
     "text": [
      "\n",
      "New prediction: 0.895656\n"
     ]
    },
    {
     "data": {
      "text/html": [
       "and while some reviewers might enjoy that i personally disliked every scene in which ives ate up the scenery , but that was the way his characters was written : to be disliked . w / loren it just never is made clear whether shes good or bad ",
       " and all her babbling about how shes going to change things back to the way they were before the baby arrives ",
       " well , i saw what was coming clearly . perkins is miscast and then he plays the role like a warm - up for norman bates ( which he played two years later ) even wanting to take blame for the murder at the end . hokey ! third , this film is a studio sound - stage production and it suffers because of it . the story would have benefited from location shooting to develop a sense of place regarding the farm ( which all the main leads are fighting over ) . as it is filmed theres no sense of value to the property because the film has a studio sound - stage feel to it that isnt convincing . this is a really <b style='color:blue'>grisly</b> film ."
      ],
      "text/plain": [
       "<IPython.core.display.HTML object>"
      ]
     },
     "metadata": {},
     "output_type": "display_data"
    },
    {
     "name": "stdout",
     "output_type": "stream",
     "text": [
      "--------------------------------------------------\n",
      "#173   index = 2266\n",
      "ATTACK SUCCEEDED\n",
      "Original prediction: 0.992588\n"
     ]
    },
    {
     "data": {
      "text/html": [
       "oz is without a doubt my favorite show of all time ! the best word to describe it is genius ! the writing , the acting , the story lines . . everything about this show is absolutely <b style='color:red'>amazing</b> ! i just discovered the show and i became addicted to it right away and i was really <b style='color:red'>surprised</b> that it hasnt gotten the recognition it truly deserves . it is violent , and most of the characters arent meant for you to like them , but the show is written in such a <b style='color:red'>brilliant</b> way that allows you to look past the violence and the criminals and see them as real people . they are the lowest forms of scum , but it still finds a way to allow you to understand a lot of the characters and even care about their stories . the violence in the show is necessary for it to be as realistic as possible , but the show isnt about the violence like some people might believe . it really is a work of art and im sure who ever gives it a chance will love it just as much as i do ."
      ],
      "text/plain": [
       "<IPython.core.display.HTML object>"
      ]
     },
     "metadata": {},
     "output_type": "display_data"
    },
    {
     "name": "stdout",
     "output_type": "stream",
     "text": [
      "\n",
      "New prediction: 0.461052\n"
     ]
    },
    {
     "data": {
      "text/html": [
       "oz is without a doubt my favorite show of all time ! the best word to describe it is genius ! the writing , the acting , the story lines . . everything about this show is absolutely <b style='color:blue'>staggering</b> ! i just discovered the show and i became addicted to it right away and i was really <b style='color:blue'>aghast</b> that it hasnt gotten the recognition it truly deserves . it is violent , and most of the characters arent meant for you to like them , but the show is written in such a <b style='color:blue'>grandiose</b> way that allows you to look past the violence and the criminals and see them as real people . they are the lowest forms of scum , but it still finds a way to allow you to understand a lot of the characters and even care about their stories . the violence in the show is necessary for it to be as realistic as possible , but the show isnt about the violence like some people might believe . it really is a work of art and im sure who ever gives it a chance will love it just as much as i do ."
      ],
      "text/plain": [
       "<IPython.core.display.HTML object>"
      ]
     },
     "metadata": {},
     "output_type": "display_data"
    },
    {
     "name": "stdout",
     "output_type": "stream",
     "text": [
      "--------------------------------------------------\n",
      "#174   index = 21856\n",
      "ATTACK SUCCEEDED\n",
      "Original prediction: 0.025124\n"
     ]
    },
    {
     "data": {
      "text/html": [
       "really <b style='color:red'>bad</b> italian horror movie , a sort of remake of hammer infamous frankenstein must be destroyed , this time with a lady frankenstein taking over the business from father . a few nudes , several botched bits of dialogue , no tension at all . forgettable"
      ],
      "text/plain": [
       "<IPython.core.display.HTML object>"
      ]
     },
     "metadata": {},
     "output_type": "display_data"
    },
    {
     "name": "stdout",
     "output_type": "stream",
     "text": [
      "\n",
      "New prediction: 0.654836\n"
     ]
    },
    {
     "data": {
      "text/html": [
       "really <b style='color:blue'>wicked</b> italian horror movie , a sort of remake of hammer infamous frankenstein must be destroyed , this time with a lady frankenstein taking over the business from father . a few nudes , several botched bits of dialogue , no tension at all . forgettable"
      ],
      "text/plain": [
       "<IPython.core.display.HTML object>"
      ]
     },
     "metadata": {},
     "output_type": "display_data"
    },
    {
     "name": "stdout",
     "output_type": "stream",
     "text": [
      "--------------------------------------------------\n",
      "#175   index = 12106\n",
      "ATTACK SUCCEEDED\n",
      "Original prediction: 0.991616\n"
     ]
    },
    {
     "data": {
      "text/html": [
       "<b style='color:red'>genuinely</b> connect with him on a deeper level . without hutz , the story is so strong that the film would still be magnificent , but with him , it hits the next level . as a debut work for actor turned director liev schreiber , the story is <b style='color:red'>also</b> a <b style='color:red'>brilliant</b> piece to start . a work of passion ( schreibers grandfather himself an immigrant to america ) , he manages to truly embrace the emotion of the content , and by presenting us with some truly beautiful scenery and some magnificent shots , he manages to really hit home . the final half hour in particular is so <b style='color:red'>beautifully</b> created , that its a challenge for a tear not to form in any viewers eye . it is a moving story , and with schreibers help , it becomes even more powerful . constructed with love from a passionate director , everything is illuminated is a <b style='color:red'>beautiful</b> piece . a road story with a <b style='color:red'>difference</b> , it is <b style='color:red'>magnificently</b> acted and <b style='color:red'>wonderfully</b> written . its a film that everyone should see , and it is the <b style='color:red'>perfect</b> way for elijah wood to finally lay frodo to <b style='color:red'>rest</b> ."
      ],
      "text/plain": [
       "<IPython.core.display.HTML object>"
      ]
     },
     "metadata": {},
     "output_type": "display_data"
    },
    {
     "name": "stdout",
     "output_type": "stream",
     "text": [
      "\n",
      "New prediction: 0.474857\n"
     ]
    },
    {
     "data": {
      "text/html": [
       "<b style='color:blue'>truthfully</b> connect with him on a deeper level . without hutz , the story is so strong that the film would still be magnificent , but with him , it hits the next level . as a debut work for actor turned director liev schreiber , the story is <b style='color:blue'>moreover</b> a <b style='color:blue'>grandiose</b> piece to start . a work of passion ( schreibers grandfather himself an immigrant to america ) , he manages to truly embrace the emotion of the content , and by presenting us with some truly beautiful scenery and some magnificent shots , he manages to really hit home . the final half hour in particular is so <b style='color:blue'>marvellously</b> created , that its a challenge for a tear not to form in any viewers eye . it is a moving story , and with schreibers help , it becomes even more powerful . constructed with love from a passionate director , everything is illuminated is a <b style='color:blue'>grandiose</b> piece . a road story with a <b style='color:blue'>variance</b> , it is <b style='color:blue'>marvellously</b> acted and <b style='color:blue'>marvellously</b> written . its a film that everyone should see , and it is the <b style='color:blue'>faultless</b> way for elijah wood to finally lay frodo to <b style='color:blue'>remainder</b> ."
      ],
      "text/plain": [
       "<IPython.core.display.HTML object>"
      ]
     },
     "metadata": {},
     "output_type": "display_data"
    },
    {
     "name": "stdout",
     "output_type": "stream",
     "text": [
      "--------------------------------------------------\n",
      "#176   index = 24199\n",
      "ATTACK SUCCEEDED\n",
      "Original prediction: 0.004894\n"
     ]
    },
    {
     "data": {
      "text/html": [
       "out like a distant radio station , plays the <b style='color:red'>inexplicable</b> role of an imprisoned convict who is released from jail to work alongside the fbi . he actually makes a compatible partner , if only because his means are as amateurish and <b style='color:red'>inept</b> as his professional pals . at one point , he actually confronts the infamous jackal , but unfortunately the fbi , although they trust him enough to <b style='color:red'>leave</b> him out of their sight , fail to equip him with a weapon or any means of communication . what kind of operation are they running here ? the film also appears <b style='color:red'>overly</b> <b style='color:red'>reliant</b> on <b style='color:red'>gruesome</b> violence , which is entirely <b style='color:red'>superfluous</b> and <b style='color:red'>provides</b> no suspense whatsoever . the supposedly stealthy jackal acts more like a <b style='color:red'>demented</b> and senseless serial killer , eliminating people for sport and writing on a victims cheek with blood . the films action scenes are both <b style='color:red'>predictable</b> and unrealistic , and <b style='color:red'>many</b> moments are <b style='color:red'>ruined</b> with melodrama . this <b style='color:red'>movie</b> is poorly <b style='color:red'>executed</b> on <b style='color:red'>many</b> levels , the one <b style='color:red'>bright</b> spot being the ever consistent sidney poitier . avoid this movie if you are in the mood to think as you watch it ."
      ],
      "text/plain": [
       "<IPython.core.display.HTML object>"
      ]
     },
     "metadata": {},
     "output_type": "display_data"
    },
    {
     "name": "stdout",
     "output_type": "stream",
     "text": [
      "\n",
      "New prediction: 0.522728\n"
     ]
    },
    {
     "data": {
      "text/html": [
       "out like a distant radio station , plays the <b style='color:blue'>unexplained</b> role of an imprisoned convict who is released from jail to work alongside the fbi . he actually makes a compatible partner , if only because his means are as amateurish and <b style='color:blue'>incapable</b> as his professional pals . at one point , he actually confronts the infamous jackal , but unfortunately the fbi , although they trust him enough to <b style='color:blue'>walkout</b> him out of their sight , fail to equip him with a weapon or any means of communication . what kind of operation are they running here ? the film also appears <b style='color:blue'>uncommonly</b> <b style='color:blue'>dependent</b> on <b style='color:blue'>harrowing</b> violence , which is entirely <b style='color:blue'>redundant</b> and <b style='color:blue'>delivers</b> no suspense whatsoever . the supposedly stealthy jackal acts more like a <b style='color:blue'>mad</b> and senseless serial killer , eliminating people for sport and writing on a victims cheek with blood . the films action scenes are both <b style='color:blue'>foreseeable</b> and unrealistic , and <b style='color:blue'>assorted</b> moments are <b style='color:blue'>shattered</b> with melodrama . this <b style='color:blue'>filmmaking</b> is poorly <b style='color:blue'>conducted</b> on <b style='color:blue'>myriad</b> levels , the one <b style='color:blue'>lustrous</b> spot being the ever consistent sidney poitier . avoid this movie if you are in the mood to think as you watch it ."
      ],
      "text/plain": [
       "<IPython.core.display.HTML object>"
      ]
     },
     "metadata": {},
     "output_type": "display_data"
    },
    {
     "name": "stdout",
     "output_type": "stream",
     "text": [
      "--------------------------------------------------\n",
      "#177   index = 14589\n",
      "ATTACK FAILED\n",
      "--------------------------------------------------\n",
      "#178   index = 5089\n",
      "ATTACK FAILED\n",
      "--------------------------------------------------\n",
      "#179   index = 13437\n",
      "ATTACK SUCCEEDED\n",
      "Original prediction: 0.060052\n"
     ]
    },
    {
     "data": {
      "text/html": [
       "flicks provide livelihood to the canadian locales where most are made , as <b style='color:red'>well</b> as the host of canadian actors appearing in them . tori spelling , like the ferret - face paris hilton , is somebody who - if not for family connections and resources - would likely be working at the <b style='color:red'>gap</b> . but at least tori has become , say , a c + - level thespian , appearing in occasional presentations appropriate to this level . this <b style='color:red'>story</b> is one which has been seen on lifetime and similar venues god - knows - how - many times . <b style='color:red'>devious</b> woman , a total sociopath , trying to screw - up everyone elses lives , operating during the initial parts of the story with more cleverness than a cia operative could muster , committing murder when necessary , and out to wreck the life of the flicks heroine . as usual , the male lead is a <b style='color:red'>completely</b> clueless <b style='color:red'>dolt</b> . and in these types of films , one finds , say , characters about whom one can really care , about 10 % of the time . this one is in the <b style='color:red'>other</b> 90 % ."
      ],
      "text/plain": [
       "<IPython.core.display.HTML object>"
      ]
     },
     "metadata": {},
     "output_type": "display_data"
    },
    {
     "name": "stdout",
     "output_type": "stream",
     "text": [
      "\n",
      "New prediction: 0.511882\n"
     ]
    },
    {
     "data": {
      "text/html": [
       "flicks provide livelihood to the canadian locales where most are made , as <b style='color:blue'>best</b> as the host of canadian actors appearing in them . tori spelling , like the ferret - face paris hilton , is somebody who - if not for family connections and resources - would likely be working at the <b style='color:blue'>inadequacy</b> . but at least tori has become , say , a c + - level thespian , appearing in occasional presentations appropriate to this level . this <b style='color:blue'>tale</b> is one which has been seen on lifetime and similar venues god - knows - how - many times . <b style='color:blue'>sneaky</b> woman , a total sociopath , trying to screw - up everyone elses lives , operating during the initial parts of the story with more cleverness than a cia operative could muster , committing murder when necessary , and out to wreck the life of the flicks heroine . as usual , the male lead is a <b style='color:blue'>diametrically</b> clueless <b style='color:blue'>daft</b> . and in these types of films , one finds , say , characters about whom one can really care , about 10 % of the time . this one is in the <b style='color:blue'>assorted</b> 90 % ."
      ],
      "text/plain": [
       "<IPython.core.display.HTML object>"
      ]
     },
     "metadata": {},
     "output_type": "display_data"
    },
    {
     "name": "stdout",
     "output_type": "stream",
     "text": [
      "--------------------------------------------------\n",
      "#180   index = 19924\n",
      "ATTACK FAILED\n",
      "--------------------------------------------------\n",
      "#181   index = 15149\n",
      "ATTACK FAILED\n",
      "--------------------------------------------------\n",
      "#182   index = 2912\n",
      "ATTACK SUCCEEDED\n",
      "Original prediction: 0.984860\n"
     ]
    },
    {
     "data": {
      "text/html": [
       "nice doco stuie ! even though it didnt work out how you wanted with the original film you have a <b style='color:red'>fantastic</b> piece of work and <b style='color:red'>great</b> viewing . it is self <b style='color:red'>evident</b> how much you put into it . that goes for everyone else too . its great to see the warts and all account of the process without being too nice . loved it ! well worth a view . que pena , the writer of the original film couldnt appreciate what you have achieved . <b style='color:red'>love</b> the attitude too . <b style='color:red'>great</b> piece . looking forward to seeing the next work . keep going bro ! paully"
      ],
      "text/plain": [
       "<IPython.core.display.HTML object>"
      ]
     },
     "metadata": {},
     "output_type": "display_data"
    },
    {
     "name": "stdout",
     "output_type": "stream",
     "text": [
      "\n",
      "New prediction: 0.487011\n"
     ]
    },
    {
     "data": {
      "text/html": [
       "nice doco stuie ! even though it didnt work out how you wanted with the original film you have a <b style='color:blue'>grandiose</b> piece of work and <b style='color:blue'>fanciful</b> viewing . it is self <b style='color:blue'>flagrant</b> how much you put into it . that goes for everyone else too . its great to see the warts and all account of the process without being too nice . loved it ! well worth a view . que pena , the writer of the original film couldnt appreciate what you have achieved . <b style='color:blue'>adore</b> the attitude too . <b style='color:blue'>grandiose</b> piece . looking forward to seeing the next work . keep going bro ! paully"
      ],
      "text/plain": [
       "<IPython.core.display.HTML object>"
      ]
     },
     "metadata": {},
     "output_type": "display_data"
    },
    {
     "name": "stdout",
     "output_type": "stream",
     "text": [
      "--------------------------------------------------\n",
      "#183   index = 22965\n",
      "ATTACK FAILED\n",
      "--------------------------------------------------\n",
      "#184   index = 16889\n",
      "ATTACK SUCCEEDED\n",
      "Original prediction: 0.002196\n"
     ]
    },
    {
     "data": {
      "text/html": [
       ". it <b style='color:red'>certainly</b> aint as bad as some people try to make you believe it is . its a rather <b style='color:red'>good</b> looking one , or rather said the movie at least doesnt have a cheap look over it . its effects may be a bit overused but nevertheless they are quite good looking , as are the make - up <b style='color:red'>effects</b> as well . still the <b style='color:red'>movie</b> was not what i hoped of it . its title might suggest that the movie is set in the wild , wild west , during the days of the cowboys but its title is just a <b style='color:red'>misleading</b> one , no doubt picked to cash in on it . i fell for it , expecting this movie to be a combination of a western and a gory zombie - horror - flick . for the fans of the zombie movies this movie will mostly be a <b style='color:red'>disappointment</b> to watch . it of course adds nothing new to the genre but it <b style='color:red'>also</b> doesnt has enough of the genre itself in it to be considered a <b style='color:red'>good</b> one to watch . not <b style='color:red'>totally</b> unwatchable but also far from a recommendable one . <b style='color:red'>4</b> / 10"
      ],
      "text/plain": [
       "<IPython.core.display.HTML object>"
      ]
     },
     "metadata": {},
     "output_type": "display_data"
    },
    {
     "name": "stdout",
     "output_type": "stream",
     "text": [
      "\n",
      "New prediction: 0.526343\n"
     ]
    },
    {
     "data": {
      "text/html": [
       ". it <b style='color:blue'>definitively</b> aint as bad as some people try to make you believe it is . its a rather <b style='color:blue'>decent</b> looking one , or rather said the movie at least doesnt have a cheap look over it . its effects may be a bit overused but nevertheless they are quite good looking , as are the make - up <b style='color:blue'>reverberations</b> as well . still the <b style='color:blue'>filmmaking</b> was not what i hoped of it . its title might suggest that the movie is set in the wild , wild west , during the days of the cowboys but its title is just a <b style='color:blue'>spurious</b> one , no doubt picked to cash in on it . i fell for it , expecting this movie to be a combination of a western and a gory zombie - horror - flick . for the fans of the zombie movies this movie will mostly be a <b style='color:blue'>frustration</b> to watch . it of course adds nothing new to the genre but it <b style='color:blue'>additionally</b> doesnt has enough of the genre itself in it to be considered a <b style='color:blue'>exemplary</b> one to watch . not <b style='color:blue'>entirely</b> unwatchable but also far from a recommendable one . <b style='color:blue'>5</b> / 10"
      ],
      "text/plain": [
       "<IPython.core.display.HTML object>"
      ]
     },
     "metadata": {},
     "output_type": "display_data"
    },
    {
     "name": "stdout",
     "output_type": "stream",
     "text": [
      "--------------------------------------------------\n",
      "#185   index = 6113\n",
      "ATTACK SUCCEEDED\n",
      "Original prediction: 0.994354\n"
     ]
    },
    {
     "data": {
      "text/html": [
       "goldeneye is a <b style='color:red'>masterpiece</b> . the storyline is <b style='color:red'>amazingly</b> depicted , the <b style='color:red'>characters</b> beautifully animated and the weapons are tyte . the storyline is so <b style='color:red'>interesting</b> , even when you complete every <b style='color:red'>single</b> mission , to get more levels you have to beat them on a higher difficulty . and the multiplayer mode is so tyte . you pick the <b style='color:red'>weapons</b> you want to play with , then play . me and the three of my friends , along with my brother , always play goldeneye . if you dont have this game , i <b style='color:red'>suggest</b> you buy it ."
      ],
      "text/plain": [
       "<IPython.core.display.HTML object>"
      ]
     },
     "metadata": {},
     "output_type": "display_data"
    },
    {
     "name": "stdout",
     "output_type": "stream",
     "text": [
      "\n",
      "New prediction: 0.487129\n"
     ]
    },
    {
     "data": {
      "text/html": [
       "goldeneye is a <b style='color:blue'>masterwork</b> . the storyline is <b style='color:blue'>appallingly</b> depicted , the <b style='color:blue'>personages</b> beautifully animated and the weapons are tyte . the storyline is so <b style='color:blue'>intriguing</b> , even when you complete every <b style='color:blue'>lone</b> mission , to get more levels you have to beat them on a higher difficulty . and the multiplayer mode is so tyte . you pick the <b style='color:blue'>armaments</b> you want to play with , then play . me and the three of my friends , along with my brother , always play goldeneye . if you dont have this game , i <b style='color:blue'>insinuate</b> you buy it ."
      ],
      "text/plain": [
       "<IPython.core.display.HTML object>"
      ]
     },
     "metadata": {},
     "output_type": "display_data"
    },
    {
     "name": "stdout",
     "output_type": "stream",
     "text": [
      "--------------------------------------------------\n",
      "#186   index = 18395\n",
      "ATTACK SUCCEEDED\n",
      "Original prediction: 0.004247\n"
     ]
    },
    {
     "data": {
      "text/html": [
       "group cowardly beats bob and mic kills him with a piece of wood in the forest . mic feels sorrow and decides to tell his mother what he did , but john and billy threaten him , with tragic consequences . i believe the wind is the <b style='color:red'>worst</b> movie i have ever seen in my life . the <b style='color:red'>awful</b> <b style='color:red'>screenplay</b> is <b style='color:red'>ridiculous</b> , and it is almost impossible to write a summary , since there is no story or plot , only sequences of disconnected scenes . the <b style='color:red'>amateurish</b> direction and acting are <b style='color:red'>amazingly</b> poor and <b style='color:red'>terrible</b> . it is <b style='color:red'>unbelievable</b> how producers invest money in such garbage , distributors release this crap worldwide and viewers like me buy this dvd . i waited until the very last scene because i was curious to see how <b style='color:red'>bad</b> this film could be and i was impressed , since it is worse than i could imagine in my lowest expectations . in the end , i question why imdb does not offer zero in the vote system , since the garbage really deserves this vote . my vote is one . title ( brazil ) : força invisível ( invisible force )"
      ],
      "text/plain": [
       "<IPython.core.display.HTML object>"
      ]
     },
     "metadata": {},
     "output_type": "display_data"
    },
    {
     "name": "stdout",
     "output_type": "stream",
     "text": [
      "\n",
      "New prediction: 0.579192\n"
     ]
    },
    {
     "data": {
      "text/html": [
       "group cowardly beats bob and mic kills him with a piece of wood in the forest . mic feels sorrow and decides to tell his mother what he did , but john and billy threaten him , with tragic consequences . i believe the wind is the <b style='color:blue'>lousiest</b> movie i have ever seen in my life . the <b style='color:blue'>harrowing</b> <b style='color:blue'>scenario</b> is <b style='color:blue'>grotesque</b> , and it is almost impossible to write a summary , since there is no story or plot , only sequences of disconnected scenes . the <b style='color:blue'>unprofessional</b> direction and acting are <b style='color:blue'>uncommonly</b> poor and <b style='color:blue'>harrowing</b> . it is <b style='color:blue'>superb</b> how producers invest money in such garbage , distributors release this crap worldwide and viewers like me buy this dvd . i waited until the very last scene because i was curious to see how <b style='color:blue'>wicked</b> this film could be and i was impressed , since it is worse than i could imagine in my lowest expectations . in the end , i question why imdb does not offer zero in the vote system , since the garbage really deserves this vote . my vote is one . title ( brazil ) : força invisível ( invisible force )"
      ],
      "text/plain": [
       "<IPython.core.display.HTML object>"
      ]
     },
     "metadata": {},
     "output_type": "display_data"
    },
    {
     "name": "stdout",
     "output_type": "stream",
     "text": [
      "--------------------------------------------------\n",
      "#187   index = 11321\n",
      "ATTACK SUCCEEDED\n",
      "Original prediction: 0.961874\n"
     ]
    },
    {
     "data": {
      "text/html": [
       "* * * spoilers * * * whatever else can ( or cant ) be said about it , surface is <b style='color:red'>superbly</b> crafted . the cinematography is simply <b style='color:red'>stunning</b> ( to say the least ) and the fx are nothing if not state - of - the - art . conceptually , the show offers a little bit of everything - and for just about everybody ( parents , kids , fantasy and / or fx fans ) . close encounters of the third kind by way of creature from the black lagoon with a bit of jaws and godzilla thrown in for good measure , say . and there wasnt a single sour note struck acting - wise , either ; some surprisingly solid casting , here . this series surfaced , seemingly , from out of nowhere and , by sheer dint of its straightforward storytelling , carried the viewer along for the better part of an entire season . all things considered , a job very well done . i only hope it resurfaces next season . . ."
      ],
      "text/plain": [
       "<IPython.core.display.HTML object>"
      ]
     },
     "metadata": {},
     "output_type": "display_data"
    },
    {
     "name": "stdout",
     "output_type": "stream",
     "text": [
      "\n",
      "New prediction: 0.448028\n"
     ]
    },
    {
     "data": {
      "text/html": [
       "* * * spoilers * * * whatever else can ( or cant ) be said about it , surface is <b style='color:blue'>marvellously</b> crafted . the cinematography is simply <b style='color:blue'>staggering</b> ( to say the least ) and the fx are nothing if not state - of - the - art . conceptually , the show offers a little bit of everything - and for just about everybody ( parents , kids , fantasy and / or fx fans ) . close encounters of the third kind by way of creature from the black lagoon with a bit of jaws and godzilla thrown in for good measure , say . and there wasnt a single sour note struck acting - wise , either ; some surprisingly solid casting , here . this series surfaced , seemingly , from out of nowhere and , by sheer dint of its straightforward storytelling , carried the viewer along for the better part of an entire season . all things considered , a job very well done . i only hope it resurfaces next season . . ."
      ],
      "text/plain": [
       "<IPython.core.display.HTML object>"
      ]
     },
     "metadata": {},
     "output_type": "display_data"
    },
    {
     "name": "stdout",
     "output_type": "stream",
     "text": [
      "--------------------------------------------------\n",
      "#188   index = 2819\n",
      "ATTACK SUCCEEDED\n",
      "Original prediction: 0.981883\n"
     ]
    },
    {
     "data": {
      "text/html": [
       "held dv which some might find offputting , but which does enable nossiter to catch people off guard on a number of occasions which probably would not have been possible using more conventional equipment . <b style='color:red'>despite</b> the sprawling feel of the film , the editing is very sharp , not only giving us a parade of the worlds dogs , but also <b style='color:red'>undercutting</b> a number of interviewees comments with somewhat contradictory visual images , and giving others sufficient rope to hang themselves . to a degree this evoked michael moores recent work ( although nossiter operates in a more subtle way ) , but probably the <b style='color:red'>roots</b> of the film go back to marcel ophuls the <b style='color:red'>sorrow</b> and the <b style='color:red'>pity</b> , both in the way the film is constructed and in the emergence of salt of the earth french peasants as the stars . de montille pere et fils were present at the lff screening and answered questions afterwards . we do indeed all need a little disorder - bravo hubert ! overall an <b style='color:red'>excellent</b> film with <b style='color:red'>implications</b> that go way beyond the world of <b style='color:red'>wine</b> into the way we construct ourselves as people , and organise our world ."
      ],
      "text/plain": [
       "<IPython.core.display.HTML object>"
      ]
     },
     "metadata": {},
     "output_type": "display_data"
    },
    {
     "name": "stdout",
     "output_type": "stream",
     "text": [
      "\n",
      "New prediction: 0.480524\n"
     ]
    },
    {
     "data": {
      "text/html": [
       "held dv which some might find offputting , but which does enable nossiter to catch people off guard on a number of occasions which probably would not have been possible using more conventional equipment . <b style='color:blue'>notwithstanding</b> the sprawling feel of the film , the editing is very sharp , not only giving us a parade of the worlds dogs , but also <b style='color:blue'>eroding</b> a number of interviewees comments with somewhat contradictory visual images , and giving others sufficient rope to hang themselves . to a degree this evoked michael moores recent work ( although nossiter operates in a more subtle way ) , but probably the <b style='color:blue'>sources</b> of the film go back to marcel ophuls the <b style='color:blue'>sadness</b> and the <b style='color:blue'>shame</b> , both in the way the film is constructed and in the emergence of salt of the earth french peasants as the stars . de montille pere et fils were present at the lff screening and answered questions afterwards . we do indeed all need a little disorder - bravo hubert ! overall an <b style='color:blue'>grandiose</b> film with <b style='color:blue'>consequences</b> that go way beyond the world of <b style='color:blue'>vino</b> into the way we construct ourselves as people , and organise our world ."
      ],
      "text/plain": [
       "<IPython.core.display.HTML object>"
      ]
     },
     "metadata": {},
     "output_type": "display_data"
    },
    {
     "name": "stdout",
     "output_type": "stream",
     "text": [
      "--------------------------------------------------\n",
      "#189   index = 9420\n",
      "ATTACK SUCCEEDED\n",
      "Original prediction: 0.989875\n"
     ]
    },
    {
     "data": {
      "text/html": [
       "i would have to say that in general barbie movies have impressed me . i have a <b style='color:red'>5</b> year old barbie fanatic niece and she watches them all the time so <b style='color:red'>needless</b> to say i have seen quite a lot of barbie these holidays , but i am not sick of them . this film , visually , has a <b style='color:red'>lot</b> to offer , <b style='color:red'>especially</b> the backgrounds , and the animation of the characters has improved with each new movie . one thing i noticed in <b style='color:red'>particular</b> was a <b style='color:red'>vast</b> improvement in the animation of barbies hair in this film . it has a <b style='color:red'>lovely</b> range of excerpts from classical music and i think that this is <b style='color:red'>great</b> , as it exposes a new generation to the classics . this <b style='color:red'>film</b> is well worth ago , <b style='color:red'>especially</b> if you have young relievers . they will be entertained for hours !"
      ],
      "text/plain": [
       "<IPython.core.display.HTML object>"
      ]
     },
     "metadata": {},
     "output_type": "display_data"
    },
    {
     "name": "stdout",
     "output_type": "stream",
     "text": [
      "\n",
      "New prediction: 0.465520\n"
     ]
    },
    {
     "data": {
      "text/html": [
       "i would have to say that in general barbie movies have impressed me . i have a <b style='color:blue'>4</b> year old barbie fanatic niece and she watches them all the time so <b style='color:blue'>pointless</b> to say i have seen quite a lot of barbie these holidays , but i am not sick of them . this film , visually , has a <b style='color:blue'>batch</b> to offer , <b style='color:blue'>specifically</b> the backgrounds , and the animation of the characters has improved with each new movie . one thing i noticed in <b style='color:blue'>specific</b> was a <b style='color:blue'>colossal</b> improvement in the animation of barbies hair in this film . it has a <b style='color:blue'>grandiose</b> range of excerpts from classical music and i think that this is <b style='color:blue'>grandiose</b> , as it exposes a new generation to the classics . this <b style='color:blue'>filmmaking</b> is well worth ago , <b style='color:blue'>primarily</b> if you have young relievers . they will be entertained for hours !"
      ],
      "text/plain": [
       "<IPython.core.display.HTML object>"
      ]
     },
     "metadata": {},
     "output_type": "display_data"
    },
    {
     "name": "stdout",
     "output_type": "stream",
     "text": [
      "--------------------------------------------------\n",
      "#190   index = 15936\n",
      "ATTACK SUCCEEDED\n",
      "Original prediction: 0.006250\n"
     ]
    },
    {
     "data": {
      "text/html": [
       "stock <b style='color:red'>car</b> driver ( who is so incompetent , you really believe it is the actor driving the car ) that he gives up and gets in with the wrong crowd oooooh ! scary stuff . however , the wrong crowd turn out to be the biker equivalent of the three stooges and their hand - me round slut of a biker chick . as an example of how lame this whole thing is , the writers obviously wracked their brains to come up with a <b style='color:red'>frightening</b> name for the biker gang - if four people can be called a gang , that is . the result ? the gang is called satans angels ! i kid you not . such <b style='color:red'>dire</b> acting and dialogue , along with <b style='color:red'>ridiculous</b> scenes , make for a <b style='color:red'>wonderful</b> beer and chips movie . but otherwise its just the <b style='color:red'>worst</b> kind of <b style='color:red'>rubbish</b> . as i said . once , this may have been considered good . but today it just makes you laugh ( and cringe ) with every minute that goes by . avoid it except for a <b style='color:red'>good</b> laugh . and make sure youre more than half - drunk too !"
      ],
      "text/plain": [
       "<IPython.core.display.HTML object>"
      ]
     },
     "metadata": {},
     "output_type": "display_data"
    },
    {
     "name": "stdout",
     "output_type": "stream",
     "text": [
      "\n",
      "New prediction: 0.546215\n"
     ]
    },
    {
     "data": {
      "text/html": [
       "stock <b style='color:blue'>motorcar</b> driver ( who is so incompetent , you really believe it is the actor driving the car ) that he gives up and gets in with the wrong crowd oooooh ! scary stuff . however , the wrong crowd turn out to be the biker equivalent of the three stooges and their hand - me round slut of a biker chick . as an example of how lame this whole thing is , the writers obviously wracked their brains to come up with a <b style='color:blue'>harrowing</b> name for the biker gang - if four people can be called a gang , that is . the result ? the gang is called satans angels ! i kid you not . such <b style='color:blue'>harrowing</b> acting and dialogue , along with <b style='color:blue'>grotesque</b> scenes , make for a <b style='color:blue'>excellent</b> beer and chips movie . but otherwise its just the <b style='color:blue'>lousiest</b> kind of <b style='color:blue'>trash</b> . as i said . once , this may have been considered good . but today it just makes you laugh ( and cringe ) with every minute that goes by . avoid it except for a <b style='color:blue'>exemplary</b> laugh . and make sure youre more than half - drunk too !"
      ],
      "text/plain": [
       "<IPython.core.display.HTML object>"
      ]
     },
     "metadata": {},
     "output_type": "display_data"
    },
    {
     "name": "stdout",
     "output_type": "stream",
     "text": [
      "--------------------------------------------------\n",
      "#191   index = 16580\n",
      "ATTACK FAILED\n",
      "--------------------------------------------------\n",
      "#192   index = 23833\n",
      "ATTACK SUCCEEDED\n",
      "Original prediction: 0.037487\n"
     ]
    },
    {
     "data": {
      "text/html": [
       "derek jarman has shown us time and time again that dialog is not his strong suit . he is a painter , and paint he does . his films are <b style='color:red'>almost</b> always visually splendid , but about as exciting to watch as paint that is already dry . watch his movies in fast forward , the really fast setting that you can only get on dvd . in the tempest , jarman does very little with the script or the characters , using them as simply a lattice to hang a very long and well - constructed cinematographic frame . he even goes so far as to contradict shakespeares original script to achieve these excrucriatingly slow and lifeless scenes . there is none of the romance , magic , trickery , or urgency the script calls for , little spontaneity , and the character of caliban in particular is <b style='color:red'>reduced</b> to a quivering and insane idiot of sorts , similar to gaveston in jarmans edward ii . it is too <b style='color:red'>bad</b> that this is just about the only film version of the tempest available ."
      ],
      "text/plain": [
       "<IPython.core.display.HTML object>"
      ]
     },
     "metadata": {},
     "output_type": "display_data"
    },
    {
     "name": "stdout",
     "output_type": "stream",
     "text": [
      "\n",
      "New prediction: 0.605921\n"
     ]
    },
    {
     "data": {
      "text/html": [
       "derek jarman has shown us time and time again that dialog is not his strong suit . he is a painter , and paint he does . his films are <b style='color:blue'>approximately</b> always visually splendid , but about as exciting to watch as paint that is already dry . watch his movies in fast forward , the really fast setting that you can only get on dvd . in the tempest , jarman does very little with the script or the characters , using them as simply a lattice to hang a very long and well - constructed cinematographic frame . he even goes so far as to contradict shakespeares original script to achieve these excrucriatingly slow and lifeless scenes . there is none of the romance , magic , trickery , or urgency the script calls for , little spontaneity , and the character of caliban in particular is <b style='color:blue'>lessened</b> to a quivering and insane idiot of sorts , similar to gaveston in jarmans edward ii . it is too <b style='color:blue'>wicked</b> that this is just about the only film version of the tempest available ."
      ],
      "text/plain": [
       "<IPython.core.display.HTML object>"
      ]
     },
     "metadata": {},
     "output_type": "display_data"
    },
    {
     "name": "stdout",
     "output_type": "stream",
     "text": [
      "--------------------------------------------------\n",
      "#193   index = 9909\n",
      "ATTACK FAILED\n",
      "--------------------------------------------------\n",
      "#194   index = 22792\n",
      "ATTACK SUCCEEDED\n",
      "Original prediction: 0.011745\n"
     ]
    },
    {
     "data": {
      "text/html": [
       "i was forced to read this sappy love story between a german 24 year old pow and a 12 year old jew . that has political correctness written all over it . its kind of like the movie spirit in which a horse wants to be free but those evil americans wont let it because they need it . well i have good news the americans are evil in the german soldier and his summer book . why ! ! ! horses where given to us by god and if the americans needed a horse the can darn well use it . in the same sense the german had been trying to kill americans , but this book / movie makes it seem ok ! the casting is absolutely <b style='color:red'>awful</b> ! ! ! ! ! ! ! ! ! ! ! ! the girl is hispanic the mother is white the dad it probubly from mostly white descent and the little sister is shirley templish . the acting is pretty <b style='color:red'>bad</b> too , the serious parts become comedy ! concluson - bad movie , bad book , but both have different endings , dont read or see either one !"
      ],
      "text/plain": [
       "<IPython.core.display.HTML object>"
      ]
     },
     "metadata": {},
     "output_type": "display_data"
    },
    {
     "name": "stdout",
     "output_type": "stream",
     "text": [
      "\n",
      "New prediction: 0.709145\n"
     ]
    },
    {
     "data": {
      "text/html": [
       "i was forced to read this sappy love story between a german 24 year old pow and a 12 year old jew . that has political correctness written all over it . its kind of like the movie spirit in which a horse wants to be free but those evil americans wont let it because they need it . well i have good news the americans are evil in the german soldier and his summer book . why ! ! ! horses where given to us by god and if the americans needed a horse the can darn well use it . in the same sense the german had been trying to kill americans , but this book / movie makes it seem ok ! the casting is absolutely <b style='color:blue'>harrowing</b> ! ! ! ! ! ! ! ! ! ! ! ! the girl is hispanic the mother is white the dad it probubly from mostly white descent and the little sister is shirley templish . the acting is pretty <b style='color:blue'>wicked</b> too , the serious parts become comedy ! concluson - bad movie , bad book , but both have different endings , dont read or see either one !"
      ],
      "text/plain": [
       "<IPython.core.display.HTML object>"
      ]
     },
     "metadata": {},
     "output_type": "display_data"
    },
    {
     "name": "stdout",
     "output_type": "stream",
     "text": [
      "--------------------------------------------------\n",
      "#195   index = 22246\n",
      "ATTACK FAILED\n",
      "--------------------------------------------------\n",
      "#196   index = 4567\n",
      "ATTACK SUCCEEDED\n",
      "Original prediction: 0.998553\n"
     ]
    },
    {
     "data": {
      "text/html": [
       "on ebay , having vivid memories of the things i will not miss number from childhood ( i am an ancient 29 ) . i also recently finished the novel upon which it is based . i was so <b style='color:red'>pleasantly</b> <b style='color:red'>surprised</b> to find a genuine <b style='color:red'>hidden</b> treasure . a <b style='color:red'>wonderful</b> cast brings such warmth and depth to a <b style='color:red'>beautifully</b> simple and <b style='color:red'>elegantly</b> told story , subtly updated from the original film ( and by now quite a separate entity to the far more intellectual and thought <b style='color:red'>provoking</b> book by james hilton ) . sally kellerman in particular has a radiant presence as the suicidal neurotic sally hughes , who gradually warms to the charms of shangri - la . only liv ullmann flounders in her wooden portrayal of the schoolteacher ( a role far more suited to a julie andrews type . the fact that finch , ullmann and hussey are all dubbed isnt <b style='color:red'>important</b> as it is almost impossible to tell . the songs do vary in quality , the music being far superior to the lyrics but it is still a <b style='color:red'>vibrant</b> and engrossing film that <b style='color:red'>really</b> deserves a proper dvd <b style='color:red'>release</b> and a <b style='color:red'>lot</b> more <b style='color:red'>recognition</b> ."
      ],
      "text/plain": [
       "<IPython.core.display.HTML object>"
      ]
     },
     "metadata": {},
     "output_type": "display_data"
    },
    {
     "name": "stdout",
     "output_type": "stream",
     "text": [
      "\n",
      "New prediction: 0.487714\n"
     ]
    },
    {
     "data": {
      "text/html": [
       "on ebay , having vivid memories of the things i will not miss number from childhood ( i am an ancient 29 ) . i also recently finished the novel upon which it is based . i was so <b style='color:blue'>agreeably</b> <b style='color:blue'>aghast</b> to find a genuine <b style='color:blue'>ulterior</b> treasure . a <b style='color:blue'>grandiose</b> cast brings such warmth and depth to a <b style='color:blue'>marvellously</b> simple and <b style='color:blue'>stylishly</b> told story , subtly updated from the original film ( and by now quite a separate entity to the far more intellectual and thought <b style='color:blue'>causing</b> book by james hilton ) . sally kellerman in particular has a radiant presence as the suicidal neurotic sally hughes , who gradually warms to the charms of shangri - la . only liv ullmann flounders in her wooden portrayal of the schoolteacher ( a role far more suited to a julie andrews type . the fact that finch , ullmann and hussey are all dubbed isnt <b style='color:blue'>weighty</b> as it is almost impossible to tell . the songs do vary in quality , the music being far superior to the lyrics but it is still a <b style='color:blue'>alive</b> and engrossing film that <b style='color:blue'>truthfully</b> deserves a proper dvd <b style='color:blue'>freed</b> and a <b style='color:blue'>batch</b> more <b style='color:blue'>recognise</b> ."
      ],
      "text/plain": [
       "<IPython.core.display.HTML object>"
      ]
     },
     "metadata": {},
     "output_type": "display_data"
    },
    {
     "name": "stdout",
     "output_type": "stream",
     "text": [
      "--------------------------------------------------\n",
      "#197   index = 11508\n",
      "ATTACK SUCCEEDED\n",
      "Original prediction: 0.977963\n"
     ]
    },
    {
     "data": {
      "text/html": [
       "for people who are first timers in film making , i think they did an <b style='color:red'>excellent</b> job ! ! we have to support the emerging industry especially coming from up north . it was very <b style='color:red'>popular</b> when i was in the cinema , a good <b style='color:red'>house</b> and very <b style='color:red'>good</b> <b style='color:red'>reactions</b> and plenty of laughs . its a feel - good film and thats how i felt when i came out of the cinema ! it has northern humour and positive about the community it represents . the film has just opened , i do hope it does well - people should support this little film . i think this vinny . . . person is very bitter , about something ! and getting too personal",
       " ? shame ! ! i say well done to all those involved",
       "have a drink on me ! ! i look forward to you <b style='color:red'>next</b> venture ."
      ],
      "text/plain": [
       "<IPython.core.display.HTML object>"
      ]
     },
     "metadata": {},
     "output_type": "display_data"
    },
    {
     "name": "stdout",
     "output_type": "stream",
     "text": [
      "\n",
      "New prediction: 0.482056\n"
     ]
    },
    {
     "data": {
      "text/html": [
       "for people who are first timers in film making , i think they did an <b style='color:blue'>grandiose</b> job ! ! we have to support the emerging industry especially coming from up north . it was very <b style='color:blue'>trendy</b> when i was in the cinema , a good <b style='color:blue'>habitation</b> and very <b style='color:blue'>allright</b> <b style='color:blue'>replies</b> and plenty of laughs . its a feel - good film and thats how i felt when i came out of the cinema ! it has northern humour and positive about the community it represents . the film has just opened , i do hope it does well - people should support this little film . i think this vinny . . . person is very bitter , about something ! and getting too personal",
       " ? shame ! ! i say well done to all those involved",
       "have a drink on me ! ! i look forward to you <b style='color:blue'>imminent</b> venture ."
      ],
      "text/plain": [
       "<IPython.core.display.HTML object>"
      ]
     },
     "metadata": {},
     "output_type": "display_data"
    },
    {
     "name": "stdout",
     "output_type": "stream",
     "text": [
      "--------------------------------------------------\n",
      "#198   index = 18376\n",
      "ATTACK SUCCEEDED\n",
      "Original prediction: 0.005447\n"
     ]
    },
    {
     "data": {
      "text/html": [
       "that take over two and a half hours to do what any reasonable filmmaker would do in about ninety minutes . the story centers on inman ( a somnambulent jude law ) , who goes off to the civil war having just barely started a sort - of romance with nicole kidman , a <b style='color:red'>preachers</b> daughter who has recently arrived in the prettily photographed backwater town . the story cuts back and forth between inmans trials and tribulations at war ( which is , guess what boys and girls ? <b style='color:red'>hell</b> ! ! ) and kidmans trials and tribulations back at home ( which are , very predictably , <b style='color:red'>incredibly</b> <b style='color:red'>boring</b> ) . renee zellwegger appears on kidmans farm to help kidman get it back into shape after kidmans saintly daddy dies of <b style='color:red'>inconvenient</b> <b style='color:red'>character</b> disease . zellwegger acts all squinty and bossy in that granny clampett kind of <b style='color:red'>way</b> , dispensing enough tough love and homespun wisdom to turn the <b style='color:red'>stomach</b> of even the hardiest watcher of touched by an angel . this film is , quite simply , excruciating . avoid it like the <b style='color:red'>big</b> <b style='color:red'>bloated</b> oscar - <b style='color:red'>bait</b> <b style='color:red'>bogus</b> <b style='color:red'>pretentious</b> literary <b style='color:red'>adaptation</b> <b style='color:red'>nonsense</b> that it is ."
      ],
      "text/plain": [
       "<IPython.core.display.HTML object>"
      ]
     },
     "metadata": {},
     "output_type": "display_data"
    },
    {
     "name": "stdout",
     "output_type": "stream",
     "text": [
      "\n",
      "New prediction: 0.509972\n"
     ]
    },
    {
     "data": {
      "text/html": [
       "that take over two and a half hours to do what any reasonable filmmaker would do in about ninety minutes . the story centers on inman ( a somnambulent jude law ) , who goes off to the civil war having just barely started a sort - of romance with nicole kidman , a <b style='color:blue'>orators</b> daughter who has recently arrived in the prettily photographed backwater town . the story cuts back and forth between inmans trials and tribulations at war ( which is , guess what boys and girls ? <b style='color:blue'>inferno</b> ! ! ) and kidmans trials and tribulations back at home ( which are , very predictably , <b style='color:blue'>surprisingly</b> <b style='color:blue'>bored</b> ) . renee zellwegger appears on kidmans farm to help kidman get it back into shape after kidmans saintly daddy dies of <b style='color:blue'>erratic</b> <b style='color:blue'>nature</b> disease . zellwegger acts all squinty and bossy in that granny clampett kind of <b style='color:blue'>manner</b> , dispensing enough tough love and homespun wisdom to turn the <b style='color:blue'>tummy</b> of even the hardiest watcher of touched by an angel . this film is , quite simply , excruciating . avoid it like the <b style='color:blue'>jumbo</b> <b style='color:blue'>swollen</b> oscar - <b style='color:blue'>lure</b> <b style='color:blue'>imaginary</b> <b style='color:blue'>cocky</b> literary <b style='color:blue'>adaptability</b> <b style='color:blue'>absurdity</b> that it is ."
      ],
      "text/plain": [
       "<IPython.core.display.HTML object>"
      ]
     },
     "metadata": {},
     "output_type": "display_data"
    },
    {
     "name": "stdout",
     "output_type": "stream",
     "text": [
      "--------------------------------------------------\n",
      "#199   index = 16808\n",
      "ATTACK SUCCEEDED\n",
      "Original prediction: 0.089611\n"
     ]
    },
    {
     "data": {
      "text/html": [
       "for the weekend are pias two daughters , one a short - haired lesbian and the other a brunette . lots of sex is implied , but hardly shown . one good - looking actor plays ali , the egyptian servant , who gets lucky with three of the women in the mansion . laura has sex with the lesbian , the lesbian has sex with horatio , pia and the blonde have sex with horatio at an egyptian orgy , laura drinks goats blood and is possessed during an egyptian ceremony , carlo rapes laura . it all happens with so little flair that emanuelle in egypt is one of the <b style='color:red'>worst</b> movies ive ever seen . far from erotic , even the actors themselves look bored during their sex scenes . considering there were two famous couples in this film ( laura and gabriele & al and annie ) , the number of <b style='color:red'>available</b> sex scenes are uncountable . instead , a film that offers a top - notch eurocult cast and never delivers the goods will piss every viewer off , except the hardcore laura gemser completist . otherwise , steer clear of emanuelle in egypt !"
      ],
      "text/plain": [
       "<IPython.core.display.HTML object>"
      ]
     },
     "metadata": {},
     "output_type": "display_data"
    },
    {
     "name": "stdout",
     "output_type": "stream",
     "text": [
      "\n",
      "New prediction: 0.505166\n"
     ]
    },
    {
     "data": {
      "text/html": [
       "for the weekend are pias two daughters , one a short - haired lesbian and the other a brunette . lots of sex is implied , but hardly shown . one good - looking actor plays ali , the egyptian servant , who gets lucky with three of the women in the mansion . laura has sex with the lesbian , the lesbian has sex with horatio , pia and the blonde have sex with horatio at an egyptian orgy , laura drinks goats blood and is possessed during an egyptian ceremony , carlo rapes laura . it all happens with so little flair that emanuelle in egypt is one of the <b style='color:blue'>lousiest</b> movies ive ever seen . far from erotic , even the actors themselves look bored during their sex scenes . considering there were two famous couples in this film ( laura and gabriele & al and annie ) , the number of <b style='color:blue'>approachable</b> sex scenes are uncountable . instead , a film that offers a top - notch eurocult cast and never delivers the goods will piss every viewer off , except the hardcore laura gemser completist . otherwise , steer clear of emanuelle in egypt !"
      ],
      "text/plain": [
       "<IPython.core.display.HTML object>"
      ]
     },
     "metadata": {},
     "output_type": "display_data"
    },
    {
     "name": "stdout",
     "output_type": "stream",
     "text": [
      "--------------------------------------------------\n",
      "#200   index = 9090\n",
      "ATTACK SUCCEEDED\n",
      "Original prediction: 0.966898\n"
     ]
    },
    {
     "data": {
      "text/html": [
       "first film in which this comedy duo displayed their laurel - and - hardy - esque brand of humor . farleys obvious physical comedy skill is perfectly <b style='color:red'>augmented</b> by spades sarcastic take on every situation they find themselves in . this movie stands apart from other comedy movies . tommy boy ranks in with blues brothers as a comedic work whose individual scenes and bits stem from the plot , rather than serve to break up the storyline and give the film a disjointed feel as so many other comedic films do . thanks to <b style='color:red'>excellent</b> direction by sagal , every scene is tight and immediately foreshadows or acts out the story being told . he is as much to credit for the films hilariousness as farley and spade are . the acting of dennehy , lowe , ackroyd , and many others ( see the gas station attendant 22 miles from davenport ) strengthen the film . the film warrants multiple viewings because there are many fine nuaces to the film that may be overshadowed by farley / spade . i believe this <b style='color:red'>film</b> is <b style='color:red'>very</b> <b style='color:red'>well</b> - made and is the funniest <b style='color:red'>movie</b> i have ever seen ."
      ],
      "text/plain": [
       "<IPython.core.display.HTML object>"
      ]
     },
     "metadata": {},
     "output_type": "display_data"
    },
    {
     "name": "stdout",
     "output_type": "stream",
     "text": [
      "\n",
      "New prediction: 0.468260\n"
     ]
    },
    {
     "data": {
      "text/html": [
       "first film in which this comedy duo displayed their laurel - and - hardy - esque brand of humor . farleys obvious physical comedy skill is perfectly <b style='color:blue'>risen</b> by spades sarcastic take on every situation they find themselves in . this movie stands apart from other comedy movies . tommy boy ranks in with blues brothers as a comedic work whose individual scenes and bits stem from the plot , rather than serve to break up the storyline and give the film a disjointed feel as so many other comedic films do . thanks to <b style='color:blue'>grandiose</b> direction by sagal , every scene is tight and immediately foreshadows or acts out the story being told . he is as much to credit for the films hilariousness as farley and spade are . the acting of dennehy , lowe , ackroyd , and many others ( see the gas station attendant 22 miles from davenport ) strengthen the film . the film warrants multiple viewings because there are many fine nuaces to the film that may be overshadowed by farley / spade . i believe this <b style='color:blue'>filmmaking</b> is <b style='color:blue'>extremely</b> <b style='color:blue'>allright</b> - made and is the funniest <b style='color:blue'>filmmaking</b> i have ever seen ."
      ],
      "text/plain": [
       "<IPython.core.display.HTML object>"
      ]
     },
     "metadata": {},
     "output_type": "display_data"
    },
    {
     "name": "stdout",
     "output_type": "stream",
     "text": [
      "--------------------------------------------------\n",
      "#201   index = 18720\n",
      "ATTACK FAILED\n",
      "--------------------------------------------------\n",
      "#202   index = 11680\n",
      "ATTACK SUCCEEDED\n",
      "Original prediction: 0.976457\n"
     ]
    },
    {
     "data": {
      "text/html": [
       "whose entire repertoire consists of old proverbs , and cryptograf tells him that fear lends the villagers wings . taking this literally , timandahaf believes that fear actually allows people to fly , and sets out on an expedition to retrieve the champion of fear , an expedition that , of course , leads him to the gaulish village where asterix and obelix live . the pair are currently very frustrated - chief vitalstatistixs cowardly , pacifist nephew , justforkix , has been entrusted to them so they can train him to be a man , and the boy is making little to no progress . when justforkix unwittingly confesses to being afraid of everything in the presence of the brainless viking olaf , he is believed to be the champion of fear , and is kidnapped . asterix and obelix are sent by vitalstatistix to go rescue justforkix before his father returns to the village to bring his son back home . ultimately , this is a <b style='color:red'>great</b> movie with few flaws besides the clichés and , at times , defective dialogs . i <b style='color:red'>thoroughly</b> <b style='color:red'>enjoyed</b> it , despite the fact that it wasnt <b style='color:red'>true</b> to the comic ."
      ],
      "text/plain": [
       "<IPython.core.display.HTML object>"
      ]
     },
     "metadata": {},
     "output_type": "display_data"
    },
    {
     "name": "stdout",
     "output_type": "stream",
     "text": [
      "\n",
      "New prediction: 0.416702\n"
     ]
    },
    {
     "data": {
      "text/html": [
       "whose entire repertoire consists of old proverbs , and cryptograf tells him that fear lends the villagers wings . taking this literally , timandahaf believes that fear actually allows people to fly , and sets out on an expedition to retrieve the champion of fear , an expedition that , of course , leads him to the gaulish village where asterix and obelix live . the pair are currently very frustrated - chief vitalstatistixs cowardly , pacifist nephew , justforkix , has been entrusted to them so they can train him to be a man , and the boy is making little to no progress . when justforkix unwittingly confesses to being afraid of everything in the presence of the brainless viking olaf , he is believed to be the champion of fear , and is kidnapped . asterix and obelix are sent by vitalstatistix to go rescue justforkix before his father returns to the village to bring his son back home . ultimately , this is a <b style='color:blue'>grandiose</b> movie with few flaws besides the clichés and , at times , defective dialogs . i <b style='color:blue'>conscientiously</b> <b style='color:blue'>experienced</b> it , despite the fact that it wasnt <b style='color:blue'>truthful</b> to the comic ."
      ],
      "text/plain": [
       "<IPython.core.display.HTML object>"
      ]
     },
     "metadata": {},
     "output_type": "display_data"
    },
    {
     "name": "stdout",
     "output_type": "stream",
     "text": [
      "--------------------------------------------------\n",
      "#203   index = 955\n",
      "ATTACK SUCCEEDED\n",
      "Original prediction: 0.951258\n"
     ]
    },
    {
     "data": {
      "text/html": [
       ". <b style='color:red'>outstanding</b> cinematography extends to using montage to juxtapose images , in a manner similar to poetrys juxtaposition of unrelated words to create further meaning . <b style='color:red'>horrific</b> war scenes in thessaly are intercut with screams of vera in pregnancy . giving birth or is it abortion ? we are not told immediately . pain is universal and goes beyond time and place to our present day . constant echoes of dylans poetry throughout the film lead us beyond earthly opposites . it reminds me of marlon brando reading ts eliot in apocalypse now . a light beyond the horrors of the world . a different way of seeing things . ill take you back to a time when no bombs fell from the sky and no - one died  ever , says dylan to vera as they walk along the beach . elsewhere , caitlin recalls childhood with vera : were still innocent in dylan , she says . theres a time to leave your knickers at home or share a universal cigarette . ( not literally , perhaps . ) a time to be inspired . enjoy what is possibly the best british <b style='color:red'>film</b> of the year ."
      ],
      "text/plain": [
       "<IPython.core.display.HTML object>"
      ]
     },
     "metadata": {},
     "output_type": "display_data"
    },
    {
     "name": "stdout",
     "output_type": "stream",
     "text": [
      "\n",
      "New prediction: 0.487477\n"
     ]
    },
    {
     "data": {
      "text/html": [
       ". <b style='color:blue'>fanciful</b> cinematography extends to using montage to juxtapose images , in a manner similar to poetrys juxtaposition of unrelated words to create further meaning . <b style='color:blue'>dreadful</b> war scenes in thessaly are intercut with screams of vera in pregnancy . giving birth or is it abortion ? we are not told immediately . pain is universal and goes beyond time and place to our present day . constant echoes of dylans poetry throughout the film lead us beyond earthly opposites . it reminds me of marlon brando reading ts eliot in apocalypse now . a light beyond the horrors of the world . a different way of seeing things . ill take you back to a time when no bombs fell from the sky and no - one died  ever , says dylan to vera as they walk along the beach . elsewhere , caitlin recalls childhood with vera : were still innocent in dylan , she says . theres a time to leave your knickers at home or share a universal cigarette . ( not literally , perhaps . ) a time to be inspired . enjoy what is possibly the best british <b style='color:blue'>filmmaking</b> of the year ."
      ],
      "text/plain": [
       "<IPython.core.display.HTML object>"
      ]
     },
     "metadata": {},
     "output_type": "display_data"
    },
    {
     "name": "stdout",
     "output_type": "stream",
     "text": [
      "--------------------------------------------------\n",
      "#204   index = 20122\n",
      "ATTACK SUCCEEDED\n",
      "Original prediction: 0.069701\n"
     ]
    },
    {
     "data": {
      "text/html": [
       "a show i havent yet been able to catch up on . its a <b style='color:red'>shame</b> he will probably be most recognizable for the <b style='color:red'>overrated</b> my big fat greek wedding . if anything , the messengers gave me a nice introduction to the pang brothers work and reinvigorated my desire to check out their chinese horror catalog . the mood and performances were there ; it was just the simple and vacant <b style='color:red'>story</b> that needed way too much padding to make a feature film . if they delved more into other characters , rather than just stewarts , it could have been more effective while also having something more to show then ten minute scenes of nothing . if our protagonist is the only one being attacked , there is no suspense as to how far the creatures will go to harm her . the moments of <b style='color:red'>danger</b> had no gravity to them and until the ending really just stood in as filler . i am excited , however , for the free comic book given away after the <b style='color:red'>special</b> screening , as hopefully the medium will allow for a faster paced story that engrosses before it <b style='color:red'>tries</b> to surprise ."
      ],
      "text/plain": [
       "<IPython.core.display.HTML object>"
      ]
     },
     "metadata": {},
     "output_type": "display_data"
    },
    {
     "name": "stdout",
     "output_type": "stream",
     "text": [
      "\n",
      "New prediction: 0.514995\n"
     ]
    },
    {
     "data": {
      "text/html": [
       "a show i havent yet been able to catch up on . its a <b style='color:blue'>pity</b> he will probably be most recognizable for the <b style='color:blue'>overestimated</b> my big fat greek wedding . if anything , the messengers gave me a nice introduction to the pang brothers work and reinvigorated my desire to check out their chinese horror catalog . the mood and performances were there ; it was just the simple and vacant <b style='color:blue'>tale</b> that needed way too much padding to make a feature film . if they delved more into other characters , rather than just stewarts , it could have been more effective while also having something more to show then ten minute scenes of nothing . if our protagonist is the only one being attacked , there is no suspense as to how far the creatures will go to harm her . the moments of <b style='color:blue'>endangerment</b> had no gravity to them and until the ending really just stood in as filler . i am excited , however , for the free comic book given away after the <b style='color:blue'>exceptional</b> screening , as hopefully the medium will allow for a faster paced story that engrosses before it <b style='color:blue'>endeavours</b> to surprise ."
      ],
      "text/plain": [
       "<IPython.core.display.HTML object>"
      ]
     },
     "metadata": {},
     "output_type": "display_data"
    },
    {
     "name": "stdout",
     "output_type": "stream",
     "text": [
      "--------------------------------------------------\n",
      "#205   index = 16940\n",
      "ATTACK SUCCEEDED\n",
      "Original prediction: 0.021879\n"
     ]
    },
    {
     "data": {
      "text/html": [
       "oops . i hired this because i thought it was bitter harvest ( 1981 ) , which was recommended . after the appearance of the appalling patsy kensit , i checked the recommendation and discovered my <b style='color:red'>mistake</b> . ok , its watchable , because the main characters are very sexy , but the acting is <b style='color:red'>awful</b> . stephen baldwin looks morose the whole time , which is <b style='color:red'>understandable</b> , considering his co - star . is patsy competing with liz hurley for the title of the most obviously <b style='color:red'>useless</b> actor on the screen ?"
      ],
      "text/plain": [
       "<IPython.core.display.HTML object>"
      ]
     },
     "metadata": {},
     "output_type": "display_data"
    },
    {
     "name": "stdout",
     "output_type": "stream",
     "text": [
      "\n",
      "New prediction: 0.546494\n"
     ]
    },
    {
     "data": {
      "text/html": [
       "oops . i hired this because i thought it was bitter harvest ( 1981 ) , which was recommended . after the appearance of the appalling patsy kensit , i checked the recommendation and discovered my <b style='color:blue'>mistaken</b> . ok , its watchable , because the main characters are very sexy , but the acting is <b style='color:blue'>harrowing</b> . stephen baldwin looks morose the whole time , which is <b style='color:blue'>intelligible</b> , considering his co - star . is patsy competing with liz hurley for the title of the most obviously <b style='color:blue'>vain</b> actor on the screen ?"
      ],
      "text/plain": [
       "<IPython.core.display.HTML object>"
      ]
     },
     "metadata": {},
     "output_type": "display_data"
    },
    {
     "name": "stdout",
     "output_type": "stream",
     "text": [
      "--------------------------------------------------\n",
      "#206   index = 21301\n",
      "ATTACK FAILED\n",
      "--------------------------------------------------\n",
      "#207   index = 18110\n",
      "ATTACK FAILED\n",
      "--------------------------------------------------\n",
      "#208   index = 14856\n",
      "ATTACK FAILED\n",
      "--------------------------------------------------\n",
      "#209   index = 6355\n",
      "ATTACK FAILED\n",
      "--------------------------------------------------\n",
      "#210   index = 11883\n",
      "ATTACK FAILED\n",
      "--------------------------------------------------\n",
      "#211   index = 8771\n",
      "ATTACK SUCCEEDED\n",
      "Original prediction: 0.955251\n"
     ]
    },
    {
     "data": {
      "text/html": [
       "i thought this movie was <b style='color:red'>highly</b> <b style='color:red'>underrated</b> . the subject matter does seem like it would be a little strange , and i was put off at first , but once i was watching the movie , it didnt seem strange at all . i was intrigued with all the different possibilities that the story had to offer , and i couldnt wait to find out how it would end . once it did end . . . . i thought about it for a long time after . i was pleased with everything about k - pax , from the acting and the story and the scientific elements and psychological issues , to the ending . its not an especially upbeat or happy film , though it does make you chuckle from time to time , but i found it to be especially entertaining and thought - <b style='color:red'>provoking</b> . i own it now , and intend to watch it many times ."
      ],
      "text/plain": [
       "<IPython.core.display.HTML object>"
      ]
     },
     "metadata": {},
     "output_type": "display_data"
    },
    {
     "name": "stdout",
     "output_type": "stream",
     "text": [
      "\n",
      "New prediction: 0.366365\n"
     ]
    },
    {
     "data": {
      "text/html": [
       "i thought this movie was <b style='color:blue'>terribly</b> <b style='color:blue'>undervalued</b> . the subject matter does seem like it would be a little strange , and i was put off at first , but once i was watching the movie , it didnt seem strange at all . i was intrigued with all the different possibilities that the story had to offer , and i couldnt wait to find out how it would end . once it did end . . . . i thought about it for a long time after . i was pleased with everything about k - pax , from the acting and the story and the scientific elements and psychological issues , to the ending . its not an especially upbeat or happy film , though it does make you chuckle from time to time , but i found it to be especially entertaining and thought - <b style='color:blue'>causing</b> . i own it now , and intend to watch it many times ."
      ],
      "text/plain": [
       "<IPython.core.display.HTML object>"
      ]
     },
     "metadata": {},
     "output_type": "display_data"
    },
    {
     "name": "stdout",
     "output_type": "stream",
     "text": [
      "--------------------------------------------------\n",
      "#212   index = 831\n",
      "ATTACK FAILED\n",
      "--------------------------------------------------\n",
      "#213   index = 19070\n",
      "ATTACK SUCCEEDED\n",
      "Original prediction: 0.004602\n"
     ]
    },
    {
     "data": {
      "text/html": [
       "a heist film with jean reno , matt damon and laurence fishburne . . . sounds great on paper ? i suspect it must have done when someone green lighted the production of this movie but the end product is <b style='color:red'>terrible</b> ! the story is dull , the action boring , and , for a film that is only 88 minutes it seems to just drag on . i could feel my life slipping away and was sure there was something better i should have been doing . . . any paint to watch dry somewhere perhaps ? sigh . im a <b style='color:red'>huge</b> fan of jean reno , but what on earth was he thinking when he signed up to this ? there are so <b style='color:red'>many</b> other <b style='color:red'>great</b> action movies around . . . go watch one of those and let this movie be <b style='color:red'>best</b> forgotten ."
      ],
      "text/plain": [
       "<IPython.core.display.HTML object>"
      ]
     },
     "metadata": {},
     "output_type": "display_data"
    },
    {
     "name": "stdout",
     "output_type": "stream",
     "text": [
      "\n",
      "New prediction: 0.576916\n"
     ]
    },
    {
     "data": {
      "text/html": [
       "a heist film with jean reno , matt damon and laurence fishburne . . . sounds great on paper ? i suspect it must have done when someone green lighted the production of this movie but the end product is <b style='color:blue'>harrowing</b> ! the story is dull , the action boring , and , for a film that is only 88 minutes it seems to just drag on . i could feel my life slipping away and was sure there was something better i should have been doing . . . any paint to watch dry somewhere perhaps ? sigh . im a <b style='color:blue'>phenomenal</b> fan of jean reno , but what on earth was he thinking when he signed up to this ? there are so <b style='color:blue'>various</b> other <b style='color:blue'>superb</b> action movies around . . . go watch one of those and let this movie be <b style='color:blue'>finest</b> forgotten ."
      ],
      "text/plain": [
       "<IPython.core.display.HTML object>"
      ]
     },
     "metadata": {},
     "output_type": "display_data"
    },
    {
     "name": "stdout",
     "output_type": "stream",
     "text": [
      "--------------------------------------------------\n",
      "#214   index = 15531\n",
      "ATTACK SUCCEEDED\n",
      "Original prediction: 0.009137\n"
     ]
    },
    {
     "data": {
      "text/html": [
       "but its not . the plot isnt all that bad , the actors arent all <b style='color:red'>terrible</b> so it should be decent . instead though despite a <b style='color:red'>good</b> starting point the plot just drags on and suffers from a lot of those i cant believe he / she is so <b style='color:red'>dumb</b> moments so often used in horror movies to keep things going . it <b style='color:red'>frustrated</b> me at times watching some of the decision made by the lead character . also it took way too <b style='color:red'>long</b> to get to the good part of the movie . anticipation is <b style='color:red'>great</b> but you cant spend over half the movie building it up . a <b style='color:red'>shame</b> too since it got <b style='color:red'>decent</b> exposure upon release and hit right before the big halloween season . even so i have a feeling this is going to get at least one sequel , if not more so maybe theyll be able to build on the strong general plot to <b style='color:red'>eventually</b> release something <b style='color:red'>decent</b> ."
      ],
      "text/plain": [
       "<IPython.core.display.HTML object>"
      ]
     },
     "metadata": {},
     "output_type": "display_data"
    },
    {
     "name": "stdout",
     "output_type": "stream",
     "text": [
      "\n",
      "New prediction: 0.519164\n"
     ]
    },
    {
     "data": {
      "text/html": [
       "but its not . the plot isnt all that bad , the actors arent all <b style='color:blue'>grisly</b> so it should be decent . instead though despite a <b style='color:blue'>decent</b> starting point the plot just drags on and suffers from a lot of those i cant believe he / she is so <b style='color:blue'>senseless</b> moments so often used in horror movies to keep things going . it <b style='color:blue'>disappointed</b> me at times watching some of the decision made by the lead character . also it took way too <b style='color:blue'>lengthy</b> to get to the good part of the movie . anticipation is <b style='color:blue'>superb</b> but you cant spend over half the movie building it up . a <b style='color:blue'>pity</b> too since it got <b style='color:blue'>dignified</b> exposure upon release and hit right before the big halloween season . even so i have a feeling this is going to get at least one sequel , if not more so maybe theyll be able to build on the strong general plot to <b style='color:blue'>finally</b> release something <b style='color:blue'>good</b> ."
      ],
      "text/plain": [
       "<IPython.core.display.HTML object>"
      ]
     },
     "metadata": {},
     "output_type": "display_data"
    },
    {
     "name": "stdout",
     "output_type": "stream",
     "text": [
      "--------------------------------------------------\n",
      "#215   index = 5507\n",
      "ATTACK SUCCEEDED\n",
      "Original prediction: 0.953885\n"
     ]
    },
    {
     "data": {
      "text/html": [
       "perhaps the best movie ever made by director kevin tenney ( well , his witchboard is not on the top of my all - time horror list ) , this one is a strange , fascinating mixture between pin and childs play , both better than this one , but not so better . sure , the plot is contrived and perhaps too predictable , but the actors are <b style='color:red'>good</b> , rosalind allen is very pleasant to the eye ( and so is candance mckenzie - god bless her for the shower scene ! ) , the child actress is very <b style='color:red'>good</b> in interpreting the disturbed daughter and the pinocchio puppet is scary enough to give you a few thrills down the spine . for a b - movie not bad at all ."
      ],
      "text/plain": [
       "<IPython.core.display.HTML object>"
      ]
     },
     "metadata": {},
     "output_type": "display_data"
    },
    {
     "name": "stdout",
     "output_type": "stream",
     "text": [
      "\n",
      "New prediction: 0.455713\n"
     ]
    },
    {
     "data": {
      "text/html": [
       "perhaps the best movie ever made by director kevin tenney ( well , his witchboard is not on the top of my all - time horror list ) , this one is a strange , fascinating mixture between pin and childs play , both better than this one , but not so better . sure , the plot is contrived and perhaps too predictable , but the actors are <b style='color:blue'>allright</b> , rosalind allen is very pleasant to the eye ( and so is candance mckenzie - god bless her for the shower scene ! ) , the child actress is very <b style='color:blue'>allright</b> in interpreting the disturbed daughter and the pinocchio puppet is scary enough to give you a few thrills down the spine . for a b - movie not bad at all ."
      ],
      "text/plain": [
       "<IPython.core.display.HTML object>"
      ]
     },
     "metadata": {},
     "output_type": "display_data"
    },
    {
     "name": "stdout",
     "output_type": "stream",
     "text": [
      "--------------------------------------------------\n",
      "#216   index = 2751\n",
      "ATTACK FAILED\n",
      "--------------------------------------------------\n",
      "#217   index = 1133\n",
      "ATTACK SUCCEEDED\n",
      "Original prediction: 0.996285\n"
     ]
    },
    {
     "data": {
      "text/html": [
       ", but its so ephemeral that even they arent aware of how its informing their opinions of themselves , their self - consciousness , their perceived status , or the fate of their relationships . the title is appropriate because you get a full spectrum of blacks , whites , and grays . . . and not just in the skin pigmentation of the characters . leila goldoni ( truly <b style='color:red'>remarkable</b> here ) is an afro - american / caucasian , her two brothers are white and dark afro - american . the irony is that they exist in what is <b style='color:red'>undoubtedly</b> the hippest most tolerant atmosphere of the time . . . beat - driven upper east - west manhatten . . . and there are still conflicts within and around themselves . i dont think ive ever seen a movie with such a subtle delivery or technique . its a <b style='color:red'>lot</b> like absorbing a really <b style='color:red'>great</b> piece of gallery art and then just nodding off in bliss as you think back to the images it evoked days later . <b style='color:red'>great</b> mastering and extras on the criterion disc . arguably the first <b style='color:red'>truly</b> experimental <b style='color:red'>independent</b> film ever made ."
      ],
      "text/plain": [
       "<IPython.core.display.HTML object>"
      ]
     },
     "metadata": {},
     "output_type": "display_data"
    },
    {
     "name": "stdout",
     "output_type": "stream",
     "text": [
      "\n",
      "New prediction: 0.462884\n"
     ]
    },
    {
     "data": {
      "text/html": [
       ", but its so ephemeral that even they arent aware of how its informing their opinions of themselves , their self - consciousness , their perceived status , or the fate of their relationships . the title is appropriate because you get a full spectrum of blacks , whites , and grays . . . and not just in the skin pigmentation of the characters . leila goldoni ( truly <b style='color:blue'>staggering</b> here ) is an afro - american / caucasian , her two brothers are white and dark afro - american . the irony is that they exist in what is <b style='color:blue'>assuredly</b> the hippest most tolerant atmosphere of the time . . . beat - driven upper east - west manhatten . . . and there are still conflicts within and around themselves . i dont think ive ever seen a movie with such a subtle delivery or technique . its a <b style='color:blue'>batch</b> like absorbing a really <b style='color:blue'>grandiose</b> piece of gallery art and then just nodding off in bliss as you think back to the images it evoked days later . <b style='color:blue'>fanciful</b> mastering and extras on the criterion disc . arguably the first <b style='color:blue'>truthfully</b> experimental <b style='color:blue'>independant</b> film ever made ."
      ],
      "text/plain": [
       "<IPython.core.display.HTML object>"
      ]
     },
     "metadata": {},
     "output_type": "display_data"
    },
    {
     "name": "stdout",
     "output_type": "stream",
     "text": [
      "--------------------------------------------------\n",
      "#218   index = 15725\n",
      "ATTACK SUCCEEDED\n",
      "Original prediction: 0.001591\n"
     ]
    },
    {
     "data": {
      "text/html": [
       "what can you expect from a direct to dvd film ? you know what you are getting yourself into when you rent this . the quality of the cinematography reminds me of reality tv shows . why are they shots always up so close to the actors ! ? and why are they always centered ? there isnt anything to look at . ( and the actors are that <b style='color:red'>great</b> looking , so that blows . ) the writing and dialogue is just plain <b style='color:red'>awful</b> . that intro scene , with the british guy is hilarious . just try and listen this words , they hardly make any sense , just goes around in circles . the lines in the rest of the movie sounds like they were pull out of romance and sci - fi novels , as if the writers had no idea what they were doing . the characters definitely sound like they have no idea what theyre saying . this is a <b style='color:red'>terrible</b> movie . i feel <b style='color:red'>bad</b> for the actors tied to this project . embarrassing !"
      ],
      "text/plain": [
       "<IPython.core.display.HTML object>"
      ]
     },
     "metadata": {},
     "output_type": "display_data"
    },
    {
     "name": "stdout",
     "output_type": "stream",
     "text": [
      "\n",
      "New prediction: 0.564277\n"
     ]
    },
    {
     "data": {
      "text/html": [
       "what can you expect from a direct to dvd film ? you know what you are getting yourself into when you rent this . the quality of the cinematography reminds me of reality tv shows . why are they shots always up so close to the actors ! ? and why are they always centered ? there isnt anything to look at . ( and the actors are that <b style='color:blue'>fantastic</b> looking , so that blows . ) the writing and dialogue is just plain <b style='color:blue'>terrifying</b> . that intro scene , with the british guy is hilarious . just try and listen this words , they hardly make any sense , just goes around in circles . the lines in the rest of the movie sounds like they were pull out of romance and sci - fi novels , as if the writers had no idea what they were doing . the characters definitely sound like they have no idea what theyre saying . this is a <b style='color:blue'>harrowing</b> movie . i feel <b style='color:blue'>wicked</b> for the actors tied to this project . embarrassing !"
      ],
      "text/plain": [
       "<IPython.core.display.HTML object>"
      ]
     },
     "metadata": {},
     "output_type": "display_data"
    },
    {
     "name": "stdout",
     "output_type": "stream",
     "text": [
      "--------------------------------------------------\n",
      "#219   index = 6169\n",
      "ATTACK SUCCEEDED\n",
      "Original prediction: 0.933905\n"
     ]
    },
    {
     "data": {
      "text/html": [
       "simon west directs this thrilling and chilling remake of the 1979 original . this version is more of a thriller than a horror flick . emotionally tense with an <b style='color:red'>escalating</b> fear factor . jill johnson ( camilla belle ) needs to work off an excessive cell phone bill ; she takes on the task of babysitting the two children of dr . and mrs . mandrakis ( derek de lint and kate jennings grant ) . the house is a <b style='color:red'>beautiful</b> 1970ish wood and glass masterpiece . secluded and peaceful . the kids are already in bed , the wind builds and is joined by down - pouring rain . the phone begins ringing , ringing , ringing . the babysitter is soon in a frantic mode of survival in fear of the creepy stranger on the other end of the phone . belle is <b style='color:red'>great</b> as the <b style='color:red'>innocent</b> , smart and strong teen babysitter . the voice of the stranger on the phone is that of lance henriksen , while the physical stranger is played by tommy flanagan . also featured are : katie cassidy and brian geraghty . kudos to james dooley for the atmospheric original music ."
      ],
      "text/plain": [
       "<IPython.core.display.HTML object>"
      ]
     },
     "metadata": {},
     "output_type": "display_data"
    },
    {
     "name": "stdout",
     "output_type": "stream",
     "text": [
      "\n",
      "New prediction: 0.438613\n"
     ]
    },
    {
     "data": {
      "text/html": [
       "simon west directs this thrilling and chilling remake of the 1979 original . this version is more of a thriller than a horror flick . emotionally tense with an <b style='color:blue'>spiralling</b> fear factor . jill johnson ( camilla belle ) needs to work off an excessive cell phone bill ; she takes on the task of babysitting the two children of dr . and mrs . mandrakis ( derek de lint and kate jennings grant ) . the house is a <b style='color:blue'>grandiose</b> 1970ish wood and glass masterpiece . secluded and peaceful . the kids are already in bed , the wind builds and is joined by down - pouring rain . the phone begins ringing , ringing , ringing . the babysitter is soon in a frantic mode of survival in fear of the creepy stranger on the other end of the phone . belle is <b style='color:blue'>fanciful</b> as the <b style='color:blue'>blameless</b> , smart and strong teen babysitter . the voice of the stranger on the phone is that of lance henriksen , while the physical stranger is played by tommy flanagan . also featured are : katie cassidy and brian geraghty . kudos to james dooley for the atmospheric original music ."
      ],
      "text/plain": [
       "<IPython.core.display.HTML object>"
      ]
     },
     "metadata": {},
     "output_type": "display_data"
    },
    {
     "name": "stdout",
     "output_type": "stream",
     "text": [
      "--------------------------------------------------\n",
      "#220   index = 15176\n",
      "ATTACK FAILED\n",
      "--------------------------------------------------\n",
      "#221   index = 10075\n",
      "ATTACK SUCCEEDED\n",
      "Original prediction: 0.970773\n"
     ]
    },
    {
     "data": {
      "text/html": [
       ") which , ironically , in view of its outdated and occasionally embarrassing conservative views , makes full use of the permissiveness that prevailed for a while in mainstream cinema and which came about as a direct result of the liberal attitude it purports to criticize ! norman wexlers incisive oscar - nominated script is <b style='color:red'>superbly</b> enacted by peter boyle ( in a powerhouse performance ) who manages to make his garrulous , down - to - earth yet hypocritical and opportunistic character ( with a barely - disguised fascist streak which comes to the fore in the <b style='color:red'>remarkable</b> violent conclusion ) likable , even <b style='color:red'>admirable</b> ; indeed , he comes across <b style='color:red'>uncannily</b> like a flabbier version of the young marlon brando ! similar to other generation gap movies of its era like taking off ( 1971 ) and hardcore ( 1978 ) but also nihilistic vigilante films like death wish ( 1974 ) and taxi driver ( 1976 ) - interestingly enough , two of these also feature boyle - joe ultimately emerges as an engrossing and <b style='color:red'>powerful</b> drama which could have been a masterpiece if it had had a more experienced director at the helm . . ."
      ],
      "text/plain": [
       "<IPython.core.display.HTML object>"
      ]
     },
     "metadata": {},
     "output_type": "display_data"
    },
    {
     "name": "stdout",
     "output_type": "stream",
     "text": [
      "\n",
      "New prediction: 0.445486\n"
     ]
    },
    {
     "data": {
      "text/html": [
       ") which , ironically , in view of its outdated and occasionally embarrassing conservative views , makes full use of the permissiveness that prevailed for a while in mainstream cinema and which came about as a direct result of the liberal attitude it purports to criticize ! norman wexlers incisive oscar - nominated script is <b style='color:blue'>marvellously</b> enacted by peter boyle ( in a powerhouse performance ) who manages to make his garrulous , down - to - earth yet hypocritical and opportunistic character ( with a barely - disguised fascist streak which comes to the fore in the <b style='color:blue'>staggering</b> violent conclusion ) likable , even <b style='color:blue'>creditable</b> ; indeed , he comes across <b style='color:blue'>eerily</b> like a flabbier version of the young marlon brando ! similar to other generation gap movies of its era like taking off ( 1971 ) and hardcore ( 1978 ) but also nihilistic vigilante films like death wish ( 1974 ) and taxi driver ( 1976 ) - interestingly enough , two of these also feature boyle - joe ultimately emerges as an engrossing and <b style='color:blue'>mighty</b> drama which could have been a masterpiece if it had had a more experienced director at the helm . . ."
      ],
      "text/plain": [
       "<IPython.core.display.HTML object>"
      ]
     },
     "metadata": {},
     "output_type": "display_data"
    },
    {
     "name": "stdout",
     "output_type": "stream",
     "text": [
      "--------------------------------------------------\n",
      "#222   index = 14661\n",
      "ATTACK SUCCEEDED\n",
      "Original prediction: 0.025398\n"
     ]
    },
    {
     "data": {
      "text/html": [
       "and horrific , unintentionally hilarious action sequences and puppet - monsters . the film is about a victorian scientist who takes a stereotypical buff american hero on a ground - boring trip in the welsh countryside . little do they know that a great evil lurks at the center of the earths core . . . . forget the fact that the title doesnt make sense . ( if they were really at the earths core , theyd be about 2700 kg / m3 underground and burning alive in a sea of iron or whatever it is down there . ) forget that the puppets used in the production rival the beast master for being the fakest - looking of all - time . no , the real genius of at the earths core is its naive stupidity - - a gung - ho action spectacle without real action and without real spectacle . it is in essence just a gung - ho movie and a stupid one at that . people who enjoy mst3k - style stuff will love this - - its <b style='color:red'>appallingly</b> bad , and indeed so <b style='color:red'>bad</b> it is <b style='color:red'>almost</b> enjoyable in a strange way ."
      ],
      "text/plain": [
       "<IPython.core.display.HTML object>"
      ]
     },
     "metadata": {},
     "output_type": "display_data"
    },
    {
     "name": "stdout",
     "output_type": "stream",
     "text": [
      "\n",
      "New prediction: 0.601379\n"
     ]
    },
    {
     "data": {
      "text/html": [
       "and horrific , unintentionally hilarious action sequences and puppet - monsters . the film is about a victorian scientist who takes a stereotypical buff american hero on a ground - boring trip in the welsh countryside . little do they know that a great evil lurks at the center of the earths core . . . . forget the fact that the title doesnt make sense . ( if they were really at the earths core , theyd be about 2700 kg / m3 underground and burning alive in a sea of iron or whatever it is down there . ) forget that the puppets used in the production rival the beast master for being the fakest - looking of all - time . no , the real genius of at the earths core is its naive stupidity - - a gung - ho action spectacle without real action and without real spectacle . it is in essence just a gung - ho movie and a stupid one at that . people who enjoy mst3k - style stuff will love this - - its <b style='color:blue'>disturbingly</b> bad , and indeed so <b style='color:blue'>shitty</b> it is <b style='color:blue'>approximately</b> enjoyable in a strange way ."
      ],
      "text/plain": [
       "<IPython.core.display.HTML object>"
      ]
     },
     "metadata": {},
     "output_type": "display_data"
    },
    {
     "name": "stdout",
     "output_type": "stream",
     "text": [
      "--------------------------------------------------\n",
      "#223   index = 2463\n",
      "ATTACK FAILED\n",
      "--------------------------------------------------\n",
      "#224   index = 16414\n",
      "ATTACK FAILED\n",
      "--------------------------------------------------\n",
      "#225   index = 8337\n",
      "ATTACK SUCCEEDED\n",
      "Original prediction: 0.986984\n"
     ]
    },
    {
     "data": {
      "text/html": [
       "so he decides to follow random people on the street . he finds one , cobb ( alex haw ) , that particularly interests him . soon , bill becomes friends with cobb and goes with him as he breaks into houses and robs them . then , a saucy young blond ( lucy russell ) enters , and the movie becomes even weirder from there . the <b style='color:red'>ending</b> of following is one of the most <b style='color:red'>shocking</b> endings ive seen . sure , fight club had an <b style='color:red'>amazing</b> ending , but the way that followings ending played out was <b style='color:red'>amazing</b> . i felt like someone had smacked me on the head and given me a concussion . nolan has a thing for making good endings ( well , maybe not , i could guess insomnias from a mile away ) , and can really construct a <b style='color:red'>great</b> story . following may not be the easiest to follow or look at , but its such a finely crafted , original story with a shocker ending that youll probably want to watch all of its 70 minutes again . my rating : 7 / 10rated r for language and some violence ."
      ],
      "text/plain": [
       "<IPython.core.display.HTML object>"
      ]
     },
     "metadata": {},
     "output_type": "display_data"
    },
    {
     "name": "stdout",
     "output_type": "stream",
     "text": [
      "\n",
      "New prediction: 0.450884\n"
     ]
    },
    {
     "data": {
      "text/html": [
       "so he decides to follow random people on the street . he finds one , cobb ( alex haw ) , that particularly interests him . soon , bill becomes friends with cobb and goes with him as he breaks into houses and robs them . then , a saucy young blond ( lucy russell ) enters , and the movie becomes even weirder from there . the <b style='color:blue'>terminating</b> of following is one of the most <b style='color:blue'>dreadful</b> endings ive seen . sure , fight club had an <b style='color:blue'>staggering</b> ending , but the way that followings ending played out was <b style='color:blue'>staggering</b> . i felt like someone had smacked me on the head and given me a concussion . nolan has a thing for making good endings ( well , maybe not , i could guess insomnias from a mile away ) , and can really construct a <b style='color:blue'>grandiose</b> story . following may not be the easiest to follow or look at , but its such a finely crafted , original story with a shocker ending that youll probably want to watch all of its 70 minutes again . my rating : 7 / 10rated r for language and some violence ."
      ],
      "text/plain": [
       "<IPython.core.display.HTML object>"
      ]
     },
     "metadata": {},
     "output_type": "display_data"
    },
    {
     "name": "stdout",
     "output_type": "stream",
     "text": [
      "--------------------------------------------------\n",
      "#226   index = 9192\n",
      "ATTACK SUCCEEDED\n",
      "Original prediction: 0.954247\n"
     ]
    },
    {
     "data": {
      "text/html": [
       "this was one of the most <b style='color:red'>emotional</b> movies i have seen . passion , <b style='color:red'>pleasure</b> , pain , <b style='color:red'>despair</b> , sorrow , healing , <b style='color:red'>cleansing</b> and love . the entire <b style='color:red'>movie</b> was spellbinding . everything was <b style='color:red'>done</b> so <b style='color:red'>well</b> ; the adaptation from the book , the actors , the sets , the camera shots . this movie touched me <b style='color:red'>deeply</b> in so many ways . it reminded me of the <b style='color:red'>despair</b> that loosing your love can have , and the time it takes to heal that <b style='color:red'>wound</b> . you may love again , but will always be risking the pain that comes with separation . is this not one of the most <b style='color:red'>important</b> age - old questions ? is it better to have love and lost ? than to never have loved before ? - ascension"
      ],
      "text/plain": [
       "<IPython.core.display.HTML object>"
      ]
     },
     "metadata": {},
     "output_type": "display_data"
    },
    {
     "name": "stdout",
     "output_type": "stream",
     "text": [
      "\n",
      "New prediction: 0.470875\n"
     ]
    },
    {
     "data": {
      "text/html": [
       "this was one of the most <b style='color:blue'>sentimental</b> movies i have seen . passion , <b style='color:blue'>glee</b> , pain , <b style='color:blue'>desperation</b> , sorrow , healing , <b style='color:blue'>cleanup</b> and love . the entire <b style='color:blue'>filmmaking</b> was spellbinding . everything was <b style='color:blue'>finished</b> so <b style='color:blue'>allright</b> ; the adaptation from the book , the actors , the sets , the camera shots . this movie touched me <b style='color:blue'>seriously</b> in so many ways . it reminded me of the <b style='color:blue'>desperation</b> that loosing your love can have , and the time it takes to heal that <b style='color:blue'>injury</b> . you may love again , but will always be risking the pain that comes with separation . is this not one of the most <b style='color:blue'>imperative</b> age - old questions ? is it better to have love and lost ? than to never have loved before ? - ascension"
      ],
      "text/plain": [
       "<IPython.core.display.HTML object>"
      ]
     },
     "metadata": {},
     "output_type": "display_data"
    },
    {
     "name": "stdout",
     "output_type": "stream",
     "text": [
      "--------------------------------------------------\n",
      "#227   index = 8310\n",
      "ATTACK SUCCEEDED\n",
      "Original prediction: 0.996254\n"
     ]
    },
    {
     "data": {
      "text/html": [
       "i thought this was a very <b style='color:red'>good</b> movie . someone said it was sick so they couldnt watch it . i think if you realize its rated r then you will be prepared for the nudity and drug use . it is a good story and the acting is <b style='color:red'>amazing</b> . just cant be a prude to appreciate it ! its basically about a mom who does drugs and wants to get clean so she calls a very wealthy old friend and he moves them to his estate and crazy things happen . i guess it is a drama . i am just so sick of people who dont like movies because of cursing or nudity . that is the world we live in . you obviously arent comfortable with yourself if you cant see things like this movie . and its rated r . so , that should tell you from the beginning that its not all peachy happy rainbows . i liked it . i think you will too !"
      ],
      "text/plain": [
       "<IPython.core.display.HTML object>"
      ]
     },
     "metadata": {},
     "output_type": "display_data"
    },
    {
     "name": "stdout",
     "output_type": "stream",
     "text": [
      "\n",
      "New prediction: 0.472398\n"
     ]
    },
    {
     "data": {
      "text/html": [
       "i thought this was a very <b style='color:blue'>allright</b> movie . someone said it was sick so they couldnt watch it . i think if you realize its rated r then you will be prepared for the nudity and drug use . it is a good story and the acting is <b style='color:blue'>staggering</b> . just cant be a prude to appreciate it ! its basically about a mom who does drugs and wants to get clean so she calls a very wealthy old friend and he moves them to his estate and crazy things happen . i guess it is a drama . i am just so sick of people who dont like movies because of cursing or nudity . that is the world we live in . you obviously arent comfortable with yourself if you cant see things like this movie . and its rated r . so , that should tell you from the beginning that its not all peachy happy rainbows . i liked it . i think you will too !"
      ],
      "text/plain": [
       "<IPython.core.display.HTML object>"
      ]
     },
     "metadata": {},
     "output_type": "display_data"
    },
    {
     "name": "stdout",
     "output_type": "stream",
     "text": [
      "--------------------------------------------------\n",
      "#228   index = 9394\n",
      "ATTACK SUCCEEDED\n",
      "Original prediction: 0.935307\n"
     ]
    },
    {
     "data": {
      "text/html": [
       "ties itself to the female lead . isabelle huppert amazes with a brutal , completely convincing performance as the piano teacher . she cleverly shows a woman who is drawn to beauty and perversion , but her violence is fed by her perverted impulses . as a film that is so character driven , you know it would not work half as well , had she acted poorly . this is powerful , intelligently acted , and intelligently and sensitively adapted from the novel . the camera work also suits the film . there are what i can only think to call , framing shots where the director holds a scene and forces the eye to dart about . this is <b style='color:red'>done</b> <b style='color:red'>extremely</b> effectively against a blank bathroom wall , and is a further testament to the directors mastery . expect to be disturbed and sickened by this film . but , be brave - have the guts to go and see it . this is a very private look into essentially one persons life , but do not expect to be entertained in the hollywood sense . . . . there are no car chases in this film !"
      ],
      "text/plain": [
       "<IPython.core.display.HTML object>"
      ]
     },
     "metadata": {},
     "output_type": "display_data"
    },
    {
     "name": "stdout",
     "output_type": "stream",
     "text": [
      "\n",
      "New prediction: 0.436848\n"
     ]
    },
    {
     "data": {
      "text/html": [
       "ties itself to the female lead . isabelle huppert amazes with a brutal , completely convincing performance as the piano teacher . she cleverly shows a woman who is drawn to beauty and perversion , but her violence is fed by her perverted impulses . as a film that is so character driven , you know it would not work half as well , had she acted poorly . this is powerful , intelligently acted , and intelligently and sensitively adapted from the novel . the camera work also suits the film . there are what i can only think to call , framing shots where the director holds a scene and forces the eye to dart about . this is <b style='color:blue'>finished</b> <b style='color:blue'>terribly</b> effectively against a blank bathroom wall , and is a further testament to the directors mastery . expect to be disturbed and sickened by this film . but , be brave - have the guts to go and see it . this is a very private look into essentially one persons life , but do not expect to be entertained in the hollywood sense . . . . there are no car chases in this film !"
      ],
      "text/plain": [
       "<IPython.core.display.HTML object>"
      ]
     },
     "metadata": {},
     "output_type": "display_data"
    },
    {
     "name": "stdout",
     "output_type": "stream",
     "text": [
      "--------------------------------------------------\n",
      "#229   index = 21639\n",
      "ATTACK FAILED\n",
      "--------------------------------------------------\n",
      "#230   index = 12182\n",
      "ATTACK SUCCEEDED\n",
      "Original prediction: 0.996086\n"
     ]
    },
    {
     "data": {
      "text/html": [
       "tourist trap is a <b style='color:red'>genuinely</b> spooky low - budget horror film that will <b style='color:red'>surely</b> satisfy horror fans . it <b style='color:red'>contains</b> <b style='color:red'>extremely</b> <b style='color:red'>strange</b> <b style='color:red'>atmosphere</b> and there are some quite <b style='color:red'>unnerving</b> moments of total dread and <b style='color:red'>fear</b> . some scenes are downright <b style='color:red'>bizarre</b> for example there is one scene when chuck connors sits down to have <b style='color:red'>dinner</b> with a mannequin that comes to life and starts conversing with him before its head falls off . there is very <b style='color:red'>little</b> gore , but the violence is quite strong for pg - rated horror film . the mannequins <b style='color:red'>look</b> very <b style='color:red'>sinister</b> and the climax is <b style='color:red'>horrifying</b> . david schmoeller returned to make <b style='color:red'>several</b> <b style='color:red'>other</b> genre <b style='color:red'>films</b> including crawlspace , puppet master and <b style='color:red'>netherworld</b> . still tourist trap is <b style='color:red'>definitely</b> his <b style='color:red'>best</b> horror <b style='color:red'>film</b> , so if you want to be scared give this little gem a look . 9 out of 10 ."
      ],
      "text/plain": [
       "<IPython.core.display.HTML object>"
      ]
     },
     "metadata": {},
     "output_type": "display_data"
    },
    {
     "name": "stdout",
     "output_type": "stream",
     "text": [
      "\n",
      "New prediction: 0.499917\n"
     ]
    },
    {
     "data": {
      "text/html": [
       "tourist trap is a <b style='color:blue'>truthfully</b> spooky low - budget horror film that will <b style='color:blue'>indubitably</b> satisfy horror fans . it <b style='color:blue'>comprises</b> <b style='color:blue'>excessively</b> <b style='color:blue'>outlandish</b> <b style='color:blue'>ambiance</b> and there are some quite <b style='color:blue'>bewildering</b> moments of total dread and <b style='color:blue'>fright</b> . some scenes are downright <b style='color:blue'>outlandish</b> for example there is one scene when chuck connors sits down to have <b style='color:blue'>lunch</b> with a mannequin that comes to life and starts conversing with him before its head falls off . there is very <b style='color:blue'>small</b> gore , but the violence is quite strong for pg - rated horror film . the mannequins <b style='color:blue'>gaze</b> very <b style='color:blue'>malicious</b> and the climax is <b style='color:blue'>appalling</b> . david schmoeller returned to make <b style='color:blue'>many</b> <b style='color:blue'>alternative</b> genre <b style='color:blue'>movies</b> including crawlspace , puppet master and <b style='color:blue'>underworld</b> . still tourist trap is <b style='color:blue'>definitively</b> his <b style='color:blue'>bestest</b> horror <b style='color:blue'>filmmaking</b> , so if you want to be scared give this little gem a look . 9 out of 10 ."
      ],
      "text/plain": [
       "<IPython.core.display.HTML object>"
      ]
     },
     "metadata": {},
     "output_type": "display_data"
    },
    {
     "name": "stdout",
     "output_type": "stream",
     "text": [
      "--------------------------------------------------\n",
      "#231   index = 10966\n",
      "ATTACK SUCCEEDED\n",
      "Original prediction: 0.999867\n"
     ]
    },
    {
     "data": {
      "text/html": [
       "she is also a villain we can feel sorry for because of the way she is victimised . christopher walken is a <b style='color:red'>great</b> secondary villain and is so interesting a character even though he is not even in the batman universe . the soundtrack is far better than the first and danny elfman gets more of a chance to show off his musical talents this time around . the sets are <b style='color:red'>amazing</b> . they are detailed , eye catching , sinister , gothic , unique , dark and so many other adjectives can describe how <b style='color:red'>amazing</b> they look . the costumes and make up are <b style='color:red'>great</b> and <b style='color:red'>obviously</b> a <b style='color:red'>lot</b> of work went into making them and all the work pays off because the batsuit is better , the cat suit is <b style='color:red'>amazing</b> to look at and the penguin make up and effects are so <b style='color:red'>convincing</b> . the animatronic penguins look really realistic and are played to good effect . the script is <b style='color:red'>really</b> <b style='color:red'>good</b> and the storyline in my <b style='color:red'>opinion</b> is a plausible one . overall , because of all these factors this <b style='color:red'>film</b> deserves an 8 / 10 and stands as my <b style='color:red'>favourite</b> of all the batman <b style='color:red'>films</b>"
      ],
      "text/plain": [
       "<IPython.core.display.HTML object>"
      ]
     },
     "metadata": {},
     "output_type": "display_data"
    },
    {
     "name": "stdout",
     "output_type": "stream",
     "text": [
      "\n",
      "New prediction: 0.483027\n"
     ]
    },
    {
     "data": {
      "text/html": [
       "she is also a villain we can feel sorry for because of the way she is victimised . christopher walken is a <b style='color:blue'>grandiose</b> secondary villain and is so interesting a character even though he is not even in the batman universe . the soundtrack is far better than the first and danny elfman gets more of a chance to show off his musical talents this time around . the sets are <b style='color:blue'>staggering</b> . they are detailed , eye catching , sinister , gothic , unique , dark and so many other adjectives can describe how <b style='color:blue'>staggering</b> they look . the costumes and make up are <b style='color:blue'>grandiose</b> and <b style='color:blue'>patently</b> a <b style='color:blue'>batch</b> of work went into making them and all the work pays off because the batsuit is better , the cat suit is <b style='color:blue'>staggering</b> to look at and the penguin make up and effects are so <b style='color:blue'>compel</b> . the animatronic penguins look really realistic and are played to good effect . the script is <b style='color:blue'>truthfully</b> <b style='color:blue'>allright</b> and the storyline in my <b style='color:blue'>vista</b> is a plausible one . overall , because of all these factors this <b style='color:blue'>movie</b> deserves an 8 / 10 and stands as my <b style='color:blue'>preferential</b> of all the batman <b style='color:blue'>movies</b>"
      ],
      "text/plain": [
       "<IPython.core.display.HTML object>"
      ]
     },
     "metadata": {},
     "output_type": "display_data"
    },
    {
     "name": "stdout",
     "output_type": "stream",
     "text": [
      "--------------------------------------------------\n",
      "#232   index = 22529\n",
      "ATTACK FAILED\n",
      "--------------------------------------------------\n",
      "#233   index = 888\n",
      "ATTACK SUCCEEDED\n",
      "Original prediction: 0.955341\n"
     ]
    },
    {
     "data": {
      "text/html": [
       "the past lives of his mother and father . what he reveals is a <b style='color:red'>fascinating</b> look into the lives of two rather ordinary people who like so many of their generation married early for the wrong reasons and found themselves stuck in a family life where they found they just had to make do . a wife who found herself at times bitterly lonely and unloved and a husband who buries himself in his work . she and intellectual at heart , he a much simpler individual who seems to find most of his pleasures in the quiet solitude of work . they are obviously <b style='color:red'>wrong</b> for each other , this much is clear . yet they stick it out , for what ? well thats part of the mystery , they <b style='color:red'>clearly</b> show affection for each other at times if not ever much love . you wont find any truly <b style='color:red'>shocking</b> disclosures here , aside from infidelity on both sides , which in good part is what makes this such a gem . you really feel that these could be your own parents if circumstances were different and indeed makes one question the lives of ones own parents ."
      ],
      "text/plain": [
       "<IPython.core.display.HTML object>"
      ]
     },
     "metadata": {},
     "output_type": "display_data"
    },
    {
     "name": "stdout",
     "output_type": "stream",
     "text": [
      "\n",
      "New prediction: 0.463192\n"
     ]
    },
    {
     "data": {
      "text/html": [
       "the past lives of his mother and father . what he reveals is a <b style='color:blue'>enthralling</b> look into the lives of two rather ordinary people who like so many of their generation married early for the wrong reasons and found themselves stuck in a family life where they found they just had to make do . a wife who found herself at times bitterly lonely and unloved and a husband who buries himself in his work . she and intellectual at heart , he a much simpler individual who seems to find most of his pleasures in the quiet solitude of work . they are obviously <b style='color:blue'>inaccurate</b> for each other , this much is clear . yet they stick it out , for what ? well thats part of the mystery , they <b style='color:blue'>patently</b> show affection for each other at times if not ever much love . you wont find any truly <b style='color:blue'>dreadful</b> disclosures here , aside from infidelity on both sides , which in good part is what makes this such a gem . you really feel that these could be your own parents if circumstances were different and indeed makes one question the lives of ones own parents ."
      ],
      "text/plain": [
       "<IPython.core.display.HTML object>"
      ]
     },
     "metadata": {},
     "output_type": "display_data"
    },
    {
     "name": "stdout",
     "output_type": "stream",
     "text": [
      "--------------------------------------------------\n",
      "#234   index = 3282\n",
      "ATTACK FAILED\n",
      "--------------------------------------------------\n",
      "#235   index = 13426\n",
      "ATTACK SUCCEEDED\n",
      "Original prediction: 0.029777\n"
     ]
    },
    {
     "data": {
      "text/html": [
       "just been shown . dont worry , a betrayal , a murder , a sex scene will be along within a minute or two . finally , oz is obviously <b style='color:red'>pretentious</b> . you dont have to feel embarrassed about being carried along by its flow . you can watch it and tell yourself that the producers , writers and actors are doing everything with a huge wink ( or same word but for a change of vowel ) to the audience . yes , you can be a nasty - minded viewer and <b style='color:red'>excuse</b> yourself on the grounds of the cleverness , post - modernistic , etc skills of the oz production team . they appeal to the lowest common denominator while pretending to operate on a higher plane . truly , a <b style='color:red'>despicable</b> series . and every hour it shows , rewarding its makers and actors , and generating advertising revenue for the channels that show it to people who have nothing better to do than watch something so ugly and unnecessary , another few hundred children die whose lives could have been saved by the dollars spent by this <b style='color:red'>horrible</b> , successful , widely - praised series ."
      ],
      "text/plain": [
       "<IPython.core.display.HTML object>"
      ]
     },
     "metadata": {},
     "output_type": "display_data"
    },
    {
     "name": "stdout",
     "output_type": "stream",
     "text": [
      "\n",
      "New prediction: 0.611297\n"
     ]
    },
    {
     "data": {
      "text/html": [
       "just been shown . dont worry , a betrayal , a murder , a sex scene will be along within a minute or two . finally , oz is obviously <b style='color:blue'>cocky</b> . you dont have to feel embarrassed about being carried along by its flow . you can watch it and tell yourself that the producers , writers and actors are doing everything with a huge wink ( or same word but for a change of vowel ) to the audience . yes , you can be a nasty - minded viewer and <b style='color:blue'>alibis</b> yourself on the grounds of the cleverness , post - modernistic , etc skills of the oz production team . they appeal to the lowest common denominator while pretending to operate on a higher plane . truly , a <b style='color:blue'>repulsive</b> series . and every hour it shows , rewarding its makers and actors , and generating advertising revenue for the channels that show it to people who have nothing better to do than watch something so ugly and unnecessary , another few hundred children die whose lives could have been saved by the dollars spent by this <b style='color:blue'>harrowing</b> , successful , widely - praised series ."
      ],
      "text/plain": [
       "<IPython.core.display.HTML object>"
      ]
     },
     "metadata": {},
     "output_type": "display_data"
    },
    {
     "name": "stdout",
     "output_type": "stream",
     "text": [
      "--------------------------------------------------\n",
      "#236   index = 17785\n",
      "ATTACK FAILED\n",
      "--------------------------------------------------\n",
      "#237   index = 21838\n",
      "ATTACK FAILED\n",
      "--------------------------------------------------\n",
      "#238   index = 18086\n",
      "ATTACK FAILED\n",
      "--------------------------------------------------\n",
      "#239   index = 10816\n",
      "ATTACK SUCCEEDED\n",
      "Original prediction: 0.994336\n"
     ]
    },
    {
     "data": {
      "text/html": [
       "<b style='color:red'>excellent</b> documentary that still manages to shock and enlighten . unfortunately , times havent changed much since this was made and it is thus an <b style='color:red'>important</b> <b style='color:red'>piece</b> for all freedom - conscious americans to see ."
      ],
      "text/plain": [
       "<IPython.core.display.HTML object>"
      ]
     },
     "metadata": {},
     "output_type": "display_data"
    },
    {
     "name": "stdout",
     "output_type": "stream",
     "text": [
      "\n",
      "New prediction: 0.401153\n"
     ]
    },
    {
     "data": {
      "text/html": [
       "<b style='color:blue'>grandiose</b> documentary that still manages to shock and enlighten . unfortunately , times havent changed much since this was made and it is thus an <b style='color:blue'>imperative</b> <b style='color:blue'>slice</b> for all freedom - conscious americans to see ."
      ],
      "text/plain": [
       "<IPython.core.display.HTML object>"
      ]
     },
     "metadata": {},
     "output_type": "display_data"
    },
    {
     "name": "stdout",
     "output_type": "stream",
     "text": [
      "--------------------------------------------------\n",
      "#240   index = 24053\n",
      "ATTACK SUCCEEDED\n",
      "Original prediction: 0.011306\n"
     ]
    },
    {
     "data": {
      "text/html": [
       "a <b style='color:red'>new</b> style of animation began to appear ( such as the crusader rabbit series on tv ) - - animation with <b style='color:red'>extremely</b> simplistic artwork in <b style='color:red'>order</b> to save money . unfortunately , columbia pictures cynical <b style='color:red'>ploy</b> worked ! ! instead of the public hating the toons ( as they should have ) , many accepted them and the <b style='color:red'>oscar</b> people ( ampas ) actually gave this film the award for <b style='color:red'>best</b> animated short - - giving legitimacy for an inferior <b style='color:red'>product</b> . unfortunately , in the dollars and sense world of hollywood , this <b style='color:red'>soon</b> began to creep into the products of legitimate studios - - resulting in rather <b style='color:red'>crappy</b> cartoons . later , it got even worse as in addition to <b style='color:red'>lousy</b> <b style='color:red'>animation</b> and backgrounds , the <b style='color:red'>stories</b> themselves became almost <b style='color:red'>unbearable</b> for adults to watch . the cleverness and style of the classic cartoons were gone . and for this tragedy , i blame , in part , gerald mcboing - boing - - one of the granddaddies of cheap cartoons . the <b style='color:red'>story</b> isnt that bad but the <b style='color:red'>animation</b> is a horror and listening to the kid saying boing - boing incessantly is a pain ."
      ],
      "text/plain": [
       "<IPython.core.display.HTML object>"
      ]
     },
     "metadata": {},
     "output_type": "display_data"
    },
    {
     "name": "stdout",
     "output_type": "stream",
     "text": [
      "\n",
      "New prediction: 0.507991\n"
     ]
    },
    {
     "data": {
      "text/html": [
       "a <b style='color:blue'>novel</b> style of animation began to appear ( such as the crusader rabbit series on tv ) - - animation with <b style='color:blue'>overly</b> simplistic artwork in <b style='color:blue'>edict</b> to save money . unfortunately , columbia pictures cynical <b style='color:blue'>trick</b> worked ! ! instead of the public hating the toons ( as they should have ) , many accepted them and the <b style='color:blue'>oskar</b> people ( ampas ) actually gave this film the award for <b style='color:blue'>finest</b> animated short - - giving legitimacy for an inferior <b style='color:blue'>merchandise</b> . unfortunately , in the dollars and sense world of hollywood , this <b style='color:blue'>shortly</b> began to creep into the products of legitimate studios - - resulting in rather <b style='color:blue'>shitty</b> cartoons . later , it got even worse as in addition to <b style='color:blue'>naughty</b> <b style='color:blue'>animate</b> and backgrounds , the <b style='color:blue'>tales</b> themselves became almost <b style='color:blue'>intolerable</b> for adults to watch . the cleverness and style of the classic cartoons were gone . and for this tragedy , i blame , in part , gerald mcboing - boing - - one of the granddaddies of cheap cartoons . the <b style='color:blue'>tale</b> isnt that bad but the <b style='color:blue'>animate</b> is a horror and listening to the kid saying boing - boing incessantly is a pain ."
      ],
      "text/plain": [
       "<IPython.core.display.HTML object>"
      ]
     },
     "metadata": {},
     "output_type": "display_data"
    },
    {
     "name": "stdout",
     "output_type": "stream",
     "text": [
      "--------------------------------------------------\n",
      "#241   index = 12144\n",
      "ATTACK FAILED\n",
      "--------------------------------------------------\n",
      "#242   index = 13411\n",
      "ATTACK FAILED\n",
      "--------------------------------------------------\n",
      "#243   index = 7135\n",
      "ATTACK SUCCEEDED\n",
      "Original prediction: 0.962877\n"
     ]
    },
    {
     "data": {
      "text/html": [
       "and gritty seriousness all at once . most of the time this sort of approach doesnt work in films ( just look at batman forever ) but i was was pleasantly surprised to see that in this case , they pulled it off . the end result is a <b style='color:red'>highly</b> entertaining film that should appeal to most mature cinemagoers . ( however , the weak of stomach should really be warned of one or two scenes . ) robert carlyle and jonny lee miller pull of a brilliant double act and ken stott does a <b style='color:red'>excellent</b> villain . this mixed in with <b style='color:red'>superb</b> costumes and a few decent action scenes makes for a very enjoyable watch . however , the big let - down here for me is that in having the gentleman highwayman there was a real opportunity for some good dialogue but the script was definitely lacking in punchiness and there were few belly laughs . okay , so the lines werent terrible but to me it does highlight a problem with recent british films ; ignoring a few notable exceptions the screenplays being written today are still relatively mediocre when compared to some of hollywoods efforts ."
      ],
      "text/plain": [
       "<IPython.core.display.HTML object>"
      ]
     },
     "metadata": {},
     "output_type": "display_data"
    },
    {
     "name": "stdout",
     "output_type": "stream",
     "text": [
      "\n",
      "New prediction: 0.375443\n"
     ]
    },
    {
     "data": {
      "text/html": [
       "and gritty seriousness all at once . most of the time this sort of approach doesnt work in films ( just look at batman forever ) but i was was pleasantly surprised to see that in this case , they pulled it off . the end result is a <b style='color:blue'>excessively</b> entertaining film that should appeal to most mature cinemagoers . ( however , the weak of stomach should really be warned of one or two scenes . ) robert carlyle and jonny lee miller pull of a brilliant double act and ken stott does a <b style='color:blue'>grandiose</b> villain . this mixed in with <b style='color:blue'>handsome</b> costumes and a few decent action scenes makes for a very enjoyable watch . however , the big let - down here for me is that in having the gentleman highwayman there was a real opportunity for some good dialogue but the script was definitely lacking in punchiness and there were few belly laughs . okay , so the lines werent terrible but to me it does highlight a problem with recent british films ; ignoring a few notable exceptions the screenplays being written today are still relatively mediocre when compared to some of hollywoods efforts ."
      ],
      "text/plain": [
       "<IPython.core.display.HTML object>"
      ]
     },
     "metadata": {},
     "output_type": "display_data"
    },
    {
     "name": "stdout",
     "output_type": "stream",
     "text": [
      "--------------------------------------------------\n",
      "#244   index = 17966\n",
      "ATTACK FAILED\n",
      "--------------------------------------------------\n",
      "#245   index = 18741\n",
      "ATTACK FAILED\n",
      "--------------------------------------------------\n",
      "#246   index = 21032\n",
      "ATTACK SUCCEEDED\n",
      "Original prediction: 0.042441\n"
     ]
    },
    {
     "data": {
      "text/html": [
       "being danton slaughtering soldiers . and i <b style='color:red'>really</b> cant explain the plot any more cos there is nothing else to the movie . it still rocks though . what else could be wrong you ask ? dont get me started . hand grenades which actually go off at the actors feet because the explosion is the size of a match . scenes where there are 5 people chasing danton , then the camera cuts away and back and there are 7 . the way that every time danton loads the grenade launcher he is against the same background even though he is in completely diffrent locations . and the <b style='color:red'>worst</b> part is when danton pushes the plastic boulders onto the enemies , and one <b style='color:red'>enemy</b> is completely <b style='color:red'>untouched</b> by the boulders , so he doesnt know what to do so he half heartedly dies without even being touched . its <b style='color:red'>ridiculous</b> ! ! ! but funny . very , very <b style='color:red'>funny</b> . this is one of the few movies i can thoroughly recommend to everybody , cos if you dont find it funny , you are 1 in a million . and for the rest of us its <b style='color:red'>magic</b> ."
      ],
      "text/plain": [
       "<IPython.core.display.HTML object>"
      ]
     },
     "metadata": {},
     "output_type": "display_data"
    },
    {
     "name": "stdout",
     "output_type": "stream",
     "text": [
      "\n",
      "New prediction: 0.525912\n"
     ]
    },
    {
     "data": {
      "text/html": [
       "being danton slaughtering soldiers . and i <b style='color:blue'>genuinely</b> cant explain the plot any more cos there is nothing else to the movie . it still rocks though . what else could be wrong you ask ? dont get me started . hand grenades which actually go off at the actors feet because the explosion is the size of a match . scenes where there are 5 people chasing danton , then the camera cuts away and back and there are 7 . the way that every time danton loads the grenade launcher he is against the same background even though he is in completely diffrent locations . and the <b style='color:blue'>lousiest</b> part is when danton pushes the plastic boulders onto the enemies , and one <b style='color:blue'>foe</b> is completely <b style='color:blue'>unaffected</b> by the boulders , so he doesnt know what to do so he half heartedly dies without even being touched . its <b style='color:blue'>absurd</b> ! ! ! but funny . very , very <b style='color:blue'>hilarious</b> . this is one of the few movies i can thoroughly recommend to everybody , cos if you dont find it funny , you are 1 in a million . and for the rest of us its <b style='color:blue'>magical</b> ."
      ],
      "text/plain": [
       "<IPython.core.display.HTML object>"
      ]
     },
     "metadata": {},
     "output_type": "display_data"
    },
    {
     "name": "stdout",
     "output_type": "stream",
     "text": [
      "--------------------------------------------------\n",
      "#247   index = 20287\n",
      "ATTACK FAILED\n",
      "--------------------------------------------------\n",
      "#248   index = 16073\n",
      "ATTACK SUCCEEDED\n",
      "Original prediction: 0.081330\n"
     ]
    },
    {
     "data": {
      "text/html": [
       "it was really possible to kick someone underwater like that , but you get the idea of how deep the character development is . we understand that this is the group of kids that jim ellis turned from kids hanging out on the streets doing nothing with their lives and into an organized and competitive team of swimmers , but other than that we dont really get to know anything about who they are . but the biggest problem is that the only real statements that the movie makes are that effort and organization lead to success and racism is bad . both of these are so obvious that when a movie is made with them alone it ends up feeling empty and unnecessary . racism was so much more powerful in america in the 1970s that it feels like an enormous loss that the movie dealt directly with that issue but didnt really say anything about it . its sort of a feel - good movie , but when its over and you realize how much it should have said is much bigger than what it said , the feel - good sensation turns into a <b style='color:red'>sad</b> <b style='color:red'>disappointment</b> ."
      ],
      "text/plain": [
       "<IPython.core.display.HTML object>"
      ]
     },
     "metadata": {},
     "output_type": "display_data"
    },
    {
     "name": "stdout",
     "output_type": "stream",
     "text": [
      "\n",
      "New prediction: 0.585082\n"
     ]
    },
    {
     "data": {
      "text/html": [
       "it was really possible to kick someone underwater like that , but you get the idea of how deep the character development is . we understand that this is the group of kids that jim ellis turned from kids hanging out on the streets doing nothing with their lives and into an organized and competitive team of swimmers , but other than that we dont really get to know anything about who they are . but the biggest problem is that the only real statements that the movie makes are that effort and organization lead to success and racism is bad . both of these are so obvious that when a movie is made with them alone it ends up feeling empty and unnecessary . racism was so much more powerful in america in the 1970s that it feels like an enormous loss that the movie dealt directly with that issue but didnt really say anything about it . its sort of a feel - good movie , but when its over and you realize how much it should have said is much bigger than what it said , the feel - good sensation turns into a <b style='color:blue'>sorrowful</b> <b style='color:blue'>disillusionment</b> ."
      ],
      "text/plain": [
       "<IPython.core.display.HTML object>"
      ]
     },
     "metadata": {},
     "output_type": "display_data"
    },
    {
     "name": "stdout",
     "output_type": "stream",
     "text": [
      "--------------------------------------------------\n",
      "#249   index = 3298\n",
      "ATTACK FAILED\n",
      "--------------------------------------------------\n",
      "#250   index = 13838\n",
      "ATTACK FAILED\n",
      "--------------------------------------------------\n",
      "#251   index = 3302\n",
      "ATTACK FAILED\n",
      "--------------------------------------------------\n",
      "#252   index = 23859\n",
      "ATTACK SUCCEEDED\n",
      "Original prediction: 0.021282\n"
     ]
    },
    {
     "data": {
      "text/html": [
       "is he meant to be from ? ! ? oh and theres a load of naked girls in it too , who for some unfathomable reason seem to want nothing more than to have none stop sex with these leathery skinned b * stards ! the guy who wrote and directed it - a pee wee herman lookalike with a greeshan 2000d beard and an orange sunbed tan - has for some reason cast himself in the lead role , maybe this is part of the joke , i dont know . actually , the more i think about it the more im sure this film is a p * ss take . its produced by quentin tarantino and its possible hes released this in humour as a bit of a laugh . it is a <b style='color:red'>total</b> rip off of tarantinos style , but just <b style='color:red'>done</b> really <b style='color:red'>really</b> <b style='color:red'>badly</b> . it is very <b style='color:red'>amusing</b> though , and i guess either way it could go down as a cult classic , either from being an amusing parody of the tarantino / rodriguez style , or something that is very very unintentionally funny . has to be seen to be believed ."
      ],
      "text/plain": [
       "<IPython.core.display.HTML object>"
      ]
     },
     "metadata": {},
     "output_type": "display_data"
    },
    {
     "name": "stdout",
     "output_type": "stream",
     "text": [
      "\n",
      "New prediction: 0.589578\n"
     ]
    },
    {
     "data": {
      "text/html": [
       "is he meant to be from ? ! ? oh and theres a load of naked girls in it too , who for some unfathomable reason seem to want nothing more than to have none stop sex with these leathery skinned b * stards ! the guy who wrote and directed it - a pee wee herman lookalike with a greeshan 2000d beard and an orange sunbed tan - has for some reason cast himself in the lead role , maybe this is part of the joke , i dont know . actually , the more i think about it the more im sure this film is a p * ss take . its produced by quentin tarantino and its possible hes released this in humour as a bit of a laugh . it is a <b style='color:blue'>totalling</b> rip off of tarantinos style , but just <b style='color:blue'>accomplished</b> really <b style='color:blue'>truly</b> <b style='color:blue'>desperately</b> . it is very <b style='color:blue'>entertaining</b> though , and i guess either way it could go down as a cult classic , either from being an amusing parody of the tarantino / rodriguez style , or something that is very very unintentionally funny . has to be seen to be believed ."
      ],
      "text/plain": [
       "<IPython.core.display.HTML object>"
      ]
     },
     "metadata": {},
     "output_type": "display_data"
    },
    {
     "name": "stdout",
     "output_type": "stream",
     "text": [
      "--------------------------------------------------\n",
      "#253   index = 21478\n",
      "ATTACK SUCCEEDED\n",
      "Original prediction: 0.091486\n"
     ]
    },
    {
     "data": {
      "text/html": [
       "is <b style='color:red'>really</b> the <b style='color:red'>only</b> way anyone could really watch a movie like this . if it werent for joel , crow , and tom servo constantly making wisecracks , it wouldnt be possible to sit through this piece of <b style='color:red'>crap</b> . you <b style='color:red'>have</b> a hero called ator who looks a lot like jeff spigoli in fast times at ridgemont high and appears only slightly more intelligent , just without being stoned . he takes on cavemen ( the cave dwellers ? ) invisible guys , a giant snake ( with a bunch of anal retentive snakes that like to line up all the skulls to <b style='color:red'>face</b> the same way ) , invents a hang glider which suspiciously looks like a modern aluminum one with some cheap vines wrapped around it , and <b style='color:red'>then</b> does battle with the <b style='color:red'>evil</b> john saxon - looking dude . then he rides off on his horse across the tire tracks where someones been four - wheeling . yes , i got most of that from mst3k , which as i said is the only <b style='color:red'>way</b> to watch this turkey of a movie . if it werent for that , it would get zero stars ."
      ],
      "text/plain": [
       "<IPython.core.display.HTML object>"
      ]
     },
     "metadata": {},
     "output_type": "display_data"
    },
    {
     "name": "stdout",
     "output_type": "stream",
     "text": [
      "\n",
      "New prediction: 0.522433\n"
     ]
    },
    {
     "data": {
      "text/html": [
       "is <b style='color:blue'>truly</b> the <b style='color:blue'>exclusively</b> way anyone could really watch a movie like this . if it werent for joel , crow , and tom servo constantly making wisecracks , it wouldnt be possible to sit through this piece of <b style='color:blue'>absurdity</b> . you <b style='color:blue'>ha</b> a hero called ator who looks a lot like jeff spigoli in fast times at ridgemont high and appears only slightly more intelligent , just without being stoned . he takes on cavemen ( the cave dwellers ? ) invisible guys , a giant snake ( with a bunch of anal retentive snakes that like to line up all the skulls to <b style='color:blue'>faced</b> the same way ) , invents a hang glider which suspiciously looks like a modern aluminum one with some cheap vines wrapped around it , and <b style='color:blue'>thereafter</b> does battle with the <b style='color:blue'>wicked</b> john saxon - looking dude . then he rides off on his horse across the tire tracks where someones been four - wheeling . yes , i got most of that from mst3k , which as i said is the only <b style='color:blue'>path</b> to watch this turkey of a movie . if it werent for that , it would get zero stars ."
      ],
      "text/plain": [
       "<IPython.core.display.HTML object>"
      ]
     },
     "metadata": {},
     "output_type": "display_data"
    },
    {
     "name": "stdout",
     "output_type": "stream",
     "text": [
      "--------------------------------------------------\n",
      "#254   index = 16926\n",
      "ATTACK FAILED\n",
      "--------------------------------------------------\n",
      "#255   index = 19096\n",
      "ATTACK SUCCEEDED\n",
      "Original prediction: 0.044509\n"
     ]
    },
    {
     "data": {
      "text/html": [
       "which makes it all the more ironic that he is he one that arranges thorpes downfall . fred also suffered a bit from casting , i love adam arkin but he was not a cheerful , <b style='color:red'>happy</b> to be <b style='color:red'>alive</b> upbeat sort of detective , character traits which book fred possesses which makes it more obviously out of <b style='color:red'>character</b> for him to mess with evidence and thus more <b style='color:red'>shocking</b> . patricia and edgarson were pretty close to the book , and james cromwell was <b style='color:red'>great</b> despite not looking much like martin balsam . the whole <b style='color:red'>boring</b> boat house scene which was <b style='color:red'>entirely</b> added for the film was much less interesting than the police finding edgarsons body after thorpe ships it to seattle and blaming the death on the mob . kit was <b style='color:red'>okay</b> although she was mostly rewritten , and it would have been nice to see her die as she did get slightly annoying . i dont <b style='color:red'>mind</b> changes to books to make movies , i know they are <b style='color:red'>necessary</b> because of length and difficulty , but it would have been nice if some of the changes in this movie had been funnier or smarter instead of duller ."
      ],
      "text/plain": [
       "<IPython.core.display.HTML object>"
      ]
     },
     "metadata": {},
     "output_type": "display_data"
    },
    {
     "name": "stdout",
     "output_type": "stream",
     "text": [
      "\n",
      "New prediction: 0.528920\n"
     ]
    },
    {
     "data": {
      "text/html": [
       "which makes it all the more ironic that he is he one that arranges thorpes downfall . fred also suffered a bit from casting , i love adam arkin but he was not a cheerful , <b style='color:blue'>joyous</b> to be <b style='color:blue'>vibrant</b> upbeat sort of detective , character traits which book fred possesses which makes it more obviously out of <b style='color:blue'>nature</b> for him to mess with evidence and thus more <b style='color:blue'>harrowing</b> . patricia and edgarson were pretty close to the book , and james cromwell was <b style='color:blue'>superb</b> despite not looking much like martin balsam . the whole <b style='color:blue'>bored</b> boat house scene which was <b style='color:blue'>fully</b> added for the film was much less interesting than the police finding edgarsons body after thorpe ships it to seattle and blaming the death on the mob . kit was <b style='color:blue'>ok</b> although she was mostly rewritten , and it would have been nice to see her die as she did get slightly annoying . i dont <b style='color:blue'>intellect</b> changes to books to make movies , i know they are <b style='color:blue'>indispensable</b> because of length and difficulty , but it would have been nice if some of the changes in this movie had been funnier or smarter instead of duller ."
      ],
      "text/plain": [
       "<IPython.core.display.HTML object>"
      ]
     },
     "metadata": {},
     "output_type": "display_data"
    },
    {
     "name": "stdout",
     "output_type": "stream",
     "text": [
      "--------------------------------------------------\n",
      "#256   index = 14520\n",
      "ATTACK SUCCEEDED\n",
      "Original prediction: 0.002030\n"
     ]
    },
    {
     "data": {
      "text/html": [
       "im so glad he wasnt alive to see this . this movie is a debauchery of his work . i agree with the other commenter - - this movie was a <b style='color:red'>terrible</b> <b style='color:red'>disappointment</b> . id give it a zero , but am forced to give it a 1 . the story was <b style='color:red'>weak</b> , and it reminded me of the days when i was a young teenager trying to write a movie , then looking back on it and realizing how <b style='color:red'>horrible</b> it was . <b style='color:red'>bad</b> actors , family and friends , and someone stupid enough to fund it was how it was made . its <b style='color:red'>really</b> amazing how strings can be pulled to get anything done . if this movie was able to make it out to the general public it puts high hopes on other indie film makers who have talent worth a damn whore struggling ! this movie made me laugh , but for all the wrong reasons . by all accounts this was <b style='color:red'>seriously</b> not meant to be a comedy . scary movie is a better play on a horror genre - - this movie just sucks ."
      ],
      "text/plain": [
       "<IPython.core.display.HTML object>"
      ]
     },
     "metadata": {},
     "output_type": "display_data"
    },
    {
     "name": "stdout",
     "output_type": "stream",
     "text": [
      "\n",
      "New prediction: 0.583277\n"
     ]
    },
    {
     "data": {
      "text/html": [
       "im so glad he wasnt alive to see this . this movie is a debauchery of his work . i agree with the other commenter - - this movie was a <b style='color:blue'>harrowing</b> <b style='color:blue'>frustration</b> . id give it a zero , but am forced to give it a 1 . the story was <b style='color:blue'>tenuous</b> , and it reminded me of the days when i was a young teenager trying to write a movie , then looking back on it and realizing how <b style='color:blue'>harrowing</b> it was . <b style='color:blue'>wicked</b> actors , family and friends , and someone stupid enough to fund it was how it was made . its <b style='color:blue'>truly</b> amazing how strings can be pulled to get anything done . if this movie was able to make it out to the general public it puts high hopes on other indie film makers who have talent worth a damn whore struggling ! this movie made me laugh , but for all the wrong reasons . by all accounts this was <b style='color:blue'>profoundly</b> not meant to be a comedy . scary movie is a better play on a horror genre - - this movie just sucks ."
      ],
      "text/plain": [
       "<IPython.core.display.HTML object>"
      ]
     },
     "metadata": {},
     "output_type": "display_data"
    },
    {
     "name": "stdout",
     "output_type": "stream",
     "text": [
      "--------------------------------------------------\n",
      "#257   index = 2131\n",
      "ATTACK SUCCEEDED\n",
      "Original prediction: 0.999398\n"
     ]
    },
    {
     "data": {
      "text/html": [
       "i have seen many of shahrukhs movies and this is a very <b style='color:red'>good</b> role for him . he has such versatility , but he mainly stays in positive roles . as rahul , he is very dark and <b style='color:red'>disturbing</b> , yet i found myself sympathizing with him much of the movie . if for nothing else , watch this movie for <b style='color:red'>shahrukh</b> . he plays a very <b style='color:red'>complex</b> and <b style='color:red'>real</b> character very convincingly . the story is <b style='color:red'>very</b> <b style='color:red'>typical</b> and has been done before , but the <b style='color:red'>character</b> development is very strong and <b style='color:red'>entertaining</b> . the opening is a little confusing , but by the end , it doesnt matter . the songs i <b style='color:red'>found</b> very likable and give insight to what characters are thinking . very <b style='color:red'>clever</b> . i think this <b style='color:red'>movie</b> was <b style='color:red'>very</b> <b style='color:red'>good</b> and recommend it to all <b style='color:red'>shahrukh</b> khan fans . it is a <b style='color:red'>must</b> <b style='color:red'>see</b> !"
      ],
      "text/plain": [
       "<IPython.core.display.HTML object>"
      ]
     },
     "metadata": {},
     "output_type": "display_data"
    },
    {
     "name": "stdout",
     "output_type": "stream",
     "text": [
      "\n",
      "New prediction: 0.485011\n"
     ]
    },
    {
     "data": {
      "text/html": [
       "i have seen many of shahrukhs movies and this is a very <b style='color:blue'>allright</b> role for him . he has such versatility , but he mainly stays in positive roles . as rahul , he is very dark and <b style='color:blue'>worrying</b> , yet i found myself sympathizing with him much of the movie . if for nothing else , watch this movie for <b style='color:blue'>yasir</b> . he plays a very <b style='color:blue'>convoluted</b> and <b style='color:blue'>actual</b> character very convincingly . the story is <b style='color:blue'>extremely</b> <b style='color:blue'>symptomatic</b> and has been done before , but the <b style='color:blue'>nature</b> development is very strong and <b style='color:blue'>fun</b> . the opening is a little confusing , but by the end , it doesnt matter . the songs i <b style='color:blue'>founded</b> very likable and give insight to what characters are thinking . very <b style='color:blue'>smart</b> . i think this <b style='color:blue'>filmmaking</b> was <b style='color:blue'>extremely</b> <b style='color:blue'>allright</b> and recommend it to all <b style='color:blue'>kamran</b> khan fans . it is a <b style='color:blue'>can</b> <b style='color:blue'>behold</b> !"
      ],
      "text/plain": [
       "<IPython.core.display.HTML object>"
      ]
     },
     "metadata": {},
     "output_type": "display_data"
    },
    {
     "name": "stdout",
     "output_type": "stream",
     "text": [
      "--------------------------------------------------\n",
      "#258   index = 8109\n",
      "ATTACK SUCCEEDED\n",
      "Original prediction: 0.975998\n"
     ]
    },
    {
     "data": {
      "text/html": [
       "i was <b style='color:red'>surprised</b> as i watched this movie , how much it had encaptured me . no the actors didnt act like <b style='color:red'>typical</b> hollywood actors , but thats not always <b style='color:red'>bad</b> either , as this film proves . <b style='color:red'>quite</b> different from the disney standard , it is a refreshing turn none - the - less ! they <b style='color:red'>also</b> give you a taste of what it was <b style='color:red'>probably</b> like without being educational . a movie everyone should both <b style='color:red'>see</b> and <b style='color:red'>enjoy</b> . many people <b style='color:red'>love</b> arguing over accuracies in any <b style='color:red'>movie</b> of this <b style='color:red'>type</b> , but just getting the <b style='color:red'>basic</b> idea has plenty to offer . mild gripe ; <b style='color:red'>east</b> and west germany , viewed on any map , would have west germany on the left side , <b style='color:red'>east</b> to the right . the movie at times , sets you back slightly , because about half of the scenes have west germany on the right side of the screen , and other times on the left side . even during the same events , they shift back and forth . <b style='color:red'>perhaps</b> , just a <b style='color:red'>little</b> more <b style='color:red'>consistency</b> would have avoided this mild distraction . go <b style='color:red'>see</b> it !"
      ],
      "text/plain": [
       "<IPython.core.display.HTML object>"
      ]
     },
     "metadata": {},
     "output_type": "display_data"
    },
    {
     "name": "stdout",
     "output_type": "stream",
     "text": [
      "\n",
      "New prediction: 0.491417\n"
     ]
    },
    {
     "data": {
      "text/html": [
       "i was <b style='color:blue'>aghast</b> as i watched this movie , how much it had encaptured me . no the actors didnt act like <b style='color:blue'>idiosyncratic</b> hollywood actors , but thats not always <b style='color:blue'>lousy</b> either , as this film proves . <b style='color:blue'>pretty</b> different from the disney standard , it is a refreshing turn none - the - less ! they <b style='color:blue'>moreover</b> give you a taste of what it was <b style='color:blue'>presumably</b> like without being educational . a movie everyone should both <b style='color:blue'>behold</b> and <b style='color:blue'>experience</b> . many people <b style='color:blue'>adore</b> arguing over accuracies in any <b style='color:blue'>filmmaking</b> of this <b style='color:blue'>typing</b> , but just getting the <b style='color:blue'>baseline</b> idea has plenty to offer . mild gripe ; <b style='color:blue'>westward</b> and west germany , viewed on any map , would have west germany on the left side , <b style='color:blue'>eastern</b> to the right . the movie at times , sets you back slightly , because about half of the scenes have west germany on the right side of the screen , and other times on the left side . even during the same events , they shift back and forth . <b style='color:blue'>maybe</b> , just a <b style='color:blue'>small</b> more <b style='color:blue'>cohesion</b> would have avoided this mild distraction . go <b style='color:blue'>behold</b> it !"
      ],
      "text/plain": [
       "<IPython.core.display.HTML object>"
      ]
     },
     "metadata": {},
     "output_type": "display_data"
    },
    {
     "name": "stdout",
     "output_type": "stream",
     "text": [
      "--------------------------------------------------\n",
      "#259   index = 13903\n",
      "ATTACK FAILED\n",
      "--------------------------------------------------\n",
      "#260   index = 21523\n",
      "ATTACK FAILED\n",
      "--------------------------------------------------\n",
      "#261   index = 7467\n",
      "ATTACK FAILED\n",
      "--------------------------------------------------\n",
      "#262   index = 6822\n",
      "ATTACK SUCCEEDED\n",
      "Original prediction: 0.974321\n"
     ]
    },
    {
     "data": {
      "text/html": [
       "this is one of the best episodes from the entire x - files series , creepy beyond words . the tension and suspense in this episode is very <b style='color:red'>well</b> executed , in its entire 45 minutes it managed to be <b style='color:red'>almost</b> as <b style='color:red'>scary</b> as an entire movie . this episode joins the ranks of best episodes with such greats as home , humbug bad blood and milagro for being the best in their respective season . mulder and scullys growing relationship is put to the test in this episode : can they really trust each other ? this episode also contains a tiny scene that will leave romantic viewers smiling . mulder : bring your mittens"
      ],
      "text/plain": [
       "<IPython.core.display.HTML object>"
      ]
     },
     "metadata": {},
     "output_type": "display_data"
    },
    {
     "name": "stdout",
     "output_type": "stream",
     "text": [
      "\n",
      "New prediction: 0.346132\n"
     ]
    },
    {
     "data": {
      "text/html": [
       "this is one of the best episodes from the entire x - files series , creepy beyond words . the tension and suspense in this episode is very <b style='color:blue'>allright</b> executed , in its entire 45 minutes it managed to be <b style='color:blue'>approximately</b> as <b style='color:blue'>dreadful</b> as an entire movie . this episode joins the ranks of best episodes with such greats as home , humbug bad blood and milagro for being the best in their respective season . mulder and scullys growing relationship is put to the test in this episode : can they really trust each other ? this episode also contains a tiny scene that will leave romantic viewers smiling . mulder : bring your mittens"
      ],
      "text/plain": [
       "<IPython.core.display.HTML object>"
      ]
     },
     "metadata": {},
     "output_type": "display_data"
    },
    {
     "name": "stdout",
     "output_type": "stream",
     "text": [
      "--------------------------------------------------\n",
      "#263   index = 20329\n",
      "ATTACK SUCCEEDED\n",
      "Original prediction: 0.047082\n"
     ]
    },
    {
     "data": {
      "text/html": [
       "so <b style='color:red'>badly</b> <b style='color:red'>done</b> they are hilarious . one girl is stabbed repeatedly in the chest , but does not scream , try or defend or self or run away . she also manages to remain standing despite being stabbed repeatedly . another death scene involving a rope is also <b style='color:red'>extremely</b> <b style='color:red'>hilarious</b> . no thought seems to have been put into the plot . the granny seems to magically move from one area to another ( e . g . be hiding under leaves in a woodland just where the victim just happens to stand , appears in front of someone even though it had been behind them ten seconds earlier ) , people kiss at extremely inappropriate moments ( would you stop and kiss someone if you were being chased by a homicidal maniac ) and the double twist at the end is <b style='color:red'>utterly</b> <b style='color:red'>ridiculous</b> , it seems they just threw it on just to confuse people . i would advise people to watch this film if they love <b style='color:red'>awful</b> horror movies like troll 2 , the <b style='color:red'>dreaded</b> or blood gnome , but do not watch it if you are expecting a scary horror movie , you will be <b style='color:red'>disappointed</b>"
      ],
      "text/plain": [
       "<IPython.core.display.HTML object>"
      ]
     },
     "metadata": {},
     "output_type": "display_data"
    },
    {
     "name": "stdout",
     "output_type": "stream",
     "text": [
      "\n",
      "New prediction: 0.535573\n"
     ]
    },
    {
     "data": {
      "text/html": [
       "so <b style='color:blue'>desperately</b> <b style='color:blue'>accomplished</b> they are hilarious . one girl is stabbed repeatedly in the chest , but does not scream , try or defend or self or run away . she also manages to remain standing despite being stabbed repeatedly . another death scene involving a rope is also <b style='color:blue'>immensely</b> <b style='color:blue'>funny</b> . no thought seems to have been put into the plot . the granny seems to magically move from one area to another ( e . g . be hiding under leaves in a woodland just where the victim just happens to stand , appears in front of someone even though it had been behind them ten seconds earlier ) , people kiss at extremely inappropriate moments ( would you stop and kiss someone if you were being chased by a homicidal maniac ) and the double twist at the end is <b style='color:blue'>fully</b> <b style='color:blue'>asinine</b> , it seems they just threw it on just to confuse people . i would advise people to watch this film if they love <b style='color:blue'>horrific</b> horror movies like troll 2 , the <b style='color:blue'>horrific</b> or blood gnome , but do not watch it if you are expecting a scary horror movie , you will be <b style='color:blue'>disenchanted</b>"
      ],
      "text/plain": [
       "<IPython.core.display.HTML object>"
      ]
     },
     "metadata": {},
     "output_type": "display_data"
    },
    {
     "name": "stdout",
     "output_type": "stream",
     "text": [
      "--------------------------------------------------\n",
      "#264   index = 4442\n",
      "ATTACK SUCCEEDED\n",
      "Original prediction: 0.969766\n"
     ]
    },
    {
     "data": {
      "text/html": [
       "i think i was one of the people who found this another one of roths pearls . his performance , as awarded , was <b style='color:red'>stunning</b> . the story which was told so eloquently by francis ford coppola 25 years earlier , really unfolds gradually and leaves room for the characters to develop . roeg proves again it doesnt have to be a war - setting to be interressting . in a most <b style='color:red'>wonderful</b> location lies a story of contrast . ruthlessnes and beauty go hand in hand , while loneliness should become your best friend . it shows a more sinister past of a small golden age kingdom which lands on a coast full of wealth for a 1st world country , if u send the right men . all in all a beautiful directed film from nicolas roeg wih a <b style='color:red'>sublime</b> cast ."
      ],
      "text/plain": [
       "<IPython.core.display.HTML object>"
      ]
     },
     "metadata": {},
     "output_type": "display_data"
    },
    {
     "name": "stdout",
     "output_type": "stream",
     "text": [
      "\n",
      "New prediction: 0.434777\n"
     ]
    },
    {
     "data": {
      "text/html": [
       "i think i was one of the people who found this another one of roths pearls . his performance , as awarded , was <b style='color:blue'>staggering</b> . the story which was told so eloquently by francis ford coppola 25 years earlier , really unfolds gradually and leaves room for the characters to develop . roeg proves again it doesnt have to be a war - setting to be interressting . in a most <b style='color:blue'>grandiose</b> location lies a story of contrast . ruthlessnes and beauty go hand in hand , while loneliness should become your best friend . it shows a more sinister past of a small golden age kingdom which lands on a coast full of wealth for a 1st world country , if u send the right men . all in all a beautiful directed film from nicolas roeg wih a <b style='color:blue'>fanciful</b> cast ."
      ],
      "text/plain": [
       "<IPython.core.display.HTML object>"
      ]
     },
     "metadata": {},
     "output_type": "display_data"
    },
    {
     "name": "stdout",
     "output_type": "stream",
     "text": [
      "--------------------------------------------------\n",
      "#265   index = 5597\n",
      "ATTACK FAILED\n",
      "--------------------------------------------------\n",
      "#266   index = 616\n",
      "ATTACK SUCCEEDED\n",
      "Original prediction: 0.987329\n"
     ]
    },
    {
     "data": {
      "text/html": [
       "sally and saint anne is a very funny movie . the first time my <b style='color:red'>mom</b> told me about it i was 7 and saint anne had just been the saint i had for my communion saint . my mom knew this , so she told me to watch this with her . i did , and have seen it <b style='color:red'>many</b> times since because it is <b style='color:red'>really</b> funny . aunt bea from the andy griffith show was in it and sallys grandfather was the <b style='color:red'>guy</b> who played santa claus in miracle on 34th street . so , there were <b style='color:red'>lots</b> of actors we seen on <b style='color:red'>tv</b> shows too . there is a <b style='color:red'>bad</b> guy who keeps trying to <b style='color:red'>steal</b> the <b style='color:red'>house</b> away , and sally keeps trying things with st . anne to help raise money so they <b style='color:red'>can</b> keep the house . that includes a boxing match with hugh obrian who plays her older brother . this is a <b style='color:red'>good</b> and funny movie that i still <b style='color:red'>love</b> ."
      ],
      "text/plain": [
       "<IPython.core.display.HTML object>"
      ]
     },
     "metadata": {},
     "output_type": "display_data"
    },
    {
     "name": "stdout",
     "output_type": "stream",
     "text": [
      "\n",
      "New prediction: 0.492835\n"
     ]
    },
    {
     "data": {
      "text/html": [
       "sally and saint anne is a very funny movie . the first time my <b style='color:blue'>mum</b> told me about it i was 7 and saint anne had just been the saint i had for my communion saint . my mom knew this , so she told me to watch this with her . i did , and have seen it <b style='color:blue'>innumerable</b> times since because it is <b style='color:blue'>truthfully</b> funny . aunt bea from the andy griffith show was in it and sallys grandfather was the <b style='color:blue'>bloke</b> who played santa claus in miracle on 34th street . so , there were <b style='color:blue'>batches</b> of actors we seen on <b style='color:blue'>television</b> shows too . there is a <b style='color:blue'>lousy</b> guy who keeps trying to <b style='color:blue'>shoplift</b> the <b style='color:blue'>domicile</b> away , and sally keeps trying things with st . anne to help raise money so they <b style='color:blue'>could</b> keep the house . that includes a boxing match with hugh obrian who plays her older brother . this is a <b style='color:blue'>allright</b> and funny movie that i still <b style='color:blue'>adore</b> ."
      ],
      "text/plain": [
       "<IPython.core.display.HTML object>"
      ]
     },
     "metadata": {},
     "output_type": "display_data"
    },
    {
     "name": "stdout",
     "output_type": "stream",
     "text": [
      "--------------------------------------------------\n",
      "#267   index = 14400\n",
      "ATTACK SUCCEEDED\n",
      "Original prediction: 0.010475\n"
     ]
    },
    {
     "data": {
      "text/html": [
       "hi , this is the <b style='color:red'>worst</b> movie i have ever seen in my life . the day when i watched this movie , i was having high fever . but still i watched the movie with lots of patience . and after watching the movie , i felt like repenting . because , i wasted 3 hrs for this <b style='color:red'>stupid</b> movie . i could have taken rest rather then watching this movie . and i was <b style='color:red'>really</b> <b style='color:red'>surprised</b> that how come actors like sunny deol , akshay kumar aftab etc acted in this movie . i dont understand if directors dont find a good story to make a film then why do they remain as directors ? why cant they sit at home and spent their time at home ? i request to all directors that it will be <b style='color:red'>good</b> for them if they request audiences , either by mail or by media , newspapers , radios etc . . . to send them a nice <b style='color:red'>story</b> if they dont find any good story for to make a film . i request again to all directors please dont make such films ."
      ],
      "text/plain": [
       "<IPython.core.display.HTML object>"
      ]
     },
     "metadata": {},
     "output_type": "display_data"
    },
    {
     "name": "stdout",
     "output_type": "stream",
     "text": [
      "\n",
      "New prediction: 0.521395\n"
     ]
    },
    {
     "data": {
      "text/html": [
       "hi , this is the <b style='color:blue'>lousiest</b> movie i have ever seen in my life . the day when i watched this movie , i was having high fever . but still i watched the movie with lots of patience . and after watching the movie , i felt like repenting . because , i wasted 3 hrs for this <b style='color:blue'>witless</b> movie . i could have taken rest rather then watching this movie . and i was <b style='color:blue'>truly</b> <b style='color:blue'>amazed</b> that how come actors like sunny deol , akshay kumar aftab etc acted in this movie . i dont understand if directors dont find a good story to make a film then why do they remain as directors ? why cant they sit at home and spent their time at home ? i request to all directors that it will be <b style='color:blue'>exemplary</b> for them if they request audiences , either by mail or by media , newspapers , radios etc . . . to send them a nice <b style='color:blue'>tale</b> if they dont find any good story for to make a film . i request again to all directors please dont make such films ."
      ],
      "text/plain": [
       "<IPython.core.display.HTML object>"
      ]
     },
     "metadata": {},
     "output_type": "display_data"
    },
    {
     "name": "stdout",
     "output_type": "stream",
     "text": [
      "--------------------------------------------------\n",
      "#268   index = 3122\n",
      "ATTACK SUCCEEDED\n",
      "Original prediction: 0.996828\n"
     ]
    },
    {
     "data": {
      "text/html": [
       "this is such a <b style='color:red'>beautiful</b> movie ! not only does it portray war , it <b style='color:red'>also</b> has <b style='color:red'>friendship</b> & love . the life of slama is filled with sadness , every aspect of his life fell apart . i can <b style='color:red'>only</b> imagine how he would feel when his friend make the ultimate sacrifice . i see a slight similarity to pearl harbor , which is also about two pilots falling in love with the same woman . however this film is much better made , because this does not portray the woman to be unfaithful & easy - <b style='color:red'>going</b> . the <b style='color:red'>friendship</b> between the two men is also much more <b style='color:red'>convincing</b> & well built - up . i <b style='color:red'>definitely</b> recommend this <b style='color:red'>movie</b> to all people ."
      ],
      "text/plain": [
       "<IPython.core.display.HTML object>"
      ]
     },
     "metadata": {},
     "output_type": "display_data"
    },
    {
     "name": "stdout",
     "output_type": "stream",
     "text": [
      "\n",
      "New prediction: 0.477118\n"
     ]
    },
    {
     "data": {
      "text/html": [
       "this is such a <b style='color:blue'>grandiose</b> movie ! not only does it portray war , it <b style='color:blue'>moreover</b> has <b style='color:blue'>amity</b> & love . the life of slama is filled with sadness , every aspect of his life fell apart . i can <b style='color:blue'>purely</b> imagine how he would feel when his friend make the ultimate sacrifice . i see a slight similarity to pearl harbor , which is also about two pilots falling in love with the same woman . however this film is much better made , because this does not portray the woman to be unfaithful & easy - <b style='color:blue'>disappearing</b> . the <b style='color:blue'>amity</b> between the two men is also much more <b style='color:blue'>conclusive</b> & well built - up . i <b style='color:blue'>definitively</b> recommend this <b style='color:blue'>filmmaking</b> to all people ."
      ],
      "text/plain": [
       "<IPython.core.display.HTML object>"
      ]
     },
     "metadata": {},
     "output_type": "display_data"
    },
    {
     "name": "stdout",
     "output_type": "stream",
     "text": [
      "--------------------------------------------------\n",
      "#269   index = 21586\n",
      "ATTACK FAILED\n",
      "--------------------------------------------------\n",
      "#270   index = 4309\n",
      "ATTACK FAILED\n",
      "--------------------------------------------------\n",
      "#271   index = 24202\n",
      "ATTACK FAILED\n",
      "--------------------------------------------------\n",
      "#272   index = 5692\n",
      "ATTACK SUCCEEDED\n",
      "Original prediction: 0.997573\n"
     ]
    },
    {
     "data": {
      "text/html": [
       "none of this matters , for , director tarsem singh has given us one of the most visually <b style='color:red'>stunning</b> movies ever . the whole plot is just an excuse to let tarsem fool around and take you into the minds of a serial killer , bringing the audience some shocking , pleasing , breath - taking and mind blowing images . the images from this beautiful movie will stick with you for a long time to come . this movie is a <b style='color:red'>perfect</b> case for the suspension of disbelief theory . forget the silly plot , just let your senses be overwhelmed with the images . and j . lo looks stunning enough to add to the rest of tarsems work . the cinematography is <b style='color:red'>harrowing</b> , the music haunting & the costumes just <b style='color:red'>stunning</b> . the movie is less of a movie and more of a work of art . its just that the medium is not canvas anymore , it is the big - screen and celluloid . one of the most <b style='color:red'>refreshing</b> movies of this decade . the cell is a must watch . a bold new step in movie making . an enthralling 8 ! !"
      ],
      "text/plain": [
       "<IPython.core.display.HTML object>"
      ]
     },
     "metadata": {},
     "output_type": "display_data"
    },
    {
     "name": "stdout",
     "output_type": "stream",
     "text": [
      "\n",
      "New prediction: 0.309982\n"
     ]
    },
    {
     "data": {
      "text/html": [
       "none of this matters , for , director tarsem singh has given us one of the most visually <b style='color:blue'>staggering</b> movies ever . the whole plot is just an excuse to let tarsem fool around and take you into the minds of a serial killer , bringing the audience some shocking , pleasing , breath - taking and mind blowing images . the images from this beautiful movie will stick with you for a long time to come . this movie is a <b style='color:blue'>faultless</b> case for the suspension of disbelief theory . forget the silly plot , just let your senses be overwhelmed with the images . and j . lo looks stunning enough to add to the rest of tarsems work . the cinematography is <b style='color:blue'>dreadful</b> , the music haunting & the costumes just <b style='color:blue'>staggering</b> . the movie is less of a movie and more of a work of art . its just that the medium is not canvas anymore , it is the big - screen and celluloid . one of the most <b style='color:blue'>freshen</b> movies of this decade . the cell is a must watch . a bold new step in movie making . an enthralling 8 ! !"
      ],
      "text/plain": [
       "<IPython.core.display.HTML object>"
      ]
     },
     "metadata": {},
     "output_type": "display_data"
    },
    {
     "name": "stdout",
     "output_type": "stream",
     "text": [
      "--------------------------------------------------\n",
      "#273   index = 13065\n",
      "ATTACK FAILED\n",
      "--------------------------------------------------\n",
      "#274   index = 6245\n",
      "ATTACK SUCCEEDED\n",
      "Original prediction: 0.951491\n"
     ]
    },
    {
     "data": {
      "text/html": [
       "although im not a golf fan , i attended a sneak preview of this movie and <b style='color:red'>absolutely</b> loved it . the historical settings , the blatant class distinctions , and seeing the <b style='color:red'>good</b> and the bad on both sides of the dividing line held my attention throughout . the actors and their characterizations were all mesmerizing . and i was on the edge of my seat during the golf segments , which were not only dramatic and <b style='color:red'>exciting</b> but easy to follow . toward the end of this movie , seabiscuit came strongly to mind , although the <b style='color:red'>greatest</b> game ever played is far less complex a story than that <b style='color:red'>film</b> . in both cases , the fact that the events really happened deepened my interest ."
      ],
      "text/plain": [
       "<IPython.core.display.HTML object>"
      ]
     },
     "metadata": {},
     "output_type": "display_data"
    },
    {
     "name": "stdout",
     "output_type": "stream",
     "text": [
      "\n",
      "New prediction: 0.462647\n"
     ]
    },
    {
     "data": {
      "text/html": [
       "although im not a golf fan , i attended a sneak preview of this movie and <b style='color:blue'>definitively</b> loved it . the historical settings , the blatant class distinctions , and seeing the <b style='color:blue'>allright</b> and the bad on both sides of the dividing line held my attention throughout . the actors and their characterizations were all mesmerizing . and i was on the edge of my seat during the golf segments , which were not only dramatic and <b style='color:blue'>intriguing</b> but easy to follow . toward the end of this movie , seabiscuit came strongly to mind , although the <b style='color:blue'>hugest</b> game ever played is far less complex a story than that <b style='color:blue'>filmmaking</b> . in both cases , the fact that the events really happened deepened my interest ."
      ],
      "text/plain": [
       "<IPython.core.display.HTML object>"
      ]
     },
     "metadata": {},
     "output_type": "display_data"
    },
    {
     "name": "stdout",
     "output_type": "stream",
     "text": [
      "--------------------------------------------------\n",
      "#275   index = 5135\n",
      "ATTACK SUCCEEDED\n",
      "Original prediction: 0.929673\n"
     ]
    },
    {
     "data": {
      "text/html": [
       "bloody birthday plays on the assumed innocence of children and shows them as bloodthirsty monsters . steven ( andy freeman ) , curtis ( billy jayne ; credited as billy jacoby ) , and debbie ( elizabeth hoy ) , were all born on the same day during an eclipse . besides sharing a birthday , they also share a love of murder ( and theyre not picky about who they kill either ) . young billy , elizabeth , and andy play the parts of these emotionless monsters quite well but they know when to put on the charm too . but they cant go on fooling everyone . this is an overall <b style='color:red'>good</b> horror flick , its not too <b style='color:red'>unrealistic</b> , there are a few <b style='color:red'>good</b> moments of suspense and the kids portrayed the roles well , ( the grown - ups are pretty hammy though ) . id say its well worth seeing , ( i own a copy myself ) ."
      ],
      "text/plain": [
       "<IPython.core.display.HTML object>"
      ]
     },
     "metadata": {},
     "output_type": "display_data"
    },
    {
     "name": "stdout",
     "output_type": "stream",
     "text": [
      "\n",
      "New prediction: 0.396972\n"
     ]
    },
    {
     "data": {
      "text/html": [
       "bloody birthday plays on the assumed innocence of children and shows them as bloodthirsty monsters . steven ( andy freeman ) , curtis ( billy jayne ; credited as billy jacoby ) , and debbie ( elizabeth hoy ) , were all born on the same day during an eclipse . besides sharing a birthday , they also share a love of murder ( and theyre not picky about who they kill either ) . young billy , elizabeth , and andy play the parts of these emotionless monsters quite well but they know when to put on the charm too . but they cant go on fooling everyone . this is an overall <b style='color:blue'>allright</b> horror flick , its not too <b style='color:blue'>impractical</b> , there are a few <b style='color:blue'>allright</b> moments of suspense and the kids portrayed the roles well , ( the grown - ups are pretty hammy though ) . id say its well worth seeing , ( i own a copy myself ) ."
      ],
      "text/plain": [
       "<IPython.core.display.HTML object>"
      ]
     },
     "metadata": {},
     "output_type": "display_data"
    },
    {
     "name": "stdout",
     "output_type": "stream",
     "text": [
      "--------------------------------------------------\n",
      "#276   index = 2364\n",
      "ATTACK FAILED\n",
      "--------------------------------------------------\n",
      "#277   index = 23775\n",
      "ATTACK SUCCEEDED\n",
      "Original prediction: 0.015264\n"
     ]
    },
    {
     "data": {
      "text/html": [
       "and the clips that i saw <b style='color:red'>caused</b> me to believe that this film would have <b style='color:red'>excitement</b> and <b style='color:red'>interesting</b> moments . i was <b style='color:red'>disappointed</b> . the desert sands were <b style='color:red'>interesting</b> but this film inched along at a snails pace . it started fine with an underground cave and something coming out but then <b style='color:red'>tried</b> to involve us with the lives of some very unlikeable human beings . as they found dead bodies , or should i say , skeletons with some flesh on them , they began a <b style='color:red'>search</b> for the reason why ? at times it became somewhat different as something was following them in the desert . some type of black ooze or something that would begin to eat the flesh of humans . as the flesh was munched upon , a bag of bones began to creep after the remaining humans . the reason for this black ooze as we find out was pretty <b style='color:red'>bad</b> , ants ? unbelieveable ! then the ending made no sense . i guess the motto of this film will be , when you have an itch and see an ant , <b style='color:red'>quickly</b> kill it before the ants friends <b style='color:red'>smell</b> your flesh ."
      ],
      "text/plain": [
       "<IPython.core.display.HTML object>"
      ]
     },
     "metadata": {},
     "output_type": "display_data"
    },
    {
     "name": "stdout",
     "output_type": "stream",
     "text": [
      "\n",
      "New prediction: 0.507894\n"
     ]
    },
    {
     "data": {
      "text/html": [
       "and the clips that i saw <b style='color:blue'>sparked</b> me to believe that this film would have <b style='color:blue'>excitation</b> and <b style='color:blue'>fascinating</b> moments . i was <b style='color:blue'>disenchanted</b> . the desert sands were <b style='color:blue'>fascinating</b> but this film inched along at a snails pace . it started fine with an underground cave and something coming out but then <b style='color:blue'>endeavored</b> to involve us with the lives of some very unlikeable human beings . as they found dead bodies , or should i say , skeletons with some flesh on them , they began a <b style='color:blue'>quest</b> for the reason why ? at times it became somewhat different as something was following them in the desert . some type of black ooze or something that would begin to eat the flesh of humans . as the flesh was munched upon , a bag of bones began to creep after the remaining humans . the reason for this black ooze as we find out was pretty <b style='color:blue'>wicked</b> , ants ? unbelieveable ! then the ending made no sense . i guess the motto of this film will be , when you have an itch and see an ant , <b style='color:blue'>rapidly</b> kill it before the ants friends <b style='color:blue'>odour</b> your flesh ."
      ],
      "text/plain": [
       "<IPython.core.display.HTML object>"
      ]
     },
     "metadata": {},
     "output_type": "display_data"
    },
    {
     "name": "stdout",
     "output_type": "stream",
     "text": [
      "--------------------------------------------------\n",
      "#278   index = 18849\n",
      "ATTACK SUCCEEDED\n",
      "Original prediction: 0.019212\n"
     ]
    },
    {
     "data": {
      "text/html": [
       "this is a good plot concept , so why - o - why is it such a poor film . the acting is <b style='color:red'>terrible</b> and every shock is signposted so far in advance that it is almost <b style='color:red'>laughable</b> by the time it reaches you . spend your time and money elsewhere , this is not worth watching ."
      ],
      "text/plain": [
       "<IPython.core.display.HTML object>"
      ]
     },
     "metadata": {},
     "output_type": "display_data"
    },
    {
     "name": "stdout",
     "output_type": "stream",
     "text": [
      "\n",
      "New prediction: 0.720014\n"
     ]
    },
    {
     "data": {
      "text/html": [
       "this is a good plot concept , so why - o - why is it such a poor film . the acting is <b style='color:blue'>harrowing</b> and every shock is signposted so far in advance that it is almost <b style='color:blue'>grotesque</b> by the time it reaches you . spend your time and money elsewhere , this is not worth watching ."
      ],
      "text/plain": [
       "<IPython.core.display.HTML object>"
      ]
     },
     "metadata": {},
     "output_type": "display_data"
    },
    {
     "name": "stdout",
     "output_type": "stream",
     "text": [
      "--------------------------------------------------\n",
      "#279   index = 21010\n",
      "ATTACK FAILED\n",
      "--------------------------------------------------\n",
      "#280   index = 7925\n",
      "ATTACK SUCCEEDED\n",
      "Original prediction: 0.958240\n"
     ]
    },
    {
     "data": {
      "text/html": [
       "still doesnt . i <b style='color:red'>enjoyed</b> the animation . it wasnt disney , no . i dont think don bluth touched a paintbrush on this movie . theres a lot going for it , though . david t plays two roles ! ( i really like him ! ) james m does too . the waterbabies themselves are <b style='color:red'>cute</b> . you feel sorry for tom , and root for him . then billie herself is <b style='color:red'>extraordinary</b> in the multi - role part shes playing - - its as if her eyes are magickal ! im a <b style='color:red'>huge</b> fan of woo , tlw & tw , and company ( and looking forward to hp ! ) , and i filed this along with those <b style='color:red'>kind</b> of movies . <b style='color:red'>yes</b> , he jumps in the water , but not because of suicide . he jumped because he trusted the lady in black - - shed been appearing to him all along . i <b style='color:red'>think</b> its a <b style='color:red'>good</b> movie ! if you have <b style='color:red'>kids</b> , <b style='color:red'>pick</b> up a rental copy . if you happen to locate a buy - able copy , let me know where ! ian liked it ! : ) dee"
      ],
      "text/plain": [
       "<IPython.core.display.HTML object>"
      ]
     },
     "metadata": {},
     "output_type": "display_data"
    },
    {
     "name": "stdout",
     "output_type": "stream",
     "text": [
      "\n",
      "New prediction: 0.490944\n"
     ]
    },
    {
     "data": {
      "text/html": [
       "still doesnt . i <b style='color:blue'>experienced</b> the animation . it wasnt disney , no . i dont think don bluth touched a paintbrush on this movie . theres a lot going for it , though . david t plays two roles ! ( i really like him ! ) james m does too . the waterbabies themselves are <b style='color:blue'>loveable</b> . you feel sorry for tom , and root for him . then billie herself is <b style='color:blue'>extraordinaire</b> in the multi - role part shes playing - - its as if her eyes are magickal ! im a <b style='color:blue'>colossal</b> fan of woo , tlw & tw , and company ( and looking forward to hp ! ) , and i filed this along with those <b style='color:blue'>sorting</b> of movies . <b style='color:blue'>yup</b> , he jumps in the water , but not because of suicide . he jumped because he trusted the lady in black - - shed been appearing to him all along . i <b style='color:blue'>idea</b> its a <b style='color:blue'>allright</b> movie ! if you have <b style='color:blue'>children</b> , <b style='color:blue'>choose</b> up a rental copy . if you happen to locate a buy - able copy , let me know where ! ian liked it ! : ) dee"
      ],
      "text/plain": [
       "<IPython.core.display.HTML object>"
      ]
     },
     "metadata": {},
     "output_type": "display_data"
    },
    {
     "name": "stdout",
     "output_type": "stream",
     "text": [
      "--------------------------------------------------\n",
      "#281   index = 9730\n",
      "ATTACK SUCCEEDED\n",
      "Original prediction: 0.994042\n"
     ]
    },
    {
     "data": {
      "text/html": [
       "was watch it again ( because id missed lots with all the laughing i did ) . im european and ive studied abroad and ive as good as lived with spanish , french , italian and german people . the film was full of stereotypes , which , more often than not , p * * * people off , and reading some of the other reviews i see that it did p * * * people off . but , this film gets the stereotypes so right i cannot fault it . except for maybe the way the french guy became a drunken party animal . the english guy was the perfect geezer stereotype . drunk , annoying , insulting but shines through in the end . as well as the stereotypes the film also got the emotional aspect of studying abroad correct . at first hes shy , doesnt know anybody , misses home , doesnt know his way around . as time progresses it becomes his home and when the time comes to leave , it is extremely difficult . a feeling people can only understand if theyve experienced it . i <b style='color:red'>highly</b> recommend this film ."
      ],
      "text/plain": [
       "<IPython.core.display.HTML object>"
      ]
     },
     "metadata": {},
     "output_type": "display_data"
    },
    {
     "name": "stdout",
     "output_type": "stream",
     "text": [
      "\n",
      "New prediction: 0.372768\n"
     ]
    },
    {
     "data": {
      "text/html": [
       "was watch it again ( because id missed lots with all the laughing i did ) . im european and ive studied abroad and ive as good as lived with spanish , french , italian and german people . the film was full of stereotypes , which , more often than not , p * * * people off , and reading some of the other reviews i see that it did p * * * people off . but , this film gets the stereotypes so right i cannot fault it . except for maybe the way the french guy became a drunken party animal . the english guy was the perfect geezer stereotype . drunk , annoying , insulting but shines through in the end . as well as the stereotypes the film also got the emotional aspect of studying abroad correct . at first hes shy , doesnt know anybody , misses home , doesnt know his way around . as time progresses it becomes his home and when the time comes to leave , it is extremely difficult . a feeling people can only understand if theyve experienced it . i <b style='color:blue'>terribly</b> recommend this film ."
      ],
      "text/plain": [
       "<IPython.core.display.HTML object>"
      ]
     },
     "metadata": {},
     "output_type": "display_data"
    },
    {
     "name": "stdout",
     "output_type": "stream",
     "text": [
      "--------------------------------------------------\n",
      "#282   index = 23577\n",
      "ATTACK FAILED\n",
      "--------------------------------------------------\n",
      "#283   index = 1104\n",
      "ATTACK FAILED\n",
      "--------------------------------------------------\n",
      "#284   index = 13836\n",
      "ATTACK SUCCEEDED\n",
      "Original prediction: 0.028108\n"
     ]
    },
    {
     "data": {
      "text/html": [
       "at that very point , namely his process of <b style='color:red'>recovery</b> , how that would look like and how he would finally face the <b style='color:red'>family</b> hed have some major guilt to admit to . all that , all the <b style='color:red'>really</b> <b style='color:red'>interesting</b> bits are passed over and getting <b style='color:red'>ignored</b> . so while <b style='color:red'>story</b> wise this film is a <b style='color:red'>serious</b> , and i mean <b style='color:red'>serious</b> , <b style='color:red'>disappointment</b> , id still give it points for the <b style='color:red'>impressive</b> cast . although no film should use maguire for a voice over , because that belongs to spiderman . especially a grown up gyllenhaal seems to fulfill all the expectations he <b style='color:red'>aroused</b> as a young and aspiring actor . so much that id in fact love to see him entrusted with a <b style='color:red'>really</b> deep and demanding lead role of <b style='color:red'>proper</b> profile . so <b style='color:red'>while</b> the cast <b style='color:red'>really</b> seems to do what they <b style='color:red'>can</b> , i consider this <b style='color:red'>film</b> <b style='color:red'>totally</b> forgettable otherwise . a shallow and <b style='color:red'>ultimately</b> <b style='color:red'>pretentious</b> , <b style='color:red'>utterly</b> unsatisfying tear squeezer indeed . message du jour to the writers : we know the <b style='color:red'>wounds</b> already , <b style='color:red'>see</b> the host of vietnam <b style='color:red'>films</b> . you want to earn some credit , show us a believable healing ."
      ],
      "text/plain": [
       "<IPython.core.display.HTML object>"
      ]
     },
     "metadata": {},
     "output_type": "display_data"
    },
    {
     "name": "stdout",
     "output_type": "stream",
     "text": [
      "\n",
      "New prediction: 0.506185\n"
     ]
    },
    {
     "data": {
      "text/html": [
       "at that very point , namely his process of <b style='color:blue'>recuperation</b> , how that would look like and how he would finally face the <b style='color:blue'>familial</b> hed have some major guilt to admit to . all that , all the <b style='color:blue'>truly</b> <b style='color:blue'>fascinating</b> bits are passed over and getting <b style='color:blue'>overlooked</b> . so while <b style='color:blue'>tale</b> wise this film is a <b style='color:blue'>extreme</b> , and i mean <b style='color:blue'>grievous</b> , <b style='color:blue'>disenchantment</b> , id still give it points for the <b style='color:blue'>wonderful</b> cast . although no film should use maguire for a voice over , because that belongs to spiderman . especially a grown up gyllenhaal seems to fulfill all the expectations he <b style='color:blue'>sparked</b> as a young and aspiring actor . so much that id in fact love to see him entrusted with a <b style='color:blue'>genuinely</b> deep and demanding lead role of <b style='color:blue'>appropriate</b> profile . so <b style='color:blue'>whilst</b> the cast <b style='color:blue'>genuinely</b> seems to do what they <b style='color:blue'>must</b> , i consider this <b style='color:blue'>movie</b> <b style='color:blue'>entirely</b> forgettable otherwise . a shallow and <b style='color:blue'>eventually</b> <b style='color:blue'>cocky</b> , <b style='color:blue'>diametrically</b> unsatisfying tear squeezer indeed . message du jour to the writers : we know the <b style='color:blue'>injuries</b> already , <b style='color:blue'>behold</b> the host of vietnam <b style='color:blue'>movies</b> . you want to earn some credit , show us a believable healing ."
      ],
      "text/plain": [
       "<IPython.core.display.HTML object>"
      ]
     },
     "metadata": {},
     "output_type": "display_data"
    },
    {
     "name": "stdout",
     "output_type": "stream",
     "text": [
      "--------------------------------------------------\n",
      "#285   index = 21133\n",
      "ATTACK SUCCEEDED\n",
      "Original prediction: 0.064094\n"
     ]
    },
    {
     "data": {
      "text/html": [
       "i was hoping this would be of the calibre of das boot and echo the stark realism created by acclaimed german director leni riefenstahl in her documentaries , sadly i was monumentally disappointed . the story line is <b style='color:red'>implausible</b> and defies credulity . an raf airman is shot down and somehow finds his way to a hospital in dresden . anna a nurse whose father runs the hospital and is about to become engaged to a doctor she works with falls in love with the airman and they make love . the next evening at a lavish engagement party the airman turns up disguised as a german officer and dances with anna . although well directed and acted , to me it is soap opera of the lowest order ."
      ],
      "text/plain": [
       "<IPython.core.display.HTML object>"
      ]
     },
     "metadata": {},
     "output_type": "display_data"
    },
    {
     "name": "stdout",
     "output_type": "stream",
     "text": [
      "\n",
      "New prediction: 0.714909\n"
     ]
    },
    {
     "data": {
      "text/html": [
       "i was hoping this would be of the calibre of das boot and echo the stark realism created by acclaimed german director leni riefenstahl in her documentaries , sadly i was monumentally disappointed . the story line is <b style='color:blue'>incredible</b> and defies credulity . an raf airman is shot down and somehow finds his way to a hospital in dresden . anna a nurse whose father runs the hospital and is about to become engaged to a doctor she works with falls in love with the airman and they make love . the next evening at a lavish engagement party the airman turns up disguised as a german officer and dances with anna . although well directed and acted , to me it is soap opera of the lowest order ."
      ],
      "text/plain": [
       "<IPython.core.display.HTML object>"
      ]
     },
     "metadata": {},
     "output_type": "display_data"
    },
    {
     "name": "stdout",
     "output_type": "stream",
     "text": [
      "--------------------------------------------------\n",
      "#286   index = 11827\n",
      "ATTACK SUCCEEDED\n",
      "Original prediction: 0.982481\n"
     ]
    },
    {
     "data": {
      "text/html": [
       "and has a girlfriend . mcneil has serious attitude . so much hes dripping in it . the precinct is filled with funny , interesting and likable characters besides mcneil . an <b style='color:red'>excellent</b> cast too . all of the episodes in this show are <b style='color:red'>really</b> funny and are addictive . the one liners in this show are everywhere . youll be in stitches after hearing them and still laugh about them a few minutes after and then some . the cases the precinct deals with are something else to stripper nuns , a bathroom hostage situation , and more are over the top . this show was too good . could have grown legs to last many more seasons . the last word : a <b style='color:red'>great</b> , fantastic show . i miss this show dearly . all episodes of this show are great . you get even belly - laughs . . . a <b style='color:red'>lot</b> . abc made a huge mistake by giving this the ax . too bad leary did not revive the show for cable tv . still , i give this show one of my highest of recommendations . <b style='color:red'>truly</b> a one of a kind show ."
      ],
      "text/plain": [
       "<IPython.core.display.HTML object>"
      ]
     },
     "metadata": {},
     "output_type": "display_data"
    },
    {
     "name": "stdout",
     "output_type": "stream",
     "text": [
      "\n",
      "New prediction: 0.392664\n"
     ]
    },
    {
     "data": {
      "text/html": [
       "and has a girlfriend . mcneil has serious attitude . so much hes dripping in it . the precinct is filled with funny , interesting and likable characters besides mcneil . an <b style='color:blue'>grandiose</b> cast too . all of the episodes in this show are <b style='color:blue'>truthfully</b> funny and are addictive . the one liners in this show are everywhere . youll be in stitches after hearing them and still laugh about them a few minutes after and then some . the cases the precinct deals with are something else to stripper nuns , a bathroom hostage situation , and more are over the top . this show was too good . could have grown legs to last many more seasons . the last word : a <b style='color:blue'>super</b> , fantastic show . i miss this show dearly . all episodes of this show are great . you get even belly - laughs . . . a <b style='color:blue'>batch</b> . abc made a huge mistake by giving this the ax . too bad leary did not revive the show for cable tv . still , i give this show one of my highest of recommendations . <b style='color:blue'>truthfully</b> a one of a kind show ."
      ],
      "text/plain": [
       "<IPython.core.display.HTML object>"
      ]
     },
     "metadata": {},
     "output_type": "display_data"
    },
    {
     "name": "stdout",
     "output_type": "stream",
     "text": [
      "--------------------------------------------------\n",
      "#287   index = 7139\n",
      "ATTACK SUCCEEDED\n",
      "Original prediction: 0.987463\n"
     ]
    },
    {
     "data": {
      "text/html": [
       "what was taking place and eager for more information , hoping the lone amateur was going to pull it off against the odds and beat the pros , which makes the <b style='color:red'>shocking</b> twists of the story all the more tragic , i felt like i was living the story . the story is told with <b style='color:red'>great</b> care , and the interviewees have <b style='color:red'>clearly</b> had time to reflect on the tragedy , which gives <b style='color:red'>great</b> insights , but is also contrasted nicely by the archive footage of interviews at the time of the tragedy , the recordings and photographs of the lone sailors is also excellently used , and the insights into the minds of the sailors and how solitude was affecting them was <b style='color:red'>superb</b> . im shocked that this story isnt more widely known or has been turned into a movie , but <b style='color:red'>also</b> thankful . thankful that we have this drama - documentary to tell the tale from those who knew the man , instead of some wishy - washy movie adaptation , and thankful that i caught this gem of a <b style='color:red'>film</b> by <b style='color:red'>pure</b> chance . its a <b style='color:red'>must</b> see , whether you like documentaries or not ."
      ],
      "text/plain": [
       "<IPython.core.display.HTML object>"
      ]
     },
     "metadata": {},
     "output_type": "display_data"
    },
    {
     "name": "stdout",
     "output_type": "stream",
     "text": [
      "\n",
      "New prediction: 0.452184\n"
     ]
    },
    {
     "data": {
      "text/html": [
       "what was taking place and eager for more information , hoping the lone amateur was going to pull it off against the odds and beat the pros , which makes the <b style='color:blue'>dreadful</b> twists of the story all the more tragic , i felt like i was living the story . the story is told with <b style='color:blue'>fanciful</b> care , and the interviewees have <b style='color:blue'>patently</b> had time to reflect on the tragedy , which gives <b style='color:blue'>fanciful</b> insights , but is also contrasted nicely by the archive footage of interviews at the time of the tragedy , the recordings and photographs of the lone sailors is also excellently used , and the insights into the minds of the sailors and how solitude was affecting them was <b style='color:blue'>sterling</b> . im shocked that this story isnt more widely known or has been turned into a movie , but <b style='color:blue'>additionally</b> thankful . thankful that we have this drama - documentary to tell the tale from those who knew the man , instead of some wishy - washy movie adaptation , and thankful that i caught this gem of a <b style='color:blue'>filmmaking</b> by <b style='color:blue'>unadulterated</b> chance . its a <b style='color:blue'>can</b> see , whether you like documentaries or not ."
      ],
      "text/plain": [
       "<IPython.core.display.HTML object>"
      ]
     },
     "metadata": {},
     "output_type": "display_data"
    },
    {
     "name": "stdout",
     "output_type": "stream",
     "text": [
      "--------------------------------------------------\n",
      "#288   index = 16461\n",
      "ATTACK FAILED\n",
      "--------------------------------------------------\n",
      "#289   index = 976\n",
      "ATTACK SUCCEEDED\n",
      "Original prediction: 0.978989\n"
     ]
    },
    {
     "data": {
      "text/html": [
       "ive been writing hardboiled <b style='color:red'>crime</b> fiction for a number of years now . when a writer develops a story he always has a character / actor in mind to bring the story to life . last weekend i found a new one in paul vario playing uncle benny in eddie monroe . this was a slick film highlighted by varios presence both on and off the screen ( as his voice - over narration is also heard ) . i also <b style='color:red'>especially</b> liked the actress playing bennys niece and eddies ex - wife , although everyone did a fine job in this <b style='color:red'>exciting</b> <b style='color:red'>movie</b> about playing with <b style='color:red'>bad</b> guys and the double - crossing that <b style='color:red'>goes</b> with it . a <b style='color:red'>nice</b> job all around . . . and mr . vario shined brightest . hes gotta be my tony gangi someday . . ."
      ],
      "text/plain": [
       "<IPython.core.display.HTML object>"
      ]
     },
     "metadata": {},
     "output_type": "display_data"
    },
    {
     "name": "stdout",
     "output_type": "stream",
     "text": [
      "\n",
      "New prediction: 0.453165\n"
     ]
    },
    {
     "data": {
      "text/html": [
       "ive been writing hardboiled <b style='color:blue'>offence</b> fiction for a number of years now . when a writer develops a story he always has a character / actor in mind to bring the story to life . last weekend i found a new one in paul vario playing uncle benny in eddie monroe . this was a slick film highlighted by varios presence both on and off the screen ( as his voice - over narration is also heard ) . i also <b style='color:blue'>specifically</b> liked the actress playing bennys niece and eddies ex - wife , although everyone did a fine job in this <b style='color:blue'>intriguing</b> <b style='color:blue'>filmmaking</b> about playing with <b style='color:blue'>lousy</b> guys and the double - crossing that <b style='color:blue'>disappears</b> with it . a <b style='color:blue'>good</b> job all around . . . and mr . vario shined brightest . hes gotta be my tony gangi someday . . ."
      ],
      "text/plain": [
       "<IPython.core.display.HTML object>"
      ]
     },
     "metadata": {},
     "output_type": "display_data"
    },
    {
     "name": "stdout",
     "output_type": "stream",
     "text": [
      "--------------------------------------------------\n",
      "#290   index = 11654\n",
      "ATTACK SUCCEEDED\n",
      "Original prediction: 0.988804\n"
     ]
    },
    {
     "data": {
      "text/html": [
       "a <b style='color:red'>delightful</b> story about <b style='color:red'>two</b> evacuees , has been turned into a <b style='color:red'>nice</b> little film , by the bbc . most children who like a <b style='color:red'>good</b> story will <b style='color:red'>enjoy</b> this . the characters are played <b style='color:red'>really</b> well by a very <b style='color:red'>good</b> <b style='color:red'>cast</b> . not sure whether our american friends will <b style='color:red'>appreciate</b> it , but they do get a mention , as aunty lou runs off with a <b style='color:red'>gorgeous</b> american soldier ."
      ],
      "text/plain": [
       "<IPython.core.display.HTML object>"
      ]
     },
     "metadata": {},
     "output_type": "display_data"
    },
    {
     "name": "stdout",
     "output_type": "stream",
     "text": [
      "\n",
      "New prediction: 0.487557\n"
     ]
    },
    {
     "data": {
      "text/html": [
       "a <b style='color:blue'>grandiose</b> story about <b style='color:blue'>six</b> evacuees , has been turned into a <b style='color:blue'>good</b> little film , by the bbc . most children who like a <b style='color:blue'>allright</b> story will <b style='color:blue'>experience</b> this . the characters are played <b style='color:blue'>truthfully</b> well by a very <b style='color:blue'>decent</b> <b style='color:blue'>casting</b> . not sure whether our american friends will <b style='color:blue'>appreciative</b> it , but they do get a mention , as aunty lou runs off with a <b style='color:blue'>grandiose</b> american soldier ."
      ],
      "text/plain": [
       "<IPython.core.display.HTML object>"
      ]
     },
     "metadata": {},
     "output_type": "display_data"
    },
    {
     "name": "stdout",
     "output_type": "stream",
     "text": [
      "--------------------------------------------------\n",
      "#291   index = 5374\n",
      "ATTACK FAILED\n",
      "--------------------------------------------------\n",
      "#292   index = 2301\n",
      "ATTACK SUCCEEDED\n",
      "Original prediction: 0.991884\n"
     ]
    },
    {
     "data": {
      "text/html": [
       "1997 , this is one of the <b style='color:red'>best</b> movies i have seen and really the film that judith light has starred in to make me a <b style='color:red'>huge</b> fan of hers . this movie , although sometimes you want to rattle the son for trusting her so much , is <b style='color:red'>incredibly</b> moving . i cry at the end every time and it takes much to do that to me ! the plot doesnt have much to it but the acting provided by judith light is <b style='color:red'>incredible</b> . she looks <b style='color:red'>beautiful</b> the whole time and by the end , you dont want the fate imposed by the courts to happen to her . overall , a movie worth my highest <b style='color:red'>praise</b> ! thank you for making it and redefining my view on the death penalty . i eagerly await this movie to come out on dvd or some other form of media since lifetime is starting to issue some movies to customers . although i dont have high hopes for this one because this took place almost 9 years ago , which is still hard to believe , since this <b style='color:red'>movie</b> is still ingrained into my head after all this time ."
      ],
      "text/plain": [
       "<IPython.core.display.HTML object>"
      ]
     },
     "metadata": {},
     "output_type": "display_data"
    },
    {
     "name": "stdout",
     "output_type": "stream",
     "text": [
      "\n",
      "New prediction: 0.494922\n"
     ]
    },
    {
     "data": {
      "text/html": [
       "1997 , this is one of the <b style='color:blue'>nicest</b> movies i have seen and really the film that judith light has starred in to make me a <b style='color:blue'>colossal</b> fan of hers . this movie , although sometimes you want to rattle the son for trusting her so much , is <b style='color:blue'>terribly</b> moving . i cry at the end every time and it takes much to do that to me ! the plot doesnt have much to it but the acting provided by judith light is <b style='color:blue'>staggering</b> . she looks <b style='color:blue'>fanciful</b> the whole time and by the end , you dont want the fate imposed by the courts to happen to her . overall , a movie worth my highest <b style='color:blue'>laud</b> ! thank you for making it and redefining my view on the death penalty . i eagerly await this movie to come out on dvd or some other form of media since lifetime is starting to issue some movies to customers . although i dont have high hopes for this one because this took place almost 9 years ago , which is still hard to believe , since this <b style='color:blue'>filmmaking</b> is still ingrained into my head after all this time ."
      ],
      "text/plain": [
       "<IPython.core.display.HTML object>"
      ]
     },
     "metadata": {},
     "output_type": "display_data"
    },
    {
     "name": "stdout",
     "output_type": "stream",
     "text": [
      "--------------------------------------------------\n",
      "#293   index = 6654\n",
      "ATTACK SUCCEEDED\n",
      "Original prediction: 0.998535\n"
     ]
    },
    {
     "data": {
      "text/html": [
       "i just want to comment to the woman above , that the movie does credit beethoven in the begging . in the beginning credits they show it . thank you . i think this is an <b style='color:red'>amazing</b> movie . they picked just the right music for the mood of the movie , the animation is <b style='color:red'>wonderful</b> , and they picked the voices for the characters very well . it teaches children to never give up , and to always have hope . princess annika doesnt give up , and it shows children that they can do the same . the movie also has humor in in for all ages , parents and children , to laugh at . the colors in this movie are <b style='color:red'>great</b> , and kids can really feel good while they are watching it . i watched this movie for the first time , now i am a huge fan , and im sure your child will be too . walmart sells tons of barbie and the magic of pegasus stuff , so your child can continue to enjoy the movie even when they arent watching it . thank you !"
      ],
      "text/plain": [
       "<IPython.core.display.HTML object>"
      ]
     },
     "metadata": {},
     "output_type": "display_data"
    },
    {
     "name": "stdout",
     "output_type": "stream",
     "text": [
      "\n",
      "New prediction: 0.451210\n"
     ]
    },
    {
     "data": {
      "text/html": [
       "i just want to comment to the woman above , that the movie does credit beethoven in the begging . in the beginning credits they show it . thank you . i think this is an <b style='color:blue'>staggering</b> movie . they picked just the right music for the mood of the movie , the animation is <b style='color:blue'>grandiose</b> , and they picked the voices for the characters very well . it teaches children to never give up , and to always have hope . princess annika doesnt give up , and it shows children that they can do the same . the movie also has humor in in for all ages , parents and children , to laugh at . the colors in this movie are <b style='color:blue'>grandiose</b> , and kids can really feel good while they are watching it . i watched this movie for the first time , now i am a huge fan , and im sure your child will be too . walmart sells tons of barbie and the magic of pegasus stuff , so your child can continue to enjoy the movie even when they arent watching it . thank you !"
      ],
      "text/plain": [
       "<IPython.core.display.HTML object>"
      ]
     },
     "metadata": {},
     "output_type": "display_data"
    },
    {
     "name": "stdout",
     "output_type": "stream",
     "text": [
      "--------------------------------------------------\n",
      "#294   index = 22256\n",
      "ATTACK SUCCEEDED\n",
      "Original prediction: 0.090840\n"
     ]
    },
    {
     "data": {
      "text/html": [
       "this is one of the dumbest <b style='color:red'>ideas</b> for a <b style='color:red'>movie</b> . remake a classic film shot - by - shot . i hope nobody tries this technique again . in 1998 , <b style='color:red'>good</b> will hunting director gus van sant <b style='color:red'>tried</b> it by remaking hitchcocks 1960 classic psycho and failed miserably . what on earth was van sant thinking of ? this remake doesnt even come <b style='color:red'>close</b> to topping the original . the few changes that were made here were no help . if you <b style='color:red'>want</b> to <b style='color:red'>see</b> psycho , the choice is <b style='color:red'>obvious</b> . <b style='color:red'>see</b> the original . * ( out of <b style='color:red'>four</b> )"
      ],
      "text/plain": [
       "<IPython.core.display.HTML object>"
      ]
     },
     "metadata": {},
     "output_type": "display_data"
    },
    {
     "name": "stdout",
     "output_type": "stream",
     "text": [
      "\n",
      "New prediction: 0.504573\n"
     ]
    },
    {
     "data": {
      "text/html": [
       "this is one of the dumbest <b style='color:blue'>thoughts</b> for a <b style='color:blue'>filmmaking</b> . remake a classic film shot - by - shot . i hope nobody tries this technique again . in 1998 , <b style='color:blue'>exemplary</b> will hunting director gus van sant <b style='color:blue'>endeavored</b> it by remaking hitchcocks 1960 classic psycho and failed miserably . what on earth was van sant thinking of ? this remake doesnt even come <b style='color:blue'>near</b> to topping the original . the few changes that were made here were no help . if you <b style='color:blue'>wanna</b> to <b style='color:blue'>behold</b> psycho , the choice is <b style='color:blue'>noticeable</b> . <b style='color:blue'>behold</b> the original . * ( out of <b style='color:blue'>nine</b> )"
      ],
      "text/plain": [
       "<IPython.core.display.HTML object>"
      ]
     },
     "metadata": {},
     "output_type": "display_data"
    },
    {
     "name": "stdout",
     "output_type": "stream",
     "text": [
      "--------------------------------------------------\n",
      "#295   index = 10620\n",
      "ATTACK SUCCEEDED\n",
      "Original prediction: 0.988338\n"
     ]
    },
    {
     "data": {
      "text/html": [
       "i <b style='color:red'>loved</b> this film . it was so <b style='color:red'>intelligent</b> but it also had some great action sequences , without basing the movie solely around them . quinn , sutherland and kingsley all put in <b style='color:red'>fantastic</b> performances and there are enough twists to keep anyone interested . the ending was <b style='color:red'>great</b> as well ."
      ],
      "text/plain": [
       "<IPython.core.display.HTML object>"
      ]
     },
     "metadata": {},
     "output_type": "display_data"
    },
    {
     "name": "stdout",
     "output_type": "stream",
     "text": [
      "\n",
      "New prediction: 0.436070\n"
     ]
    },
    {
     "data": {
      "text/html": [
       "i <b style='color:blue'>adored</b> this film . it was so <b style='color:blue'>brainy</b> but it also had some great action sequences , without basing the movie solely around them . quinn , sutherland and kingsley all put in <b style='color:blue'>fanciful</b> performances and there are enough twists to keep anyone interested . the ending was <b style='color:blue'>grandiose</b> as well ."
      ],
      "text/plain": [
       "<IPython.core.display.HTML object>"
      ]
     },
     "metadata": {},
     "output_type": "display_data"
    },
    {
     "name": "stdout",
     "output_type": "stream",
     "text": [
      "--------------------------------------------------\n",
      "#296   index = 20892\n",
      "ATTACK SUCCEEDED\n",
      "Original prediction: 0.013158\n"
     ]
    },
    {
     "data": {
      "text/html": [
       "well with the movie , it seems as if someone just turned a cd player on in the background to put the actors in the mood . the acting . . . well , what acting ? the only people acting are jürgen prochnow and donald sutherland , even though prochnow seems uncomfortable in this role . as far as the relationship development goes between erik westermark ( jürgen prochnow ) and julia reuter ( greta scacchi ) , it is like watching a train wreck . there is <b style='color:red'>absolutely</b> no chemistry and it is painful to witness their <b style='color:red'>sincere</b> moments . this is not a <b style='color:red'>good</b> movie . there is a difference between trying to get a message out ( couldve been a documentary ! ) and trying to make a <b style='color:red'>good</b> movie . this is a failure and anyone here who says otherwise makes me wonder if they are trying to promote it . as a matter of fact , as a native of estonia i am offended by this <b style='color:red'>miserable</b> effort . this tragedy deserves more than just a homemade low - budget ghost chase excuse of a movie . this <b style='color:red'>could</b> have been much more !"
      ],
      "text/plain": [
       "<IPython.core.display.HTML object>"
      ]
     },
     "metadata": {},
     "output_type": "display_data"
    },
    {
     "name": "stdout",
     "output_type": "stream",
     "text": [
      "\n",
      "New prediction: 0.541796\n"
     ]
    },
    {
     "data": {
      "text/html": [
       "well with the movie , it seems as if someone just turned a cd player on in the background to put the actors in the mood . the acting . . . well , what acting ? the only people acting are jürgen prochnow and donald sutherland , even though prochnow seems uncomfortable in this role . as far as the relationship development goes between erik westermark ( jürgen prochnow ) and julia reuter ( greta scacchi ) , it is like watching a train wreck . there is <b style='color:blue'>clearly</b> no chemistry and it is painful to witness their <b style='color:blue'>heartfelt</b> moments . this is not a <b style='color:blue'>exemplary</b> movie . there is a difference between trying to get a message out ( couldve been a documentary ! ) and trying to make a <b style='color:blue'>exemplary</b> movie . this is a failure and anyone here who says otherwise makes me wonder if they are trying to promote it . as a matter of fact , as a native of estonia i am offended by this <b style='color:blue'>pitiable</b> effort . this tragedy deserves more than just a homemade low - budget ghost chase excuse of a movie . this <b style='color:blue'>can</b> have been much more !"
      ],
      "text/plain": [
       "<IPython.core.display.HTML object>"
      ]
     },
     "metadata": {},
     "output_type": "display_data"
    },
    {
     "name": "stdout",
     "output_type": "stream",
     "text": [
      "--------------------------------------------------\n",
      "#297   index = 6057\n",
      "ATTACK SUCCEEDED\n",
      "Original prediction: 0.981652\n"
     ]
    },
    {
     "data": {
      "text/html": [
       "how is bear´s paw , elephant´s trunk or monkey´s brain for dinner ? let tsui hark tell you in this <b style='color:red'>wonderful</b> and lighthearted comedy about the art of cooking the <b style='color:red'>traditional</b> ( ? ) chinese <b style='color:red'>way</b> . this movie shares the common structure of an american sports movie , but instead of <b style='color:red'>focusing</b> on baseball it <b style='color:red'>centers</b> around <b style='color:red'>cooking</b> which makes it all the more interesting . i even <b style='color:red'>think</b> leslie cheung´s character look a <b style='color:red'>lot</b> like charlie sheen in <b style='color:red'>major</b> league . . . this <b style='color:red'>movie</b> also <b style='color:red'>contains</b> a <b style='color:red'>bit</b> of zhao wen zhao vs xiong xin xin fighting ( love seeing more of that after the blade ) and a quite funny in - joke concerning a leon lai pop song . . . <b style='color:red'>perhaps</b> not the ideal movie for the strict vegetarian though ."
      ],
      "text/plain": [
       "<IPython.core.display.HTML object>"
      ]
     },
     "metadata": {},
     "output_type": "display_data"
    },
    {
     "name": "stdout",
     "output_type": "stream",
     "text": [
      "\n",
      "New prediction: 0.499054\n"
     ]
    },
    {
     "data": {
      "text/html": [
       "how is bear´s paw , elephant´s trunk or monkey´s brain for dinner ? let tsui hark tell you in this <b style='color:blue'>fanciful</b> and lighthearted comedy about the art of cooking the <b style='color:blue'>conventional</b> ( ? ) chinese <b style='color:blue'>road</b> . this movie shares the common structure of an american sports movie , but instead of <b style='color:blue'>concentrating</b> on baseball it <b style='color:blue'>facilities</b> around <b style='color:blue'>cookery</b> which makes it all the more interesting . i even <b style='color:blue'>idea</b> leslie cheung´s character look a <b style='color:blue'>batch</b> like charlie sheen in <b style='color:blue'>principal</b> league . . . this <b style='color:blue'>filmmaking</b> also <b style='color:blue'>consists</b> a <b style='color:blue'>bitten</b> of zhao wen zhao vs xiong xin xin fighting ( love seeing more of that after the blade ) and a quite funny in - joke concerning a leon lai pop song . . . <b style='color:blue'>maybe</b> not the ideal movie for the strict vegetarian though ."
      ],
      "text/plain": [
       "<IPython.core.display.HTML object>"
      ]
     },
     "metadata": {},
     "output_type": "display_data"
    },
    {
     "name": "stdout",
     "output_type": "stream",
     "text": [
      "--------------------------------------------------\n",
      "#298   index = 12063\n",
      "ATTACK SUCCEEDED\n",
      "Original prediction: 0.978199\n"
     ]
    },
    {
     "data": {
      "text/html": [
       "long as no one <b style='color:red'>gets</b> <b style='color:red'>hurt</b> he would be in . the <b style='color:red'>last</b> night ty was <b style='color:red'>forced</b> to talk to a welfare lady about putting up his brother in foster care giving him a dilemma to lose what matters most in his life . although the plan sounds <b style='color:red'>safe</b> at first , greed isnt everything when it comes to taking lives . when it comes to heists , your either in or your out , so when you dont go with a plan its <b style='color:red'>hard</b> to play the hero and stop greed driven people when it comes to having large sums of money . this movie comes with a star studded <b style='color:red'>cast</b> to keep you interested starring jean reno , laurence fishburne , amaury nolasco , fred ward , skeet ulrich , and milo ventimiglia . short i have recently only remembered him in stomp the yard which was <b style='color:red'>about</b> a <b style='color:red'>kid</b> who lost his brother and lives his dream to go to college . this was <b style='color:red'>probably</b> one of his best <b style='color:red'>movies</b> i <b style='color:red'>have</b> seen him in and this one he fits the <b style='color:red'>character</b> so well its <b style='color:red'>great</b> to see him on the big screen again in action ."
      ],
      "text/plain": [
       "<IPython.core.display.HTML object>"
      ]
     },
     "metadata": {},
     "output_type": "display_data"
    },
    {
     "name": "stdout",
     "output_type": "stream",
     "text": [
      "\n",
      "New prediction: 0.492458\n"
     ]
    },
    {
     "data": {
      "text/html": [
       "long as no one <b style='color:blue'>attains</b> <b style='color:blue'>defaced</b> he would be in . the <b style='color:blue'>final</b> night ty was <b style='color:blue'>coerced</b> to talk to a welfare lady about putting up his brother in foster care giving him a dilemma to lose what matters most in his life . although the plan sounds <b style='color:blue'>secure</b> at first , greed isnt everything when it comes to taking lives . when it comes to heists , your either in or your out , so when you dont go with a plan its <b style='color:blue'>arduous</b> to play the hero and stop greed driven people when it comes to having large sums of money . this movie comes with a star studded <b style='color:blue'>casting</b> to keep you interested starring jean reno , laurence fishburne , amaury nolasco , fred ward , skeet ulrich , and milo ventimiglia . short i have recently only remembered him in stomp the yard which was <b style='color:blue'>approximately</b> a <b style='color:blue'>enfant</b> who lost his brother and lives his dream to go to college . this was <b style='color:blue'>presumably</b> one of his best <b style='color:blue'>films</b> i <b style='color:blue'>ha</b> seen him in and this one he fits the <b style='color:blue'>nature</b> so well its <b style='color:blue'>handsome</b> to see him on the big screen again in action ."
      ],
      "text/plain": [
       "<IPython.core.display.HTML object>"
      ]
     },
     "metadata": {},
     "output_type": "display_data"
    },
    {
     "name": "stdout",
     "output_type": "stream",
     "text": [
      "--------------------------------------------------\n",
      "#299   index = 2928\n",
      "ATTACK SUCCEEDED\n",
      "Original prediction: 0.971709\n"
     ]
    },
    {
     "data": {
      "text/html": [
       "like most other reviewers , i <b style='color:red'>really</b> enjoyed this tv miniseries . i didnt see it when it first came out , but my grandfather - a big fan of mysteries and war films - happened to record it in 1989 . i remember watching it at my grandparents cabin one night and i was <b style='color:red'>completely</b> drawn into the story ! it has a very intriguing plot and a <b style='color:red'>good</b> <b style='color:red'>mix</b> of drama , romance , and espionage . ive seen <b style='color:red'>lots</b> of films that are set during wwii , but none with a twist like this ! thankfully , i was able to make a vhs copy of the film several years ago . ive watched it several times since then and i still <b style='color:red'>enjoy</b> it . i would love for this <b style='color:red'>film</b> to be released on dvd . it would be so much easier to view with <b style='color:red'>chapters</b> ."
      ],
      "text/plain": [
       "<IPython.core.display.HTML object>"
      ]
     },
     "metadata": {},
     "output_type": "display_data"
    },
    {
     "name": "stdout",
     "output_type": "stream",
     "text": [
      "\n",
      "New prediction: 0.455545\n"
     ]
    },
    {
     "data": {
      "text/html": [
       "like most other reviewers , i <b style='color:blue'>truthfully</b> enjoyed this tv miniseries . i didnt see it when it first came out , but my grandfather - a big fan of mysteries and war films - happened to record it in 1989 . i remember watching it at my grandparents cabin one night and i was <b style='color:blue'>utterly</b> drawn into the story ! it has a very intriguing plot and a <b style='color:blue'>allright</b> <b style='color:blue'>melange</b> of drama , romance , and espionage . ive seen <b style='color:blue'>batches</b> of films that are set during wwii , but none with a twist like this ! thankfully , i was able to make a vhs copy of the film several years ago . ive watched it several times since then and i still <b style='color:blue'>experience</b> it . i would love for this <b style='color:blue'>filmmaking</b> to be released on dvd . it would be so much easier to view with <b style='color:blue'>sections</b> ."
      ],
      "text/plain": [
       "<IPython.core.display.HTML object>"
      ]
     },
     "metadata": {},
     "output_type": "display_data"
    },
    {
     "name": "stdout",
     "output_type": "stream",
     "text": [
      "--------------------------------------------------\n",
      "#300   index = 10082\n",
      "ATTACK SUCCEEDED\n",
      "Original prediction: 0.975343\n"
     ]
    },
    {
     "data": {
      "text/html": [
       "aside from the fact that the women in the film are <b style='color:red'>stunningly</b> beautiful and all the camp prisoners are too fat , this film rings true on the chaos of the post - war . beautiful photography , and a powerful national expression of the polish national character . its very slow at points , but its entire pacing is so different from american and western european films that its quite <b style='color:red'>refreshing</b> . both lead actors do a very <b style='color:red'>good</b> job . on the dvd version , you can see interviews with the principal actors and crew , and the lead actress stanislawa celinska has gained about 50 lbs and lost all of her beauty . but in 1970 , she was a stunner ."
      ],
      "text/plain": [
       "<IPython.core.display.HTML object>"
      ]
     },
     "metadata": {},
     "output_type": "display_data"
    },
    {
     "name": "stdout",
     "output_type": "stream",
     "text": [
      "\n",
      "New prediction: 0.196635\n"
     ]
    },
    {
     "data": {
      "text/html": [
       "aside from the fact that the women in the film are <b style='color:blue'>appallingly</b> beautiful and all the camp prisoners are too fat , this film rings true on the chaos of the post - war . beautiful photography , and a powerful national expression of the polish national character . its very slow at points , but its entire pacing is so different from american and western european films that its quite <b style='color:blue'>freshen</b> . both lead actors do a very <b style='color:blue'>allright</b> job . on the dvd version , you can see interviews with the principal actors and crew , and the lead actress stanislawa celinska has gained about 50 lbs and lost all of her beauty . but in 1970 , she was a stunner ."
      ],
      "text/plain": [
       "<IPython.core.display.HTML object>"
      ]
     },
     "metadata": {},
     "output_type": "display_data"
    },
    {
     "name": "stdout",
     "output_type": "stream",
     "text": [
      "--------------------------------------------------\n",
      "#301   index = 8680\n",
      "ATTACK SUCCEEDED\n",
      "Original prediction: 0.902970\n"
     ]
    },
    {
     "data": {
      "text/html": [
       "stars / director . however , the grit and grime of europe ( through the drugworld ) perfectly compliments the impending sense of danger , which permeates throughout this film . the problems , such as getting addicts off of drugs by giving them more , poor anti - drug campaigning , and the resistance of foreign governments to assist with destroying their drug cultivators from within , all make traffik bold , immersive , and <b style='color:red'>horrific</b> all at the same time ! the truly <b style='color:red'>incredible</b> portions of the movie all come from pakistan . my god , i never knew how <b style='color:red'>bad</b> the problem really was over in europe . . . even all over ! for a real education on the problems of drugs , beyond how they affect the human body you must watch both this and the american version . each show one very clear and undeniable fact . those countries , which are leaders in the eyes of the world , have a culture that has led to the death and suffering for many . drugs are worse than war . they work in the shadows , the dark secrets of any successful society ."
      ],
      "text/plain": [
       "<IPython.core.display.HTML object>"
      ]
     },
     "metadata": {},
     "output_type": "display_data"
    },
    {
     "name": "stdout",
     "output_type": "stream",
     "text": [
      "\n",
      "New prediction: 0.388883\n"
     ]
    },
    {
     "data": {
      "text/html": [
       "stars / director . however , the grit and grime of europe ( through the drugworld ) perfectly compliments the impending sense of danger , which permeates throughout this film . the problems , such as getting addicts off of drugs by giving them more , poor anti - drug campaigning , and the resistance of foreign governments to assist with destroying their drug cultivators from within , all make traffik bold , immersive , and <b style='color:blue'>horrible</b> all at the same time ! the truly <b style='color:blue'>staggering</b> portions of the movie all come from pakistan . my god , i never knew how <b style='color:blue'>lousy</b> the problem really was over in europe . . . even all over ! for a real education on the problems of drugs , beyond how they affect the human body you must watch both this and the american version . each show one very clear and undeniable fact . those countries , which are leaders in the eyes of the world , have a culture that has led to the death and suffering for many . drugs are worse than war . they work in the shadows , the dark secrets of any successful society ."
      ],
      "text/plain": [
       "<IPython.core.display.HTML object>"
      ]
     },
     "metadata": {},
     "output_type": "display_data"
    },
    {
     "name": "stdout",
     "output_type": "stream",
     "text": [
      "--------------------------------------------------\n",
      "#302   index = 15551\n",
      "ATTACK FAILED\n",
      "--------------------------------------------------\n",
      "#303   index = 11610\n",
      "ATTACK SUCCEEDED\n",
      "Original prediction: 0.985943\n"
     ]
    },
    {
     "data": {
      "text/html": [
       "a very <b style='color:red'>positive</b> message for our youth is shown in this movie . through the sport of rugby as a mean , a high school rugby coach leads his players in their behavior and lifestyle , on and off the field . the acting and directing are <b style='color:red'>good</b> . the rugby shots are just <b style='color:red'>ok</b> if you know some rugby or really cool if dont know much about it . i recommend this movie , worth watching , especially at a point in time when this sport is <b style='color:red'>gaining</b> more and more adepts every day . the plot is based on a true story taking place in utah . the coach portrayed in this movie has been at the helm of the highlanders for over 30 years ( and loosing only game every 3 years ) . enjoy !"
      ],
      "text/plain": [
       "<IPython.core.display.HTML object>"
      ]
     },
     "metadata": {},
     "output_type": "display_data"
    },
    {
     "name": "stdout",
     "output_type": "stream",
     "text": [
      "\n",
      "New prediction: 0.392784\n"
     ]
    },
    {
     "data": {
      "text/html": [
       "a very <b style='color:blue'>favorable</b> message for our youth is shown in this movie . through the sport of rugby as a mean , a high school rugby coach leads his players in their behavior and lifestyle , on and off the field . the acting and directing are <b style='color:blue'>allright</b> . the rugby shots are just <b style='color:blue'>okay</b> if you know some rugby or really cool if dont know much about it . i recommend this movie , worth watching , especially at a point in time when this sport is <b style='color:blue'>obtaining</b> more and more adepts every day . the plot is based on a true story taking place in utah . the coach portrayed in this movie has been at the helm of the highlanders for over 30 years ( and loosing only game every 3 years ) . enjoy !"
      ],
      "text/plain": [
       "<IPython.core.display.HTML object>"
      ]
     },
     "metadata": {},
     "output_type": "display_data"
    },
    {
     "name": "stdout",
     "output_type": "stream",
     "text": [
      "--------------------------------------------------\n",
      "#304   index = 18809\n",
      "ATTACK FAILED\n",
      "--------------------------------------------------\n",
      "#305   index = 23416\n",
      "ATTACK FAILED\n",
      "--------------------------------------------------\n",
      "#306   index = 19297\n",
      "ATTACK SUCCEEDED\n",
      "Original prediction: 0.042174\n"
     ]
    },
    {
     "data": {
      "text/html": [
       "low budget horror movie . if you dont raise your expectations too high , youll probably enjoy this little flick . beginning and end are pretty <b style='color:red'>good</b> , middle drags at times and seems to go nowhere for long periods as we watch the goings on of the insane that add atmosphere but do not advance the plot . quite a bit of gore . i enjoyed bill mcghees performance which he made quite believable for such a low budget picture , he managed to carry the movie at times when nothing much seemed to be happening . nurse charlotte beale , played by jesse lee , played her character well so be prepared to want to slap her toward the end ! she makes some <b style='color:red'>really</b> <b style='color:red'>stupid</b> mistakes but then , thats what makes these low budget movies so <b style='color:red'>good</b> ! i would have been out of that place and five states away long before she even considered that it might be a good idea to leave ! if you enjoy this movie , try committed from 1988 which is <b style='color:red'>basically</b> a rip off of this movie ."
      ],
      "text/plain": [
       "<IPython.core.display.HTML object>"
      ]
     },
     "metadata": {},
     "output_type": "display_data"
    },
    {
     "name": "stdout",
     "output_type": "stream",
     "text": [
      "\n",
      "New prediction: 0.512245\n"
     ]
    },
    {
     "data": {
      "text/html": [
       "low budget horror movie . if you dont raise your expectations too high , youll probably enjoy this little flick . beginning and end are pretty <b style='color:blue'>exemplary</b> , middle drags at times and seems to go nowhere for long periods as we watch the goings on of the insane that add atmosphere but do not advance the plot . quite a bit of gore . i enjoyed bill mcghees performance which he made quite believable for such a low budget picture , he managed to carry the movie at times when nothing much seemed to be happening . nurse charlotte beale , played by jesse lee , played her character well so be prepared to want to slap her toward the end ! she makes some <b style='color:blue'>genuinely</b> <b style='color:blue'>dolt</b> mistakes but then , thats what makes these low budget movies so <b style='color:blue'>exemplary</b> ! i would have been out of that place and five states away long before she even considered that it might be a good idea to leave ! if you enjoy this movie , try committed from 1988 which is <b style='color:blue'>fundamentally</b> a rip off of this movie ."
      ],
      "text/plain": [
       "<IPython.core.display.HTML object>"
      ]
     },
     "metadata": {},
     "output_type": "display_data"
    },
    {
     "name": "stdout",
     "output_type": "stream",
     "text": [
      "--------------------------------------------------\n",
      "#307   index = 24690\n",
      "ATTACK SUCCEEDED\n",
      "Original prediction: 0.008753\n"
     ]
    },
    {
     "data": {
      "text/html": [
       "there is only way to describe this movie . so <b style='color:red'>bad</b> its hilarious . the acting is so <b style='color:red'>bad</b> i laughed my ass off throughout . the male lead in this movie trying to use a gun is so ridiculous you would think he was trying to copy a toy action figure , i know this sounds ridiculous but when you see it for yourself you cant help but agree . the monster looks like a cgi guy trying to recreate the clay monsters you get in old sinbad movies . in short this movie is good for only one thing a really large laugh at how <b style='color:red'>bad</b> movies can get . if you want to see bad acting bad script and <b style='color:red'>special</b> effects gone wrongthis is the movie for you"
      ],
      "text/plain": [
       "<IPython.core.display.HTML object>"
      ]
     },
     "metadata": {},
     "output_type": "display_data"
    },
    {
     "name": "stdout",
     "output_type": "stream",
     "text": [
      "\n",
      "New prediction: 0.511542\n"
     ]
    },
    {
     "data": {
      "text/html": [
       "there is only way to describe this movie . so <b style='color:blue'>naughty</b> its hilarious . the acting is so <b style='color:blue'>wicked</b> i laughed my ass off throughout . the male lead in this movie trying to use a gun is so ridiculous you would think he was trying to copy a toy action figure , i know this sounds ridiculous but when you see it for yourself you cant help but agree . the monster looks like a cgi guy trying to recreate the clay monsters you get in old sinbad movies . in short this movie is good for only one thing a really large laugh at how <b style='color:blue'>wicked</b> movies can get . if you want to see bad acting bad script and <b style='color:blue'>exceptional</b> effects gone wrongthis is the movie for you"
      ],
      "text/plain": [
       "<IPython.core.display.HTML object>"
      ]
     },
     "metadata": {},
     "output_type": "display_data"
    },
    {
     "name": "stdout",
     "output_type": "stream",
     "text": [
      "--------------------------------------------------\n",
      "#308   index = 875\n",
      "ATTACK FAILED\n",
      "--------------------------------------------------\n",
      "#309   index = 2840\n",
      "ATTACK SUCCEEDED\n",
      "Original prediction: 0.996691\n"
     ]
    },
    {
     "data": {
      "text/html": [
       "george c . scott gives his <b style='color:red'>finest</b> and funniest with <b style='color:red'>wonderful</b> drama as well in this paddy chayefsky screenplay . diana rigg is attractive and quite the <b style='color:red'>complicated</b> young woman . this film veers between tragedy and chaos in a new york hospital of the late 60s with staggering <b style='color:red'>consequences</b> . barnard hughes is <b style='color:red'>delightful</b> as always ( great stage actor as well ) . an 8 out of 10 . best performance = george c . scott . chayesfsky was a big blow - hard when he put down vanessa redgrave at the 1978 oscar ceremony , but hes a good writer . a <b style='color:red'>truly</b> ensemble cast that works wonders , down to the <b style='color:red'>smallest</b> role . this <b style='color:red'>won</b> best script at oscars and scott was nominated . he should have won for this instead of patton the year before ( which he was also <b style='color:red'>brilliant</b> in ) . seek this out !"
      ],
      "text/plain": [
       "<IPython.core.display.HTML object>"
      ]
     },
     "metadata": {},
     "output_type": "display_data"
    },
    {
     "name": "stdout",
     "output_type": "stream",
     "text": [
      "\n",
      "New prediction: 0.372917\n"
     ]
    },
    {
     "data": {
      "text/html": [
       "george c . scott gives his <b style='color:blue'>nicest</b> and funniest with <b style='color:blue'>fanciful</b> drama as well in this paddy chayefsky screenplay . diana rigg is attractive and quite the <b style='color:blue'>convoluted</b> young woman . this film veers between tragedy and chaos in a new york hospital of the late 60s with staggering <b style='color:blue'>effects</b> . barnard hughes is <b style='color:blue'>grandiose</b> as always ( great stage actor as well ) . an 8 out of 10 . best performance = george c . scott . chayesfsky was a big blow - hard when he put down vanessa redgrave at the 1978 oscar ceremony , but hes a good writer . a <b style='color:blue'>truthfully</b> ensemble cast that works wonders , down to the <b style='color:blue'>littlest</b> role . this <b style='color:blue'>triumphed</b> best script at oscars and scott was nominated . he should have won for this instead of patton the year before ( which he was also <b style='color:blue'>handsome</b> in ) . seek this out !"
      ],
      "text/plain": [
       "<IPython.core.display.HTML object>"
      ]
     },
     "metadata": {},
     "output_type": "display_data"
    },
    {
     "name": "stdout",
     "output_type": "stream",
     "text": [
      "--------------------------------------------------\n",
      "#310   index = 24102\n",
      "ATTACK SUCCEEDED\n",
      "Original prediction: 0.013285\n"
     ]
    },
    {
     "data": {
      "text/html": [
       "frank falenczyk : it isnt that im sorry i killed them ; its that im sorry i killed them badly . wow ! talk about a swing and a miss . you have a great cast and a great plot with endless possibilties . . . how do you f _ ck that up ? ! well , apparently john dahl has found a way . with an atrocious screenplay featuring jokes about as funny as a malaria epidemic and dialogue so painfully dry it makes none of the characters likable , you kill me might be the biggest cinematic failure of 2007 . on a positive note , ben kinglsey provides another great performance as the alcoholic polish hit man trying to get clean but the material he has to work with is crap . tea leoni is good as well as is luke wilson , dennis farina , bill pullman , philip baker hall and the rest of the cast . i guess the <b style='color:red'>best</b> way to describe you kill me is a <b style='color:red'>terrible</b> movie with <b style='color:red'>good</b> performances . grade : d +"
      ],
      "text/plain": [
       "<IPython.core.display.HTML object>"
      ]
     },
     "metadata": {},
     "output_type": "display_data"
    },
    {
     "name": "stdout",
     "output_type": "stream",
     "text": [
      "\n",
      "New prediction: 0.712372\n"
     ]
    },
    {
     "data": {
      "text/html": [
       "frank falenczyk : it isnt that im sorry i killed them ; its that im sorry i killed them badly . wow ! talk about a swing and a miss . you have a great cast and a great plot with endless possibilties . . . how do you f _ ck that up ? ! well , apparently john dahl has found a way . with an atrocious screenplay featuring jokes about as funny as a malaria epidemic and dialogue so painfully dry it makes none of the characters likable , you kill me might be the biggest cinematic failure of 2007 . on a positive note , ben kinglsey provides another great performance as the alcoholic polish hit man trying to get clean but the material he has to work with is crap . tea leoni is good as well as is luke wilson , dennis farina , bill pullman , philip baker hall and the rest of the cast . i guess the <b style='color:blue'>finest</b> way to describe you kill me is a <b style='color:blue'>fearsome</b> movie with <b style='color:blue'>exemplary</b> performances . grade : d +"
      ],
      "text/plain": [
       "<IPython.core.display.HTML object>"
      ]
     },
     "metadata": {},
     "output_type": "display_data"
    },
    {
     "name": "stdout",
     "output_type": "stream",
     "text": [
      "--------------------------------------------------\n",
      "#311   index = 15892\n",
      "ATTACK SUCCEEDED\n",
      "Original prediction: 0.013595\n"
     ]
    },
    {
     "data": {
      "text/html": [
       "perhaps script writers really dont know sh * t about situation in foreign countries in present or recent past ? or they just dont give a damn and write everything that they think its interesting . a <b style='color:red'>great</b> and <b style='color:red'>everlasting</b> formula with mad dictator + 1 lonely hero ( an american of course ) might seem like a good idea , but come on ? ! we had such a tyrant in serbia ( milosevic ) who did a lot of bad things to its people , but i simply cant imagine him yelling shoot them , shoot them with such a barbaric passion , like in medieval times . maybe they wanted to show how evil he was , but it was a <b style='color:red'>stupid</b> idea . much better impression would be if he just did it in cold blood , like the real monsters do . the list of nonsense is too long , but the funniest thing is : no matter how many national tv stations there are in russia , russian president watch american snn ( cnn ) news ? ? omfg ! give me a break ! burn this piece of rubish please ! <b style='color:red'>awful</b> !"
      ],
      "text/plain": [
       "<IPython.core.display.HTML object>"
      ]
     },
     "metadata": {},
     "output_type": "display_data"
    },
    {
     "name": "stdout",
     "output_type": "stream",
     "text": [
      "\n",
      "New prediction: 0.581214\n"
     ]
    },
    {
     "data": {
      "text/html": [
       "perhaps script writers really dont know sh * t about situation in foreign countries in present or recent past ? or they just dont give a damn and write everything that they think its interesting . a <b style='color:blue'>excellent</b> and <b style='color:blue'>timeless</b> formula with mad dictator + 1 lonely hero ( an american of course ) might seem like a good idea , but come on ? ! we had such a tyrant in serbia ( milosevic ) who did a lot of bad things to its people , but i simply cant imagine him yelling shoot them , shoot them with such a barbaric passion , like in medieval times . maybe they wanted to show how evil he was , but it was a <b style='color:blue'>dolt</b> idea . much better impression would be if he just did it in cold blood , like the real monsters do . the list of nonsense is too long , but the funniest thing is : no matter how many national tv stations there are in russia , russian president watch american snn ( cnn ) news ? ? omfg ! give me a break ! burn this piece of rubish please ! <b style='color:blue'>fearsome</b> !"
      ],
      "text/plain": [
       "<IPython.core.display.HTML object>"
      ]
     },
     "metadata": {},
     "output_type": "display_data"
    },
    {
     "name": "stdout",
     "output_type": "stream",
     "text": [
      "--------------------------------------------------\n",
      "#312   index = 19089\n",
      "ATTACK FAILED\n",
      "--------------------------------------------------\n",
      "#313   index = 22697\n",
      "ATTACK FAILED\n",
      "--------------------------------------------------\n",
      "#314   index = 21196\n",
      "ATTACK FAILED\n",
      "--------------------------------------------------\n",
      "#315   index = 6663\n",
      "ATTACK SUCCEEDED\n",
      "Original prediction: 0.997973\n"
     ]
    },
    {
     "data": {
      "text/html": [
       "this is a well - crafted piece from everyones favorite master of suspense . as usual , the technical elements such as camera work and lighting are <b style='color:red'>outstanding</b> ( especially for the films time ) . i did not find the first part of the film very <b style='color:red'>exciting</b> , but the latter one <b style='color:red'>certainly</b> made up for it with one <b style='color:red'>thrilling</b> scene after another . the only thing i did not like about this movie was the choice of farley granger for the part of guy haines . somehow , i didnt find him very believable . on the other hand , robert walker shines as <b style='color:red'>sinister</b> <b style='color:red'>bad</b> guy bruno anthony . overall , i would <b style='color:red'>highly</b> recommend this ."
      ],
      "text/plain": [
       "<IPython.core.display.HTML object>"
      ]
     },
     "metadata": {},
     "output_type": "display_data"
    },
    {
     "name": "stdout",
     "output_type": "stream",
     "text": [
      "\n",
      "New prediction: 0.419498\n"
     ]
    },
    {
     "data": {
      "text/html": [
       "this is a well - crafted piece from everyones favorite master of suspense . as usual , the technical elements such as camera work and lighting are <b style='color:blue'>fanciful</b> ( especially for the films time ) . i did not find the first part of the film very <b style='color:blue'>enthralling</b> , but the latter one <b style='color:blue'>indubitably</b> made up for it with one <b style='color:blue'>enthralling</b> scene after another . the only thing i did not like about this movie was the choice of farley granger for the part of guy haines . somehow , i didnt find him very believable . on the other hand , robert walker shines as <b style='color:blue'>diabolical</b> <b style='color:blue'>rotten</b> guy bruno anthony . overall , i would <b style='color:blue'>terribly</b> recommend this ."
      ],
      "text/plain": [
       "<IPython.core.display.HTML object>"
      ]
     },
     "metadata": {},
     "output_type": "display_data"
    },
    {
     "name": "stdout",
     "output_type": "stream",
     "text": [
      "--------------------------------------------------\n",
      "#316   index = 13567\n",
      "ATTACK FAILED\n",
      "--------------------------------------------------\n",
      "#317   index = 18615\n",
      "ATTACK FAILED\n",
      "--------------------------------------------------\n",
      "#318   index = 2717\n",
      "ATTACK SUCCEEDED\n",
      "Original prediction: 0.993803\n"
     ]
    },
    {
     "data": {
      "text/html": [
       "what is there to say about this movie ? this movie is simply gorgeous . a true feast for the eyes . in the same way that the game set the standard for 3d role playing games 7 years ago , this movie sets the standard for future cg movies . many of you have seen the trailers and the amazing details in every frame and let me tell you this movie does not disappoint . you can actually see the fibers in clouds sweater vest . the music is also very <b style='color:red'>good</b> . the movie contains several rearranged tracks from the video game that fans will definitely recognize and appreciate . the movies main weakness is its story . its not exactly a bad story , but this story is <b style='color:red'>exclusively</b> aimed for <b style='color:red'>people</b> who have played the video game . first time viewers may feel lost at times , or they may not notice the significance of certain events . i recommend this movie to everyone , even if youve never played the game because what we have here is a special movie . watch it and <b style='color:red'>enjoy</b> the the <b style='color:red'>beautiful</b> show ."
      ],
      "text/plain": [
       "<IPython.core.display.HTML object>"
      ]
     },
     "metadata": {},
     "output_type": "display_data"
    },
    {
     "name": "stdout",
     "output_type": "stream",
     "text": [
      "\n",
      "New prediction: 0.332706\n"
     ]
    },
    {
     "data": {
      "text/html": [
       "what is there to say about this movie ? this movie is simply gorgeous . a true feast for the eyes . in the same way that the game set the standard for 3d role playing games 7 years ago , this movie sets the standard for future cg movies . many of you have seen the trailers and the amazing details in every frame and let me tell you this movie does not disappoint . you can actually see the fibers in clouds sweater vest . the music is also very <b style='color:blue'>allright</b> . the movie contains several rearranged tracks from the video game that fans will definitely recognize and appreciate . the movies main weakness is its story . its not exactly a bad story , but this story is <b style='color:blue'>purely</b> aimed for <b style='color:blue'>peuple</b> who have played the video game . first time viewers may feel lost at times , or they may not notice the significance of certain events . i recommend this movie to everyone , even if youve never played the game because what we have here is a special movie . watch it and <b style='color:blue'>experience</b> the the <b style='color:blue'>grandiose</b> show ."
      ],
      "text/plain": [
       "<IPython.core.display.HTML object>"
      ]
     },
     "metadata": {},
     "output_type": "display_data"
    },
    {
     "name": "stdout",
     "output_type": "stream",
     "text": [
      "--------------------------------------------------\n",
      "#319   index = 15275\n",
      "ATTACK SUCCEEDED\n",
      "Original prediction: 0.003059\n"
     ]
    },
    {
     "data": {
      "text/html": [
       "even have to read this summary . the acting , despite being one fo the high points of the movie was still <b style='color:red'>pathetic</b> . the director was probaly a sadist . the witty one liners were something youd expect from a room of highly paid anti - social 7 year olds that eat paint - chips for breakfast . the problem with this movie , is that it <b style='color:red'>tries</b> to be a movie like evil dead 2 ( do not under any circumstances associate these 2 movies ) in that its so <b style='color:red'>bad</b> its <b style='color:red'>funny</b> . but it also <b style='color:red'>tries</b> to be funny at the same time , and fails so overwhelmingly to do so , that your sense of humor is left too crippled to do anything but set off your gag reflex in an attmept to save itself . i <b style='color:red'>could</b> go on for much much more , detailing just how <b style='color:red'>awful</b> it <b style='color:red'>really</b> was , but i <b style='color:red'>think</b> it would strip me of my will to live just to continue to think about it . if you need me , ill be off trying to boil myself so that i might feel clean again . . ."
      ],
      "text/plain": [
       "<IPython.core.display.HTML object>"
      ]
     },
     "metadata": {},
     "output_type": "display_data"
    },
    {
     "name": "stdout",
     "output_type": "stream",
     "text": [
      "\n",
      "New prediction: 0.516334\n"
     ]
    },
    {
     "data": {
      "text/html": [
       "even have to read this summary . the acting , despite being one fo the high points of the movie was still <b style='color:blue'>pitiable</b> . the director was probaly a sadist . the witty one liners were something youd expect from a room of highly paid anti - social 7 year olds that eat paint - chips for breakfast . the problem with this movie , is that it <b style='color:blue'>endeavours</b> to be a movie like evil dead 2 ( do not under any circumstances associate these 2 movies ) in that its so <b style='color:blue'>wicked</b> its <b style='color:blue'>hilarious</b> . but it also <b style='color:blue'>endeavours</b> to be funny at the same time , and fails so overwhelmingly to do so , that your sense of humor is left too crippled to do anything but set off your gag reflex in an attmept to save itself . i <b style='color:blue'>can</b> go on for much much more , detailing just how <b style='color:blue'>harrowing</b> it <b style='color:blue'>genuinely</b> was , but i <b style='color:blue'>brainchild</b> it would strip me of my will to live just to continue to think about it . if you need me , ill be off trying to boil myself so that i might feel clean again . . ."
      ],
      "text/plain": [
       "<IPython.core.display.HTML object>"
      ]
     },
     "metadata": {},
     "output_type": "display_data"
    },
    {
     "name": "stdout",
     "output_type": "stream",
     "text": [
      "--------------------------------------------------\n",
      "#320   index = 8147\n",
      "ATTACK FAILED\n",
      "--------------------------------------------------\n",
      "#321   index = 9945\n",
      "ATTACK SUCCEEDED\n",
      "Original prediction: 0.992657\n"
     ]
    },
    {
     "data": {
      "text/html": [
       "and theyve really pushed the envelope here . a fantasy that has points in common with wings of desire , northfork tells the story of a 50s era small town in the middle of nowhere that is two days shy of being inundated and submerged thanks to the u . s . governments desire to make a reservoir on the place where the town stands . its a wry parable about loss and remembrance , featuring angels , dreams , premonitions , and the most hilarious government reclamation functionaries since repo man . the performances are all outstanding , especially nolte and woods . ive noticed in reading down some of the comments that there are people who were offended simply by the fact that the polish twins use elliptical storytelling tactics , and i want to say , thats one of the things that makes this film so <b style='color:red'>great</b> : its willingness to embrace the mysterious as an aspect of everyday life . david mullens cinematography is <b style='color:red'>stunning</b> . <b style='color:red'>highly</b> recommended ; if youve suffered a meaningful personal loss , such as the death of a parent , i would even call this film necessary <b style='color:red'>viewing</b> . - ray"
      ],
      "text/plain": [
       "<IPython.core.display.HTML object>"
      ]
     },
     "metadata": {},
     "output_type": "display_data"
    },
    {
     "name": "stdout",
     "output_type": "stream",
     "text": [
      "\n",
      "New prediction: 0.457701\n"
     ]
    },
    {
     "data": {
      "text/html": [
       "and theyve really pushed the envelope here . a fantasy that has points in common with wings of desire , northfork tells the story of a 50s era small town in the middle of nowhere that is two days shy of being inundated and submerged thanks to the u . s . governments desire to make a reservoir on the place where the town stands . its a wry parable about loss and remembrance , featuring angels , dreams , premonitions , and the most hilarious government reclamation functionaries since repo man . the performances are all outstanding , especially nolte and woods . ive noticed in reading down some of the comments that there are people who were offended simply by the fact that the polish twins use elliptical storytelling tactics , and i want to say , thats one of the things that makes this film so <b style='color:blue'>fanciful</b> : its willingness to embrace the mysterious as an aspect of everyday life . david mullens cinematography is <b style='color:blue'>staggering</b> . <b style='color:blue'>terribly</b> recommended ; if youve suffered a meaningful personal loss , such as the death of a parent , i would even call this film necessary <b style='color:blue'>visualise</b> . - ray"
      ],
      "text/plain": [
       "<IPython.core.display.HTML object>"
      ]
     },
     "metadata": {},
     "output_type": "display_data"
    },
    {
     "name": "stdout",
     "output_type": "stream",
     "text": [
      "--------------------------------------------------\n",
      "#322   index = 7183\n",
      "ATTACK SUCCEEDED\n",
      "Original prediction: 0.995900\n"
     ]
    },
    {
     "data": {
      "text/html": [
       "night of the demons ( 1988 ) was another in a long line of teen horror films that were released on video and pay - t . v . during that mecca of film making the eighties . but unlike most of the crap that was being peddled around , this one was actually a decent watch . a group of bored teenagers decide to party halloween night away with a pair of bizarre sisters ( mimi kinkade and linnea quigley ) at the infamous hull house . your usual cast of stereotypical teenagers are invited to the party . but an average teenage bash turns into a night of terror as they try to survive halloween night when they undead residents of hull house decide to crash the party . wholl survive this night of bloodshed and horror ? a nice horror film that is best seen in the unrated version . if you watch the r - rated cut then youll miss all of the splatter effects and nudity . stay tune for the amusing epilogue ! a gory film that was followed by an <b style='color:red'>equally</b> <b style='color:red'>entertaining</b> sequel . for horror fans only ! <b style='color:red'>highly</b> recommended ."
      ],
      "text/plain": [
       "<IPython.core.display.HTML object>"
      ]
     },
     "metadata": {},
     "output_type": "display_data"
    },
    {
     "name": "stdout",
     "output_type": "stream",
     "text": [
      "\n",
      "New prediction: 0.273672\n"
     ]
    },
    {
     "data": {
      "text/html": [
       "night of the demons ( 1988 ) was another in a long line of teen horror films that were released on video and pay - t . v . during that mecca of film making the eighties . but unlike most of the crap that was being peddled around , this one was actually a decent watch . a group of bored teenagers decide to party halloween night away with a pair of bizarre sisters ( mimi kinkade and linnea quigley ) at the infamous hull house . your usual cast of stereotypical teenagers are invited to the party . but an average teenage bash turns into a night of terror as they try to survive halloween night when they undead residents of hull house decide to crash the party . wholl survive this night of bloodshed and horror ? a nice horror film that is best seen in the unrated version . if you watch the r - rated cut then youll miss all of the splatter effects and nudity . stay tune for the amusing epilogue ! a gory film that was followed by an <b style='color:blue'>similarly</b> <b style='color:blue'>amusing</b> sequel . for horror fans only ! <b style='color:blue'>terribly</b> recommended ."
      ],
      "text/plain": [
       "<IPython.core.display.HTML object>"
      ]
     },
     "metadata": {},
     "output_type": "display_data"
    },
    {
     "name": "stdout",
     "output_type": "stream",
     "text": [
      "--------------------------------------------------\n",
      "#323   index = 16792\n",
      "ATTACK SUCCEEDED\n",
      "Original prediction: 0.042705\n"
     ]
    },
    {
     "data": {
      "text/html": [
       "i know its rather unfair to comment on a movie without seeing the complete piece - but i am going to anyway ! i waited for a laugh , i <b style='color:red'>tried</b> to give it time . i think 20 minutes is long enough to wait in a comedy for a laugh . my laugh never came , so i gave up . its <b style='color:red'>stupid</b> humour , not so <b style='color:red'>stupid</b> that you have to laugh , though . it isnt anywhere near that high grade . let me correct that , its just * <b style='color:red'>stupid</b> * - not stupid humour . they may have intended for certain scenes to be funny , but they werent . i suppose , if you were really bored you could somehow blend the movie with a hallucination and end up with a mildly entertaining <b style='color:red'>experience</b> . a <b style='color:red'>very</b> <b style='color:red'>pathetic</b> <b style='color:red'>effort</b> ."
      ],
      "text/plain": [
       "<IPython.core.display.HTML object>"
      ]
     },
     "metadata": {},
     "output_type": "display_data"
    },
    {
     "name": "stdout",
     "output_type": "stream",
     "text": [
      "\n",
      "New prediction: 0.515297\n"
     ]
    },
    {
     "data": {
      "text/html": [
       "i know its rather unfair to comment on a movie without seeing the complete piece - but i am going to anyway ! i waited for a laugh , i <b style='color:blue'>endeavored</b> to give it time . i think 20 minutes is long enough to wait in a comedy for a laugh . my laugh never came , so i gave up . its <b style='color:blue'>senseless</b> humour , not so <b style='color:blue'>dolt</b> that you have to laugh , though . it isnt anywhere near that high grade . let me correct that , its just * <b style='color:blue'>grotesque</b> * - not stupid humour . they may have intended for certain scenes to be funny , but they werent . i suppose , if you were really bored you could somehow blend the movie with a hallucination and end up with a mildly entertaining <b style='color:blue'>enjoy</b> . a <b style='color:blue'>extremely</b> <b style='color:blue'>pitiable</b> <b style='color:blue'>endeavor</b> ."
      ],
      "text/plain": [
       "<IPython.core.display.HTML object>"
      ]
     },
     "metadata": {},
     "output_type": "display_data"
    },
    {
     "name": "stdout",
     "output_type": "stream",
     "text": [
      "--------------------------------------------------\n",
      "#324   index = 24773\n",
      "ATTACK SUCCEEDED\n",
      "Original prediction: 0.009047\n"
     ]
    },
    {
     "data": {
      "text/html": [
       "<b style='color:red'>excuse</b> me , but my tongue was too in my cheek when we filmed this piece o poop . as the <b style='color:red'>evil</b> sister with hair that mommy dearest would envy , i did my very <b style='color:red'>best</b> to channel tim curry in rocky horror . im sad that this did not come across . . . ah well , a friend compared it to a rock bottom budget showgirls with a white hot spoon . ill have to be content with that . what amazes me is no one mentioned the <b style='color:red'>endless</b> ( and dull ) wet t - shirt contest . it is <b style='color:red'>seriously</b> the longest wet t - shirt contest in cinema history . and the only one where the contestants were wearing industrial strength cotton - polyester shirts that defied all efforts to get them wet and translucent . and didnt anyone catch the directors cameo as the dude on the payphone interrupted by our hero ? with the line are we filming yet ? clearly audible ? jeez , this is <b style='color:red'>bad</b> movie <b style='color:red'>heaven</b> for real aficionados . . ."
      ],
      "text/plain": [
       "<IPython.core.display.HTML object>"
      ]
     },
     "metadata": {},
     "output_type": "display_data"
    },
    {
     "name": "stdout",
     "output_type": "stream",
     "text": [
      "\n",
      "New prediction: 0.514711\n"
     ]
    },
    {
     "data": {
      "text/html": [
       "<b style='color:blue'>alibi</b> me , but my tongue was too in my cheek when we filmed this piece o poop . as the <b style='color:blue'>wicked</b> sister with hair that mommy dearest would envy , i did my very <b style='color:blue'>finest</b> to channel tim curry in rocky horror . im sad that this did not come across . . . ah well , a friend compared it to a rock bottom budget showgirls with a white hot spoon . ill have to be content with that . what amazes me is no one mentioned the <b style='color:blue'>boundless</b> ( and dull ) wet t - shirt contest . it is <b style='color:blue'>deeply</b> the longest wet t - shirt contest in cinema history . and the only one where the contestants were wearing industrial strength cotton - polyester shirts that defied all efforts to get them wet and translucent . and didnt anyone catch the directors cameo as the dude on the payphone interrupted by our hero ? with the line are we filming yet ? clearly audible ? jeez , this is <b style='color:blue'>wicked</b> movie <b style='color:blue'>paradise</b> for real aficionados . . ."
      ],
      "text/plain": [
       "<IPython.core.display.HTML object>"
      ]
     },
     "metadata": {},
     "output_type": "display_data"
    },
    {
     "name": "stdout",
     "output_type": "stream",
     "text": [
      "--------------------------------------------------\n",
      "#325   index = 16283\n",
      "ATTACK FAILED\n",
      "--------------------------------------------------\n",
      "#326   index = 13221\n",
      "ATTACK SUCCEEDED\n",
      "Original prediction: 0.042266\n"
     ]
    },
    {
     "data": {
      "text/html": [
       "they get inside the mines the creepy atmosphere and mood is <b style='color:red'>great</b> . the problem is the monster , or lack of it . as people have said its a stop - motion monster , but thats not the problem ( stop - motion can look <b style='color:red'>great</b> if done properly ) . the problem is that we dont see enough of it and we dont get to see any deaths . this is meant to be a horror film so a lack of monster and a lack of deaths equals boredom . there were some scenes i liked , such as when one girl is using her camera in the dark and the monster is coming towards her . there are also a few other creepy scenes but they are far too few to hold your interest and definitely not worth watching the film for . its a <b style='color:red'>shame</b> , because i can see that had it been handled correctly it wouldve been an effectively creepy horror flick . the saddest thing is that films like this will never be made again , because film makers over - polish their films these days and rely on <b style='color:red'>crappy</b> cgi <b style='color:red'>effects</b> ."
      ],
      "text/plain": [
       "<IPython.core.display.HTML object>"
      ]
     },
     "metadata": {},
     "output_type": "display_data"
    },
    {
     "name": "stdout",
     "output_type": "stream",
     "text": [
      "\n",
      "New prediction: 0.611079\n"
     ]
    },
    {
     "data": {
      "text/html": [
       "they get inside the mines the creepy atmosphere and mood is <b style='color:blue'>excellent</b> . the problem is the monster , or lack of it . as people have said its a stop - motion monster , but thats not the problem ( stop - motion can look <b style='color:blue'>superb</b> if done properly ) . the problem is that we dont see enough of it and we dont get to see any deaths . this is meant to be a horror film so a lack of monster and a lack of deaths equals boredom . there were some scenes i liked , such as when one girl is using her camera in the dark and the monster is coming towards her . there are also a few other creepy scenes but they are far too few to hold your interest and definitely not worth watching the film for . its a <b style='color:blue'>pity</b> , because i can see that had it been handled correctly it wouldve been an effectively creepy horror flick . the saddest thing is that films like this will never be made again , because film makers over - polish their films these days and rely on <b style='color:blue'>shitty</b> cgi <b style='color:blue'>reverberations</b> ."
      ],
      "text/plain": [
       "<IPython.core.display.HTML object>"
      ]
     },
     "metadata": {},
     "output_type": "display_data"
    },
    {
     "name": "stdout",
     "output_type": "stream",
     "text": [
      "--------------------------------------------------\n",
      "#327   index = 19410\n",
      "ATTACK FAILED\n",
      "--------------------------------------------------\n",
      "#328   index = 6299\n",
      "ATTACK SUCCEEDED\n",
      "Original prediction: 0.982345\n"
     ]
    },
    {
     "data": {
      "text/html": [
       "<b style='color:red'>good</b> show , <b style='color:red'>really</b> good acting , and the director takes us swimming through his storyline in an interesting , unpredictable way , especially since , essentially , its two people in a room . it doesnt race through like many modern films , but doesnt drag , either . bohl is flippant enough to believe her in the now of her character , which is still involved and not going back on her career choices - so it is <b style='color:red'>believable</b> without the need for her to show us a deep , self - examination of her soul . . . brundage has the delicate balance of weight , innocence , meekness , and class to pull off buddy very well . a bit grainy on the film quality , but it fits the tone of the story . could use a little polishing on the hair and makeup end of things , but <b style='color:red'>definitely</b> worth watching ."
      ],
      "text/plain": [
       "<IPython.core.display.HTML object>"
      ]
     },
     "metadata": {},
     "output_type": "display_data"
    },
    {
     "name": "stdout",
     "output_type": "stream",
     "text": [
      "\n",
      "New prediction: 0.425162\n"
     ]
    },
    {
     "data": {
      "text/html": [
       "<b style='color:blue'>allright</b> show , <b style='color:blue'>truthfully</b> good acting , and the director takes us swimming through his storyline in an interesting , unpredictable way , especially since , essentially , its two people in a room . it doesnt race through like many modern films , but doesnt drag , either . bohl is flippant enough to believe her in the now of her character , which is still involved and not going back on her career choices - so it is <b style='color:blue'>plausible</b> without the need for her to show us a deep , self - examination of her soul . . . brundage has the delicate balance of weight , innocence , meekness , and class to pull off buddy very well . a bit grainy on the film quality , but it fits the tone of the story . could use a little polishing on the hair and makeup end of things , but <b style='color:blue'>definitively</b> worth watching ."
      ],
      "text/plain": [
       "<IPython.core.display.HTML object>"
      ]
     },
     "metadata": {},
     "output_type": "display_data"
    },
    {
     "name": "stdout",
     "output_type": "stream",
     "text": [
      "--------------------------------------------------\n",
      "#329   index = 3360\n",
      "ATTACK FAILED\n",
      "--------------------------------------------------\n",
      "#330   index = 18425\n",
      "ATTACK FAILED\n",
      "--------------------------------------------------\n",
      "#331   index = 11524\n",
      "ATTACK SUCCEEDED\n",
      "Original prediction: 0.973494\n"
     ]
    },
    {
     "data": {
      "text/html": [
       "i went to see this thinking it would be a <b style='color:red'>great</b> comedy and a comeback for robin williams , but when i saw it i realized i had bee lied to by advertisers as this is more drama than comedy , although it has a few really <b style='color:red'>good</b> laughs in it . it felt like i was watching two movies . one was a funny romp with robin williams that should have been the whole basin for the movie anyway , but you <b style='color:red'>also</b> get a techno thriller movie with political angst in the middle . i really dont know how to classify this film . but i can tell you it was <b style='color:red'>good</b> and i did laugh , not as much as i had hoped , but at least williams is back in the right direction . see this but know before going it is not all comedy and is a <b style='color:red'>little</b> <b style='color:red'>intense</b> ."
      ],
      "text/plain": [
       "<IPython.core.display.HTML object>"
      ]
     },
     "metadata": {},
     "output_type": "display_data"
    },
    {
     "name": "stdout",
     "output_type": "stream",
     "text": [
      "\n",
      "New prediction: 0.466714\n"
     ]
    },
    {
     "data": {
      "text/html": [
       "i went to see this thinking it would be a <b style='color:blue'>grandiose</b> comedy and a comeback for robin williams , but when i saw it i realized i had bee lied to by advertisers as this is more drama than comedy , although it has a few really <b style='color:blue'>allright</b> laughs in it . it felt like i was watching two movies . one was a funny romp with robin williams that should have been the whole basin for the movie anyway , but you <b style='color:blue'>moreover</b> get a techno thriller movie with political angst in the middle . i really dont know how to classify this film . but i can tell you it was <b style='color:blue'>allright</b> and i did laugh , not as much as i had hoped , but at least williams is back in the right direction . see this but know before going it is not all comedy and is a <b style='color:blue'>small</b> <b style='color:blue'>vehement</b> ."
      ],
      "text/plain": [
       "<IPython.core.display.HTML object>"
      ]
     },
     "metadata": {},
     "output_type": "display_data"
    },
    {
     "name": "stdout",
     "output_type": "stream",
     "text": [
      "--------------------------------------------------\n",
      "#332   index = 17952\n",
      "ATTACK SUCCEEDED\n",
      "Original prediction: 0.030668\n"
     ]
    },
    {
     "data": {
      "text/html": [
       "end of days , starts off pretty well , arnie plays a down and out cop ( a very similar character to riggs in lethal weapon ) and the story looks like a kind of serial killer action thriller that will be good entertainment . sadly it fails to deliver , arnie is as good as we we have come to expect , but as for gabriel byrne i expect him to chose his roles more carefully than this . cast as the devil ; this is probably the weakest portrayal of the lord of darkness ever . this movie gets a little too daft for me , and the end sequence , aside from being very <b style='color:red'>weak</b> , is visually one of the <b style='color:red'>worst</b> ive seen in recent years , cgi is have been better than this since the early nineties . quite simply not good enough . 4 / 10 ( watch it if you have too , but dont expect too much , cause it wont deliver )"
      ],
      "text/plain": [
       "<IPython.core.display.HTML object>"
      ]
     },
     "metadata": {},
     "output_type": "display_data"
    },
    {
     "name": "stdout",
     "output_type": "stream",
     "text": [
      "\n",
      "New prediction: 0.567538\n"
     ]
    },
    {
     "data": {
      "text/html": [
       "end of days , starts off pretty well , arnie plays a down and out cop ( a very similar character to riggs in lethal weapon ) and the story looks like a kind of serial killer action thriller that will be good entertainment . sadly it fails to deliver , arnie is as good as we we have come to expect , but as for gabriel byrne i expect him to chose his roles more carefully than this . cast as the devil ; this is probably the weakest portrayal of the lord of darkness ever . this movie gets a little too daft for me , and the end sequence , aside from being very <b style='color:blue'>tenuous</b> , is visually one of the <b style='color:blue'>lousiest</b> ive seen in recent years , cgi is have been better than this since the early nineties . quite simply not good enough . 4 / 10 ( watch it if you have too , but dont expect too much , cause it wont deliver )"
      ],
      "text/plain": [
       "<IPython.core.display.HTML object>"
      ]
     },
     "metadata": {},
     "output_type": "display_data"
    },
    {
     "name": "stdout",
     "output_type": "stream",
     "text": [
      "--------------------------------------------------\n",
      "#333   index = 24756\n",
      "ATTACK SUCCEEDED\n",
      "Original prediction: 0.024453\n"
     ]
    },
    {
     "data": {
      "text/html": [
       "<b style='color:red'>inappropriate</b> for the rest of the material , which makes up the majority of the film . a stroll down the sidewalk , a brother - to - brother discussion on a sofa , hell , even a kiss on a first - date are all shot cusinart - style , distracting this viewer from ever being able to enter into the drama . martin also undercuts his narrative by packing in far too many topics : besides the birth of mob violence , we get anorexia , alcoholism , divorce , racism , parental abuse . . . did i miss anything ? no doubt a better cast ( and a better - focused direction ) would have knit these threads together , as martin surely intended , to demonstrate how one moral flaw leads into and sustains a host of others . . . but good intentions do not necessarily a great film make . just a sprawling <b style='color:red'>mess</b> . martin , i know youre from my town , and im down with you man , i <b style='color:red'>really</b> am . . . just do a better job next time , like you did in <b style='color:red'>two</b> plus one ."
      ],
      "text/plain": [
       "<IPython.core.display.HTML object>"
      ]
     },
     "metadata": {},
     "output_type": "display_data"
    },
    {
     "name": "stdout",
     "output_type": "stream",
     "text": [
      "\n",
      "New prediction: 0.521948\n"
     ]
    },
    {
     "data": {
      "text/html": [
       "<b style='color:blue'>erratic</b> for the rest of the material , which makes up the majority of the film . a stroll down the sidewalk , a brother - to - brother discussion on a sofa , hell , even a kiss on a first - date are all shot cusinart - style , distracting this viewer from ever being able to enter into the drama . martin also undercuts his narrative by packing in far too many topics : besides the birth of mob violence , we get anorexia , alcoholism , divorce , racism , parental abuse . . . did i miss anything ? no doubt a better cast ( and a better - focused direction ) would have knit these threads together , as martin surely intended , to demonstrate how one moral flaw leads into and sustains a host of others . . . but good intentions do not necessarily a great film make . just a sprawling <b style='color:blue'>muddle</b> . martin , i know youre from my town , and im down with you man , i <b style='color:blue'>genuinely</b> am . . . just do a better job next time , like you did in <b style='color:blue'>seven</b> plus one ."
      ],
      "text/plain": [
       "<IPython.core.display.HTML object>"
      ]
     },
     "metadata": {},
     "output_type": "display_data"
    },
    {
     "name": "stdout",
     "output_type": "stream",
     "text": [
      "--------------------------------------------------\n",
      "#334   index = 24905\n",
      "ATTACK FAILED\n",
      "--------------------------------------------------\n",
      "#335   index = 19748\n",
      "ATTACK FAILED\n",
      "--------------------------------------------------\n",
      "#336   index = 24604\n",
      "ATTACK FAILED\n",
      "--------------------------------------------------\n",
      "#337   index = 20102\n",
      "ATTACK FAILED\n",
      "--------------------------------------------------\n",
      "#338   index = 18651\n",
      "ATTACK SUCCEEDED\n",
      "Original prediction: 0.052310\n"
     ]
    },
    {
     "data": {
      "text/html": [
       "years ago ma2412 the feature film <b style='color:red'>tried</b> to be some kind of regional blockbuster in austria . one things for sure : i hope no one outside will ever have to see this one . perhaps if you are familiar with the <b style='color:red'>original</b> sitcom it could be interesting to watch what director sicheritz made of his series . i <b style='color:red'>think</b> he missed his <b style='color:red'>chance</b> and wasted time and <b style='color:red'>money</b> . so far <b style='color:red'>many</b> directors and writers have failed to make a series concept compatible to a 90min movie ( consider alf , inspector gadget . . . ) . you can see how <b style='color:red'>hard</b> this is by watching ma 2412 . the <b style='color:red'>result</b> of this <b style='color:red'>attempt</b> in my opinion tastes like a never - ending tv - episode ( and not a good one ) . it fails to deliver a plot , the humor <b style='color:red'>tries</b> too hard and the directing seems very unfocused - as holds <b style='color:red'>true</b> for the visual style . so summing up id <b style='color:red'>clearly</b> not recommend this one . . ."
      ],
      "text/plain": [
       "<IPython.core.display.HTML object>"
      ]
     },
     "metadata": {},
     "output_type": "display_data"
    },
    {
     "name": "stdout",
     "output_type": "stream",
     "text": [
      "\n",
      "New prediction: 0.507294\n"
     ]
    },
    {
     "data": {
      "text/html": [
       "years ago ma2412 the feature film <b style='color:blue'>endeavored</b> to be some kind of regional blockbuster in austria . one things for sure : i hope no one outside will ever have to see this one . perhaps if you are familiar with the <b style='color:blue'>incipient</b> sitcom it could be interesting to watch what director sicheritz made of his series . i <b style='color:blue'>brainchild</b> he missed his <b style='color:blue'>luck</b> and wasted time and <b style='color:blue'>pecuniary</b> . so far <b style='color:blue'>assorted</b> directors and writers have failed to make a series concept compatible to a 90min movie ( consider alf , inspector gadget . . . ) . you can see how <b style='color:blue'>strenuous</b> this is by watching ma 2412 . the <b style='color:blue'>resulting</b> of this <b style='color:blue'>endeavour</b> in my opinion tastes like a never - ending tv - episode ( and not a good one ) . it fails to deliver a plot , the humor <b style='color:blue'>endeavours</b> too hard and the directing seems very unfocused - as holds <b style='color:blue'>authentic</b> for the visual style . so summing up id <b style='color:blue'>undoubtedly</b> not recommend this one . . ."
      ],
      "text/plain": [
       "<IPython.core.display.HTML object>"
      ]
     },
     "metadata": {},
     "output_type": "display_data"
    },
    {
     "name": "stdout",
     "output_type": "stream",
     "text": [
      "--------------------------------------------------\n",
      "#339   index = 19571\n",
      "ATTACK FAILED\n",
      "--------------------------------------------------\n",
      "#340   index = 20236\n",
      "ATTACK FAILED\n",
      "--------------------------------------------------\n",
      "#341   index = 8384\n",
      "ATTACK FAILED\n",
      "--------------------------------------------------\n",
      "#342   index = 22026\n",
      "ATTACK SUCCEEDED\n",
      "Original prediction: 0.006764\n"
     ]
    },
    {
     "data": {
      "text/html": [
       "geek , the funny african - american with <b style='color:red'>stupid</b> clisché punchlines , cool white guy with a <b style='color:red'>compassion</b> for <b style='color:red'>cars</b> and the <b style='color:red'>handsome</b> leader who ends up with the pretty girl . the actors is at <b style='color:red'>best</b> mediocre . ecsept from norton who does a pretty <b style='color:red'>good</b> job as the <b style='color:red'>bad</b> guy . the rest of the movie is <b style='color:red'>also</b> stupid and a <b style='color:red'>total</b> waste of time . its all in all about a group of spoiled boys using the world as their playground where every safe in a big house is what keeps them with food on the table . i mean , why work for a living when you can rob people ? and , . . who the f * * * * messes with the traffic lights in a major european city ? ! ? and in the middle of the friggin day ! ? think of all the damages and not to say deaths among innocent civilians . what about all the ambulances and firetrucks ? i created no compassion for the main characters , and weather mr wahlberg gets his bloody gold or not , i <b style='color:red'>could</b> not give less of a fart ."
      ],
      "text/plain": [
       "<IPython.core.display.HTML object>"
      ]
     },
     "metadata": {},
     "output_type": "display_data"
    },
    {
     "name": "stdout",
     "output_type": "stream",
     "text": [
      "\n",
      "New prediction: 0.548605\n"
     ]
    },
    {
     "data": {
      "text/html": [
       "geek , the funny african - american with <b style='color:blue'>grotesque</b> clisché punchlines , cool white guy with a <b style='color:blue'>empathetic</b> for <b style='color:blue'>autos</b> and the <b style='color:blue'>superb</b> leader who ends up with the pretty girl . the actors is at <b style='color:blue'>finest</b> mediocre . ecsept from norton who does a pretty <b style='color:blue'>exemplary</b> job as the <b style='color:blue'>wicked</b> guy . the rest of the movie is <b style='color:blue'>additionally</b> stupid and a <b style='color:blue'>totalling</b> waste of time . its all in all about a group of spoiled boys using the world as their playground where every safe in a big house is what keeps them with food on the table . i mean , why work for a living when you can rob people ? and , . . who the f * * * * messes with the traffic lights in a major european city ? ! ? and in the middle of the friggin day ! ? think of all the damages and not to say deaths among innocent civilians . what about all the ambulances and firetrucks ? i created no compassion for the main characters , and weather mr wahlberg gets his bloody gold or not , i <b style='color:blue'>can</b> not give less of a fart ."
      ],
      "text/plain": [
       "<IPython.core.display.HTML object>"
      ]
     },
     "metadata": {},
     "output_type": "display_data"
    },
    {
     "name": "stdout",
     "output_type": "stream",
     "text": [
      "--------------------------------------------------\n",
      "#343   index = 21330\n",
      "ATTACK FAILED\n",
      "--------------------------------------------------\n",
      "#344   index = 24012\n",
      "ATTACK FAILED\n",
      "--------------------------------------------------\n",
      "#345   index = 7004\n",
      "ATTACK FAILED\n",
      "--------------------------------------------------\n",
      "#346   index = 17780\n",
      "ATTACK FAILED\n",
      "--------------------------------------------------\n",
      "#347   index = 19424\n",
      "ATTACK FAILED\n",
      "--------------------------------------------------\n",
      "#348   index = 3466\n",
      "ATTACK SUCCEEDED\n",
      "Original prediction: 0.971207\n"
     ]
    },
    {
     "data": {
      "text/html": [
       "creed , but because of its invocation of wonder at the vast panorama of existence and its involvement with the deepest and most vital questions of purpose and truth . in the hands of any other director , this would all be perhaps a little too much . hollywoods view of life is too puny , usually to encompass the <b style='color:red'>grandeur</b> and intensity of a vision such as this one . but kubrick was a visionary , he directs with utter confidence , not only that he can handle material of this <b style='color:red'>kind</b> , but that he is the only one to do it . the process of making this film used all of his creative resources . the writing partnership with arthur c clarke is the most <b style='color:red'>fruitful</b> in cinematic history . kubrick had to invent some of the special effects that were used in the movies astounding climax . the resources to bring his vision to life did not exist at the time , so he brought them into existence . 2001 is a <b style='color:red'>absolutely</b> <b style='color:red'>unique</b> movie experience . those who miss out on it do so at the detriment of their own intellectual and <b style='color:red'>imaginative</b> capacities ."
      ],
      "text/plain": [
       "<IPython.core.display.HTML object>"
      ]
     },
     "metadata": {},
     "output_type": "display_data"
    },
    {
     "name": "stdout",
     "output_type": "stream",
     "text": [
      "\n",
      "New prediction: 0.443524\n"
     ]
    },
    {
     "data": {
      "text/html": [
       "creed , but because of its invocation of wonder at the vast panorama of existence and its involvement with the deepest and most vital questions of purpose and truth . in the hands of any other director , this would all be perhaps a little too much . hollywoods view of life is too puny , usually to encompass the <b style='color:blue'>splendour</b> and intensity of a vision such as this one . but kubrick was a visionary , he directs with utter confidence , not only that he can handle material of this <b style='color:blue'>sorting</b> , but that he is the only one to do it . the process of making this film used all of his creative resources . the writing partnership with arthur c clarke is the most <b style='color:blue'>fertile</b> in cinematic history . kubrick had to invent some of the special effects that were used in the movies astounding climax . the resources to bring his vision to life did not exist at the time , so he brought them into existence . 2001 is a <b style='color:blue'>entirely</b> <b style='color:blue'>peculiar</b> movie experience . those who miss out on it do so at the detriment of their own intellectual and <b style='color:blue'>creative</b> capacities ."
      ],
      "text/plain": [
       "<IPython.core.display.HTML object>"
      ]
     },
     "metadata": {},
     "output_type": "display_data"
    },
    {
     "name": "stdout",
     "output_type": "stream",
     "text": [
      "--------------------------------------------------\n",
      "#349   index = 22765\n",
      "ATTACK SUCCEEDED\n",
      "Original prediction: 0.089993\n"
     ]
    },
    {
     "data": {
      "text/html": [
       "as new for the rest of the <b style='color:red'>story</b> . in a chase scene , tobin rides a makeshift log flume through a drainage trough surrounded by log walls in the middle of a desert , and missing his mark , chases ( actually walks after ) zanti on foot through the desert . zanti seeks relief and drinks from a pool of water , but oops ! , he didnt see the sign above the waterhole that states dont drink <b style='color:red'>poison</b> . as zanti collapses dead , tobin resumes his chase after the remainder of the gang , and captures the <b style='color:red'>whole</b> lot by blowing up a rock wall that seals a secret passage into dustys cabin - how convenient . in the closing scene , the new sheriff tobin is seen on the phone talking to the new mrs . tobin ( sheila terry ) , dustys daughter ruby , who earlier in the film was a <b style='color:red'>kidnap</b> target of zantis gang . apparently , the studio was intent on waynes getting the girl in <b style='color:red'>virtually</b> every film they made with him , as this type of ending is <b style='color:red'>completely</b> predictable for <b style='color:red'>almost</b> all of <b style='color:red'>lone</b> stars films ."
      ],
      "text/plain": [
       "<IPython.core.display.HTML object>"
      ]
     },
     "metadata": {},
     "output_type": "display_data"
    },
    {
     "name": "stdout",
     "output_type": "stream",
     "text": [
      "\n",
      "New prediction: 0.507942\n"
     ]
    },
    {
     "data": {
      "text/html": [
       "as new for the rest of the <b style='color:blue'>tale</b> . in a chase scene , tobin rides a makeshift log flume through a drainage trough surrounded by log walls in the middle of a desert , and missing his mark , chases ( actually walks after ) zanti on foot through the desert . zanti seeks relief and drinks from a pool of water , but oops ! , he didnt see the sign above the waterhole that states dont drink <b style='color:blue'>poisoning</b> . as zanti collapses dead , tobin resumes his chase after the remainder of the gang , and captures the <b style='color:blue'>entire</b> lot by blowing up a rock wall that seals a secret passage into dustys cabin - how convenient . in the closing scene , the new sheriff tobin is seen on the phone talking to the new mrs . tobin ( sheila terry ) , dustys daughter ruby , who earlier in the film was a <b style='color:blue'>abducting</b> target of zantis gang . apparently , the studio was intent on waynes getting the girl in <b style='color:blue'>practically</b> every film they made with him , as this type of ending is <b style='color:blue'>diametrically</b> predictable for <b style='color:blue'>approximately</b> all of <b style='color:blue'>single</b> stars films ."
      ],
      "text/plain": [
       "<IPython.core.display.HTML object>"
      ]
     },
     "metadata": {},
     "output_type": "display_data"
    },
    {
     "name": "stdout",
     "output_type": "stream",
     "text": [
      "--------------------------------------------------\n",
      "#350   index = 3148\n",
      "ATTACK FAILED\n",
      "--------------------------------------------------\n",
      "#351   index = 19641\n",
      "ATTACK SUCCEEDED\n",
      "Original prediction: 0.003746\n"
     ]
    },
    {
     "data": {
      "text/html": [
       "how i deserved to watch this <b style='color:red'>crap</b> ? ? ? <b style='color:red'>worst</b> ever . the acting was <b style='color:red'>awful</b> , when i read that this was a comedy i <b style='color:red'>expected</b> at least to smile , once - or twice , but . . . . if you are wiling to loose hour and a half of your lives , this is the right movie . i recommend just look in a wall or something , anything else but watch this film . yoy can even watch a documentary ( if you are a guy ) about pregnant women , i guarantee it will be more entertaining : ) the actor in this one ( i <b style='color:red'>forgot</b> his name ) is not that bad , and i am surprised how hi accepted the role . anyway i want someone to eat cheese with is the right film if you <b style='color:red'>want</b> to punish <b style='color:red'>someone</b> ."
      ],
      "text/plain": [
       "<IPython.core.display.HTML object>"
      ]
     },
     "metadata": {},
     "output_type": "display_data"
    },
    {
     "name": "stdout",
     "output_type": "stream",
     "text": [
      "\n",
      "New prediction: 0.507308\n"
     ]
    },
    {
     "data": {
      "text/html": [
       "how i deserved to watch this <b style='color:blue'>absurdity</b> ? ? ? <b style='color:blue'>lousiest</b> ever . the acting was <b style='color:blue'>harrowing</b> , when i read that this was a comedy i <b style='color:blue'>awaited</b> at least to smile , once - or twice , but . . . . if you are wiling to loose hour and a half of your lives , this is the right movie . i recommend just look in a wall or something , anything else but watch this film . yoy can even watch a documentary ( if you are a guy ) about pregnant women , i guarantee it will be more entertaining : ) the actor in this one ( i <b style='color:blue'>forgotten</b> his name ) is not that bad , and i am surprised how hi accepted the role . anyway i want someone to eat cheese with is the right film if you <b style='color:blue'>wanna</b> to punish <b style='color:blue'>somebody</b> ."
      ],
      "text/plain": [
       "<IPython.core.display.HTML object>"
      ]
     },
     "metadata": {},
     "output_type": "display_data"
    },
    {
     "name": "stdout",
     "output_type": "stream",
     "text": [
      "--------------------------------------------------\n",
      "#352   index = 4898\n",
      "ATTACK SUCCEEDED\n",
      "Original prediction: 0.914967\n"
     ]
    },
    {
     "data": {
      "text/html": [
       "the characters and for the reality it fictionally <b style='color:red'>reflected</b> . it was an antidote to gone with the wind , birth of a nation , <b style='color:red'>triumph</b> of the will and so many <b style='color:red'>other</b> glorifiers of <b style='color:red'>hatred</b> and violence . i <b style='color:red'>would</b> place it <b style='color:red'>alongside</b> the recent german film ( also virtually <b style='color:red'>hidden</b> in the us ) , rosenstrasse . i remember that the tv version , also black and white in format as well as story , was blacked out by some stations because the black heros wife appeared white . as a young civil rights worker , it produced a <b style='color:red'>conflict</b> for me because on the one hand i was opposed to smoking cigarettes and on the other opposed the boycott in georgia of a <b style='color:red'>sponsor</b> of the tv show , a major tobacco company ( i no longer remember which one - - does anyone else ? ) . i <b style='color:red'>would</b> <b style='color:red'>love</b> to find a cd of either the film or the tv show to let my sons see something that informed my opposition to racism universally ( as opposed to only fighting racism against jews ) and <b style='color:red'>recognition</b> of the <b style='color:red'>inherent</b> connection between racism and militarism ."
      ],
      "text/plain": [
       "<IPython.core.display.HTML object>"
      ]
     },
     "metadata": {},
     "output_type": "display_data"
    },
    {
     "name": "stdout",
     "output_type": "stream",
     "text": [
      "\n",
      "New prediction: 0.495241\n"
     ]
    },
    {
     "data": {
      "text/html": [
       "the characters and for the reality it fictionally <b style='color:blue'>mirror</b> . it was an antidote to gone with the wind , birth of a nation , <b style='color:blue'>victoire</b> of the will and so many <b style='color:blue'>alternative</b> glorifiers of <b style='color:blue'>hating</b> and violence . i <b style='color:blue'>could</b> place it <b style='color:blue'>beside</b> the recent german film ( also virtually <b style='color:blue'>concealed</b> in the us ) , rosenstrasse . i remember that the tv version , also black and white in format as well as story , was blacked out by some stations because the black heros wife appeared white . as a young civil rights worker , it produced a <b style='color:blue'>disputing</b> for me because on the one hand i was opposed to smoking cigarettes and on the other opposed the boycott in georgia of a <b style='color:blue'>sponsored</b> of the tv show , a major tobacco company ( i no longer remember which one - - does anyone else ? ) . i <b style='color:blue'>could</b> <b style='color:blue'>adore</b> to find a cd of either the film or the tv show to let my sons see something that informed my opposition to racism universally ( as opposed to only fighting racism against jews ) and <b style='color:blue'>acknowledgement</b> of the <b style='color:blue'>implicit</b> connection between racism and militarism ."
      ],
      "text/plain": [
       "<IPython.core.display.HTML object>"
      ]
     },
     "metadata": {},
     "output_type": "display_data"
    },
    {
     "name": "stdout",
     "output_type": "stream",
     "text": [
      "--------------------------------------------------\n",
      "#353   index = 20272\n",
      "ATTACK SUCCEEDED\n",
      "Original prediction: 0.032342\n"
     ]
    },
    {
     "data": {
      "text/html": [
       "the opening scene makes you feel like youre watching a high school play . but ive seen high school plays with better acting ! every line was delivered so <b style='color:red'>obviously</b> that i felt like i was watching actors work instead of seeing characters . i found the character development to be poor and the acting very forced ! i found that 25 minutes into the movie , i <b style='color:red'>really</b> didnt care what happened anymore because the plot was overly obvious and i was bored . i <b style='color:red'>kept</b> hanging in there , waiting for the film to redeem itself , but it never happened . sister theresa was <b style='color:red'>overly</b> sweet , even for a nun , yet appeared impulsive and slightly manipulative . all in all , i was mighty <b style='color:red'>disappointed</b> ."
      ],
      "text/plain": [
       "<IPython.core.display.HTML object>"
      ]
     },
     "metadata": {},
     "output_type": "display_data"
    },
    {
     "name": "stdout",
     "output_type": "stream",
     "text": [
      "\n",
      "New prediction: 0.545872\n"
     ]
    },
    {
     "data": {
      "text/html": [
       "the opening scene makes you feel like youre watching a high school play . but ive seen high school plays with better acting ! every line was delivered so <b style='color:blue'>definitely</b> that i felt like i was watching actors work instead of seeing characters . i found the character development to be poor and the acting very forced ! i found that 25 minutes into the movie , i <b style='color:blue'>genuinely</b> didnt care what happened anymore because the plot was overly obvious and i was bored . i <b style='color:blue'>maintained</b> hanging in there , waiting for the film to redeem itself , but it never happened . sister theresa was <b style='color:blue'>immensely</b> sweet , even for a nun , yet appeared impulsive and slightly manipulative . all in all , i was mighty <b style='color:blue'>disenchanted</b> ."
      ],
      "text/plain": [
       "<IPython.core.display.HTML object>"
      ]
     },
     "metadata": {},
     "output_type": "display_data"
    },
    {
     "name": "stdout",
     "output_type": "stream",
     "text": [
      "--------------------------------------------------\n",
      "#354   index = 22950\n",
      "ATTACK SUCCEEDED\n",
      "Original prediction: 0.022203\n"
     ]
    },
    {
     "data": {
      "text/html": [
       "this is by far the most vapid , <b style='color:red'>idiotic</b> , <b style='color:red'>insanely</b> <b style='color:red'>stupid</b> <b style='color:red'>show</b> that has ever been on the air , and this is coming from <b style='color:red'>someone</b> who remembers san pedro beach bums . my wife loves watching reality <b style='color:red'>shows</b> - - and there was one episode of this <b style='color:red'>drivel</b> where the wannabes had to develop a walk . the end <b style='color:red'>result</b> was straight out of monty pythons ministry of <b style='color:red'>silly</b> walks sketch . i couldnt laugh hard enough . and <b style='color:red'>then</b> theres the ubiquitous ms . banks ( as in laughing all the <b style='color:red'>way</b> to the . . . ) . she has to be the most <b style='color:red'>annoying</b> self - <b style='color:red'>important</b> woman on tv since rosie odonnell left the <b style='color:red'>view</b> . as if modeling was doing <b style='color:red'>great</b> things for mankind . please . ive never found her attractive , and i dont find her intelligent now that she has the temerity to open her mouth . <b style='color:red'>someone</b> needs to tell these human <b style='color:red'>clothes</b> hangers to eat a <b style='color:red'>healthy</b> <b style='color:red'>diet</b> and actually look like real women ."
      ],
      "text/plain": [
       "<IPython.core.display.HTML object>"
      ]
     },
     "metadata": {},
     "output_type": "display_data"
    },
    {
     "name": "stdout",
     "output_type": "stream",
     "text": [
      "\n",
      "New prediction: 0.502171\n"
     ]
    },
    {
     "data": {
      "text/html": [
       "this is by far the most vapid , <b style='color:blue'>grotesque</b> , <b style='color:blue'>supremely</b> <b style='color:blue'>nonsensical</b> <b style='color:blue'>exposition</b> that has ever been on the air , and this is coming from <b style='color:blue'>somebody</b> who remembers san pedro beach bums . my wife loves watching reality <b style='color:blue'>showings</b> - - and there was one episode of this <b style='color:blue'>twaddle</b> where the wannabes had to develop a walk . the end <b style='color:blue'>outcome</b> was straight out of monty pythons ministry of <b style='color:blue'>senseless</b> walks sketch . i couldnt laugh hard enough . and <b style='color:blue'>thereafter</b> theres the ubiquitous ms . banks ( as in laughing all the <b style='color:blue'>path</b> to the . . . ) . she has to be the most <b style='color:blue'>pesky</b> self - <b style='color:blue'>momentous</b> woman on tv since rosie odonnell left the <b style='color:blue'>visualize</b> . as if modeling was doing <b style='color:blue'>superb</b> things for mankind . please . ive never found her attractive , and i dont find her intelligent now that she has the temerity to open her mouth . <b style='color:blue'>somebody</b> needs to tell these human <b style='color:blue'>garments</b> hangers to eat a <b style='color:blue'>wholesome</b> <b style='color:blue'>nourishment</b> and actually look like real women ."
      ],
      "text/plain": [
       "<IPython.core.display.HTML object>"
      ]
     },
     "metadata": {},
     "output_type": "display_data"
    },
    {
     "name": "stdout",
     "output_type": "stream",
     "text": [
      "--------------------------------------------------\n",
      "#355   index = 7920\n",
      "ATTACK SUCCEEDED\n",
      "Original prediction: 0.998452\n"
     ]
    },
    {
     "data": {
      "text/html": [
       "this movie in the early 80s and we used to have it on betamax . as we all know , betamax went the way of the 8 - trak tape , sigh , it really had nice picture quality too . anyways , im glad i found this movie again , ive been searching for it for more than 10 years ! this movie <b style='color:red'>falls</b> into the category of movies like airplane : continuous jokes , oneliners , funny actions ( bodylanguage ) . mark blankfield is <b style='color:red'>absolutely</b> hilarious . his transformation from the shy dr . daniel jekyll into the sex - crazed partyanimal mr . hyde is unforgettable , complete with goldtooth , chesthair and goldchains . the part i loved best was when he hijacked the car from this poor guy and then drove to madam woo woos . totally psychedelic experience without the drugs ! if you need laugh therapy this is the movie to do it . when i first seen it , i had tears in my eyes and my belly was hurting from constantly laughing . this is a movie i could watch over and over again . i <b style='color:red'>highly</b> recommend it ."
      ],
      "text/plain": [
       "<IPython.core.display.HTML object>"
      ]
     },
     "metadata": {},
     "output_type": "display_data"
    },
    {
     "name": "stdout",
     "output_type": "stream",
     "text": [
      "\n",
      "New prediction: 0.402532\n"
     ]
    },
    {
     "data": {
      "text/html": [
       "this movie in the early 80s and we used to have it on betamax . as we all know , betamax went the way of the 8 - trak tape , sigh , it really had nice picture quality too . anyways , im glad i found this movie again , ive been searching for it for more than 10 years ! this movie <b style='color:blue'>tumbles</b> into the category of movies like airplane : continuous jokes , oneliners , funny actions ( bodylanguage ) . mark blankfield is <b style='color:blue'>definitively</b> hilarious . his transformation from the shy dr . daniel jekyll into the sex - crazed partyanimal mr . hyde is unforgettable , complete with goldtooth , chesthair and goldchains . the part i loved best was when he hijacked the car from this poor guy and then drove to madam woo woos . totally psychedelic experience without the drugs ! if you need laugh therapy this is the movie to do it . when i first seen it , i had tears in my eyes and my belly was hurting from constantly laughing . this is a movie i could watch over and over again . i <b style='color:blue'>terribly</b> recommend it ."
      ],
      "text/plain": [
       "<IPython.core.display.HTML object>"
      ]
     },
     "metadata": {},
     "output_type": "display_data"
    },
    {
     "name": "stdout",
     "output_type": "stream",
     "text": [
      "--------------------------------------------------\n",
      "#356   index = 16457\n",
      "ATTACK FAILED\n",
      "--------------------------------------------------\n",
      "#357   index = 7141\n",
      "ATTACK SUCCEEDED\n",
      "Original prediction: 0.915485\n"
     ]
    },
    {
     "data": {
      "text/html": [
       "did not enthuse me . . . . . . however the end result knocked me for 6 . this is some of the best television i have seen in ages . for years i was under the impression that all originality had left the bbcs drama department . our friends in the north was the last production that truly blew me away and that was 10 years ago . however faith is restored and honour is satisfied . david tenant was <b style='color:red'>incredible</b> ! so many actors i can think of would have really gone to town on a part like this , but never once did i see mr tenant as an actor or as the doctor , all i saw was alan hamilton . i havent had my heart wrenched this much since daniel craigs performance as geordie peacock all those years ago . sarah parish was also incredible and i really hope this role brings her better roles in the future . all of the cast were <b style='color:red'>great</b> but special mention must go to the director who really placed us inside alans head . the toaster scene , in particular , made me feel quite queasy ."
      ],
      "text/plain": [
       "<IPython.core.display.HTML object>"
      ]
     },
     "metadata": {},
     "output_type": "display_data"
    },
    {
     "name": "stdout",
     "output_type": "stream",
     "text": [
      "\n",
      "New prediction: 0.173324\n"
     ]
    },
    {
     "data": {
      "text/html": [
       "did not enthuse me . . . . . . however the end result knocked me for 6 . this is some of the best television i have seen in ages . for years i was under the impression that all originality had left the bbcs drama department . our friends in the north was the last production that truly blew me away and that was 10 years ago . however faith is restored and honour is satisfied . david tenant was <b style='color:blue'>staggering</b> ! so many actors i can think of would have really gone to town on a part like this , but never once did i see mr tenant as an actor or as the doctor , all i saw was alan hamilton . i havent had my heart wrenched this much since daniel craigs performance as geordie peacock all those years ago . sarah parish was also incredible and i really hope this role brings her better roles in the future . all of the cast were <b style='color:blue'>grandiose</b> but special mention must go to the director who really placed us inside alans head . the toaster scene , in particular , made me feel quite queasy ."
      ],
      "text/plain": [
       "<IPython.core.display.HTML object>"
      ]
     },
     "metadata": {},
     "output_type": "display_data"
    },
    {
     "name": "stdout",
     "output_type": "stream",
     "text": [
      "--------------------------------------------------\n",
      "#358   index = 21915\n",
      "ATTACK SUCCEEDED\n",
      "Original prediction: 0.031300\n"
     ]
    },
    {
     "data": {
      "text/html": [
       "a peek at whenever she takes a shower or a crap . carrie is an <b style='color:red'>annoying</b> little kid , but stick a cookie in her mouth and you wont even know shes there , in fact , where is she ? . . . <b style='color:red'>oh</b> , there she is . . . shes in the yard playing with a pack of cigarettes . . . how <b style='color:red'>cute</b> ! half - pint is the towns youngest screw - up . she may not have a brain or any kind of a body to speak of , but she can spit farther then any boy in the <b style='color:red'>whole</b> freaking school . its a <b style='color:red'>great</b> town , walnut grove , where someone is always falling off a <b style='color:red'>roof</b> or getting run over by a wagon wheel , and its <b style='color:red'>beautiful</b> , too , made up of one building . . . the church / school - house / town hall / pool room . ah , it gets a little hairy on the prairie , but thats ok , <b style='color:red'>especially</b> when mary is taking a bath in the crick . . . thats when you can <b style='color:red'>see</b> how hairy it <b style='color:red'>really</b> is ."
      ],
      "text/plain": [
       "<IPython.core.display.HTML object>"
      ]
     },
     "metadata": {},
     "output_type": "display_data"
    },
    {
     "name": "stdout",
     "output_type": "stream",
     "text": [
      "\n",
      "New prediction: 0.507653\n"
     ]
    },
    {
     "data": {
      "text/html": [
       "a peek at whenever she takes a shower or a crap . carrie is an <b style='color:blue'>pesky</b> little kid , but stick a cookie in her mouth and you wont even know shes there , in fact , where is she ? . . . <b style='color:blue'>ah</b> , there she is . . . shes in the yard playing with a pack of cigarettes . . . how <b style='color:blue'>adorable</b> ! half - pint is the towns youngest screw - up . she may not have a brain or any kind of a body to speak of , but she can spit farther then any boy in the <b style='color:blue'>entire</b> freaking school . its a <b style='color:blue'>superb</b> town , walnut grove , where someone is always falling off a <b style='color:blue'>ceiling</b> or getting run over by a wagon wheel , and its <b style='color:blue'>splendid</b> , too , made up of one building . . . the church / school - house / town hall / pool room . ah , it gets a little hairy on the prairie , but thats ok , <b style='color:blue'>peculiarly</b> when mary is taking a bath in the crick . . . thats when you can <b style='color:blue'>behold</b> how hairy it <b style='color:blue'>genuinely</b> is ."
      ],
      "text/plain": [
       "<IPython.core.display.HTML object>"
      ]
     },
     "metadata": {},
     "output_type": "display_data"
    },
    {
     "name": "stdout",
     "output_type": "stream",
     "text": [
      "--------------------------------------------------\n",
      "#359   index = 24428\n",
      "ATTACK FAILED\n",
      "--------------------------------------------------\n",
      "#360   index = 5518\n",
      "ATTACK SUCCEEDED\n",
      "Original prediction: 0.992502\n"
     ]
    },
    {
     "data": {
      "text/html": [
       "2 uses golf as a <b style='color:red'>backdrop</b> for a stick - it - to - the - <b style='color:red'>rich</b> type of comedy that makes one feel better about being working class . 80s script ? <b style='color:red'>yes</b> . a <b style='color:red'>bit</b> far - fetched ? <b style='color:red'>yes</b> , but wasnt the first ? an insult to the sport of golf ? <b style='color:red'>yes</b> , its a movie . thin story ? <b style='color:red'>yes</b> , its a comedy with actual humor - not dances with wolves ! ! besides - <b style='color:red'>part</b> 2 has a much better soundtrack ! ! please - dont expect this to be a sequel to <b style='color:red'>part</b> one ! ! it is 98 % its own movie and shouldnt even have the name caddyshack in it . that said , i am a <b style='color:red'>big</b> fan of caddyshack 2 and it is a <b style='color:red'>great</b> exponent of 80s fluff <b style='color:red'>entertainment</b> with quality humor . viva jackie mason ! ! ! to all the reducers - lighten up ! its a <b style='color:red'>great</b> comedy of its own . randy quaid was <b style='color:red'>wonderful</b> , <b style='color:red'>jonathan</b> <b style='color:red'>silverman</b> was <b style='color:red'>wonderful</b> , heck , everyone was ! ! all this chatting and now i feel like watching it ! i <b style='color:red'>think</b> i will"
      ],
      "text/plain": [
       "<IPython.core.display.HTML object>"
      ]
     },
     "metadata": {},
     "output_type": "display_data"
    },
    {
     "name": "stdout",
     "output_type": "stream",
     "text": [
      "\n",
      "New prediction: 0.496565\n"
     ]
    },
    {
     "data": {
      "text/html": [
       "2 uses golf as a <b style='color:blue'>context</b> for a stick - it - to - the - <b style='color:blue'>wealthy</b> type of comedy that makes one feel better about being working class . 80s script ? <b style='color:blue'>yup</b> . a <b style='color:blue'>bite</b> far - fetched ? <b style='color:blue'>yup</b> , but wasnt the first ? an insult to the sport of golf ? <b style='color:blue'>yup</b> , its a movie . thin story ? <b style='color:blue'>yep</b> , its a comedy with actual humor - not dances with wolves ! ! besides - <b style='color:blue'>portion</b> 2 has a much better soundtrack ! ! please - dont expect this to be a sequel to <b style='color:blue'>portion</b> one ! ! it is 98 % its own movie and shouldnt even have the name caddyshack in it . that said , i am a <b style='color:blue'>huge</b> fan of caddyshack 2 and it is a <b style='color:blue'>fanciful</b> exponent of 80s fluff <b style='color:blue'>amusement</b> with quality humor . viva jackie mason ! ! ! to all the reducers - lighten up ! its a <b style='color:blue'>fanciful</b> comedy of its own . randy quaid was <b style='color:blue'>fanciful</b> , <b style='color:blue'>jonathon</b> <b style='color:blue'>dunham</b> was <b style='color:blue'>fanciful</b> , heck , everyone was ! ! all this chatting and now i feel like watching it ! i <b style='color:blue'>idea</b> i will"
      ],
      "text/plain": [
       "<IPython.core.display.HTML object>"
      ]
     },
     "metadata": {},
     "output_type": "display_data"
    },
    {
     "name": "stdout",
     "output_type": "stream",
     "text": [
      "--------------------------------------------------\n",
      "#361   index = 20170\n",
      "ATTACK SUCCEEDED\n",
      "Original prediction: 0.010532\n"
     ]
    },
    {
     "data": {
      "text/html": [
       "im very disappointed . first of all , the german synchronization is <b style='color:red'>bad</b> . maybe in the original version ( with subtitles ) it would have been better , but the whole movie looks like if the director saw luna papa and black cat white cat and tried to produce something in this style , too . but failed in every aspect . its an incongruent <b style='color:red'>mixture</b> of a <b style='color:red'>weird</b> <b style='color:red'>unbelievable</b> story and very <b style='color:red'>childish</b> gags . no atmosphere , no life . extremely primitive sex - humor . i voted 2 , because 1 is the worst , and the other point for sybilla , shes really cute . sorry - i like eastern movies , but this one is <b style='color:red'>really</b> superfluous ."
      ],
      "text/plain": [
       "<IPython.core.display.HTML object>"
      ]
     },
     "metadata": {},
     "output_type": "display_data"
    },
    {
     "name": "stdout",
     "output_type": "stream",
     "text": [
      "\n",
      "New prediction: 0.532964\n"
     ]
    },
    {
     "data": {
      "text/html": [
       "im very disappointed . first of all , the german synchronization is <b style='color:blue'>wicked</b> . maybe in the original version ( with subtitles ) it would have been better , but the whole movie looks like if the director saw luna papa and black cat white cat and tried to produce something in this style , too . but failed in every aspect . its an incongruent <b style='color:blue'>blend</b> of a <b style='color:blue'>bizarre</b> <b style='color:blue'>impressive</b> story and very <b style='color:blue'>boyish</b> gags . no atmosphere , no life . extremely primitive sex - humor . i voted 2 , because 1 is the worst , and the other point for sybilla , shes really cute . sorry - i like eastern movies , but this one is <b style='color:blue'>genuinely</b> superfluous ."
      ],
      "text/plain": [
       "<IPython.core.display.HTML object>"
      ]
     },
     "metadata": {},
     "output_type": "display_data"
    },
    {
     "name": "stdout",
     "output_type": "stream",
     "text": [
      "--------------------------------------------------\n",
      "#362   index = 10904\n",
      "ATTACK SUCCEEDED\n",
      "Original prediction: 0.977466\n"
     ]
    },
    {
     "data": {
      "text/html": [
       "and <b style='color:red'>grotesque</b> humor ; at the same time , however , the music , lyrics , and subplot of an innocent in the clutches of <b style='color:red'>evil</b> open out the subject to <b style='color:red'>numerous</b> lyric charms one would not expect . sondheims lyrics are often ironic , but never more so than here ; he intertwines a <b style='color:red'>great</b> deal of <b style='color:red'>wicked</b> satire re industry and capitalism along the way , and certainly one cannot fault the strange yet victorian - elegant of his complex music . like the concert version starring hern and patti lupone , this particular film also provides us with several selections that were cut from the 2007 tim burton film version , most <b style='color:red'>particularly</b> the opening attend the tale of sweeney todd , which runs like a thread throughout the play . it is also , in my opinion , considerably more comic than the film , which tends to underplay comedy in favor of a still greater show of blood . whatever the case , if you are a fan of the story , this is the legendary broadway show on tour , and it is a knock - out . recommended . gft , amazon reviewer"
      ],
      "text/plain": [
       "<IPython.core.display.HTML object>"
      ]
     },
     "metadata": {},
     "output_type": "display_data"
    },
    {
     "name": "stdout",
     "output_type": "stream",
     "text": [
      "\n",
      "New prediction: 0.476782\n"
     ]
    },
    {
     "data": {
      "text/html": [
       "and <b style='color:blue'>laughable</b> humor ; at the same time , however , the music , lyrics , and subplot of an innocent in the clutches of <b style='color:blue'>malign</b> open out the subject to <b style='color:blue'>countless</b> lyric charms one would not expect . sondheims lyrics are often ironic , but never more so than here ; he intertwines a <b style='color:blue'>grandiose</b> deal of <b style='color:blue'>bad</b> satire re industry and capitalism along the way , and certainly one cannot fault the strange yet victorian - elegant of his complex music . like the concert version starring hern and patti lupone , this particular film also provides us with several selections that were cut from the 2007 tim burton film version , most <b style='color:blue'>specifically</b> the opening attend the tale of sweeney todd , which runs like a thread throughout the play . it is also , in my opinion , considerably more comic than the film , which tends to underplay comedy in favor of a still greater show of blood . whatever the case , if you are a fan of the story , this is the legendary broadway show on tour , and it is a knock - out . recommended . gft , amazon reviewer"
      ],
      "text/plain": [
       "<IPython.core.display.HTML object>"
      ]
     },
     "metadata": {},
     "output_type": "display_data"
    },
    {
     "name": "stdout",
     "output_type": "stream",
     "text": [
      "--------------------------------------------------\n",
      "#363   index = 10363\n",
      "ATTACK FAILED\n",
      "--------------------------------------------------\n",
      "#364   index = 10646\n",
      "ATTACK FAILED\n",
      "--------------------------------------------------\n",
      "#365   index = 19338\n",
      "ATTACK SUCCEEDED\n",
      "Original prediction: 0.007420\n"
     ]
    },
    {
     "data": {
      "text/html": [
       "how this <b style='color:red'>character</b> ever got hired by the post office is far beyond me . the test that postal workers take is so <b style='color:red'>difficult</b> . there is no way that a <b style='color:red'>guy</b> this stupid can work at the post office . everyone in this movie is just <b style='color:red'>stupid</b> and that is probably the point of the movie . how they could go their entire lives and not see an elevator is also <b style='color:red'>puzzling</b> . i didnt take this movie too <b style='color:red'>seriously</b> but it was so <b style='color:red'>stupid</b> . then he <b style='color:red'>tries</b> to <b style='color:red'>start</b> the <b style='color:red'>car</b> without his keys ? lots of <b style='color:red'>horrible</b> scenes and <b style='color:red'>horrible</b> acting and this <b style='color:red'>movie</b> is not funny at all . its just a <b style='color:red'>sad</b> <b style='color:red'>stupid</b> <b style='color:red'>mess</b> . i liked the moms dress though . send it back to sender as <b style='color:red'>soon</b> as <b style='color:red'>possible</b> ."
      ],
      "text/plain": [
       "<IPython.core.display.HTML object>"
      ]
     },
     "metadata": {},
     "output_type": "display_data"
    },
    {
     "name": "stdout",
     "output_type": "stream",
     "text": [
      "\n",
      "New prediction: 0.501124\n"
     ]
    },
    {
     "data": {
      "text/html": [
       "how this <b style='color:blue'>nature</b> ever got hired by the post office is far beyond me . the test that postal workers take is so <b style='color:blue'>complicated</b> . there is no way that a <b style='color:blue'>bloke</b> this stupid can work at the post office . everyone in this movie is just <b style='color:blue'>grotesque</b> and that is probably the point of the movie . how they could go their entire lives and not see an elevator is also <b style='color:blue'>disorienting</b> . i didnt take this movie too <b style='color:blue'>gravely</b> but it was so <b style='color:blue'>asinine</b> . then he <b style='color:blue'>endeavours</b> to <b style='color:blue'>commencement</b> the <b style='color:blue'>auto</b> without his keys ? lots of <b style='color:blue'>harrowing</b> scenes and <b style='color:blue'>frightening</b> acting and this <b style='color:blue'>film</b> is not funny at all . its just a <b style='color:blue'>sorrowful</b> <b style='color:blue'>asinine</b> <b style='color:blue'>muddle</b> . i liked the moms dress though . send it back to sender as <b style='color:blue'>shortly</b> as <b style='color:blue'>attainable</b> ."
      ],
      "text/plain": [
       "<IPython.core.display.HTML object>"
      ]
     },
     "metadata": {},
     "output_type": "display_data"
    },
    {
     "name": "stdout",
     "output_type": "stream",
     "text": [
      "--------------------------------------------------\n",
      "#366   index = 17859\n",
      "ATTACK SUCCEEDED\n",
      "Original prediction: 0.001413\n"
     ]
    },
    {
     "data": {
      "text/html": [
       "i am a big fan of british films in general but especially gangster movies . unfortunately this film was <b style='color:red'>shockingly</b> <b style='color:red'>bad</b> . i think its <b style='color:red'>pretty</b> depressing that this film is getting any good customer reviews . the idea that this film is gritty and <b style='color:red'>realistic</b> is <b style='color:red'>laughable</b> . i have read and heard fist hand quite a lot about the real life events shown in this movie and they have nearly all been glorified with over the top violence etc . the only gritty true to life event in the whole film was the range rover murders where some overblown bouncers got rubbed out for messing with people they could not handle . this film is a <b style='color:red'>disgrace</b> to british cinema ! it has no plot and no decent acting and just relies on being violent ( gritty and realistic as some people like to put it ) the sort of people who made this film should not be allowed near a budget or film camera just as the sort of people this film is about should not be given the opportunity to tell this <b style='color:red'>pathetic</b> violent little tale of no <b style='color:red'>consequence</b> ."
      ],
      "text/plain": [
       "<IPython.core.display.HTML object>"
      ]
     },
     "metadata": {},
     "output_type": "display_data"
    },
    {
     "name": "stdout",
     "output_type": "stream",
     "text": [
      "\n",
      "New prediction: 0.529105\n"
     ]
    },
    {
     "data": {
      "text/html": [
       "i am a big fan of british films in general but especially gangster movies . unfortunately this film was <b style='color:blue'>supremely</b> <b style='color:blue'>wicked</b> . i think its <b style='color:blue'>quite</b> depressing that this film is getting any good customer reviews . the idea that this film is gritty and <b style='color:blue'>lifelike</b> is <b style='color:blue'>grotesque</b> . i have read and heard fist hand quite a lot about the real life events shown in this movie and they have nearly all been glorified with over the top violence etc . the only gritty true to life event in the whole film was the range rover murders where some overblown bouncers got rubbed out for messing with people they could not handle . this film is a <b style='color:blue'>dishonor</b> to british cinema ! it has no plot and no decent acting and just relies on being violent ( gritty and realistic as some people like to put it ) the sort of people who made this film should not be allowed near a budget or film camera just as the sort of people this film is about should not be given the opportunity to tell this <b style='color:blue'>pitiable</b> violent little tale of no <b style='color:blue'>aftermath</b> ."
      ],
      "text/plain": [
       "<IPython.core.display.HTML object>"
      ]
     },
     "metadata": {},
     "output_type": "display_data"
    },
    {
     "name": "stdout",
     "output_type": "stream",
     "text": [
      "--------------------------------------------------\n",
      "#367   index = 8145\n",
      "ATTACK FAILED\n",
      "--------------------------------------------------\n",
      "#368   index = 11235\n",
      "ATTACK SUCCEEDED\n",
      "Original prediction: 0.924206\n"
     ]
    },
    {
     "data": {
      "text/html": [
       "at war where most of the casualties are the civilians have come of age . this is a dark <b style='color:red'>disturbing</b> film that is told from the average persons point of <b style='color:red'>view</b> with the complete <b style='color:red'>sense</b> of hopeless and confusion best expressed in the thought that kept running through my head , what do i do now ? . as an intellectual exercise the <b style='color:red'>film</b> is <b style='color:red'>top</b> notch , this is a <b style='color:red'>film</b> that will make you <b style='color:red'>think</b> . as an <b style='color:red'>emotional</b> <b style='color:red'>film</b> it is touching but never <b style='color:red'>fully</b> moving . i was never moved emotionally even as the horror of the situation made my brain do flip flops . ( i should <b style='color:red'>state</b> that i admire bergman intellectually for the ideas that he brings to the table , however i have never been moved by his films . i am not a fan . i <b style='color:red'>always</b> sided with fellini in the old film class argument as to who was better since he had more emotion to his films ) . reservations aside this is require viewing <b style='color:red'>especially</b> since we live in a world were war , for most of us , is just a thing on a tv screen ."
      ],
      "text/plain": [
       "<IPython.core.display.HTML object>"
      ]
     },
     "metadata": {},
     "output_type": "display_data"
    },
    {
     "name": "stdout",
     "output_type": "stream",
     "text": [
      "\n",
      "New prediction: 0.498282\n"
     ]
    },
    {
     "data": {
      "text/html": [
       "at war where most of the casualties are the civilians have come of age . this is a dark <b style='color:blue'>alarming</b> film that is told from the average persons point of <b style='color:blue'>standpoint</b> with the complete <b style='color:blue'>sensing</b> of hopeless and confusion best expressed in the thought that kept running through my head , what do i do now ? . as an intellectual exercise the <b style='color:blue'>filmmaking</b> is <b style='color:blue'>tops</b> notch , this is a <b style='color:blue'>filmmaking</b> that will make you <b style='color:blue'>idea</b> . as an <b style='color:blue'>sentimental</b> <b style='color:blue'>filmmaking</b> it is touching but never <b style='color:blue'>utterly</b> moving . i was never moved emotionally even as the horror of the situation made my brain do flip flops . ( i should <b style='color:blue'>sate</b> that i admire bergman intellectually for the ideas that he brings to the table , however i have never been moved by his films . i am not a fan . i <b style='color:blue'>perpetually</b> sided with fellini in the old film class argument as to who was better since he had more emotion to his films ) . reservations aside this is require viewing <b style='color:blue'>primarily</b> since we live in a world were war , for most of us , is just a thing on a tv screen ."
      ],
      "text/plain": [
       "<IPython.core.display.HTML object>"
      ]
     },
     "metadata": {},
     "output_type": "display_data"
    },
    {
     "name": "stdout",
     "output_type": "stream",
     "text": [
      "--------------------------------------------------\n",
      "#369   index = 16827\n",
      "ATTACK SUCCEEDED\n",
      "Original prediction: 0.028384\n"
     ]
    },
    {
     "data": {
      "text/html": [
       "years many sitcoms have come on the air and of those a very small percentage are genuinally smart and funny . the war at home is a prime example of the majority of modern american comedy . i give the show a 3 out of 10 because it is what it aims to be , a comedy , but it doesnt seem to go out of its way to be a good comedy . a good comedy should have you swept off your feet with its big jokes , you shouldnt be able to see them coming and in twah i see just about every joke coming . the characters are probably the most simplistic and <b style='color:red'>horrible</b> stereotypes i have seen yet on screen , and the acting isnt very good save for the father who portrays a stereotypical beer drinking sport loving american idiot perfectly . poor acting , <b style='color:red'>unbelievable</b> characters , and jokes that dont catch you off guard detract from this show to a point of where it is unwatchable . if you dont have cable and would like to see a comedy worth watching , try boston legal . it is more worth your time ."
      ],
      "text/plain": [
       "<IPython.core.display.HTML object>"
      ]
     },
     "metadata": {},
     "output_type": "display_data"
    },
    {
     "name": "stdout",
     "output_type": "stream",
     "text": [
      "\n",
      "New prediction: 0.505666\n"
     ]
    },
    {
     "data": {
      "text/html": [
       "years many sitcoms have come on the air and of those a very small percentage are genuinally smart and funny . the war at home is a prime example of the majority of modern american comedy . i give the show a 3 out of 10 because it is what it aims to be , a comedy , but it doesnt seem to go out of its way to be a good comedy . a good comedy should have you swept off your feet with its big jokes , you shouldnt be able to see them coming and in twah i see just about every joke coming . the characters are probably the most simplistic and <b style='color:blue'>harrowing</b> stereotypes i have seen yet on screen , and the acting isnt very good save for the father who portrays a stereotypical beer drinking sport loving american idiot perfectly . poor acting , <b style='color:blue'>superb</b> characters , and jokes that dont catch you off guard detract from this show to a point of where it is unwatchable . if you dont have cable and would like to see a comedy worth watching , try boston legal . it is more worth your time ."
      ],
      "text/plain": [
       "<IPython.core.display.HTML object>"
      ]
     },
     "metadata": {},
     "output_type": "display_data"
    },
    {
     "name": "stdout",
     "output_type": "stream",
     "text": [
      "--------------------------------------------------\n",
      "#370   index = 13603\n",
      "ATTACK SUCCEEDED\n",
      "Original prediction: 0.047731\n"
     ]
    },
    {
     "data": {
      "text/html": [
       "it even worse when the only cast member that has a little bit ( and i mean little bit ) of acting talent is justin bradley as sadies brother hal . jasmine richards and michael dascenzo portray sadies friends . there both really stupid and just <b style='color:red'>terrible</b> actors . two words that can really describe this show is <b style='color:red'>terribly</b> corny . its corny humor that only little girls find funny because their brains have not developed yet . now ive explained my hatred for the acting and the <b style='color:red'>horrible</b> humor , whats next ? the whole premise of the show is a <b style='color:red'>stupid</b> idea . she changed again ( not so sciencey an ben - loving ) and suddenly nobody recognizes her ? its moronic . in summation , i hate this show , however little girls who do not have a concept of funny will enjoy it , so i guess thats what theyre going for over quality . although i can say as much as , the first season is <b style='color:red'>clearly</b> better than the second . bottom line : just dont watch any of it . my rating : awful show . tv g . 30 mins ."
      ],
      "text/plain": [
       "<IPython.core.display.HTML object>"
      ]
     },
     "metadata": {},
     "output_type": "display_data"
    },
    {
     "name": "stdout",
     "output_type": "stream",
     "text": [
      "\n",
      "New prediction: 0.559765\n"
     ]
    },
    {
     "data": {
      "text/html": [
       "it even worse when the only cast member that has a little bit ( and i mean little bit ) of acting talent is justin bradley as sadies brother hal . jasmine richards and michael dascenzo portray sadies friends . there both really stupid and just <b style='color:blue'>harrowing</b> actors . two words that can really describe this show is <b style='color:blue'>incredibly</b> corny . its corny humor that only little girls find funny because their brains have not developed yet . now ive explained my hatred for the acting and the <b style='color:blue'>harrowing</b> humor , whats next ? the whole premise of the show is a <b style='color:blue'>asinine</b> idea . she changed again ( not so sciencey an ben - loving ) and suddenly nobody recognizes her ? its moronic . in summation , i hate this show , however little girls who do not have a concept of funny will enjoy it , so i guess thats what theyre going for over quality . although i can say as much as , the first season is <b style='color:blue'>absolutely</b> better than the second . bottom line : just dont watch any of it . my rating : awful show . tv g . 30 mins ."
      ],
      "text/plain": [
       "<IPython.core.display.HTML object>"
      ]
     },
     "metadata": {},
     "output_type": "display_data"
    },
    {
     "name": "stdout",
     "output_type": "stream",
     "text": [
      "--------------------------------------------------\n",
      "#371   index = 21694\n",
      "ATTACK FAILED\n",
      "--------------------------------------------------\n",
      "#372   index = 17393\n",
      "ATTACK SUCCEEDED\n",
      "Original prediction: 0.068819\n"
     ]
    },
    {
     "data": {
      "text/html": [
       "a new wrestling show paves way for the most feared wrestler ever <b style='color:red'>imaginable</b> , the giant zeus . network president brell does everything in his power to draw wwf champion <b style='color:red'>rip</b> into the squared circle to <b style='color:red'>face</b> off against zeus for the championship of the battle of the <b style='color:red'>tough</b> guys . but zeus is unlike any competitor <b style='color:red'>rip</b> has ever faced . normally i would give hogan some leeway as a wrestler crossing over into a movie role , <b style='color:red'>however</b> this <b style='color:red'>film</b> didnt ask the hulkster to make very much of a stretch , it simply asked hogan to play himself , which he failed at miserably . tiny lister made a <b style='color:red'>good</b> <b style='color:red'>effort</b> as the <b style='color:red'>mighty</b> zeus , but even his <b style='color:red'>work</b> left the film lacking something , namely acting ! watch this movie , if you so desire , with a grain of salt and a sense of humor , otherwise you will probably have to turn it off a little over <b style='color:red'>ten</b> minutes in ."
      ],
      "text/plain": [
       "<IPython.core.display.HTML object>"
      ]
     },
     "metadata": {},
     "output_type": "display_data"
    },
    {
     "name": "stdout",
     "output_type": "stream",
     "text": [
      "\n",
      "New prediction: 0.516951\n"
     ]
    },
    {
     "data": {
      "text/html": [
       "a new wrestling show paves way for the most feared wrestler ever <b style='color:blue'>conceivable</b> , the giant zeus . network president brell does everything in his power to draw wwf champion <b style='color:blue'>tear</b> into the squared circle to <b style='color:blue'>confront</b> off against zeus for the championship of the battle of the <b style='color:blue'>harsh</b> guys . but zeus is unlike any competitor <b style='color:blue'>tear</b> has ever faced . normally i would give hogan some leeway as a wrestler crossing over into a movie role , <b style='color:blue'>nonetheless</b> this <b style='color:blue'>filmmaking</b> didnt ask the hulkster to make very much of a stretch , it simply asked hogan to play himself , which he failed at miserably . tiny lister made a <b style='color:blue'>exemplary</b> <b style='color:blue'>endeavor</b> as the <b style='color:blue'>potent</b> zeus , but even his <b style='color:blue'>working</b> left the film lacking something , namely acting ! watch this movie , if you so desire , with a grain of salt and a sense of humor , otherwise you will probably have to turn it off a little over <b style='color:blue'>thirteen</b> minutes in ."
      ],
      "text/plain": [
       "<IPython.core.display.HTML object>"
      ]
     },
     "metadata": {},
     "output_type": "display_data"
    },
    {
     "name": "stdout",
     "output_type": "stream",
     "text": [
      "--------------------------------------------------\n",
      "#373   index = 5176\n",
      "ATTACK SUCCEEDED\n",
      "Original prediction: 0.967796\n"
     ]
    },
    {
     "data": {
      "text/html": [
       "yeah rock hudson was ok , too : ) julie andrews is the beautiful and well - loved singer , lili smith . rock hudson portrays major larabee , who quickly falls for lili , and she with him . but their affair was not coincedental . there meeting was planned by the german government ( im not sure if thats exactly what youd call them , but you get the point ) , because the warm , happy , singing entertainer lili is actually a german spy . lili is told to seduce major larabee in order to get information of the new top secret opertaion ( later know as crepe suzette ) . though lili is on a solemn mission , she falls in love with bill ( major larabee ) , for real , making her original quest challenging . but lili pulls through and completes er <b style='color:red'>task</b> , after she finds out something that is not really true about bill . the ending will remain unsaid by me as it is <b style='color:red'>wonderfully</b> layed out . if anything , youll thoroughly <b style='color:red'>enjoy</b> this movie , i most <b style='color:red'>certainly</b> did ! ! ! ! ! ! ! !"
      ],
      "text/plain": [
       "<IPython.core.display.HTML object>"
      ]
     },
     "metadata": {},
     "output_type": "display_data"
    },
    {
     "name": "stdout",
     "output_type": "stream",
     "text": [
      "\n",
      "New prediction: 0.414085\n"
     ]
    },
    {
     "data": {
      "text/html": [
       "yeah rock hudson was ok , too : ) julie andrews is the beautiful and well - loved singer , lili smith . rock hudson portrays major larabee , who quickly falls for lili , and she with him . but their affair was not coincedental . there meeting was planned by the german government ( im not sure if thats exactly what youd call them , but you get the point ) , because the warm , happy , singing entertainer lili is actually a german spy . lili is told to seduce major larabee in order to get information of the new top secret opertaion ( later know as crepe suzette ) . though lili is on a solemn mission , she falls in love with bill ( major larabee ) , for real , making her original quest challenging . but lili pulls through and completes er <b style='color:blue'>chore</b> , after she finds out something that is not really true about bill . the ending will remain unsaid by me as it is <b style='color:blue'>excellently</b> layed out . if anything , youll thoroughly <b style='color:blue'>experience</b> this movie , i most <b style='color:blue'>assuredly</b> did ! ! ! ! ! ! ! !"
      ],
      "text/plain": [
       "<IPython.core.display.HTML object>"
      ]
     },
     "metadata": {},
     "output_type": "display_data"
    },
    {
     "name": "stdout",
     "output_type": "stream",
     "text": [
      "--------------------------------------------------\n",
      "#374   index = 22140\n",
      "ATTACK SUCCEEDED\n",
      "Original prediction: 0.014402\n"
     ]
    },
    {
     "data": {
      "text/html": [
       "is it just me or have all horror movies become nothing more than titties , slapstick , and an over the top villain who cannot be killed . this <b style='color:red'>movie</b> had no point . whatever happened to the days of a person being able to escape from the killer as in hostel . and at least make the killer a little more <b style='color:red'>realistic</b> . victor crowley was the <b style='color:red'>worst</b> killer i have ever seen . he reminded me of a demon spawn between quasimodo and leatherface . it was over the top that <b style='color:red'>while</b> victor was lying there on fire no one thought to finish the job . and the ending was the <b style='color:red'>biggest</b> <b style='color:red'>disappointment</b> of all reminiscent of the sopranos finale . i had to agree with the fella behind me when he blurted . . . what the f * * * ! if i <b style='color:red'>could</b> give the movie a negative <b style='color:red'>score</b> i would have <b style='color:red'>taken</b> care of it ."
      ],
      "text/plain": [
       "<IPython.core.display.HTML object>"
      ]
     },
     "metadata": {},
     "output_type": "display_data"
    },
    {
     "name": "stdout",
     "output_type": "stream",
     "text": [
      "\n",
      "New prediction: 0.502433\n"
     ]
    },
    {
     "data": {
      "text/html": [
       "is it just me or have all horror movies become nothing more than titties , slapstick , and an over the top villain who cannot be killed . this <b style='color:blue'>film</b> had no point . whatever happened to the days of a person being able to escape from the killer as in hostel . and at least make the killer a little more <b style='color:blue'>pragmatic</b> . victor crowley was the <b style='color:blue'>lousiest</b> killer i have ever seen . he reminded me of a demon spawn between quasimodo and leatherface . it was over the top that <b style='color:blue'>whilst</b> victor was lying there on fire no one thought to finish the job . and the ending was the <b style='color:blue'>greatest</b> <b style='color:blue'>disillusionment</b> of all reminiscent of the sopranos finale . i had to agree with the fella behind me when he blurted . . . what the f * * * ! if i <b style='color:blue'>can</b> give the movie a negative <b style='color:blue'>scoring</b> i would have <b style='color:blue'>took</b> care of it ."
      ],
      "text/plain": [
       "<IPython.core.display.HTML object>"
      ]
     },
     "metadata": {},
     "output_type": "display_data"
    },
    {
     "name": "stdout",
     "output_type": "stream",
     "text": [
      "--------------------------------------------------\n",
      "#375   index = 15636\n",
      "ATTACK FAILED\n",
      "--------------------------------------------------\n",
      "#376   index = 19433\n",
      "ATTACK SUCCEEDED\n",
      "Original prediction: 0.002216\n"
     ]
    },
    {
     "data": {
      "text/html": [
       "seems like some of the previous reviewers has seen another movie than what i saw earlier tonight . . . actually , this movie is the reason why i registered at imdb . sure bobbie phillips can fight and for that i give this movie a 2 , but the rest of this movie is just pure <b style='color:red'>crap</b> . . . the acting is <b style='color:red'>bad</b> , the plot is <b style='color:red'>bad</b> , the camera angles are <b style='color:red'>bad</b> , and the effects are <b style='color:red'>bad</b> . sure the actors are in physical good shape , but they cannot act ! sometimes i enjoy watching bad movies for the laugh , but this movie had no charm and after i saw this movie i was filled with regrets for seeing it . sure , if you would like to see mediocre fighting without anything else then this movie is for you . if not then stay away from this film ! ps : sorry for any spelling mistakes . . . i am just tired as a <b style='color:red'>cause</b> of this movie !"
      ],
      "text/plain": [
       "<IPython.core.display.HTML object>"
      ]
     },
     "metadata": {},
     "output_type": "display_data"
    },
    {
     "name": "stdout",
     "output_type": "stream",
     "text": [
      "\n",
      "New prediction: 0.632842\n"
     ]
    },
    {
     "data": {
      "text/html": [
       "seems like some of the previous reviewers has seen another movie than what i saw earlier tonight . . . actually , this movie is the reason why i registered at imdb . sure bobbie phillips can fight and for that i give this movie a 2 , but the rest of this movie is just pure <b style='color:blue'>absurdity</b> . . . the acting is <b style='color:blue'>naughty</b> , the plot is <b style='color:blue'>wicked</b> , the camera angles are <b style='color:blue'>wicked</b> , and the effects are <b style='color:blue'>wicked</b> . sure the actors are in physical good shape , but they cannot act ! sometimes i enjoy watching bad movies for the laugh , but this movie had no charm and after i saw this movie i was filled with regrets for seeing it . sure , if you would like to see mediocre fighting without anything else then this movie is for you . if not then stay away from this film ! ps : sorry for any spelling mistakes . . . i am just tired as a <b style='color:blue'>arouse</b> of this movie !"
      ],
      "text/plain": [
       "<IPython.core.display.HTML object>"
      ]
     },
     "metadata": {},
     "output_type": "display_data"
    },
    {
     "name": "stdout",
     "output_type": "stream",
     "text": [
      "--------------------------------------------------\n",
      "#377   index = 20666\n",
      "ATTACK FAILED\n",
      "--------------------------------------------------\n",
      "#378   index = 7670\n",
      "ATTACK SUCCEEDED\n",
      "Original prediction: 0.989367\n"
     ]
    },
    {
     "data": {
      "text/html": [
       "( its so <b style='color:red'>good</b> ) . streisand then really amazes the audience with a breathtakingly <b style='color:red'>powerful</b> , octave - soaring performance of the <b style='color:red'>sweet</b> charity ballad where am i going , of which streisand delivers the <b style='color:red'>definitive</b> rendition of . streisand also introduces the then - newly written richard maltby , jr . - david shire ballad starting here , starting now , which contains an <b style='color:red'>impassioned</b> <b style='color:red'>vocal</b> from streisand that ranks among the very best <b style='color:red'>vocal</b> performances of her long career . more than anything else , color me barbra was a showcase for streisands ever - increasing , mega - watt star power . despite the presence of even more visual razzle - dazzle , streisand herself is always the main attraction . her voice sounds as beautiful as ever , and this special was the first to showcase how <b style='color:red'>strikingly</b> she photographs in color . as with my name is barbra , color me barbra was another rating - smash and spawned yet another top - five , gold - selling soundtrack album . simply put , color me barbra defies tradition and emerges as a sequel that is nearly on par with a <b style='color:red'>classic</b> original ."
      ],
      "text/plain": [
       "<IPython.core.display.HTML object>"
      ]
     },
     "metadata": {},
     "output_type": "display_data"
    },
    {
     "name": "stdout",
     "output_type": "stream",
     "text": [
      "\n",
      "New prediction: 0.408208\n"
     ]
    },
    {
     "data": {
      "text/html": [
       "( its so <b style='color:blue'>allright</b> ) . streisand then really amazes the audience with a breathtakingly <b style='color:blue'>mighty</b> , octave - soaring performance of the <b style='color:blue'>sugary</b> charity ballad where am i going , of which streisand delivers the <b style='color:blue'>conclusive</b> rendition of . streisand also introduces the then - newly written richard maltby , jr . - david shire ballad starting here , starting now , which contains an <b style='color:blue'>heated</b> <b style='color:blue'>loud</b> from streisand that ranks among the very best <b style='color:blue'>vociferous</b> performances of her long career . more than anything else , color me barbra was a showcase for streisands ever - increasing , mega - watt star power . despite the presence of even more visual razzle - dazzle , streisand herself is always the main attraction . her voice sounds as beautiful as ever , and this special was the first to showcase how <b style='color:blue'>appallingly</b> she photographs in color . as with my name is barbra , color me barbra was another rating - smash and spawned yet another top - five , gold - selling soundtrack album . simply put , color me barbra defies tradition and emerges as a sequel that is nearly on par with a <b style='color:blue'>symptomatic</b> original ."
      ],
      "text/plain": [
       "<IPython.core.display.HTML object>"
      ]
     },
     "metadata": {},
     "output_type": "display_data"
    },
    {
     "name": "stdout",
     "output_type": "stream",
     "text": [
      "--------------------------------------------------\n",
      "#379   index = 20253\n",
      "ATTACK SUCCEEDED\n",
      "Original prediction: 0.043682\n"
     ]
    },
    {
     "data": {
      "text/html": [
       "this might quite possibly be the <b style='color:red'>worst</b> movie i have ever seen . i knew it was a b - movie before watching it ( it was actually the reason for watching it ) , but id never thought it could be this <b style='color:red'>bad</b> . the title promises dracula in space and does deliver , however , the <b style='color:red'>story</b> makes no real use of the fact that casper van diens character is a descendant of van helsing . and watch out for the ending of the movie , it comes at you fast . ive never seen an ending scream out and now were over budget ! in a clearer fashion . their resolution of the movie was rather comic though , the <b style='color:red'>story</b> had so obviously painted itself into a corner . if you feel you have to see it , watch it with a friend who shares your love of b - movies . if i hadnt , i wouldnt have made it to the end ."
      ],
      "text/plain": [
       "<IPython.core.display.HTML object>"
      ]
     },
     "metadata": {},
     "output_type": "display_data"
    },
    {
     "name": "stdout",
     "output_type": "stream",
     "text": [
      "\n",
      "New prediction: 0.555672\n"
     ]
    },
    {
     "data": {
      "text/html": [
       "this might quite possibly be the <b style='color:blue'>lousiest</b> movie i have ever seen . i knew it was a b - movie before watching it ( it was actually the reason for watching it ) , but id never thought it could be this <b style='color:blue'>wicked</b> . the title promises dracula in space and does deliver , however , the <b style='color:blue'>tale</b> makes no real use of the fact that casper van diens character is a descendant of van helsing . and watch out for the ending of the movie , it comes at you fast . ive never seen an ending scream out and now were over budget ! in a clearer fashion . their resolution of the movie was rather comic though , the <b style='color:blue'>tale</b> had so obviously painted itself into a corner . if you feel you have to see it , watch it with a friend who shares your love of b - movies . if i hadnt , i wouldnt have made it to the end ."
      ],
      "text/plain": [
       "<IPython.core.display.HTML object>"
      ]
     },
     "metadata": {},
     "output_type": "display_data"
    },
    {
     "name": "stdout",
     "output_type": "stream",
     "text": [
      "--------------------------------------------------\n",
      "#380   index = 23962\n",
      "ATTACK FAILED\n",
      "--------------------------------------------------\n",
      "#381   index = 7789\n",
      "ATTACK SUCCEEDED\n",
      "Original prediction: 0.986273\n"
     ]
    },
    {
     "data": {
      "text/html": [
       "i first saw this movie in the mid 80s and thought it was a funny movie . as i <b style='color:red'>have</b> gotten older i watch this movie for different <b style='color:red'>reasons</b> . i like to <b style='color:red'>view</b> it when im feeling sad / nostalgic for my lost youth . i was a teenager ( 14 ) at the time of the release of this film so i can identify with many of the same problems / dilemmas that the campers / cits in this movie have . i enjoy seeing the clothes that were worn at this time and hearing the same old urban legends such as was told on the overnight canoe trip . the film is <b style='color:red'>also</b> full of funny one liners . i <b style='color:red'>highly</b> recommend this movie to anyone that was a teenager in the late 70s to early 80s ."
      ],
      "text/plain": [
       "<IPython.core.display.HTML object>"
      ]
     },
     "metadata": {},
     "output_type": "display_data"
    },
    {
     "name": "stdout",
     "output_type": "stream",
     "text": [
      "\n",
      "New prediction: 0.468129\n"
     ]
    },
    {
     "data": {
      "text/html": [
       "i first saw this movie in the mid 80s and thought it was a funny movie . as i <b style='color:blue'>ha</b> gotten older i watch this movie for different <b style='color:blue'>justifications</b> . i like to <b style='color:blue'>standpoint</b> it when im feeling sad / nostalgic for my lost youth . i was a teenager ( 14 ) at the time of the release of this film so i can identify with many of the same problems / dilemmas that the campers / cits in this movie have . i enjoy seeing the clothes that were worn at this time and hearing the same old urban legends such as was told on the overnight canoe trip . the film is <b style='color:blue'>moreover</b> full of funny one liners . i <b style='color:blue'>terribly</b> recommend this movie to anyone that was a teenager in the late 70s to early 80s ."
      ],
      "text/plain": [
       "<IPython.core.display.HTML object>"
      ]
     },
     "metadata": {},
     "output_type": "display_data"
    },
    {
     "name": "stdout",
     "output_type": "stream",
     "text": [
      "--------------------------------------------------\n",
      "#382   index = 22646\n",
      "ATTACK SUCCEEDED\n",
      "Original prediction: 0.009073\n"
     ]
    },
    {
     "data": {
      "text/html": [
       "what , but presumably its a nuclear winter . even during the ice age of thousands of years ago , the equatorial parts of the earth still sustained animal and human life , but apparently not here . seals have survived and paul newman is a seal hunter on the outside . but hunters do need a little r & r and newman goes to a futuristic city where things are so boring the natives have some kind of game played with six people and its a kind of russian roulette . to win you have to kill five other participants in your game . its a <b style='color:red'>sad</b> turn to see what man has come down to . which is one of the reasons i just could not get into this story . the atmosphere is <b style='color:red'>bleak</b> , the story is <b style='color:red'>bleak</b> , the people are <b style='color:red'>bleak</b> , its all so <b style='color:red'>bleak</b> . no wonder this thing came up short at the box office . its a film that just about everyone thinks is never going to be on the top ten list of paul newman films , including me . this is mans future , what a bummer ."
      ],
      "text/plain": [
       "<IPython.core.display.HTML object>"
      ]
     },
     "metadata": {},
     "output_type": "display_data"
    },
    {
     "name": "stdout",
     "output_type": "stream",
     "text": [
      "\n",
      "New prediction: 0.564923\n"
     ]
    },
    {
     "data": {
      "text/html": [
       "what , but presumably its a nuclear winter . even during the ice age of thousands of years ago , the equatorial parts of the earth still sustained animal and human life , but apparently not here . seals have survived and paul newman is a seal hunter on the outside . but hunters do need a little r & r and newman goes to a futuristic city where things are so boring the natives have some kind of game played with six people and its a kind of russian roulette . to win you have to kill five other participants in your game . its a <b style='color:blue'>sorrowful</b> turn to see what man has come down to . which is one of the reasons i just could not get into this story . the atmosphere is <b style='color:blue'>sombre</b> , the story is <b style='color:blue'>somber</b> , the people are <b style='color:blue'>sombre</b> , its all so <b style='color:blue'>somber</b> . no wonder this thing came up short at the box office . its a film that just about everyone thinks is never going to be on the top ten list of paul newman films , including me . this is mans future , what a bummer ."
      ],
      "text/plain": [
       "<IPython.core.display.HTML object>"
      ]
     },
     "metadata": {},
     "output_type": "display_data"
    },
    {
     "name": "stdout",
     "output_type": "stream",
     "text": [
      "--------------------------------------------------\n",
      "#383   index = 18211\n",
      "ATTACK SUCCEEDED\n",
      "Original prediction: 0.009202\n"
     ]
    },
    {
     "data": {
      "text/html": [
       "get shorty , out of sight , jackie brown ( and even 52 pick - up ) - - folks were finally getting elmore leonard right , making good movies out of his work . so , despite my students warnings about how <b style='color:red'>bad</b> this movie would be , i couldnt resist renting it . i thought , how <b style='color:red'>bad</b> can it be ? oy , what a <b style='color:red'>mistake</b> , especially right on the heels of reading the book , which was lame ( and too circularly self - referential , too ) relative to the rest of elmore leonards books . still , the book was better than the movie . leonard again trumps the <b style='color:red'>weak</b> and unskilled screen - writers who <b style='color:red'>try</b> to take over his book . the dialogue written for <b style='color:red'>steven</b> tyler was painful to watch . and the lyrics to the <b style='color:red'>character</b> linda moons first song ? my middle - schoolers write with more depth . <b style='color:red'>sad</b> , <b style='color:red'>sad</b> , <b style='color:red'>sad</b> . why even give it a star ? because harvey keitel and uma thurman are still fun to see on screen , and andre 3000 didnt make a <b style='color:red'>complete</b> fool of <b style='color:red'>himself</b> ."
      ],
      "text/plain": [
       "<IPython.core.display.HTML object>"
      ]
     },
     "metadata": {},
     "output_type": "display_data"
    },
    {
     "name": "stdout",
     "output_type": "stream",
     "text": [
      "\n",
      "New prediction: 0.516701\n"
     ]
    },
    {
     "data": {
      "text/html": [
       "get shorty , out of sight , jackie brown ( and even 52 pick - up ) - - folks were finally getting elmore leonard right , making good movies out of his work . so , despite my students warnings about how <b style='color:blue'>wicked</b> this movie would be , i couldnt resist renting it . i thought , how <b style='color:blue'>shitty</b> can it be ? oy , what a <b style='color:blue'>wrong</b> , especially right on the heels of reading the book , which was lame ( and too circularly self - referential , too ) relative to the rest of elmore leonards books . still , the book was better than the movie . leonard again trumps the <b style='color:blue'>tenuous</b> and unskilled screen - writers who <b style='color:blue'>endeavour</b> to take over his book . the dialogue written for <b style='color:blue'>stephen</b> tyler was painful to watch . and the lyrics to the <b style='color:blue'>nature</b> linda moons first song ? my middle - schoolers write with more depth . <b style='color:blue'>sorrowful</b> , <b style='color:blue'>sorrowful</b> , <b style='color:blue'>sorrowful</b> . why even give it a star ? because harvey keitel and uma thurman are still fun to see on screen , and andre 3000 didnt make a <b style='color:blue'>finished</b> fool of <b style='color:blue'>itself</b> ."
      ],
      "text/plain": [
       "<IPython.core.display.HTML object>"
      ]
     },
     "metadata": {},
     "output_type": "display_data"
    },
    {
     "name": "stdout",
     "output_type": "stream",
     "text": [
      "--------------------------------------------------\n",
      "#384   index = 24380\n",
      "ATTACK SUCCEEDED\n",
      "Original prediction: 0.001680\n"
     ]
    },
    {
     "data": {
      "text/html": [
       "well , dont bother . this film looks so tired , the acting is so old - fashioned , and the plot and characters so drab , that it should be studied instead of watched . it is <b style='color:red'>really</b> a <b style='color:red'>horrible</b> waste of film ; stereotypes , clichés , <b style='color:red'>nonsense</b> , and amateurish film - making . i watched it in unbelievable awe with my mouth wide open . how could such a film be made , and more interestingly , how could anyone find it funny or watchable ? old , tired , sloppy . . . a junior - high skit , at <b style='color:red'>best</b> . there is nothing watchable there , except for a study of very ancient film . not good film , just ancient . this is not abbott and costello or laurel and hardy . this is <b style='color:red'>nonsense</b> . the acting is so <b style='color:red'>bad</b> that maybe it is worth it to watch just for the laugh . some films are so <b style='color:red'>bad</b> that they are good . but , this one goes all the way around the corner and back to <b style='color:red'>bad</b> again ."
      ],
      "text/plain": [
       "<IPython.core.display.HTML object>"
      ]
     },
     "metadata": {},
     "output_type": "display_data"
    },
    {
     "name": "stdout",
     "output_type": "stream",
     "text": [
      "\n",
      "New prediction: 0.527367\n"
     ]
    },
    {
     "data": {
      "text/html": [
       "well , dont bother . this film looks so tired , the acting is so old - fashioned , and the plot and characters so drab , that it should be studied instead of watched . it is <b style='color:blue'>genuinely</b> a <b style='color:blue'>harrowing</b> waste of film ; stereotypes , clichés , <b style='color:blue'>wanton</b> , and amateurish film - making . i watched it in unbelievable awe with my mouth wide open . how could such a film be made , and more interestingly , how could anyone find it funny or watchable ? old , tired , sloppy . . . a junior - high skit , at <b style='color:blue'>finest</b> . there is nothing watchable there , except for a study of very ancient film . not good film , just ancient . this is not abbott and costello or laurel and hardy . this is <b style='color:blue'>absurdity</b> . the acting is so <b style='color:blue'>wicked</b> that maybe it is worth it to watch just for the laugh . some films are so <b style='color:blue'>wicked</b> that they are good . but , this one goes all the way around the corner and back to <b style='color:blue'>wicked</b> again ."
      ],
      "text/plain": [
       "<IPython.core.display.HTML object>"
      ]
     },
     "metadata": {},
     "output_type": "display_data"
    },
    {
     "name": "stdout",
     "output_type": "stream",
     "text": [
      "--------------------------------------------------\n",
      "#385   index = 16658\n",
      "ATTACK SUCCEEDED\n",
      "Original prediction: 0.000948\n"
     ]
    },
    {
     "data": {
      "text/html": [
       ", and the <b style='color:red'>fat</b> guy with dark circles <b style='color:red'>around</b> his eyes ) , the <b style='color:red'>problem</b> is the <b style='color:red'>way</b> they act and the <b style='color:red'>terrible</b> dialogue that is given them . barkers <b style='color:red'>photography</b> of the subterranean city is <b style='color:red'>tired</b> and this part of the <b style='color:red'>story</b> could have been made much better . some might call what follows spoilers . after our hero dies and becomes nightbreed we wait around to <b style='color:red'>see</b> what <b style='color:red'>hell</b> turn into ( theres talk of things that fly and werewolves ) , but when the time comes for him to <b style='color:red'>change</b> they appearantly thought their hero too pretty to give a <b style='color:red'>decent</b> creature design . with the <b style='color:red'>turn</b> in cronenbergs character the <b style='color:red'>story</b> just gets less <b style='color:red'>interesting</b> until the <b style='color:red'>battle</b> of freaks <b style='color:red'>vs</b> . norms ( which is just <b style='color:red'>bad</b> ) . barkers mythology failed him here . there is no genius and little originality behind any of nightbreed . the <b style='color:red'>picture</b> could have used a <b style='color:red'>larger</b> budget , a <b style='color:red'>serious</b> script , and <b style='color:red'>character</b> <b style='color:red'>design</b> that doesnt <b style='color:red'>leave</b> you saying oh . . . <b style='color:red'>oh</b> , how lame . what a waste . not <b style='color:red'>scary</b> , not cool , not even very dark , just <b style='color:red'>weak</b> ."
      ],
      "text/plain": [
       "<IPython.core.display.HTML object>"
      ]
     },
     "metadata": {},
     "output_type": "display_data"
    },
    {
     "name": "stdout",
     "output_type": "stream",
     "text": [
      "\n",
      "New prediction: 0.500493\n"
     ]
    },
    {
     "data": {
      "text/html": [
       ", and the <b style='color:blue'>fatty</b> guy with dark circles <b style='color:blue'>about</b> his eyes ) , the <b style='color:blue'>issue</b> is the <b style='color:blue'>manner</b> they act and the <b style='color:blue'>harrowing</b> dialogue that is given them . barkers <b style='color:blue'>picture</b> of the subterranean city is <b style='color:blue'>weary</b> and this part of the <b style='color:blue'>tale</b> could have been made much better . some might call what follows spoilers . after our hero dies and becomes nightbreed we wait around to <b style='color:blue'>behold</b> what <b style='color:blue'>inferno</b> turn into ( theres talk of things that fly and werewolves ) , but when the time comes for him to <b style='color:blue'>alter</b> they appearantly thought their hero too pretty to give a <b style='color:blue'>dignified</b> creature design . with the <b style='color:blue'>turning</b> in cronenbergs character the <b style='color:blue'>tale</b> just gets less <b style='color:blue'>fascinating</b> until the <b style='color:blue'>tussle</b> of freaks <b style='color:blue'>versus</b> . norms ( which is just <b style='color:blue'>wicked</b> ) . barkers mythology failed him here . there is no genius and little originality behind any of nightbreed . the <b style='color:blue'>photo</b> could have used a <b style='color:blue'>bigger</b> budget , a <b style='color:blue'>weighty</b> script , and <b style='color:blue'>nature</b> <b style='color:blue'>designing</b> that doesnt <b style='color:blue'>walkout</b> you saying oh . . . <b style='color:blue'>ah</b> , how lame . what a waste . not <b style='color:blue'>harrowing</b> , not cool , not even very dark , just <b style='color:blue'>tenuous</b> ."
      ],
      "text/plain": [
       "<IPython.core.display.HTML object>"
      ]
     },
     "metadata": {},
     "output_type": "display_data"
    },
    {
     "name": "stdout",
     "output_type": "stream",
     "text": [
      "--------------------------------------------------\n",
      "#386   index = 11331\n",
      "ATTACK SUCCEEDED\n",
      "Original prediction: 0.947660\n"
     ]
    },
    {
     "data": {
      "text/html": [
       "the mascot is ladislaw starewiczs masterpiece . it tells the <b style='color:red'>tale</b> of a stuffed toy dog who searches for an orange after he overhears the mother tell her daughter she hasnt any money . the dog gets picked with other toys to be sold off . in the truck , after the others jump off while the vehicle runs , the dog stays and waits to be picked up from store before setting off on his own . he manages to get orange after biting womans leg as she was holding and selling the fruit . as he runs , he encounters the devil and accepts his offer to stop at nightclub . there , he meets the other toys who jumped off truck . the cat who was next to him in vehicle is especially determined to get dogs orange . ill just stop here to mention that other wonderfully bizarre things happen in nightclub that youll have to see for yourself . suffice it to say , if you <b style='color:red'>love</b> starewicz and is interested in all animation from the past , i most <b style='color:red'>definitely</b> recommend you seek this one out !"
      ],
      "text/plain": [
       "<IPython.core.display.HTML object>"
      ]
     },
     "metadata": {},
     "output_type": "display_data"
    },
    {
     "name": "stdout",
     "output_type": "stream",
     "text": [
      "\n",
      "New prediction: 0.460585\n"
     ]
    },
    {
     "data": {
      "text/html": [
       "the mascot is ladislaw starewiczs masterpiece . it tells the <b style='color:blue'>story</b> of a stuffed toy dog who searches for an orange after he overhears the mother tell her daughter she hasnt any money . the dog gets picked with other toys to be sold off . in the truck , after the others jump off while the vehicle runs , the dog stays and waits to be picked up from store before setting off on his own . he manages to get orange after biting womans leg as she was holding and selling the fruit . as he runs , he encounters the devil and accepts his offer to stop at nightclub . there , he meets the other toys who jumped off truck . the cat who was next to him in vehicle is especially determined to get dogs orange . ill just stop here to mention that other wonderfully bizarre things happen in nightclub that youll have to see for yourself . suffice it to say , if you <b style='color:blue'>adore</b> starewicz and is interested in all animation from the past , i most <b style='color:blue'>assuredly</b> recommend you seek this one out !"
      ],
      "text/plain": [
       "<IPython.core.display.HTML object>"
      ]
     },
     "metadata": {},
     "output_type": "display_data"
    },
    {
     "name": "stdout",
     "output_type": "stream",
     "text": [
      "--------------------------------------------------\n",
      "#387   index = 3877\n",
      "ATTACK FAILED\n",
      "--------------------------------------------------\n",
      "#388   index = 7016\n",
      "ATTACK FAILED\n",
      "--------------------------------------------------\n",
      "#389   index = 3601\n",
      "ATTACK SUCCEEDED\n",
      "Original prediction: 0.972261\n"
     ]
    },
    {
     "data": {
      "text/html": [
       "i recently purchased this on dvd as i hadnt heard of it and like robert carlyle . <b style='color:red'>obviously</b> this movie is not going to have hollywood blockbuster special effects , in saying that though the special effects were decent enough , and the acting was fine also . i found the movie to be enjoyable and do not regret buying it at all , at almost 2 hours long it is just the right length for this <b style='color:red'>type</b> of movie . do not expect thrilling explosive action from beginning to end though , it is a <b style='color:red'>fairly</b> well <b style='color:red'>balanced</b> movie with a <b style='color:red'>decent</b> enough storyline !"
      ],
      "text/plain": [
       "<IPython.core.display.HTML object>"
      ]
     },
     "metadata": {},
     "output_type": "display_data"
    },
    {
     "name": "stdout",
     "output_type": "stream",
     "text": [
      "\n",
      "New prediction: 0.429689\n"
     ]
    },
    {
     "data": {
      "text/html": [
       "i recently purchased this on dvd as i hadnt heard of it and like robert carlyle . <b style='color:blue'>patently</b> this movie is not going to have hollywood blockbuster special effects , in saying that though the special effects were decent enough , and the acting was fine also . i found the movie to be enjoyable and do not regret buying it at all , at almost 2 hours long it is just the right length for this <b style='color:blue'>typing</b> of movie . do not expect thrilling explosive action from beginning to end though , it is a <b style='color:blue'>comparatively</b> well <b style='color:blue'>harmonic</b> movie with a <b style='color:blue'>presentable</b> enough storyline !"
      ],
      "text/plain": [
       "<IPython.core.display.HTML object>"
      ]
     },
     "metadata": {},
     "output_type": "display_data"
    },
    {
     "name": "stdout",
     "output_type": "stream",
     "text": [
      "--------------------------------------------------\n",
      "#390   index = 11907\n",
      "ATTACK SUCCEEDED\n",
      "Original prediction: 0.932304\n"
     ]
    },
    {
     "data": {
      "text/html": [
       "be spiced throughout according to what they are talking about . i was never big into scratching but the film does a <b style='color:red'>wonderful</b> job of keeping elementary for those who know little , and infusing in - jokes for those who are experts themselves in this area . mix master mike from the beastie boys is in this film , but it wasnt until after the film that i could name several heavy hitters in the industry ( dj shadow , q - bert , etc ) . the extreme fascination for turntables by these talented and quirky djs is evident in their explanations of what their music means to them . the film also sheds some gratifying light on these guys ( and one woman ) to be classified as musicians . pray doesnt let his film idle and if there exists a <b style='color:red'>slow</b> scene it is soon re - energized by hardly ever ceasing music . if nothing else , this film will increase your slang vocabulary . i have to get back to digging , so ill end this review . see it , it will be of interest . good stuff man . good stuff ."
      ],
      "text/plain": [
       "<IPython.core.display.HTML object>"
      ]
     },
     "metadata": {},
     "output_type": "display_data"
    },
    {
     "name": "stdout",
     "output_type": "stream",
     "text": [
      "\n",
      "New prediction: 0.470294\n"
     ]
    },
    {
     "data": {
      "text/html": [
       "be spiced throughout according to what they are talking about . i was never big into scratching but the film does a <b style='color:blue'>grandiose</b> job of keeping elementary for those who know little , and infusing in - jokes for those who are experts themselves in this area . mix master mike from the beastie boys is in this film , but it wasnt until after the film that i could name several heavy hitters in the industry ( dj shadow , q - bert , etc ) . the extreme fascination for turntables by these talented and quirky djs is evident in their explanations of what their music means to them . the film also sheds some gratifying light on these guys ( and one woman ) to be classified as musicians . pray doesnt let his film idle and if there exists a <b style='color:blue'>sluggish</b> scene it is soon re - energized by hardly ever ceasing music . if nothing else , this film will increase your slang vocabulary . i have to get back to digging , so ill end this review . see it , it will be of interest . good stuff man . good stuff ."
      ],
      "text/plain": [
       "<IPython.core.display.HTML object>"
      ]
     },
     "metadata": {},
     "output_type": "display_data"
    },
    {
     "name": "stdout",
     "output_type": "stream",
     "text": [
      "--------------------------------------------------\n",
      "#391   index = 21113\n",
      "ATTACK FAILED\n",
      "--------------------------------------------------\n",
      "#392   index = 11674\n",
      "ATTACK FAILED\n",
      "--------------------------------------------------\n",
      "#393   index = 1270\n",
      "ATTACK SUCCEEDED\n",
      "Original prediction: 0.974975\n"
     ]
    },
    {
     "data": {
      "text/html": [
       "<b style='color:red'>heart</b> of darkness , as it were . it reminded me a tad of lynchs wild at heart , it has that <b style='color:red'>strange</b> madness in it , but i was glued to the movie for other <b style='color:red'>reasons</b> - namely that it presents a portrait of australia which is . . <b style='color:red'>well</b> , very <b style='color:red'>believable</b> . i have vacationed to the land down under a number of times , once in the 1980s and again about 7 years ago with my wife . i dont wish to go to <b style='color:red'>great</b> lengths explaining my vacations , but the director frayne appears to <b style='color:red'>have</b> a <b style='color:red'>grasp</b> on much that i find so <b style='color:red'>odd</b> and eccentric about australia , a country that is <b style='color:red'>responsible</b> for the <b style='color:red'>extremities</b> of , say , nick cave on one hand , and steve irwin ( the crocodile hunter ) on the other . one incy wincy whinge - - i would have preferred even more of the <b style='color:red'>unknown</b> australia . much more in fact . but i also realise that theres only 1 and a half hours to do it all in . . . sigh . overall though , this <b style='color:red'>movie</b> is very , very accomplished ."
      ],
      "text/plain": [
       "<IPython.core.display.HTML object>"
      ]
     },
     "metadata": {},
     "output_type": "display_data"
    },
    {
     "name": "stdout",
     "output_type": "stream",
     "text": [
      "\n",
      "New prediction: 0.486878\n"
     ]
    },
    {
     "data": {
      "text/html": [
       "<b style='color:blue'>crux</b> of darkness , as it were . it reminded me a tad of lynchs wild at heart , it has that <b style='color:blue'>weird</b> madness in it , but i was glued to the movie for other <b style='color:blue'>grounds</b> - namely that it presents a portrait of australia which is . . <b style='color:blue'>allright</b> , very <b style='color:blue'>plausible</b> . i have vacationed to the land down under a number of times , once in the 1980s and again about 7 years ago with my wife . i dont wish to go to <b style='color:blue'>fanciful</b> lengths explaining my vacations , but the director frayne appears to <b style='color:blue'>ha</b> a <b style='color:blue'>grasping</b> on much that i find so <b style='color:blue'>outlandish</b> and eccentric about australia , a country that is <b style='color:blue'>answerable</b> for the <b style='color:blue'>extremes</b> of , say , nick cave on one hand , and steve irwin ( the crocodile hunter ) on the other . one incy wincy whinge - - i would have preferred even more of the <b style='color:blue'>undisclosed</b> australia . much more in fact . but i also realise that theres only 1 and a half hours to do it all in . . . sigh . overall though , this <b style='color:blue'>filmmaking</b> is very , very accomplished ."
      ],
      "text/plain": [
       "<IPython.core.display.HTML object>"
      ]
     },
     "metadata": {},
     "output_type": "display_data"
    },
    {
     "name": "stdout",
     "output_type": "stream",
     "text": [
      "--------------------------------------------------\n",
      "#394   index = 22721\n",
      "ATTACK SUCCEEDED\n",
      "Original prediction: 0.009281\n"
     ]
    },
    {
     "data": {
      "text/html": [
       "stop ! i know i would pay them . considering that the talent is far from talented , peter is a bad actor and his change from lout to responsible adult is almost instantaneous , the whole thing is a bit hard to take . not a very good film by any sane standard , this is an obscure film that should have stayed obscure ! by the way , it is interesting that ms . hayes son in the film , peter , is actually her real life son . the only problem with that is that peter lind hayes is a truly <b style='color:red'>awful</b> actor . hes not handsome enough to be a leading man and he comes off as either dull and uninteresting or downright obnoxious . in particular , all the stupid impressions he does are really <b style='color:red'>bad</b> and he has the charisma of the gelatin that you scrape off spam . despite this <b style='color:red'>terrible</b> performance , he did go on to have a reasonably successful acting career . who would have believed it if youd seen him in zis boom bah - - because here , hes about as welcome as the bubonic plague ! !"
      ],
      "text/plain": [
       "<IPython.core.display.HTML object>"
      ]
     },
     "metadata": {},
     "output_type": "display_data"
    },
    {
     "name": "stdout",
     "output_type": "stream",
     "text": [
      "\n",
      "New prediction: 0.527539\n"
     ]
    },
    {
     "data": {
      "text/html": [
       "stop ! i know i would pay them . considering that the talent is far from talented , peter is a bad actor and his change from lout to responsible adult is almost instantaneous , the whole thing is a bit hard to take . not a very good film by any sane standard , this is an obscure film that should have stayed obscure ! by the way , it is interesting that ms . hayes son in the film , peter , is actually her real life son . the only problem with that is that peter lind hayes is a truly <b style='color:blue'>harrowing</b> actor . hes not handsome enough to be a leading man and he comes off as either dull and uninteresting or downright obnoxious . in particular , all the stupid impressions he does are really <b style='color:blue'>wicked</b> and he has the charisma of the gelatin that you scrape off spam . despite this <b style='color:blue'>harrowing</b> performance , he did go on to have a reasonably successful acting career . who would have believed it if youd seen him in zis boom bah - - because here , hes about as welcome as the bubonic plague ! !"
      ],
      "text/plain": [
       "<IPython.core.display.HTML object>"
      ]
     },
     "metadata": {},
     "output_type": "display_data"
    },
    {
     "name": "stdout",
     "output_type": "stream",
     "text": [
      "--------------------------------------------------\n",
      "#395   index = 13260\n",
      "ATTACK SUCCEEDED\n",
      "Original prediction: 0.012016\n"
     ]
    },
    {
     "data": {
      "text/html": [
       "it hurt to watch this movie , it really did . . . i wanted to like it , even going in . shot obviously for very little cash , i looked past and told myself to appreciate the inspiration . unfortunately , although i did appreciate the film on that level , the acting and editing was <b style='color:red'>terrible</b> , and the last 25 - 30 minutes were severe thumb - twiddling territory . a 95 minute film should not drag . the <b style='color:red'>ratings</b> for this one are good so far , but i fear that the friends and family might have had a say in that one . what was with those transitions ? <b style='color:red'>dear</b> mr . editor , did you just purchase your first copy of adobe premiere and make it your main goal to use all the goofy transitions that come with that silly program ? anyway . . . some better actors , a little more passion , and some more appealing editing and this makes a <b style='color:red'>decent</b> movie ."
      ],
      "text/plain": [
       "<IPython.core.display.HTML object>"
      ]
     },
     "metadata": {},
     "output_type": "display_data"
    },
    {
     "name": "stdout",
     "output_type": "stream",
     "text": [
      "\n",
      "New prediction: 0.593205\n"
     ]
    },
    {
     "data": {
      "text/html": [
       "it hurt to watch this movie , it really did . . . i wanted to like it , even going in . shot obviously for very little cash , i looked past and told myself to appreciate the inspiration . unfortunately , although i did appreciate the film on that level , the acting and editing was <b style='color:blue'>harrowing</b> , and the last 25 - 30 minutes were severe thumb - twiddling territory . a 95 minute film should not drag . the <b style='color:blue'>evaluations</b> for this one are good so far , but i fear that the friends and family might have had a say in that one . what was with those transitions ? <b style='color:blue'>beloved</b> mr . editor , did you just purchase your first copy of adobe premiere and make it your main goal to use all the goofy transitions that come with that silly program ? anyway . . . some better actors , a little more passion , and some more appealing editing and this makes a <b style='color:blue'>good</b> movie ."
      ],
      "text/plain": [
       "<IPython.core.display.HTML object>"
      ]
     },
     "metadata": {},
     "output_type": "display_data"
    },
    {
     "name": "stdout",
     "output_type": "stream",
     "text": [
      "--------------------------------------------------\n",
      "#396   index = 12684\n",
      "ATTACK SUCCEEDED\n",
      "Original prediction: 0.008809\n"
     ]
    },
    {
     "data": {
      "text/html": [
       "- bucks could be made by detailing the <b style='color:red'>dreary</b> lives of these characters after the original film ended . <b style='color:red'>bad</b> move . making an insurance <b style='color:red'>salesman</b> and his wife , a nerdy private in vietnam , a drag race driver , and a overgrown hippie into interesting characters in <b style='color:red'>interesting</b> <b style='color:red'>situations</b> was far beyond the talents of those who wrote this <b style='color:red'>nearly</b> unwatchable movie . while most of the original cast is back , with only richard dreyfuss having the <b style='color:red'>good</b> sense to stay away , more american graffiti is a <b style='color:red'>mess</b> of <b style='color:red'>silly</b> situations that involve protests , <b style='color:red'>car</b> races , country <b style='color:red'>singers</b> , and the vietnam war . the <b style='color:red'>use</b> of <b style='color:red'>split</b> screens , once thought innovative and daring , is overused here to the point of distraction and adds confusion to the already <b style='color:red'>confused</b> goings one . this is a sequel that demonstrates nearly everything that can go wrong with a sequel . perhaps it should be screened in film schools as a lesson . even the <b style='color:red'>use</b> of period music , which was a delight in the <b style='color:red'>original</b> , is poorly <b style='color:red'>done</b> here . if you want more american graffiti , <b style='color:red'>see</b> the original twice ."
      ],
      "text/plain": [
       "<IPython.core.display.HTML object>"
      ]
     },
     "metadata": {},
     "output_type": "display_data"
    },
    {
     "name": "stdout",
     "output_type": "stream",
     "text": [
      "\n",
      "New prediction: 0.505734\n"
     ]
    },
    {
     "data": {
      "text/html": [
       "- bucks could be made by detailing the <b style='color:blue'>depressing</b> lives of these characters after the original film ended . <b style='color:blue'>wicked</b> move . making an insurance <b style='color:blue'>marketer</b> and his wife , a nerdy private in vietnam , a drag race driver , and a overgrown hippie into interesting characters in <b style='color:blue'>fascinating</b> <b style='color:blue'>circumstances</b> was far beyond the talents of those who wrote this <b style='color:blue'>almost</b> unwatchable movie . while most of the original cast is back , with only richard dreyfuss having the <b style='color:blue'>exemplary</b> sense to stay away , more american graffiti is a <b style='color:blue'>muddle</b> of <b style='color:blue'>farcical</b> situations that involve protests , <b style='color:blue'>auto</b> races , country <b style='color:blue'>vocalists</b> , and the vietnam war . the <b style='color:blue'>utilization</b> of <b style='color:blue'>divided</b> screens , once thought innovative and daring , is overused here to the point of distraction and adds confusion to the already <b style='color:blue'>disorientated</b> goings one . this is a sequel that demonstrates nearly everything that can go wrong with a sequel . perhaps it should be screened in film schools as a lesson . even the <b style='color:blue'>utilization</b> of period music , which was a delight in the <b style='color:blue'>incipient</b> , is poorly <b style='color:blue'>accomplished</b> here . if you want more american graffiti , <b style='color:blue'>behold</b> the original twice ."
      ],
      "text/plain": [
       "<IPython.core.display.HTML object>"
      ]
     },
     "metadata": {},
     "output_type": "display_data"
    },
    {
     "name": "stdout",
     "output_type": "stream",
     "text": [
      "--------------------------------------------------\n",
      "#397   index = 15420\n",
      "ATTACK FAILED\n",
      "--------------------------------------------------\n",
      "#398   index = 18410\n",
      "ATTACK SUCCEEDED\n",
      "Original prediction: 0.054874\n"
     ]
    },
    {
     "data": {
      "text/html": [
       "this movie is one big stereotype . the acting ( except philbin & harrison ) is <b style='color:red'>awful</b> and the <b style='color:red'>horrid</b> script only make things worse . i must agree with another review that the local characters sound ridiculous as a matter of fact so do the caucasian characters . 3 stars out of 10 for 1 ) philbin 2 ) harrison 3 ) surf scenes . ( 1 / 2 * out of * * * * ) watch aloha summer ( * * ) and / or beyond paradise ( * * * ) for hawaii done right , especially bp which i found to be entertaining and brilliant ."
      ],
      "text/plain": [
       "<IPython.core.display.HTML object>"
      ]
     },
     "metadata": {},
     "output_type": "display_data"
    },
    {
     "name": "stdout",
     "output_type": "stream",
     "text": [
      "\n",
      "New prediction: 0.650189\n"
     ]
    },
    {
     "data": {
      "text/html": [
       "this movie is one big stereotype . the acting ( except philbin & harrison ) is <b style='color:blue'>harrowing</b> and the <b style='color:blue'>harrowing</b> script only make things worse . i must agree with another review that the local characters sound ridiculous as a matter of fact so do the caucasian characters . 3 stars out of 10 for 1 ) philbin 2 ) harrison 3 ) surf scenes . ( 1 / 2 * out of * * * * ) watch aloha summer ( * * ) and / or beyond paradise ( * * * ) for hawaii done right , especially bp which i found to be entertaining and brilliant ."
      ],
      "text/plain": [
       "<IPython.core.display.HTML object>"
      ]
     },
     "metadata": {},
     "output_type": "display_data"
    },
    {
     "name": "stdout",
     "output_type": "stream",
     "text": [
      "--------------------------------------------------\n",
      "#399   index = 11332\n",
      "ATTACK FAILED\n",
      "--------------------------------------------------\n",
      "#400   index = 18095\n",
      "ATTACK SUCCEEDED\n",
      "Original prediction: 0.005541\n"
     ]
    },
    {
     "data": {
      "text/html": [
       "a movie . i knew some of the movies that japanese people do are good for nothing but this <b style='color:red'>bad</b> ? i mean comom i fell a sleep three times at this movie . no horror at all , some tiny percent ( 0 . 2 - 0 . 5 ) comedy . action lets just admit that it has some but the scenes are poorly filmed , the actors are <b style='color:red'>pathetic</b> . none of the actors did a good job in its own role . the were not convincing . the script is also <b style='color:red'>awful</b> . i mean this movie may be great , really , but for the 60s ( in not 100 % sure . ) i recommend not to see it , unless you want to get so bored as i did . i cant quite figure hot this movie got its <b style='color:red'>rating</b> . its over , over , over rated ! ! ! . this is a personal opinion of course . i don want to offend anyone but who could like this <b style='color:red'>crap</b> ? so i hope this helps someone not to loose some time enjoying this movie . nevertheless its your choice !"
      ],
      "text/plain": [
       "<IPython.core.display.HTML object>"
      ]
     },
     "metadata": {},
     "output_type": "display_data"
    },
    {
     "name": "stdout",
     "output_type": "stream",
     "text": [
      "\n",
      "New prediction: 0.555752\n"
     ]
    },
    {
     "data": {
      "text/html": [
       "a movie . i knew some of the movies that japanese people do are good for nothing but this <b style='color:blue'>naughty</b> ? i mean comom i fell a sleep three times at this movie . no horror at all , some tiny percent ( 0 . 2 - 0 . 5 ) comedy . action lets just admit that it has some but the scenes are poorly filmed , the actors are <b style='color:blue'>pitiable</b> . none of the actors did a good job in its own role . the were not convincing . the script is also <b style='color:blue'>harrowing</b> . i mean this movie may be great , really , but for the 60s ( in not 100 % sure . ) i recommend not to see it , unless you want to get so bored as i did . i cant quite figure hot this movie got its <b style='color:blue'>assessing</b> . its over , over , over rated ! ! ! . this is a personal opinion of course . i don want to offend anyone but who could like this <b style='color:blue'>absurdity</b> ? so i hope this helps someone not to loose some time enjoying this movie . nevertheless its your choice !"
      ],
      "text/plain": [
       "<IPython.core.display.HTML object>"
      ]
     },
     "metadata": {},
     "output_type": "display_data"
    },
    {
     "name": "stdout",
     "output_type": "stream",
     "text": [
      "--------------------------------------------------\n",
      "#401   index = 17507\n",
      "ATTACK FAILED\n",
      "--------------------------------------------------\n",
      "#402   index = 24171\n",
      "ATTACK FAILED\n",
      "--------------------------------------------------\n",
      "#403   index = 9268\n",
      "ATTACK FAILED\n",
      "--------------------------------------------------\n",
      "#404   index = 22821\n",
      "ATTACK FAILED\n",
      "--------------------------------------------------\n",
      "#405   index = 18478\n",
      "ATTACK FAILED\n",
      "--------------------------------------------------\n",
      "#406   index = 14168\n",
      "ATTACK SUCCEEDED\n",
      "Original prediction: 0.001557\n"
     ]
    },
    {
     "data": {
      "text/html": [
       "<b style='color:red'>bad</b> performances though most of them are relatively unknown so it shouldnt effect their careers too much . looking at the message boards , most people are complaining about the special effects . theres no way to sugarcoat them and they are terrible . all the dinosaurs look really bad . the gibbon - lizards ( part monkey , part dino ) , while a creative idea , become stale after awhile and they are most likely to encourage laughter rather than fear . the green screen work just looks awful and unprofessional . i was really wondering what director peter hyams was trying to accomplish here . he fails to deliver the suspense , action and thrills and makes this movie a long sit . for the most part though , the film is pretty <b style='color:red'>harmless</b> and its far from the worst movie of 2005 . hopefully they will remake this film in the future . there is potential in this project but for now this is the best we got . in the end , unless curiosity gets the better of you , there is no reason to see a sound of thunder . <b style='color:red'>rating</b> <b style='color:red'>4</b> / 10"
      ],
      "text/plain": [
       "<IPython.core.display.HTML object>"
      ]
     },
     "metadata": {},
     "output_type": "display_data"
    },
    {
     "name": "stdout",
     "output_type": "stream",
     "text": [
      "\n",
      "New prediction: 0.857943\n"
     ]
    },
    {
     "data": {
      "text/html": [
       "<b style='color:blue'>wicked</b> performances though most of them are relatively unknown so it shouldnt effect their careers too much . looking at the message boards , most people are complaining about the special effects . theres no way to sugarcoat them and they are terrible . all the dinosaurs look really bad . the gibbon - lizards ( part monkey , part dino ) , while a creative idea , become stale after awhile and they are most likely to encourage laughter rather than fear . the green screen work just looks awful and unprofessional . i was really wondering what director peter hyams was trying to accomplish here . he fails to deliver the suspense , action and thrills and makes this movie a long sit . for the most part though , the film is pretty <b style='color:blue'>inoffensive</b> and its far from the worst movie of 2005 . hopefully they will remake this film in the future . there is potential in this project but for now this is the best we got . in the end , unless curiosity gets the better of you , there is no reason to see a sound of thunder . <b style='color:blue'>evaluating</b> <b style='color:blue'>5</b> / 10"
      ],
      "text/plain": [
       "<IPython.core.display.HTML object>"
      ]
     },
     "metadata": {},
     "output_type": "display_data"
    },
    {
     "name": "stdout",
     "output_type": "stream",
     "text": [
      "--------------------------------------------------\n",
      "#407   index = 24936\n",
      "ATTACK FAILED\n",
      "--------------------------------------------------\n",
      "#408   index = 19929\n",
      "ATTACK SUCCEEDED\n",
      "Original prediction: 0.066490\n"
     ]
    },
    {
     "data": {
      "text/html": [
       "if you ever plan on renting ( hopefully not buying ) this movie , think again . it was as if gary busey had a gun to his head and was forced to act or die . i only wonder if busey was arrested for something and was sentenced to play in this movie because i just dont see the guy that acted so much better with keanu reeves in point <b style='color:red'>break</b> play in this <b style='color:red'>disaster</b> . it was a feel - good movie , but there are thousands of <b style='color:red'>other</b> feel - <b style='color:red'>good</b> movies that make you laugh without wanting you to get your money back . the <b style='color:red'>only</b> reason i would ever tell <b style='color:red'>someone</b> to <b style='color:red'>rent</b> this movie is to watch this <b style='color:red'>movie</b> is to see gary busey jump up and down like a monkey . if you <b style='color:red'>want</b> a <b style='color:red'>good</b> funny movie , pass up quigley and go <b style='color:red'>rent</b> spongebob or something ."
      ],
      "text/plain": [
       "<IPython.core.display.HTML object>"
      ]
     },
     "metadata": {},
     "output_type": "display_data"
    },
    {
     "name": "stdout",
     "output_type": "stream",
     "text": [
      "\n",
      "New prediction: 0.500660\n"
     ]
    },
    {
     "data": {
      "text/html": [
       "if you ever plan on renting ( hopefully not buying ) this movie , think again . it was as if gary busey had a gun to his head and was forced to act or die . i only wonder if busey was arrested for something and was sentenced to play in this movie because i just dont see the guy that acted so much better with keanu reeves in point <b style='color:blue'>rupture</b> play in this <b style='color:blue'>catastrophe</b> . it was a feel - good movie , but there are thousands of <b style='color:blue'>various</b> feel - <b style='color:blue'>exemplary</b> movies that make you laugh without wanting you to get your money back . the <b style='color:blue'>exclusively</b> reason i would ever tell <b style='color:blue'>somebody</b> to <b style='color:blue'>rental</b> this movie is to watch this <b style='color:blue'>filmmaking</b> is to see gary busey jump up and down like a monkey . if you <b style='color:blue'>wanna</b> a <b style='color:blue'>exemplary</b> funny movie , pass up quigley and go <b style='color:blue'>lease</b> spongebob or something ."
      ],
      "text/plain": [
       "<IPython.core.display.HTML object>"
      ]
     },
     "metadata": {},
     "output_type": "display_data"
    },
    {
     "name": "stdout",
     "output_type": "stream",
     "text": [
      "--------------------------------------------------\n",
      "#409   index = 22625\n",
      "ATTACK SUCCEEDED\n",
      "Original prediction: 0.005343\n"
     ]
    },
    {
     "data": {
      "text/html": [
       "i actually liked certain things about this game . i loved the first person perspective and wish we had had that choice in the first three games . theres nothing like seeing the monsters up close , in your face . the graphics <b style='color:red'>really</b> werent <b style='color:red'>bad</b> , but i would have liked more things to interact with even though it was just a shooter . the music was fine . the things i <b style='color:red'>hated</b> were : the movement kind of sucked and aiming was a total pain . the <b style='color:red'>story</b> was too lame for words and too much of the same old thing with no originality . the <b style='color:red'>inability</b> to save was <b style='color:red'>awful</b> ! ! ! some of us do have a life and would like to save to finish the game later . i thought the weapons kind of sucked , too . this game is fun for awhile , but its nothing like the first three and only good if you just want to shoot stuff . id recommend it for the novelty of playing in the first person , but thats about it . play it at your own <b style='color:red'>risk</b> ."
      ],
      "text/plain": [
       "<IPython.core.display.HTML object>"
      ]
     },
     "metadata": {},
     "output_type": "display_data"
    },
    {
     "name": "stdout",
     "output_type": "stream",
     "text": [
      "\n",
      "New prediction: 0.504820\n"
     ]
    },
    {
     "data": {
      "text/html": [
       "i actually liked certain things about this game . i loved the first person perspective and wish we had had that choice in the first three games . theres nothing like seeing the monsters up close , in your face . the graphics <b style='color:blue'>truly</b> werent <b style='color:blue'>wicked</b> , but i would have liked more things to interact with even though it was just a shooter . the music was fine . the things i <b style='color:blue'>disliked</b> were : the movement kind of sucked and aiming was a total pain . the <b style='color:blue'>tale</b> was too lame for words and too much of the same old thing with no originality . the <b style='color:blue'>incapacity</b> to save was <b style='color:blue'>harrowing</b> ! ! ! some of us do have a life and would like to save to finish the game later . i thought the weapons kind of sucked , too . this game is fun for awhile , but its nothing like the first three and only good if you just want to shoot stuff . id recommend it for the novelty of playing in the first person , but thats about it . play it at your own <b style='color:blue'>endangerment</b> ."
      ],
      "text/plain": [
       "<IPython.core.display.HTML object>"
      ]
     },
     "metadata": {},
     "output_type": "display_data"
    },
    {
     "name": "stdout",
     "output_type": "stream",
     "text": [
      "--------------------------------------------------\n",
      "#410   index = 13620\n",
      "ATTACK FAILED\n",
      "--------------------------------------------------\n",
      "#411   index = 12257\n",
      "ATTACK SUCCEEDED\n",
      "Original prediction: 0.971193\n"
     ]
    },
    {
     "data": {
      "text/html": [
       "1948 . the films top - billed star is marion davies . best remembered today as the mistress of media mogul william randolph hearst & the chatelaine of hearst castle , the most <b style='color:red'>fabulous</b> residence on the west coast , she was actually a very talented & pretty comedienne . for a few years , hearst attempted to make her the queen of mgm ( with her own production company & a <b style='color:red'>huge</b> bungalow - dressing room ) but the studio already had several other queens - dressler , garbo , shearer , crawford - and he <b style='color:red'>eventually</b> moved her to warner bros . here miss davies gets a chance to <b style='color:red'>joke</b> & clown and her scenes with <b style='color:red'>sir</b> aubrey are entertaining . her love interest is played by ralph forbes , a <b style='color:red'>handsome</b> young british actor who was just <b style='color:red'>starting</b> to <b style='color:red'>find</b> <b style='color:red'>good</b> films ( the trail of 98 ) as the <b style='color:red'>silent</b> days <b style='color:red'>ended</b> . he had all the qualities for major stardom , but sadly it was not to be . celebrity would come to ray milland , here making one of his first screen appearances . halliwell hobbes & doris lloyd <b style='color:red'>also</b> appear to advantage ."
      ],
      "text/plain": [
       "<IPython.core.display.HTML object>"
      ]
     },
     "metadata": {},
     "output_type": "display_data"
    },
    {
     "name": "stdout",
     "output_type": "stream",
     "text": [
      "\n",
      "New prediction: 0.484013\n"
     ]
    },
    {
     "data": {
      "text/html": [
       "1948 . the films top - billed star is marion davies . best remembered today as the mistress of media mogul william randolph hearst & the chatelaine of hearst castle , the most <b style='color:blue'>fanciful</b> residence on the west coast , she was actually a very talented & pretty comedienne . for a few years , hearst attempted to make her the queen of mgm ( with her own production company & a <b style='color:blue'>colossal</b> bungalow - dressing room ) but the studio already had several other queens - dressler , garbo , shearer , crawford - and he <b style='color:blue'>ultimately</b> moved her to warner bros . here miss davies gets a chance to <b style='color:blue'>jest</b> & clown and her scenes with <b style='color:blue'>mister</b> aubrey are entertaining . her love interest is played by ralph forbes , a <b style='color:blue'>grandiose</b> young british actor who was just <b style='color:blue'>initiating</b> to <b style='color:blue'>unearthed</b> <b style='color:blue'>allright</b> films ( the trail of 98 ) as the <b style='color:blue'>speechless</b> days <b style='color:blue'>discontinued</b> . he had all the qualities for major stardom , but sadly it was not to be . celebrity would come to ray milland , here making one of his first screen appearances . halliwell hobbes & doris lloyd <b style='color:blue'>furthermore</b> appear to advantage ."
      ],
      "text/plain": [
       "<IPython.core.display.HTML object>"
      ]
     },
     "metadata": {},
     "output_type": "display_data"
    },
    {
     "name": "stdout",
     "output_type": "stream",
     "text": [
      "--------------------------------------------------\n",
      "#412   index = 5782\n",
      "ATTACK FAILED\n",
      "--------------------------------------------------\n",
      "#413   index = 922\n",
      "ATTACK SUCCEEDED\n",
      "Original prediction: 0.966001\n"
     ]
    },
    {
     "data": {
      "text/html": [
       "hud , a <b style='color:red'>notorious</b> hand with the gun returning to blackstone to investigate the death of his brother , who was lynched by the townspeople for losing their savings . it <b style='color:red'>involves</b> a voluptuous beauty who owns the bank , a mexican bandit leader , el diablo , who was once friends with hud , an honest sheriff who dreams of better days , and a small <b style='color:red'>band</b> of hippies - - well , it was the late sixties , and hippies were everywhere , even apparently in our westerns . its not a desert western , shot in the alps somewhere , and is <b style='color:red'>lovely</b> to look at . there is a bit more nudity than i expect in a western , but thats not a <b style='color:red'>bad</b> thing . sylvie fennec is <b style='color:red'>lovely</b> as sheba , who may be huds niece , or dead brothers girlfriend . . . thats never made clear . this film deserves to be seen , and once again , we plea for a <b style='color:red'>nice</b> dvd with all the trimmings - - i think the specialists would be as well known as any of corbuccis other westerns , and thats high praise <b style='color:red'>indeed</b> ."
      ],
      "text/plain": [
       "<IPython.core.display.HTML object>"
      ]
     },
     "metadata": {},
     "output_type": "display_data"
    },
    {
     "name": "stdout",
     "output_type": "stream",
     "text": [
      "\n",
      "New prediction: 0.482396\n"
     ]
    },
    {
     "data": {
      "text/html": [
       "hud , a <b style='color:blue'>proverbial</b> hand with the gun returning to blackstone to investigate the death of his brother , who was lynched by the townspeople for losing their savings . it <b style='color:blue'>implicates</b> a voluptuous beauty who owns the bank , a mexican bandit leader , el diablo , who was once friends with hud , an honest sheriff who dreams of better days , and a small <b style='color:blue'>banding</b> of hippies - - well , it was the late sixties , and hippies were everywhere , even apparently in our westerns . its not a desert western , shot in the alps somewhere , and is <b style='color:blue'>grandiose</b> to look at . there is a bit more nudity than i expect in a western , but thats not a <b style='color:blue'>rotten</b> thing . sylvie fennec is <b style='color:blue'>grandiose</b> as sheba , who may be huds niece , or dead brothers girlfriend . . . thats never made clear . this film deserves to be seen , and once again , we plea for a <b style='color:blue'>good</b> dvd with all the trimmings - - i think the specialists would be as well known as any of corbuccis other westerns , and thats high praise <b style='color:blue'>assuredly</b> ."
      ],
      "text/plain": [
       "<IPython.core.display.HTML object>"
      ]
     },
     "metadata": {},
     "output_type": "display_data"
    },
    {
     "name": "stdout",
     "output_type": "stream",
     "text": [
      "--------------------------------------------------\n",
      "#414   index = 19733\n",
      "ATTACK FAILED\n",
      "--------------------------------------------------\n",
      "#415   index = 15845\n",
      "ATTACK SUCCEEDED\n",
      "Original prediction: 0.037933\n"
     ]
    },
    {
     "data": {
      "text/html": [
       "the fuss about ? play - out , gilded with optimistic conjecture against a ( retrospectively , miserably ironic ) long shot of the wtc twin towers . apart from donovans authority , the acting is split . theres the thespian melodrama of the rest of the cast : this , though formally contrived for biblical presentation , is appropriate for the modern , paranoid comedy that hartleys aiming at . but i was also pleasantly surprised at the contribution of pj harvey ( credited thus , and in danger of existing within the film solely as the pop star entity she is , not least in a set piece scene in a record store and a perilously patchy soundtrack to which contributes ) . she remained cool - a sort of disingenuous lack of focus - in the manner of many pop icons who have taken to film ( im thinking the jagger of performance here ) but nonetheless maintained a convincing integration with both cast and project . ultimately affirmative , but this bittersweet essay is a bit too much like one and relies more on the perseverance than the imagination of its audience . <b style='color:red'>4</b> / 10"
      ],
      "text/plain": [
       "<IPython.core.display.HTML object>"
      ]
     },
     "metadata": {},
     "output_type": "display_data"
    },
    {
     "name": "stdout",
     "output_type": "stream",
     "text": [
      "\n",
      "New prediction: 0.728651\n"
     ]
    },
    {
     "data": {
      "text/html": [
       "the fuss about ? play - out , gilded with optimistic conjecture against a ( retrospectively , miserably ironic ) long shot of the wtc twin towers . apart from donovans authority , the acting is split . theres the thespian melodrama of the rest of the cast : this , though formally contrived for biblical presentation , is appropriate for the modern , paranoid comedy that hartleys aiming at . but i was also pleasantly surprised at the contribution of pj harvey ( credited thus , and in danger of existing within the film solely as the pop star entity she is , not least in a set piece scene in a record store and a perilously patchy soundtrack to which contributes ) . she remained cool - a sort of disingenuous lack of focus - in the manner of many pop icons who have taken to film ( im thinking the jagger of performance here ) but nonetheless maintained a convincing integration with both cast and project . ultimately affirmative , but this bittersweet essay is a bit too much like one and relies more on the perseverance than the imagination of its audience . <b style='color:blue'>5</b> / 10"
      ],
      "text/plain": [
       "<IPython.core.display.HTML object>"
      ]
     },
     "metadata": {},
     "output_type": "display_data"
    },
    {
     "name": "stdout",
     "output_type": "stream",
     "text": [
      "--------------------------------------------------\n",
      "#416   index = 19645\n",
      "ATTACK SUCCEEDED\n",
      "Original prediction: 0.003108\n"
     ]
    },
    {
     "data": {
      "text/html": [
       "performances by cutting away to a <b style='color:red'>different</b> shot every few seconds ( and this from someone raised on mtv - mr short attention span himself ) . just when i thought it couldnt get any worse . . . wait - theres a manufactured tearjerker ending that was so tacked on it made the rest of the film a virtual citizen kane . summary : the witticisms werent witty . the plot - well , i said id let that one go . the acting was <b style='color:red'>bad</b> . <b style='color:red'>really</b> <b style='color:red'>bad</b> . even billy bob couldnt rise above the script , which was worse . camerawork - again , <b style='color:red'>bad</b> . ( i didnt even mention the dumbest love scene in the history of motion pictures - think animal crackers ) . rating : 1 out of 10 . ( im giving a half point for steve buscemi , who makes me smile against my will and another half point for the times i was able to <b style='color:red'>look</b> at the <b style='color:red'>lovely</b> liv tyler and <b style='color:red'>attempt</b> to ignore her acting performance ) this is far and away the <b style='color:red'>worst</b> movie ive gone to <b style='color:red'>see</b> in the theater . . . ever ."
      ],
      "text/plain": [
       "<IPython.core.display.HTML object>"
      ]
     },
     "metadata": {},
     "output_type": "display_data"
    },
    {
     "name": "stdout",
     "output_type": "stream",
     "text": [
      "\n",
      "New prediction: 0.512947\n"
     ]
    },
    {
     "data": {
      "text/html": [
       "performances by cutting away to a <b style='color:blue'>varied</b> shot every few seconds ( and this from someone raised on mtv - mr short attention span himself ) . just when i thought it couldnt get any worse . . . wait - theres a manufactured tearjerker ending that was so tacked on it made the rest of the film a virtual citizen kane . summary : the witticisms werent witty . the plot - well , i said id let that one go . the acting was <b style='color:blue'>wicked</b> . <b style='color:blue'>truly</b> <b style='color:blue'>wicked</b> . even billy bob couldnt rise above the script , which was worse . camerawork - again , <b style='color:blue'>wicked</b> . ( i didnt even mention the dumbest love scene in the history of motion pictures - think animal crackers ) . rating : 1 out of 10 . ( im giving a half point for steve buscemi , who makes me smile against my will and another half point for the times i was able to <b style='color:blue'>gaze</b> at the <b style='color:blue'>excellent</b> liv tyler and <b style='color:blue'>try</b> to ignore her acting performance ) this is far and away the <b style='color:blue'>lousiest</b> movie ive gone to <b style='color:blue'>behold</b> in the theater . . . ever ."
      ],
      "text/plain": [
       "<IPython.core.display.HTML object>"
      ]
     },
     "metadata": {},
     "output_type": "display_data"
    },
    {
     "name": "stdout",
     "output_type": "stream",
     "text": [
      "--------------------------------------------------\n",
      "#417   index = 17626\n",
      "ATTACK FAILED\n",
      "--------------------------------------------------\n",
      "#418   index = 21253\n",
      "ATTACK FAILED\n",
      "--------------------------------------------------\n",
      "#419   index = 2336\n",
      "ATTACK FAILED\n",
      "--------------------------------------------------\n",
      "#420   index = 14766\n",
      "ATTACK FAILED\n",
      "--------------------------------------------------\n",
      "#421   index = 17732\n",
      "ATTACK FAILED\n",
      "--------------------------------------------------\n",
      "#422   index = 11279\n",
      "ATTACK SUCCEEDED\n",
      "Original prediction: 0.970743\n"
     ]
    },
    {
     "data": {
      "text/html": [
       "whats the matter with you people ? john dahl ? from rounders and <b style='color:red'>unforgettable</b> ? too quirky ? knocking emma thompson and alan rickman for having fun playing against type ? and somebody liked the gingerbread man ? i rented this not knowing anything about it and found it about as nifty a video find as you can get . never insulting , well thought out , funny , <b style='color:red'>scary</b> . i disagree with the naysayers , clearly . i thought the story itself was unremarkable but the <b style='color:red'>great</b> cast , which most likely means the director was paying attention , lifted it to super cool status . <b style='color:red'>good</b> sound design also ( much more appreciated in surround , but im not bragging ) . and <b style='color:red'>yes</b> , im a girl , so maybe it has a slight female slant ( the guys in the gang are pretty <b style='color:red'>worthwhile</b> ) . all in all , a 9 and a hearty <b style='color:red'>recommend</b> ."
      ],
      "text/plain": [
       "<IPython.core.display.HTML object>"
      ]
     },
     "metadata": {},
     "output_type": "display_data"
    },
    {
     "name": "stdout",
     "output_type": "stream",
     "text": [
      "\n",
      "New prediction: 0.489924\n"
     ]
    },
    {
     "data": {
      "text/html": [
       "whats the matter with you people ? john dahl ? from rounders and <b style='color:blue'>remarkable</b> ? too quirky ? knocking emma thompson and alan rickman for having fun playing against type ? and somebody liked the gingerbread man ? i rented this not knowing anything about it and found it about as nifty a video find as you can get . never insulting , well thought out , funny , <b style='color:blue'>dreadful</b> . i disagree with the naysayers , clearly . i thought the story itself was unremarkable but the <b style='color:blue'>grandiose</b> cast , which most likely means the director was paying attention , lifted it to super cool status . <b style='color:blue'>allright</b> sound design also ( much more appreciated in surround , but im not bragging ) . and <b style='color:blue'>yup</b> , im a girl , so maybe it has a slight female slant ( the guys in the gang are pretty <b style='color:blue'>tenable</b> ) . all in all , a 9 and a hearty <b style='color:blue'>recommending</b> ."
      ],
      "text/plain": [
       "<IPython.core.display.HTML object>"
      ]
     },
     "metadata": {},
     "output_type": "display_data"
    },
    {
     "name": "stdout",
     "output_type": "stream",
     "text": [
      "--------------------------------------------------\n",
      "#423   index = 8561\n",
      "ATTACK SUCCEEDED\n",
      "Original prediction: 0.995976\n"
     ]
    },
    {
     "data": {
      "text/html": [
       "this has got to be the funniest movie i have seen in forever . chritopher guest is <b style='color:red'>truly</b> talented . he has a gift for humor . i almost died laughing . actually , when i saw this in theaters , i considered walking out because the movie was so dumb . but it is dumb in a good way . it is funny - dumb . and this is a <b style='color:red'>really</b> good combination . you will be laughing from start to end . this mockumentary style film follows an array of characters all competing at the kennel club dog show . the cast includes parker posey , fred willard , eugene levy , catherine ohara , john michael higgens , michael mckean , larry miller , bob balaban , jennifer coolidge and tons more . this is a <b style='color:red'>truly</b> funny movie that will have everyone laughing . someone born without a personality would laugh at this film . it is presented in widescreen to give the image that you are viewing an actual documentary and that is probably what adds to the hilarity . best in show : <b style='color:red'>5</b> / 5 ."
      ],
      "text/plain": [
       "<IPython.core.display.HTML object>"
      ]
     },
     "metadata": {},
     "output_type": "display_data"
    },
    {
     "name": "stdout",
     "output_type": "stream",
     "text": [
      "\n",
      "New prediction: 0.373018\n"
     ]
    },
    {
     "data": {
      "text/html": [
       "this has got to be the funniest movie i have seen in forever . chritopher guest is <b style='color:blue'>truthfully</b> talented . he has a gift for humor . i almost died laughing . actually , when i saw this in theaters , i considered walking out because the movie was so dumb . but it is dumb in a good way . it is funny - dumb . and this is a <b style='color:blue'>truthfully</b> good combination . you will be laughing from start to end . this mockumentary style film follows an array of characters all competing at the kennel club dog show . the cast includes parker posey , fred willard , eugene levy , catherine ohara , john michael higgens , michael mckean , larry miller , bob balaban , jennifer coolidge and tons more . this is a <b style='color:blue'>truthfully</b> funny movie that will have everyone laughing . someone born without a personality would laugh at this film . it is presented in widescreen to give the image that you are viewing an actual documentary and that is probably what adds to the hilarity . best in show : <b style='color:blue'>4</b> / 5 ."
      ],
      "text/plain": [
       "<IPython.core.display.HTML object>"
      ]
     },
     "metadata": {},
     "output_type": "display_data"
    },
    {
     "name": "stdout",
     "output_type": "stream",
     "text": [
      "--------------------------------------------------\n",
      "#424   index = 17359\n",
      "ATTACK FAILED\n",
      "--------------------------------------------------\n",
      "#425   index = 22029\n",
      "ATTACK SUCCEEDED\n",
      "Original prediction: 0.062700\n"
     ]
    },
    {
     "data": {
      "text/html": [
       "ad libbed some better stuff than he did . there was hardly anything to laugh at in this movie . i went into it wanting to enjoy it . i wanted to laugh but nearly cried . in the beginning credits it read <b style='color:red'>special</b> appearance by chevy chase . this <b style='color:red'>worried</b> me from the start . chevy is actually in more than i thought he would be . its more than a <b style='color:red'>special</b> appearance . too <b style='color:red'>bad</b> the appearance wasnt special . masons character would have been a good secondary character but got old as a main . i would rather have seen more ( much more ) of dyan cannon . at least her character was <b style='color:red'>fun</b> , if not well written . i also missed the gratuatis teen sex scene . mr . gopher went from being cute and innocent to a pesky rodent that deserved to be blown up . jonathan silverman is the only character that interested me and we didnt see enough of him . i take it back . try . . to watch half of this movie , then . . . <b style='color:red'>remember</b> the alamo , the maine , and caddyshack i ."
      ],
      "text/plain": [
       "<IPython.core.display.HTML object>"
      ]
     },
     "metadata": {},
     "output_type": "display_data"
    },
    {
     "name": "stdout",
     "output_type": "stream",
     "text": [
      "\n",
      "New prediction: 0.540605\n"
     ]
    },
    {
     "data": {
      "text/html": [
       "ad libbed some better stuff than he did . there was hardly anything to laugh at in this movie . i went into it wanting to enjoy it . i wanted to laugh but nearly cried . in the beginning credits it read <b style='color:blue'>exceptional</b> appearance by chevy chase . this <b style='color:blue'>alarmed</b> me from the start . chevy is actually in more than i thought he would be . its more than a <b style='color:blue'>exceptional</b> appearance . too <b style='color:blue'>naughty</b> the appearance wasnt special . masons character would have been a good secondary character but got old as a main . i would rather have seen more ( much more ) of dyan cannon . at least her character was <b style='color:blue'>entertaining</b> , if not well written . i also missed the gratuatis teen sex scene . mr . gopher went from being cute and innocent to a pesky rodent that deserved to be blown up . jonathan silverman is the only character that interested me and we didnt see enough of him . i take it back . try . . to watch half of this movie , then . . . <b style='color:blue'>reminisce</b> the alamo , the maine , and caddyshack i ."
      ],
      "text/plain": [
       "<IPython.core.display.HTML object>"
      ]
     },
     "metadata": {},
     "output_type": "display_data"
    },
    {
     "name": "stdout",
     "output_type": "stream",
     "text": [
      "--------------------------------------------------\n",
      "#426   index = 13019\n",
      "ATTACK SUCCEEDED\n",
      "Original prediction: 0.027875\n"
     ]
    },
    {
     "data": {
      "text/html": [
       "when my own child is begging me to <b style='color:red'>leave</b> the opening <b style='color:red'>show</b> of this <b style='color:red'>film</b> , i know it is <b style='color:red'>bad</b> . i wanted to claw my eyes out . i wanted to reach through the screen and slap mike myers for sacrificing the last shred of dignity he had . this is one of the few films in my life i have watched and <b style='color:red'>immediately</b> wished to unwatch , if <b style='color:red'>only</b> it were possible . the other films being troll 2 and fast and furious , both which are better than this <b style='color:red'>crap</b> in the hat . i may drink myself to sleep tonight in a vain <b style='color:red'>attempt</b> to forget i ever witnessed this blasphemy on the <b style='color:red'>good</b> seuss name . to mike myers , i say stick with austin or even <b style='color:red'>resurrect</b> waynes world . just because it worked for jim carrey , doesnt mean seuss is a success for all canadians ."
      ],
      "text/plain": [
       "<IPython.core.display.HTML object>"
      ]
     },
     "metadata": {},
     "output_type": "display_data"
    },
    {
     "name": "stdout",
     "output_type": "stream",
     "text": [
      "\n",
      "New prediction: 0.506308\n"
     ]
    },
    {
     "data": {
      "text/html": [
       "when my own child is begging me to <b style='color:blue'>walkout</b> the opening <b style='color:blue'>exhibition</b> of this <b style='color:blue'>filmmaking</b> , i know it is <b style='color:blue'>wicked</b> . i wanted to claw my eyes out . i wanted to reach through the screen and slap mike myers for sacrificing the last shred of dignity he had . this is one of the few films in my life i have watched and <b style='color:blue'>swiftly</b> wished to unwatch , if <b style='color:blue'>exclusively</b> it were possible . the other films being troll 2 and fast and furious , both which are better than this <b style='color:blue'>absurdity</b> in the hat . i may drink myself to sleep tonight in a vain <b style='color:blue'>try</b> to forget i ever witnessed this blasphemy on the <b style='color:blue'>exemplary</b> seuss name . to mike myers , i say stick with austin or even <b style='color:blue'>relaunch</b> waynes world . just because it worked for jim carrey , doesnt mean seuss is a success for all canadians ."
      ],
      "text/plain": [
       "<IPython.core.display.HTML object>"
      ]
     },
     "metadata": {},
     "output_type": "display_data"
    },
    {
     "name": "stdout",
     "output_type": "stream",
     "text": [
      "--------------------------------------------------\n",
      "#427   index = 22605\n",
      "ATTACK FAILED\n",
      "--------------------------------------------------\n",
      "#428   index = 23076\n",
      "ATTACK SUCCEEDED\n",
      "Original prediction: 0.015811\n"
     ]
    },
    {
     "data": {
      "text/html": [
       "<b style='color:red'>see</b> things coming . and aside from the <b style='color:red'>typical</b> tie him up instead of the <b style='color:red'>previously</b> mentioned shooting him , the most <b style='color:red'>annoying</b> part was the revelation towards the closing from one <b style='color:red'>best</b> friend to the <b style='color:red'>other</b> . getting past those , its enjoyable for what it is . <b style='color:red'>basically</b> , we have two unsuspecting females traveling alone from mexico home ( wow , thats <b style='color:red'>original</b> ) and one lost her luggage preventing them from leaving the airport until late . and after an <b style='color:red'>obvious</b> foreshadowed sign - language scene , they enter a too - good - to - be - true half - price shuttle ride . clichéd jocks , previously introduced , con their <b style='color:red'>way</b> on the shuttle , to join what appears to be alan rucks stunt double from speed . from here , its <b style='color:red'>obvious</b> what happens ( i did <b style='color:red'>mention</b> it was a hostel knock off ) but still , i didnt find too much <b style='color:red'>horrible</b> , yet nothing <b style='color:red'>spectacular</b> . though , it wouldve served the audience better with <b style='color:red'>roughly</b> <b style='color:red'>15</b> - 20 minutes <b style='color:red'>deleted</b> , i would recommend if you have almost 2 hours to kill and are into sick horror ."
      ],
      "text/plain": [
       "<IPython.core.display.HTML object>"
      ]
     },
     "metadata": {},
     "output_type": "display_data"
    },
    {
     "name": "stdout",
     "output_type": "stream",
     "text": [
      "\n",
      "New prediction: 0.509721\n"
     ]
    },
    {
     "data": {
      "text/html": [
       "<b style='color:blue'>behold</b> things coming . and aside from the <b style='color:blue'>idiosyncratic</b> tie him up instead of the <b style='color:blue'>formerly</b> mentioned shooting him , the most <b style='color:blue'>troublesome</b> part was the revelation towards the closing from one <b style='color:blue'>finest</b> friend to the <b style='color:blue'>assorted</b> . getting past those , its enjoyable for what it is . <b style='color:blue'>mainly</b> , we have two unsuspecting females traveling alone from mexico home ( wow , thats <b style='color:blue'>preliminary</b> ) and one lost her luggage preventing them from leaving the airport until late . and after an <b style='color:blue'>palpable</b> foreshadowed sign - language scene , they enter a too - good - to - be - true half - price shuttle ride . clichéd jocks , previously introduced , con their <b style='color:blue'>path</b> on the shuttle , to join what appears to be alan rucks stunt double from speed . from here , its <b style='color:blue'>palpable</b> what happens ( i did <b style='color:blue'>cite</b> it was a hostel knock off ) but still , i didnt find too much <b style='color:blue'>shocking</b> , yet nothing <b style='color:blue'>excellent</b> . though , it wouldve served the audience better with <b style='color:blue'>approximately</b> <b style='color:blue'>17</b> - 20 minutes <b style='color:blue'>eliminated</b> , i would recommend if you have almost 2 hours to kill and are into sick horror ."
      ],
      "text/plain": [
       "<IPython.core.display.HTML object>"
      ]
     },
     "metadata": {},
     "output_type": "display_data"
    },
    {
     "name": "stdout",
     "output_type": "stream",
     "text": [
      "--------------------------------------------------\n",
      "#429   index = 13350\n",
      "ATTACK FAILED\n",
      "--------------------------------------------------\n",
      "#430   index = 3905\n",
      "ATTACK FAILED\n",
      "--------------------------------------------------\n",
      "#431   index = 19812\n",
      "ATTACK SUCCEEDED\n",
      "Original prediction: 0.036682\n"
     ]
    },
    {
     "data": {
      "text/html": [
       "well the previews looked funny and i usually dont go to movies on opening night especially with my kids because . . . . . . well you never know . here is a movie that doesnt appeal either to children or adults as the jokes are too perverse for children and falls completely flat for entertainment purposes for adults . i was actually embarrassed to be with my 9 and 6 year old and having to explain to my 6 year old what s h * t spells . <b style='color:red'>essentially</b> what happens here is a total <b style='color:red'>twisting</b> of dr . seusss classic . it adds an <b style='color:red'>evil</b> and lazy neighbor who wants to marry the childrens mother for her money . if that was a subplot , then maybe that would have been fine but it ends up being the major plot around the whole movie and the cat plays more of a subplot role in exposing the neighbor to the mom for who he <b style='color:red'>really</b> is . <b style='color:red'>take</b> my <b style='color:red'>advice</b> and read the book and pass on the <b style='color:red'>movie</b> ."
      ],
      "text/plain": [
       "<IPython.core.display.HTML object>"
      ]
     },
     "metadata": {},
     "output_type": "display_data"
    },
    {
     "name": "stdout",
     "output_type": "stream",
     "text": [
      "\n",
      "New prediction: 0.507366\n"
     ]
    },
    {
     "data": {
      "text/html": [
       "well the previews looked funny and i usually dont go to movies on opening night especially with my kids because . . . . . . well you never know . here is a movie that doesnt appeal either to children or adults as the jokes are too perverse for children and falls completely flat for entertainment purposes for adults . i was actually embarrassed to be with my 9 and 6 year old and having to explain to my 6 year old what s h * t spells . <b style='color:blue'>predominantly</b> what happens here is a total <b style='color:blue'>twist</b> of dr . seusss classic . it adds an <b style='color:blue'>wicked</b> and lazy neighbor who wants to marry the childrens mother for her money . if that was a subplot , then maybe that would have been fine but it ends up being the major plot around the whole movie and the cat plays more of a subplot role in exposing the neighbor to the mom for who he <b style='color:blue'>truly</b> is . <b style='color:blue'>pick</b> my <b style='color:blue'>advising</b> and read the book and pass on the <b style='color:blue'>film</b> ."
      ],
      "text/plain": [
       "<IPython.core.display.HTML object>"
      ]
     },
     "metadata": {},
     "output_type": "display_data"
    },
    {
     "name": "stdout",
     "output_type": "stream",
     "text": [
      "--------------------------------------------------\n",
      "#432   index = 9687\n",
      "ATTACK SUCCEEDED\n",
      "Original prediction: 0.909104\n"
     ]
    },
    {
     "data": {
      "text/html": [
       "at the beginning of this film , which i found myself watching on ifc in the wee hours of the morning , i was filled with a sense of claustrophobia and general discomfort . the feeling of being trapped with no way to escape was so powerful that i didnt know if i wanted to continue watching . . . although it didnt really seem to me that i had much of a choice , so compelling was the situation . gradually , though , that feeling of discomfort waned ( although it never really disappeared entirely ) , and i felt drawn into tessa & bobbys predicaments , and really just hoping against hope that they might get back together . really just a moving , <b style='color:red'>powerful</b> story fit snugly into a <b style='color:red'>tiny</b> package . i had no idea that sarah polley had anything to do with it until perusing her trivia , so now i love it even more . i <b style='color:red'>definitely</b> recommend it . . . . if your lucky enough to catch it on the independent film channel sometime , or wily enough to figure out some other way to view it ."
      ],
      "text/plain": [
       "<IPython.core.display.HTML object>"
      ]
     },
     "metadata": {},
     "output_type": "display_data"
    },
    {
     "name": "stdout",
     "output_type": "stream",
     "text": [
      "\n",
      "New prediction: 0.432718\n"
     ]
    },
    {
     "data": {
      "text/html": [
       "at the beginning of this film , which i found myself watching on ifc in the wee hours of the morning , i was filled with a sense of claustrophobia and general discomfort . the feeling of being trapped with no way to escape was so powerful that i didnt know if i wanted to continue watching . . . although it didnt really seem to me that i had much of a choice , so compelling was the situation . gradually , though , that feeling of discomfort waned ( although it never really disappeared entirely ) , and i felt drawn into tessa & bobbys predicaments , and really just hoping against hope that they might get back together . really just a moving , <b style='color:blue'>mighty</b> story fit snugly into a <b style='color:blue'>minuscule</b> package . i had no idea that sarah polley had anything to do with it until perusing her trivia , so now i love it even more . i <b style='color:blue'>assuredly</b> recommend it . . . . if your lucky enough to catch it on the independent film channel sometime , or wily enough to figure out some other way to view it ."
      ],
      "text/plain": [
       "<IPython.core.display.HTML object>"
      ]
     },
     "metadata": {},
     "output_type": "display_data"
    },
    {
     "name": "stdout",
     "output_type": "stream",
     "text": [
      "--------------------------------------------------\n",
      "#433   index = 17428\n",
      "ATTACK FAILED\n",
      "--------------------------------------------------\n",
      "#434   index = 23123\n",
      "ATTACK SUCCEEDED\n",
      "Original prediction: 0.000559\n"
     ]
    },
    {
     "data": {
      "text/html": [
       ". this time instead of being in japan with all english speaking people we are in spain with all english speaking people . it is <b style='color:red'>interesting</b> that not one shot of this movie actually looks like spain and could have been entirely filmed in a studio back lot . oh and a place with swings , cause theres a good 5 mins of footage of swings with no one on them , oooohhh how spooky . this one is <b style='color:red'>terrible</b> in every <b style='color:red'>way</b> imaginable . the acting by the lameinator mom and dad dont help matters at all . anna paquin is the <b style='color:red'>only</b> person that delivers a <b style='color:red'>decent</b> performance in the film but i hate anna paquin so you can imagine my own private hell viewing this film . there is one <b style='color:red'>good</b> moment in the movie , however , when a villain is trying to explain the <b style='color:red'>convoluted</b> plot to anna paquins character and she doesnt understand any of it and asks a bunch of <b style='color:red'>stupid</b> questions and he blurts out you <b style='color:red'>idiot</b> , you have not understood anything ! lol . well i happen to understand this film is a piece of <b style='color:red'>garbage</b> . 0 stars ."
      ],
      "text/plain": [
       "<IPython.core.display.HTML object>"
      ]
     },
     "metadata": {},
     "output_type": "display_data"
    },
    {
     "name": "stdout",
     "output_type": "stream",
     "text": [
      "\n",
      "New prediction: 0.505023\n"
     ]
    },
    {
     "data": {
      "text/html": [
       ". this time instead of being in japan with all english speaking people we are in spain with all english speaking people . it is <b style='color:blue'>fascinating</b> that not one shot of this movie actually looks like spain and could have been entirely filmed in a studio back lot . oh and a place with swings , cause theres a good 5 mins of footage of swings with no one on them , oooohhh how spooky . this one is <b style='color:blue'>fearsome</b> in every <b style='color:blue'>path</b> imaginable . the acting by the lameinator mom and dad dont help matters at all . anna paquin is the <b style='color:blue'>solely</b> person that delivers a <b style='color:blue'>dignified</b> performance in the film but i hate anna paquin so you can imagine my own private hell viewing this film . there is one <b style='color:blue'>exemplary</b> moment in the movie , however , when a villain is trying to explain the <b style='color:blue'>knotty</b> plot to anna paquins character and she doesnt understand any of it and asks a bunch of <b style='color:blue'>witless</b> questions and he blurts out you <b style='color:blue'>moron</b> , you have not understood anything ! lol . well i happen to understand this film is a piece of <b style='color:blue'>refuse</b> . 0 stars ."
      ],
      "text/plain": [
       "<IPython.core.display.HTML object>"
      ]
     },
     "metadata": {},
     "output_type": "display_data"
    },
    {
     "name": "stdout",
     "output_type": "stream",
     "text": [
      "--------------------------------------------------\n",
      "#435   index = 9865\n",
      "ATTACK SUCCEEDED\n",
      "Original prediction: 0.958228\n"
     ]
    },
    {
     "data": {
      "text/html": [
       "this <b style='color:red'>great</b> tv movie told of the 1975 murder of martha moxley in greenwich , connecticut by a nephew of ethel kennedy . the use of the ghost of martha to provide some of the details was very effective and added a lot of heart to the story . christopher meloni seemed to capture the personality of mark fuhrman very <b style='color:red'>well</b> . furhman , who got so much underserved <b style='color:red'>bad</b> publicity in the o . j . simpson trial has certainly vindicated himself by his contribution of bringing the killer to justice after about 27 years ."
      ],
      "text/plain": [
       "<IPython.core.display.HTML object>"
      ]
     },
     "metadata": {},
     "output_type": "display_data"
    },
    {
     "name": "stdout",
     "output_type": "stream",
     "text": [
      "\n",
      "New prediction: 0.381677\n"
     ]
    },
    {
     "data": {
      "text/html": [
       "this <b style='color:blue'>grandiose</b> tv movie told of the 1975 murder of martha moxley in greenwich , connecticut by a nephew of ethel kennedy . the use of the ghost of martha to provide some of the details was very effective and added a lot of heart to the story . christopher meloni seemed to capture the personality of mark fuhrman very <b style='color:blue'>allright</b> . furhman , who got so much underserved <b style='color:blue'>rotten</b> publicity in the o . j . simpson trial has certainly vindicated himself by his contribution of bringing the killer to justice after about 27 years ."
      ],
      "text/plain": [
       "<IPython.core.display.HTML object>"
      ]
     },
     "metadata": {},
     "output_type": "display_data"
    },
    {
     "name": "stdout",
     "output_type": "stream",
     "text": [
      "--------------------------------------------------\n",
      "#436   index = 20747\n",
      "ATTACK FAILED\n",
      "--------------------------------------------------\n",
      "#437   index = 19383\n",
      "ATTACK SUCCEEDED\n",
      "Original prediction: 0.000626\n"
     ]
    },
    {
     "data": {
      "text/html": [
       "this movie was <b style='color:red'>bad</b> and the movies about how some college students stay at a house to get money by renovating it and then they find out that the house has a woman deamon in it and that there is a portal to hell . in this movie there are heaps of stupid scenes like at the start of the movie how they are cleaning the house and they start to dancing to a cheesy song and some of the demons at the end of the movie are just some guys in bad costumes trying to make scary sounds and there are some good gore scenes like when the professor gets his face ripped of . i only hired this movie because i am a big fan of horror movies and its only worth watching if u are a fan of horror movies . the acting in this movie is really <b style='color:red'>bad</b> the only good actor is roy scheider from the great movie jaws and over all this movie has heaps of flaws and my <b style='color:red'>rating</b> is <b style='color:red'>4</b> out of 10 ."
      ],
      "text/plain": [
       "<IPython.core.display.HTML object>"
      ]
     },
     "metadata": {},
     "output_type": "display_data"
    },
    {
     "name": "stdout",
     "output_type": "stream",
     "text": [
      "\n",
      "New prediction: 0.831741\n"
     ]
    },
    {
     "data": {
      "text/html": [
       "this movie was <b style='color:blue'>wicked</b> and the movies about how some college students stay at a house to get money by renovating it and then they find out that the house has a woman deamon in it and that there is a portal to hell . in this movie there are heaps of stupid scenes like at the start of the movie how they are cleaning the house and they start to dancing to a cheesy song and some of the demons at the end of the movie are just some guys in bad costumes trying to make scary sounds and there are some good gore scenes like when the professor gets his face ripped of . i only hired this movie because i am a big fan of horror movies and its only worth watching if u are a fan of horror movies . the acting in this movie is really <b style='color:blue'>wicked</b> the only good actor is roy scheider from the great movie jaws and over all this movie has heaps of flaws and my <b style='color:blue'>evaluating</b> is <b style='color:blue'>5</b> out of 10 ."
      ],
      "text/plain": [
       "<IPython.core.display.HTML object>"
      ]
     },
     "metadata": {},
     "output_type": "display_data"
    },
    {
     "name": "stdout",
     "output_type": "stream",
     "text": [
      "--------------------------------------------------\n",
      "#438   index = 17207\n",
      "ATTACK SUCCEEDED\n",
      "Original prediction: 0.049698\n"
     ]
    },
    {
     "data": {
      "text/html": [
       "piece of cheeze . this movie is about a sister and brother bonnie and clyde type of duo that creates their own party line in order to lure their victims in and trap them and kill them . but for what reason ? just for the fun of getting away with it ? in comes richard hatch who comes across as a wishy washy ladies man . a real <b style='color:red'>bad</b> version of a ladies man . and he gets involved with finding whos behind all the killings across la . he finally meets a teenager who helps him find the killer and rest is for your <b style='color:red'>fun</b> and amusement . but there are parts in this film that really get me going like the scene with lief garret dressed in his mothers wedding gown acting like a sissy in front of his sister telling her that he needs her and cant live without her and watching as she slaps him across the face dominateing him . i cant believe that was lief ! ! ! well , i guess i could . but its worth watching but <b style='color:red'>only</b> to see one of garrets <b style='color:red'>worst</b> films that he ever did ."
      ],
      "text/plain": [
       "<IPython.core.display.HTML object>"
      ]
     },
     "metadata": {},
     "output_type": "display_data"
    },
    {
     "name": "stdout",
     "output_type": "stream",
     "text": [
      "\n",
      "New prediction: 0.556393\n"
     ]
    },
    {
     "data": {
      "text/html": [
       "piece of cheeze . this movie is about a sister and brother bonnie and clyde type of duo that creates their own party line in order to lure their victims in and trap them and kill them . but for what reason ? just for the fun of getting away with it ? in comes richard hatch who comes across as a wishy washy ladies man . a real <b style='color:blue'>wicked</b> version of a ladies man . and he gets involved with finding whos behind all the killings across la . he finally meets a teenager who helps him find the killer and rest is for your <b style='color:blue'>entertaining</b> and amusement . but there are parts in this film that really get me going like the scene with lief garret dressed in his mothers wedding gown acting like a sissy in front of his sister telling her that he needs her and cant live without her and watching as she slaps him across the face dominateing him . i cant believe that was lief ! ! ! well , i guess i could . but its worth watching but <b style='color:blue'>exclusively</b> to see one of garrets <b style='color:blue'>lousiest</b> films that he ever did ."
      ],
      "text/plain": [
       "<IPython.core.display.HTML object>"
      ]
     },
     "metadata": {},
     "output_type": "display_data"
    },
    {
     "name": "stdout",
     "output_type": "stream",
     "text": [
      "--------------------------------------------------\n",
      "#439   index = 20669\n",
      "ATTACK SUCCEEDED\n",
      "Original prediction: 0.076100\n"
     ]
    },
    {
     "data": {
      "text/html": [
       "shock that an audience laughed at portias a pound of flesh , no more , no less sentence ; ultimately concluding that it had to tension release laughter . the merchant of venice is a comedy and radford scoffs at the idea that the most <b style='color:red'>absurd</b> and hysterical portions of the <b style='color:red'>story</b> are <b style='color:red'>anything</b> but the most daringly provocative drama . the film has no intelligible focus , yet cuts out some of the most entertaining scenes . the characters are forced into high drama veils , so they come out sounding like ibsen characters reading victorian poetry . and the comedic ending , where all of the <b style='color:red'>good</b> guys go to bed happy , is drowned in a dignified despair that feels like theyre finding stiff - upper - lip peace with impending death , rather than reconciling with lovers . even lancelot and antonio exit the film holding their hats like aristocratic mourners . the film is poorly <b style='color:red'>done</b> because the creative powers that be dont understand the script . it is stern where it should hysterical . it is <b style='color:red'>reserved</b> where it should be passionate . it is michael radford where it should be william shakespeare ."
      ],
      "text/plain": [
       "<IPython.core.display.HTML object>"
      ]
     },
     "metadata": {},
     "output_type": "display_data"
    },
    {
     "name": "stdout",
     "output_type": "stream",
     "text": [
      "\n",
      "New prediction: 0.522941\n"
     ]
    },
    {
     "data": {
      "text/html": [
       "shock that an audience laughed at portias a pound of flesh , no more , no less sentence ; ultimately concluding that it had to tension release laughter . the merchant of venice is a comedy and radford scoffs at the idea that the most <b style='color:blue'>irrational</b> and hysterical portions of the <b style='color:blue'>tale</b> are <b style='color:blue'>something</b> but the most daringly provocative drama . the film has no intelligible focus , yet cuts out some of the most entertaining scenes . the characters are forced into high drama veils , so they come out sounding like ibsen characters reading victorian poetry . and the comedic ending , where all of the <b style='color:blue'>exemplary</b> guys go to bed happy , is drowned in a dignified despair that feels like theyre finding stiff - upper - lip peace with impending death , rather than reconciling with lovers . even lancelot and antonio exit the film holding their hats like aristocratic mourners . the film is poorly <b style='color:blue'>accomplished</b> because the creative powers that be dont understand the script . it is stern where it should hysterical . it is <b style='color:blue'>booked</b> where it should be passionate . it is michael radford where it should be william shakespeare ."
      ],
      "text/plain": [
       "<IPython.core.display.HTML object>"
      ]
     },
     "metadata": {},
     "output_type": "display_data"
    },
    {
     "name": "stdout",
     "output_type": "stream",
     "text": [
      "--------------------------------------------------\n",
      "#440   index = 7447\n",
      "ATTACK FAILED\n",
      "--------------------------------------------------\n",
      "#441   index = 11170\n",
      "ATTACK SUCCEEDED\n",
      "Original prediction: 0.989114\n"
     ]
    },
    {
     "data": {
      "text/html": [
       "late 70s and early 80s i would always make time to sit in front of the tv and watch it . to see the <b style='color:red'>lovely</b> kate jackson , handsome richard long , the great polly bergen whom ive never seen anywhere else except for this tv movie , the endearing tom bosley , and another <b style='color:red'>great</b> whom ive never seen outside this movie , celeste holme . this is <b style='color:red'>truly</b> the love boat on a cruise to murder and mayhem and boy was it ever good ! ! and every time i would watch it i would always forget who the real murderer was . as expected , someone here is already criticizing the movie as if that really is a big help to anyone . this is a <b style='color:red'>great</b> tv movie and worth watching each and every time . i cant say that about half the movies ive seen this month . if you ever get a chance to watch it on tv someday , which isnt likely , watch it . in light of the girl most likely to finally coming out this year on dvd , maybe theres hope for a dvd release of death cruise ."
      ],
      "text/plain": [
       "<IPython.core.display.HTML object>"
      ]
     },
     "metadata": {},
     "output_type": "display_data"
    },
    {
     "name": "stdout",
     "output_type": "stream",
     "text": [
      "\n",
      "New prediction: 0.387370\n"
     ]
    },
    {
     "data": {
      "text/html": [
       "late 70s and early 80s i would always make time to sit in front of the tv and watch it . to see the <b style='color:blue'>glowing</b> kate jackson , handsome richard long , the great polly bergen whom ive never seen anywhere else except for this tv movie , the endearing tom bosley , and another <b style='color:blue'>fanciful</b> whom ive never seen outside this movie , celeste holme . this is <b style='color:blue'>truthfully</b> the love boat on a cruise to murder and mayhem and boy was it ever good ! ! and every time i would watch it i would always forget who the real murderer was . as expected , someone here is already criticizing the movie as if that really is a big help to anyone . this is a <b style='color:blue'>grandiose</b> tv movie and worth watching each and every time . i cant say that about half the movies ive seen this month . if you ever get a chance to watch it on tv someday , which isnt likely , watch it . in light of the girl most likely to finally coming out this year on dvd , maybe theres hope for a dvd release of death cruise ."
      ],
      "text/plain": [
       "<IPython.core.display.HTML object>"
      ]
     },
     "metadata": {},
     "output_type": "display_data"
    },
    {
     "name": "stdout",
     "output_type": "stream",
     "text": [
      "--------------------------------------------------\n",
      "#442   index = 812\n",
      "ATTACK SUCCEEDED\n",
      "Original prediction: 0.994094\n"
     ]
    },
    {
     "data": {
      "text/html": [
       "what can i say about this film other than the narrative is one of the most <b style='color:red'>exciting</b> in film history . . . and based on a true story ! being old enough to remember the berlin wall when it was still used to contain a country , this film <b style='color:red'>gives</b> you a dark insight into the <b style='color:red'>grim</b> incarceration of east berliners , and their desperate attempts to escape , no matter what the cost . the film follows the lives of two families , who decide to escape using a hot - air balloon manufactured by themselves . <b style='color:red'>forever</b> fearing arrest by the authorities , under <b style='color:red'>scrutiny</b> by neighbours , they have to calculate a plan to reach the other side of the wall . a <b style='color:red'>tense</b> & <b style='color:red'>thrilling</b> story of courage and determination which <b style='color:red'>truly</b> <b style='color:red'>pays</b> homage to all those who succeeded and failed the treacherous <b style='color:red'>journey</b> to <b style='color:red'>west</b> berlin and freedom ."
      ],
      "text/plain": [
       "<IPython.core.display.HTML object>"
      ]
     },
     "metadata": {},
     "output_type": "display_data"
    },
    {
     "name": "stdout",
     "output_type": "stream",
     "text": [
      "\n",
      "New prediction: 0.487344\n"
     ]
    },
    {
     "data": {
      "text/html": [
       "what can i say about this film other than the narrative is one of the most <b style='color:blue'>enthralling</b> in film history . . . and based on a true story ! being old enough to remember the berlin wall when it was still used to contain a country , this film <b style='color:blue'>furnishes</b> you a dark insight into the <b style='color:blue'>dismal</b> incarceration of east berliners , and their desperate attempts to escape , no matter what the cost . the film follows the lives of two families , who decide to escape using a hot - air balloon manufactured by themselves . <b style='color:blue'>eternally</b> fearing arrest by the authorities , under <b style='color:blue'>exam</b> by neighbours , they have to calculate a plan to reach the other side of the wall . a <b style='color:blue'>strained</b> & <b style='color:blue'>enthralling</b> story of courage and determination which <b style='color:blue'>truthfully</b> <b style='color:blue'>salaries</b> homage to all those who succeeded and failed the treacherous <b style='color:blue'>trip</b> to <b style='color:blue'>north</b> berlin and freedom ."
      ],
      "text/plain": [
       "<IPython.core.display.HTML object>"
      ]
     },
     "metadata": {},
     "output_type": "display_data"
    },
    {
     "name": "stdout",
     "output_type": "stream",
     "text": [
      "--------------------------------------------------\n",
      "#443   index = 23064\n",
      "ATTACK FAILED\n",
      "--------------------------------------------------\n",
      "#444   index = 4260\n",
      "ATTACK FAILED\n",
      "--------------------------------------------------\n",
      "#445   index = 16131\n",
      "ATTACK SUCCEEDED\n",
      "Original prediction: 0.036029\n"
     ]
    },
    {
     "data": {
      "text/html": [
       "kennan ivory wayans was so funny in low down dirty shame that i had to see this one and it was one of the <b style='color:red'>worst</b> he has <b style='color:red'>done</b> and steven seagal didnt help much . it starts off with some odd religious killings that dont make much sense to jim campbell ( keenan ) . he is surprised to see a new partner waiting for him to work by his side to <b style='color:red'>crack</b> the <b style='color:red'>case</b> but jack cole doesnt seem to be who everyone thinks he is until jacks ex wife is killed in one of those ritual killings that end up making him the suspect as well . its the same thing as all of his <b style='color:red'>other</b> movies : smoke past , cia involvement and now trying to be a normal cop . why does steven dress up like he is from a western movie ? and the prayer beeds on top of that make things a little <b style='color:red'>confusing</b> ."
      ],
      "text/plain": [
       "<IPython.core.display.HTML object>"
      ]
     },
     "metadata": {},
     "output_type": "display_data"
    },
    {
     "name": "stdout",
     "output_type": "stream",
     "text": [
      "\n",
      "New prediction: 0.500457\n"
     ]
    },
    {
     "data": {
      "text/html": [
       "kennan ivory wayans was so funny in low down dirty shame that i had to see this one and it was one of the <b style='color:blue'>lousiest</b> he has <b style='color:blue'>accomplished</b> and steven seagal didnt help much . it starts off with some odd religious killings that dont make much sense to jim campbell ( keenan ) . he is surprised to see a new partner waiting for him to work by his side to <b style='color:blue'>crevasse</b> the <b style='color:blue'>lawsuit</b> but jack cole doesnt seem to be who everyone thinks he is until jacks ex wife is killed in one of those ritual killings that end up making him the suspect as well . its the same thing as all of his <b style='color:blue'>assorted</b> movies : smoke past , cia involvement and now trying to be a normal cop . why does steven dress up like he is from a western movie ? and the prayer beeds on top of that make things a little <b style='color:blue'>unnerving</b> ."
      ],
      "text/plain": [
       "<IPython.core.display.HTML object>"
      ]
     },
     "metadata": {},
     "output_type": "display_data"
    },
    {
     "name": "stdout",
     "output_type": "stream",
     "text": [
      "--------------------------------------------------\n",
      "#446   index = 21144\n",
      "ATTACK FAILED\n",
      "--------------------------------------------------\n",
      "#447   index = 2508\n",
      "ATTACK SUCCEEDED\n",
      "Original prediction: 0.984116\n"
     ]
    },
    {
     "data": {
      "text/html": [
       "is a pattern where events and <b style='color:red'>people</b> are interlinked in a cosmic sense ( note the resemblance of <b style='color:red'>clown</b> to the killer , as it hangs from the mirror in the cab ) . kieslowski and the young idealist lawyer seem to ask us to look at the commandment literally and figuratively - - why do we kill ? are the people legally killed truly <b style='color:red'>bad</b> ? is there a force beyond society ( the <b style='color:red'>drunken</b> night that led to life of a girl ) that makes us into abhorrent murderers ? it would be missing the forest for the trees to discuss the two <b style='color:red'>detailed</b> killings in the film - - both without mercy . the film invites the viewer to contemplate why we are asked by god not to kill . i <b style='color:red'>understand</b> a longer full - length version of the film was made by kieslowski . but even this short 1 - hr version is <b style='color:red'>superb</b> with its <b style='color:red'>bleak</b> and sparse script , <b style='color:red'>intelligent</b> editing , interesting cinematography and top - notch direction that <b style='color:red'>provides</b> much more than the sum of its parts . this segment <b style='color:red'>anticipates</b> the more <b style='color:red'>wholesome</b> dekalogs <b style='color:red'>6</b> , 7 and 8 ."
      ],
      "text/plain": [
       "<IPython.core.display.HTML object>"
      ]
     },
     "metadata": {},
     "output_type": "display_data"
    },
    {
     "name": "stdout",
     "output_type": "stream",
     "text": [
      "\n",
      "New prediction: 0.484224\n"
     ]
    },
    {
     "data": {
      "text/html": [
       "is a pattern where events and <b style='color:blue'>peuple</b> are interlinked in a cosmic sense ( note the resemblance of <b style='color:blue'>buffoon</b> to the killer , as it hangs from the mirror in the cab ) . kieslowski and the young idealist lawyer seem to ask us to look at the commandment literally and figuratively - - why do we kill ? are the people legally killed truly <b style='color:blue'>lousy</b> ? is there a force beyond society ( the <b style='color:blue'>drunk</b> night that led to life of a girl ) that makes us into abhorrent murderers ? it would be missing the forest for the trees to discuss the two <b style='color:blue'>judicious</b> killings in the film - - both without mercy . the film invites the viewer to contemplate why we are asked by god not to kill . i <b style='color:blue'>fathom</b> a longer full - length version of the film was made by kieslowski . but even this short 1 - hr version is <b style='color:blue'>extraordinary</b> with its <b style='color:blue'>dismal</b> and sparse script , <b style='color:blue'>smart</b> editing , interesting cinematography and top - notch direction that <b style='color:blue'>prescribes</b> much more than the sum of its parts . this segment <b style='color:blue'>predicts</b> the more <b style='color:blue'>healthy</b> dekalogs <b style='color:blue'>5</b> , 7 and 8 ."
      ],
      "text/plain": [
       "<IPython.core.display.HTML object>"
      ]
     },
     "metadata": {},
     "output_type": "display_data"
    },
    {
     "name": "stdout",
     "output_type": "stream",
     "text": [
      "--------------------------------------------------\n",
      "#448   index = 13238\n",
      "ATTACK FAILED\n",
      "--------------------------------------------------\n",
      "#449   index = 18329\n",
      "ATTACK FAILED\n",
      "--------------------------------------------------\n",
      "#450   index = 4234\n",
      "ATTACK SUCCEEDED\n",
      "Original prediction: 0.944860\n"
     ]
    },
    {
     "data": {
      "text/html": [
       "portrayed , a standard feature of mccarthy era fare . when <b style='color:red'>brute</b> force is needed , its not they , but private citizen gene barry who thrashes out the informationan early version , i suppose , of modern era rendition . once the <b style='color:red'>kidnapping</b> occurs , the suspense doesnt let up . the intrigue is nicely handled with colorful la locations that keep us guessing . the climactic scenes around the cliff <b style='color:red'>dwellings</b> may not be plausible as a <b style='color:red'>hiding</b> place , but the <b style='color:red'>view</b> of northern new mexico is <b style='color:red'>great</b> . then too , the ancient stone apartments amount to one of the more exotic backdrops of the decade . note also the extensive use of the police helicopter just coming into use as a law enforcement tool . among an otherwise subdued cast , nancy gates remains a sparkling presence as teacher ellen haskell . never hollywood glamorous , she was still a fine <b style='color:red'>unsung</b> actress and winning personality . i also expect this was one of director hoppers more successful movie efforts , and though <b style='color:red'>people</b> have since gotten used to the nuclear threat , the <b style='color:red'>movie</b> remains a <b style='color:red'>revealing</b> and riveting document of its time ."
      ],
      "text/plain": [
       "<IPython.core.display.HTML object>"
      ]
     },
     "metadata": {},
     "output_type": "display_data"
    },
    {
     "name": "stdout",
     "output_type": "stream",
     "text": [
      "\n",
      "New prediction: 0.487625\n"
     ]
    },
    {
     "data": {
      "text/html": [
       "portrayed , a standard feature of mccarthy era fare . when <b style='color:blue'>callous</b> force is needed , its not they , but private citizen gene barry who thrashes out the informationan early version , i suppose , of modern era rendition . once the <b style='color:blue'>abduct</b> occurs , the suspense doesnt let up . the intrigue is nicely handled with colorful la locations that keep us guessing . the climactic scenes around the cliff <b style='color:blue'>fireplaces</b> may not be plausible as a <b style='color:blue'>concealment</b> place , but the <b style='color:blue'>standpoint</b> of northern new mexico is <b style='color:blue'>fanciful</b> . then too , the ancient stone apartments amount to one of the more exotic backdrops of the decade . note also the extensive use of the police helicopter just coming into use as a law enforcement tool . among an otherwise subdued cast , nancy gates remains a sparkling presence as teacher ellen haskell . never hollywood glamorous , she was still a fine <b style='color:blue'>undisclosed</b> actress and winning personality . i also expect this was one of director hoppers more successful movie efforts , and though <b style='color:blue'>peuple</b> have since gotten used to the nuclear threat , the <b style='color:blue'>filmmaking</b> remains a <b style='color:blue'>reveal</b> and riveting document of its time ."
      ],
      "text/plain": [
       "<IPython.core.display.HTML object>"
      ]
     },
     "metadata": {},
     "output_type": "display_data"
    },
    {
     "name": "stdout",
     "output_type": "stream",
     "text": [
      "--------------------------------------------------\n",
      "#451   index = 10215\n",
      "ATTACK SUCCEEDED\n",
      "Original prediction: 0.960006\n"
     ]
    },
    {
     "data": {
      "text/html": [
       "extremely pinching vision of a war situation where the couple from vargtimmen ( ok , they have different names and initial situations , but the actors are the same ) gets caught in the crossfire of two fronts . the depiction of the fighting parties as faceless , superordinate authorities are often captured in <b style='color:red'>sublime</b> surreal pictures and draws interesting parallels to orwells 1984 , even if bergman thwarts this context on a personal level of a slowly burgeoning conjugal war . that is why countless fundamental and philosophical questions towards evas and jans marriage are relevant and <b style='color:red'>essential</b> , while the threat and danger from the outside tears open an abyss in the inside which was toilsomely covered with lambencies before . an <b style='color:red'>intense</b> allegory on the <b style='color:red'>fragile</b> facades of civic conventions ."
      ],
      "text/plain": [
       "<IPython.core.display.HTML object>"
      ]
     },
     "metadata": {},
     "output_type": "display_data"
    },
    {
     "name": "stdout",
     "output_type": "stream",
     "text": [
      "\n",
      "New prediction: 0.491263\n"
     ]
    },
    {
     "data": {
      "text/html": [
       "extremely pinching vision of a war situation where the couple from vargtimmen ( ok , they have different names and initial situations , but the actors are the same ) gets caught in the crossfire of two fronts . the depiction of the fighting parties as faceless , superordinate authorities are often captured in <b style='color:blue'>fanciful</b> surreal pictures and draws interesting parallels to orwells 1984 , even if bergman thwarts this context on a personal level of a slowly burgeoning conjugal war . that is why countless fundamental and philosophical questions towards evas and jans marriage are relevant and <b style='color:blue'>imperative</b> , while the threat and danger from the outside tears open an abyss in the inside which was toilsomely covered with lambencies before . an <b style='color:blue'>vehement</b> allegory on the <b style='color:blue'>flimsy</b> facades of civic conventions ."
      ],
      "text/plain": [
       "<IPython.core.display.HTML object>"
      ]
     },
     "metadata": {},
     "output_type": "display_data"
    },
    {
     "name": "stdout",
     "output_type": "stream",
     "text": [
      "--------------------------------------------------\n",
      "#452   index = 13813\n",
      "ATTACK FAILED\n",
      "--------------------------------------------------\n",
      "#453   index = 9918\n",
      "ATTACK SUCCEEDED\n",
      "Original prediction: 0.915508\n"
     ]
    },
    {
     "data": {
      "text/html": [
       ". particularly of note , guillermo diaz as hector steals a bunch of scenes and the chemistry between natasha lyonne and david krumholtz is intense . the film reminds one of harold and maude , but not really , it takes one bizarre spin after another , and they do all make sense in this crazy mixed up world we all live in . i stayed ( as did most ) for the q & a afterward and what was great was hearing that the same things i thought in my head as to why things happened are the reasons they did . i dont think you can say much bad about the film , unless you didnt get it . i think i got it and it seemed like most everyone else did as well . the film is dubbed a suicidal comedy , but its got a <b style='color:red'>lot</b> of <b style='color:red'>heart</b> , a <b style='color:red'>lot</b> of laughs and offers a lot of hope , yet it doesnt shy away from the horrors of suicide as well . a nice little movie that should get attention when it gets a release , which will hopefully happen sooner rather than later ."
      ],
      "text/plain": [
       "<IPython.core.display.HTML object>"
      ]
     },
     "metadata": {},
     "output_type": "display_data"
    },
    {
     "name": "stdout",
     "output_type": "stream",
     "text": [
      "\n",
      "New prediction: 0.486626\n"
     ]
    },
    {
     "data": {
      "text/html": [
       ". particularly of note , guillermo diaz as hector steals a bunch of scenes and the chemistry between natasha lyonne and david krumholtz is intense . the film reminds one of harold and maude , but not really , it takes one bizarre spin after another , and they do all make sense in this crazy mixed up world we all live in . i stayed ( as did most ) for the q & a afterward and what was great was hearing that the same things i thought in my head as to why things happened are the reasons they did . i dont think you can say much bad about the film , unless you didnt get it . i think i got it and it seemed like most everyone else did as well . the film is dubbed a suicidal comedy , but its got a <b style='color:blue'>batch</b> of <b style='color:blue'>nub</b> , a <b style='color:blue'>batch</b> of laughs and offers a lot of hope , yet it doesnt shy away from the horrors of suicide as well . a nice little movie that should get attention when it gets a release , which will hopefully happen sooner rather than later ."
      ],
      "text/plain": [
       "<IPython.core.display.HTML object>"
      ]
     },
     "metadata": {},
     "output_type": "display_data"
    },
    {
     "name": "stdout",
     "output_type": "stream",
     "text": [
      "--------------------------------------------------\n",
      "#454   index = 22009\n",
      "ATTACK FAILED\n",
      "--------------------------------------------------\n",
      "#455   index = 11249\n",
      "ATTACK FAILED\n",
      "--------------------------------------------------\n",
      "#456   index = 8023\n",
      "ATTACK SUCCEEDED\n",
      "Original prediction: 0.979130\n"
     ]
    },
    {
     "data": {
      "text/html": [
       "the english dialog is a bit awkward at times though the acting compensates for that . konkona and shabana prove that their reputation is every bit worth it . waheeda , rahul and shefali play their limited roles very well . extensive research seems to have been done about this illness , its very evident . but its not clear if mdp can coexist with schizophrenia in the same patient , side - by - side . also in the early part , dr kunal recommends e . c . t ( shock therapy ) while invalidating the fact that it doesnt work for schizophrenics , only for extreme mdp with suicidal tendencies and other forms of bipolar disorder . the ending of the <b style='color:red'>remarkable</b> story is suggestive of an unknown solution ( maybe no solution ) . the movie could have ended on a nicer note , since worldwide the mentally ill can and do lead balanced and fruitful if not very fulfilling , lives under good medical care . nonetheless , its an <b style='color:red'>excellent</b> film made with <b style='color:red'>extreme</b> sensitivity to the subject . hats off to ms sen ! no one in india couldve done it better ."
      ],
      "text/plain": [
       "<IPython.core.display.HTML object>"
      ]
     },
     "metadata": {},
     "output_type": "display_data"
    },
    {
     "name": "stdout",
     "output_type": "stream",
     "text": [
      "\n",
      "New prediction: 0.278798\n"
     ]
    },
    {
     "data": {
      "text/html": [
       "the english dialog is a bit awkward at times though the acting compensates for that . konkona and shabana prove that their reputation is every bit worth it . waheeda , rahul and shefali play their limited roles very well . extensive research seems to have been done about this illness , its very evident . but its not clear if mdp can coexist with schizophrenia in the same patient , side - by - side . also in the early part , dr kunal recommends e . c . t ( shock therapy ) while invalidating the fact that it doesnt work for schizophrenics , only for extreme mdp with suicidal tendencies and other forms of bipolar disorder . the ending of the <b style='color:blue'>staggering</b> story is suggestive of an unknown solution ( maybe no solution ) . the movie could have ended on a nicer note , since worldwide the mentally ill can and do lead balanced and fruitful if not very fulfilling , lives under good medical care . nonetheless , its an <b style='color:blue'>grandiose</b> film made with <b style='color:blue'>abject</b> sensitivity to the subject . hats off to ms sen ! no one in india couldve done it better ."
      ],
      "text/plain": [
       "<IPython.core.display.HTML object>"
      ]
     },
     "metadata": {},
     "output_type": "display_data"
    },
    {
     "name": "stdout",
     "output_type": "stream",
     "text": [
      "--------------------------------------------------\n",
      "#457   index = 2310\n",
      "ATTACK SUCCEEDED\n",
      "Original prediction: 0.997928\n"
     ]
    },
    {
     "data": {
      "text/html": [
       "killer , who uses a crossbow , killed victor fox . with a broken heart , she decides to fly to england to victor foxs funeral . there , she realizes that he was gay , and becomes friend of his former mate dirk simpson ( rupert everett ) . they fly back to chicago , trying to find the killer . this movie is a <b style='color:red'>delightful</b> , original and weird <b style='color:red'>dramatic</b> comedy , having bizarre characters . it has a huge potential to be a cult - movie , with the presences of julie andrews and barry manilow themselves and a joke with nicolas roegs masterpiece dont look now , when maudey wears a red raincoat in chicagos underground part of the city . the beginning of the movie , with jonathan price singing hitchcock railway , is wonderful . i have repeated it four consecutive times . the cast has a <b style='color:red'>magnificent</b> performance , highlighting kathy bates , jonathan price , rupert everett and the unknown meredith eaton . indeed , this movie is an <b style='color:red'>excellent</b> entertainment . my vote is eight . title ( brazil ) : amor a toda prova ( love to the proof )"
      ],
      "text/plain": [
       "<IPython.core.display.HTML object>"
      ]
     },
     "metadata": {},
     "output_type": "display_data"
    },
    {
     "name": "stdout",
     "output_type": "stream",
     "text": [
      "\n",
      "New prediction: 0.480680\n"
     ]
    },
    {
     "data": {
      "text/html": [
       "killer , who uses a crossbow , killed victor fox . with a broken heart , she decides to fly to england to victor foxs funeral . there , she realizes that he was gay , and becomes friend of his former mate dirk simpson ( rupert everett ) . they fly back to chicago , trying to find the killer . this movie is a <b style='color:blue'>grandiose</b> , original and weird <b style='color:blue'>staggering</b> comedy , having bizarre characters . it has a huge potential to be a cult - movie , with the presences of julie andrews and barry manilow themselves and a joke with nicolas roegs masterpiece dont look now , when maudey wears a red raincoat in chicagos underground part of the city . the beginning of the movie , with jonathan price singing hitchcock railway , is wonderful . i have repeated it four consecutive times . the cast has a <b style='color:blue'>grandiose</b> performance , highlighting kathy bates , jonathan price , rupert everett and the unknown meredith eaton . indeed , this movie is an <b style='color:blue'>grandiose</b> entertainment . my vote is eight . title ( brazil ) : amor a toda prova ( love to the proof )"
      ],
      "text/plain": [
       "<IPython.core.display.HTML object>"
      ]
     },
     "metadata": {},
     "output_type": "display_data"
    },
    {
     "name": "stdout",
     "output_type": "stream",
     "text": [
      "--------------------------------------------------\n",
      "#458   index = 7585\n",
      "ATTACK FAILED\n",
      "--------------------------------------------------\n",
      "#459   index = 15138\n",
      "ATTACK FAILED\n",
      "--------------------------------------------------\n",
      "#460   index = 6133\n",
      "ATTACK FAILED\n",
      "--------------------------------------------------\n",
      "#461   index = 7605\n",
      "ATTACK SUCCEEDED\n",
      "Original prediction: 0.950069\n"
     ]
    },
    {
     "data": {
      "text/html": [
       "difficulties from the beginning and seemingly no money . this is the first dumb thing - were there no atms anywhere ? she must make a fortune . at any rate , she meets a cab driver ( warner ) who looks like a homeless man , and he drives her to her presentation and when she emerges with a huge box of beef jerky ( the clients product ) , hes there to take her to the airport . all flights are canceled , so in order to get to l . a . for her wedding , she hires him to take her there . along the way , they bond and learn from each other . its a very <b style='color:red'>sweet</b> movie though there is absolutely nothing new in it - it combines six days and seven nights and a few other films . but the chemistry between the stars is <b style='color:red'>good</b> , theyre likable , and the acting is <b style='color:red'>good</b> . look for jerry springer as the head of the beef jerky company and a cameo by karl malden . this is a nice film to take in over the holiday season . its on lifetime ."
      ],
      "text/plain": [
       "<IPython.core.display.HTML object>"
      ]
     },
     "metadata": {},
     "output_type": "display_data"
    },
    {
     "name": "stdout",
     "output_type": "stream",
     "text": [
      "\n",
      "New prediction: 0.329645\n"
     ]
    },
    {
     "data": {
      "text/html": [
       "difficulties from the beginning and seemingly no money . this is the first dumb thing - were there no atms anywhere ? she must make a fortune . at any rate , she meets a cab driver ( warner ) who looks like a homeless man , and he drives her to her presentation and when she emerges with a huge box of beef jerky ( the clients product ) , hes there to take her to the airport . all flights are canceled , so in order to get to l . a . for her wedding , she hires him to take her there . along the way , they bond and learn from each other . its a very <b style='color:blue'>sugary</b> movie though there is absolutely nothing new in it - it combines six days and seven nights and a few other films . but the chemistry between the stars is <b style='color:blue'>allright</b> , theyre likable , and the acting is <b style='color:blue'>allright</b> . look for jerry springer as the head of the beef jerky company and a cameo by karl malden . this is a nice film to take in over the holiday season . its on lifetime ."
      ],
      "text/plain": [
       "<IPython.core.display.HTML object>"
      ]
     },
     "metadata": {},
     "output_type": "display_data"
    },
    {
     "name": "stdout",
     "output_type": "stream",
     "text": [
      "--------------------------------------------------\n",
      "#462   index = 640\n",
      "ATTACK SUCCEEDED\n",
      "Original prediction: 0.994988\n"
     ]
    },
    {
     "data": {
      "text/html": [
       "one of the most <b style='color:red'>underrated</b> comedies . dan akroyd is <b style='color:red'>hilarious</b> in this over the top role ; charles grodin gives a performance nearly as <b style='color:red'>good</b> as in midnight run ; and walter matthau <b style='color:red'>gives</b> a <b style='color:red'>superb</b> comedic performance in this sometimes subdued , sometimes wacky film . akroyd and matthau have <b style='color:red'>great</b> chemistry together . . . ."
      ],
      "text/plain": [
       "<IPython.core.display.HTML object>"
      ]
     },
     "metadata": {},
     "output_type": "display_data"
    },
    {
     "name": "stdout",
     "output_type": "stream",
     "text": [
      "\n",
      "New prediction: 0.454506\n"
     ]
    },
    {
     "data": {
      "text/html": [
       "one of the most <b style='color:blue'>undervalued</b> comedies . dan akroyd is <b style='color:blue'>comical</b> in this over the top role ; charles grodin gives a performance nearly as <b style='color:blue'>allright</b> as in midnight run ; and walter matthau <b style='color:blue'>furnishes</b> a <b style='color:blue'>funky</b> comedic performance in this sometimes subdued , sometimes wacky film . akroyd and matthau have <b style='color:blue'>fanciful</b> chemistry together . . . ."
      ],
      "text/plain": [
       "<IPython.core.display.HTML object>"
      ]
     },
     "metadata": {},
     "output_type": "display_data"
    },
    {
     "name": "stdout",
     "output_type": "stream",
     "text": [
      "--------------------------------------------------\n",
      "#463   index = 22768\n",
      "ATTACK SUCCEEDED\n",
      "Original prediction: 0.004309\n"
     ]
    },
    {
     "data": {
      "text/html": [
       "away from her because she chose such a <b style='color:red'>horrible</b> script . raveena tandon looks <b style='color:red'>beautiful</b> , but puts little performance . mohnish behl gets the award for worst ( supporting ) actor ( they need razzies because there have been terrible movies in india ) . he says <b style='color:red'>stupid</b> dialogues , dances <b style='color:red'>terribly</b> , looks weird , and is not in his regular form . just to tell you , there is more to the cast who are also <b style='color:red'>terrible</b> . if it werent for raveenas awesome beauty in aa meri life bana de , i wouldnt give the movie a point . otherwise the dancing by salman was <b style='color:red'>terrible</b> . pooja batra was dancing like a wind in savariya , otherwise i wish the costumes were given a make - over and the rest of the cast ( and their monkey dancing ) had been blown away from the wind . the <b style='color:red'>good</b> song of the album was o priya o priya which doesnt have a good enough picturization . same goes for the half way <b style='color:red'>decent</b> title song . otherwise this movie ( and the rest of the songs ) are a no - no for everyone ."
      ],
      "text/plain": [
       "<IPython.core.display.HTML object>"
      ]
     },
     "metadata": {},
     "output_type": "display_data"
    },
    {
     "name": "stdout",
     "output_type": "stream",
     "text": [
      "\n",
      "New prediction: 0.577179\n"
     ]
    },
    {
     "data": {
      "text/html": [
       "away from her because she chose such a <b style='color:blue'>harrowing</b> script . raveena tandon looks <b style='color:blue'>excellent</b> , but puts little performance . mohnish behl gets the award for worst ( supporting ) actor ( they need razzies because there have been terrible movies in india ) . he says <b style='color:blue'>senseless</b> dialogues , dances <b style='color:blue'>enormously</b> , looks weird , and is not in his regular form . just to tell you , there is more to the cast who are also <b style='color:blue'>harrowing</b> . if it werent for raveenas awesome beauty in aa meri life bana de , i wouldnt give the movie a point . otherwise the dancing by salman was <b style='color:blue'>horrific</b> . pooja batra was dancing like a wind in savariya , otherwise i wish the costumes were given a make - over and the rest of the cast ( and their monkey dancing ) had been blown away from the wind . the <b style='color:blue'>exemplary</b> song of the album was o priya o priya which doesnt have a good enough picturization . same goes for the half way <b style='color:blue'>dignified</b> title song . otherwise this movie ( and the rest of the songs ) are a no - no for everyone ."
      ],
      "text/plain": [
       "<IPython.core.display.HTML object>"
      ]
     },
     "metadata": {},
     "output_type": "display_data"
    },
    {
     "name": "stdout",
     "output_type": "stream",
     "text": [
      "--------------------------------------------------\n",
      "#464   index = 12547\n",
      "ATTACK FAILED\n",
      "--------------------------------------------------\n",
      "#465   index = 3727\n",
      "ATTACK FAILED\n",
      "--------------------------------------------------\n",
      "#466   index = 19816\n",
      "ATTACK FAILED\n",
      "--------------------------------------------------\n",
      "#467   index = 12059\n",
      "ATTACK FAILED\n",
      "--------------------------------------------------\n",
      "#468   index = 23547\n",
      "ATTACK FAILED\n",
      "--------------------------------------------------\n",
      "#469   index = 9294\n",
      "ATTACK SUCCEEDED\n",
      "Original prediction: 0.992089\n"
     ]
    },
    {
     "data": {
      "text/html": [
       "means she will get an <b style='color:red'>oscar</b> , if someone can only write another rose tattoo for her . the girl has so much passion inside her , she could set the seine on fire . wouldnt it be wonderful if she and julie delpy teamed up ? this film made <b style='color:red'>wonderful</b> use of paris locations . but where is this square in the luxembourg ? it looked like place furstenburg to me . maybe i missed something . i must watch the film another six times , just to study the precision of the timing and who brushes past whom , and make sure ive got it right . the whole thing is like ten <b style='color:red'>gigantic</b> simultaneous chess games played blindfolded by a grandmaster . how <b style='color:red'>thrilling</b> it all is ! romane , you can look through my window anytime ! mimouni , come on over , lets discuss impossibilities , unlikelihoods , coincidence , <b style='color:red'>synchronicity</b> , everything that is going on that is invisible and how it effects the <b style='color:red'>visible</b> . and once again , we have here the spirit of bretons novel nadja embodied in a <b style='color:red'>great</b> french work of art . more ! more ! more !"
      ],
      "text/plain": [
       "<IPython.core.display.HTML object>"
      ]
     },
     "metadata": {},
     "output_type": "display_data"
    },
    {
     "name": "stdout",
     "output_type": "stream",
     "text": [
      "\n",
      "New prediction: 0.459941\n"
     ]
    },
    {
     "data": {
      "text/html": [
       "means she will get an <b style='color:blue'>oskar</b> , if someone can only write another rose tattoo for her . the girl has so much passion inside her , she could set the seine on fire . wouldnt it be wonderful if she and julie delpy teamed up ? this film made <b style='color:blue'>grandiose</b> use of paris locations . but where is this square in the luxembourg ? it looked like place furstenburg to me . maybe i missed something . i must watch the film another six times , just to study the precision of the timing and who brushes past whom , and make sure ive got it right . the whole thing is like ten <b style='color:blue'>colossal</b> simultaneous chess games played blindfolded by a grandmaster . how <b style='color:blue'>intriguing</b> it all is ! romane , you can look through my window anytime ! mimouni , come on over , lets discuss impossibilities , unlikelihoods , coincidence , <b style='color:blue'>synchronisation</b> , everything that is going on that is invisible and how it effects the <b style='color:blue'>obvious</b> . and once again , we have here the spirit of bretons novel nadja embodied in a <b style='color:blue'>grandiose</b> french work of art . more ! more ! more !"
      ],
      "text/plain": [
       "<IPython.core.display.HTML object>"
      ]
     },
     "metadata": {},
     "output_type": "display_data"
    },
    {
     "name": "stdout",
     "output_type": "stream",
     "text": [
      "--------------------------------------------------\n",
      "#470   index = 1599\n",
      "ATTACK FAILED\n",
      "--------------------------------------------------\n",
      "#471   index = 6593\n",
      "ATTACK SUCCEEDED\n",
      "Original prediction: 0.975196\n"
     ]
    },
    {
     "data": {
      "text/html": [
       "studio and ease the famously bickering brothers out of the picture altogether . mr . bug provided them the pretext to do just that . - - the sad <b style='color:red'>closing</b> of a <b style='color:red'>great</b> quirky , innovative chapter in american animation . i <b style='color:red'>wanted</b> to comment , also , that the film actually debuted <b style='color:red'>december</b> 4 , 1941 , not december 7 . that may have been close enough to do the trick , anyway , in terms of national mood damaging the films success . but another part of the legend of this <b style='color:red'>troubled</b> little film is that it was <b style='color:red'>killed</b> by having the <b style='color:red'>bad</b> luck to be in the theaters at the same time dumbo ( released october 23 , 1941 ) was still doing very brisk holiday business . i havent done the research into box office numbers , but id say that dumbos concurrent presence in theaters likely had an impact on mr . bug . movie - <b style='color:red'>going</b> was at an all time high at this period , and successful films could go strong in theaters for months . - - something <b style='color:red'>unimaginable</b> in these typically short - run , quick to - dvd days ."
      ],
      "text/plain": [
       "<IPython.core.display.HTML object>"
      ]
     },
     "metadata": {},
     "output_type": "display_data"
    },
    {
     "name": "stdout",
     "output_type": "stream",
     "text": [
      "\n",
      "New prediction: 0.465880\n"
     ]
    },
    {
     "data": {
      "text/html": [
       "studio and ease the famously bickering brothers out of the picture altogether . mr . bug provided them the pretext to do just that . - - the sad <b style='color:blue'>shut</b> of a <b style='color:blue'>fanciful</b> quirky , innovative chapter in american animation . i <b style='color:blue'>wanna</b> to comment , also , that the film actually debuted <b style='color:blue'>janvier</b> 4 , 1941 , not december 7 . that may have been close enough to do the trick , anyway , in terms of national mood damaging the films success . but another part of the legend of this <b style='color:blue'>perturbed</b> little film is that it was <b style='color:blue'>assassinate</b> by having the <b style='color:blue'>lousy</b> luck to be in the theaters at the same time dumbo ( released october 23 , 1941 ) was still doing very brisk holiday business . i havent done the research into box office numbers , but id say that dumbos concurrent presence in theaters likely had an impact on mr . bug . movie - <b style='color:blue'>disappearing</b> was at an all time high at this period , and successful films could go strong in theaters for months . - - something <b style='color:blue'>inconceivable</b> in these typically short - run , quick to - dvd days ."
      ],
      "text/plain": [
       "<IPython.core.display.HTML object>"
      ]
     },
     "metadata": {},
     "output_type": "display_data"
    },
    {
     "name": "stdout",
     "output_type": "stream",
     "text": [
      "--------------------------------------------------\n",
      "#472   index = 23098\n",
      "ATTACK SUCCEEDED\n",
      "Original prediction: 0.003815\n"
     ]
    },
    {
     "data": {
      "text/html": [
       "i watched this movie by accident on tv and it was so unbelievably <b style='color:red'>awful</b> i could not switch it off . every single piece of wit and intelligence has been removed from the oscar wilde story by the inept screenplay writer . it barely matters because the dire acting , clichéd camera - work and cloying music would have ruined anything resembling like a decent script anyway . the <b style='color:red'>worst</b> performance comes from patrick stewart who comes across as the most hammy , talentless , minor mock - shakespearean nincompoop as the ghost . get thee out of here ! he screams at one stage while waving his arms like a pantomime villain . a truly <b style='color:red'>terrible</b> film and why wonders why stewart , who can act when called upon to do so , has <b style='color:red'>soiled</b> his reputation by making worthless pieces of <b style='color:red'>crap</b> like this and the xmen ."
      ],
      "text/plain": [
       "<IPython.core.display.HTML object>"
      ]
     },
     "metadata": {},
     "output_type": "display_data"
    },
    {
     "name": "stdout",
     "output_type": "stream",
     "text": [
      "\n",
      "New prediction: 0.611558\n"
     ]
    },
    {
     "data": {
      "text/html": [
       "i watched this movie by accident on tv and it was so unbelievably <b style='color:blue'>harrowing</b> i could not switch it off . every single piece of wit and intelligence has been removed from the oscar wilde story by the inept screenplay writer . it barely matters because the dire acting , clichéd camera - work and cloying music would have ruined anything resembling like a decent script anyway . the <b style='color:blue'>lousiest</b> performance comes from patrick stewart who comes across as the most hammy , talentless , minor mock - shakespearean nincompoop as the ghost . get thee out of here ! he screams at one stage while waving his arms like a pantomime villain . a truly <b style='color:blue'>harrowing</b> film and why wonders why stewart , who can act when called upon to do so , has <b style='color:blue'>sordid</b> his reputation by making worthless pieces of <b style='color:blue'>absurdity</b> like this and the xmen ."
      ],
      "text/plain": [
       "<IPython.core.display.HTML object>"
      ]
     },
     "metadata": {},
     "output_type": "display_data"
    },
    {
     "name": "stdout",
     "output_type": "stream",
     "text": [
      "--------------------------------------------------\n",
      "#473   index = 22655\n",
      "ATTACK SUCCEEDED\n",
      "Original prediction: 0.027994\n"
     ]
    },
    {
     "data": {
      "text/html": [
       "a weird , pseudo - french accent for no reason . - the entire <b style='color:red'>boring</b> subplot involving nancy travis , most especially her saving the day by turning the tables on bridges . - the crazy woman who somehow manages to remember jeff bridges license plate number despite also thinking that the lucky charms leprechaun is real . - sandra bullocks characters name , diane shaver , conveniently re - scrambles to form the word vanished . are you friggin kidding me ? ? - the logistical impossibility of drugging , abducting , and burying ( in a very remote location ) a human being within the span of forty minutes ( as bridges specifically alludes to ) . this is a movie that made me remember the fictional , <b style='color:red'>impossibly</b> <b style='color:red'>stupid</b> ( yet <b style='color:red'>very</b> successful ) donald kaufman character in <b style='color:red'>adaptation</b> . <b style='color:red'>many</b> screenwriters are brilliant , inspired artists . some are just bozos who convince the nitwits running the studios to make their <b style='color:red'>drivel</b> . this <b style='color:red'>particular</b> script is so <b style='color:red'>stunningly</b> dimwitted that donald kaufman himself would have managed to sell it . unfortunately for all of us in the real world , todd graff actually did ."
      ],
      "text/plain": [
       "<IPython.core.display.HTML object>"
      ]
     },
     "metadata": {},
     "output_type": "display_data"
    },
    {
     "name": "stdout",
     "output_type": "stream",
     "text": [
      "\n",
      "New prediction: 0.510120\n"
     ]
    },
    {
     "data": {
      "text/html": [
       "a weird , pseudo - french accent for no reason . - the entire <b style='color:blue'>bored</b> subplot involving nancy travis , most especially her saving the day by turning the tables on bridges . - the crazy woman who somehow manages to remember jeff bridges license plate number despite also thinking that the lucky charms leprechaun is real . - sandra bullocks characters name , diane shaver , conveniently re - scrambles to form the word vanished . are you friggin kidding me ? ? - the logistical impossibility of drugging , abducting , and burying ( in a very remote location ) a human being within the span of forty minutes ( as bridges specifically alludes to ) . this is a movie that made me remember the fictional , <b style='color:blue'>supremely</b> <b style='color:blue'>farcical</b> ( yet <b style='color:blue'>extremely</b> successful ) donald kaufman character in <b style='color:blue'>adaptability</b> . <b style='color:blue'>multiple</b> screenwriters are brilliant , inspired artists . some are just bozos who convince the nitwits running the studios to make their <b style='color:blue'>twaddle</b> . this <b style='color:blue'>unique</b> script is so <b style='color:blue'>supremely</b> dimwitted that donald kaufman himself would have managed to sell it . unfortunately for all of us in the real world , todd graff actually did ."
      ],
      "text/plain": [
       "<IPython.core.display.HTML object>"
      ]
     },
     "metadata": {},
     "output_type": "display_data"
    },
    {
     "name": "stdout",
     "output_type": "stream",
     "text": [
      "--------------------------------------------------\n",
      "#474   index = 19746\n",
      "ATTACK SUCCEEDED\n",
      "Original prediction: 0.028103\n"
     ]
    },
    {
     "data": {
      "text/html": [
       "gotten wrapped up in creating an account on imdb and posting this review . i dig mainstream films , i dig <b style='color:red'>silly</b> stupid films , i dig retro indie films , and nearly any other type / genre if carried out well . my brother convinced me to rent this because he said he heard it was <b style='color:red'>good</b> and he generally has <b style='color:red'>great</b> taste in movies ; from the moment he told me the title i looked at him like he was crazy . im having a <b style='color:red'>tough</b> time ending this rant because there is just so much badness to talk about . the only way i can rationalize the good ratings on here is that you guys were paid to give this movie high ratings . it is so poorly <b style='color:red'>done</b> and no where close to <b style='color:red'>dramatic</b> , artsy , <b style='color:red'>complex</b> , well written , well preformed , or even bearable . if this was the final product of my hard directorial work , i would be to embarrassed to release it to the public , so i dont even feel sorry for the director if he reads this - - what the hell were you thinking guy ?"
      ],
      "text/plain": [
       "<IPython.core.display.HTML object>"
      ]
     },
     "metadata": {},
     "output_type": "display_data"
    },
    {
     "name": "stdout",
     "output_type": "stream",
     "text": [
      "\n",
      "New prediction: 0.521306\n"
     ]
    },
    {
     "data": {
      "text/html": [
       "gotten wrapped up in creating an account on imdb and posting this review . i dig mainstream films , i dig <b style='color:blue'>dolt</b> stupid films , i dig retro indie films , and nearly any other type / genre if carried out well . my brother convinced me to rent this because he said he heard it was <b style='color:blue'>exemplary</b> and he generally has <b style='color:blue'>superb</b> taste in movies ; from the moment he told me the title i looked at him like he was crazy . im having a <b style='color:blue'>harsh</b> time ending this rant because there is just so much badness to talk about . the only way i can rationalize the good ratings on here is that you guys were paid to give this movie high ratings . it is so poorly <b style='color:blue'>accomplished</b> and no where close to <b style='color:blue'>phenomenal</b> , artsy , <b style='color:blue'>complicated</b> , well written , well preformed , or even bearable . if this was the final product of my hard directorial work , i would be to embarrassed to release it to the public , so i dont even feel sorry for the director if he reads this - - what the hell were you thinking guy ?"
      ],
      "text/plain": [
       "<IPython.core.display.HTML object>"
      ]
     },
     "metadata": {},
     "output_type": "display_data"
    },
    {
     "name": "stdout",
     "output_type": "stream",
     "text": [
      "--------------------------------------------------\n",
      "#475   index = 24702\n",
      "ATTACK SUCCEEDED\n",
      "Original prediction: 0.005035\n"
     ]
    },
    {
     "data": {
      "text/html": [
       "put under a mayan curse that causes snakes to hatch inside her and devour her from within . her only hope of surviving lies in a shaman that lives across the border , so she and her companion stowaway onto a train bound for los angelas . throw in a few passengers and hilarity ensues . come to think of it , though , the <b style='color:red'>story</b> isnt half <b style='color:red'>bad</b> . isnt half <b style='color:red'>good</b> , either . the acting in this film rivals that of a sci - fi original , if not worse . trust me , its <b style='color:red'>horrible</b> . the snakes were another problem . they were supposed to be rattlers , i guess , but most of what you get instead are mostly <b style='color:red'>harmless</b> garden snakes that dont attack anything and theres this rattling sound effect that gets really <b style='color:red'>annoying</b> . the gore effects on the other hand , while not on the tom savini level , were actually pretty <b style='color:red'>good</b> . and another thing , the ending alone makes up for the rest of the movie . im not going to talk about it here , so youll have to <b style='color:red'>rent</b> this and see for yourself ."
      ],
      "text/plain": [
       "<IPython.core.display.HTML object>"
      ]
     },
     "metadata": {},
     "output_type": "display_data"
    },
    {
     "name": "stdout",
     "output_type": "stream",
     "text": [
      "\n",
      "New prediction: 0.592241\n"
     ]
    },
    {
     "data": {
      "text/html": [
       "put under a mayan curse that causes snakes to hatch inside her and devour her from within . her only hope of surviving lies in a shaman that lives across the border , so she and her companion stowaway onto a train bound for los angelas . throw in a few passengers and hilarity ensues . come to think of it , though , the <b style='color:blue'>tale</b> isnt half <b style='color:blue'>wicked</b> . isnt half <b style='color:blue'>exemplary</b> , either . the acting in this film rivals that of a sci - fi original , if not worse . trust me , its <b style='color:blue'>harrowing</b> . the snakes were another problem . they were supposed to be rattlers , i guess , but most of what you get instead are mostly <b style='color:blue'>benign</b> garden snakes that dont attack anything and theres this rattling sound effect that gets really <b style='color:blue'>pesky</b> . the gore effects on the other hand , while not on the tom savini level , were actually pretty <b style='color:blue'>exemplary</b> . and another thing , the ending alone makes up for the rest of the movie . im not going to talk about it here , so youll have to <b style='color:blue'>rental</b> this and see for yourself ."
      ],
      "text/plain": [
       "<IPython.core.display.HTML object>"
      ]
     },
     "metadata": {},
     "output_type": "display_data"
    },
    {
     "name": "stdout",
     "output_type": "stream",
     "text": [
      "--------------------------------------------------\n",
      "#476   index = 16081\n",
      "ATTACK FAILED\n",
      "--------------------------------------------------\n",
      "#477   index = 3737\n",
      "ATTACK SUCCEEDED\n",
      "Original prediction: 0.991580\n"
     ]
    },
    {
     "data": {
      "text/html": [
       "i have to say this is my <b style='color:red'>favorite</b> movie of all time . i have seen it well over 100 times ( actually had to buy a new copy as a result of overwatching ) it is what the eighties was like and what a romantic story with a few morals thrown in . i <b style='color:red'>highly</b> recommend to anyone wanting to relive the high schools days again . buy a copy now it is a <b style='color:red'>classic</b> ! ! ! !"
      ],
      "text/plain": [
       "<IPython.core.display.HTML object>"
      ]
     },
     "metadata": {},
     "output_type": "display_data"
    },
    {
     "name": "stdout",
     "output_type": "stream",
     "text": [
      "\n",
      "New prediction: 0.310654\n"
     ]
    },
    {
     "data": {
      "text/html": [
       "i have to say this is my <b style='color:blue'>prefer</b> movie of all time . i have seen it well over 100 times ( actually had to buy a new copy as a result of overwatching ) it is what the eighties was like and what a romantic story with a few morals thrown in . i <b style='color:blue'>terribly</b> recommend to anyone wanting to relive the high schools days again . buy a copy now it is a <b style='color:blue'>symptomatic</b> ! ! ! !"
      ],
      "text/plain": [
       "<IPython.core.display.HTML object>"
      ]
     },
     "metadata": {},
     "output_type": "display_data"
    },
    {
     "name": "stdout",
     "output_type": "stream",
     "text": [
      "--------------------------------------------------\n",
      "#478   index = 7829\n",
      "ATTACK SUCCEEDED\n",
      "Original prediction: 0.942229\n"
     ]
    },
    {
     "data": {
      "text/html": [
       "show people all around the world ( and to many people in czech republic too . . . ) that czechoslovak role in wwii was not only as occupied country but as an active member of allied campaign . leading characters are older and wiser frantisek and young karel . they escaped together from czechoslovakia , they are flying in the same squadron and they fell in love with the same woman . . . maybe its a cliché but fortunately this storyline is not so aggressive and is in good balance with other scenes ( including great dogfights ) . i dont want to compare dark blue world with pearl harbor , someone will like ph more and someone will like dbw . but if you like happy ends , dbw is not for you . so , i think its very <b style='color:red'>good</b> movie for everyone who likes this type of stories and very <b style='color:red'>good</b> movie who wants to get to know something about this chapter of czechoslovak history . btw , main theme dark blue world is from czech 30s and 40s composer jaroslav jezek . he wrote this <b style='color:red'>theme</b> when he lost his eyes . . ."
      ],
      "text/plain": [
       "<IPython.core.display.HTML object>"
      ]
     },
     "metadata": {},
     "output_type": "display_data"
    },
    {
     "name": "stdout",
     "output_type": "stream",
     "text": [
      "\n",
      "New prediction: 0.343208\n"
     ]
    },
    {
     "data": {
      "text/html": [
       "show people all around the world ( and to many people in czech republic too . . . ) that czechoslovak role in wwii was not only as occupied country but as an active member of allied campaign . leading characters are older and wiser frantisek and young karel . they escaped together from czechoslovakia , they are flying in the same squadron and they fell in love with the same woman . . . maybe its a cliché but fortunately this storyline is not so aggressive and is in good balance with other scenes ( including great dogfights ) . i dont want to compare dark blue world with pearl harbor , someone will like ph more and someone will like dbw . but if you like happy ends , dbw is not for you . so , i think its very <b style='color:blue'>allright</b> movie for everyone who likes this type of stories and very <b style='color:blue'>allright</b> movie who wants to get to know something about this chapter of czechoslovak history . btw , main theme dark blue world is from czech 30s and 40s composer jaroslav jezek . he wrote this <b style='color:blue'>topic</b> when he lost his eyes . . ."
      ],
      "text/plain": [
       "<IPython.core.display.HTML object>"
      ]
     },
     "metadata": {},
     "output_type": "display_data"
    },
    {
     "name": "stdout",
     "output_type": "stream",
     "text": [
      "--------------------------------------------------\n",
      "#479   index = 9721\n",
      "ATTACK FAILED\n",
      "--------------------------------------------------\n",
      "#480   index = 24275\n",
      "ATTACK SUCCEEDED\n",
      "Original prediction: 0.007539\n"
     ]
    },
    {
     "data": {
      "text/html": [
       "this is a truly <b style='color:red'>awful</b> film . lou diamond phillips simply calls this one in . the use of miniature models of the train are <b style='color:red'>laughable</b> . the plot seems to develop on the run ( there is an alien on board ; oh , and an eco - terrorist is on board too ; oh , and the conductor is dead and the train is out of control ; oh , and the train is going to run into another train one hour ahead ; <b style='color:red'>oh</b> , and that train has nuclear waste on it . . . ) . i mean , come on really ! the alien monsters are not <b style='color:red'>scary</b> ( although there are a lot of them ) , and the acting is abysmal . check out the guy playing the next president - do you really think he could be president ? for goodness sake , he has spent his whole acting career playing <b style='color:red'>bad</b> guys !"
      ],
      "text/plain": [
       "<IPython.core.display.HTML object>"
      ]
     },
     "metadata": {},
     "output_type": "display_data"
    },
    {
     "name": "stdout",
     "output_type": "stream",
     "text": [
      "\n",
      "New prediction: 0.524077\n"
     ]
    },
    {
     "data": {
      "text/html": [
       "this is a truly <b style='color:blue'>harrowing</b> film . lou diamond phillips simply calls this one in . the use of miniature models of the train are <b style='color:blue'>stupid</b> . the plot seems to develop on the run ( there is an alien on board ; oh , and an eco - terrorist is on board too ; oh , and the conductor is dead and the train is out of control ; oh , and the train is going to run into another train one hour ahead ; <b style='color:blue'>ah</b> , and that train has nuclear waste on it . . . ) . i mean , come on really ! the alien monsters are not <b style='color:blue'>harrowing</b> ( although there are a lot of them ) , and the acting is abysmal . check out the guy playing the next president - do you really think he could be president ? for goodness sake , he has spent his whole acting career playing <b style='color:blue'>wicked</b> guys !"
      ],
      "text/plain": [
       "<IPython.core.display.HTML object>"
      ]
     },
     "metadata": {},
     "output_type": "display_data"
    },
    {
     "name": "stdout",
     "output_type": "stream",
     "text": [
      "--------------------------------------------------\n",
      "#481   index = 6367\n",
      "ATTACK SUCCEEDED\n",
      "Original prediction: 0.993393\n"
     ]
    },
    {
     "data": {
      "text/html": [
       "in such a fluid and violent way that would make bruce lee proud . the movie is a fast paced , thrill ride of action and superb stunts . the first action scene and last are outstanding and wesley looks like a terminator as he runs around wiping out all suck heads . the script is pretty <b style='color:red'>good</b> and there is sharp dialogue too . wesley should have done more action films than he has , i know he is a very <b style='color:red'>good</b> actor and in this he is not streched as much as in his more comic or drama roles but as far as action stars go he is the best actor of them all , only bruce willis , stallone and perhaps tom cruise ( if he counts as an action star ) come close . also aswell as wesley being quality , steven dorff is also very <b style='color:red'>good</b> as the bad guy . it was an <b style='color:red'>unexpected</b> surprise that someone of small stature compared to snipes should come across as menacing , but he does . overall the film is sharp , stylish and i hope the sequal is done with the same sort of <b style='color:red'>pace</b> ."
      ],
      "text/plain": [
       "<IPython.core.display.HTML object>"
      ]
     },
     "metadata": {},
     "output_type": "display_data"
    },
    {
     "name": "stdout",
     "output_type": "stream",
     "text": [
      "\n",
      "New prediction: 0.442591\n"
     ]
    },
    {
     "data": {
      "text/html": [
       "in such a fluid and violent way that would make bruce lee proud . the movie is a fast paced , thrill ride of action and superb stunts . the first action scene and last are outstanding and wesley looks like a terminator as he runs around wiping out all suck heads . the script is pretty <b style='color:blue'>allright</b> and there is sharp dialogue too . wesley should have done more action films than he has , i know he is a very <b style='color:blue'>allright</b> actor and in this he is not streched as much as in his more comic or drama roles but as far as action stars go he is the best actor of them all , only bruce willis , stallone and perhaps tom cruise ( if he counts as an action star ) come close . also aswell as wesley being quality , steven dorff is also very <b style='color:blue'>allright</b> as the bad guy . it was an <b style='color:blue'>unforeseeable</b> surprise that someone of small stature compared to snipes should come across as menacing , but he does . overall the film is sharp , stylish and i hope the sequal is done with the same sort of <b style='color:blue'>tempo</b> ."
      ],
      "text/plain": [
       "<IPython.core.display.HTML object>"
      ]
     },
     "metadata": {},
     "output_type": "display_data"
    },
    {
     "name": "stdout",
     "output_type": "stream",
     "text": [
      "--------------------------------------------------\n",
      "#482   index = 24370\n",
      "ATTACK FAILED\n",
      "--------------------------------------------------\n",
      "#483   index = 24568\n",
      "ATTACK FAILED\n",
      "--------------------------------------------------\n",
      "#484   index = 12806\n",
      "ATTACK SUCCEEDED\n",
      "Original prediction: 0.002716\n"
     ]
    },
    {
     "data": {
      "text/html": [
       "i bought the dvd of this movie because i am a fan of william devane and i was really disappointed about a christmas visitor . the story of the movie is so <b style='color:red'>boring</b> and slow in the development that you just want to turn off your tv or dvd player after about the half of it . the dialogues are really <b style='color:red'>bad</b> and belong to a daily soap opera but not in a tv movie . william devane was alright in his part and he was acting quite good , but he did so much better in other movies and projects . meredith baxter was <b style='color:red'>horrible</b> and couldnt really bring the warm hearted mother to the viewers . instead she was playing very cool and wasnt better than a middle - class actress . i <b style='color:red'>absolutely</b> cannot recommend this movie . spare your time and your money for this one ."
      ],
      "text/plain": [
       "<IPython.core.display.HTML object>"
      ]
     },
     "metadata": {},
     "output_type": "display_data"
    },
    {
     "name": "stdout",
     "output_type": "stream",
     "text": [
      "\n",
      "New prediction: 0.736019\n"
     ]
    },
    {
     "data": {
      "text/html": [
       "i bought the dvd of this movie because i am a fan of william devane and i was really disappointed about a christmas visitor . the story of the movie is so <b style='color:blue'>bore</b> and slow in the development that you just want to turn off your tv or dvd player after about the half of it . the dialogues are really <b style='color:blue'>wicked</b> and belong to a daily soap opera but not in a tv movie . william devane was alright in his part and he was acting quite good , but he did so much better in other movies and projects . meredith baxter was <b style='color:blue'>harrowing</b> and couldnt really bring the warm hearted mother to the viewers . instead she was playing very cool and wasnt better than a middle - class actress . i <b style='color:blue'>fully</b> cannot recommend this movie . spare your time and your money for this one ."
      ],
      "text/plain": [
       "<IPython.core.display.HTML object>"
      ]
     },
     "metadata": {},
     "output_type": "display_data"
    },
    {
     "name": "stdout",
     "output_type": "stream",
     "text": [
      "--------------------------------------------------\n",
      "#485   index = 1979\n",
      "ATTACK SUCCEEDED\n",
      "Original prediction: 0.991387\n"
     ]
    },
    {
     "data": {
      "text/html": [
       "the submarine used was not varangian ! it was in fact two boats , p614 and p615 , both built for turkey by vickers armstorng at barrow - in - furness but kept hold of by the royal navy for the duration of the war . p615 was sunk but p614 was eventually delivered in 1945 . the confusion no doubt arose because someone looked up p61 ( as i did ) and found varangian ! when in fact , the last digit of both p614 and p615 was in fact just painted out . . . . there are some <b style='color:red'>extremely</b> realistic moments in the film . these turkish boats were very <b style='color:red'>similar</b> to the s - class . as no s - class submarines survive , the shots of them ( as p61 ) and of the <b style='color:red'>depot</b> ship forth form part of an interesting <b style='color:red'>record</b> now , as well as an <b style='color:red'>excellent</b> film ."
      ],
      "text/plain": [
       "<IPython.core.display.HTML object>"
      ]
     },
     "metadata": {},
     "output_type": "display_data"
    },
    {
     "name": "stdout",
     "output_type": "stream",
     "text": [
      "\n",
      "New prediction: 0.435526\n"
     ]
    },
    {
     "data": {
      "text/html": [
       "the submarine used was not varangian ! it was in fact two boats , p614 and p615 , both built for turkey by vickers armstorng at barrow - in - furness but kept hold of by the royal navy for the duration of the war . p615 was sunk but p614 was eventually delivered in 1945 . the confusion no doubt arose because someone looked up p61 ( as i did ) and found varangian ! when in fact , the last digit of both p614 and p615 was in fact just painted out . . . . there are some <b style='color:blue'>terribly</b> realistic moments in the film . these turkish boats were very <b style='color:blue'>akin</b> to the s - class . as no s - class submarines survive , the shots of them ( as p61 ) and of the <b style='color:blue'>warehouse</b> ship forth form part of an interesting <b style='color:blue'>recording</b> now , as well as an <b style='color:blue'>grandiose</b> film ."
      ],
      "text/plain": [
       "<IPython.core.display.HTML object>"
      ]
     },
     "metadata": {},
     "output_type": "display_data"
    },
    {
     "name": "stdout",
     "output_type": "stream",
     "text": [
      "--------------------------------------------------\n",
      "#486   index = 6048\n",
      "ATTACK SUCCEEDED\n",
      "Original prediction: 0.957727\n"
     ]
    },
    {
     "data": {
      "text/html": [
       "i <b style='color:red'>highly</b> reccommend this movie . it blurs the line between childhood fantasy and <b style='color:red'>everyday</b> reality in such a seamless fashion that it has to be seen to be believed . the actors and director have such <b style='color:red'>perfect</b> timing that in one scene a name calling fight becomes a <b style='color:red'>sort</b> of dance . i loved the story line , the actors , everything . while i do think there were one or two decidedly cheesy scenes , over - all the movie was impeccably done ."
      ],
      "text/plain": [
       "<IPython.core.display.HTML object>"
      ]
     },
     "metadata": {},
     "output_type": "display_data"
    },
    {
     "name": "stdout",
     "output_type": "stream",
     "text": [
      "\n",
      "New prediction: 0.450285\n"
     ]
    },
    {
     "data": {
      "text/html": [
       "i <b style='color:blue'>excessively</b> reccommend this movie . it blurs the line between childhood fantasy and <b style='color:blue'>daily</b> reality in such a seamless fashion that it has to be seen to be believed . the actors and director have such <b style='color:blue'>faultless</b> timing that in one scene a name calling fight becomes a <b style='color:blue'>sorting</b> of dance . i loved the story line , the actors , everything . while i do think there were one or two decidedly cheesy scenes , over - all the movie was impeccably done ."
      ],
      "text/plain": [
       "<IPython.core.display.HTML object>"
      ]
     },
     "metadata": {},
     "output_type": "display_data"
    },
    {
     "name": "stdout",
     "output_type": "stream",
     "text": [
      "--------------------------------------------------\n",
      "#487   index = 19649\n",
      "ATTACK SUCCEEDED\n",
      "Original prediction: 0.082279\n"
     ]
    },
    {
     "data": {
      "text/html": [
       "begin to understand the depth of the situation and the <b style='color:red'>characters</b> . finally , kurtz also seemed to be interpreted incorrectly . his role was short and the details werent all included . it was <b style='color:red'>impossible</b> to comprehend the true kurtz in the length of time he was shown . an <b style='color:red'>important</b> detail in the book was that kurtz had become a <b style='color:red'>god</b> to the africans . i didnt think that <b style='color:red'>significant</b> detail was defined . also , in the book , kurtz represented a soulless being . he had died inside long ago . i believe the director comprehended this detail . however , instead of recreating it , he just had kurtz mope around and mumble everything . moreover , it seemed like the director attempted to make kurtz seem mysterious , however , instead , he seemed <b style='color:red'>entirely</b> <b style='color:red'>unidentified</b> . altogether , this movie reminded me of a teenager cramming to finish a science project , due the <b style='color:red'>next</b> day . it appeared to have been crafted effortlessly and in hardly any time . the <b style='color:red'>characters</b> were alienated , <b style='color:red'>crucial</b> details were <b style='color:red'>left</b> out , and , overall , the central plot was lost in translation ."
      ],
      "text/plain": [
       "<IPython.core.display.HTML object>"
      ]
     },
     "metadata": {},
     "output_type": "display_data"
    },
    {
     "name": "stdout",
     "output_type": "stream",
     "text": [
      "\n",
      "New prediction: 0.590740\n"
     ]
    },
    {
     "data": {
      "text/html": [
       "begin to understand the depth of the situation and the <b style='color:blue'>personages</b> . finally , kurtz also seemed to be interpreted incorrectly . his role was short and the details werent all included . it was <b style='color:blue'>unable</b> to comprehend the true kurtz in the length of time he was shown . an <b style='color:blue'>indispensable</b> detail in the book was that kurtz had become a <b style='color:blue'>senor</b> to the africans . i didnt think that <b style='color:blue'>momentous</b> detail was defined . also , in the book , kurtz represented a soulless being . he had died inside long ago . i believe the director comprehended this detail . however , instead of recreating it , he just had kurtz mope around and mumble everything . moreover , it seemed like the director attempted to make kurtz seem mysterious , however , instead , he seemed <b style='color:blue'>absolutely</b> <b style='color:blue'>unsung</b> . altogether , this movie reminded me of a teenager cramming to finish a science project , due the <b style='color:blue'>impending</b> day . it appeared to have been crafted effortlessly and in hardly any time . the <b style='color:blue'>traits</b> were alienated , <b style='color:blue'>indispensable</b> details were <b style='color:blue'>walkout</b> out , and , overall , the central plot was lost in translation ."
      ],
      "text/plain": [
       "<IPython.core.display.HTML object>"
      ]
     },
     "metadata": {},
     "output_type": "display_data"
    },
    {
     "name": "stdout",
     "output_type": "stream",
     "text": [
      "--------------------------------------------------\n",
      "#488   index = 3271\n",
      "ATTACK SUCCEEDED\n",
      "Original prediction: 0.966131\n"
     ]
    },
    {
     "data": {
      "text/html": [
       "- shoe - polish werewolf guises . the story is not unfamiliar , a bunch of kids going to party at an abandoned school . the thing is , that one of these kids fathers did the same thing years ago but hes now deceased , and the latest group of kids seem to be reliving an event from 23 years ago . this is fairly well done for films of this type , and theres an air of mystery to whats going on because apparently what happened to the kids before is somewhat of a mystery and perhaps the truth wasnt revealed . so no , not just your standard slice and dice . this moves along at a fairly <b style='color:red'>good</b> clip and doesnt let you lose interest like a lot of films do , and the oddball story is <b style='color:red'>compelling</b> enough to keep you interested too , and theres some suspense which is lacking in a <b style='color:red'>lot</b> of films these days . the <b style='color:red'>ending</b> is rather abrupt and i suppose is left mostly to your <b style='color:red'>imagination</b> , but then again it doesnt out - stay its welcome either . 7 out of 10 , <b style='color:red'>check</b> it out ."
      ],
      "text/plain": [
       "<IPython.core.display.HTML object>"
      ]
     },
     "metadata": {},
     "output_type": "display_data"
    },
    {
     "name": "stdout",
     "output_type": "stream",
     "text": [
      "\n",
      "New prediction: 0.496815\n"
     ]
    },
    {
     "data": {
      "text/html": [
       "- shoe - polish werewolf guises . the story is not unfamiliar , a bunch of kids going to party at an abandoned school . the thing is , that one of these kids fathers did the same thing years ago but hes now deceased , and the latest group of kids seem to be reliving an event from 23 years ago . this is fairly well done for films of this type , and theres an air of mystery to whats going on because apparently what happened to the kids before is somewhat of a mystery and perhaps the truth wasnt revealed . so no , not just your standard slice and dice . this moves along at a fairly <b style='color:blue'>allright</b> clip and doesnt let you lose interest like a lot of films do , and the oddball story is <b style='color:blue'>compel</b> enough to keep you interested too , and theres some suspense which is lacking in a <b style='color:blue'>batch</b> of films these days . the <b style='color:blue'>terminating</b> is rather abrupt and i suppose is left mostly to your <b style='color:blue'>conception</b> , but then again it doesnt out - stay its welcome either . 7 out of 10 , <b style='color:blue'>inspect</b> it out ."
      ],
      "text/plain": [
       "<IPython.core.display.HTML object>"
      ]
     },
     "metadata": {},
     "output_type": "display_data"
    },
    {
     "name": "stdout",
     "output_type": "stream",
     "text": [
      "--------------------------------------------------\n",
      "#489   index = 16980\n",
      "ATTACK FAILED\n",
      "--------------------------------------------------\n",
      "#490   index = 10887\n",
      "ATTACK SUCCEEDED\n",
      "Original prediction: 0.986766\n"
     ]
    },
    {
     "data": {
      "text/html": [
       "niks have written plenty about the stalinist propaganda elements of this film ( just in case the viewer doesnt notice them for him / herself ) . they have also written plenty about the battle on the ice scene , which is <b style='color:red'>superb</b> in my view . the love interest almost totally lacks subtlety and yet strangely . . . . . almost totally lacks <b style='color:red'>charm</b> also . but it is <b style='color:red'>good</b> to cringe every now and then . i was familiar with the prokofiev music to this film long before seeing the film . the images and the music complement each other <b style='color:red'>marvelously</b> . and it is the images that will stick in the mind for a long time . bergman <b style='color:red'>clearly</b> learned a lot from these images - the imagery of his medieval pieces ( e . <b style='color:red'>g</b> . the seventh seal , the virgin spring ) building upon and enhancing eisensteins ideas . this film was made in 1938 in the ussr . in that context it is a <b style='color:red'>masterpiece</b> , albeit a flawed one . for the modern viewer , i suggest that you go with the flow and <b style='color:red'>enjoy</b> the many treats on show ."
      ],
      "text/plain": [
       "<IPython.core.display.HTML object>"
      ]
     },
     "metadata": {},
     "output_type": "display_data"
    },
    {
     "name": "stdout",
     "output_type": "stream",
     "text": [
      "\n",
      "New prediction: 0.464520\n"
     ]
    },
    {
     "data": {
      "text/html": [
       "niks have written plenty about the stalinist propaganda elements of this film ( just in case the viewer doesnt notice them for him / herself ) . they have also written plenty about the battle on the ice scene , which is <b style='color:blue'>handsome</b> in my view . the love interest almost totally lacks subtlety and yet strangely . . . . . almost totally lacks <b style='color:blue'>glamour</b> also . but it is <b style='color:blue'>allright</b> to cringe every now and then . i was familiar with the prokofiev music to this film long before seeing the film . the images and the music complement each other <b style='color:blue'>marvellously</b> . and it is the images that will stick in the mind for a long time . bergman <b style='color:blue'>patently</b> learned a lot from these images - the imagery of his medieval pieces ( e . <b style='color:blue'>gram</b> . the seventh seal , the virgin spring ) building upon and enhancing eisensteins ideas . this film was made in 1938 in the ussr . in that context it is a <b style='color:blue'>masterwork</b> , albeit a flawed one . for the modern viewer , i suggest that you go with the flow and <b style='color:blue'>experience</b> the many treats on show ."
      ],
      "text/plain": [
       "<IPython.core.display.HTML object>"
      ]
     },
     "metadata": {},
     "output_type": "display_data"
    },
    {
     "name": "stdout",
     "output_type": "stream",
     "text": [
      "--------------------------------------------------\n",
      "#491   index = 22409\n",
      "ATTACK SUCCEEDED\n",
      "Original prediction: 0.001444\n"
     ]
    },
    {
     "data": {
      "text/html": [
       "yet again , was hardly in the finished product . the real problem with this is the script . theres just no getting around that . its <b style='color:red'>bad</b> . its <b style='color:red'>really</b> , <b style='color:red'>really</b> <b style='color:red'>bad</b> . its too melodramatic and not engaging . anne is portrayed as an air - head , mary as the ringleader , and george as the follower . marys first husband is hardly mentioned , her relationship with the king is never explained - they simply do not tell the story phillippa gregory wrote . the whole thing comes across as a <b style='color:red'>great</b> <b style='color:red'>big</b> waste . i have no desire to see this thing a second time . i guess ill just have to read the book again and hope that the natalie portman version due out next year will be much better . * note : as of this writing , the <b style='color:red'>only</b> way of <b style='color:red'>obtaining</b> this miniseries in the usa is on the last disc of the miniseries the six wives of henry viii . thats a <b style='color:red'>great</b> miniseries but can cost $ 50 to $ 60 and thats <b style='color:red'>way</b> to much to spend if youre just looking for this piece of <b style='color:red'>garbage</b> ."
      ],
      "text/plain": [
       "<IPython.core.display.HTML object>"
      ]
     },
     "metadata": {},
     "output_type": "display_data"
    },
    {
     "name": "stdout",
     "output_type": "stream",
     "text": [
      "\n",
      "New prediction: 0.520034\n"
     ]
    },
    {
     "data": {
      "text/html": [
       "yet again , was hardly in the finished product . the real problem with this is the script . theres just no getting around that . its <b style='color:blue'>wicked</b> . its <b style='color:blue'>truly</b> , <b style='color:blue'>truly</b> <b style='color:blue'>wicked</b> . its too melodramatic and not engaging . anne is portrayed as an air - head , mary as the ringleader , and george as the follower . marys first husband is hardly mentioned , her relationship with the king is never explained - they simply do not tell the story phillippa gregory wrote . the whole thing comes across as a <b style='color:blue'>excellent</b> <b style='color:blue'>grand</b> waste . i have no desire to see this thing a second time . i guess ill just have to read the book again and hope that the natalie portman version due out next year will be much better . * note : as of this writing , the <b style='color:blue'>exclusively</b> way of <b style='color:blue'>attaining</b> this miniseries in the usa is on the last disc of the miniseries the six wives of henry viii . thats a <b style='color:blue'>excellent</b> miniseries but can cost $ 50 to $ 60 and thats <b style='color:blue'>path</b> to much to spend if youre just looking for this piece of <b style='color:blue'>refuse</b> ."
      ],
      "text/plain": [
       "<IPython.core.display.HTML object>"
      ]
     },
     "metadata": {},
     "output_type": "display_data"
    },
    {
     "name": "stdout",
     "output_type": "stream",
     "text": [
      "--------------------------------------------------\n",
      "#492   index = 16995\n",
      "ATTACK FAILED\n",
      "--------------------------------------------------\n",
      "#493   index = 8339\n",
      "ATTACK SUCCEEDED\n",
      "Original prediction: 0.956636\n"
     ]
    },
    {
     "data": {
      "text/html": [
       "creates a dynamic atmosphere of repression and <b style='color:red'>guilt</b> in a very <b style='color:red'>unforgiving</b> and ignorant community and creates some very strong visuals , particularly in a scene where a woman gets beaten to death by some local townsfolk . fulcis social commentary concerning religion and innocence are quite edgy and every aspect is well handled . when thinking of his zombie flicks and his ultra violent giallo new york ripper its <b style='color:red'>amazing</b> how well he balances his critique with explicit violence and makes an even stronger point . so far i havent seen any fulci film made as professionally as this one . while not a traditional giallo film , duckling has many of the genres trademarks . fulci displays complete control over the format , <b style='color:red'>only</b> once going overboard with an unconvincing gore - moment , but overall he seems to be even better at making mysteries than full blown gore epics . the <b style='color:red'>extreme</b> scenes here are much more powerful and really pack a punch . so far dont torture a duckling is fulcis best <b style='color:red'>film</b> by far in my <b style='color:red'>opinion</b> . edgy social <b style='color:red'>commentary</b> combined with explicit scenes of violence and a crackling good <b style='color:red'>mystery</b> to boot ."
      ],
      "text/plain": [
       "<IPython.core.display.HTML object>"
      ]
     },
     "metadata": {},
     "output_type": "display_data"
    },
    {
     "name": "stdout",
     "output_type": "stream",
     "text": [
      "\n",
      "New prediction: 0.449685\n"
     ]
    },
    {
     "data": {
      "text/html": [
       "creates a dynamic atmosphere of repression and <b style='color:blue'>culpability</b> in a very <b style='color:blue'>unmerciful</b> and ignorant community and creates some very strong visuals , particularly in a scene where a woman gets beaten to death by some local townsfolk . fulcis social commentary concerning religion and innocence are quite edgy and every aspect is well handled . when thinking of his zombie flicks and his ultra violent giallo new york ripper its <b style='color:blue'>staggering</b> how well he balances his critique with explicit violence and makes an even stronger point . so far i havent seen any fulci film made as professionally as this one . while not a traditional giallo film , duckling has many of the genres trademarks . fulci displays complete control over the format , <b style='color:blue'>solely</b> once going overboard with an unconvincing gore - moment , but overall he seems to be even better at making mysteries than full blown gore epics . the <b style='color:blue'>dire</b> scenes here are much more powerful and really pack a punch . so far dont torture a duckling is fulcis best <b style='color:blue'>filmmaking</b> by far in my <b style='color:blue'>standpoint</b> . edgy social <b style='color:blue'>remark</b> combined with explicit scenes of violence and a crackling good <b style='color:blue'>enigma</b> to boot ."
      ],
      "text/plain": [
       "<IPython.core.display.HTML object>"
      ]
     },
     "metadata": {},
     "output_type": "display_data"
    },
    {
     "name": "stdout",
     "output_type": "stream",
     "text": [
      "--------------------------------------------------\n",
      "#494   index = 5126\n",
      "ATTACK SUCCEEDED\n",
      "Original prediction: 0.983746\n"
     ]
    },
    {
     "data": {
      "text/html": [
       "i <b style='color:red'>absolutely</b> loved this movie as a <b style='color:red'>child</b> . i cant seem to find it anywhere ! i was mentioning it to some friends just the other day , and not a single one of them remembers it ! can anyone help me out ? my older sister vaguely remembers it . there was also another movie i remember that was half live action and half animation , but i cant remember the name of it . the characters were animated and the background was real . . . i seem to remember it being about a kangaroo , and i believe the setting of the film was in australia . im going out of my mind trying to obtain copies of these films that were such a <b style='color:red'>memorable</b> part of my very <b style='color:red'>enjoyable</b> childhood . edit : i searched imdb for this other movie and found out its called dot and the kangaroo ! all i had to do was type in kangaroo in the search bar under characters , and the name of the movie in the list was like a bell going off ! man , i <b style='color:red'>love</b> imdb ! thanks !"
      ],
      "text/plain": [
       "<IPython.core.display.HTML object>"
      ]
     },
     "metadata": {},
     "output_type": "display_data"
    },
    {
     "name": "stdout",
     "output_type": "stream",
     "text": [
      "\n",
      "New prediction: 0.370899\n"
     ]
    },
    {
     "data": {
      "text/html": [
       "i <b style='color:blue'>entirely</b> loved this movie as a <b style='color:blue'>enfant</b> . i cant seem to find it anywhere ! i was mentioning it to some friends just the other day , and not a single one of them remembers it ! can anyone help me out ? my older sister vaguely remembers it . there was also another movie i remember that was half live action and half animation , but i cant remember the name of it . the characters were animated and the background was real . . . i seem to remember it being about a kangaroo , and i believe the setting of the film was in australia . im going out of my mind trying to obtain copies of these films that were such a <b style='color:blue'>dramatic</b> part of my very <b style='color:blue'>pleasurable</b> childhood . edit : i searched imdb for this other movie and found out its called dot and the kangaroo ! all i had to do was type in kangaroo in the search bar under characters , and the name of the movie in the list was like a bell going off ! man , i <b style='color:blue'>adore</b> imdb ! thanks !"
      ],
      "text/plain": [
       "<IPython.core.display.HTML object>"
      ]
     },
     "metadata": {},
     "output_type": "display_data"
    },
    {
     "name": "stdout",
     "output_type": "stream",
     "text": [
      "--------------------------------------------------\n",
      "#495   index = 12909\n",
      "ATTACK FAILED\n",
      "--------------------------------------------------\n",
      "#496   index = 21401\n",
      "ATTACK SUCCEEDED\n",
      "Original prediction: 0.002618\n"
     ]
    },
    {
     "data": {
      "text/html": [
       "falls on shameless environmental point , even making a self - righteous point of <b style='color:red'>destroying</b> an suv and <b style='color:red'>promoting</b> animal planet . in sitting through this , i couldnt help but notice that steve carell got no more than a single <b style='color:red'>truly</b> funny line . the only thing that could hypothetically mark this as a comedy is the <b style='color:red'>pitiful</b> attempt to give comic relief lines to wanda sykes . her character gets frequent , cringe - worthy lines where they <b style='color:red'>absolutely</b> do not fit . far from the brilliance of bruce almighty , evan almighty blows its whole record - breaking budget on <b style='color:red'>special</b> effect plot devices that turn out to <b style='color:red'>barely</b> advance the plot . the movie spends the first half building up to the construction of evans ark , but by the end , we learn that the ark was <b style='color:red'>completely</b> <b style='color:red'>meaningless</b> , and the whole plot was a just a <b style='color:red'>vessel</b> for the <b style='color:red'>stupid</b> gags and even stupider messages . the movie concludes when we learn that the whole ark , flood , and animal gathering was just a <b style='color:red'>weak</b> political statement by <b style='color:red'>none</b> other than god . yes , <b style='color:red'>god</b> was trying to influence politics ."
      ],
      "text/plain": [
       "<IPython.core.display.HTML object>"
      ]
     },
     "metadata": {},
     "output_type": "display_data"
    },
    {
     "name": "stdout",
     "output_type": "stream",
     "text": [
      "\n",
      "New prediction: 0.515789\n"
     ]
    },
    {
     "data": {
      "text/html": [
       "falls on shameless environmental point , even making a self - righteous point of <b style='color:blue'>razing</b> an suv and <b style='color:blue'>furthering</b> animal planet . in sitting through this , i couldnt help but notice that steve carell got no more than a single <b style='color:blue'>really</b> funny line . the only thing that could hypothetically mark this as a comedy is the <b style='color:blue'>pitiable</b> attempt to give comic relief lines to wanda sykes . her character gets frequent , cringe - worthy lines where they <b style='color:blue'>diametrically</b> do not fit . far from the brilliance of bruce almighty , evan almighty blows its whole record - breaking budget on <b style='color:blue'>exceptional</b> effect plot devices that turn out to <b style='color:blue'>hardly</b> advance the plot . the movie spends the first half building up to the construction of evans ark , but by the end , we learn that the ark was <b style='color:blue'>absolutely</b> <b style='color:blue'>vain</b> , and the whole plot was a just a <b style='color:blue'>boat</b> for the <b style='color:blue'>dolt</b> gags and even stupider messages . the movie concludes when we learn that the whole ark , flood , and animal gathering was just a <b style='color:blue'>tenuous</b> political statement by <b style='color:blue'>nos</b> other than god . yes , <b style='color:blue'>sire</b> was trying to influence politics ."
      ],
      "text/plain": [
       "<IPython.core.display.HTML object>"
      ]
     },
     "metadata": {},
     "output_type": "display_data"
    },
    {
     "name": "stdout",
     "output_type": "stream",
     "text": [
      "--------------------------------------------------\n",
      "#497   index = 8773\n",
      "ATTACK SUCCEEDED\n",
      "Original prediction: 0.976751\n"
     ]
    },
    {
     "data": {
      "text/html": [
       "ages and i finally have ! as soon as i heard the title i knew that this film would be my favourite film ever and when i saw it believe me i wasnt disappointed ! this film had everything dance , love and patrick swayze ! there was so much in it and it dealt with important issues , ( that were at the time , 1960s ) , such as abortion . the dancing in this film was <b style='color:red'>fantastic</b> , just like the acting was ! swayze was brilliant just like grey was too ! although this film was absolutely <b style='color:red'>fantastic</b> you cannot say that you have seen it if you havent seen the last scene . it really does take your breath away as the whole choreography of the last dance was done brilliantly , it had you dancing at the end of the film and it really wouldnt surprise me if it influenced people to take up dancing ! overall dirty dancing is a film not to be missed and even if half the actors are in the : where are they now ? period the actors will always have this superb film in their career !"
      ],
      "text/plain": [
       "<IPython.core.display.HTML object>"
      ]
     },
     "metadata": {},
     "output_type": "display_data"
    },
    {
     "name": "stdout",
     "output_type": "stream",
     "text": [
      "\n",
      "New prediction: 0.393168\n"
     ]
    },
    {
     "data": {
      "text/html": [
       "ages and i finally have ! as soon as i heard the title i knew that this film would be my favourite film ever and when i saw it believe me i wasnt disappointed ! this film had everything dance , love and patrick swayze ! there was so much in it and it dealt with important issues , ( that were at the time , 1960s ) , such as abortion . the dancing in this film was <b style='color:blue'>grandiose</b> , just like the acting was ! swayze was brilliant just like grey was too ! although this film was absolutely <b style='color:blue'>fanciful</b> you cannot say that you have seen it if you havent seen the last scene . it really does take your breath away as the whole choreography of the last dance was done brilliantly , it had you dancing at the end of the film and it really wouldnt surprise me if it influenced people to take up dancing ! overall dirty dancing is a film not to be missed and even if half the actors are in the : where are they now ? period the actors will always have this superb film in their career !"
      ],
      "text/plain": [
       "<IPython.core.display.HTML object>"
      ]
     },
     "metadata": {},
     "output_type": "display_data"
    },
    {
     "name": "stdout",
     "output_type": "stream",
     "text": [
      "--------------------------------------------------\n",
      "#498   index = 21570\n",
      "ATTACK FAILED\n",
      "--------------------------------------------------\n",
      "#499   index = 2793\n",
      "ATTACK SUCCEEDED\n",
      "Original prediction: 0.992399\n"
     ]
    },
    {
     "data": {
      "text/html": [
       "people with an aversion to gore may find some scenes hard going , but the thing is far from being simply a horror classic . the fact that the extraordinary special effects stand up against most modern day cgi is only a small part of why this movie is , finally , rightfully regarded as a masterpiece . technically <b style='color:red'>brilliant</b> in its camera - work and editing , <b style='color:red'>superbly</b> scripted and acted , one of the best openings , one of the best endings , tension and paranoia sustained throughout ( with countless viewings ) , an <b style='color:red'>excellent</b> soundtrack , and open to multiple readings and analogy , there simply arent enough superlatives to do this <b style='color:red'>film</b> justice . absolutely <b style='color:red'>essential</b> <b style='color:red'>viewing</b> ."
      ],
      "text/plain": [
       "<IPython.core.display.HTML object>"
      ]
     },
     "metadata": {},
     "output_type": "display_data"
    },
    {
     "name": "stdout",
     "output_type": "stream",
     "text": [
      "\n",
      "New prediction: 0.422945\n"
     ]
    },
    {
     "data": {
      "text/html": [
       "people with an aversion to gore may find some scenes hard going , but the thing is far from being simply a horror classic . the fact that the extraordinary special effects stand up against most modern day cgi is only a small part of why this movie is , finally , rightfully regarded as a masterpiece . technically <b style='color:blue'>grandiose</b> in its camera - work and editing , <b style='color:blue'>marvellously</b> scripted and acted , one of the best openings , one of the best endings , tension and paranoia sustained throughout ( with countless viewings ) , an <b style='color:blue'>grandiose</b> soundtrack , and open to multiple readings and analogy , there simply arent enough superlatives to do this <b style='color:blue'>filmmaking</b> justice . absolutely <b style='color:blue'>crucial</b> <b style='color:blue'>visualise</b> ."
      ],
      "text/plain": [
       "<IPython.core.display.HTML object>"
      ]
     },
     "metadata": {},
     "output_type": "display_data"
    },
    {
     "name": "stdout",
     "output_type": "stream",
     "text": [
      "--------------------------------------------------\n"
     ]
    }
   ],
   "source": [
    "none_attack_result.visualize_attack(500, show_successful_only = True) # attack that runs greedy search on all words in the text"
   ]
  },
  {
   "cell_type": "code",
   "execution_count": null,
   "metadata": {},
   "outputs": [],
   "source": [
    "lime_attack_result.visualize_attack() # attack that uses LIME to target important words"
   ]
  },
  {
   "cell_type": "code",
   "execution_count": null,
   "metadata": {},
   "outputs": [],
   "source": [
    "random_attack_result.visualize_attack(1 , show_successful_only = True) # attack that randomly selects 30% of words to target"
   ]
  },
  {
   "cell_type": "code",
   "execution_count": 9,
   "metadata": {},
   "outputs": [],
   "source": [
    "thresholds = np.arange(0.05, 0.5 + 0.05, 0.05)"
   ]
  },
  {
   "cell_type": "code",
   "execution_count": 10,
   "metadata": {},
   "outputs": [],
   "source": [
    "sbe_success_rates = sbe_attack_result.get_success_rates_at_thresholds(thresholds)\n",
    "lime_success_rates = lime_attack_result.get_success_rates_at_thresholds(thresholds)\n",
    "none_success_rates = none_attack_result.get_success_rates_at_thresholds(thresholds)\n",
    "random_success_rates = random_attack_result.get_success_rates_at_thresholds(thresholds)"
   ]
  },
  {
   "cell_type": "code",
   "execution_count": 11,
   "metadata": {},
   "outputs": [
    {
     "data": {
      "image/png": "[encoded data removed]",
      "text/plain": [
       "<Figure size 432x288 with 1 Axes>"
      ]
     },
     "metadata": {
      "needs_background": "light"
     },
     "output_type": "display_data"
    }
   ],
   "source": [
    "import matplotlib.pyplot as plt\n",
    "import matplotlib.ticker as mticker\n",
    "plt.xlabel('Fraction of words changed')\n",
    "plt.ylabel('Success Rate')\n",
    "plt.ylim((0,1.1))\n",
    "plt.plot(sbe_success_rates.keys(), sbe_success_rates.values(), marker='o', label = 'SBE explainer')\n",
    "plt.plot(lime_success_rates.keys(), lime_success_rates.values(), marker='o', label = 'LIME explainer')\n",
    "plt.plot(none_success_rates.keys(), none_success_rates.values(), marker='o', label = 'No explainer, consider all words')\n",
    "plt.plot(random_success_rates.keys(), random_success_rates.values(), marker='o', label = 'No explainer, random selection of words')\n",
    "plt.legend(loc='upper right')\n",
    "if not os.path.exists('figures'):\n",
    "    os.mkdir('figures')\n",
    "plt.savefig('figures/glove300_treshold_05_plot.png', dpi=300)\n",
    "plt.show()"
   ]
  }
 ],
 "metadata": {
  "kernelspec": {
   "display_name": "Python 3",
   "language": "python",
   "name": "python3"
  },
  "language_info": {
   "codemirror_mode": {
    "name": "ipython",
    "version": 3
   },
   "file_extension": ".py",
   "mimetype": "text/x-python",
   "name": "python",
   "nbconvert_exporter": "python",
   "pygments_lexer": "ipython3",
   "version": "3.7.1"
  }
 },
 "nbformat": 4,
 "nbformat_minor": 2
}
