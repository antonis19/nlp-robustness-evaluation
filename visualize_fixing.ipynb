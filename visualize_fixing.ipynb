{
 "cells": [
  {
   "cell_type": "code",
   "execution_count": 8,
   "metadata": {},
   "outputs": [],
   "source": [
    "import numpy as np\n",
    "import os\n",
    "import pickle\n",
    "from IMDBModel import IMDBModel\n",
    "from embedding import Embedding\n",
    "from keras.preprocessing import sequence\n",
    "import time\n",
    "from glove_utils import load_embedding\n",
    "from data_utils import IMDBDataset\n",
    "from pprint import pprint\n",
    "from attacker import Attacker\n",
    "from explainers import SBE, LIMEExplainer\n",
    "from pos_taggers import TextBlobTagger, SpacyTagger\n",
    "from display_utils import FixingResult, html_render, display_html\n",
    "import utils"
   ]
  },
  {
   "cell_type": "code",
   "execution_count": 9,
   "metadata": {},
   "outputs": [],
   "source": [
    "%load_ext autoreload\n",
    "%autoreload 2"
   ]
  },
  {
   "cell_type": "markdown",
   "metadata": {},
   "source": [
    "### Load IMDB data"
   ]
  },
  {
   "cell_type": "code",
   "execution_count": 10,
   "metadata": {},
   "outputs": [
    {
     "name": "stdout",
     "output_type": "stream",
     "text": [
      "Loading data...\n",
      "Data loaded.\n"
     ]
    }
   ],
   "source": [
    "# Load data\n",
    "maxlen = 200\n",
    "batch_size = 32\n",
    "print('Loading data...')\n",
    "(train_text, x_train, y_train), (test_text, x_test, y_test) = IMDBDataset.load_data()\n",
    "x_train = sequence.pad_sequences(x_train, maxlen=maxlen, padding = 'pre', truncating = 'pre')\n",
    "x_test = sequence.pad_sequences(x_test, maxlen=maxlen, padding = 'pre', truncating = 'pre')\n",
    "print('Data loaded.')\n"
   ]
  },
  {
   "cell_type": "code",
   "execution_count": 11,
   "metadata": {},
   "outputs": [],
   "source": [
    "results_path = 'results/'"
   ]
  },
  {
   "cell_type": "code",
   "execution_count": 12,
   "metadata": {},
   "outputs": [],
   "source": [
    "none_results_path = results_path + 'fix_fasttext_threshold_0.5_beam_4_none.pickle' # results using no explainer and targeting all words\n",
    "lime_results_path = results_path +  'fix_fasttext_threshold_0.5_beam_4_lime.pickle' # results using LIME explainer\n",
    "sbe_results_path = results_path + 'fix_fasttext_threshold_0.5_beam_4_sbe.pickle'   # results using SBE explainer"
   ]
  },
  {
   "cell_type": "code",
   "execution_count": 19,
   "metadata": {},
   "outputs": [],
   "source": [
    "none_results_data = pickle.load(open(none_results_path, 'rb'))\n",
    "lime_results_data = pickle.load(open(lime_results_path, 'rb'))\n",
    "sbe_results_data = pickle.load(open(sbe_results_path, 'rb'))"
   ]
  },
  {
   "cell_type": "code",
   "execution_count": 20,
   "metadata": {},
   "outputs": [],
   "source": [
    "none_fix_result = FixingResult(none_results_data)\n",
    "lime_fix_result = FixingResult(lime_results_data)\n",
    "sbe_fix_result  = FixingResult(sbe_results_data)"
   ]
  },
  {
   "cell_type": "code",
   "execution_count": 15,
   "metadata": {},
   "outputs": [
    {
     "name": "stdout",
     "output_type": "stream",
     "text": [
      "Using no explainer: success_rate = 0.932000 , avg_nwords_changed = 0.016602\n",
      "Using LIME explainer: success_rate = 0.766000, avg_nwords_changed = 0.011665 \n",
      "Using SBE explainer: success_rate = 0.754000, avg_nwords_changed = 0.011531 \n"
     ]
    }
   ],
   "source": [
    "##### Using No explainer\n",
    "print(\"Using no explainer: success_rate = %f , avg_nwords_changed = %f\" % \\\n",
    "    (none_fix_result.get_success_rate(), none_fix_result.get_modification_percentage()))\n",
    "\n",
    "print(\"Using LIME explainer: success_rate = %f, avg_nwords_changed = %f \" % \\\n",
    "     (lime_fix_result.get_success_rate(), lime_fix_result.get_modification_percentage()))\n",
    "\n",
    "print(\"Using SBE explainer: success_rate = %f, avg_nwords_changed = %f \" % \\\n",
    "     (sbe_fix_result.get_success_rate(), sbe_fix_result.get_modification_percentage()))\n",
    "\n"
   ]
  },
  {
   "cell_type": "code",
   "execution_count": 16,
   "metadata": {},
   "outputs": [
    {
     "name": "stdout",
     "output_type": "stream",
     "text": [
      "#0   index = 339\n",
      "FIX SUCCEEDED\n",
      "SUGGESTED REPLACEMENTS OPTION  0 : \n",
      "Original prediction: 0.439153\n"
     ]
    },
    {
     "data": {
      "text/html": [
       "just want to inform you guys that this movie was actually pretty good ! ! ! thought it was a lame ass movie , but not at all , many moments in this movie wore pretty <b style='color:red'>horrifying</b> . this movie has enough blood , gore , and some sexy make out scenes of course , to keep any horror buff like me 100 % satisfied ! the cast was also pretty good imo . even though its not a high budget movie , the effects wore definitely kinda creepy sometimes . worth watching if u like a kick ass horror movie thats for sure ! ! - tom"
      ],
      "text/plain": [
       "<IPython.core.display.HTML object>"
      ]
     },
     "metadata": {},
     "output_type": "display_data"
    },
    {
     "name": "stdout",
     "output_type": "stream",
     "text": [
      "New prediction: 0.772530\n"
     ]
    },
    {
     "data": {
      "text/html": [
       "just want to inform you guys that this movie was actually pretty good ! ! ! thought it was a lame ass movie , but not at all , many moments in this movie wore pretty <b style='color:blue'>harrowing</b> . this movie has enough blood , gore , and some sexy make out scenes of course , to keep any horror buff like me 100 % satisfied ! the cast was also pretty good imo . even though its not a high budget movie , the effects wore definitely kinda creepy sometimes . worth watching if u like a kick ass horror movie thats for sure ! ! - tom"
      ],
      "text/plain": [
       "<IPython.core.display.HTML object>"
      ]
     },
     "metadata": {},
     "output_type": "display_data"
    },
    {
     "name": "stdout",
     "output_type": "stream",
     "text": [
      "SUGGESTED REPLACEMENTS OPTION  1 : \n",
      "Original prediction: 0.439153\n"
     ]
    },
    {
     "data": {
      "text/html": [
       "just want to inform you guys that this movie was actually pretty good ! ! ! thought it was a lame ass movie , but not at all , many moments in this movie wore pretty <b style='color:red'>horrifying</b> . this movie has enough blood , gore , and some sexy make out scenes of course , to keep any horror buff like me 100 % satisfied ! the cast was also pretty good imo . even though its not a high budget movie , the effects wore definitely kinda creepy sometimes . worth watching if u like a kick ass horror movie thats for sure ! ! - tom"
      ],
      "text/plain": [
       "<IPython.core.display.HTML object>"
      ]
     },
     "metadata": {},
     "output_type": "display_data"
    },
    {
     "name": "stdout",
     "output_type": "stream",
     "text": [
      "New prediction: 0.700662\n"
     ]
    },
    {
     "data": {
      "text/html": [
       "just want to inform you guys that this movie was actually pretty good ! ! ! thought it was a lame ass movie , but not at all , many moments in this movie wore pretty <b style='color:blue'>fearsome</b> . this movie has enough blood , gore , and some sexy make out scenes of course , to keep any horror buff like me 100 % satisfied ! the cast was also pretty good imo . even though its not a high budget movie , the effects wore definitely kinda creepy sometimes . worth watching if u like a kick ass horror movie thats for sure ! ! - tom"
      ],
      "text/plain": [
       "<IPython.core.display.HTML object>"
      ]
     },
     "metadata": {},
     "output_type": "display_data"
    },
    {
     "name": "stdout",
     "output_type": "stream",
     "text": [
      "SUGGESTED REPLACEMENTS OPTION  2 : \n",
      "Original prediction: 0.439153\n"
     ]
    },
    {
     "data": {
      "text/html": [
       "just want to inform you guys that this movie was actually pretty good ! ! ! thought it was a lame ass movie , but not at all , many moments in this movie wore pretty <b style='color:red'>horrifying</b> . this movie has enough blood , gore , and some sexy make out scenes of course , to keep any horror buff like me 100 % satisfied ! the cast was also pretty good imo . even though its not a high budget movie , the effects wore definitely kinda creepy sometimes . worth watching if u like a kick ass horror movie thats for sure ! ! - tom"
      ],
      "text/plain": [
       "<IPython.core.display.HTML object>"
      ]
     },
     "metadata": {},
     "output_type": "display_data"
    },
    {
     "name": "stdout",
     "output_type": "stream",
     "text": [
      "New prediction: 0.653843\n"
     ]
    },
    {
     "data": {
      "text/html": [
       "just want to inform you guys that this movie was actually pretty good ! ! ! thought it was a lame ass movie , but not at all , many moments in this movie wore pretty <b style='color:blue'>terrifying</b> . this movie has enough blood , gore , and some sexy make out scenes of course , to keep any horror buff like me 100 % satisfied ! the cast was also pretty good imo . even though its not a high budget movie , the effects wore definitely kinda creepy sometimes . worth watching if u like a kick ass horror movie thats for sure ! ! - tom"
      ],
      "text/plain": [
       "<IPython.core.display.HTML object>"
      ]
     },
     "metadata": {},
     "output_type": "display_data"
    },
    {
     "name": "stdout",
     "output_type": "stream",
     "text": [
      "SUGGESTED REPLACEMENTS OPTION  3 : \n",
      "Original prediction: 0.439153\n"
     ]
    },
    {
     "data": {
      "text/html": [
       "just want to inform you guys that this movie was actually pretty good ! ! ! thought it was a lame ass movie , but not at all , many moments in this movie wore pretty horrifying . this movie has enough blood , gore , and some sexy make out scenes of course , to keep any horror buff like me 100 % satisfied ! the cast was also pretty <b style='color:red'>good</b> imo . even though its not a high budget movie , the effects wore definitely kinda creepy sometimes . worth watching if u like a kick ass horror movie thats for sure ! ! - tom"
      ],
      "text/plain": [
       "<IPython.core.display.HTML object>"
      ]
     },
     "metadata": {},
     "output_type": "display_data"
    },
    {
     "name": "stdout",
     "output_type": "stream",
     "text": [
      "New prediction: 0.626012\n"
     ]
    },
    {
     "data": {
      "text/html": [
       "just want to inform you guys that this movie was actually pretty good ! ! ! thought it was a lame ass movie , but not at all , many moments in this movie wore pretty horrifying . this movie has enough blood , gore , and some sexy make out scenes of course , to keep any horror buff like me 100 % satisfied ! the cast was also pretty <b style='color:blue'>exemplary</b> imo . even though its not a high budget movie , the effects wore definitely kinda creepy sometimes . worth watching if u like a kick ass horror movie thats for sure ! ! - tom"
      ],
      "text/plain": [
       "<IPython.core.display.HTML object>"
      ]
     },
     "metadata": {},
     "output_type": "display_data"
    },
    {
     "name": "stdout",
     "output_type": "stream",
     "text": [
      "--------------------------------------------------\n",
      "#1   index = 22167\n",
      "FIX SUCCEEDED\n",
      "SUGGESTED REPLACEMENTS OPTION  0 : \n",
      "Original prediction: 0.712436\n"
     ]
    },
    {
     "data": {
      "text/html": [
       "the trailers for this movie promised and this movie delivered exactly what was promised : good campy fun with lots of very good looking naked broads ! if you were expecting a major hollywood movie with major stars , stellar budgets , and mpaa tamed money shots , you will be * very * disappointed . however , if you are a fan of the old b movies with unknown , but very good looking young stars that act amazingly well , given the material , some hokey , but <b style='color:red'>surprisingly</b> well done special effects , and very tight naked nubile bodies , this movie is almost heaven !"
      ],
      "text/plain": [
       "<IPython.core.display.HTML object>"
      ]
     },
     "metadata": {},
     "output_type": "display_data"
    },
    {
     "name": "stdout",
     "output_type": "stream",
     "text": [
      "New prediction: 0.099736\n"
     ]
    },
    {
     "data": {
      "text/html": [
       "the trailers for this movie promised and this movie delivered exactly what was promised : good campy fun with lots of very good looking naked broads ! if you were expecting a major hollywood movie with major stars , stellar budgets , and mpaa tamed money shots , you will be * very * disappointed . however , if you are a fan of the old b movies with unknown , but very good looking young stars that act amazingly well , given the material , some hokey , but <b style='color:blue'>appallingly</b> well done special effects , and very tight naked nubile bodies , this movie is almost heaven !"
      ],
      "text/plain": [
       "<IPython.core.display.HTML object>"
      ]
     },
     "metadata": {},
     "output_type": "display_data"
    },
    {
     "name": "stdout",
     "output_type": "stream",
     "text": [
      "SUGGESTED REPLACEMENTS OPTION  1 : \n",
      "Original prediction: 0.712436\n"
     ]
    },
    {
     "data": {
      "text/html": [
       "the trailers for this movie promised and this movie delivered exactly what was promised : good campy fun with lots of very good looking naked broads ! if you were expecting a major hollywood movie with major stars , stellar budgets , and mpaa tamed money shots , you will be * very * disappointed . however , if you are a fan of the old b movies with unknown , but very good looking young stars that act amazingly well , given the material , some hokey , but <b style='color:red'>surprisingly</b> well done special effects , and very tight naked nubile bodies , this movie is almost heaven !"
      ],
      "text/plain": [
       "<IPython.core.display.HTML object>"
      ]
     },
     "metadata": {},
     "output_type": "display_data"
    },
    {
     "name": "stdout",
     "output_type": "stream",
     "text": [
      "New prediction: 0.264277\n"
     ]
    },
    {
     "data": {
      "text/html": [
       "the trailers for this movie promised and this movie delivered exactly what was promised : good campy fun with lots of very good looking naked broads ! if you were expecting a major hollywood movie with major stars , stellar budgets , and mpaa tamed money shots , you will be * very * disappointed . however , if you are a fan of the old b movies with unknown , but very good looking young stars that act amazingly well , given the material , some hokey , but <b style='color:blue'>shockingly</b> well done special effects , and very tight naked nubile bodies , this movie is almost heaven !"
      ],
      "text/plain": [
       "<IPython.core.display.HTML object>"
      ]
     },
     "metadata": {},
     "output_type": "display_data"
    },
    {
     "name": "stdout",
     "output_type": "stream",
     "text": [
      "SUGGESTED REPLACEMENTS OPTION  2 : \n",
      "Original prediction: 0.712436\n"
     ]
    },
    {
     "data": {
      "text/html": [
       "the trailers for this movie promised and this movie delivered exactly what was promised : good campy fun with lots of very good looking naked broads ! if you were expecting a major hollywood movie with major stars , stellar budgets , and mpaa tamed money shots , you will be * very * disappointed . however , if you are a fan of the old b movies with unknown , but very <b style='color:red'>good</b> looking young stars that act amazingly well , given the material , some hokey , but surprisingly well done special effects , and very tight naked nubile bodies , this movie is almost heaven !"
      ],
      "text/plain": [
       "<IPython.core.display.HTML object>"
      ]
     },
     "metadata": {},
     "output_type": "display_data"
    },
    {
     "name": "stdout",
     "output_type": "stream",
     "text": [
      "New prediction: 0.326025\n"
     ]
    },
    {
     "data": {
      "text/html": [
       "the trailers for this movie promised and this movie delivered exactly what was promised : good campy fun with lots of very good looking naked broads ! if you were expecting a major hollywood movie with major stars , stellar budgets , and mpaa tamed money shots , you will be * very * disappointed . however , if you are a fan of the old b movies with unknown , but very <b style='color:blue'>allright</b> looking young stars that act amazingly well , given the material , some hokey , but surprisingly well done special effects , and very tight naked nubile bodies , this movie is almost heaven !"
      ],
      "text/plain": [
       "<IPython.core.display.HTML object>"
      ]
     },
     "metadata": {},
     "output_type": "display_data"
    },
    {
     "name": "stdout",
     "output_type": "stream",
     "text": [
      "SUGGESTED REPLACEMENTS OPTION  3 : \n",
      "Original prediction: 0.712436\n"
     ]
    },
    {
     "data": {
      "text/html": [
       "the trailers for this movie promised and this movie delivered exactly what was promised : good campy fun with lots of very good looking naked broads ! if you were expecting a major hollywood movie with major stars , stellar budgets , and mpaa tamed money shots , you will be * very * disappointed . however , if you are a fan of the old b movies with unknown , but very good looking young stars that act <b style='color:red'>amazingly</b> well , given the material , some hokey , but surprisingly well done special effects , and very tight naked nubile bodies , this movie is almost heaven !"
      ],
      "text/plain": [
       "<IPython.core.display.HTML object>"
      ]
     },
     "metadata": {},
     "output_type": "display_data"
    },
    {
     "name": "stdout",
     "output_type": "stream",
     "text": [
      "New prediction: 0.398974\n"
     ]
    },
    {
     "data": {
      "text/html": [
       "the trailers for this movie promised and this movie delivered exactly what was promised : good campy fun with lots of very good looking naked broads ! if you were expecting a major hollywood movie with major stars , stellar budgets , and mpaa tamed money shots , you will be * very * disappointed . however , if you are a fan of the old b movies with unknown , but very good looking young stars that act <b style='color:blue'>appallingly</b> well , given the material , some hokey , but surprisingly well done special effects , and very tight naked nubile bodies , this movie is almost heaven !"
      ],
      "text/plain": [
       "<IPython.core.display.HTML object>"
      ]
     },
     "metadata": {},
     "output_type": "display_data"
    },
    {
     "name": "stdout",
     "output_type": "stream",
     "text": [
      "--------------------------------------------------\n",
      "#2   index = 6807\n",
      "FIX SUCCEEDED\n",
      "SUGGESTED REPLACEMENTS OPTION  0 : \n",
      "Original prediction: 0.021822\n"
     ]
    },
    {
     "data": {
      "text/html": [
       "oftentimes too much chaos happening in the life of the kyle family . they made junior too <b style='color:red'>stupid</b> , they also made the eldest daughter an attractive , <b style='color:red'>clumsy</b> idiot from time to time and the youngest daughter wasnt even spared by the writers . i feel they jumped the shark and <b style='color:red'>signed</b> the shows death warrant when junior got his girlfriend pregnant , she moved in and he married her and her parents were introduced ( juniors wifes fathers character makes me wince just thinking about him ) . the show remained <b style='color:red'>funny</b> . . . but it was a upn <b style='color:red'>show</b> on abc if that makes any sense to the reader . the reruns are <b style='color:red'>funny</b> enough , but im relieved its over . . . there was <b style='color:red'>nowhere</b> left to go with it . when its bad its really <b style='color:red'>bad</b> . it tends to be cornball at times but at least he was a black man who had a sitcom make it to syndication on a <b style='color:red'>major</b> network . . who can say that for themselves now ? ( given the cw merger and the brownout on tv networks lately , that is ) . one ."
      ],
      "text/plain": [
       "<IPython.core.display.HTML object>"
      ]
     },
     "metadata": {},
     "output_type": "display_data"
    },
    {
     "name": "stdout",
     "output_type": "stream",
     "text": [
      "New prediction: 0.501151\n"
     ]
    },
    {
     "data": {
      "text/html": [
       "oftentimes too much chaos happening in the life of the kyle family . they made junior too <b style='color:blue'>dolt</b> , they also made the eldest daughter an attractive , <b style='color:blue'>awkward</b> idiot from time to time and the youngest daughter wasnt even spared by the writers . i feel they jumped the shark and <b style='color:blue'>autographed</b> the shows death warrant when junior got his girlfriend pregnant , she moved in and he married her and her parents were introduced ( juniors wifes fathers character makes me wince just thinking about him ) . the show remained <b style='color:blue'>hilarious</b> . . . but it was a upn <b style='color:blue'>showcasing</b> on abc if that makes any sense to the reader . the reruns are <b style='color:blue'>hilarious</b> enough , but im relieved its over . . . there was <b style='color:blue'>anywhere</b> left to go with it . when its bad its really <b style='color:blue'>wicked</b> . it tends to be cornball at times but at least he was a black man who had a sitcom make it to syndication on a <b style='color:blue'>momentous</b> network . . who can say that for themselves now ? ( given the cw merger and the brownout on tv networks lately , that is ) . one ."
      ],
      "text/plain": [
       "<IPython.core.display.HTML object>"
      ]
     },
     "metadata": {},
     "output_type": "display_data"
    },
    {
     "name": "stdout",
     "output_type": "stream",
     "text": [
      "--------------------------------------------------\n",
      "#3   index = 13383\n",
      "FIX SUCCEEDED\n",
      "SUGGESTED REPLACEMENTS OPTION  0 : \n",
      "Original prediction: 0.980197\n"
     ]
    },
    {
     "data": {
      "text/html": [
       "i finally rented this video after searching for it for many months . initially i only wanted to see it because im an out and out neil pearson fan ( patrick , boyfriend of isobel , the lead ) . however , the <b style='color:red'>movie</b> stands up very well without neil ( although he handles himself very well in this movie , he is overshadowed by the three main female characters ) . its an eerie , <b style='color:red'>intense</b> movie , the <b style='color:red'>sort</b> the brits do so <b style='color:red'>well</b> - <b style='color:red'>definitely</b> a chick flick the house and its <b style='color:red'>isolated</b> setting giving the movie an almost wuthering heights aura . the <b style='color:red'>movie</b> is full of tension and the <b style='color:red'>ending</b> , <b style='color:red'>shocking</b> , yet somehow <b style='color:red'>inevitable</b> . im glad i watched it , it was worth the wait"
      ],
      "text/plain": [
       "<IPython.core.display.HTML object>"
      ]
     },
     "metadata": {},
     "output_type": "display_data"
    },
    {
     "name": "stdout",
     "output_type": "stream",
     "text": [
      "New prediction: 0.484654\n"
     ]
    },
    {
     "data": {
      "text/html": [
       "i finally rented this video after searching for it for many months . initially i only wanted to see it because im an out and out neil pearson fan ( patrick , boyfriend of isobel , the lead ) . however , the <b style='color:blue'>filmmaking</b> stands up very well without neil ( although he handles himself very well in this movie , he is overshadowed by the three main female characters ) . its an eerie , <b style='color:blue'>vehement</b> movie , the <b style='color:blue'>sorting</b> the brits do so <b style='color:blue'>allright</b> - <b style='color:blue'>doubtlessly</b> a chick flick the house and its <b style='color:blue'>insulate</b> setting giving the movie an almost wuthering heights aura . the <b style='color:blue'>filmmaking</b> is full of tension and the <b style='color:blue'>termination</b> , <b style='color:blue'>appalling</b> , yet somehow <b style='color:blue'>ineluctable</b> . im glad i watched it , it was worth the wait"
      ],
      "text/plain": [
       "<IPython.core.display.HTML object>"
      ]
     },
     "metadata": {},
     "output_type": "display_data"
    },
    {
     "name": "stdout",
     "output_type": "stream",
     "text": [
      "SUGGESTED REPLACEMENTS OPTION  1 : \n",
      "Original prediction: 0.980197\n"
     ]
    },
    {
     "data": {
      "text/html": [
       "i finally rented this video after searching for it for many months . initially i only wanted to see it because im an out and out neil pearson fan ( patrick , boyfriend of isobel , the lead ) . however , the movie stands up very well without neil ( although he handles himself very well in this movie , he is overshadowed by the three main female characters ) . its an eerie , <b style='color:red'>intense</b> movie , the <b style='color:red'>sort</b> the brits do so <b style='color:red'>well</b> - <b style='color:red'>definitely</b> a chick flick the <b style='color:red'>house</b> and its <b style='color:red'>isolated</b> setting giving the movie an almost wuthering heights aura . the <b style='color:red'>movie</b> is full of tension and the <b style='color:red'>ending</b> , <b style='color:red'>shocking</b> , yet somehow <b style='color:red'>inevitable</b> . im glad i watched it , it was worth the wait"
      ],
      "text/plain": [
       "<IPython.core.display.HTML object>"
      ]
     },
     "metadata": {},
     "output_type": "display_data"
    },
    {
     "name": "stdout",
     "output_type": "stream",
     "text": [
      "New prediction: 0.489542\n"
     ]
    },
    {
     "data": {
      "text/html": [
       "i finally rented this video after searching for it for many months . initially i only wanted to see it because im an out and out neil pearson fan ( patrick , boyfriend of isobel , the lead ) . however , the movie stands up very well without neil ( although he handles himself very well in this movie , he is overshadowed by the three main female characters ) . its an eerie , <b style='color:blue'>vehement</b> movie , the <b style='color:blue'>sorting</b> the brits do so <b style='color:blue'>allright</b> - <b style='color:blue'>doubtlessly</b> a chick flick the <b style='color:blue'>habitation</b> and its <b style='color:blue'>insulate</b> setting giving the movie an almost wuthering heights aura . the <b style='color:blue'>filmmaking</b> is full of tension and the <b style='color:blue'>termination</b> , <b style='color:blue'>appalling</b> , yet somehow <b style='color:blue'>ineluctable</b> . im glad i watched it , it was worth the wait"
      ],
      "text/plain": [
       "<IPython.core.display.HTML object>"
      ]
     },
     "metadata": {},
     "output_type": "display_data"
    },
    {
     "name": "stdout",
     "output_type": "stream",
     "text": [
      "SUGGESTED REPLACEMENTS OPTION  2 : \n",
      "Original prediction: 0.980197\n"
     ]
    },
    {
     "data": {
      "text/html": [
       "i finally rented this video after searching for it for many months . initially i only wanted to see it because im an out and out neil pearson fan ( patrick , boyfriend of isobel , the lead ) . however , the movie stands up very well without neil ( although he handles himself very well in this movie , he is overshadowed by the three main female characters ) . its an eerie , <b style='color:red'>intense</b> <b style='color:red'>movie</b> , the <b style='color:red'>sort</b> the brits do so <b style='color:red'>well</b> - <b style='color:red'>definitely</b> a chick flick the house and its <b style='color:red'>isolated</b> setting giving the movie an almost wuthering heights aura . the <b style='color:red'>movie</b> is full of tension and the <b style='color:red'>ending</b> , <b style='color:red'>shocking</b> , yet somehow <b style='color:red'>inevitable</b> . im glad i watched it , it was worth the wait"
      ],
      "text/plain": [
       "<IPython.core.display.HTML object>"
      ]
     },
     "metadata": {},
     "output_type": "display_data"
    },
    {
     "name": "stdout",
     "output_type": "stream",
     "text": [
      "New prediction: 0.491006\n"
     ]
    },
    {
     "data": {
      "text/html": [
       "i finally rented this video after searching for it for many months . initially i only wanted to see it because im an out and out neil pearson fan ( patrick , boyfriend of isobel , the lead ) . however , the movie stands up very well without neil ( although he handles himself very well in this movie , he is overshadowed by the three main female characters ) . its an eerie , <b style='color:blue'>vehement</b> <b style='color:blue'>film</b> , the <b style='color:blue'>sorting</b> the brits do so <b style='color:blue'>allright</b> - <b style='color:blue'>doubtlessly</b> a chick flick the house and its <b style='color:blue'>insulate</b> setting giving the movie an almost wuthering heights aura . the <b style='color:blue'>filmmaking</b> is full of tension and the <b style='color:blue'>termination</b> , <b style='color:blue'>appalling</b> , yet somehow <b style='color:blue'>ineluctable</b> . im glad i watched it , it was worth the wait"
      ],
      "text/plain": [
       "<IPython.core.display.HTML object>"
      ]
     },
     "metadata": {},
     "output_type": "display_data"
    },
    {
     "name": "stdout",
     "output_type": "stream",
     "text": [
      "SUGGESTED REPLACEMENTS OPTION  3 : \n",
      "Original prediction: 0.980197\n"
     ]
    },
    {
     "data": {
      "text/html": [
       "i finally rented this video after searching for it for many months . initially i only wanted to see it because im an out and out neil pearson fan ( patrick , boyfriend of isobel , the lead ) . however , the movie stands up very well without neil ( although he handles himself very well in this movie , he is overshadowed by the three main female characters ) . its an eerie , <b style='color:red'>intense</b> movie , the <b style='color:red'>sort</b> the brits do so <b style='color:red'>well</b> - <b style='color:red'>definitely</b> a chick flick the house and its <b style='color:red'>isolated</b> setting giving the <b style='color:red'>movie</b> an almost wuthering heights aura . the <b style='color:red'>movie</b> is full of tension and the <b style='color:red'>ending</b> , <b style='color:red'>shocking</b> , yet somehow <b style='color:red'>inevitable</b> . im glad i watched it , it was worth the wait"
      ],
      "text/plain": [
       "<IPython.core.display.HTML object>"
      ]
     },
     "metadata": {},
     "output_type": "display_data"
    },
    {
     "name": "stdout",
     "output_type": "stream",
     "text": [
      "New prediction: 0.492092\n"
     ]
    },
    {
     "data": {
      "text/html": [
       "i finally rented this video after searching for it for many months . initially i only wanted to see it because im an out and out neil pearson fan ( patrick , boyfriend of isobel , the lead ) . however , the movie stands up very well without neil ( although he handles himself very well in this movie , he is overshadowed by the three main female characters ) . its an eerie , <b style='color:blue'>vehement</b> movie , the <b style='color:blue'>sorting</b> the brits do so <b style='color:blue'>allright</b> - <b style='color:blue'>doubtlessly</b> a chick flick the house and its <b style='color:blue'>insulate</b> setting giving the <b style='color:blue'>filmmaking</b> an almost wuthering heights aura . the <b style='color:blue'>filmmaking</b> is full of tension and the <b style='color:blue'>termination</b> , <b style='color:blue'>appalling</b> , yet somehow <b style='color:blue'>ineluctable</b> . im glad i watched it , it was worth the wait"
      ],
      "text/plain": [
       "<IPython.core.display.HTML object>"
      ]
     },
     "metadata": {},
     "output_type": "display_data"
    },
    {
     "name": "stdout",
     "output_type": "stream",
     "text": [
      "--------------------------------------------------\n",
      "#4   index = 22866\n",
      "FIX SUCCEEDED\n",
      "SUGGESTED REPLACEMENTS OPTION  0 : \n",
      "Original prediction: 0.531123\n"
     ]
    },
    {
     "data": {
      "text/html": [
       "meets a troubled girl named li mei , and the two fall in love . the temple is raised and four elemental beings ( all done in cg ) appear and proceed to start collecting hidden rings of power . stark and rhody find trouble back home but manage to confront the elementals without success in really stopping them , first using the aquatic armor , then the more classic red and gold armor and finally everything returns to the temple and stark is back in the bulky gray armor for a final showdown and a run in with what may be fin fang foom ( also in cg . ) here the story takes a major <b style='color:red'>twist</b> as it turns out that the mandarin needs a host body to manifest . this leads to a somewhat tragic final battle marred by the fact that the mandarin is little more than a ghost and isnt seen till the last 5 minutes of the movie . ugh . . . if you are an iron man fan then you will likely not enjoy this outing . and even non - fans may well find the movie somewhat lacking or not ."
      ],
      "text/plain": [
       "<IPython.core.display.HTML object>"
      ]
     },
     "metadata": {},
     "output_type": "display_data"
    },
    {
     "name": "stdout",
     "output_type": "stream",
     "text": [
      "New prediction: 0.352995\n"
     ]
    },
    {
     "data": {
      "text/html": [
       "meets a troubled girl named li mei , and the two fall in love . the temple is raised and four elemental beings ( all done in cg ) appear and proceed to start collecting hidden rings of power . stark and rhody find trouble back home but manage to confront the elementals without success in really stopping them , first using the aquatic armor , then the more classic red and gold armor and finally everything returns to the temple and stark is back in the bulky gray armor for a final showdown and a run in with what may be fin fang foom ( also in cg . ) here the story takes a major <b style='color:blue'>twisting</b> as it turns out that the mandarin needs a host body to manifest . this leads to a somewhat tragic final battle marred by the fact that the mandarin is little more than a ghost and isnt seen till the last 5 minutes of the movie . ugh . . . if you are an iron man fan then you will likely not enjoy this outing . and even non - fans may well find the movie somewhat lacking or not ."
      ],
      "text/plain": [
       "<IPython.core.display.HTML object>"
      ]
     },
     "metadata": {},
     "output_type": "display_data"
    },
    {
     "name": "stdout",
     "output_type": "stream",
     "text": [
      "SUGGESTED REPLACEMENTS OPTION  1 : \n",
      "Original prediction: 0.531123\n"
     ]
    },
    {
     "data": {
      "text/html": [
       "meets a <b style='color:red'>troubled</b> girl named li mei , and the two fall in love . the temple is raised and four elemental beings ( all done in cg ) appear and proceed to start collecting hidden rings of power . stark and rhody find trouble back home but manage to confront the elementals without success in really stopping them , first using the aquatic armor , then the more classic red and gold armor and finally everything returns to the temple and stark is back in the bulky gray armor for a final showdown and a run in with what may be fin fang foom ( also in cg . ) here the story takes a major twist as it turns out that the mandarin needs a host body to manifest . this leads to a somewhat tragic final battle marred by the fact that the mandarin is little more than a ghost and isnt seen till the last 5 minutes of the movie . ugh . . . if you are an iron man fan then you will likely not enjoy this outing . and even non - fans may well find the movie somewhat lacking or not ."
      ],
      "text/plain": [
       "<IPython.core.display.HTML object>"
      ]
     },
     "metadata": {},
     "output_type": "display_data"
    },
    {
     "name": "stdout",
     "output_type": "stream",
     "text": [
      "New prediction: 0.435848\n"
     ]
    },
    {
     "data": {
      "text/html": [
       "meets a <b style='color:blue'>perturbed</b> girl named li mei , and the two fall in love . the temple is raised and four elemental beings ( all done in cg ) appear and proceed to start collecting hidden rings of power . stark and rhody find trouble back home but manage to confront the elementals without success in really stopping them , first using the aquatic armor , then the more classic red and gold armor and finally everything returns to the temple and stark is back in the bulky gray armor for a final showdown and a run in with what may be fin fang foom ( also in cg . ) here the story takes a major twist as it turns out that the mandarin needs a host body to manifest . this leads to a somewhat tragic final battle marred by the fact that the mandarin is little more than a ghost and isnt seen till the last 5 minutes of the movie . ugh . . . if you are an iron man fan then you will likely not enjoy this outing . and even non - fans may well find the movie somewhat lacking or not ."
      ],
      "text/plain": [
       "<IPython.core.display.HTML object>"
      ]
     },
     "metadata": {},
     "output_type": "display_data"
    },
    {
     "name": "stdout",
     "output_type": "stream",
     "text": [
      "SUGGESTED REPLACEMENTS OPTION  2 : \n",
      "Original prediction: 0.531123\n"
     ]
    },
    {
     "data": {
      "text/html": [
       "meets a troubled girl named li mei , and the two fall in love . the temple is raised and four elemental beings ( all done in cg ) appear and proceed to start collecting hidden rings of power . stark and rhody find trouble back home but manage to confront the elementals without success in really stopping them , first using the aquatic armor , then the more classic red and gold armor and finally everything returns to the temple and stark is back in the bulky gray armor for a final showdown and a run in with what may be fin fang foom ( also in cg . ) here the story takes a major twist as it turns out that the mandarin needs a host body to manifest . this leads to a <b style='color:red'>somewhat</b> tragic final battle marred by the fact that the mandarin is little more than a ghost and isnt seen till the last 5 minutes of the movie . ugh . . . if you are an iron man fan then you will likely not enjoy this outing . and even non - fans may well find the movie somewhat lacking or not ."
      ],
      "text/plain": [
       "<IPython.core.display.HTML object>"
      ]
     },
     "metadata": {},
     "output_type": "display_data"
    },
    {
     "name": "stdout",
     "output_type": "stream",
     "text": [
      "New prediction: 0.446059\n"
     ]
    },
    {
     "data": {
      "text/html": [
       "meets a troubled girl named li mei , and the two fall in love . the temple is raised and four elemental beings ( all done in cg ) appear and proceed to start collecting hidden rings of power . stark and rhody find trouble back home but manage to confront the elementals without success in really stopping them , first using the aquatic armor , then the more classic red and gold armor and finally everything returns to the temple and stark is back in the bulky gray armor for a final showdown and a run in with what may be fin fang foom ( also in cg . ) here the story takes a major twist as it turns out that the mandarin needs a host body to manifest . this leads to a <b style='color:blue'>slightly</b> tragic final battle marred by the fact that the mandarin is little more than a ghost and isnt seen till the last 5 minutes of the movie . ugh . . . if you are an iron man fan then you will likely not enjoy this outing . and even non - fans may well find the movie somewhat lacking or not ."
      ],
      "text/plain": [
       "<IPython.core.display.HTML object>"
      ]
     },
     "metadata": {},
     "output_type": "display_data"
    },
    {
     "name": "stdout",
     "output_type": "stream",
     "text": [
      "SUGGESTED REPLACEMENTS OPTION  3 : \n",
      "Original prediction: 0.531123\n"
     ]
    },
    {
     "data": {
      "text/html": [
       "meets a troubled girl named li mei , and the two fall in love . the temple is raised and four elemental beings ( all done in cg ) appear and proceed to start collecting hidden rings of power . stark and rhody find trouble back home but manage to confront the elementals without success in really stopping them , first using the aquatic armor , then the more <b style='color:red'>classic</b> red and gold armor and finally everything returns to the temple and stark is back in the bulky gray armor for a final showdown and a run in with what may be fin fang foom ( also in cg . ) here the story takes a major twist as it turns out that the mandarin needs a host body to manifest . this leads to a somewhat tragic final battle marred by the fact that the mandarin is little more than a ghost and isnt seen till the last 5 minutes of the movie . ugh . . . if you are an iron man fan then you will likely not enjoy this outing . and even non - fans may well find the movie somewhat lacking or not ."
      ],
      "text/plain": [
       "<IPython.core.display.HTML object>"
      ]
     },
     "metadata": {},
     "output_type": "display_data"
    },
    {
     "name": "stdout",
     "output_type": "stream",
     "text": [
      "New prediction: 0.452835\n"
     ]
    },
    {
     "data": {
      "text/html": [
       "meets a troubled girl named li mei , and the two fall in love . the temple is raised and four elemental beings ( all done in cg ) appear and proceed to start collecting hidden rings of power . stark and rhody find trouble back home but manage to confront the elementals without success in really stopping them , first using the aquatic armor , then the more <b style='color:blue'>symptomatic</b> red and gold armor and finally everything returns to the temple and stark is back in the bulky gray armor for a final showdown and a run in with what may be fin fang foom ( also in cg . ) here the story takes a major twist as it turns out that the mandarin needs a host body to manifest . this leads to a somewhat tragic final battle marred by the fact that the mandarin is little more than a ghost and isnt seen till the last 5 minutes of the movie . ugh . . . if you are an iron man fan then you will likely not enjoy this outing . and even non - fans may well find the movie somewhat lacking or not ."
      ],
      "text/plain": [
       "<IPython.core.display.HTML object>"
      ]
     },
     "metadata": {},
     "output_type": "display_data"
    },
    {
     "name": "stdout",
     "output_type": "stream",
     "text": [
      "--------------------------------------------------\n",
      "#5   index = 4873\n",
      "FIX SUCCEEDED\n",
      "SUGGESTED REPLACEMENTS OPTION  0 : \n",
      "Original prediction: 0.330499\n"
     ]
    },
    {
     "data": {
      "text/html": [
       "the movie is a starter to what <b style='color:red'>really</b> happened in phenix city . im a grandchild of the people who really lived the story . the truth never has come out to my knowledge . i have tried to find the whole story out but the people who lived it are still scared to tell it . phenix city is still run by crooked people . albert patterson was not quite the saint the story wants you to believe . the <b style='color:red'>story</b> was filmed in phenix city . it still has some of the <b style='color:red'>famous</b> sites in it that you see in the movie . the colonal funeral home still looks exactly the same . but if you are wanting the real history of sin city you have to visit us and find people willing to tell you about ma beachies and her kindness . she didnt get the name ma for nothing ."
      ],
      "text/plain": [
       "<IPython.core.display.HTML object>"
      ]
     },
     "metadata": {},
     "output_type": "display_data"
    },
    {
     "name": "stdout",
     "output_type": "stream",
     "text": [
      "New prediction: 0.516778\n"
     ]
    },
    {
     "data": {
      "text/html": [
       "the movie is a starter to what <b style='color:blue'>truly</b> happened in phenix city . im a grandchild of the people who really lived the story . the truth never has come out to my knowledge . i have tried to find the whole story out but the people who lived it are still scared to tell it . phenix city is still run by crooked people . albert patterson was not quite the saint the story wants you to believe . the <b style='color:blue'>tale</b> was filmed in phenix city . it still has some of the <b style='color:blue'>illustrious</b> sites in it that you see in the movie . the colonal funeral home still looks exactly the same . but if you are wanting the real history of sin city you have to visit us and find people willing to tell you about ma beachies and her kindness . she didnt get the name ma for nothing ."
      ],
      "text/plain": [
       "<IPython.core.display.HTML object>"
      ]
     },
     "metadata": {},
     "output_type": "display_data"
    },
    {
     "name": "stdout",
     "output_type": "stream",
     "text": [
      "SUGGESTED REPLACEMENTS OPTION  1 : \n",
      "Original prediction: 0.330499\n"
     ]
    },
    {
     "data": {
      "text/html": [
       "the movie is a starter to what really happened in phenix city . im a grandchild of the people who really lived the story . the truth never has come out to my knowledge . i have tried to find the whole story out but the people who lived it are still scared to tell it . phenix city is still run by crooked people . albert patterson was not quite the saint the story wants you to believe . the <b style='color:red'>story</b> was filmed in phenix city . it still has some of the <b style='color:red'>famous</b> sites in it that you see in the movie . the colonal funeral home still looks exactly the same . but if you are wanting the real history of sin city you have to visit us and find people willing to tell you about ma beachies and her kindness . she didnt <b style='color:red'>get</b> the name ma for nothing ."
      ],
      "text/plain": [
       "<IPython.core.display.HTML object>"
      ]
     },
     "metadata": {},
     "output_type": "display_data"
    },
    {
     "name": "stdout",
     "output_type": "stream",
     "text": [
      "New prediction: 0.509628\n"
     ]
    },
    {
     "data": {
      "text/html": [
       "the movie is a starter to what really happened in phenix city . im a grandchild of the people who really lived the story . the truth never has come out to my knowledge . i have tried to find the whole story out but the people who lived it are still scared to tell it . phenix city is still run by crooked people . albert patterson was not quite the saint the story wants you to believe . the <b style='color:blue'>tale</b> was filmed in phenix city . it still has some of the <b style='color:blue'>illustrious</b> sites in it that you see in the movie . the colonal funeral home still looks exactly the same . but if you are wanting the real history of sin city you have to visit us and find people willing to tell you about ma beachies and her kindness . she didnt <b style='color:blue'>got</b> the name ma for nothing ."
      ],
      "text/plain": [
       "<IPython.core.display.HTML object>"
      ]
     },
     "metadata": {},
     "output_type": "display_data"
    },
    {
     "name": "stdout",
     "output_type": "stream",
     "text": [
      "SUGGESTED REPLACEMENTS OPTION  2 : \n",
      "Original prediction: 0.330499\n"
     ]
    },
    {
     "data": {
      "text/html": [
       "the movie is a starter to what <b style='color:red'>really</b> happened in phenix city . im a grandchild of the people who really lived the story . the truth never has come out to my knowledge . i have tried to find the whole story out but the people who lived it are still scared to tell it . phenix city is still run by crooked people . albert patterson was not quite the saint the story wants you to believe . the <b style='color:red'>story</b> was filmed in phenix city . it still has some of the <b style='color:red'>famous</b> sites in it that you see in the movie . the colonal funeral home still looks exactly the same . but if you are wanting the real history of sin city you have to visit us and find people willing to tell you about ma beachies and her kindness . she didnt get the name ma for nothing ."
      ],
      "text/plain": [
       "<IPython.core.display.HTML object>"
      ]
     },
     "metadata": {},
     "output_type": "display_data"
    },
    {
     "name": "stdout",
     "output_type": "stream",
     "text": [
      "New prediction: 0.504056\n"
     ]
    },
    {
     "data": {
      "text/html": [
       "the movie is a starter to what <b style='color:blue'>genuinely</b> happened in phenix city . im a grandchild of the people who really lived the story . the truth never has come out to my knowledge . i have tried to find the whole story out but the people who lived it are still scared to tell it . phenix city is still run by crooked people . albert patterson was not quite the saint the story wants you to believe . the <b style='color:blue'>tale</b> was filmed in phenix city . it still has some of the <b style='color:blue'>illustrious</b> sites in it that you see in the movie . the colonal funeral home still looks exactly the same . but if you are wanting the real history of sin city you have to visit us and find people willing to tell you about ma beachies and her kindness . she didnt get the name ma for nothing ."
      ],
      "text/plain": [
       "<IPython.core.display.HTML object>"
      ]
     },
     "metadata": {},
     "output_type": "display_data"
    },
    {
     "name": "stdout",
     "output_type": "stream",
     "text": [
      "--------------------------------------------------\n",
      "#6   index = 20984\n",
      "FIX FAILED: Could not change classification\n",
      "--------------------------------------------------\n",
      "#7   index = 770\n",
      "FIX SUCCEEDED\n",
      "SUGGESTED REPLACEMENTS OPTION  0 : \n",
      "Original prediction: 0.330609\n"
     ]
    },
    {
     "data": {
      "text/html": [
       "i saw this movie for a first time years ago , when it was still new and i was satisfied . its a <b style='color:red'>great</b> hollywood make - belief story for teenagers . however , its not lifelike . as much as you would want to believe it , these stories never happen . thats why it is irritating to watch movies like that . they play with teenagers minds , just imagine how many girls still in high schools believed in that magic and got disappointed . i wouldnt recommend this movie to my little sister or my cousin . the director should have spent some more time thinking about the plot instead of thinking about actors . yes , they ( actors ) were good , but the idea isnt worth a 10 . there are a lot of films about teenagers . so why dont we make a better one ?"
      ],
      "text/plain": [
       "<IPython.core.display.HTML object>"
      ]
     },
     "metadata": {},
     "output_type": "display_data"
    },
    {
     "name": "stdout",
     "output_type": "stream",
     "text": [
      "New prediction: 0.731729\n"
     ]
    },
    {
     "data": {
      "text/html": [
       "i saw this movie for a first time years ago , when it was still new and i was satisfied . its a <b style='color:blue'>excellent</b> hollywood make - belief story for teenagers . however , its not lifelike . as much as you would want to believe it , these stories never happen . thats why it is irritating to watch movies like that . they play with teenagers minds , just imagine how many girls still in high schools believed in that magic and got disappointed . i wouldnt recommend this movie to my little sister or my cousin . the director should have spent some more time thinking about the plot instead of thinking about actors . yes , they ( actors ) were good , but the idea isnt worth a 10 . there are a lot of films about teenagers . so why dont we make a better one ?"
      ],
      "text/plain": [
       "<IPython.core.display.HTML object>"
      ]
     },
     "metadata": {},
     "output_type": "display_data"
    },
    {
     "name": "stdout",
     "output_type": "stream",
     "text": [
      "SUGGESTED REPLACEMENTS OPTION  1 : \n",
      "Original prediction: 0.330609\n"
     ]
    },
    {
     "data": {
      "text/html": [
       "i saw this movie for a first time years ago , when it was still new and i was satisfied . its a <b style='color:red'>great</b> hollywood make - belief story for teenagers . however , its not lifelike . as much as you would want to believe it , these stories never happen . thats why it is irritating to watch movies like that . they play with teenagers minds , just imagine how many girls still in high schools believed in that magic and got disappointed . i wouldnt recommend this movie to my little sister or my cousin . the director should have spent some more time thinking about the plot instead of thinking about actors . yes , they ( actors ) were good , but the idea isnt worth a 10 . there are a lot of films about teenagers . so why dont we make a better one ?"
      ],
      "text/plain": [
       "<IPython.core.display.HTML object>"
      ]
     },
     "metadata": {},
     "output_type": "display_data"
    },
    {
     "name": "stdout",
     "output_type": "stream",
     "text": [
      "New prediction: 0.725097\n"
     ]
    },
    {
     "data": {
      "text/html": [
       "i saw this movie for a first time years ago , when it was still new and i was satisfied . its a <b style='color:blue'>superb</b> hollywood make - belief story for teenagers . however , its not lifelike . as much as you would want to believe it , these stories never happen . thats why it is irritating to watch movies like that . they play with teenagers minds , just imagine how many girls still in high schools believed in that magic and got disappointed . i wouldnt recommend this movie to my little sister or my cousin . the director should have spent some more time thinking about the plot instead of thinking about actors . yes , they ( actors ) were good , but the idea isnt worth a 10 . there are a lot of films about teenagers . so why dont we make a better one ?"
      ],
      "text/plain": [
       "<IPython.core.display.HTML object>"
      ]
     },
     "metadata": {},
     "output_type": "display_data"
    },
    {
     "name": "stdout",
     "output_type": "stream",
     "text": [
      "SUGGESTED REPLACEMENTS OPTION  2 : \n",
      "Original prediction: 0.330609\n"
     ]
    },
    {
     "data": {
      "text/html": [
       "i saw this movie for a first time years ago , when it was still new and i was satisfied . its a <b style='color:red'>great</b> hollywood make - belief story for teenagers . however , its not lifelike . as much as you would want to believe it , these stories never happen . thats why it is irritating to watch movies like that . they play with teenagers minds , just imagine how many girls still in high schools believed in that magic and got disappointed . i wouldnt recommend this movie to my little sister or my cousin . the director should have spent some more time thinking about the plot instead of thinking about actors . yes , they ( actors ) were good , but the idea isnt worth a 10 . there are a lot of films about teenagers . so why dont we make a better one ?"
      ],
      "text/plain": [
       "<IPython.core.display.HTML object>"
      ]
     },
     "metadata": {},
     "output_type": "display_data"
    },
    {
     "name": "stdout",
     "output_type": "stream",
     "text": [
      "New prediction: 0.661297\n"
     ]
    },
    {
     "data": {
      "text/html": [
       "i saw this movie for a first time years ago , when it was still new and i was satisfied . its a <b style='color:blue'>splendid</b> hollywood make - belief story for teenagers . however , its not lifelike . as much as you would want to believe it , these stories never happen . thats why it is irritating to watch movies like that . they play with teenagers minds , just imagine how many girls still in high schools believed in that magic and got disappointed . i wouldnt recommend this movie to my little sister or my cousin . the director should have spent some more time thinking about the plot instead of thinking about actors . yes , they ( actors ) were good , but the idea isnt worth a 10 . there are a lot of films about teenagers . so why dont we make a better one ?"
      ],
      "text/plain": [
       "<IPython.core.display.HTML object>"
      ]
     },
     "metadata": {},
     "output_type": "display_data"
    },
    {
     "name": "stdout",
     "output_type": "stream",
     "text": [
      "SUGGESTED REPLACEMENTS OPTION  3 : \n",
      "Original prediction: 0.330609\n"
     ]
    },
    {
     "data": {
      "text/html": [
       "i saw this movie for a first time years ago , when it was still new and i was satisfied . its a <b style='color:red'>great</b> hollywood make - belief story for teenagers . however , its not lifelike . as much as you would want to believe it , these stories never happen . thats why it is irritating to watch movies like that . they play with teenagers minds , just imagine how many girls still in high schools believed in that magic and got disappointed . i wouldnt recommend this movie to my little sister or my cousin . the director should have spent some more time thinking about the plot instead of thinking about actors . yes , they ( actors ) were good , but the idea isnt worth a 10 . there are a lot of films about teenagers . so why dont we make a better one ?"
      ],
      "text/plain": [
       "<IPython.core.display.HTML object>"
      ]
     },
     "metadata": {},
     "output_type": "display_data"
    },
    {
     "name": "stdout",
     "output_type": "stream",
     "text": [
      "New prediction: 0.641756\n"
     ]
    },
    {
     "data": {
      "text/html": [
       "i saw this movie for a first time years ago , when it was still new and i was satisfied . its a <b style='color:blue'>wonderful</b> hollywood make - belief story for teenagers . however , its not lifelike . as much as you would want to believe it , these stories never happen . thats why it is irritating to watch movies like that . they play with teenagers minds , just imagine how many girls still in high schools believed in that magic and got disappointed . i wouldnt recommend this movie to my little sister or my cousin . the director should have spent some more time thinking about the plot instead of thinking about actors . yes , they ( actors ) were good , but the idea isnt worth a 10 . there are a lot of films about teenagers . so why dont we make a better one ?"
      ],
      "text/plain": [
       "<IPython.core.display.HTML object>"
      ]
     },
     "metadata": {},
     "output_type": "display_data"
    },
    {
     "name": "stdout",
     "output_type": "stream",
     "text": [
      "--------------------------------------------------\n",
      "#8   index = 22403\n",
      "FIX SUCCEEDED\n",
      "SUGGESTED REPLACEMENTS OPTION  0 : \n",
      "Original prediction: 0.912274\n"
     ]
    },
    {
     "data": {
      "text/html": [
       "i was <b style='color:red'>pleasantly</b> <b style='color:red'>surprised</b> with this one . its actually quite interesting and engaging . the cast is strong , even dan cortese . brooke shields has come into her own as an actress . black and white must have really set her free , cause i have never seen her in this much command playing a conventional character . if marketed right , could be a medium - size <b style='color:red'>hit</b> ."
      ],
      "text/plain": [
       "<IPython.core.display.HTML object>"
      ]
     },
     "metadata": {},
     "output_type": "display_data"
    },
    {
     "name": "stdout",
     "output_type": "stream",
     "text": [
      "New prediction: 0.378974\n"
     ]
    },
    {
     "data": {
      "text/html": [
       "i was <b style='color:blue'>agreeably</b> <b style='color:blue'>aghast</b> with this one . its actually quite interesting and engaging . the cast is strong , even dan cortese . brooke shields has come into her own as an actress . black and white must have really set her free , cause i have never seen her in this much command playing a conventional character . if marketed right , could be a medium - size <b style='color:blue'>strike</b> ."
      ],
      "text/plain": [
       "<IPython.core.display.HTML object>"
      ]
     },
     "metadata": {},
     "output_type": "display_data"
    },
    {
     "name": "stdout",
     "output_type": "stream",
     "text": [
      "SUGGESTED REPLACEMENTS OPTION  1 : \n",
      "Original prediction: 0.912274\n"
     ]
    },
    {
     "data": {
      "text/html": [
       "i was <b style='color:red'>pleasantly</b> <b style='color:red'>surprised</b> with this one . its actually quite interesting and engaging . the <b style='color:red'>cast</b> is strong , even dan cortese . brooke shields has come into her own as an actress . black and white must have really set her free , cause i have never seen her in this much command playing a conventional character . if marketed right , could be a medium - size hit ."
      ],
      "text/plain": [
       "<IPython.core.display.HTML object>"
      ]
     },
     "metadata": {},
     "output_type": "display_data"
    },
    {
     "name": "stdout",
     "output_type": "stream",
     "text": [
      "New prediction: 0.489964\n"
     ]
    },
    {
     "data": {
      "text/html": [
       "i was <b style='color:blue'>agreeably</b> <b style='color:blue'>aghast</b> with this one . its actually quite interesting and engaging . the <b style='color:blue'>casting</b> is strong , even dan cortese . brooke shields has come into her own as an actress . black and white must have really set her free , cause i have never seen her in this much command playing a conventional character . if marketed right , could be a medium - size hit ."
      ],
      "text/plain": [
       "<IPython.core.display.HTML object>"
      ]
     },
     "metadata": {},
     "output_type": "display_data"
    },
    {
     "name": "stdout",
     "output_type": "stream",
     "text": [
      "--------------------------------------------------\n",
      "#9   index = 20499\n",
      "FIX SUCCEEDED\n",
      "SUGGESTED REPLACEMENTS OPTION  0 : \n",
      "Original prediction: 0.692838\n"
     ]
    },
    {
     "data": {
      "text/html": [
       "entails . <b style='color:red'>indeed</b> , the only time the film is remotely <b style='color:red'>exciting</b> and unpredictable , is the jerky , hand - held footage shot from the bridge during choppy weather conditions . ( incidentally , a boat cruise from malaysia to new york via the cape of good hope and the african coast , without stopping for fuel or supplies , is certainly an epic journey ) . the beautiful shot of the new york skyline echoes malicks use of magic hour , but i want to know why the coast guard didnt show up . perhaps they were watching the super bowl , or something . of course , binh manages to track down his blind old dad on a remote farm in texas , with the same navigational flair he displayed in ho chi minh city . i was impressed at how nick nolte could wander around digging fields and feeding horses on a large ranch without the aid of a guide dog or white stick . for demonstration of how a story about the travails befalling refugees could be structured and shot on a small budget , check out michael winterbottoms far superior in this world ."
      ],
      "text/plain": [
       "<IPython.core.display.HTML object>"
      ]
     },
     "metadata": {},
     "output_type": "display_data"
    },
    {
     "name": "stdout",
     "output_type": "stream",
     "text": [
      "New prediction: 0.384478\n"
     ]
    },
    {
     "data": {
      "text/html": [
       "entails . <b style='color:blue'>assuredly</b> , the only time the film is remotely <b style='color:blue'>intriguing</b> and unpredictable , is the jerky , hand - held footage shot from the bridge during choppy weather conditions . ( incidentally , a boat cruise from malaysia to new york via the cape of good hope and the african coast , without stopping for fuel or supplies , is certainly an epic journey ) . the beautiful shot of the new york skyline echoes malicks use of magic hour , but i want to know why the coast guard didnt show up . perhaps they were watching the super bowl , or something . of course , binh manages to track down his blind old dad on a remote farm in texas , with the same navigational flair he displayed in ho chi minh city . i was impressed at how nick nolte could wander around digging fields and feeding horses on a large ranch without the aid of a guide dog or white stick . for demonstration of how a story about the travails befalling refugees could be structured and shot on a small budget , check out michael winterbottoms far superior in this world ."
      ],
      "text/plain": [
       "<IPython.core.display.HTML object>"
      ]
     },
     "metadata": {},
     "output_type": "display_data"
    },
    {
     "name": "stdout",
     "output_type": "stream",
     "text": [
      "SUGGESTED REPLACEMENTS OPTION  1 : \n",
      "Original prediction: 0.692838\n"
     ]
    },
    {
     "data": {
      "text/html": [
       "entails . indeed , the only time the film is remotely <b style='color:red'>exciting</b> and unpredictable , is the jerky , hand - held footage shot from the bridge during choppy weather conditions . ( incidentally , a boat cruise from malaysia to new york via the cape of good hope and the african coast , without stopping for fuel or supplies , is <b style='color:red'>certainly</b> an epic journey ) . the beautiful shot of the new york skyline echoes malicks use of magic hour , but i want to know why the coast guard didnt show up . perhaps they were watching the super bowl , or something . of course , binh manages to track down his blind old dad on a remote farm in texas , with the same navigational flair he displayed in ho chi minh city . i was impressed at how nick nolte could wander around digging fields and feeding horses on a large ranch without the aid of a guide dog or white stick . for demonstration of how a story about the travails befalling refugees could be structured and shot on a small budget , check out michael winterbottoms far superior in this world ."
      ],
      "text/plain": [
       "<IPython.core.display.HTML object>"
      ]
     },
     "metadata": {},
     "output_type": "display_data"
    },
    {
     "name": "stdout",
     "output_type": "stream",
     "text": [
      "New prediction: 0.388938\n"
     ]
    },
    {
     "data": {
      "text/html": [
       "entails . indeed , the only time the film is remotely <b style='color:blue'>intriguing</b> and unpredictable , is the jerky , hand - held footage shot from the bridge during choppy weather conditions . ( incidentally , a boat cruise from malaysia to new york via the cape of good hope and the african coast , without stopping for fuel or supplies , is <b style='color:blue'>definitively</b> an epic journey ) . the beautiful shot of the new york skyline echoes malicks use of magic hour , but i want to know why the coast guard didnt show up . perhaps they were watching the super bowl , or something . of course , binh manages to track down his blind old dad on a remote farm in texas , with the same navigational flair he displayed in ho chi minh city . i was impressed at how nick nolte could wander around digging fields and feeding horses on a large ranch without the aid of a guide dog or white stick . for demonstration of how a story about the travails befalling refugees could be structured and shot on a small budget , check out michael winterbottoms far superior in this world ."
      ],
      "text/plain": [
       "<IPython.core.display.HTML object>"
      ]
     },
     "metadata": {},
     "output_type": "display_data"
    },
    {
     "name": "stdout",
     "output_type": "stream",
     "text": [
      "SUGGESTED REPLACEMENTS OPTION  2 : \n",
      "Original prediction: 0.692838\n"
     ]
    },
    {
     "data": {
      "text/html": [
       "entails . indeed , the only time the film is remotely <b style='color:red'>exciting</b> and <b style='color:red'>unpredictable</b> , is the jerky , hand - held footage shot from the bridge during choppy weather conditions . ( incidentally , a boat cruise from malaysia to new york via the cape of good hope and the african coast , without stopping for fuel or supplies , is certainly an epic journey ) . the beautiful shot of the new york skyline echoes malicks use of magic hour , but i want to know why the coast guard didnt show up . perhaps they were watching the super bowl , or something . of course , binh manages to track down his blind old dad on a remote farm in texas , with the same navigational flair he displayed in ho chi minh city . i was impressed at how nick nolte could wander around digging fields and feeding horses on a large ranch without the aid of a guide dog or white stick . for demonstration of how a story about the travails befalling refugees could be structured and shot on a small budget , check out michael winterbottoms far superior in this world ."
      ],
      "text/plain": [
       "<IPython.core.display.HTML object>"
      ]
     },
     "metadata": {},
     "output_type": "display_data"
    },
    {
     "name": "stdout",
     "output_type": "stream",
     "text": [
      "New prediction: 0.403471\n"
     ]
    },
    {
     "data": {
      "text/html": [
       "entails . indeed , the only time the film is remotely <b style='color:blue'>intriguing</b> and <b style='color:blue'>unforeseeable</b> , is the jerky , hand - held footage shot from the bridge during choppy weather conditions . ( incidentally , a boat cruise from malaysia to new york via the cape of good hope and the african coast , without stopping for fuel or supplies , is certainly an epic journey ) . the beautiful shot of the new york skyline echoes malicks use of magic hour , but i want to know why the coast guard didnt show up . perhaps they were watching the super bowl , or something . of course , binh manages to track down his blind old dad on a remote farm in texas , with the same navigational flair he displayed in ho chi minh city . i was impressed at how nick nolte could wander around digging fields and feeding horses on a large ranch without the aid of a guide dog or white stick . for demonstration of how a story about the travails befalling refugees could be structured and shot on a small budget , check out michael winterbottoms far superior in this world ."
      ],
      "text/plain": [
       "<IPython.core.display.HTML object>"
      ]
     },
     "metadata": {},
     "output_type": "display_data"
    },
    {
     "name": "stdout",
     "output_type": "stream",
     "text": [
      "SUGGESTED REPLACEMENTS OPTION  3 : \n",
      "Original prediction: 0.692838\n"
     ]
    },
    {
     "data": {
      "text/html": [
       "entails . indeed , the only time the film is remotely <b style='color:red'>exciting</b> and unpredictable , is the jerky , hand - held footage shot from the bridge during choppy weather conditions . ( incidentally , a boat cruise from malaysia to new york via the cape of good hope and the african coast , without stopping for fuel or supplies , is certainly an epic journey ) . the beautiful shot of the new york skyline echoes malicks use of magic hour , but i want to know why the coast guard didnt show up . perhaps they were watching the super bowl , or something . of course , binh manages to track down his blind old dad on a remote farm in texas , with the same navigational flair he displayed in ho chi minh city . i was impressed at how nick nolte could wander around digging fields and feeding horses on a large ranch without the aid of a guide dog or white stick . for demonstration of how a story about the travails befalling refugees could be structured and shot on a small budget , <b style='color:red'>check</b> out michael winterbottoms far superior in this world ."
      ],
      "text/plain": [
       "<IPython.core.display.HTML object>"
      ]
     },
     "metadata": {},
     "output_type": "display_data"
    },
    {
     "name": "stdout",
     "output_type": "stream",
     "text": [
      "New prediction: 0.430243\n"
     ]
    },
    {
     "data": {
      "text/html": [
       "entails . indeed , the only time the film is remotely <b style='color:blue'>intriguing</b> and unpredictable , is the jerky , hand - held footage shot from the bridge during choppy weather conditions . ( incidentally , a boat cruise from malaysia to new york via the cape of good hope and the african coast , without stopping for fuel or supplies , is certainly an epic journey ) . the beautiful shot of the new york skyline echoes malicks use of magic hour , but i want to know why the coast guard didnt show up . perhaps they were watching the super bowl , or something . of course , binh manages to track down his blind old dad on a remote farm in texas , with the same navigational flair he displayed in ho chi minh city . i was impressed at how nick nolte could wander around digging fields and feeding horses on a large ranch without the aid of a guide dog or white stick . for demonstration of how a story about the travails befalling refugees could be structured and shot on a small budget , <b style='color:blue'>inspect</b> out michael winterbottoms far superior in this world ."
      ],
      "text/plain": [
       "<IPython.core.display.HTML object>"
      ]
     },
     "metadata": {},
     "output_type": "display_data"
    },
    {
     "name": "stdout",
     "output_type": "stream",
     "text": [
      "--------------------------------------------------\n"
     ]
    }
   ],
   "source": [
    "none_fix_result.visualize(max_display_count = 10, show_successful_only = True)"
   ]
  },
  {
   "cell_type": "code",
   "execution_count": 17,
   "metadata": {},
   "outputs": [
    {
     "data": {
      "text/plain": [
       "', that entire trip is missing from the story , and so is most of what goes on at the theatrical rehearsals and most of what discomfits sir thomas on his return ; and in fact sir thomas himself , and his wife , are different from what they were . above all , the scene in which crawford proposes to fanny , one of austens most complex , is simplified to a bare telling ; missing from it is fannys staunch upholding of what she knows to be right , and what she knows to be very probably true , against all the distractions crawford and anybody else can throw at her . to a male reader , now no less than when it was written , it reveals with unmatched clarity - - unmatched , at any rate , as far as i know - - what a woman goes through in trying to deal fairly but firmly with a man she has reason to distrust . its a brilliant scene , in the novel ; on tv its just a scene . and , fanny , oh , fanny : when will we see your like ?'"
      ]
     },
     "execution_count": 17,
     "metadata": {},
     "output_type": "execute_result"
    }
   ],
   "source": [
    "none_fix_result.original_texts[43]"
   ]
  },
  {
   "cell_type": "code",
   "execution_count": 21,
   "metadata": {},
   "outputs": [
    {
     "data": {
      "text/plain": [
       "0.9918126"
      ]
     },
     "execution_count": 21,
     "metadata": {},
     "output_type": "execute_result"
    }
   ],
   "source": [
    "none_fix_result.original_predictions[43]"
   ]
  },
  {
   "cell_type": "code",
   "execution_count": 22,
   "metadata": {},
   "outputs": [
    {
     "data": {
      "text/plain": [
       "[([(171, 'brilliant', 'grandiose'),\n",
       "   (67, 'complex', 'convoluted'),\n",
       "   (129, 'reveals', 'discloses'),\n",
       "   (159, 'firmly', 'categorically'),\n",
       "   (70, 'simplified', 'rationalized'),\n",
       "   (131, 'unmatched', 'unprecedented'),\n",
       "   (135, 'unmatched', 'unprecedented')],\n",
       "  0.4240751),\n",
       " ([(171, 'brilliant', 'grandiose'),\n",
       "   (67, 'complex', 'convoluted'),\n",
       "   (129, 'reveals', 'discloses'),\n",
       "   (159, 'firmly', 'categorically'),\n",
       "   (70, 'simplified', 'rationalized'),\n",
       "   (131, 'unmatched', 'unprecedented'),\n",
       "   (189, 'oh', 'ah')],\n",
       "  0.45181993),\n",
       " ([(171, 'brilliant', 'grandiose'),\n",
       "   (67, 'complex', 'convoluted'),\n",
       "   (129, 'reveals', 'discloses'),\n",
       "   (159, 'firmly', 'categorically'),\n",
       "   (70, 'simplified', 'rationalized'),\n",
       "   (131, 'unmatched', 'unprecedented'),\n",
       "   (16, 'goes', 'disappears')],\n",
       "  0.45224956),\n",
       " ([(171, 'brilliant', 'grandiose'),\n",
       "   (67, 'complex', 'convoluted'),\n",
       "   (129, 'reveals', 'discloses'),\n",
       "   (159, 'firmly', 'categorically'),\n",
       "   (70, 'simplified', 'rationalized'),\n",
       "   (131, 'unmatched', 'unprecedented'),\n",
       "   (135, 'unmatched', 'incomparable')],\n",
       "  0.45911887)]"
      ]
     },
     "execution_count": 22,
     "metadata": {},
     "output_type": "execute_result"
    }
   ],
   "source": [
    "none_fix_result.replacements[43]"
   ]
  }
 ],
 "metadata": {
  "kernelspec": {
   "display_name": "Python 3",
   "language": "python",
   "name": "python3"
  },
  "language_info": {
   "codemirror_mode": {
    "name": "ipython",
    "version": 3
   },
   "file_extension": ".py",
   "mimetype": "text/x-python",
   "name": "python",
   "nbconvert_exporter": "python",
   "pygments_lexer": "ipython3",
   "version": "3.7.1"
  }
 },
 "nbformat": 4,
 "nbformat_minor": 2
}
